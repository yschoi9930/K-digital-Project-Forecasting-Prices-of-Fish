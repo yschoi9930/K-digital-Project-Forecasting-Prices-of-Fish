{
 "cells": [
  {
   "cell_type": "code",
   "execution_count": 1,
   "metadata": {
    "ExecuteTime": {
     "end_time": "2021-04-26T12:19:52.179690Z",
     "start_time": "2021-04-26T12:19:50.104275Z"
    }
   },
   "outputs": [],
   "source": [
    "import selenium\n",
    "from selenium import webdriver\n",
    "from urllib.parse import quote\n",
    "import requests\n",
    "from bs4 import BeautifulSoup\n",
    "import pandas as pd\n",
    "import numpy as np\n",
    "import string\n",
    "import matplotlib.pyplot as plt\n",
    "%matplotlib inline\n",
    "import platform\n",
    "from scipy.stats import *\n",
    "from matplotlib import font_manager, rc\n",
    "plt.rcParams['axes.unicode_minus'] = False\n",
    "\n",
    "if platform.system() == 'Darwin':  # 맥OS \n",
    "    rc('font', family='AppleGothic')\n",
    "elif platform.system() == 'Windows': \n",
    "    # 윈도우   \n",
    "    path = \"c:/Windows/Fonts/malgun.ttf\"\n",
    "    font_name = font_manager.FontProperties(fname=path).get_name()\n",
    "    rc('font', family=font_name)\n",
    "else:\n",
    "    print('Unknown system...  sorry~~~')"
   ]
  },
  {
   "cell_type": "code",
   "execution_count": 2,
   "metadata": {
    "ExecuteTime": {
     "end_time": "2021-04-26T12:20:08.623534Z",
     "start_time": "2021-04-26T12:20:07.903272Z"
    }
   },
   "outputs": [],
   "source": [
    "import statsmodels.api as sm\n",
    "from statsmodels.tsa.api import VAR\n",
    "from statsmodels.tsa.stattools import adfuller"
   ]
  },
  {
   "cell_type": "code",
   "execution_count": 14,
   "metadata": {
    "ExecuteTime": {
     "end_time": "2021-04-26T12:31:18.331560Z",
     "start_time": "2021-04-26T12:31:18.305936Z"
    }
   },
   "outputs": [],
   "source": [
    "data = pd.read_csv('./final/시계열.csv', index_col=0)"
   ]
  },
  {
   "cell_type": "code",
   "execution_count": 16,
   "metadata": {
    "ExecuteTime": {
     "end_time": "2021-04-26T12:31:36.216563Z",
     "start_time": "2021-04-26T12:31:36.192533Z"
    }
   },
   "outputs": [
    {
     "data": {
      "text/html": [
       "<div>\n",
       "<style scoped>\n",
       "    .dataframe tbody tr th:only-of-type {\n",
       "        vertical-align: middle;\n",
       "    }\n",
       "\n",
       "    .dataframe tbody tr th {\n",
       "        vertical-align: top;\n",
       "    }\n",
       "\n",
       "    .dataframe thead th {\n",
       "        text-align: right;\n",
       "    }\n",
       "</style>\n",
       "<table border=\"1\" class=\"dataframe\">\n",
       "  <thead>\n",
       "    <tr style=\"text-align: right;\">\n",
       "      <th></th>\n",
       "      <th>qty</th>\n",
       "      <th>1kg price</th>\n",
       "      <th>temp</th>\n",
       "      <th>temp_sc</th>\n",
       "      <th>qty_sc</th>\n",
       "    </tr>\n",
       "  </thead>\n",
       "  <tbody>\n",
       "    <tr>\n",
       "      <th>2006-04-04</th>\n",
       "      <td>978.3</td>\n",
       "      <td>4948.71</td>\n",
       "      <td>12.02</td>\n",
       "      <td>-0.853048</td>\n",
       "      <td>-0.652525</td>\n",
       "    </tr>\n",
       "    <tr>\n",
       "      <th>2006-04-05</th>\n",
       "      <td>4600.7</td>\n",
       "      <td>4447.32</td>\n",
       "      <td>11.90</td>\n",
       "      <td>-0.876107</td>\n",
       "      <td>0.042461</td>\n",
       "    </tr>\n",
       "    <tr>\n",
       "      <th>2006-04-06</th>\n",
       "      <td>3842.2</td>\n",
       "      <td>4620.74</td>\n",
       "      <td>12.12</td>\n",
       "      <td>-0.833833</td>\n",
       "      <td>-0.103063</td>\n",
       "    </tr>\n",
       "    <tr>\n",
       "      <th>2006-04-07</th>\n",
       "      <td>4777.3</td>\n",
       "      <td>4060.83</td>\n",
       "      <td>12.18</td>\n",
       "      <td>-0.822304</td>\n",
       "      <td>0.076343</td>\n",
       "    </tr>\n",
       "    <tr>\n",
       "      <th>2006-04-08</th>\n",
       "      <td>4773.5</td>\n",
       "      <td>4547.00</td>\n",
       "      <td>12.17</td>\n",
       "      <td>-0.824225</td>\n",
       "      <td>0.075614</td>\n",
       "    </tr>\n",
       "    <tr>\n",
       "      <th>...</th>\n",
       "      <td>...</td>\n",
       "      <td>...</td>\n",
       "      <td>...</td>\n",
       "      <td>...</td>\n",
       "      <td>...</td>\n",
       "    </tr>\n",
       "    <tr>\n",
       "      <th>2021-04-04</th>\n",
       "      <td>561.4</td>\n",
       "      <td>4642.59</td>\n",
       "      <td>13.30</td>\n",
       "      <td>-0.607090</td>\n",
       "      <td>-0.732510</td>\n",
       "    </tr>\n",
       "    <tr>\n",
       "      <th>2021-04-05</th>\n",
       "      <td>421.1</td>\n",
       "      <td>5653.34</td>\n",
       "      <td>13.32</td>\n",
       "      <td>-0.603247</td>\n",
       "      <td>-0.759428</td>\n",
       "    </tr>\n",
       "    <tr>\n",
       "      <th>2021-04-06</th>\n",
       "      <td>290.7</td>\n",
       "      <td>7392.06</td>\n",
       "      <td>13.35</td>\n",
       "      <td>-0.597483</td>\n",
       "      <td>-0.784446</td>\n",
       "    </tr>\n",
       "    <tr>\n",
       "      <th>2021-04-07</th>\n",
       "      <td>399.9</td>\n",
       "      <td>7735.17</td>\n",
       "      <td>13.42</td>\n",
       "      <td>-0.584032</td>\n",
       "      <td>-0.763496</td>\n",
       "    </tr>\n",
       "    <tr>\n",
       "      <th>2021-04-08</th>\n",
       "      <td>418.7</td>\n",
       "      <td>8752.01</td>\n",
       "      <td>13.58</td>\n",
       "      <td>-0.553287</td>\n",
       "      <td>-0.759889</td>\n",
       "    </tr>\n",
       "  </tbody>\n",
       "</table>\n",
       "<p>5484 rows × 5 columns</p>\n",
       "</div>"
      ],
      "text/plain": [
       "               qty  1kg price   temp   temp_sc    qty_sc\n",
       "2006-04-04   978.3    4948.71  12.02 -0.853048 -0.652525\n",
       "2006-04-05  4600.7    4447.32  11.90 -0.876107  0.042461\n",
       "2006-04-06  3842.2    4620.74  12.12 -0.833833 -0.103063\n",
       "2006-04-07  4777.3    4060.83  12.18 -0.822304  0.076343\n",
       "2006-04-08  4773.5    4547.00  12.17 -0.824225  0.075614\n",
       "...            ...        ...    ...       ...       ...\n",
       "2021-04-04   561.4    4642.59  13.30 -0.607090 -0.732510\n",
       "2021-04-05   421.1    5653.34  13.32 -0.603247 -0.759428\n",
       "2021-04-06   290.7    7392.06  13.35 -0.597483 -0.784446\n",
       "2021-04-07   399.9    7735.17  13.42 -0.584032 -0.763496\n",
       "2021-04-08   418.7    8752.01  13.58 -0.553287 -0.759889\n",
       "\n",
       "[5484 rows x 5 columns]"
      ]
     },
     "execution_count": 16,
     "metadata": {},
     "output_type": "execute_result"
    }
   ],
   "source": [
    "data"
   ]
  },
  {
   "cell_type": "code",
   "execution_count": 18,
   "metadata": {
    "ExecuteTime": {
     "end_time": "2021-04-26T12:31:56.000653Z",
     "start_time": "2021-04-26T12:31:55.993595Z"
    }
   },
   "outputs": [],
   "source": [
    "mydata = data[[\"qty_sc\", '1kg price','temp_sc']]"
   ]
  },
  {
   "cell_type": "code",
   "execution_count": 19,
   "metadata": {
    "ExecuteTime": {
     "end_time": "2021-04-26T12:31:58.686555Z",
     "start_time": "2021-04-26T12:31:58.656802Z"
    }
   },
   "outputs": [
    {
     "data": {
      "text/html": [
       "<div>\n",
       "<style scoped>\n",
       "    .dataframe tbody tr th:only-of-type {\n",
       "        vertical-align: middle;\n",
       "    }\n",
       "\n",
       "    .dataframe tbody tr th {\n",
       "        vertical-align: top;\n",
       "    }\n",
       "\n",
       "    .dataframe thead th {\n",
       "        text-align: right;\n",
       "    }\n",
       "</style>\n",
       "<table border=\"1\" class=\"dataframe\">\n",
       "  <thead>\n",
       "    <tr style=\"text-align: right;\">\n",
       "      <th></th>\n",
       "      <th>qty_sc</th>\n",
       "      <th>1kg price</th>\n",
       "      <th>temp_sc</th>\n",
       "    </tr>\n",
       "  </thead>\n",
       "  <tbody>\n",
       "    <tr>\n",
       "      <th>2006-04-04</th>\n",
       "      <td>-0.652525</td>\n",
       "      <td>4948.71</td>\n",
       "      <td>-0.853048</td>\n",
       "    </tr>\n",
       "    <tr>\n",
       "      <th>2006-04-05</th>\n",
       "      <td>0.042461</td>\n",
       "      <td>4447.32</td>\n",
       "      <td>-0.876107</td>\n",
       "    </tr>\n",
       "    <tr>\n",
       "      <th>2006-04-06</th>\n",
       "      <td>-0.103063</td>\n",
       "      <td>4620.74</td>\n",
       "      <td>-0.833833</td>\n",
       "    </tr>\n",
       "    <tr>\n",
       "      <th>2006-04-07</th>\n",
       "      <td>0.076343</td>\n",
       "      <td>4060.83</td>\n",
       "      <td>-0.822304</td>\n",
       "    </tr>\n",
       "    <tr>\n",
       "      <th>2006-04-08</th>\n",
       "      <td>0.075614</td>\n",
       "      <td>4547.00</td>\n",
       "      <td>-0.824225</td>\n",
       "    </tr>\n",
       "    <tr>\n",
       "      <th>...</th>\n",
       "      <td>...</td>\n",
       "      <td>...</td>\n",
       "      <td>...</td>\n",
       "    </tr>\n",
       "    <tr>\n",
       "      <th>2021-04-04</th>\n",
       "      <td>-0.732510</td>\n",
       "      <td>4642.59</td>\n",
       "      <td>-0.607090</td>\n",
       "    </tr>\n",
       "    <tr>\n",
       "      <th>2021-04-05</th>\n",
       "      <td>-0.759428</td>\n",
       "      <td>5653.34</td>\n",
       "      <td>-0.603247</td>\n",
       "    </tr>\n",
       "    <tr>\n",
       "      <th>2021-04-06</th>\n",
       "      <td>-0.784446</td>\n",
       "      <td>7392.06</td>\n",
       "      <td>-0.597483</td>\n",
       "    </tr>\n",
       "    <tr>\n",
       "      <th>2021-04-07</th>\n",
       "      <td>-0.763496</td>\n",
       "      <td>7735.17</td>\n",
       "      <td>-0.584032</td>\n",
       "    </tr>\n",
       "    <tr>\n",
       "      <th>2021-04-08</th>\n",
       "      <td>-0.759889</td>\n",
       "      <td>8752.01</td>\n",
       "      <td>-0.553287</td>\n",
       "    </tr>\n",
       "  </tbody>\n",
       "</table>\n",
       "<p>5484 rows × 3 columns</p>\n",
       "</div>"
      ],
      "text/plain": [
       "              qty_sc  1kg price   temp_sc\n",
       "2006-04-04 -0.652525    4948.71 -0.853048\n",
       "2006-04-05  0.042461    4447.32 -0.876107\n",
       "2006-04-06 -0.103063    4620.74 -0.833833\n",
       "2006-04-07  0.076343    4060.83 -0.822304\n",
       "2006-04-08  0.075614    4547.00 -0.824225\n",
       "...              ...        ...       ...\n",
       "2021-04-04 -0.732510    4642.59 -0.607090\n",
       "2021-04-05 -0.759428    5653.34 -0.603247\n",
       "2021-04-06 -0.784446    7392.06 -0.597483\n",
       "2021-04-07 -0.763496    7735.17 -0.584032\n",
       "2021-04-08 -0.759889    8752.01 -0.553287\n",
       "\n",
       "[5484 rows x 3 columns]"
      ]
     },
     "execution_count": 19,
     "metadata": {},
     "output_type": "execute_result"
    }
   ],
   "source": [
    "mydata"
   ]
  },
  {
   "cell_type": "code",
   "execution_count": 20,
   "metadata": {
    "ExecuteTime": {
     "end_time": "2021-04-26T12:33:45.004755Z",
     "start_time": "2021-04-26T12:33:44.657018Z"
    }
   },
   "outputs": [
    {
     "name": "stdout",
     "output_type": "stream",
     "text": [
      "원 데이터 ADF Statistic: -6.292\n",
      "원 데이터 p-value: 0.000\n",
      "1차 차분 ADF Statistic: -22.637\n",
      "1차 차분 p-value: 0.000\n"
     ]
    }
   ],
   "source": [
    "y = mydata['1kg price']\n",
    "y_1diff = mydata['1kg price'].diff().dropna()\n",
    "result = adfuller(y)\n",
    "print(f'원 데이터 ADF Statistic: {result[0]:.3f}')\n",
    "print(f'원 데이터 p-value: {result[1]:.3f}')\n",
    "result = adfuller(y_1diff)\n",
    "print(f'1차 차분 ADF Statistic: {result[0]:.3f}')\n",
    "print(f'1차 차분 p-value: {result[1]:.3f}')"
   ]
  },
  {
   "cell_type": "code",
   "execution_count": 22,
   "metadata": {
    "ExecuteTime": {
     "end_time": "2021-04-26T12:34:05.494102Z",
     "start_time": "2021-04-26T12:34:05.157507Z"
    }
   },
   "outputs": [
    {
     "name": "stdout",
     "output_type": "stream",
     "text": [
      "원 데이터 ADF Statistic: -5.383\n",
      "원 데이터 p-value: 0.000\n",
      "1차 차분 ADF Statistic: -13.997\n",
      "1차 차분 p-value: 0.000\n"
     ]
    }
   ],
   "source": [
    "y = mydata['qty_sc']\n",
    "y_1diff = mydata['qty_sc'].diff().dropna()\n",
    "result = adfuller(y)\n",
    "print(f'원 데이터 ADF Statistic: {result[0]:.3f}')\n",
    "print(f'원 데이터 p-value: {result[1]:.3f}')\n",
    "result = adfuller(y_1diff)\n",
    "print(f'1차 차분 ADF Statistic: {result[0]:.3f}')\n",
    "print(f'1차 차분 p-value: {result[1]:.3f}')"
   ]
  },
  {
   "cell_type": "code",
   "execution_count": 23,
   "metadata": {
    "ExecuteTime": {
     "end_time": "2021-04-26T12:34:22.396422Z",
     "start_time": "2021-04-26T12:34:22.069949Z"
    }
   },
   "outputs": [
    {
     "name": "stdout",
     "output_type": "stream",
     "text": [
      "원 데이터 ADF Statistic: -8.722\n",
      "원 데이터 p-value: 0.000\n",
      "1차 차분 ADF Statistic: -13.997\n",
      "1차 차분 p-value: 0.000\n"
     ]
    }
   ],
   "source": [
    "y = mydata['temp_sc']\n",
    "y_1diff = mydata['qty_sc'].diff().dropna()\n",
    "result = adfuller(y)\n",
    "print(f'원 데이터 ADF Statistic: {result[0]:.3f}')\n",
    "print(f'원 데이터 p-value: {result[1]:.3f}')\n",
    "result = adfuller(y_1diff)\n",
    "print(f'1차 차분 ADF Statistic: {result[0]:.3f}')\n",
    "print(f'1차 차분 p-value: {result[1]:.3f}')"
   ]
  },
  {
   "cell_type": "code",
   "execution_count": 24,
   "metadata": {
    "ExecuteTime": {
     "end_time": "2021-04-26T12:35:51.155486Z",
     "start_time": "2021-04-26T12:35:51.147434Z"
    }
   },
   "outputs": [],
   "source": [
    "train = mydata.iloc[:-10,:]\n",
    "test = mydata.iloc[-10:,:]"
   ]
  },
  {
   "cell_type": "code",
   "execution_count": 37,
   "metadata": {
    "ExecuteTime": {
     "end_time": "2021-04-26T12:40:19.729570Z",
     "start_time": "2021-04-26T12:40:19.302785Z"
    }
   },
   "outputs": [
    {
     "name": "stderr",
     "output_type": "stream",
     "text": [
      "C:\\Users\\choi yeseul\\anaconda3\\lib\\site-packages\\statsmodels\\tsa\\base\\tsa_model.py:524: ValueWarning: No frequency information was provided, so inferred frequency D will be used.\n",
      "  warnings.warn('No frequency information was'\n"
     ]
    }
   ],
   "source": [
    "forecasting_model = VAR(train)\n",
    "results_aic = []\n",
    "for p in range(1,20):\n",
    "    results = forecasting_model.fit(p)\n",
    "    results_aic.append(results.aic)"
   ]
  },
  {
   "cell_type": "code",
   "execution_count": 28,
   "metadata": {
    "ExecuteTime": {
     "end_time": "2021-04-26T12:36:31.158074Z",
     "start_time": "2021-04-26T12:36:30.968392Z"
    }
   },
   "outputs": [],
   "source": [
    "import seaborn as sns"
   ]
  },
  {
   "cell_type": "code",
   "execution_count": 38,
   "metadata": {
    "ExecuteTime": {
     "end_time": "2021-04-26T12:40:22.190547Z",
     "start_time": "2021-04-26T12:40:21.987796Z"
    }
   },
   "outputs": [
    {
     "data": {
      "image/png": "[encoded data removed]",
      "text/plain": [
       "<Figure size 432x288 with 1 Axes>"
      ]
     },
     "metadata": {},
     "output_type": "display_data"
    }
   ],
   "source": [
    "sns.set()\n",
    "plt.plot(list(np.arange(1,20,1)), results_aic)\n",
    "plt.xlabel(\"Order\")\n",
    "plt.ylabel(\"AIC\")\n",
    "plt.show()"
   ]
  },
  {
   "cell_type": "code",
   "execution_count": 40,
   "metadata": {
    "ExecuteTime": {
     "end_time": "2021-04-26T13:00:52.435086Z",
     "start_time": "2021-04-26T13:00:52.427925Z"
    }
   },
   "outputs": [
    {
     "data": {
      "text/plain": [
       "0.08944271909999159"
      ]
     },
     "execution_count": 40,
     "metadata": {},
     "output_type": "execute_result"
    }
   ],
   "source": [
    "np.sqrt(0.008)"
   ]
  },
  {
   "cell_type": "code",
   "execution_count": null,
   "metadata": {},
   "outputs": [],
   "source": []
  },
  {
   "cell_type": "code",
   "execution_count": null,
   "metadata": {},
   "outputs": [],
   "source": []
  },
  {
   "cell_type": "code",
   "execution_count": null,
   "metadata": {},
   "outputs": [],
   "source": []
  }
 ],
 "metadata": {
  "kernelspec": {
   "display_name": "Python 3",
   "language": "python",
   "name": "python3"
  },
  "language_info": {
   "codemirror_mode": {
    "name": "ipython",
    "version": 3
   },
   "file_extension": ".py",
   "mimetype": "text/x-python",
   "name": "python",
   "nbconvert_exporter": "python",
   "pygments_lexer": "ipython3",
   "version": "3.8.5"
  },
  "toc": {
   "base_numbering": 1,
   "nav_menu": {},
   "number_sections": true,
   "sideBar": true,
   "skip_h1_title": false,
   "title_cell": "Table of Contents",
   "title_sidebar": "Contents",
   "toc_cell": false,
   "toc_position": {},
   "toc_section_display": true,
   "toc_window_display": false
  },
  "varInspector": {
   "cols": {
    "lenName": 16,
    "lenType": 16,
    "lenVar": 40
   },
   "kernels_config": {
    "python": {
     "delete_cmd_postfix": "",
     "delete_cmd_prefix": "del ",
     "library": "var_list.py",
     "varRefreshCmd": "print(var_dic_list())"
    },
    "r": {
     "delete_cmd_postfix": ") ",
     "delete_cmd_prefix": "rm(",
     "library": "var_list.r",
     "varRefreshCmd": "cat(var_dic_list()) "
    }
   },
   "types_to_exclude": [
    "module",
    "function",
    "builtin_function_or_method",
    "instance",
    "_Feature"
   ],
   "window_display": false
  }
 },
 "nbformat": 4,
 "nbformat_minor": 4
}
