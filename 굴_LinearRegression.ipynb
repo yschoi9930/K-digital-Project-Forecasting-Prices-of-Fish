{
 "cells": [
  {
   "cell_type": "code",
   "execution_count": 1,
   "metadata": {
    "ExecuteTime": {
     "end_time": "2021-04-21T05:59:09.916866Z",
     "start_time": "2021-04-21T05:59:07.654794Z"
    }
   },
   "outputs": [],
   "source": [
    "import selenium\n",
    "from selenium import webdriver\n",
    "from urllib.parse import quote\n",
    "import requests\n",
    "from bs4 import BeautifulSoup\n",
    "import pandas as pd\n",
    "import numpy as np\n",
    "import string\n",
    "import matplotlib.pyplot as plt\n",
    "%matplotlib inline\n",
    "import platform\n",
    "from scipy.stats import *\n",
    "from matplotlib import font_manager, rc\n",
    "plt.rcParams['axes.unicode_minus'] = False\n",
    "\n",
    "if platform.system() == 'Darwin':  # 맥OS \n",
    "    rc('font', family='AppleGothic')\n",
    "elif platform.system() == 'Windows': \n",
    "    # 윈도우   \n",
    "    path = \"c:/Windows/Fonts/malgun.ttf\"\n",
    "    font_name = font_manager.FontProperties(fname=path).get_name()\n",
    "    rc('font', family=font_name)\n",
    "else:\n",
    "    print('Unknown system...  sorry~~~')"
   ]
  },
  {
   "cell_type": "code",
   "execution_count": 7,
   "metadata": {
    "ExecuteTime": {
     "end_time": "2021-04-21T06:13:22.098009Z",
     "start_time": "2021-04-21T06:13:22.086811Z"
    }
   },
   "outputs": [],
   "source": [
    "data_raw= data.copy()"
   ]
  },
  {
   "cell_type": "code",
   "execution_count": 2,
   "metadata": {
    "ExecuteTime": {
     "end_time": "2021-04-21T05:59:27.336797Z",
     "start_time": "2021-04-21T05:59:27.286285Z"
    }
   },
   "outputs": [],
   "source": [
    "data = pd.read_csv('./final/the_end.csv')"
   ]
  },
  {
   "cell_type": "code",
   "execution_count": 4,
   "metadata": {
    "ExecuteTime": {
     "end_time": "2021-04-21T05:59:59.529862Z",
     "start_time": "2021-04-21T05:59:59.521046Z"
    }
   },
   "outputs": [],
   "source": [
    "data = data.drop('Unnamed: 0',axis=1)"
   ]
  },
  {
   "cell_type": "code",
   "execution_count": 5,
   "metadata": {
    "ExecuteTime": {
     "end_time": "2021-04-21T06:00:01.509901Z",
     "start_time": "2021-04-21T06:00:01.486750Z"
    }
   },
   "outputs": [
    {
     "data": {
      "text/html": [
       "<div>\n",
       "<style scoped>\n",
       "    .dataframe tbody tr th:only-of-type {\n",
       "        vertical-align: middle;\n",
       "    }\n",
       "\n",
       "    .dataframe tbody tr th {\n",
       "        vertical-align: top;\n",
       "    }\n",
       "\n",
       "    .dataframe thead th {\n",
       "        text-align: right;\n",
       "    }\n",
       "</style>\n",
       "<table border=\"1\" class=\"dataframe\">\n",
       "  <thead>\n",
       "    <tr style=\"text-align: right;\">\n",
       "      <th></th>\n",
       "      <th>from</th>\n",
       "      <th>date</th>\n",
       "      <th>qty</th>\n",
       "      <th>1kg price</th>\n",
       "      <th>temp</th>\n",
       "      <th>DO_test</th>\n",
       "    </tr>\n",
       "  </thead>\n",
       "  <tbody>\n",
       "    <tr>\n",
       "      <th>0</th>\n",
       "      <td>통영</td>\n",
       "      <td>2006-04-05</td>\n",
       "      <td>3441.7</td>\n",
       "      <td>3942.74</td>\n",
       "      <td>12.075</td>\n",
       "      <td>9.377054</td>\n",
       "    </tr>\n",
       "    <tr>\n",
       "      <th>1</th>\n",
       "      <td>통영</td>\n",
       "      <td>2006-04-06</td>\n",
       "      <td>2694.2</td>\n",
       "      <td>4181.84</td>\n",
       "      <td>12.275</td>\n",
       "      <td>9.312054</td>\n",
       "    </tr>\n",
       "    <tr>\n",
       "      <th>2</th>\n",
       "      <td>통영</td>\n",
       "      <td>2006-04-07</td>\n",
       "      <td>3534.3</td>\n",
       "      <td>3742.58</td>\n",
       "      <td>12.275</td>\n",
       "      <td>9.374554</td>\n",
       "    </tr>\n",
       "    <tr>\n",
       "      <th>3</th>\n",
       "      <td>통영</td>\n",
       "      <td>2006-04-08</td>\n",
       "      <td>4000.7</td>\n",
       "      <td>4096.25</td>\n",
       "      <td>12.300</td>\n",
       "      <td>9.214554</td>\n",
       "    </tr>\n",
       "    <tr>\n",
       "      <th>4</th>\n",
       "      <td>통영</td>\n",
       "      <td>2006-04-10</td>\n",
       "      <td>6286.4</td>\n",
       "      <td>3553.50</td>\n",
       "      <td>12.500</td>\n",
       "      <td>9.457054</td>\n",
       "    </tr>\n",
       "    <tr>\n",
       "      <th>...</th>\n",
       "      <td>...</td>\n",
       "      <td>...</td>\n",
       "      <td>...</td>\n",
       "      <td>...</td>\n",
       "      <td>...</td>\n",
       "      <td>...</td>\n",
       "    </tr>\n",
       "    <tr>\n",
       "      <th>10975</th>\n",
       "      <td>사천</td>\n",
       "      <td>2021-03-05</td>\n",
       "      <td>181.2</td>\n",
       "      <td>8792.24</td>\n",
       "      <td>8.850</td>\n",
       "      <td>9.665743</td>\n",
       "    </tr>\n",
       "    <tr>\n",
       "      <th>10976</th>\n",
       "      <td>사천</td>\n",
       "      <td>2021-03-06</td>\n",
       "      <td>178.5</td>\n",
       "      <td>9852.09</td>\n",
       "      <td>9.050</td>\n",
       "      <td>9.625743</td>\n",
       "    </tr>\n",
       "    <tr>\n",
       "      <th>10977</th>\n",
       "      <td>사천</td>\n",
       "      <td>2021-03-08</td>\n",
       "      <td>143.0</td>\n",
       "      <td>7927.40</td>\n",
       "      <td>9.250</td>\n",
       "      <td>8.916486</td>\n",
       "    </tr>\n",
       "    <tr>\n",
       "      <th>10978</th>\n",
       "      <td>사천</td>\n",
       "      <td>2021-03-09</td>\n",
       "      <td>96.0</td>\n",
       "      <td>7633.34</td>\n",
       "      <td>9.500</td>\n",
       "      <td>10.445743</td>\n",
       "    </tr>\n",
       "    <tr>\n",
       "      <th>10979</th>\n",
       "      <td>사천</td>\n",
       "      <td>2021-03-11</td>\n",
       "      <td>38.0</td>\n",
       "      <td>7025.00</td>\n",
       "      <td>9.800</td>\n",
       "      <td>10.323243</td>\n",
       "    </tr>\n",
       "  </tbody>\n",
       "</table>\n",
       "<p>10980 rows × 6 columns</p>\n",
       "</div>"
      ],
      "text/plain": [
       "      from        date     qty  1kg price    temp    DO_test\n",
       "0       통영  2006-04-05  3441.7    3942.74  12.075   9.377054\n",
       "1       통영  2006-04-06  2694.2    4181.84  12.275   9.312054\n",
       "2       통영  2006-04-07  3534.3    3742.58  12.275   9.374554\n",
       "3       통영  2006-04-08  4000.7    4096.25  12.300   9.214554\n",
       "4       통영  2006-04-10  6286.4    3553.50  12.500   9.457054\n",
       "...    ...         ...     ...        ...     ...        ...\n",
       "10975   사천  2021-03-05   181.2    8792.24   8.850   9.665743\n",
       "10976   사천  2021-03-06   178.5    9852.09   9.050   9.625743\n",
       "10977   사천  2021-03-08   143.0    7927.40   9.250   8.916486\n",
       "10978   사천  2021-03-09    96.0    7633.34   9.500  10.445743\n",
       "10979   사천  2021-03-11    38.0    7025.00   9.800  10.323243\n",
       "\n",
       "[10980 rows x 6 columns]"
      ]
     },
     "execution_count": 5,
     "metadata": {},
     "output_type": "execute_result"
    }
   ],
   "source": [
    "data"
   ]
  },
  {
   "cell_type": "code",
   "execution_count": 6,
   "metadata": {
    "ExecuteTime": {
     "end_time": "2021-04-21T06:00:52.136787Z",
     "start_time": "2021-04-21T06:00:52.117414Z"
    }
   },
   "outputs": [
    {
     "data": {
      "text/html": [
       "<div>\n",
       "<style scoped>\n",
       "    .dataframe tbody tr th:only-of-type {\n",
       "        vertical-align: middle;\n",
       "    }\n",
       "\n",
       "    .dataframe tbody tr th {\n",
       "        vertical-align: top;\n",
       "    }\n",
       "\n",
       "    .dataframe thead th {\n",
       "        text-align: right;\n",
       "    }\n",
       "</style>\n",
       "<table border=\"1\" class=\"dataframe\">\n",
       "  <thead>\n",
       "    <tr style=\"text-align: right;\">\n",
       "      <th></th>\n",
       "      <th>qty</th>\n",
       "      <th>1kg price</th>\n",
       "      <th>temp</th>\n",
       "      <th>DO_test</th>\n",
       "    </tr>\n",
       "  </thead>\n",
       "  <tbody>\n",
       "    <tr>\n",
       "      <th>qty</th>\n",
       "      <td>1.000000</td>\n",
       "      <td>0.095086</td>\n",
       "      <td>-0.280162</td>\n",
       "      <td>0.033514</td>\n",
       "    </tr>\n",
       "    <tr>\n",
       "      <th>1kg price</th>\n",
       "      <td>0.095086</td>\n",
       "      <td>1.000000</td>\n",
       "      <td>0.086652</td>\n",
       "      <td>-0.277802</td>\n",
       "    </tr>\n",
       "    <tr>\n",
       "      <th>temp</th>\n",
       "      <td>-0.280162</td>\n",
       "      <td>0.086652</td>\n",
       "      <td>1.000000</td>\n",
       "      <td>-0.726651</td>\n",
       "    </tr>\n",
       "    <tr>\n",
       "      <th>DO_test</th>\n",
       "      <td>0.033514</td>\n",
       "      <td>-0.277802</td>\n",
       "      <td>-0.726651</td>\n",
       "      <td>1.000000</td>\n",
       "    </tr>\n",
       "  </tbody>\n",
       "</table>\n",
       "</div>"
      ],
      "text/plain": [
       "                qty  1kg price      temp   DO_test\n",
       "qty        1.000000   0.095086 -0.280162  0.033514\n",
       "1kg price  0.095086   1.000000  0.086652 -0.277802\n",
       "temp      -0.280162   0.086652  1.000000 -0.726651\n",
       "DO_test    0.033514  -0.277802 -0.726651  1.000000"
      ]
     },
     "execution_count": 6,
     "metadata": {},
     "output_type": "execute_result"
    }
   ],
   "source": [
    "corr = data.corr(method = 'pearson')\n",
    "corr"
   ]
  },
  {
   "cell_type": "code",
   "execution_count": 18,
   "metadata": {
    "ExecuteTime": {
     "end_time": "2021-04-21T06:18:31.540400Z",
     "start_time": "2021-04-21T06:18:31.465359Z"
    }
   },
   "outputs": [],
   "source": [
    "data['year'] = data['date'].str.split('-').str.get(0)\n",
    "data['month'] = data['date'].str.split('-').str.get(1)\n",
    "data['day'] = data['date'].str.split('-').str.get(2)"
   ]
  },
  {
   "cell_type": "code",
   "execution_count": 47,
   "metadata": {
    "ExecuteTime": {
     "end_time": "2021-04-21T06:32:18.416770Z",
     "start_time": "2021-04-21T06:32:18.392564Z"
    }
   },
   "outputs": [],
   "source": [
    "data['date2'] = data['year'].str.cat(data['month'],sep='-')"
   ]
  },
  {
   "cell_type": "code",
   "execution_count": 19,
   "metadata": {
    "ExecuteTime": {
     "end_time": "2021-04-21T06:18:38.238260Z",
     "start_time": "2021-04-21T06:18:38.200447Z"
    }
   },
   "outputs": [
    {
     "data": {
      "text/html": [
       "<div>\n",
       "<style scoped>\n",
       "    .dataframe tbody tr th:only-of-type {\n",
       "        vertical-align: middle;\n",
       "    }\n",
       "\n",
       "    .dataframe tbody tr th {\n",
       "        vertical-align: top;\n",
       "    }\n",
       "\n",
       "    .dataframe thead th {\n",
       "        text-align: right;\n",
       "    }\n",
       "</style>\n",
       "<table border=\"1\" class=\"dataframe\">\n",
       "  <thead>\n",
       "    <tr style=\"text-align: right;\">\n",
       "      <th></th>\n",
       "      <th>from</th>\n",
       "      <th>date</th>\n",
       "      <th>qty</th>\n",
       "      <th>1kg price</th>\n",
       "      <th>temp</th>\n",
       "      <th>DO_test</th>\n",
       "      <th>year</th>\n",
       "      <th>month</th>\n",
       "      <th>day</th>\n",
       "    </tr>\n",
       "  </thead>\n",
       "  <tbody>\n",
       "    <tr>\n",
       "      <th>0</th>\n",
       "      <td>통영</td>\n",
       "      <td>2006-04-05</td>\n",
       "      <td>3441.7</td>\n",
       "      <td>3942.74</td>\n",
       "      <td>12.075</td>\n",
       "      <td>9.377054</td>\n",
       "      <td>2006</td>\n",
       "      <td>04</td>\n",
       "      <td>05</td>\n",
       "    </tr>\n",
       "    <tr>\n",
       "      <th>1</th>\n",
       "      <td>통영</td>\n",
       "      <td>2006-04-06</td>\n",
       "      <td>2694.2</td>\n",
       "      <td>4181.84</td>\n",
       "      <td>12.275</td>\n",
       "      <td>9.312054</td>\n",
       "      <td>2006</td>\n",
       "      <td>04</td>\n",
       "      <td>06</td>\n",
       "    </tr>\n",
       "    <tr>\n",
       "      <th>2</th>\n",
       "      <td>통영</td>\n",
       "      <td>2006-04-07</td>\n",
       "      <td>3534.3</td>\n",
       "      <td>3742.58</td>\n",
       "      <td>12.275</td>\n",
       "      <td>9.374554</td>\n",
       "      <td>2006</td>\n",
       "      <td>04</td>\n",
       "      <td>07</td>\n",
       "    </tr>\n",
       "    <tr>\n",
       "      <th>3</th>\n",
       "      <td>통영</td>\n",
       "      <td>2006-04-08</td>\n",
       "      <td>4000.7</td>\n",
       "      <td>4096.25</td>\n",
       "      <td>12.300</td>\n",
       "      <td>9.214554</td>\n",
       "      <td>2006</td>\n",
       "      <td>04</td>\n",
       "      <td>08</td>\n",
       "    </tr>\n",
       "    <tr>\n",
       "      <th>4</th>\n",
       "      <td>통영</td>\n",
       "      <td>2006-04-10</td>\n",
       "      <td>6286.4</td>\n",
       "      <td>3553.50</td>\n",
       "      <td>12.500</td>\n",
       "      <td>9.457054</td>\n",
       "      <td>2006</td>\n",
       "      <td>04</td>\n",
       "      <td>10</td>\n",
       "    </tr>\n",
       "    <tr>\n",
       "      <th>...</th>\n",
       "      <td>...</td>\n",
       "      <td>...</td>\n",
       "      <td>...</td>\n",
       "      <td>...</td>\n",
       "      <td>...</td>\n",
       "      <td>...</td>\n",
       "      <td>...</td>\n",
       "      <td>...</td>\n",
       "      <td>...</td>\n",
       "    </tr>\n",
       "    <tr>\n",
       "      <th>10975</th>\n",
       "      <td>사천</td>\n",
       "      <td>2021-03-05</td>\n",
       "      <td>181.2</td>\n",
       "      <td>8792.24</td>\n",
       "      <td>8.850</td>\n",
       "      <td>9.665743</td>\n",
       "      <td>2021</td>\n",
       "      <td>03</td>\n",
       "      <td>05</td>\n",
       "    </tr>\n",
       "    <tr>\n",
       "      <th>10976</th>\n",
       "      <td>사천</td>\n",
       "      <td>2021-03-06</td>\n",
       "      <td>178.5</td>\n",
       "      <td>9852.09</td>\n",
       "      <td>9.050</td>\n",
       "      <td>9.625743</td>\n",
       "      <td>2021</td>\n",
       "      <td>03</td>\n",
       "      <td>06</td>\n",
       "    </tr>\n",
       "    <tr>\n",
       "      <th>10977</th>\n",
       "      <td>사천</td>\n",
       "      <td>2021-03-08</td>\n",
       "      <td>143.0</td>\n",
       "      <td>7927.40</td>\n",
       "      <td>9.250</td>\n",
       "      <td>8.916486</td>\n",
       "      <td>2021</td>\n",
       "      <td>03</td>\n",
       "      <td>08</td>\n",
       "    </tr>\n",
       "    <tr>\n",
       "      <th>10978</th>\n",
       "      <td>사천</td>\n",
       "      <td>2021-03-09</td>\n",
       "      <td>96.0</td>\n",
       "      <td>7633.34</td>\n",
       "      <td>9.500</td>\n",
       "      <td>10.445743</td>\n",
       "      <td>2021</td>\n",
       "      <td>03</td>\n",
       "      <td>09</td>\n",
       "    </tr>\n",
       "    <tr>\n",
       "      <th>10979</th>\n",
       "      <td>사천</td>\n",
       "      <td>2021-03-11</td>\n",
       "      <td>38.0</td>\n",
       "      <td>7025.00</td>\n",
       "      <td>9.800</td>\n",
       "      <td>10.323243</td>\n",
       "      <td>2021</td>\n",
       "      <td>03</td>\n",
       "      <td>11</td>\n",
       "    </tr>\n",
       "  </tbody>\n",
       "</table>\n",
       "<p>10980 rows × 9 columns</p>\n",
       "</div>"
      ],
      "text/plain": [
       "      from        date     qty  1kg price    temp    DO_test  year month day\n",
       "0       통영  2006-04-05  3441.7    3942.74  12.075   9.377054  2006    04  05\n",
       "1       통영  2006-04-06  2694.2    4181.84  12.275   9.312054  2006    04  06\n",
       "2       통영  2006-04-07  3534.3    3742.58  12.275   9.374554  2006    04  07\n",
       "3       통영  2006-04-08  4000.7    4096.25  12.300   9.214554  2006    04  08\n",
       "4       통영  2006-04-10  6286.4    3553.50  12.500   9.457054  2006    04  10\n",
       "...    ...         ...     ...        ...     ...        ...   ...   ...  ..\n",
       "10975   사천  2021-03-05   181.2    8792.24   8.850   9.665743  2021    03  05\n",
       "10976   사천  2021-03-06   178.5    9852.09   9.050   9.625743  2021    03  06\n",
       "10977   사천  2021-03-08   143.0    7927.40   9.250   8.916486  2021    03  08\n",
       "10978   사천  2021-03-09    96.0    7633.34   9.500  10.445743  2021    03  09\n",
       "10979   사천  2021-03-11    38.0    7025.00   9.800  10.323243  2021    03  11\n",
       "\n",
       "[10980 rows x 9 columns]"
      ]
     },
     "execution_count": 19,
     "metadata": {},
     "output_type": "execute_result"
    }
   ],
   "source": [
    "data"
   ]
  },
  {
   "cell_type": "code",
   "execution_count": 23,
   "metadata": {
    "ExecuteTime": {
     "end_time": "2021-04-21T06:19:29.077407Z",
     "start_time": "2021-04-21T06:19:29.050296Z"
    }
   },
   "outputs": [],
   "source": [
    "group = data.groupby(['year','month'])\n",
    "grouped = group.agg({'qty':'sum','1kg price':'mean'}).round(2)"
   ]
  },
  {
   "cell_type": "code",
   "execution_count": 27,
   "metadata": {
    "ExecuteTime": {
     "end_time": "2021-04-21T06:21:19.886338Z",
     "start_time": "2021-04-21T06:21:19.866564Z"
    }
   },
   "outputs": [
    {
     "data": {
      "text/html": [
       "<div>\n",
       "<style scoped>\n",
       "    .dataframe tbody tr th:only-of-type {\n",
       "        vertical-align: middle;\n",
       "    }\n",
       "\n",
       "    .dataframe tbody tr th {\n",
       "        vertical-align: top;\n",
       "    }\n",
       "\n",
       "    .dataframe thead th {\n",
       "        text-align: right;\n",
       "    }\n",
       "</style>\n",
       "<table border=\"1\" class=\"dataframe\">\n",
       "  <thead>\n",
       "    <tr style=\"text-align: right;\">\n",
       "      <th></th>\n",
       "      <th></th>\n",
       "      <th>qty</th>\n",
       "      <th>1kg price</th>\n",
       "    </tr>\n",
       "    <tr>\n",
       "      <th>year</th>\n",
       "      <th>month</th>\n",
       "      <th></th>\n",
       "      <th></th>\n",
       "    </tr>\n",
       "  </thead>\n",
       "  <tbody>\n",
       "    <tr>\n",
       "      <th rowspan=\"5\" valign=\"top\">2006</th>\n",
       "      <th>04</th>\n",
       "      <td>79398.5</td>\n",
       "      <td>4985.68</td>\n",
       "    </tr>\n",
       "    <tr>\n",
       "      <th>05</th>\n",
       "      <td>34612.7</td>\n",
       "      <td>5093.92</td>\n",
       "    </tr>\n",
       "    <tr>\n",
       "      <th>06</th>\n",
       "      <td>15556.6</td>\n",
       "      <td>5429.88</td>\n",
       "    </tr>\n",
       "    <tr>\n",
       "      <th>07</th>\n",
       "      <td>14119.5</td>\n",
       "      <td>5499.22</td>\n",
       "    </tr>\n",
       "    <tr>\n",
       "      <th>08</th>\n",
       "      <td>11779.5</td>\n",
       "      <td>5786.89</td>\n",
       "    </tr>\n",
       "    <tr>\n",
       "      <th>...</th>\n",
       "      <th>...</th>\n",
       "      <td>...</td>\n",
       "      <td>...</td>\n",
       "    </tr>\n",
       "    <tr>\n",
       "      <th>2020</th>\n",
       "      <th>12</th>\n",
       "      <td>134632.1</td>\n",
       "      <td>10986.30</td>\n",
       "    </tr>\n",
       "    <tr>\n",
       "      <th rowspan=\"4\" valign=\"top\">2021</th>\n",
       "      <th>01</th>\n",
       "      <td>121173.1</td>\n",
       "      <td>9157.39</td>\n",
       "    </tr>\n",
       "    <tr>\n",
       "      <th>02</th>\n",
       "      <td>85059.1</td>\n",
       "      <td>8730.55</td>\n",
       "    </tr>\n",
       "    <tr>\n",
       "      <th>03</th>\n",
       "      <td>33416.2</td>\n",
       "      <td>7540.82</td>\n",
       "    </tr>\n",
       "    <tr>\n",
       "      <th>04</th>\n",
       "      <td>3707.0</td>\n",
       "      <td>6584.26</td>\n",
       "    </tr>\n",
       "  </tbody>\n",
       "</table>\n",
       "<p>181 rows × 2 columns</p>\n",
       "</div>"
      ],
      "text/plain": [
       "                 qty  1kg price\n",
       "year month                     \n",
       "2006 04      79398.5    4985.68\n",
       "     05      34612.7    5093.92\n",
       "     06      15556.6    5429.88\n",
       "     07      14119.5    5499.22\n",
       "     08      11779.5    5786.89\n",
       "...              ...        ...\n",
       "2020 12     134632.1   10986.30\n",
       "2021 01     121173.1    9157.39\n",
       "     02      85059.1    8730.55\n",
       "     03      33416.2    7540.82\n",
       "     04       3707.0    6584.26\n",
       "\n",
       "[181 rows x 2 columns]"
      ]
     },
     "execution_count": 27,
     "metadata": {},
     "output_type": "execute_result"
    }
   ],
   "source": [
    "grouped"
   ]
  },
  {
   "cell_type": "code",
   "execution_count": 36,
   "metadata": {
    "ExecuteTime": {
     "end_time": "2021-04-21T06:26:14.696179Z",
     "start_time": "2021-04-21T06:26:14.660440Z"
    }
   },
   "outputs": [
    {
     "data": {
      "text/html": [
       "<div>\n",
       "<style scoped>\n",
       "    .dataframe tbody tr th:only-of-type {\n",
       "        vertical-align: middle;\n",
       "    }\n",
       "\n",
       "    .dataframe tbody tr th {\n",
       "        vertical-align: top;\n",
       "    }\n",
       "\n",
       "    .dataframe thead th {\n",
       "        text-align: right;\n",
       "    }\n",
       "</style>\n",
       "<table border=\"1\" class=\"dataframe\">\n",
       "  <thead>\n",
       "    <tr style=\"text-align: right;\">\n",
       "      <th>year</th>\n",
       "      <th>2006</th>\n",
       "      <th>2007</th>\n",
       "      <th>2008</th>\n",
       "      <th>2009</th>\n",
       "      <th>2010</th>\n",
       "      <th>2011</th>\n",
       "      <th>2012</th>\n",
       "      <th>2013</th>\n",
       "      <th>2014</th>\n",
       "      <th>2015</th>\n",
       "      <th>2016</th>\n",
       "      <th>2017</th>\n",
       "      <th>2018</th>\n",
       "      <th>2019</th>\n",
       "      <th>2020</th>\n",
       "      <th>2021</th>\n",
       "    </tr>\n",
       "    <tr>\n",
       "      <th>month</th>\n",
       "      <th></th>\n",
       "      <th></th>\n",
       "      <th></th>\n",
       "      <th></th>\n",
       "      <th></th>\n",
       "      <th></th>\n",
       "      <th></th>\n",
       "      <th></th>\n",
       "      <th></th>\n",
       "      <th></th>\n",
       "      <th></th>\n",
       "      <th></th>\n",
       "      <th></th>\n",
       "      <th></th>\n",
       "      <th></th>\n",
       "      <th></th>\n",
       "    </tr>\n",
       "  </thead>\n",
       "  <tbody>\n",
       "    <tr>\n",
       "      <th>01</th>\n",
       "      <td>NaN</td>\n",
       "      <td>316297.8</td>\n",
       "      <td>308009.9</td>\n",
       "      <td>319591.3</td>\n",
       "      <td>288439.9</td>\n",
       "      <td>344297.5</td>\n",
       "      <td>341035.3</td>\n",
       "      <td>300715.5</td>\n",
       "      <td>319349.5</td>\n",
       "      <td>269650.5</td>\n",
       "      <td>219956.6</td>\n",
       "      <td>197778.5</td>\n",
       "      <td>196652.5</td>\n",
       "      <td>188790.9</td>\n",
       "      <td>127738.4</td>\n",
       "      <td>121173.1</td>\n",
       "    </tr>\n",
       "    <tr>\n",
       "      <th>02</th>\n",
       "      <td>NaN</td>\n",
       "      <td>266473.0</td>\n",
       "      <td>255086.1</td>\n",
       "      <td>226840.3</td>\n",
       "      <td>270642.4</td>\n",
       "      <td>197344.1</td>\n",
       "      <td>250013.4</td>\n",
       "      <td>182736.3</td>\n",
       "      <td>172980.0</td>\n",
       "      <td>213294.1</td>\n",
       "      <td>174987.0</td>\n",
       "      <td>125269.3</td>\n",
       "      <td>156748.5</td>\n",
       "      <td>96313.9</td>\n",
       "      <td>79244.6</td>\n",
       "      <td>85059.1</td>\n",
       "    </tr>\n",
       "    <tr>\n",
       "      <th>03</th>\n",
       "      <td>NaN</td>\n",
       "      <td>175121.7</td>\n",
       "      <td>173494.4</td>\n",
       "      <td>150147.8</td>\n",
       "      <td>160943.2</td>\n",
       "      <td>165951.2</td>\n",
       "      <td>218023.0</td>\n",
       "      <td>129232.9</td>\n",
       "      <td>112662.4</td>\n",
       "      <td>87414.9</td>\n",
       "      <td>83039.2</td>\n",
       "      <td>80144.2</td>\n",
       "      <td>74501.7</td>\n",
       "      <td>45764.8</td>\n",
       "      <td>40017.8</td>\n",
       "      <td>33416.2</td>\n",
       "    </tr>\n",
       "    <tr>\n",
       "      <th>04</th>\n",
       "      <td>79398.5</td>\n",
       "      <td>80941.9</td>\n",
       "      <td>73488.4</td>\n",
       "      <td>72059.4</td>\n",
       "      <td>75300.5</td>\n",
       "      <td>70253.8</td>\n",
       "      <td>82763.5</td>\n",
       "      <td>59047.7</td>\n",
       "      <td>34624.2</td>\n",
       "      <td>33202.6</td>\n",
       "      <td>24744.1</td>\n",
       "      <td>26073.8</td>\n",
       "      <td>15184.3</td>\n",
       "      <td>19522.8</td>\n",
       "      <td>15953.7</td>\n",
       "      <td>3707.0</td>\n",
       "    </tr>\n",
       "    <tr>\n",
       "      <th>05</th>\n",
       "      <td>34612.7</td>\n",
       "      <td>21050.0</td>\n",
       "      <td>31259.3</td>\n",
       "      <td>25504.4</td>\n",
       "      <td>24413.4</td>\n",
       "      <td>31366.1</td>\n",
       "      <td>20826.7</td>\n",
       "      <td>19478.5</td>\n",
       "      <td>15500.8</td>\n",
       "      <td>11032.2</td>\n",
       "      <td>9228.3</td>\n",
       "      <td>8696.5</td>\n",
       "      <td>6441.9</td>\n",
       "      <td>6317.4</td>\n",
       "      <td>6801.8</td>\n",
       "      <td>NaN</td>\n",
       "    </tr>\n",
       "    <tr>\n",
       "      <th>06</th>\n",
       "      <td>15556.6</td>\n",
       "      <td>11234.5</td>\n",
       "      <td>17125.3</td>\n",
       "      <td>11958.5</td>\n",
       "      <td>12718.1</td>\n",
       "      <td>14156.3</td>\n",
       "      <td>9904.6</td>\n",
       "      <td>9256.4</td>\n",
       "      <td>7241.2</td>\n",
       "      <td>5807.0</td>\n",
       "      <td>4386.3</td>\n",
       "      <td>5200.4</td>\n",
       "      <td>4013.7</td>\n",
       "      <td>3057.8</td>\n",
       "      <td>2637.3</td>\n",
       "      <td>NaN</td>\n",
       "    </tr>\n",
       "    <tr>\n",
       "      <th>07</th>\n",
       "      <td>14119.5</td>\n",
       "      <td>11111.1</td>\n",
       "      <td>12011.8</td>\n",
       "      <td>10557.5</td>\n",
       "      <td>10502.7</td>\n",
       "      <td>9990.7</td>\n",
       "      <td>7310.0</td>\n",
       "      <td>8369.9</td>\n",
       "      <td>6509.9</td>\n",
       "      <td>4956.2</td>\n",
       "      <td>4046.0</td>\n",
       "      <td>3805.1</td>\n",
       "      <td>2940.0</td>\n",
       "      <td>2719.5</td>\n",
       "      <td>2473.0</td>\n",
       "      <td>NaN</td>\n",
       "    </tr>\n",
       "    <tr>\n",
       "      <th>08</th>\n",
       "      <td>11779.5</td>\n",
       "      <td>11275.8</td>\n",
       "      <td>15320.7</td>\n",
       "      <td>10377.0</td>\n",
       "      <td>10929.2</td>\n",
       "      <td>10741.1</td>\n",
       "      <td>7735.7</td>\n",
       "      <td>7484.1</td>\n",
       "      <td>7771.2</td>\n",
       "      <td>4656.5</td>\n",
       "      <td>4139.5</td>\n",
       "      <td>4255.7</td>\n",
       "      <td>2821.9</td>\n",
       "      <td>2600.3</td>\n",
       "      <td>2078.8</td>\n",
       "      <td>NaN</td>\n",
       "    </tr>\n",
       "    <tr>\n",
       "      <th>09</th>\n",
       "      <td>32728.3</td>\n",
       "      <td>36674.7</td>\n",
       "      <td>35957.2</td>\n",
       "      <td>32421.0</td>\n",
       "      <td>27800.1</td>\n",
       "      <td>19051.1</td>\n",
       "      <td>27519.1</td>\n",
       "      <td>23116.2</td>\n",
       "      <td>20884.1</td>\n",
       "      <td>14450.7</td>\n",
       "      <td>11641.5</td>\n",
       "      <td>11844.0</td>\n",
       "      <td>11246.3</td>\n",
       "      <td>7707.9</td>\n",
       "      <td>6449.1</td>\n",
       "      <td>NaN</td>\n",
       "    </tr>\n",
       "    <tr>\n",
       "      <th>1</th>\n",
       "      <td>111902.4</td>\n",
       "      <td>138345.7</td>\n",
       "      <td>132806.6</td>\n",
       "      <td>108080.9</td>\n",
       "      <td>90912.9</td>\n",
       "      <td>120610.0</td>\n",
       "      <td>113164.0</td>\n",
       "      <td>89070.5</td>\n",
       "      <td>104345.0</td>\n",
       "      <td>57062.6</td>\n",
       "      <td>44367.4</td>\n",
       "      <td>57081.2</td>\n",
       "      <td>45250.7</td>\n",
       "      <td>44640.7</td>\n",
       "      <td>45352.5</td>\n",
       "      <td>NaN</td>\n",
       "    </tr>\n",
       "    <tr>\n",
       "      <th>11</th>\n",
       "      <td>413238.2</td>\n",
       "      <td>443783.8</td>\n",
       "      <td>382149.0</td>\n",
       "      <td>290904.7</td>\n",
       "      <td>407915.5</td>\n",
       "      <td>385489.6</td>\n",
       "      <td>431260.3</td>\n",
       "      <td>294795.9</td>\n",
       "      <td>321663.8</td>\n",
       "      <td>231306.0</td>\n",
       "      <td>223939.9</td>\n",
       "      <td>253901.7</td>\n",
       "      <td>219802.8</td>\n",
       "      <td>197019.8</td>\n",
       "      <td>94746.6</td>\n",
       "      <td>NaN</td>\n",
       "    </tr>\n",
       "    <tr>\n",
       "      <th>12</th>\n",
       "      <td>328458.6</td>\n",
       "      <td>354292.0</td>\n",
       "      <td>346432.3</td>\n",
       "      <td>336732.4</td>\n",
       "      <td>371607.4</td>\n",
       "      <td>363107.5</td>\n",
       "      <td>355446.7</td>\n",
       "      <td>301394.6</td>\n",
       "      <td>271570.1</td>\n",
       "      <td>213349.8</td>\n",
       "      <td>226159.5</td>\n",
       "      <td>238625.0</td>\n",
       "      <td>187917.3</td>\n",
       "      <td>168976.9</td>\n",
       "      <td>134632.1</td>\n",
       "      <td>NaN</td>\n",
       "    </tr>\n",
       "  </tbody>\n",
       "</table>\n",
       "</div>"
      ],
      "text/plain": [
       "year       2006      2007      2008      2009      2010      2011      2012  \\\n",
       "month                                                                         \n",
       "01          NaN  316297.8  308009.9  319591.3  288439.9  344297.5  341035.3   \n",
       "02          NaN  266473.0  255086.1  226840.3  270642.4  197344.1  250013.4   \n",
       "03          NaN  175121.7  173494.4  150147.8  160943.2  165951.2  218023.0   \n",
       "04      79398.5   80941.9   73488.4   72059.4   75300.5   70253.8   82763.5   \n",
       "05      34612.7   21050.0   31259.3   25504.4   24413.4   31366.1   20826.7   \n",
       "06      15556.6   11234.5   17125.3   11958.5   12718.1   14156.3    9904.6   \n",
       "07      14119.5   11111.1   12011.8   10557.5   10502.7    9990.7    7310.0   \n",
       "08      11779.5   11275.8   15320.7   10377.0   10929.2   10741.1    7735.7   \n",
       "09      32728.3   36674.7   35957.2   32421.0   27800.1   19051.1   27519.1   \n",
       "1      111902.4  138345.7  132806.6  108080.9   90912.9  120610.0  113164.0   \n",
       "11     413238.2  443783.8  382149.0  290904.7  407915.5  385489.6  431260.3   \n",
       "12     328458.6  354292.0  346432.3  336732.4  371607.4  363107.5  355446.7   \n",
       "\n",
       "year       2013      2014      2015      2016      2017      2018      2019  \\\n",
       "month                                                                         \n",
       "01     300715.5  319349.5  269650.5  219956.6  197778.5  196652.5  188790.9   \n",
       "02     182736.3  172980.0  213294.1  174987.0  125269.3  156748.5   96313.9   \n",
       "03     129232.9  112662.4   87414.9   83039.2   80144.2   74501.7   45764.8   \n",
       "04      59047.7   34624.2   33202.6   24744.1   26073.8   15184.3   19522.8   \n",
       "05      19478.5   15500.8   11032.2    9228.3    8696.5    6441.9    6317.4   \n",
       "06       9256.4    7241.2    5807.0    4386.3    5200.4    4013.7    3057.8   \n",
       "07       8369.9    6509.9    4956.2    4046.0    3805.1    2940.0    2719.5   \n",
       "08       7484.1    7771.2    4656.5    4139.5    4255.7    2821.9    2600.3   \n",
       "09      23116.2   20884.1   14450.7   11641.5   11844.0   11246.3    7707.9   \n",
       "1       89070.5  104345.0   57062.6   44367.4   57081.2   45250.7   44640.7   \n",
       "11     294795.9  321663.8  231306.0  223939.9  253901.7  219802.8  197019.8   \n",
       "12     301394.6  271570.1  213349.8  226159.5  238625.0  187917.3  168976.9   \n",
       "\n",
       "year       2020      2021  \n",
       "month                      \n",
       "01     127738.4  121173.1  \n",
       "02      79244.6   85059.1  \n",
       "03      40017.8   33416.2  \n",
       "04      15953.7    3707.0  \n",
       "05       6801.8       NaN  \n",
       "06       2637.3       NaN  \n",
       "07       2473.0       NaN  \n",
       "08       2078.8       NaN  \n",
       "09       6449.1       NaN  \n",
       "1       45352.5       NaN  \n",
       "11      94746.6       NaN  \n",
       "12     134632.1       NaN  "
      ]
     },
     "execution_count": 36,
     "metadata": {},
     "output_type": "execute_result"
    }
   ],
   "source": [
    "df = grouped.reset_index().pivot( 'month','year', 'qty')\n",
    "df"
   ]
  },
  {
   "cell_type": "code",
   "execution_count": 42,
   "metadata": {
    "ExecuteTime": {
     "end_time": "2021-04-21T06:27:29.019583Z",
     "start_time": "2021-04-21T06:27:28.760852Z"
    }
   },
   "outputs": [
    {
     "data": {
      "image/png": "[encoded data removed]",
      "text/plain": [
       "<Figure size 576x288 with 2 Axes>"
      ]
     },
     "metadata": {
      "needs_background": "light"
     },
     "output_type": "display_data"
    }
   ],
   "source": [
    "plt.figure(figsize =(8,4))\n",
    "plt.pcolor(df)\n",
    "plt.xticks(np.arange(0.5, len(df.columns), 1), df.columns)\n",
    "plt.yticks(np.arange(0.5, len(df.index), 1), df.index)\n",
    "plt.title('Quantity of Oyster', fontsize=20)\n",
    "plt.xlabel('Year', fontsize=14)\n",
    "plt.ylabel('Month', fontsize=14)\n",
    "plt.colorbar()\n",
    "\n",
    "plt.show()\n"
   ]
  },
  {
   "cell_type": "code",
   "execution_count": 43,
   "metadata": {
    "ExecuteTime": {
     "end_time": "2021-04-21T06:27:49.690671Z",
     "start_time": "2021-04-21T06:27:49.651450Z"
    }
   },
   "outputs": [
    {
     "data": {
      "text/html": [
       "<div>\n",
       "<style scoped>\n",
       "    .dataframe tbody tr th:only-of-type {\n",
       "        vertical-align: middle;\n",
       "    }\n",
       "\n",
       "    .dataframe tbody tr th {\n",
       "        vertical-align: top;\n",
       "    }\n",
       "\n",
       "    .dataframe thead th {\n",
       "        text-align: right;\n",
       "    }\n",
       "</style>\n",
       "<table border=\"1\" class=\"dataframe\">\n",
       "  <thead>\n",
       "    <tr style=\"text-align: right;\">\n",
       "      <th>year</th>\n",
       "      <th>2006</th>\n",
       "      <th>2007</th>\n",
       "      <th>2008</th>\n",
       "      <th>2009</th>\n",
       "      <th>2010</th>\n",
       "      <th>2011</th>\n",
       "      <th>2012</th>\n",
       "      <th>2013</th>\n",
       "      <th>2014</th>\n",
       "      <th>2015</th>\n",
       "      <th>2016</th>\n",
       "      <th>2017</th>\n",
       "      <th>2018</th>\n",
       "      <th>2019</th>\n",
       "      <th>2020</th>\n",
       "      <th>2021</th>\n",
       "    </tr>\n",
       "    <tr>\n",
       "      <th>month</th>\n",
       "      <th></th>\n",
       "      <th></th>\n",
       "      <th></th>\n",
       "      <th></th>\n",
       "      <th></th>\n",
       "      <th></th>\n",
       "      <th></th>\n",
       "      <th></th>\n",
       "      <th></th>\n",
       "      <th></th>\n",
       "      <th></th>\n",
       "      <th></th>\n",
       "      <th></th>\n",
       "      <th></th>\n",
       "      <th></th>\n",
       "      <th></th>\n",
       "    </tr>\n",
       "  </thead>\n",
       "  <tbody>\n",
       "    <tr>\n",
       "      <th>01</th>\n",
       "      <td>NaN</td>\n",
       "      <td>5021.41</td>\n",
       "      <td>4846.51</td>\n",
       "      <td>7703.05</td>\n",
       "      <td>6617.08</td>\n",
       "      <td>8270.48</td>\n",
       "      <td>7620.48</td>\n",
       "      <td>5937.23</td>\n",
       "      <td>7535.14</td>\n",
       "      <td>6886.23</td>\n",
       "      <td>8805.48</td>\n",
       "      <td>9098.01</td>\n",
       "      <td>6930.63</td>\n",
       "      <td>7806.34</td>\n",
       "      <td>9230.86</td>\n",
       "      <td>9157.39</td>\n",
       "    </tr>\n",
       "    <tr>\n",
       "      <th>02</th>\n",
       "      <td>NaN</td>\n",
       "      <td>5309.13</td>\n",
       "      <td>5132.72</td>\n",
       "      <td>6450.66</td>\n",
       "      <td>7267.23</td>\n",
       "      <td>7294.24</td>\n",
       "      <td>6178.63</td>\n",
       "      <td>4760.68</td>\n",
       "      <td>6791.17</td>\n",
       "      <td>7107.15</td>\n",
       "      <td>7474.81</td>\n",
       "      <td>5657.21</td>\n",
       "      <td>7617.08</td>\n",
       "      <td>7294.10</td>\n",
       "      <td>8043.43</td>\n",
       "      <td>8730.55</td>\n",
       "    </tr>\n",
       "    <tr>\n",
       "      <th>03</th>\n",
       "      <td>NaN</td>\n",
       "      <td>4834.29</td>\n",
       "      <td>4298.40</td>\n",
       "      <td>6528.76</td>\n",
       "      <td>6273.93</td>\n",
       "      <td>6405.90</td>\n",
       "      <td>5497.40</td>\n",
       "      <td>3949.74</td>\n",
       "      <td>6459.48</td>\n",
       "      <td>6007.79</td>\n",
       "      <td>7437.33</td>\n",
       "      <td>4871.70</td>\n",
       "      <td>6316.40</td>\n",
       "      <td>7012.46</td>\n",
       "      <td>9225.69</td>\n",
       "      <td>7540.82</td>\n",
       "    </tr>\n",
       "    <tr>\n",
       "      <th>04</th>\n",
       "      <td>4985.68</td>\n",
       "      <td>4587.71</td>\n",
       "      <td>4530.39</td>\n",
       "      <td>6271.29</td>\n",
       "      <td>5744.57</td>\n",
       "      <td>6402.62</td>\n",
       "      <td>4874.55</td>\n",
       "      <td>4866.02</td>\n",
       "      <td>6922.93</td>\n",
       "      <td>6119.06</td>\n",
       "      <td>6720.45</td>\n",
       "      <td>4947.57</td>\n",
       "      <td>6444.46</td>\n",
       "      <td>6958.64</td>\n",
       "      <td>7243.14</td>\n",
       "      <td>6584.26</td>\n",
       "    </tr>\n",
       "    <tr>\n",
       "      <th>05</th>\n",
       "      <td>5093.92</td>\n",
       "      <td>4574.05</td>\n",
       "      <td>4873.83</td>\n",
       "      <td>7212.01</td>\n",
       "      <td>5978.82</td>\n",
       "      <td>7615.54</td>\n",
       "      <td>5039.07</td>\n",
       "      <td>4753.88</td>\n",
       "      <td>7484.24</td>\n",
       "      <td>7245.26</td>\n",
       "      <td>7464.72</td>\n",
       "      <td>5316.69</td>\n",
       "      <td>6768.80</td>\n",
       "      <td>7822.86</td>\n",
       "      <td>6571.65</td>\n",
       "      <td>NaN</td>\n",
       "    </tr>\n",
       "    <tr>\n",
       "      <th>06</th>\n",
       "      <td>5429.88</td>\n",
       "      <td>5717.28</td>\n",
       "      <td>5943.22</td>\n",
       "      <td>8426.30</td>\n",
       "      <td>6848.91</td>\n",
       "      <td>8129.08</td>\n",
       "      <td>6527.40</td>\n",
       "      <td>6005.41</td>\n",
       "      <td>7698.41</td>\n",
       "      <td>8838.92</td>\n",
       "      <td>7673.15</td>\n",
       "      <td>6449.00</td>\n",
       "      <td>7049.48</td>\n",
       "      <td>10220.07</td>\n",
       "      <td>8996.95</td>\n",
       "      <td>NaN</td>\n",
       "    </tr>\n",
       "    <tr>\n",
       "      <th>07</th>\n",
       "      <td>5499.22</td>\n",
       "      <td>5211.98</td>\n",
       "      <td>5189.44</td>\n",
       "      <td>6215.07</td>\n",
       "      <td>5906.06</td>\n",
       "      <td>6363.72</td>\n",
       "      <td>6345.82</td>\n",
       "      <td>4744.74</td>\n",
       "      <td>6663.56</td>\n",
       "      <td>8528.65</td>\n",
       "      <td>6446.66</td>\n",
       "      <td>4696.76</td>\n",
       "      <td>7386.82</td>\n",
       "      <td>9662.17</td>\n",
       "      <td>8885.59</td>\n",
       "      <td>NaN</td>\n",
       "    </tr>\n",
       "    <tr>\n",
       "      <th>08</th>\n",
       "      <td>5786.89</td>\n",
       "      <td>5610.74</td>\n",
       "      <td>6413.39</td>\n",
       "      <td>6842.61</td>\n",
       "      <td>7084.96</td>\n",
       "      <td>7918.29</td>\n",
       "      <td>6803.15</td>\n",
       "      <td>5051.48</td>\n",
       "      <td>8077.64</td>\n",
       "      <td>9993.48</td>\n",
       "      <td>7123.26</td>\n",
       "      <td>7019.09</td>\n",
       "      <td>7465.77</td>\n",
       "      <td>9853.72</td>\n",
       "      <td>7819.02</td>\n",
       "      <td>NaN</td>\n",
       "    </tr>\n",
       "    <tr>\n",
       "      <th>09</th>\n",
       "      <td>6088.07</td>\n",
       "      <td>5782.38</td>\n",
       "      <td>7105.26</td>\n",
       "      <td>6770.23</td>\n",
       "      <td>7308.52</td>\n",
       "      <td>9224.95</td>\n",
       "      <td>7143.98</td>\n",
       "      <td>5758.34</td>\n",
       "      <td>7702.73</td>\n",
       "      <td>8992.96</td>\n",
       "      <td>8118.76</td>\n",
       "      <td>6495.95</td>\n",
       "      <td>7345.67</td>\n",
       "      <td>8428.13</td>\n",
       "      <td>9160.69</td>\n",
       "      <td>NaN</td>\n",
       "    </tr>\n",
       "    <tr>\n",
       "      <th>1</th>\n",
       "      <td>7130.76</td>\n",
       "      <td>5904.44</td>\n",
       "      <td>7268.32</td>\n",
       "      <td>8895.02</td>\n",
       "      <td>7631.46</td>\n",
       "      <td>8226.24</td>\n",
       "      <td>7126.61</td>\n",
       "      <td>7916.01</td>\n",
       "      <td>8872.34</td>\n",
       "      <td>9127.88</td>\n",
       "      <td>8666.15</td>\n",
       "      <td>7994.64</td>\n",
       "      <td>9128.54</td>\n",
       "      <td>8379.82</td>\n",
       "      <td>10984.73</td>\n",
       "      <td>NaN</td>\n",
       "    </tr>\n",
       "    <tr>\n",
       "      <th>11</th>\n",
       "      <td>9803.77</td>\n",
       "      <td>7802.18</td>\n",
       "      <td>10887.55</td>\n",
       "      <td>11826.59</td>\n",
       "      <td>10480.92</td>\n",
       "      <td>10857.77</td>\n",
       "      <td>9988.19</td>\n",
       "      <td>11317.56</td>\n",
       "      <td>11090.05</td>\n",
       "      <td>11417.40</td>\n",
       "      <td>11576.44</td>\n",
       "      <td>10553.36</td>\n",
       "      <td>11178.87</td>\n",
       "      <td>11007.77</td>\n",
       "      <td>13247.23</td>\n",
       "      <td>NaN</td>\n",
       "    </tr>\n",
       "    <tr>\n",
       "      <th>12</th>\n",
       "      <td>7511.42</td>\n",
       "      <td>6117.43</td>\n",
       "      <td>7739.20</td>\n",
       "      <td>8577.59</td>\n",
       "      <td>9237.01</td>\n",
       "      <td>8434.16</td>\n",
       "      <td>8514.16</td>\n",
       "      <td>8175.53</td>\n",
       "      <td>10354.15</td>\n",
       "      <td>11274.65</td>\n",
       "      <td>10655.83</td>\n",
       "      <td>9687.03</td>\n",
       "      <td>10889.97</td>\n",
       "      <td>10554.28</td>\n",
       "      <td>10986.30</td>\n",
       "      <td>NaN</td>\n",
       "    </tr>\n",
       "  </tbody>\n",
       "</table>\n",
       "</div>"
      ],
      "text/plain": [
       "year      2006     2007      2008      2009      2010      2011     2012  \\\n",
       "month                                                                      \n",
       "01         NaN  5021.41   4846.51   7703.05   6617.08   8270.48  7620.48   \n",
       "02         NaN  5309.13   5132.72   6450.66   7267.23   7294.24  6178.63   \n",
       "03         NaN  4834.29   4298.40   6528.76   6273.93   6405.90  5497.40   \n",
       "04     4985.68  4587.71   4530.39   6271.29   5744.57   6402.62  4874.55   \n",
       "05     5093.92  4574.05   4873.83   7212.01   5978.82   7615.54  5039.07   \n",
       "06     5429.88  5717.28   5943.22   8426.30   6848.91   8129.08  6527.40   \n",
       "07     5499.22  5211.98   5189.44   6215.07   5906.06   6363.72  6345.82   \n",
       "08     5786.89  5610.74   6413.39   6842.61   7084.96   7918.29  6803.15   \n",
       "09     6088.07  5782.38   7105.26   6770.23   7308.52   9224.95  7143.98   \n",
       "1      7130.76  5904.44   7268.32   8895.02   7631.46   8226.24  7126.61   \n",
       "11     9803.77  7802.18  10887.55  11826.59  10480.92  10857.77  9988.19   \n",
       "12     7511.42  6117.43   7739.20   8577.59   9237.01   8434.16  8514.16   \n",
       "\n",
       "year       2013      2014      2015      2016      2017      2018      2019  \\\n",
       "month                                                                         \n",
       "01      5937.23   7535.14   6886.23   8805.48   9098.01   6930.63   7806.34   \n",
       "02      4760.68   6791.17   7107.15   7474.81   5657.21   7617.08   7294.10   \n",
       "03      3949.74   6459.48   6007.79   7437.33   4871.70   6316.40   7012.46   \n",
       "04      4866.02   6922.93   6119.06   6720.45   4947.57   6444.46   6958.64   \n",
       "05      4753.88   7484.24   7245.26   7464.72   5316.69   6768.80   7822.86   \n",
       "06      6005.41   7698.41   8838.92   7673.15   6449.00   7049.48  10220.07   \n",
       "07      4744.74   6663.56   8528.65   6446.66   4696.76   7386.82   9662.17   \n",
       "08      5051.48   8077.64   9993.48   7123.26   7019.09   7465.77   9853.72   \n",
       "09      5758.34   7702.73   8992.96   8118.76   6495.95   7345.67   8428.13   \n",
       "1       7916.01   8872.34   9127.88   8666.15   7994.64   9128.54   8379.82   \n",
       "11     11317.56  11090.05  11417.40  11576.44  10553.36  11178.87  11007.77   \n",
       "12      8175.53  10354.15  11274.65  10655.83   9687.03  10889.97  10554.28   \n",
       "\n",
       "year       2020     2021  \n",
       "month                     \n",
       "01      9230.86  9157.39  \n",
       "02      8043.43  8730.55  \n",
       "03      9225.69  7540.82  \n",
       "04      7243.14  6584.26  \n",
       "05      6571.65      NaN  \n",
       "06      8996.95      NaN  \n",
       "07      8885.59      NaN  \n",
       "08      7819.02      NaN  \n",
       "09      9160.69      NaN  \n",
       "1      10984.73      NaN  \n",
       "11     13247.23      NaN  \n",
       "12     10986.30      NaN  "
      ]
     },
     "execution_count": 43,
     "metadata": {},
     "output_type": "execute_result"
    }
   ],
   "source": [
    "df1 = grouped.reset_index().pivot( 'month','year', '1kg price')\n",
    "df1"
   ]
  },
  {
   "cell_type": "code",
   "execution_count": 46,
   "metadata": {
    "ExecuteTime": {
     "end_time": "2021-04-21T06:28:30.429193Z",
     "start_time": "2021-04-21T06:28:30.175044Z"
    }
   },
   "outputs": [
    {
     "data": {
      "image/png": "[encoded data removed]",
      "text/plain": [
       "<Figure size 576x288 with 2 Axes>"
      ]
     },
     "metadata": {
      "needs_background": "light"
     },
     "output_type": "display_data"
    }
   ],
   "source": [
    "plt.figure(figsize =(8,4))\n",
    "plt.pcolor(df1)\n",
    "plt.xticks(np.arange(0.5, len(df1.columns), 1), df.columns)\n",
    "plt.yticks(np.arange(0.5, len(df1.index), 1), df.index)\n",
    "plt.title('Price(kg) of Oyster', fontsize=20)\n",
    "plt.xlabel('Month', fontsize=14)\n",
    "plt.ylabel('Year', fontsize=14)\n",
    "plt.colorbar()\n",
    "\n",
    "plt.show()\n"
   ]
  },
  {
   "cell_type": "code",
   "execution_count": 49,
   "metadata": {
    "ExecuteTime": {
     "end_time": "2021-04-21T06:33:08.209497Z",
     "start_time": "2021-04-21T06:33:08.096078Z"
    }
   },
   "outputs": [],
   "source": [
    "data.to_csv('./final/굴_최종(0421)')"
   ]
  },
  {
   "cell_type": "code",
   "execution_count": 51,
   "metadata": {
    "ExecuteTime": {
     "end_time": "2021-04-21T06:34:25.871384Z",
     "start_time": "2021-04-21T06:34:25.857178Z"
    }
   },
   "outputs": [],
   "source": [
    "group = data.groupby(['date2'])\n",
    "grouped = group.agg({'qty':'sum','1kg price':'mean'}).round(2)"
   ]
  },
  {
   "cell_type": "code",
   "execution_count": 53,
   "metadata": {
    "ExecuteTime": {
     "end_time": "2021-04-21T06:35:00.888225Z",
     "start_time": "2021-04-21T06:35:00.707060Z"
    }
   },
   "outputs": [],
   "source": [
    "import seaborn as sns"
   ]
  },
  {
   "cell_type": "code",
   "execution_count": 55,
   "metadata": {
    "ExecuteTime": {
     "end_time": "2021-04-21T06:43:50.478970Z",
     "start_time": "2021-04-21T06:43:50.458683Z"
    }
   },
   "outputs": [
    {
     "data": {
      "text/html": [
       "<div>\n",
       "<style scoped>\n",
       "    .dataframe tbody tr th:only-of-type {\n",
       "        vertical-align: middle;\n",
       "    }\n",
       "\n",
       "    .dataframe tbody tr th {\n",
       "        vertical-align: top;\n",
       "    }\n",
       "\n",
       "    .dataframe thead th {\n",
       "        text-align: right;\n",
       "    }\n",
       "</style>\n",
       "<table border=\"1\" class=\"dataframe\">\n",
       "  <thead>\n",
       "    <tr style=\"text-align: right;\">\n",
       "      <th></th>\n",
       "      <th>qty</th>\n",
       "      <th>1kg price</th>\n",
       "    </tr>\n",
       "    <tr>\n",
       "      <th>date2</th>\n",
       "      <th></th>\n",
       "      <th></th>\n",
       "    </tr>\n",
       "  </thead>\n",
       "  <tbody>\n",
       "    <tr>\n",
       "      <th>2006-04</th>\n",
       "      <td>79398.5</td>\n",
       "      <td>4985.68</td>\n",
       "    </tr>\n",
       "    <tr>\n",
       "      <th>2006-05</th>\n",
       "      <td>34612.7</td>\n",
       "      <td>5093.92</td>\n",
       "    </tr>\n",
       "    <tr>\n",
       "      <th>2006-06</th>\n",
       "      <td>15556.6</td>\n",
       "      <td>5429.88</td>\n",
       "    </tr>\n",
       "    <tr>\n",
       "      <th>2006-07</th>\n",
       "      <td>14119.5</td>\n",
       "      <td>5499.22</td>\n",
       "    </tr>\n",
       "    <tr>\n",
       "      <th>2006-08</th>\n",
       "      <td>11779.5</td>\n",
       "      <td>5786.89</td>\n",
       "    </tr>\n",
       "    <tr>\n",
       "      <th>...</th>\n",
       "      <td>...</td>\n",
       "      <td>...</td>\n",
       "    </tr>\n",
       "    <tr>\n",
       "      <th>2020-12</th>\n",
       "      <td>134632.1</td>\n",
       "      <td>10986.30</td>\n",
       "    </tr>\n",
       "    <tr>\n",
       "      <th>2021-01</th>\n",
       "      <td>121173.1</td>\n",
       "      <td>9157.39</td>\n",
       "    </tr>\n",
       "    <tr>\n",
       "      <th>2021-02</th>\n",
       "      <td>85059.1</td>\n",
       "      <td>8730.55</td>\n",
       "    </tr>\n",
       "    <tr>\n",
       "      <th>2021-03</th>\n",
       "      <td>33416.2</td>\n",
       "      <td>7540.82</td>\n",
       "    </tr>\n",
       "    <tr>\n",
       "      <th>2021-04</th>\n",
       "      <td>3707.0</td>\n",
       "      <td>6584.26</td>\n",
       "    </tr>\n",
       "  </tbody>\n",
       "</table>\n",
       "<p>181 rows × 2 columns</p>\n",
       "</div>"
      ],
      "text/plain": [
       "              qty  1kg price\n",
       "date2                       \n",
       "2006-04   79398.5    4985.68\n",
       "2006-05   34612.7    5093.92\n",
       "2006-06   15556.6    5429.88\n",
       "2006-07   14119.5    5499.22\n",
       "2006-08   11779.5    5786.89\n",
       "...           ...        ...\n",
       "2020-12  134632.1   10986.30\n",
       "2021-01  121173.1    9157.39\n",
       "2021-02   85059.1    8730.55\n",
       "2021-03   33416.2    7540.82\n",
       "2021-04    3707.0    6584.26\n",
       "\n",
       "[181 rows x 2 columns]"
      ]
     },
     "execution_count": 55,
     "metadata": {},
     "output_type": "execute_result"
    }
   ],
   "source": [
    "grouped"
   ]
  },
  {
   "cell_type": "code",
   "execution_count": 54,
   "metadata": {
    "ExecuteTime": {
     "end_time": "2021-04-21T06:35:29.622499Z",
     "start_time": "2021-04-21T06:35:29.433658Z"
    }
   },
   "outputs": [
    {
     "data": {
      "text/plain": [
       "<AxesSubplot:xlabel='qty', ylabel='1kg price'>"
      ]
     },
     "execution_count": 54,
     "metadata": {},
     "output_type": "execute_result"
    },
    {
     "data": {
      "image/png": "[encoded data removed]",
      "text/plain": [
       "<Figure size 432x288 with 1 Axes>"
      ]
     },
     "metadata": {
      "needs_background": "light"
     },
     "output_type": "display_data"
    }
   ],
   "source": [
    "sns.scatterplot(x='qty',y='1kg price',data=grouped)"
   ]
  },
  {
   "cell_type": "code",
   "execution_count": 57,
   "metadata": {
    "ExecuteTime": {
     "end_time": "2021-04-21T06:46:54.819949Z",
     "start_time": "2021-04-21T06:46:54.776094Z"
    },
    "scrolled": true
   },
   "outputs": [
    {
     "data": {
      "text/html": [
       "<div>\n",
       "<style scoped>\n",
       "    .dataframe tbody tr th:only-of-type {\n",
       "        vertical-align: middle;\n",
       "    }\n",
       "\n",
       "    .dataframe tbody tr th {\n",
       "        vertical-align: top;\n",
       "    }\n",
       "\n",
       "    .dataframe thead th {\n",
       "        text-align: right;\n",
       "    }\n",
       "</style>\n",
       "<table border=\"1\" class=\"dataframe\">\n",
       "  <thead>\n",
       "    <tr style=\"text-align: right;\">\n",
       "      <th></th>\n",
       "      <th>qty</th>\n",
       "      <th>1kg price</th>\n",
       "    </tr>\n",
       "    <tr>\n",
       "      <th>date</th>\n",
       "      <th></th>\n",
       "      <th></th>\n",
       "    </tr>\n",
       "  </thead>\n",
       "  <tbody>\n",
       "    <tr>\n",
       "      <th>2006-04-04</th>\n",
       "      <td>978.3</td>\n",
       "      <td>4948.71</td>\n",
       "    </tr>\n",
       "    <tr>\n",
       "      <th>2006-04-05</th>\n",
       "      <td>4600.7</td>\n",
       "      <td>4657.56</td>\n",
       "    </tr>\n",
       "    <tr>\n",
       "      <th>2006-04-06</th>\n",
       "      <td>3842.2</td>\n",
       "      <td>4684.90</td>\n",
       "    </tr>\n",
       "    <tr>\n",
       "      <th>2006-04-07</th>\n",
       "      <td>4777.3</td>\n",
       "      <td>4175.11</td>\n",
       "    </tr>\n",
       "    <tr>\n",
       "      <th>2006-04-08</th>\n",
       "      <td>4773.5</td>\n",
       "      <td>4668.08</td>\n",
       "    </tr>\n",
       "    <tr>\n",
       "      <th>...</th>\n",
       "      <td>...</td>\n",
       "      <td>...</td>\n",
       "    </tr>\n",
       "    <tr>\n",
       "      <th>2021-04-03</th>\n",
       "      <td>561.4</td>\n",
       "      <td>4642.59</td>\n",
       "    </tr>\n",
       "    <tr>\n",
       "      <th>2021-04-05</th>\n",
       "      <td>421.1</td>\n",
       "      <td>6149.90</td>\n",
       "    </tr>\n",
       "    <tr>\n",
       "      <th>2021-04-06</th>\n",
       "      <td>290.7</td>\n",
       "      <td>7161.38</td>\n",
       "    </tr>\n",
       "    <tr>\n",
       "      <th>2021-04-07</th>\n",
       "      <td>399.9</td>\n",
       "      <td>7290.73</td>\n",
       "    </tr>\n",
       "    <tr>\n",
       "      <th>2021-04-08</th>\n",
       "      <td>418.7</td>\n",
       "      <td>8752.01</td>\n",
       "    </tr>\n",
       "  </tbody>\n",
       "</table>\n",
       "<p>4602 rows × 2 columns</p>\n",
       "</div>"
      ],
      "text/plain": [
       "               qty  1kg price\n",
       "date                         \n",
       "2006-04-04   978.3    4948.71\n",
       "2006-04-05  4600.7    4657.56\n",
       "2006-04-06  3842.2    4684.90\n",
       "2006-04-07  4777.3    4175.11\n",
       "2006-04-08  4773.5    4668.08\n",
       "...            ...        ...\n",
       "2021-04-03   561.4    4642.59\n",
       "2021-04-05   421.1    6149.90\n",
       "2021-04-06   290.7    7161.38\n",
       "2021-04-07   399.9    7290.73\n",
       "2021-04-08   418.7    8752.01\n",
       "\n",
       "[4602 rows x 2 columns]"
      ]
     },
     "execution_count": 57,
     "metadata": {},
     "output_type": "execute_result"
    }
   ],
   "source": [
    "group = data.groupby(['date'])\n",
    "grouped = group.agg({'qty':'sum','1kg price':'mean'}).round(2)\n",
    "grouped"
   ]
  },
  {
   "cell_type": "code",
   "execution_count": 58,
   "metadata": {
    "ExecuteTime": {
     "end_time": "2021-04-21T06:47:19.559055Z",
     "start_time": "2021-04-21T06:47:19.544144Z"
    }
   },
   "outputs": [],
   "source": [
    "y= grouped['1kg price'].values"
   ]
  },
  {
   "cell_type": "code",
   "execution_count": 59,
   "metadata": {
    "ExecuteTime": {
     "end_time": "2021-04-21T06:47:22.477239Z",
     "start_time": "2021-04-21T06:47:22.463134Z"
    }
   },
   "outputs": [
    {
     "data": {
      "text/plain": [
       "3451"
      ]
     },
     "execution_count": 59,
     "metadata": {},
     "output_type": "execute_result"
    }
   ],
   "source": [
    "ratio = 0.75\n",
    "cut = np.int(len(y)*ratio)\n",
    "cut"
   ]
  },
  {
   "cell_type": "code",
   "execution_count": 60,
   "metadata": {
    "ExecuteTime": {
     "end_time": "2021-04-21T06:47:25.806182Z",
     "start_time": "2021-04-21T06:47:25.787899Z"
    }
   },
   "outputs": [
    {
     "data": {
      "text/plain": [
       "(4602, 3451)"
      ]
     },
     "execution_count": 60,
     "metadata": {},
     "output_type": "execute_result"
    }
   ],
   "source": [
    "train = y[:cut]\n",
    "test = y[cut:]\n",
    "len(y), len(train)"
   ]
  },
  {
   "cell_type": "code",
   "execution_count": 61,
   "metadata": {
    "ExecuteTime": {
     "end_time": "2021-04-21T06:47:28.555723Z",
     "start_time": "2021-04-21T06:47:28.550328Z"
    }
   },
   "outputs": [],
   "source": [
    "def split_seq(data,n_steps) :\n",
    "    x,y = [], []\n",
    "    for i in range(len(data)) : \n",
    "        if i > len(data)-(n_steps+1) : break\n",
    "        x.append(data[i:i+n_steps])\n",
    "        y.append(data[i+n_steps])\n",
    "    return np.array(x), np.array(y)"
   ]
  },
  {
   "cell_type": "code",
   "execution_count": 62,
   "metadata": {
    "ExecuteTime": {
     "end_time": "2021-04-21T06:47:34.467146Z",
     "start_time": "2021-04-21T06:47:34.087631Z"
    }
   },
   "outputs": [],
   "source": [
    "from sklearn.linear_model import LinearRegression\n",
    "\n",
    "# 모델만들기\n",
    "lr = LinearRegression()\n",
    "# 과거 10일 기온데이터를 사용해서 내일 기온을 예측하는 경우\n",
    "# 과거 2-3일치를 확인해도 거의 비슷함\n",
    "# 바로 내일의 예측은 간단한 문제로 보지만 7일 후, 1달 후는 예측하는 것이 어려운 문제\n",
    "\n",
    "n_steps = 10\n",
    "\n",
    "# 훈련데이터\n",
    "train_x, train_y = split_seq(train,n_steps) # 사용자정의함수\n",
    "\n",
    "# 검증데이터\n",
    "test_x, test_y = split_seq(test,n_steps)"
   ]
  },
  {
   "cell_type": "code",
   "execution_count": 63,
   "metadata": {
    "ExecuteTime": {
     "end_time": "2021-04-21T06:47:42.005075Z",
     "start_time": "2021-04-21T06:47:41.997973Z"
    }
   },
   "outputs": [
    {
     "data": {
      "text/plain": [
       "3441"
      ]
     },
     "execution_count": 63,
     "metadata": {},
     "output_type": "execute_result"
    }
   ],
   "source": [
    "len(train_x)"
   ]
  },
  {
   "cell_type": "code",
   "execution_count": 64,
   "metadata": {
    "ExecuteTime": {
     "end_time": "2021-04-21T06:47:56.905472Z",
     "start_time": "2021-04-21T06:47:56.851489Z"
    }
   },
   "outputs": [
    {
     "data": {
      "text/plain": [
       "LinearRegression()"
      ]
     },
     "execution_count": 64,
     "metadata": {},
     "output_type": "execute_result"
    }
   ],
   "source": [
    "lr.fit(train_x,train_y)"
   ]
  },
  {
   "cell_type": "code",
   "execution_count": 65,
   "metadata": {
    "ExecuteTime": {
     "end_time": "2021-04-21T06:48:04.015003Z",
     "start_time": "2021-04-21T06:48:04.001200Z"
    }
   },
   "outputs": [
    {
     "data": {
      "text/plain": [
       "0.743"
      ]
     },
     "execution_count": 65,
     "metadata": {},
     "output_type": "execute_result"
    }
   ],
   "source": [
    "lr.score(test_x,test_y).round(4)"
   ]
  },
  {
   "cell_type": "code",
   "execution_count": 66,
   "metadata": {
    "ExecuteTime": {
     "end_time": "2021-04-21T06:48:14.569287Z",
     "start_time": "2021-04-21T06:48:14.564453Z"
    }
   },
   "outputs": [],
   "source": [
    "y_pred = lr.predict(test_x)"
   ]
  },
  {
   "cell_type": "code",
   "execution_count": 74,
   "metadata": {
    "ExecuteTime": {
     "end_time": "2021-04-21T07:35:06.520887Z",
     "start_time": "2021-04-21T07:35:06.371367Z"
    }
   },
   "outputs": [
    {
     "data": {
      "image/png": "[encoded data removed]",
      "text/plain": [
       "<Figure size 1296x432 with 1 Axes>"
      ]
     },
     "metadata": {
      "needs_background": "light"
     },
     "output_type": "display_data"
    }
   ],
   "source": [
    "plt.figure(figsize=[18,6])\n",
    "plt.plot(test_y,c='r')\n",
    "plt.plot(y_pred,c='b')\n",
    "plt.show()"
   ]
  },
  {
   "cell_type": "code",
   "execution_count": 73,
   "metadata": {
    "ExecuteTime": {
     "end_time": "2021-04-21T07:35:06.277599Z",
     "start_time": "2021-04-21T07:33:38.543312Z"
    }
   },
   "outputs": [
    {
     "data": {
      "text/plain": [
       "[<matplotlib.lines.Line2D at 0x217a263fee0>]"
      ]
     },
     "execution_count": 73,
     "metadata": {},
     "output_type": "execute_result"
    },
    {
     "data": {
      "image/png": "[encoded data removed]",
      "text/plain": [
       "<Figure size 1440x432 with 1 Axes>"
      ]
     },
     "metadata": {
      "needs_background": "light"
     },
     "output_type": "display_data"
    }
   ],
   "source": [
    "plt.figure(figsize=(20,6))\n",
    "plt.plot(grouped.index,grouped['1kg price'])"
   ]
  },
  {
   "cell_type": "code",
   "execution_count": 76,
   "metadata": {
    "ExecuteTime": {
     "end_time": "2021-04-21T07:39:37.627000Z",
     "start_time": "2021-04-21T07:39:37.609003Z"
    }
   },
   "outputs": [
    {
     "data": {
      "text/plain": [
       "array([4948.71, 4657.56, 4684.9 , ..., 7161.38, 7290.73, 8752.01])"
      ]
     },
     "execution_count": 76,
     "metadata": {},
     "output_type": "execute_result"
    }
   ],
   "source": [
    "y"
   ]
  },
  {
   "cell_type": "code",
   "execution_count": 100,
   "metadata": {
    "ExecuteTime": {
     "end_time": "2021-04-21T07:42:24.209249Z",
     "start_time": "2021-04-21T07:42:24.202151Z"
    }
   },
   "outputs": [
    {
     "data": {
      "text/plain": [
       "date\n",
       "2006-04-04     978.3\n",
       "2006-04-05    4600.7\n",
       "2006-04-06    3842.2\n",
       "2006-04-07    4777.3\n",
       "2006-04-08    4773.5\n",
       "               ...  \n",
       "2021-04-03     561.4\n",
       "2021-04-05     421.1\n",
       "2021-04-06     290.7\n",
       "2021-04-07     399.9\n",
       "2021-04-08     418.7\n",
       "Name: qty, Length: 4602, dtype: float64"
      ]
     },
     "execution_count": 100,
     "metadata": {},
     "output_type": "execute_result"
    }
   ],
   "source": [
    "=grouped.iloc[:,0]"
   ]
  },
  {
   "cell_type": "code",
   "execution_count": 107,
   "metadata": {
    "ExecuteTime": {
     "end_time": "2021-04-21T07:44:29.407744Z",
     "start_time": "2021-04-21T07:44:29.015126Z"
    }
   },
   "outputs": [
    {
     "data": {
      "image/png": "[encoded data removed]",
      "text/plain": [
       "<Figure size 432x288 with 1 Axes>"
      ]
     },
     "execution_count": 107,
     "metadata": {},
     "output_type": "execute_result"
    },
    {
     "data": {
      "image/png": "[encoded data removed]",
      "text/plain": [
       "<Figure size 432x288 with 1 Axes>"
      ]
     },
     "metadata": {
      "needs_background": "light"
     },
     "output_type": "display_data"
    },
    {
     "data": {
      "image/png": "[encoded data removed]",
      "text/plain": [
       "<Figure size 432x288 with 1 Axes>"
      ]
     },
     "metadata": {
      "needs_background": "light"
     },
     "output_type": "display_data"
    }
   ],
   "source": [
    "import matplotlib.pyplot as plt\n",
    "from statsmodels.graphics.tsaplots import plot_acf,plot_pacf\n",
    "plot_acf(grouped.iloc[:,0])\n",
    "plot_pacf(grouped.iloc[:,0])"
   ]
  },
  {
   "cell_type": "code",
   "execution_count": null,
   "metadata": {},
   "outputs": [],
   "source": []
  }
 ],
 "metadata": {
  "kernelspec": {
   "display_name": "Python 3",
   "language": "python",
   "name": "python3"
  },
  "language_info": {
   "codemirror_mode": {
    "name": "ipython",
    "version": 3
   },
   "file_extension": ".py",
   "mimetype": "text/x-python",
   "name": "python",
   "nbconvert_exporter": "python",
   "pygments_lexer": "ipython3",
   "version": "3.8.5"
  },
  "toc": {
   "base_numbering": 1,
   "nav_menu": {},
   "number_sections": true,
   "sideBar": true,
   "skip_h1_title": false,
   "title_cell": "Table of Contents",
   "title_sidebar": "Contents",
   "toc_cell": false,
   "toc_position": {},
   "toc_section_display": true,
   "toc_window_display": false
  },
  "varInspector": {
   "cols": {
    "lenName": 16,
    "lenType": 16,
    "lenVar": 40
   },
   "kernels_config": {
    "python": {
     "delete_cmd_postfix": "",
     "delete_cmd_prefix": "del ",
     "library": "var_list.py",
     "varRefreshCmd": "print(var_dic_list())"
    },
    "r": {
     "delete_cmd_postfix": ") ",
     "delete_cmd_prefix": "rm(",
     "library": "var_list.r",
     "varRefreshCmd": "cat(var_dic_list()) "
    }
   },
   "types_to_exclude": [
    "module",
    "function",
    "builtin_function_or_method",
    "instance",
    "_Feature"
   ],
   "window_display": false
  }
 },
 "nbformat": 4,
 "nbformat_minor": 4
}
