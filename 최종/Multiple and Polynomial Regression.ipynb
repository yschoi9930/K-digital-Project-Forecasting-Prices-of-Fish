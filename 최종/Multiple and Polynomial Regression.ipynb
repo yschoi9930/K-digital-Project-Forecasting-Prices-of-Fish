{
 "cells": [
  {
   "cell_type": "code",
   "execution_count": 1,
   "metadata": {
    "ExecuteTime": {
     "end_time": "2021-04-25T14:19:07.831176Z",
     "start_time": "2021-04-25T14:19:05.384404Z"
    }
   },
   "outputs": [],
   "source": [
    "import selenium\n",
    "from selenium import webdriver\n",
    "from urllib.parse import quote\n",
    "import requests\n",
    "from bs4 import BeautifulSoup\n",
    "import pandas as pd\n",
    "import numpy as np\n",
    "import string\n",
    "import matplotlib.pyplot as plt\n",
    "%matplotlib inline\n",
    "import platform\n",
    "from scipy.stats import *\n",
    "from matplotlib import font_manager, rc\n",
    "plt.rcParams['axes.unicode_minus'] = False\n",
    "\n",
    "if platform.system() == 'Darwin':  # 맥OS \n",
    "    rc('font', family='AppleGothic')\n",
    "elif platform.system() == 'Windows': \n",
    "    # 윈도우   \n",
    "    path = \"c:/Windows/Fonts/malgun.ttf\"\n",
    "    font_name = font_manager.FontProperties(fname=path).get_name()\n",
    "    rc('font', family=font_name)\n",
    "else:\n",
    "    print('Unknown system...  sorry~~~')"
   ]
  },
  {
   "cell_type": "markdown",
   "metadata": {},
   "source": [
    "# 다중 회귀분석"
   ]
  },
  {
   "cell_type": "code",
   "execution_count": 3,
   "metadata": {
    "ExecuteTime": {
     "end_time": "2021-04-25T14:20:25.332648Z",
     "start_time": "2021-04-25T14:20:25.301693Z"
    }
   },
   "outputs": [],
   "source": [
    "data = pd.read_csv('./final/(0425)그룹화 최종.csv', index_col=0)"
   ]
  },
  {
   "cell_type": "code",
   "execution_count": 4,
   "metadata": {
    "ExecuteTime": {
     "end_time": "2021-04-25T14:20:27.130719Z",
     "start_time": "2021-04-25T14:20:27.101901Z"
    }
   },
   "outputs": [
    {
     "data": {
      "text/html": [
       "<div>\n",
       "<style scoped>\n",
       "    .dataframe tbody tr th:only-of-type {\n",
       "        vertical-align: middle;\n",
       "    }\n",
       "\n",
       "    .dataframe tbody tr th {\n",
       "        vertical-align: top;\n",
       "    }\n",
       "\n",
       "    .dataframe thead th {\n",
       "        text-align: right;\n",
       "    }\n",
       "</style>\n",
       "<table border=\"1\" class=\"dataframe\">\n",
       "  <thead>\n",
       "    <tr style=\"text-align: right;\">\n",
       "      <th></th>\n",
       "      <th>qty</th>\n",
       "      <th>1kg price</th>\n",
       "      <th>temp</th>\n",
       "      <th>temp_sc</th>\n",
       "      <th>qty_sc</th>\n",
       "    </tr>\n",
       "    <tr>\n",
       "      <th>date</th>\n",
       "      <th></th>\n",
       "      <th></th>\n",
       "      <th></th>\n",
       "      <th></th>\n",
       "      <th></th>\n",
       "    </tr>\n",
       "  </thead>\n",
       "  <tbody>\n",
       "    <tr>\n",
       "      <th>2006.04.04</th>\n",
       "      <td>978.3</td>\n",
       "      <td>4948.71</td>\n",
       "      <td>12.02</td>\n",
       "      <td>-0.853048</td>\n",
       "      <td>-0.652525</td>\n",
       "    </tr>\n",
       "    <tr>\n",
       "      <th>2006.04.05</th>\n",
       "      <td>4600.7</td>\n",
       "      <td>4447.32</td>\n",
       "      <td>11.90</td>\n",
       "      <td>-0.876107</td>\n",
       "      <td>0.042461</td>\n",
       "    </tr>\n",
       "    <tr>\n",
       "      <th>2006.04.06</th>\n",
       "      <td>3842.2</td>\n",
       "      <td>4620.74</td>\n",
       "      <td>12.12</td>\n",
       "      <td>-0.833833</td>\n",
       "      <td>-0.103063</td>\n",
       "    </tr>\n",
       "    <tr>\n",
       "      <th>2006.04.07</th>\n",
       "      <td>4777.3</td>\n",
       "      <td>4060.83</td>\n",
       "      <td>12.18</td>\n",
       "      <td>-0.822304</td>\n",
       "      <td>0.076343</td>\n",
       "    </tr>\n",
       "    <tr>\n",
       "      <th>2006.04.08</th>\n",
       "      <td>4773.5</td>\n",
       "      <td>4547.00</td>\n",
       "      <td>12.17</td>\n",
       "      <td>-0.824225</td>\n",
       "      <td>0.075614</td>\n",
       "    </tr>\n",
       "    <tr>\n",
       "      <th>...</th>\n",
       "      <td>...</td>\n",
       "      <td>...</td>\n",
       "      <td>...</td>\n",
       "      <td>...</td>\n",
       "      <td>...</td>\n",
       "    </tr>\n",
       "    <tr>\n",
       "      <th>2021.04.03</th>\n",
       "      <td>561.4</td>\n",
       "      <td>4642.59</td>\n",
       "      <td>13.30</td>\n",
       "      <td>-0.607090</td>\n",
       "      <td>-0.732510</td>\n",
       "    </tr>\n",
       "    <tr>\n",
       "      <th>2021.04.05</th>\n",
       "      <td>421.1</td>\n",
       "      <td>5653.34</td>\n",
       "      <td>13.32</td>\n",
       "      <td>-0.603247</td>\n",
       "      <td>-0.759428</td>\n",
       "    </tr>\n",
       "    <tr>\n",
       "      <th>2021.04.06</th>\n",
       "      <td>290.7</td>\n",
       "      <td>7392.06</td>\n",
       "      <td>13.35</td>\n",
       "      <td>-0.597483</td>\n",
       "      <td>-0.784446</td>\n",
       "    </tr>\n",
       "    <tr>\n",
       "      <th>2021.04.07</th>\n",
       "      <td>399.9</td>\n",
       "      <td>7735.17</td>\n",
       "      <td>13.42</td>\n",
       "      <td>-0.584032</td>\n",
       "      <td>-0.763496</td>\n",
       "    </tr>\n",
       "    <tr>\n",
       "      <th>2021.04.08</th>\n",
       "      <td>418.7</td>\n",
       "      <td>8752.01</td>\n",
       "      <td>13.58</td>\n",
       "      <td>-0.553287</td>\n",
       "      <td>-0.759889</td>\n",
       "    </tr>\n",
       "  </tbody>\n",
       "</table>\n",
       "<p>4602 rows × 5 columns</p>\n",
       "</div>"
      ],
      "text/plain": [
       "               qty  1kg price   temp   temp_sc    qty_sc\n",
       "date                                                    \n",
       "2006.04.04   978.3    4948.71  12.02 -0.853048 -0.652525\n",
       "2006.04.05  4600.7    4447.32  11.90 -0.876107  0.042461\n",
       "2006.04.06  3842.2    4620.74  12.12 -0.833833 -0.103063\n",
       "2006.04.07  4777.3    4060.83  12.18 -0.822304  0.076343\n",
       "2006.04.08  4773.5    4547.00  12.17 -0.824225  0.075614\n",
       "...            ...        ...    ...       ...       ...\n",
       "2021.04.03   561.4    4642.59  13.30 -0.607090 -0.732510\n",
       "2021.04.05   421.1    5653.34  13.32 -0.603247 -0.759428\n",
       "2021.04.06   290.7    7392.06  13.35 -0.597483 -0.784446\n",
       "2021.04.07   399.9    7735.17  13.42 -0.584032 -0.763496\n",
       "2021.04.08   418.7    8752.01  13.58 -0.553287 -0.759889\n",
       "\n",
       "[4602 rows x 5 columns]"
      ]
     },
     "execution_count": 4,
     "metadata": {},
     "output_type": "execute_result"
    }
   ],
   "source": [
    "data"
   ]
  },
  {
   "cell_type": "code",
   "execution_count": 15,
   "metadata": {
    "ExecuteTime": {
     "end_time": "2021-04-25T14:57:25.947756Z",
     "start_time": "2021-04-25T14:57:25.943245Z"
    }
   },
   "outputs": [],
   "source": [
    "from sklearn.preprocessing import StandardScaler\n",
    "scale = StandardScaler()"
   ]
  },
  {
   "cell_type": "code",
   "execution_count": 17,
   "metadata": {
    "ExecuteTime": {
     "end_time": "2021-04-25T14:57:48.436088Z",
     "start_time": "2021-04-25T14:57:48.419852Z"
    }
   },
   "outputs": [],
   "source": [
    "data[['1kg price_sc']] =  scale.fit_transform(data[['1kg price']])"
   ]
  },
  {
   "cell_type": "code",
   "execution_count": 18,
   "metadata": {
    "ExecuteTime": {
     "end_time": "2021-04-25T14:57:54.846410Z",
     "start_time": "2021-04-25T14:57:54.830170Z"
    }
   },
   "outputs": [],
   "source": [
    "from sklearn.model_selection import train_test_split\n",
    "x = data[['temp_sc','qty_sc']]\n",
    "y = data[['1kg price_sc']]\n",
    "x_train, x_test, y_train, y_test = train_test_split(x, y, train_size=0.8, test_size=0.2)"
   ]
  },
  {
   "cell_type": "code",
   "execution_count": 19,
   "metadata": {
    "ExecuteTime": {
     "end_time": "2021-04-25T14:57:57.714054Z",
     "start_time": "2021-04-25T14:57:57.681247Z"
    }
   },
   "outputs": [
    {
     "data": {
      "text/plain": [
       "LinearRegression()"
      ]
     },
     "execution_count": 19,
     "metadata": {},
     "output_type": "execute_result"
    }
   ],
   "source": [
    "from sklearn.linear_model import LinearRegression\n",
    "from sklearn.model_selection import train_test_split\n",
    "from sklearn.linear_model import LinearRegression\n",
    "from sklearn.metrics import mean_squared_error, r2_score\n",
    "mlr = LinearRegression()\n",
    "mlr.fit(x_train, y_train) "
   ]
  },
  {
   "cell_type": "code",
   "execution_count": 31,
   "metadata": {
    "ExecuteTime": {
     "end_time": "2021-04-26T15:31:00.144109Z",
     "start_time": "2021-04-26T15:31:00.027125Z"
    }
   },
   "outputs": [
    {
     "name": "stdout",
     "output_type": "stream",
     "text": [
      "MSE : 0.945, RMSE : 0.972\n",
      "Variance Score : 0.102\n"
     ]
    }
   ],
   "source": [
    "y_pred = mlr.predict(x_test)\n",
    "mse = mean_squared_error(y_test,y_pred)\n",
    "rmse = np.sqrt(mse)\n",
    "\n",
    "print('MSE : {0:.3f}, RMSE : {1:.3f}'.format(mse, rmse))\n",
    "print('Variance Score : {0:.3f}'.format(r2_score(y_test,y_pred)))"
   ]
  },
  {
   "cell_type": "code",
   "execution_count": 32,
   "metadata": {
    "ExecuteTime": {
     "end_time": "2021-04-26T15:33:13.311931Z",
     "start_time": "2021-04-26T15:33:13.271765Z"
    }
   },
   "outputs": [
    {
     "data": {
      "text/html": [
       "<div>\n",
       "<style scoped>\n",
       "    .dataframe tbody tr th:only-of-type {\n",
       "        vertical-align: middle;\n",
       "    }\n",
       "\n",
       "    .dataframe tbody tr th {\n",
       "        vertical-align: top;\n",
       "    }\n",
       "\n",
       "    .dataframe thead th {\n",
       "        text-align: right;\n",
       "    }\n",
       "</style>\n",
       "<table border=\"1\" class=\"dataframe\">\n",
       "  <thead>\n",
       "    <tr style=\"text-align: right;\">\n",
       "      <th></th>\n",
       "      <th>qty</th>\n",
       "      <th>1kg price</th>\n",
       "      <th>temp</th>\n",
       "      <th>temp_sc</th>\n",
       "      <th>qty_sc</th>\n",
       "      <th>1kg price_sc</th>\n",
       "    </tr>\n",
       "    <tr>\n",
       "      <th>date</th>\n",
       "      <th></th>\n",
       "      <th></th>\n",
       "      <th></th>\n",
       "      <th></th>\n",
       "      <th></th>\n",
       "      <th></th>\n",
       "    </tr>\n",
       "  </thead>\n",
       "  <tbody>\n",
       "    <tr>\n",
       "      <th>2006.04.04</th>\n",
       "      <td>978.3</td>\n",
       "      <td>4948.71</td>\n",
       "      <td>12.02</td>\n",
       "      <td>-0.853048</td>\n",
       "      <td>-0.652525</td>\n",
       "      <td>-1.123396</td>\n",
       "    </tr>\n",
       "    <tr>\n",
       "      <th>2006.04.05</th>\n",
       "      <td>4600.7</td>\n",
       "      <td>4447.32</td>\n",
       "      <td>11.90</td>\n",
       "      <td>-0.876107</td>\n",
       "      <td>0.042461</td>\n",
       "      <td>-1.350797</td>\n",
       "    </tr>\n",
       "    <tr>\n",
       "      <th>2006.04.06</th>\n",
       "      <td>3842.2</td>\n",
       "      <td>4620.74</td>\n",
       "      <td>12.12</td>\n",
       "      <td>-0.833833</td>\n",
       "      <td>-0.103063</td>\n",
       "      <td>-1.272144</td>\n",
       "    </tr>\n",
       "    <tr>\n",
       "      <th>2006.04.07</th>\n",
       "      <td>4777.3</td>\n",
       "      <td>4060.83</td>\n",
       "      <td>12.18</td>\n",
       "      <td>-0.822304</td>\n",
       "      <td>0.076343</td>\n",
       "      <td>-1.526086</td>\n",
       "    </tr>\n",
       "    <tr>\n",
       "      <th>2006.04.08</th>\n",
       "      <td>4773.5</td>\n",
       "      <td>4547.00</td>\n",
       "      <td>12.17</td>\n",
       "      <td>-0.824225</td>\n",
       "      <td>0.075614</td>\n",
       "      <td>-1.305588</td>\n",
       "    </tr>\n",
       "    <tr>\n",
       "      <th>...</th>\n",
       "      <td>...</td>\n",
       "      <td>...</td>\n",
       "      <td>...</td>\n",
       "      <td>...</td>\n",
       "      <td>...</td>\n",
       "      <td>...</td>\n",
       "    </tr>\n",
       "    <tr>\n",
       "      <th>2021.04.03</th>\n",
       "      <td>561.4</td>\n",
       "      <td>4642.59</td>\n",
       "      <td>13.30</td>\n",
       "      <td>-0.607090</td>\n",
       "      <td>-0.732510</td>\n",
       "      <td>-1.262234</td>\n",
       "    </tr>\n",
       "    <tr>\n",
       "      <th>2021.04.05</th>\n",
       "      <td>421.1</td>\n",
       "      <td>5653.34</td>\n",
       "      <td>13.32</td>\n",
       "      <td>-0.603247</td>\n",
       "      <td>-0.759428</td>\n",
       "      <td>-0.803817</td>\n",
       "    </tr>\n",
       "    <tr>\n",
       "      <th>2021.04.06</th>\n",
       "      <td>290.7</td>\n",
       "      <td>7392.06</td>\n",
       "      <td>13.35</td>\n",
       "      <td>-0.597483</td>\n",
       "      <td>-0.784446</td>\n",
       "      <td>-0.015236</td>\n",
       "    </tr>\n",
       "    <tr>\n",
       "      <th>2021.04.07</th>\n",
       "      <td>399.9</td>\n",
       "      <td>7735.17</td>\n",
       "      <td>13.42</td>\n",
       "      <td>-0.584032</td>\n",
       "      <td>-0.763496</td>\n",
       "      <td>0.140379</td>\n",
       "    </tr>\n",
       "    <tr>\n",
       "      <th>2021.04.08</th>\n",
       "      <td>418.7</td>\n",
       "      <td>8752.01</td>\n",
       "      <td>13.58</td>\n",
       "      <td>-0.553287</td>\n",
       "      <td>-0.759889</td>\n",
       "      <td>0.601558</td>\n",
       "    </tr>\n",
       "  </tbody>\n",
       "</table>\n",
       "<p>4602 rows × 6 columns</p>\n",
       "</div>"
      ],
      "text/plain": [
       "               qty  1kg price   temp   temp_sc    qty_sc  1kg price_sc\n",
       "date                                                                  \n",
       "2006.04.04   978.3    4948.71  12.02 -0.853048 -0.652525     -1.123396\n",
       "2006.04.05  4600.7    4447.32  11.90 -0.876107  0.042461     -1.350797\n",
       "2006.04.06  3842.2    4620.74  12.12 -0.833833 -0.103063     -1.272144\n",
       "2006.04.07  4777.3    4060.83  12.18 -0.822304  0.076343     -1.526086\n",
       "2006.04.08  4773.5    4547.00  12.17 -0.824225  0.075614     -1.305588\n",
       "...            ...        ...    ...       ...       ...           ...\n",
       "2021.04.03   561.4    4642.59  13.30 -0.607090 -0.732510     -1.262234\n",
       "2021.04.05   421.1    5653.34  13.32 -0.603247 -0.759428     -0.803817\n",
       "2021.04.06   290.7    7392.06  13.35 -0.597483 -0.784446     -0.015236\n",
       "2021.04.07   399.9    7735.17  13.42 -0.584032 -0.763496      0.140379\n",
       "2021.04.08   418.7    8752.01  13.58 -0.553287 -0.759889      0.601558\n",
       "\n",
       "[4602 rows x 6 columns]"
      ]
     },
     "execution_count": 32,
     "metadata": {},
     "output_type": "execute_result"
    }
   ],
   "source": [
    "data"
   ]
  },
  {
   "cell_type": "markdown",
   "metadata": {},
   "source": [
    "# 다항회귀분석"
   ]
  },
  {
   "cell_type": "code",
   "execution_count": 22,
   "metadata": {
    "ExecuteTime": {
     "end_time": "2021-04-25T15:01:10.759070Z",
     "start_time": "2021-04-25T15:01:10.472160Z"
    }
   },
   "outputs": [],
   "source": [
    "import seaborn as sns"
   ]
  },
  {
   "cell_type": "code",
   "execution_count": 27,
   "metadata": {
    "ExecuteTime": {
     "end_time": "2021-04-25T15:01:59.757092Z",
     "start_time": "2021-04-25T15:01:59.359187Z"
    }
   },
   "outputs": [
    {
     "data": {
      "text/plain": [
       "<AxesSubplot:xlabel='qty_sc', ylabel='1kg price_sc'>"
      ]
     },
     "execution_count": 27,
     "metadata": {},
     "output_type": "execute_result"
    },
    {
     "data": {
      "image/png": "[encoded data removed]",
      "text/plain": [
       "<Figure size 432x288 with 1 Axes>"
      ]
     },
     "metadata": {
      "needs_background": "light"
     },
     "output_type": "display_data"
    }
   ],
   "source": [
    "sns.scatterplot(x='qty_sc',y='1kg price_sc', data = data)"
   ]
  },
  {
   "cell_type": "code",
   "execution_count": 28,
   "metadata": {
    "ExecuteTime": {
     "end_time": "2021-04-26T09:14:32.188842Z",
     "start_time": "2021-04-26T09:14:31.892135Z"
    }
   },
   "outputs": [
    {
     "data": {
      "text/plain": [
       "<AxesSubplot:xlabel='temp_sc', ylabel='1kg price_sc'>"
      ]
     },
     "execution_count": 28,
     "metadata": {},
     "output_type": "execute_result"
    },
    {
     "data": {
      "image/png": "[encoded data removed]",
      "text/plain": [
       "<Figure size 432x288 with 1 Axes>"
      ]
     },
     "metadata": {
      "needs_background": "light"
     },
     "output_type": "display_data"
    }
   ],
   "source": [
    "sns.scatterplot(x='temp_sc',y='1kg price_sc', data = data)"
   ]
  },
  {
   "cell_type": "code",
   "execution_count": 29,
   "metadata": {
    "ExecuteTime": {
     "end_time": "2021-04-26T09:15:36.722698Z",
     "start_time": "2021-04-26T09:15:36.677685Z"
    }
   },
   "outputs": [
    {
     "data": {
      "text/html": [
       "<div>\n",
       "<style scoped>\n",
       "    .dataframe tbody tr th:only-of-type {\n",
       "        vertical-align: middle;\n",
       "    }\n",
       "\n",
       "    .dataframe tbody tr th {\n",
       "        vertical-align: top;\n",
       "    }\n",
       "\n",
       "    .dataframe thead th {\n",
       "        text-align: right;\n",
       "    }\n",
       "</style>\n",
       "<table border=\"1\" class=\"dataframe\">\n",
       "  <thead>\n",
       "    <tr style=\"text-align: right;\">\n",
       "      <th></th>\n",
       "      <th>qty</th>\n",
       "      <th>1kg price</th>\n",
       "      <th>temp</th>\n",
       "      <th>temp_sc</th>\n",
       "      <th>qty_sc</th>\n",
       "      <th>1kg price_sc</th>\n",
       "    </tr>\n",
       "    <tr>\n",
       "      <th>date</th>\n",
       "      <th></th>\n",
       "      <th></th>\n",
       "      <th></th>\n",
       "      <th></th>\n",
       "      <th></th>\n",
       "      <th></th>\n",
       "    </tr>\n",
       "  </thead>\n",
       "  <tbody>\n",
       "    <tr>\n",
       "      <th>2006.04.04</th>\n",
       "      <td>978.3</td>\n",
       "      <td>4948.71</td>\n",
       "      <td>12.02</td>\n",
       "      <td>-0.853048</td>\n",
       "      <td>-0.652525</td>\n",
       "      <td>-1.123396</td>\n",
       "    </tr>\n",
       "    <tr>\n",
       "      <th>2006.04.05</th>\n",
       "      <td>4600.7</td>\n",
       "      <td>4447.32</td>\n",
       "      <td>11.90</td>\n",
       "      <td>-0.876107</td>\n",
       "      <td>0.042461</td>\n",
       "      <td>-1.350797</td>\n",
       "    </tr>\n",
       "    <tr>\n",
       "      <th>2006.04.06</th>\n",
       "      <td>3842.2</td>\n",
       "      <td>4620.74</td>\n",
       "      <td>12.12</td>\n",
       "      <td>-0.833833</td>\n",
       "      <td>-0.103063</td>\n",
       "      <td>-1.272144</td>\n",
       "    </tr>\n",
       "    <tr>\n",
       "      <th>2006.04.07</th>\n",
       "      <td>4777.3</td>\n",
       "      <td>4060.83</td>\n",
       "      <td>12.18</td>\n",
       "      <td>-0.822304</td>\n",
       "      <td>0.076343</td>\n",
       "      <td>-1.526086</td>\n",
       "    </tr>\n",
       "    <tr>\n",
       "      <th>2006.04.08</th>\n",
       "      <td>4773.5</td>\n",
       "      <td>4547.00</td>\n",
       "      <td>12.17</td>\n",
       "      <td>-0.824225</td>\n",
       "      <td>0.075614</td>\n",
       "      <td>-1.305588</td>\n",
       "    </tr>\n",
       "    <tr>\n",
       "      <th>...</th>\n",
       "      <td>...</td>\n",
       "      <td>...</td>\n",
       "      <td>...</td>\n",
       "      <td>...</td>\n",
       "      <td>...</td>\n",
       "      <td>...</td>\n",
       "    </tr>\n",
       "    <tr>\n",
       "      <th>2021.04.03</th>\n",
       "      <td>561.4</td>\n",
       "      <td>4642.59</td>\n",
       "      <td>13.30</td>\n",
       "      <td>-0.607090</td>\n",
       "      <td>-0.732510</td>\n",
       "      <td>-1.262234</td>\n",
       "    </tr>\n",
       "    <tr>\n",
       "      <th>2021.04.05</th>\n",
       "      <td>421.1</td>\n",
       "      <td>5653.34</td>\n",
       "      <td>13.32</td>\n",
       "      <td>-0.603247</td>\n",
       "      <td>-0.759428</td>\n",
       "      <td>-0.803817</td>\n",
       "    </tr>\n",
       "    <tr>\n",
       "      <th>2021.04.06</th>\n",
       "      <td>290.7</td>\n",
       "      <td>7392.06</td>\n",
       "      <td>13.35</td>\n",
       "      <td>-0.597483</td>\n",
       "      <td>-0.784446</td>\n",
       "      <td>-0.015236</td>\n",
       "    </tr>\n",
       "    <tr>\n",
       "      <th>2021.04.07</th>\n",
       "      <td>399.9</td>\n",
       "      <td>7735.17</td>\n",
       "      <td>13.42</td>\n",
       "      <td>-0.584032</td>\n",
       "      <td>-0.763496</td>\n",
       "      <td>0.140379</td>\n",
       "    </tr>\n",
       "    <tr>\n",
       "      <th>2021.04.08</th>\n",
       "      <td>418.7</td>\n",
       "      <td>8752.01</td>\n",
       "      <td>13.58</td>\n",
       "      <td>-0.553287</td>\n",
       "      <td>-0.759889</td>\n",
       "      <td>0.601558</td>\n",
       "    </tr>\n",
       "  </tbody>\n",
       "</table>\n",
       "<p>4602 rows × 6 columns</p>\n",
       "</div>"
      ],
      "text/plain": [
       "               qty  1kg price   temp   temp_sc    qty_sc  1kg price_sc\n",
       "date                                                                  \n",
       "2006.04.04   978.3    4948.71  12.02 -0.853048 -0.652525     -1.123396\n",
       "2006.04.05  4600.7    4447.32  11.90 -0.876107  0.042461     -1.350797\n",
       "2006.04.06  3842.2    4620.74  12.12 -0.833833 -0.103063     -1.272144\n",
       "2006.04.07  4777.3    4060.83  12.18 -0.822304  0.076343     -1.526086\n",
       "2006.04.08  4773.5    4547.00  12.17 -0.824225  0.075614     -1.305588\n",
       "...            ...        ...    ...       ...       ...           ...\n",
       "2021.04.03   561.4    4642.59  13.30 -0.607090 -0.732510     -1.262234\n",
       "2021.04.05   421.1    5653.34  13.32 -0.603247 -0.759428     -0.803817\n",
       "2021.04.06   290.7    7392.06  13.35 -0.597483 -0.784446     -0.015236\n",
       "2021.04.07   399.9    7735.17  13.42 -0.584032 -0.763496      0.140379\n",
       "2021.04.08   418.7    8752.01  13.58 -0.553287 -0.759889      0.601558\n",
       "\n",
       "[4602 rows x 6 columns]"
      ]
     },
     "execution_count": 29,
     "metadata": {},
     "output_type": "execute_result"
    }
   ],
   "source": [
    "data"
   ]
  },
  {
   "cell_type": "code",
   "execution_count": 30,
   "metadata": {
    "ExecuteTime": {
     "end_time": "2021-04-26T09:16:10.369556Z",
     "start_time": "2021-04-26T09:16:10.339903Z"
    }
   },
   "outputs": [
    {
     "data": {
      "text/html": [
       "<div>\n",
       "<style scoped>\n",
       "    .dataframe tbody tr th:only-of-type {\n",
       "        vertical-align: middle;\n",
       "    }\n",
       "\n",
       "    .dataframe tbody tr th {\n",
       "        vertical-align: top;\n",
       "    }\n",
       "\n",
       "    .dataframe thead th {\n",
       "        text-align: right;\n",
       "    }\n",
       "</style>\n",
       "<table border=\"1\" class=\"dataframe\">\n",
       "  <thead>\n",
       "    <tr style=\"text-align: right;\">\n",
       "      <th></th>\n",
       "      <th>qty</th>\n",
       "      <th>1kg price</th>\n",
       "      <th>temp</th>\n",
       "      <th>temp_sc</th>\n",
       "      <th>qty_sc</th>\n",
       "      <th>1kg price_sc</th>\n",
       "    </tr>\n",
       "  </thead>\n",
       "  <tbody>\n",
       "    <tr>\n",
       "      <th>qty</th>\n",
       "      <td>1.000000</td>\n",
       "      <td>0.241096</td>\n",
       "      <td>-0.553020</td>\n",
       "      <td>-0.553020</td>\n",
       "      <td>1.000000</td>\n",
       "      <td>0.241096</td>\n",
       "    </tr>\n",
       "    <tr>\n",
       "      <th>1kg price</th>\n",
       "      <td>0.241096</td>\n",
       "      <td>1.000000</td>\n",
       "      <td>0.048214</td>\n",
       "      <td>0.048214</td>\n",
       "      <td>0.241096</td>\n",
       "      <td>1.000000</td>\n",
       "    </tr>\n",
       "    <tr>\n",
       "      <th>temp</th>\n",
       "      <td>-0.553020</td>\n",
       "      <td>0.048214</td>\n",
       "      <td>1.000000</td>\n",
       "      <td>1.000000</td>\n",
       "      <td>-0.553020</td>\n",
       "      <td>0.048214</td>\n",
       "    </tr>\n",
       "    <tr>\n",
       "      <th>temp_sc</th>\n",
       "      <td>-0.553020</td>\n",
       "      <td>0.048214</td>\n",
       "      <td>1.000000</td>\n",
       "      <td>1.000000</td>\n",
       "      <td>-0.553020</td>\n",
       "      <td>0.048214</td>\n",
       "    </tr>\n",
       "    <tr>\n",
       "      <th>qty_sc</th>\n",
       "      <td>1.000000</td>\n",
       "      <td>0.241096</td>\n",
       "      <td>-0.553020</td>\n",
       "      <td>-0.553020</td>\n",
       "      <td>1.000000</td>\n",
       "      <td>0.241096</td>\n",
       "    </tr>\n",
       "    <tr>\n",
       "      <th>1kg price_sc</th>\n",
       "      <td>0.241096</td>\n",
       "      <td>1.000000</td>\n",
       "      <td>0.048214</td>\n",
       "      <td>0.048214</td>\n",
       "      <td>0.241096</td>\n",
       "      <td>1.000000</td>\n",
       "    </tr>\n",
       "  </tbody>\n",
       "</table>\n",
       "</div>"
      ],
      "text/plain": [
       "                   qty  1kg price      temp   temp_sc    qty_sc  1kg price_sc\n",
       "qty           1.000000   0.241096 -0.553020 -0.553020  1.000000      0.241096\n",
       "1kg price     0.241096   1.000000  0.048214  0.048214  0.241096      1.000000\n",
       "temp         -0.553020   0.048214  1.000000  1.000000 -0.553020      0.048214\n",
       "temp_sc      -0.553020   0.048214  1.000000  1.000000 -0.553020      0.048214\n",
       "qty_sc        1.000000   0.241096 -0.553020 -0.553020  1.000000      0.241096\n",
       "1kg price_sc  0.241096   1.000000  0.048214  0.048214  0.241096      1.000000"
      ]
     },
     "execution_count": 30,
     "metadata": {},
     "output_type": "execute_result"
    }
   ],
   "source": [
    "corr = data.corr(method = 'pearson')\n",
    "corr"
   ]
  },
  {
   "cell_type": "code",
   "execution_count": null,
   "metadata": {},
   "outputs": [],
   "source": []
  },
  {
   "cell_type": "code",
   "execution_count": null,
   "metadata": {},
   "outputs": [],
   "source": []
  }
 ],
 "metadata": {
  "kernelspec": {
   "display_name": "Python 3",
   "language": "python",
   "name": "python3"
  },
  "language_info": {
   "codemirror_mode": {
    "name": "ipython",
    "version": 3
   },
   "file_extension": ".py",
   "mimetype": "text/x-python",
   "name": "python",
   "nbconvert_exporter": "python",
   "pygments_lexer": "ipython3",
   "version": "3.8.5"
  },
  "toc": {
   "base_numbering": 1,
   "nav_menu": {},
   "number_sections": true,
   "sideBar": true,
   "skip_h1_title": false,
   "title_cell": "Table of Contents",
   "title_sidebar": "Contents",
   "toc_cell": false,
   "toc_position": {},
   "toc_section_display": true,
   "toc_window_display": false
  },
  "varInspector": {
   "cols": {
    "lenName": 16,
    "lenType": 16,
    "lenVar": 40
   },
   "kernels_config": {
    "python": {
     "delete_cmd_postfix": "",
     "delete_cmd_prefix": "del ",
     "library": "var_list.py",
     "varRefreshCmd": "print(var_dic_list())"
    },
    "r": {
     "delete_cmd_postfix": ") ",
     "delete_cmd_prefix": "rm(",
     "library": "var_list.r",
     "varRefreshCmd": "cat(var_dic_list()) "
    }
   },
   "types_to_exclude": [
    "module",
    "function",
    "builtin_function_or_method",
    "instance",
    "_Feature"
   ],
   "window_display": false
  }
 },
 "nbformat": 4,
 "nbformat_minor": 4
}
