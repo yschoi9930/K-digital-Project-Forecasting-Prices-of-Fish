{
 "cells": [
  {
   "cell_type": "code",
   "execution_count": 3,
   "metadata": {
    "ExecuteTime": {
     "end_time": "2021-04-13T05:55:00.147614Z",
     "start_time": "2021-04-13T05:55:00.127025Z"
    }
   },
   "outputs": [],
   "source": [
    "import pandas as pd\n",
    "import numpy as np\n",
    "import string\n",
    "import matplotlib.pyplot as plt\n",
    "%matplotlib inline"
   ]
  },
  {
   "cell_type": "code",
   "execution_count": 5,
   "metadata": {
    "ExecuteTime": {
     "end_time": "2021-04-13T05:55:06.365838Z",
     "start_time": "2021-04-13T05:55:06.251030Z"
    }
   },
   "outputs": [],
   "source": [
    "data = pd.read_csv('./final/깐굴.csv')"
   ]
  },
  {
   "cell_type": "code",
   "execution_count": 9,
   "metadata": {
    "ExecuteTime": {
     "end_time": "2021-04-13T05:55:46.297688Z",
     "start_time": "2021-04-13T05:55:46.278397Z"
    }
   },
   "outputs": [],
   "source": [
    "data = data.drop(['Unnamed: 0'],axis=1,inplace=False)"
   ]
  },
  {
   "cell_type": "code",
   "execution_count": 11,
   "metadata": {
    "ExecuteTime": {
     "end_time": "2021-04-13T05:56:04.744400Z",
     "start_time": "2021-04-13T05:56:04.290860Z"
    }
   },
   "outputs": [],
   "source": [
    "data.to_csv('./final/깐굴.csv')"
   ]
  },
  {
   "cell_type": "code",
   "execution_count": 12,
   "metadata": {
    "ExecuteTime": {
     "end_time": "2021-04-13T06:04:14.731085Z",
     "start_time": "2021-04-13T06:04:14.691224Z"
    }
   },
   "outputs": [
    {
     "data": {
      "text/html": [
       "<div>\n",
       "<style scoped>\n",
       "    .dataframe tbody tr th:only-of-type {\n",
       "        vertical-align: middle;\n",
       "    }\n",
       "\n",
       "    .dataframe tbody tr th {\n",
       "        vertical-align: top;\n",
       "    }\n",
       "\n",
       "    .dataframe thead th {\n",
       "        text-align: right;\n",
       "    }\n",
       "</style>\n",
       "<table border=\"1\" class=\"dataframe\">\n",
       "  <thead>\n",
       "    <tr style=\"text-align: right;\">\n",
       "      <th></th>\n",
       "      <th>어종</th>\n",
       "      <th>산지</th>\n",
       "      <th>평균가</th>\n",
       "      <th>최종수량</th>\n",
       "      <th>year</th>\n",
       "      <th>month</th>\n",
       "      <th>day</th>\n",
       "      <th>date</th>\n",
       "      <th>1kg price</th>\n",
       "    </tr>\n",
       "  </thead>\n",
       "  <tbody>\n",
       "    <tr>\n",
       "      <th>0</th>\n",
       "      <td>(선)깐굴</td>\n",
       "      <td>삼천포</td>\n",
       "      <td>11000</td>\n",
       "      <td>7.4</td>\n",
       "      <td>2006</td>\n",
       "      <td>4</td>\n",
       "      <td>4</td>\n",
       "      <td>2006.04</td>\n",
       "      <td>2972.97</td>\n",
       "    </tr>\n",
       "    <tr>\n",
       "      <th>1</th>\n",
       "      <td>(선)깐굴</td>\n",
       "      <td>고흥</td>\n",
       "      <td>17000</td>\n",
       "      <td>120.0</td>\n",
       "      <td>2006</td>\n",
       "      <td>4</td>\n",
       "      <td>4</td>\n",
       "      <td>2006.04</td>\n",
       "      <td>4250.00</td>\n",
       "    </tr>\n",
       "    <tr>\n",
       "      <th>2</th>\n",
       "      <td>(선)깐굴</td>\n",
       "      <td>삼천포</td>\n",
       "      <td>17000</td>\n",
       "      <td>87.0</td>\n",
       "      <td>2006</td>\n",
       "      <td>4</td>\n",
       "      <td>4</td>\n",
       "      <td>2006.04</td>\n",
       "      <td>5862.07</td>\n",
       "    </tr>\n",
       "    <tr>\n",
       "      <th>3</th>\n",
       "      <td>(선)깐굴</td>\n",
       "      <td>북한</td>\n",
       "      <td>9000</td>\n",
       "      <td>60.0</td>\n",
       "      <td>2006</td>\n",
       "      <td>4</td>\n",
       "      <td>4</td>\n",
       "      <td>2006.04</td>\n",
       "      <td>4500.00</td>\n",
       "    </tr>\n",
       "    <tr>\n",
       "      <th>4</th>\n",
       "      <td>(선)깐굴</td>\n",
       "      <td>삼천포</td>\n",
       "      <td>10000</td>\n",
       "      <td>256.0</td>\n",
       "      <td>2006</td>\n",
       "      <td>4</td>\n",
       "      <td>4</td>\n",
       "      <td>2006.04</td>\n",
       "      <td>5000.00</td>\n",
       "    </tr>\n",
       "    <tr>\n",
       "      <th>...</th>\n",
       "      <td>...</td>\n",
       "      <td>...</td>\n",
       "      <td>...</td>\n",
       "      <td>...</td>\n",
       "      <td>...</td>\n",
       "      <td>...</td>\n",
       "      <td>...</td>\n",
       "      <td>...</td>\n",
       "      <td>...</td>\n",
       "    </tr>\n",
       "    <tr>\n",
       "      <th>78004</th>\n",
       "      <td>(선)깐굴</td>\n",
       "      <td>여수</td>\n",
       "      <td>8900</td>\n",
       "      <td>39.9</td>\n",
       "      <td>2021</td>\n",
       "      <td>4</td>\n",
       "      <td>8</td>\n",
       "      <td>2021.04</td>\n",
       "      <td>4684.21</td>\n",
       "    </tr>\n",
       "    <tr>\n",
       "      <th>78005</th>\n",
       "      <td>(선)깐굴</td>\n",
       "      <td>통영</td>\n",
       "      <td>16100</td>\n",
       "      <td>85.5</td>\n",
       "      <td>2021</td>\n",
       "      <td>4</td>\n",
       "      <td>8</td>\n",
       "      <td>2021.04</td>\n",
       "      <td>8473.68</td>\n",
       "    </tr>\n",
       "    <tr>\n",
       "      <th>78006</th>\n",
       "      <td>(선)깐굴</td>\n",
       "      <td>통영</td>\n",
       "      <td>16400</td>\n",
       "      <td>17.0</td>\n",
       "      <td>2021</td>\n",
       "      <td>4</td>\n",
       "      <td>8</td>\n",
       "      <td>2021.04</td>\n",
       "      <td>9647.06</td>\n",
       "    </tr>\n",
       "    <tr>\n",
       "      <th>78007</th>\n",
       "      <td>(선)깐굴</td>\n",
       "      <td>통영</td>\n",
       "      <td>11000</td>\n",
       "      <td>7.8</td>\n",
       "      <td>2021</td>\n",
       "      <td>4</td>\n",
       "      <td>8</td>\n",
       "      <td>2021.04</td>\n",
       "      <td>8461.54</td>\n",
       "    </tr>\n",
       "    <tr>\n",
       "      <th>78008</th>\n",
       "      <td>(선)깐굴</td>\n",
       "      <td>통영</td>\n",
       "      <td>15800</td>\n",
       "      <td>60.0</td>\n",
       "      <td>2021</td>\n",
       "      <td>4</td>\n",
       "      <td>8</td>\n",
       "      <td>2021.04</td>\n",
       "      <td>7900.00</td>\n",
       "    </tr>\n",
       "  </tbody>\n",
       "</table>\n",
       "<p>78009 rows × 9 columns</p>\n",
       "</div>"
      ],
      "text/plain": [
       "          어종   산지    평균가   최종수량  year  month  day     date  1kg price\n",
       "0      (선)깐굴  삼천포  11000    7.4  2006      4    4  2006.04    2972.97\n",
       "1      (선)깐굴   고흥  17000  120.0  2006      4    4  2006.04    4250.00\n",
       "2      (선)깐굴  삼천포  17000   87.0  2006      4    4  2006.04    5862.07\n",
       "3      (선)깐굴   북한   9000   60.0  2006      4    4  2006.04    4500.00\n",
       "4      (선)깐굴  삼천포  10000  256.0  2006      4    4  2006.04    5000.00\n",
       "...      ...  ...    ...    ...   ...    ...  ...      ...        ...\n",
       "78004  (선)깐굴   여수   8900   39.9  2021      4    8  2021.04    4684.21\n",
       "78005  (선)깐굴   통영  16100   85.5  2021      4    8  2021.04    8473.68\n",
       "78006  (선)깐굴   통영  16400   17.0  2021      4    8  2021.04    9647.06\n",
       "78007  (선)깐굴   통영  11000    7.8  2021      4    8  2021.04    8461.54\n",
       "78008  (선)깐굴   통영  15800   60.0  2021      4    8  2021.04    7900.00\n",
       "\n",
       "[78009 rows x 9 columns]"
      ]
     },
     "execution_count": 12,
     "metadata": {},
     "output_type": "execute_result"
    }
   ],
   "source": [
    "data"
   ]
  },
  {
   "cell_type": "code",
   "execution_count": 13,
   "metadata": {
    "ExecuteTime": {
     "end_time": "2021-04-13T06:05:15.107192Z",
     "start_time": "2021-04-13T06:05:14.981985Z"
    }
   },
   "outputs": [],
   "source": [
    "sea = pd.read_csv('./final/해상기상_위치.csv')"
   ]
  },
  {
   "cell_type": "code",
   "execution_count": 15,
   "metadata": {
    "ExecuteTime": {
     "end_time": "2021-04-13T06:07:24.402871Z",
     "start_time": "2021-04-13T06:07:24.184437Z"
    }
   },
   "outputs": [
    {
     "data": {
      "text/plain": [
       "<AxesSubplot:>"
      ]
     },
     "execution_count": 15,
     "metadata": {},
     "output_type": "execute_result"
    },
    {
     "data": {
      "image/png": "[encoded data removed]",
      "text/plain": [
       "<Figure size 432x288 with 1 Axes>"
      ]
     },
     "metadata": {
      "needs_background": "light"
     },
     "output_type": "display_data"
    }
   ],
   "source": [
    "data[['1kg price']].boxplot()"
   ]
  },
  {
   "cell_type": "code",
   "execution_count": 16,
   "metadata": {
    "ExecuteTime": {
     "end_time": "2021-04-13T06:07:49.167876Z",
     "start_time": "2021-04-13T06:07:49.110309Z"
    }
   },
   "outputs": [
    {
     "data": {
      "text/html": [
       "<div>\n",
       "<style scoped>\n",
       "    .dataframe tbody tr th:only-of-type {\n",
       "        vertical-align: middle;\n",
       "    }\n",
       "\n",
       "    .dataframe tbody tr th {\n",
       "        vertical-align: top;\n",
       "    }\n",
       "\n",
       "    .dataframe thead th {\n",
       "        text-align: right;\n",
       "    }\n",
       "</style>\n",
       "<table border=\"1\" class=\"dataframe\">\n",
       "  <thead>\n",
       "    <tr style=\"text-align: right;\">\n",
       "      <th></th>\n",
       "      <th>어종</th>\n",
       "      <th>산지</th>\n",
       "      <th>평균가</th>\n",
       "      <th>최종수량</th>\n",
       "      <th>year</th>\n",
       "      <th>month</th>\n",
       "      <th>day</th>\n",
       "      <th>date</th>\n",
       "      <th>1kg price</th>\n",
       "    </tr>\n",
       "  </thead>\n",
       "  <tbody>\n",
       "    <tr>\n",
       "      <th>1252</th>\n",
       "      <td>(선)깐굴</td>\n",
       "      <td>통영</td>\n",
       "      <td>40000</td>\n",
       "      <td>8.5</td>\n",
       "      <td>2006</td>\n",
       "      <td>9</td>\n",
       "      <td>12</td>\n",
       "      <td>2006.09</td>\n",
       "      <td>23529.41</td>\n",
       "    </tr>\n",
       "    <tr>\n",
       "      <th>2393</th>\n",
       "      <td>(선)깐굴</td>\n",
       "      <td>삼천포</td>\n",
       "      <td>25400</td>\n",
       "      <td>144.0</td>\n",
       "      <td>2006</td>\n",
       "      <td>11</td>\n",
       "      <td>11</td>\n",
       "      <td>2006.11</td>\n",
       "      <td>15875.00</td>\n",
       "    </tr>\n",
       "    <tr>\n",
       "      <th>2396</th>\n",
       "      <td>(선)깐굴</td>\n",
       "      <td>남해</td>\n",
       "      <td>27000</td>\n",
       "      <td>265.2</td>\n",
       "      <td>2006</td>\n",
       "      <td>11</td>\n",
       "      <td>11</td>\n",
       "      <td>2006.11</td>\n",
       "      <td>15882.35</td>\n",
       "    </tr>\n",
       "    <tr>\n",
       "      <th>2450</th>\n",
       "      <td>(선)깐굴</td>\n",
       "      <td>남해</td>\n",
       "      <td>26900</td>\n",
       "      <td>285.6</td>\n",
       "      <td>2006</td>\n",
       "      <td>11</td>\n",
       "      <td>13</td>\n",
       "      <td>2006.11</td>\n",
       "      <td>15823.53</td>\n",
       "    </tr>\n",
       "    <tr>\n",
       "      <th>2490</th>\n",
       "      <td>(선)깐굴</td>\n",
       "      <td>남해</td>\n",
       "      <td>27000</td>\n",
       "      <td>309.4</td>\n",
       "      <td>2006</td>\n",
       "      <td>11</td>\n",
       "      <td>14</td>\n",
       "      <td>2006.11</td>\n",
       "      <td>15882.35</td>\n",
       "    </tr>\n",
       "    <tr>\n",
       "      <th>...</th>\n",
       "      <td>...</td>\n",
       "      <td>...</td>\n",
       "      <td>...</td>\n",
       "      <td>...</td>\n",
       "      <td>...</td>\n",
       "      <td>...</td>\n",
       "      <td>...</td>\n",
       "      <td>...</td>\n",
       "      <td>...</td>\n",
       "    </tr>\n",
       "    <tr>\n",
       "      <th>77568</th>\n",
       "      <td>(선)깐굴</td>\n",
       "      <td>삼천포</td>\n",
       "      <td>33100</td>\n",
       "      <td>205.2</td>\n",
       "      <td>2021</td>\n",
       "      <td>2</td>\n",
       "      <td>10</td>\n",
       "      <td>2021.02</td>\n",
       "      <td>17421.05</td>\n",
       "    </tr>\n",
       "    <tr>\n",
       "      <th>77569</th>\n",
       "      <td>(선)깐굴</td>\n",
       "      <td>삼천포</td>\n",
       "      <td>37900</td>\n",
       "      <td>220.0</td>\n",
       "      <td>2021</td>\n",
       "      <td>2</td>\n",
       "      <td>10</td>\n",
       "      <td>2021.02</td>\n",
       "      <td>18950.00</td>\n",
       "    </tr>\n",
       "    <tr>\n",
       "      <th>77575</th>\n",
       "      <td>(선)깐굴</td>\n",
       "      <td>사천</td>\n",
       "      <td>34800</td>\n",
       "      <td>83.6</td>\n",
       "      <td>2021</td>\n",
       "      <td>2</td>\n",
       "      <td>10</td>\n",
       "      <td>2021.02</td>\n",
       "      <td>18315.79</td>\n",
       "    </tr>\n",
       "    <tr>\n",
       "      <th>77597</th>\n",
       "      <td>(선)깐굴</td>\n",
       "      <td>사천</td>\n",
       "      <td>40400</td>\n",
       "      <td>40.0</td>\n",
       "      <td>2021</td>\n",
       "      <td>2</td>\n",
       "      <td>15</td>\n",
       "      <td>2021.02</td>\n",
       "      <td>20200.00</td>\n",
       "    </tr>\n",
       "    <tr>\n",
       "      <th>77605</th>\n",
       "      <td>(선)깐굴</td>\n",
       "      <td>삼천포</td>\n",
       "      <td>38100</td>\n",
       "      <td>68.4</td>\n",
       "      <td>2021</td>\n",
       "      <td>2</td>\n",
       "      <td>15</td>\n",
       "      <td>2021.02</td>\n",
       "      <td>21166.67</td>\n",
       "    </tr>\n",
       "  </tbody>\n",
       "</table>\n",
       "<p>2687 rows × 9 columns</p>\n",
       "</div>"
      ],
      "text/plain": [
       "          어종   산지    평균가   최종수량  year  month  day     date  1kg price\n",
       "1252   (선)깐굴   통영  40000    8.5  2006      9   12  2006.09   23529.41\n",
       "2393   (선)깐굴  삼천포  25400  144.0  2006     11   11  2006.11   15875.00\n",
       "2396   (선)깐굴   남해  27000  265.2  2006     11   11  2006.11   15882.35\n",
       "2450   (선)깐굴   남해  26900  285.6  2006     11   13  2006.11   15823.53\n",
       "2490   (선)깐굴   남해  27000  309.4  2006     11   14  2006.11   15882.35\n",
       "...      ...  ...    ...    ...   ...    ...  ...      ...        ...\n",
       "77568  (선)깐굴  삼천포  33100  205.2  2021      2   10  2021.02   17421.05\n",
       "77569  (선)깐굴  삼천포  37900  220.0  2021      2   10  2021.02   18950.00\n",
       "77575  (선)깐굴   사천  34800   83.6  2021      2   10  2021.02   18315.79\n",
       "77597  (선)깐굴   사천  40400   40.0  2021      2   15  2021.02   20200.00\n",
       "77605  (선)깐굴  삼천포  38100   68.4  2021      2   15  2021.02   21166.67\n",
       "\n",
       "[2687 rows x 9 columns]"
      ]
     },
     "execution_count": 16,
     "metadata": {},
     "output_type": "execute_result"
    }
   ],
   "source": [
    "data[data['1kg price']>15000]"
   ]
  },
  {
   "cell_type": "code",
   "execution_count": 20,
   "metadata": {
    "ExecuteTime": {
     "end_time": "2021-04-13T06:18:38.282471Z",
     "start_time": "2021-04-13T06:18:38.238264Z"
    }
   },
   "outputs": [
    {
     "data": {
      "text/plain": [
       "0        q1\n",
       "1        q1\n",
       "2        q2\n",
       "3        q1\n",
       "4        q1\n",
       "         ..\n",
       "78004    q1\n",
       "78005    q3\n",
       "78006    q4\n",
       "78007    q3\n",
       "78008    q3\n",
       "Name: 1kg price, Length: 78009, dtype: category\n",
       "Categories (4, object): ['q1' < 'q2' < 'q3' < 'q4']"
      ]
     },
     "execution_count": 20,
     "metadata": {},
     "output_type": "execute_result"
    }
   ],
   "source": [
    "pd.qcut(data['1kg price'], 4, ['q1','q2','q3','q4'])"
   ]
  },
  {
   "cell_type": "code",
   "execution_count": 28,
   "metadata": {
    "ExecuteTime": {
     "end_time": "2021-04-13T06:22:15.801585Z",
     "start_time": "2021-04-13T06:22:15.780121Z"
    }
   },
   "outputs": [],
   "source": [
    "Q1 = (data['1kg price']).quantile(.25)\n",
    "Q2 = (data['1kg price']).quantile(.5)\n",
    "Q3 = (data['1kg price']).quantile(.75)"
   ]
  },
  {
   "cell_type": "code",
   "execution_count": 29,
   "metadata": {
    "ExecuteTime": {
     "end_time": "2021-04-13T06:22:21.162867Z",
     "start_time": "2021-04-13T06:22:21.140927Z"
    }
   },
   "outputs": [
    {
     "data": {
      "text/plain": [
       "(5625.0, 7333.33, 9518.52)"
      ]
     },
     "execution_count": 29,
     "metadata": {},
     "output_type": "execute_result"
    }
   ],
   "source": [
    "Q1,Q2,Q3"
   ]
  },
  {
   "cell_type": "code",
   "execution_count": 31,
   "metadata": {
    "ExecuteTime": {
     "end_time": "2021-04-13T06:22:43.516344Z",
     "start_time": "2021-04-13T06:22:43.505703Z"
    }
   },
   "outputs": [
    {
     "data": {
      "text/plain": [
       "3893.5200000000004"
      ]
     },
     "execution_count": 31,
     "metadata": {},
     "output_type": "execute_result"
    }
   ],
   "source": [
    "IQR = Q3-Q1\n",
    "IQR"
   ]
  },
  {
   "cell_type": "code",
   "execution_count": 33,
   "metadata": {
    "ExecuteTime": {
     "end_time": "2021-04-13T06:23:56.992872Z",
     "start_time": "2021-04-13T06:23:56.971924Z"
    }
   },
   "outputs": [
    {
     "data": {
      "text/plain": [
       "(-215.28000000000065, 15358.8)"
      ]
     },
     "execution_count": 33,
     "metadata": {},
     "output_type": "execute_result"
    }
   ],
   "source": [
    "min = Q1-1.5*IQR\n",
    "max = (Q3+1.5*IQR).round(2)\n",
    "min, max"
   ]
  },
  {
   "cell_type": "code",
   "execution_count": 39,
   "metadata": {
    "ExecuteTime": {
     "end_time": "2021-04-13T06:26:20.927986Z",
     "start_time": "2021-04-13T06:26:20.908174Z"
    }
   },
   "outputs": [],
   "source": [
    "data = data[data['1kg price']<=max]"
   ]
  },
  {
   "cell_type": "code",
   "execution_count": 40,
   "metadata": {
    "ExecuteTime": {
     "end_time": "2021-04-13T06:26:23.878151Z",
     "start_time": "2021-04-13T06:26:23.846281Z"
    }
   },
   "outputs": [
    {
     "data": {
      "text/html": [
       "<div>\n",
       "<style scoped>\n",
       "    .dataframe tbody tr th:only-of-type {\n",
       "        vertical-align: middle;\n",
       "    }\n",
       "\n",
       "    .dataframe tbody tr th {\n",
       "        vertical-align: top;\n",
       "    }\n",
       "\n",
       "    .dataframe thead th {\n",
       "        text-align: right;\n",
       "    }\n",
       "</style>\n",
       "<table border=\"1\" class=\"dataframe\">\n",
       "  <thead>\n",
       "    <tr style=\"text-align: right;\">\n",
       "      <th></th>\n",
       "      <th>어종</th>\n",
       "      <th>산지</th>\n",
       "      <th>평균가</th>\n",
       "      <th>최종수량</th>\n",
       "      <th>year</th>\n",
       "      <th>month</th>\n",
       "      <th>day</th>\n",
       "      <th>date</th>\n",
       "      <th>1kg price</th>\n",
       "    </tr>\n",
       "  </thead>\n",
       "  <tbody>\n",
       "    <tr>\n",
       "      <th>0</th>\n",
       "      <td>(선)깐굴</td>\n",
       "      <td>삼천포</td>\n",
       "      <td>11000</td>\n",
       "      <td>7.4</td>\n",
       "      <td>2006</td>\n",
       "      <td>4</td>\n",
       "      <td>4</td>\n",
       "      <td>2006.04</td>\n",
       "      <td>2972.97</td>\n",
       "    </tr>\n",
       "    <tr>\n",
       "      <th>1</th>\n",
       "      <td>(선)깐굴</td>\n",
       "      <td>고흥</td>\n",
       "      <td>17000</td>\n",
       "      <td>120.0</td>\n",
       "      <td>2006</td>\n",
       "      <td>4</td>\n",
       "      <td>4</td>\n",
       "      <td>2006.04</td>\n",
       "      <td>4250.00</td>\n",
       "    </tr>\n",
       "    <tr>\n",
       "      <th>2</th>\n",
       "      <td>(선)깐굴</td>\n",
       "      <td>삼천포</td>\n",
       "      <td>17000</td>\n",
       "      <td>87.0</td>\n",
       "      <td>2006</td>\n",
       "      <td>4</td>\n",
       "      <td>4</td>\n",
       "      <td>2006.04</td>\n",
       "      <td>5862.07</td>\n",
       "    </tr>\n",
       "    <tr>\n",
       "      <th>3</th>\n",
       "      <td>(선)깐굴</td>\n",
       "      <td>북한</td>\n",
       "      <td>9000</td>\n",
       "      <td>60.0</td>\n",
       "      <td>2006</td>\n",
       "      <td>4</td>\n",
       "      <td>4</td>\n",
       "      <td>2006.04</td>\n",
       "      <td>4500.00</td>\n",
       "    </tr>\n",
       "    <tr>\n",
       "      <th>4</th>\n",
       "      <td>(선)깐굴</td>\n",
       "      <td>삼천포</td>\n",
       "      <td>10000</td>\n",
       "      <td>256.0</td>\n",
       "      <td>2006</td>\n",
       "      <td>4</td>\n",
       "      <td>4</td>\n",
       "      <td>2006.04</td>\n",
       "      <td>5000.00</td>\n",
       "    </tr>\n",
       "    <tr>\n",
       "      <th>...</th>\n",
       "      <td>...</td>\n",
       "      <td>...</td>\n",
       "      <td>...</td>\n",
       "      <td>...</td>\n",
       "      <td>...</td>\n",
       "      <td>...</td>\n",
       "      <td>...</td>\n",
       "      <td>...</td>\n",
       "      <td>...</td>\n",
       "    </tr>\n",
       "    <tr>\n",
       "      <th>78004</th>\n",
       "      <td>(선)깐굴</td>\n",
       "      <td>여수</td>\n",
       "      <td>8900</td>\n",
       "      <td>39.9</td>\n",
       "      <td>2021</td>\n",
       "      <td>4</td>\n",
       "      <td>8</td>\n",
       "      <td>2021.04</td>\n",
       "      <td>4684.21</td>\n",
       "    </tr>\n",
       "    <tr>\n",
       "      <th>78005</th>\n",
       "      <td>(선)깐굴</td>\n",
       "      <td>통영</td>\n",
       "      <td>16100</td>\n",
       "      <td>85.5</td>\n",
       "      <td>2021</td>\n",
       "      <td>4</td>\n",
       "      <td>8</td>\n",
       "      <td>2021.04</td>\n",
       "      <td>8473.68</td>\n",
       "    </tr>\n",
       "    <tr>\n",
       "      <th>78006</th>\n",
       "      <td>(선)깐굴</td>\n",
       "      <td>통영</td>\n",
       "      <td>16400</td>\n",
       "      <td>17.0</td>\n",
       "      <td>2021</td>\n",
       "      <td>4</td>\n",
       "      <td>8</td>\n",
       "      <td>2021.04</td>\n",
       "      <td>9647.06</td>\n",
       "    </tr>\n",
       "    <tr>\n",
       "      <th>78007</th>\n",
       "      <td>(선)깐굴</td>\n",
       "      <td>통영</td>\n",
       "      <td>11000</td>\n",
       "      <td>7.8</td>\n",
       "      <td>2021</td>\n",
       "      <td>4</td>\n",
       "      <td>8</td>\n",
       "      <td>2021.04</td>\n",
       "      <td>8461.54</td>\n",
       "    </tr>\n",
       "    <tr>\n",
       "      <th>78008</th>\n",
       "      <td>(선)깐굴</td>\n",
       "      <td>통영</td>\n",
       "      <td>15800</td>\n",
       "      <td>60.0</td>\n",
       "      <td>2021</td>\n",
       "      <td>4</td>\n",
       "      <td>8</td>\n",
       "      <td>2021.04</td>\n",
       "      <td>7900.00</td>\n",
       "    </tr>\n",
       "  </tbody>\n",
       "</table>\n",
       "<p>75596 rows × 9 columns</p>\n",
       "</div>"
      ],
      "text/plain": [
       "          어종   산지    평균가   최종수량  year  month  day     date  1kg price\n",
       "0      (선)깐굴  삼천포  11000    7.4  2006      4    4  2006.04    2972.97\n",
       "1      (선)깐굴   고흥  17000  120.0  2006      4    4  2006.04    4250.00\n",
       "2      (선)깐굴  삼천포  17000   87.0  2006      4    4  2006.04    5862.07\n",
       "3      (선)깐굴   북한   9000   60.0  2006      4    4  2006.04    4500.00\n",
       "4      (선)깐굴  삼천포  10000  256.0  2006      4    4  2006.04    5000.00\n",
       "...      ...  ...    ...    ...   ...    ...  ...      ...        ...\n",
       "78004  (선)깐굴   여수   8900   39.9  2021      4    8  2021.04    4684.21\n",
       "78005  (선)깐굴   통영  16100   85.5  2021      4    8  2021.04    8473.68\n",
       "78006  (선)깐굴   통영  16400   17.0  2021      4    8  2021.04    9647.06\n",
       "78007  (선)깐굴   통영  11000    7.8  2021      4    8  2021.04    8461.54\n",
       "78008  (선)깐굴   통영  15800   60.0  2021      4    8  2021.04    7900.00\n",
       "\n",
       "[75596 rows x 9 columns]"
      ]
     },
     "execution_count": 40,
     "metadata": {},
     "output_type": "execute_result"
    }
   ],
   "source": [
    "data"
   ]
  },
  {
   "cell_type": "code",
   "execution_count": 42,
   "metadata": {
    "ExecuteTime": {
     "end_time": "2021-04-13T06:27:05.960792Z",
     "start_time": "2021-04-13T06:27:05.925410Z"
    }
   },
   "outputs": [
    {
     "data": {
      "text/plain": [
       "어종           0\n",
       "산지           0\n",
       "평균가          0\n",
       "최종수량         0\n",
       "year         0\n",
       "month        0\n",
       "day          0\n",
       "date         0\n",
       "1kg price    0\n",
       "dtype: int64"
      ]
     },
     "execution_count": 42,
     "metadata": {},
     "output_type": "execute_result"
    }
   ],
   "source": [
    "# 결측값 없음\n",
    "data.isnull().sum()"
   ]
  },
  {
   "cell_type": "code",
   "execution_count": 43,
   "metadata": {
    "ExecuteTime": {
     "end_time": "2021-04-13T06:27:54.345765Z",
     "start_time": "2021-04-13T06:27:53.898421Z"
    }
   },
   "outputs": [],
   "source": [
    "data.to_csv('./final/깐굴_outlier_delete.csv')"
   ]
  }
 ],
 "metadata": {
  "kernelspec": {
   "display_name": "Python 3",
   "language": "python",
   "name": "python3"
  },
  "language_info": {
   "codemirror_mode": {
    "name": "ipython",
    "version": 3
   },
   "file_extension": ".py",
   "mimetype": "text/x-python",
   "name": "python",
   "nbconvert_exporter": "python",
   "pygments_lexer": "ipython3",
   "version": "3.8.5"
  },
  "toc": {
   "base_numbering": 1,
   "nav_menu": {},
   "number_sections": true,
   "sideBar": true,
   "skip_h1_title": false,
   "title_cell": "Table of Contents",
   "title_sidebar": "Contents",
   "toc_cell": false,
   "toc_position": {},
   "toc_section_display": true,
   "toc_window_display": false
  },
  "varInspector": {
   "cols": {
    "lenName": 16,
    "lenType": 16,
    "lenVar": 40
   },
   "kernels_config": {
    "python": {
     "delete_cmd_postfix": "",
     "delete_cmd_prefix": "del ",
     "library": "var_list.py",
     "varRefreshCmd": "print(var_dic_list())"
    },
    "r": {
     "delete_cmd_postfix": ") ",
     "delete_cmd_prefix": "rm(",
     "library": "var_list.r",
     "varRefreshCmd": "cat(var_dic_list()) "
    }
   },
   "types_to_exclude": [
    "module",
    "function",
    "builtin_function_or_method",
    "instance",
    "_Feature"
   ],
   "window_display": false
  }
 },
 "nbformat": 4,
 "nbformat_minor": 4
}
