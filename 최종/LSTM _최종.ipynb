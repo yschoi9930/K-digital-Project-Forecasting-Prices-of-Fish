{
 "cells": [
  {
   "cell_type": "code",
   "execution_count": 2,
   "metadata": {
    "ExecuteTime": {
     "end_time": "2021-04-27T00:22:37.550214Z",
     "start_time": "2021-04-27T00:22:34.956946Z"
    }
   },
   "outputs": [],
   "source": [
    "import selenium\n",
    "from selenium import webdriver\n",
    "from urllib.parse import quote\n",
    "import requests\n",
    "from bs4 import BeautifulSoup\n",
    "import pandas as pd\n",
    "import numpy as np\n",
    "import string\n",
    "import matplotlib.pyplot as plt\n",
    "%matplotlib inline\n",
    "import platform\n",
    "from scipy.stats import *\n",
    "from matplotlib import font_manager, rc\n",
    "plt.rcParams['axes.unicode_minus'] = False\n",
    "\n",
    "if platform.system() == 'Darwin':  # 맥OS \n",
    "    rc('font', family='AppleGothic')\n",
    "elif platform.system() == 'Windows': \n",
    "    # 윈도우   \n",
    "    path = \"c:/Windows/Fonts/malgun.ttf\"\n",
    "    font_name = font_manager.FontProperties(fname=path).get_name()\n",
    "    rc('font', family=font_name)\n",
    "else:\n",
    "    print('Unknown system...  sorry~~~')"
   ]
  },
  {
   "cell_type": "code",
   "execution_count": 212,
   "metadata": {
    "ExecuteTime": {
     "end_time": "2021-04-27T00:51:36.743639Z",
     "start_time": "2021-04-27T00:51:36.699505Z"
    }
   },
   "outputs": [],
   "source": [
    "data=pd.read_csv('./final/(0425)그룹화 최종.csv')"
   ]
  },
  {
   "cell_type": "code",
   "execution_count": 213,
   "metadata": {
    "ExecuteTime": {
     "end_time": "2021-04-27T00:51:37.325355Z",
     "start_time": "2021-04-27T00:51:37.309647Z"
    }
   },
   "outputs": [],
   "source": [
    "day_index=pd.date_range('2006.04.04', '2021.04.08', freq='D')"
   ]
  },
  {
   "cell_type": "code",
   "execution_count": 214,
   "metadata": {
    "ExecuteTime": {
     "end_time": "2021-04-27T00:51:38.038205Z",
     "start_time": "2021-04-27T00:51:38.019313Z"
    }
   },
   "outputs": [],
   "source": [
    "series = pd.DataFrame(index=day_index, columns=['1kg price'])"
   ]
  },
  {
   "cell_type": "code",
   "execution_count": 215,
   "metadata": {
    "ExecuteTime": {
     "end_time": "2021-04-27T00:51:38.573176Z",
     "start_time": "2021-04-27T00:51:38.559844Z"
    }
   },
   "outputs": [],
   "source": [
    "series=series.reset_index()"
   ]
  },
  {
   "cell_type": "code",
   "execution_count": 216,
   "metadata": {
    "ExecuteTime": {
     "end_time": "2021-04-27T00:51:39.195230Z",
     "start_time": "2021-04-27T00:51:39.139407Z"
    }
   },
   "outputs": [],
   "source": [
    "series['index'] = series['index'].astype(str)"
   ]
  },
  {
   "cell_type": "code",
   "execution_count": 217,
   "metadata": {
    "ExecuteTime": {
     "end_time": "2021-04-27T00:51:39.711955Z",
     "start_time": "2021-04-27T00:51:39.693264Z"
    }
   },
   "outputs": [],
   "source": [
    "series['index'] = series['index'].str.replace('-','.')"
   ]
  },
  {
   "cell_type": "code",
   "execution_count": 218,
   "metadata": {
    "ExecuteTime": {
     "end_time": "2021-04-27T00:51:40.439529Z",
     "start_time": "2021-04-27T00:51:40.433918Z"
    }
   },
   "outputs": [],
   "source": [
    "series.columns = ['date','1kg price']"
   ]
  },
  {
   "cell_type": "code",
   "execution_count": 219,
   "metadata": {
    "ExecuteTime": {
     "end_time": "2021-04-27T00:51:40.999959Z",
     "start_time": "2021-04-27T00:51:40.990654Z"
    }
   },
   "outputs": [],
   "source": [
    "series = series.drop(['1kg price'],axis=1)"
   ]
  },
  {
   "cell_type": "code",
   "execution_count": 220,
   "metadata": {
    "ExecuteTime": {
     "end_time": "2021-04-27T00:51:41.592921Z",
     "start_time": "2021-04-27T00:51:41.569829Z"
    }
   },
   "outputs": [],
   "source": [
    "merge_day = pd.merge(series, data, how='left', on ='date' )"
   ]
  },
  {
   "cell_type": "code",
   "execution_count": 221,
   "metadata": {
    "ExecuteTime": {
     "end_time": "2021-04-27T00:51:42.354765Z",
     "start_time": "2021-04-27T00:51:42.327263Z"
    }
   },
   "outputs": [
    {
     "data": {
      "text/html": [
       "<div>\n",
       "<style scoped>\n",
       "    .dataframe tbody tr th:only-of-type {\n",
       "        vertical-align: middle;\n",
       "    }\n",
       "\n",
       "    .dataframe tbody tr th {\n",
       "        vertical-align: top;\n",
       "    }\n",
       "\n",
       "    .dataframe thead th {\n",
       "        text-align: right;\n",
       "    }\n",
       "</style>\n",
       "<table border=\"1\" class=\"dataframe\">\n",
       "  <thead>\n",
       "    <tr style=\"text-align: right;\">\n",
       "      <th></th>\n",
       "      <th>date</th>\n",
       "      <th>qty</th>\n",
       "      <th>1kg price</th>\n",
       "      <th>temp</th>\n",
       "      <th>temp_sc</th>\n",
       "      <th>qty_sc</th>\n",
       "    </tr>\n",
       "  </thead>\n",
       "  <tbody>\n",
       "    <tr>\n",
       "      <th>0</th>\n",
       "      <td>2006.04.04</td>\n",
       "      <td>978.3</td>\n",
       "      <td>4948.71</td>\n",
       "      <td>12.02</td>\n",
       "      <td>-0.853048</td>\n",
       "      <td>-0.652525</td>\n",
       "    </tr>\n",
       "    <tr>\n",
       "      <th>1</th>\n",
       "      <td>2006.04.05</td>\n",
       "      <td>4600.7</td>\n",
       "      <td>4447.32</td>\n",
       "      <td>11.90</td>\n",
       "      <td>-0.876107</td>\n",
       "      <td>0.042461</td>\n",
       "    </tr>\n",
       "    <tr>\n",
       "      <th>2</th>\n",
       "      <td>2006.04.06</td>\n",
       "      <td>3842.2</td>\n",
       "      <td>4620.74</td>\n",
       "      <td>12.12</td>\n",
       "      <td>-0.833833</td>\n",
       "      <td>-0.103063</td>\n",
       "    </tr>\n",
       "    <tr>\n",
       "      <th>3</th>\n",
       "      <td>2006.04.07</td>\n",
       "      <td>4777.3</td>\n",
       "      <td>4060.83</td>\n",
       "      <td>12.18</td>\n",
       "      <td>-0.822304</td>\n",
       "      <td>0.076343</td>\n",
       "    </tr>\n",
       "    <tr>\n",
       "      <th>4</th>\n",
       "      <td>2006.04.08</td>\n",
       "      <td>4773.5</td>\n",
       "      <td>4547.00</td>\n",
       "      <td>12.17</td>\n",
       "      <td>-0.824225</td>\n",
       "      <td>0.075614</td>\n",
       "    </tr>\n",
       "    <tr>\n",
       "      <th>...</th>\n",
       "      <td>...</td>\n",
       "      <td>...</td>\n",
       "      <td>...</td>\n",
       "      <td>...</td>\n",
       "      <td>...</td>\n",
       "      <td>...</td>\n",
       "    </tr>\n",
       "    <tr>\n",
       "      <th>5479</th>\n",
       "      <td>2021.04.04</td>\n",
       "      <td>NaN</td>\n",
       "      <td>NaN</td>\n",
       "      <td>NaN</td>\n",
       "      <td>NaN</td>\n",
       "      <td>NaN</td>\n",
       "    </tr>\n",
       "    <tr>\n",
       "      <th>5480</th>\n",
       "      <td>2021.04.05</td>\n",
       "      <td>421.1</td>\n",
       "      <td>5653.34</td>\n",
       "      <td>13.32</td>\n",
       "      <td>-0.603247</td>\n",
       "      <td>-0.759428</td>\n",
       "    </tr>\n",
       "    <tr>\n",
       "      <th>5481</th>\n",
       "      <td>2021.04.06</td>\n",
       "      <td>290.7</td>\n",
       "      <td>7392.06</td>\n",
       "      <td>13.35</td>\n",
       "      <td>-0.597483</td>\n",
       "      <td>-0.784446</td>\n",
       "    </tr>\n",
       "    <tr>\n",
       "      <th>5482</th>\n",
       "      <td>2021.04.07</td>\n",
       "      <td>399.9</td>\n",
       "      <td>7735.17</td>\n",
       "      <td>13.42</td>\n",
       "      <td>-0.584032</td>\n",
       "      <td>-0.763496</td>\n",
       "    </tr>\n",
       "    <tr>\n",
       "      <th>5483</th>\n",
       "      <td>2021.04.08</td>\n",
       "      <td>418.7</td>\n",
       "      <td>8752.01</td>\n",
       "      <td>13.58</td>\n",
       "      <td>-0.553287</td>\n",
       "      <td>-0.759889</td>\n",
       "    </tr>\n",
       "  </tbody>\n",
       "</table>\n",
       "<p>5484 rows × 6 columns</p>\n",
       "</div>"
      ],
      "text/plain": [
       "            date     qty  1kg price   temp   temp_sc    qty_sc\n",
       "0     2006.04.04   978.3    4948.71  12.02 -0.853048 -0.652525\n",
       "1     2006.04.05  4600.7    4447.32  11.90 -0.876107  0.042461\n",
       "2     2006.04.06  3842.2    4620.74  12.12 -0.833833 -0.103063\n",
       "3     2006.04.07  4777.3    4060.83  12.18 -0.822304  0.076343\n",
       "4     2006.04.08  4773.5    4547.00  12.17 -0.824225  0.075614\n",
       "...          ...     ...        ...    ...       ...       ...\n",
       "5479  2021.04.04     NaN        NaN    NaN       NaN       NaN\n",
       "5480  2021.04.05   421.1    5653.34  13.32 -0.603247 -0.759428\n",
       "5481  2021.04.06   290.7    7392.06  13.35 -0.597483 -0.784446\n",
       "5482  2021.04.07   399.9    7735.17  13.42 -0.584032 -0.763496\n",
       "5483  2021.04.08   418.7    8752.01  13.58 -0.553287 -0.759889\n",
       "\n",
       "[5484 rows x 6 columns]"
      ]
     },
     "execution_count": 221,
     "metadata": {},
     "output_type": "execute_result"
    }
   ],
   "source": [
    "merge_day"
   ]
  },
  {
   "cell_type": "code",
   "execution_count": 222,
   "metadata": {
    "ExecuteTime": {
     "end_time": "2021-04-27T00:51:43.130445Z",
     "start_time": "2021-04-27T00:51:43.066187Z"
    }
   },
   "outputs": [],
   "source": [
    "merge_day.to_csv('./final/시계열.csv')"
   ]
  },
  {
   "cell_type": "code",
   "execution_count": 223,
   "metadata": {
    "ExecuteTime": {
     "end_time": "2021-04-27T00:51:43.968457Z",
     "start_time": "2021-04-27T00:51:43.959554Z"
    }
   },
   "outputs": [
    {
     "data": {
      "text/plain": [
       "date           0\n",
       "qty          882\n",
       "1kg price    882\n",
       "temp         882\n",
       "temp_sc      882\n",
       "qty_sc       882\n",
       "dtype: int64"
      ]
     },
     "execution_count": 223,
     "metadata": {},
     "output_type": "execute_result"
    }
   ],
   "source": [
    "merge_day.isnull().sum()"
   ]
  },
  {
   "cell_type": "code",
   "execution_count": 224,
   "metadata": {
    "ExecuteTime": {
     "end_time": "2021-04-27T00:51:44.578403Z",
     "start_time": "2021-04-27T00:51:44.571242Z"
    }
   },
   "outputs": [],
   "source": [
    "merge_day = merge_day.fillna(method='ffill')"
   ]
  },
  {
   "cell_type": "code",
   "execution_count": 225,
   "metadata": {
    "ExecuteTime": {
     "end_time": "2021-04-27T00:51:45.171719Z",
     "start_time": "2021-04-27T00:51:45.157551Z"
    }
   },
   "outputs": [],
   "source": [
    "merge_day.index=pd.date_range('2006.04.04', '2021.04.08', freq='D')"
   ]
  },
  {
   "cell_type": "code",
   "execution_count": 226,
   "metadata": {
    "ExecuteTime": {
     "end_time": "2021-04-27T00:51:45.706254Z",
     "start_time": "2021-04-27T00:51:45.695860Z"
    }
   },
   "outputs": [],
   "source": [
    "merge_day= merge_day.drop(['date'],axis=1)"
   ]
  },
  {
   "cell_type": "code",
   "execution_count": 227,
   "metadata": {
    "ExecuteTime": {
     "end_time": "2021-04-27T00:51:46.266283Z",
     "start_time": "2021-04-27T00:51:46.247128Z"
    }
   },
   "outputs": [],
   "source": [
    "price = merge_day[['1kg price']]"
   ]
  },
  {
   "cell_type": "code",
   "execution_count": 228,
   "metadata": {
    "ExecuteTime": {
     "end_time": "2021-04-27T00:51:47.028320Z",
     "start_time": "2021-04-27T00:51:47.005798Z"
    }
   },
   "outputs": [
    {
     "data": {
      "text/html": [
       "<div>\n",
       "<style scoped>\n",
       "    .dataframe tbody tr th:only-of-type {\n",
       "        vertical-align: middle;\n",
       "    }\n",
       "\n",
       "    .dataframe tbody tr th {\n",
       "        vertical-align: top;\n",
       "    }\n",
       "\n",
       "    .dataframe thead th {\n",
       "        text-align: right;\n",
       "    }\n",
       "</style>\n",
       "<table border=\"1\" class=\"dataframe\">\n",
       "  <thead>\n",
       "    <tr style=\"text-align: right;\">\n",
       "      <th></th>\n",
       "      <th>1kg price</th>\n",
       "    </tr>\n",
       "  </thead>\n",
       "  <tbody>\n",
       "    <tr>\n",
       "      <th>2006-04-04</th>\n",
       "      <td>4948.71</td>\n",
       "    </tr>\n",
       "    <tr>\n",
       "      <th>2006-04-05</th>\n",
       "      <td>4447.32</td>\n",
       "    </tr>\n",
       "    <tr>\n",
       "      <th>2006-04-06</th>\n",
       "      <td>4620.74</td>\n",
       "    </tr>\n",
       "    <tr>\n",
       "      <th>2006-04-07</th>\n",
       "      <td>4060.83</td>\n",
       "    </tr>\n",
       "    <tr>\n",
       "      <th>2006-04-08</th>\n",
       "      <td>4547.00</td>\n",
       "    </tr>\n",
       "    <tr>\n",
       "      <th>...</th>\n",
       "      <td>...</td>\n",
       "    </tr>\n",
       "    <tr>\n",
       "      <th>2021-04-04</th>\n",
       "      <td>4642.59</td>\n",
       "    </tr>\n",
       "    <tr>\n",
       "      <th>2021-04-05</th>\n",
       "      <td>5653.34</td>\n",
       "    </tr>\n",
       "    <tr>\n",
       "      <th>2021-04-06</th>\n",
       "      <td>7392.06</td>\n",
       "    </tr>\n",
       "    <tr>\n",
       "      <th>2021-04-07</th>\n",
       "      <td>7735.17</td>\n",
       "    </tr>\n",
       "    <tr>\n",
       "      <th>2021-04-08</th>\n",
       "      <td>8752.01</td>\n",
       "    </tr>\n",
       "  </tbody>\n",
       "</table>\n",
       "<p>5484 rows × 1 columns</p>\n",
       "</div>"
      ],
      "text/plain": [
       "            1kg price\n",
       "2006-04-04    4948.71\n",
       "2006-04-05    4447.32\n",
       "2006-04-06    4620.74\n",
       "2006-04-07    4060.83\n",
       "2006-04-08    4547.00\n",
       "...               ...\n",
       "2021-04-04    4642.59\n",
       "2021-04-05    5653.34\n",
       "2021-04-06    7392.06\n",
       "2021-04-07    7735.17\n",
       "2021-04-08    8752.01\n",
       "\n",
       "[5484 rows x 1 columns]"
      ]
     },
     "execution_count": 228,
     "metadata": {},
     "output_type": "execute_result"
    }
   ],
   "source": [
    "price"
   ]
  },
  {
   "cell_type": "code",
   "execution_count": 229,
   "metadata": {
    "ExecuteTime": {
     "end_time": "2021-04-27T00:51:47.637184Z",
     "start_time": "2021-04-27T00:51:47.620261Z"
    }
   },
   "outputs": [],
   "source": [
    "ratio = 0.75\n",
    "cut = np.int(len(price)*ratio)"
   ]
  },
  {
   "cell_type": "code",
   "execution_count": 230,
   "metadata": {
    "ExecuteTime": {
     "end_time": "2021-04-27T00:51:48.245036Z",
     "start_time": "2021-04-27T00:51:48.235983Z"
    }
   },
   "outputs": [
    {
     "data": {
      "text/plain": [
       "4113"
      ]
     },
     "execution_count": 230,
     "metadata": {},
     "output_type": "execute_result"
    }
   ],
   "source": [
    "cut"
   ]
  },
  {
   "cell_type": "code",
   "execution_count": 231,
   "metadata": {
    "ExecuteTime": {
     "end_time": "2021-04-27T00:51:48.793683Z",
     "start_time": "2021-04-27T00:51:48.780474Z"
    }
   },
   "outputs": [],
   "source": [
    "split_date = pd.Timestamp('01-01-2017')"
   ]
  },
  {
   "cell_type": "code",
   "execution_count": 232,
   "metadata": {
    "ExecuteTime": {
     "end_time": "2021-04-27T00:51:49.433674Z",
     "start_time": "2021-04-27T00:51:49.416332Z"
    }
   },
   "outputs": [
    {
     "data": {
      "text/html": [
       "<div>\n",
       "<style scoped>\n",
       "    .dataframe tbody tr th:only-of-type {\n",
       "        vertical-align: middle;\n",
       "    }\n",
       "\n",
       "    .dataframe tbody tr th {\n",
       "        vertical-align: top;\n",
       "    }\n",
       "\n",
       "    .dataframe thead th {\n",
       "        text-align: right;\n",
       "    }\n",
       "</style>\n",
       "<table border=\"1\" class=\"dataframe\">\n",
       "  <thead>\n",
       "    <tr style=\"text-align: right;\">\n",
       "      <th></th>\n",
       "      <th>1kg price</th>\n",
       "    </tr>\n",
       "  </thead>\n",
       "  <tbody>\n",
       "    <tr>\n",
       "      <th>2006-04-04</th>\n",
       "      <td>4948.71</td>\n",
       "    </tr>\n",
       "    <tr>\n",
       "      <th>2006-04-05</th>\n",
       "      <td>4447.32</td>\n",
       "    </tr>\n",
       "    <tr>\n",
       "      <th>2006-04-06</th>\n",
       "      <td>4620.74</td>\n",
       "    </tr>\n",
       "    <tr>\n",
       "      <th>2006-04-07</th>\n",
       "      <td>4060.83</td>\n",
       "    </tr>\n",
       "    <tr>\n",
       "      <th>2006-04-08</th>\n",
       "      <td>4547.00</td>\n",
       "    </tr>\n",
       "    <tr>\n",
       "      <th>...</th>\n",
       "      <td>...</td>\n",
       "    </tr>\n",
       "    <tr>\n",
       "      <th>2017-07-03</th>\n",
       "      <td>4550.08</td>\n",
       "    </tr>\n",
       "    <tr>\n",
       "      <th>2017-07-04</th>\n",
       "      <td>5544.34</td>\n",
       "    </tr>\n",
       "    <tr>\n",
       "      <th>2017-07-05</th>\n",
       "      <td>6250.78</td>\n",
       "    </tr>\n",
       "    <tr>\n",
       "      <th>2017-07-06</th>\n",
       "      <td>5107.33</td>\n",
       "    </tr>\n",
       "    <tr>\n",
       "      <th>2017-07-07</th>\n",
       "      <td>3903.41</td>\n",
       "    </tr>\n",
       "  </tbody>\n",
       "</table>\n",
       "<p>4113 rows × 1 columns</p>\n",
       "</div>"
      ],
      "text/plain": [
       "            1kg price\n",
       "2006-04-04    4948.71\n",
       "2006-04-05    4447.32\n",
       "2006-04-06    4620.74\n",
       "2006-04-07    4060.83\n",
       "2006-04-08    4547.00\n",
       "...               ...\n",
       "2017-07-03    4550.08\n",
       "2017-07-04    5544.34\n",
       "2017-07-05    6250.78\n",
       "2017-07-06    5107.33\n",
       "2017-07-07    3903.41\n",
       "\n",
       "[4113 rows x 1 columns]"
      ]
     },
     "execution_count": 232,
     "metadata": {},
     "output_type": "execute_result"
    }
   ],
   "source": [
    "price[:cut]"
   ]
  },
  {
   "cell_type": "code",
   "execution_count": 233,
   "metadata": {
    "ExecuteTime": {
     "end_time": "2021-04-27T00:51:50.407604Z",
     "start_time": "2021-04-27T00:51:50.133371Z"
    }
   },
   "outputs": [
    {
     "data": {
      "text/plain": [
       "<matplotlib.legend.Legend at 0x200219c29a0>"
      ]
     },
     "execution_count": 233,
     "metadata": {},
     "output_type": "execute_result"
    },
    {
     "data": {
      "image/png": "[encoded data removed]",
      "text/plain": [
       "<Figure size 432x288 with 1 Axes>"
      ]
     },
     "metadata": {
      "needs_background": "light"
     },
     "output_type": "display_data"
    }
   ],
   "source": [
    "train = price[:cut]\n",
    "test = price[cut:]\n",
    "\n",
    "ax = train.plot()\n",
    "test.plot(ax=ax)\n",
    "plt.legend(['train', 'test'])"
   ]
  },
  {
   "cell_type": "code",
   "execution_count": 234,
   "metadata": {
    "ExecuteTime": {
     "end_time": "2021-04-27T00:51:51.001576Z",
     "start_time": "2021-04-27T00:51:50.983255Z"
    }
   },
   "outputs": [
    {
     "data": {
      "text/plain": [
       "array([[0.23296663],\n",
       "       [0.19455232],\n",
       "       [0.207839  ],\n",
       "       ...,\n",
       "       [0.33272552],\n",
       "       [0.24511939],\n",
       "       [0.15288033]])"
      ]
     },
     "execution_count": 234,
     "metadata": {},
     "output_type": "execute_result"
    }
   ],
   "source": [
    "from sklearn.preprocessing import MinMaxScaler\n",
    "\n",
    "sc = MinMaxScaler()\n",
    "\n",
    "train_sc = sc.fit_transform(train)\n",
    "test_sc = sc.transform(test)\n",
    "\n",
    "train_sc"
   ]
  },
  {
   "cell_type": "code",
   "execution_count": 235,
   "metadata": {
    "ExecuteTime": {
     "end_time": "2021-04-27T00:51:51.869993Z",
     "start_time": "2021-04-27T00:51:51.842901Z"
    }
   },
   "outputs": [
    {
     "data": {
      "text/html": [
       "<div>\n",
       "<style scoped>\n",
       "    .dataframe tbody tr th:only-of-type {\n",
       "        vertical-align: middle;\n",
       "    }\n",
       "\n",
       "    .dataframe tbody tr th {\n",
       "        vertical-align: top;\n",
       "    }\n",
       "\n",
       "    .dataframe thead th {\n",
       "        text-align: right;\n",
       "    }\n",
       "</style>\n",
       "<table border=\"1\" class=\"dataframe\">\n",
       "  <thead>\n",
       "    <tr style=\"text-align: right;\">\n",
       "      <th></th>\n",
       "      <th>price</th>\n",
       "    </tr>\n",
       "  </thead>\n",
       "  <tbody>\n",
       "    <tr>\n",
       "      <th>2006-04-04</th>\n",
       "      <td>0.232967</td>\n",
       "    </tr>\n",
       "    <tr>\n",
       "      <th>2006-04-05</th>\n",
       "      <td>0.194552</td>\n",
       "    </tr>\n",
       "    <tr>\n",
       "      <th>2006-04-06</th>\n",
       "      <td>0.207839</td>\n",
       "    </tr>\n",
       "    <tr>\n",
       "      <th>2006-04-07</th>\n",
       "      <td>0.164941</td>\n",
       "    </tr>\n",
       "    <tr>\n",
       "      <th>2006-04-08</th>\n",
       "      <td>0.202189</td>\n",
       "    </tr>\n",
       "  </tbody>\n",
       "</table>\n",
       "</div>"
      ],
      "text/plain": [
       "               price\n",
       "2006-04-04  0.232967\n",
       "2006-04-05  0.194552\n",
       "2006-04-06  0.207839\n",
       "2006-04-07  0.164941\n",
       "2006-04-08  0.202189"
      ]
     },
     "execution_count": 235,
     "metadata": {},
     "output_type": "execute_result"
    }
   ],
   "source": [
    "train_sc_df = pd.DataFrame(train_sc, columns=['price'], index=train.index)\n",
    "test_sc_df = pd.DataFrame(test_sc, columns=['price'], index=test.index)\n",
    "train_sc_df.head()"
   ]
  },
  {
   "cell_type": "code",
   "execution_count": 236,
   "metadata": {
    "ExecuteTime": {
     "end_time": "2021-04-27T00:51:53.373476Z",
     "start_time": "2021-04-27T00:51:53.320026Z"
    }
   },
   "outputs": [
    {
     "data": {
      "text/html": [
       "<div>\n",
       "<style scoped>\n",
       "    .dataframe tbody tr th:only-of-type {\n",
       "        vertical-align: middle;\n",
       "    }\n",
       "\n",
       "    .dataframe tbody tr th {\n",
       "        vertical-align: top;\n",
       "    }\n",
       "\n",
       "    .dataframe thead th {\n",
       "        text-align: right;\n",
       "    }\n",
       "</style>\n",
       "<table border=\"1\" class=\"dataframe\">\n",
       "  <thead>\n",
       "    <tr style=\"text-align: right;\">\n",
       "      <th></th>\n",
       "      <th>price</th>\n",
       "      <th>shift_1</th>\n",
       "      <th>shift_2</th>\n",
       "      <th>shift_3</th>\n",
       "      <th>shift_4</th>\n",
       "      <th>shift_5</th>\n",
       "      <th>shift_6</th>\n",
       "      <th>shift_7</th>\n",
       "      <th>shift_8</th>\n",
       "      <th>shift_9</th>\n",
       "      <th>shift_10</th>\n",
       "    </tr>\n",
       "  </thead>\n",
       "  <tbody>\n",
       "    <tr>\n",
       "      <th>2006-04-04</th>\n",
       "      <td>0.232967</td>\n",
       "      <td>NaN</td>\n",
       "      <td>NaN</td>\n",
       "      <td>NaN</td>\n",
       "      <td>NaN</td>\n",
       "      <td>NaN</td>\n",
       "      <td>NaN</td>\n",
       "      <td>NaN</td>\n",
       "      <td>NaN</td>\n",
       "      <td>NaN</td>\n",
       "      <td>NaN</td>\n",
       "    </tr>\n",
       "    <tr>\n",
       "      <th>2006-04-05</th>\n",
       "      <td>0.194552</td>\n",
       "      <td>0.232967</td>\n",
       "      <td>NaN</td>\n",
       "      <td>NaN</td>\n",
       "      <td>NaN</td>\n",
       "      <td>NaN</td>\n",
       "      <td>NaN</td>\n",
       "      <td>NaN</td>\n",
       "      <td>NaN</td>\n",
       "      <td>NaN</td>\n",
       "      <td>NaN</td>\n",
       "    </tr>\n",
       "    <tr>\n",
       "      <th>2006-04-06</th>\n",
       "      <td>0.207839</td>\n",
       "      <td>0.194552</td>\n",
       "      <td>0.232967</td>\n",
       "      <td>NaN</td>\n",
       "      <td>NaN</td>\n",
       "      <td>NaN</td>\n",
       "      <td>NaN</td>\n",
       "      <td>NaN</td>\n",
       "      <td>NaN</td>\n",
       "      <td>NaN</td>\n",
       "      <td>NaN</td>\n",
       "    </tr>\n",
       "    <tr>\n",
       "      <th>2006-04-07</th>\n",
       "      <td>0.164941</td>\n",
       "      <td>0.207839</td>\n",
       "      <td>0.194552</td>\n",
       "      <td>0.232967</td>\n",
       "      <td>NaN</td>\n",
       "      <td>NaN</td>\n",
       "      <td>NaN</td>\n",
       "      <td>NaN</td>\n",
       "      <td>NaN</td>\n",
       "      <td>NaN</td>\n",
       "      <td>NaN</td>\n",
       "    </tr>\n",
       "    <tr>\n",
       "      <th>2006-04-08</th>\n",
       "      <td>0.202189</td>\n",
       "      <td>0.164941</td>\n",
       "      <td>0.207839</td>\n",
       "      <td>0.194552</td>\n",
       "      <td>0.232967</td>\n",
       "      <td>NaN</td>\n",
       "      <td>NaN</td>\n",
       "      <td>NaN</td>\n",
       "      <td>NaN</td>\n",
       "      <td>NaN</td>\n",
       "      <td>NaN</td>\n",
       "    </tr>\n",
       "    <tr>\n",
       "      <th>2006-04-09</th>\n",
       "      <td>0.202189</td>\n",
       "      <td>0.202189</td>\n",
       "      <td>0.164941</td>\n",
       "      <td>0.207839</td>\n",
       "      <td>0.194552</td>\n",
       "      <td>0.232967</td>\n",
       "      <td>NaN</td>\n",
       "      <td>NaN</td>\n",
       "      <td>NaN</td>\n",
       "      <td>NaN</td>\n",
       "      <td>NaN</td>\n",
       "    </tr>\n",
       "    <tr>\n",
       "      <th>2006-04-10</th>\n",
       "      <td>0.165248</td>\n",
       "      <td>0.202189</td>\n",
       "      <td>0.202189</td>\n",
       "      <td>0.164941</td>\n",
       "      <td>0.207839</td>\n",
       "      <td>0.194552</td>\n",
       "      <td>0.232967</td>\n",
       "      <td>NaN</td>\n",
       "      <td>NaN</td>\n",
       "      <td>NaN</td>\n",
       "      <td>NaN</td>\n",
       "    </tr>\n",
       "    <tr>\n",
       "      <th>2006-04-11</th>\n",
       "      <td>0.180726</td>\n",
       "      <td>0.165248</td>\n",
       "      <td>0.202189</td>\n",
       "      <td>0.202189</td>\n",
       "      <td>0.164941</td>\n",
       "      <td>0.207839</td>\n",
       "      <td>0.194552</td>\n",
       "      <td>0.232967</td>\n",
       "      <td>NaN</td>\n",
       "      <td>NaN</td>\n",
       "      <td>NaN</td>\n",
       "    </tr>\n",
       "    <tr>\n",
       "      <th>2006-04-12</th>\n",
       "      <td>0.266805</td>\n",
       "      <td>0.180726</td>\n",
       "      <td>0.165248</td>\n",
       "      <td>0.202189</td>\n",
       "      <td>0.202189</td>\n",
       "      <td>0.164941</td>\n",
       "      <td>0.207839</td>\n",
       "      <td>0.194552</td>\n",
       "      <td>0.232967</td>\n",
       "      <td>NaN</td>\n",
       "      <td>NaN</td>\n",
       "    </tr>\n",
       "    <tr>\n",
       "      <th>2006-04-13</th>\n",
       "      <td>0.297112</td>\n",
       "      <td>0.266805</td>\n",
       "      <td>0.180726</td>\n",
       "      <td>0.165248</td>\n",
       "      <td>0.202189</td>\n",
       "      <td>0.202189</td>\n",
       "      <td>0.164941</td>\n",
       "      <td>0.207839</td>\n",
       "      <td>0.194552</td>\n",
       "      <td>0.232967</td>\n",
       "      <td>NaN</td>\n",
       "    </tr>\n",
       "    <tr>\n",
       "      <th>2006-04-14</th>\n",
       "      <td>0.221973</td>\n",
       "      <td>0.297112</td>\n",
       "      <td>0.266805</td>\n",
       "      <td>0.180726</td>\n",
       "      <td>0.165248</td>\n",
       "      <td>0.202189</td>\n",
       "      <td>0.202189</td>\n",
       "      <td>0.164941</td>\n",
       "      <td>0.207839</td>\n",
       "      <td>0.194552</td>\n",
       "      <td>0.232967</td>\n",
       "    </tr>\n",
       "    <tr>\n",
       "      <th>2006-04-15</th>\n",
       "      <td>0.205501</td>\n",
       "      <td>0.221973</td>\n",
       "      <td>0.297112</td>\n",
       "      <td>0.266805</td>\n",
       "      <td>0.180726</td>\n",
       "      <td>0.165248</td>\n",
       "      <td>0.202189</td>\n",
       "      <td>0.202189</td>\n",
       "      <td>0.164941</td>\n",
       "      <td>0.207839</td>\n",
       "      <td>0.194552</td>\n",
       "    </tr>\n",
       "    <tr>\n",
       "      <th>2006-04-16</th>\n",
       "      <td>0.205501</td>\n",
       "      <td>0.205501</td>\n",
       "      <td>0.221973</td>\n",
       "      <td>0.297112</td>\n",
       "      <td>0.266805</td>\n",
       "      <td>0.180726</td>\n",
       "      <td>0.165248</td>\n",
       "      <td>0.202189</td>\n",
       "      <td>0.202189</td>\n",
       "      <td>0.164941</td>\n",
       "      <td>0.207839</td>\n",
       "    </tr>\n",
       "  </tbody>\n",
       "</table>\n",
       "</div>"
      ],
      "text/plain": [
       "               price   shift_1   shift_2   shift_3   shift_4   shift_5  \\\n",
       "2006-04-04  0.232967       NaN       NaN       NaN       NaN       NaN   \n",
       "2006-04-05  0.194552  0.232967       NaN       NaN       NaN       NaN   \n",
       "2006-04-06  0.207839  0.194552  0.232967       NaN       NaN       NaN   \n",
       "2006-04-07  0.164941  0.207839  0.194552  0.232967       NaN       NaN   \n",
       "2006-04-08  0.202189  0.164941  0.207839  0.194552  0.232967       NaN   \n",
       "2006-04-09  0.202189  0.202189  0.164941  0.207839  0.194552  0.232967   \n",
       "2006-04-10  0.165248  0.202189  0.202189  0.164941  0.207839  0.194552   \n",
       "2006-04-11  0.180726  0.165248  0.202189  0.202189  0.164941  0.207839   \n",
       "2006-04-12  0.266805  0.180726  0.165248  0.202189  0.202189  0.164941   \n",
       "2006-04-13  0.297112  0.266805  0.180726  0.165248  0.202189  0.202189   \n",
       "2006-04-14  0.221973  0.297112  0.266805  0.180726  0.165248  0.202189   \n",
       "2006-04-15  0.205501  0.221973  0.297112  0.266805  0.180726  0.165248   \n",
       "2006-04-16  0.205501  0.205501  0.221973  0.297112  0.266805  0.180726   \n",
       "\n",
       "             shift_6   shift_7   shift_8   shift_9  shift_10  \n",
       "2006-04-04       NaN       NaN       NaN       NaN       NaN  \n",
       "2006-04-05       NaN       NaN       NaN       NaN       NaN  \n",
       "2006-04-06       NaN       NaN       NaN       NaN       NaN  \n",
       "2006-04-07       NaN       NaN       NaN       NaN       NaN  \n",
       "2006-04-08       NaN       NaN       NaN       NaN       NaN  \n",
       "2006-04-09       NaN       NaN       NaN       NaN       NaN  \n",
       "2006-04-10  0.232967       NaN       NaN       NaN       NaN  \n",
       "2006-04-11  0.194552  0.232967       NaN       NaN       NaN  \n",
       "2006-04-12  0.207839  0.194552  0.232967       NaN       NaN  \n",
       "2006-04-13  0.164941  0.207839  0.194552  0.232967       NaN  \n",
       "2006-04-14  0.202189  0.164941  0.207839  0.194552  0.232967  \n",
       "2006-04-15  0.202189  0.202189  0.164941  0.207839  0.194552  \n",
       "2006-04-16  0.165248  0.202189  0.202189  0.164941  0.207839  "
      ]
     },
     "execution_count": 236,
     "metadata": {},
     "output_type": "execute_result"
    }
   ],
   "source": [
    "for s in range(1, 11):\n",
    "    train_sc_df['shift_{}'.format(s)] = train_sc_df['price'].shift(s)\n",
    "    test_sc_df['shift_{}'.format(s)] = test_sc_df['price'].shift(s)\n",
    "\n",
    "train_sc_df.head(13)"
   ]
  },
  {
   "cell_type": "code",
   "execution_count": 237,
   "metadata": {
    "ExecuteTime": {
     "end_time": "2021-04-27T00:51:55.092475Z",
     "start_time": "2021-04-27T00:51:55.060083Z"
    }
   },
   "outputs": [
    {
     "data": {
      "text/html": [
       "<div>\n",
       "<style scoped>\n",
       "    .dataframe tbody tr th:only-of-type {\n",
       "        vertical-align: middle;\n",
       "    }\n",
       "\n",
       "    .dataframe tbody tr th {\n",
       "        vertical-align: top;\n",
       "    }\n",
       "\n",
       "    .dataframe thead th {\n",
       "        text-align: right;\n",
       "    }\n",
       "</style>\n",
       "<table border=\"1\" class=\"dataframe\">\n",
       "  <thead>\n",
       "    <tr style=\"text-align: right;\">\n",
       "      <th></th>\n",
       "      <th>shift_1</th>\n",
       "      <th>shift_2</th>\n",
       "      <th>shift_3</th>\n",
       "      <th>shift_4</th>\n",
       "      <th>shift_5</th>\n",
       "      <th>shift_6</th>\n",
       "      <th>shift_7</th>\n",
       "      <th>shift_8</th>\n",
       "      <th>shift_9</th>\n",
       "      <th>shift_10</th>\n",
       "    </tr>\n",
       "  </thead>\n",
       "  <tbody>\n",
       "    <tr>\n",
       "      <th>2006-04-14</th>\n",
       "      <td>0.297112</td>\n",
       "      <td>0.266805</td>\n",
       "      <td>0.180726</td>\n",
       "      <td>0.165248</td>\n",
       "      <td>0.202189</td>\n",
       "      <td>0.202189</td>\n",
       "      <td>0.164941</td>\n",
       "      <td>0.207839</td>\n",
       "      <td>0.194552</td>\n",
       "      <td>0.232967</td>\n",
       "    </tr>\n",
       "    <tr>\n",
       "      <th>2006-04-15</th>\n",
       "      <td>0.221973</td>\n",
       "      <td>0.297112</td>\n",
       "      <td>0.266805</td>\n",
       "      <td>0.180726</td>\n",
       "      <td>0.165248</td>\n",
       "      <td>0.202189</td>\n",
       "      <td>0.202189</td>\n",
       "      <td>0.164941</td>\n",
       "      <td>0.207839</td>\n",
       "      <td>0.194552</td>\n",
       "    </tr>\n",
       "    <tr>\n",
       "      <th>2006-04-16</th>\n",
       "      <td>0.205501</td>\n",
       "      <td>0.221973</td>\n",
       "      <td>0.297112</td>\n",
       "      <td>0.266805</td>\n",
       "      <td>0.180726</td>\n",
       "      <td>0.165248</td>\n",
       "      <td>0.202189</td>\n",
       "      <td>0.202189</td>\n",
       "      <td>0.164941</td>\n",
       "      <td>0.207839</td>\n",
       "    </tr>\n",
       "    <tr>\n",
       "      <th>2006-04-17</th>\n",
       "      <td>0.205501</td>\n",
       "      <td>0.205501</td>\n",
       "      <td>0.221973</td>\n",
       "      <td>0.297112</td>\n",
       "      <td>0.266805</td>\n",
       "      <td>0.180726</td>\n",
       "      <td>0.165248</td>\n",
       "      <td>0.202189</td>\n",
       "      <td>0.202189</td>\n",
       "      <td>0.164941</td>\n",
       "    </tr>\n",
       "    <tr>\n",
       "      <th>2006-04-18</th>\n",
       "      <td>0.179043</td>\n",
       "      <td>0.205501</td>\n",
       "      <td>0.205501</td>\n",
       "      <td>0.221973</td>\n",
       "      <td>0.297112</td>\n",
       "      <td>0.266805</td>\n",
       "      <td>0.180726</td>\n",
       "      <td>0.165248</td>\n",
       "      <td>0.202189</td>\n",
       "      <td>0.202189</td>\n",
       "    </tr>\n",
       "  </tbody>\n",
       "</table>\n",
       "</div>"
      ],
      "text/plain": [
       "             shift_1   shift_2   shift_3   shift_4   shift_5   shift_6  \\\n",
       "2006-04-14  0.297112  0.266805  0.180726  0.165248  0.202189  0.202189   \n",
       "2006-04-15  0.221973  0.297112  0.266805  0.180726  0.165248  0.202189   \n",
       "2006-04-16  0.205501  0.221973  0.297112  0.266805  0.180726  0.165248   \n",
       "2006-04-17  0.205501  0.205501  0.221973  0.297112  0.266805  0.180726   \n",
       "2006-04-18  0.179043  0.205501  0.205501  0.221973  0.297112  0.266805   \n",
       "\n",
       "             shift_7   shift_8   shift_9  shift_10  \n",
       "2006-04-14  0.164941  0.207839  0.194552  0.232967  \n",
       "2006-04-15  0.202189  0.164941  0.207839  0.194552  \n",
       "2006-04-16  0.202189  0.202189  0.164941  0.207839  \n",
       "2006-04-17  0.165248  0.202189  0.202189  0.164941  \n",
       "2006-04-18  0.180726  0.165248  0.202189  0.202189  "
      ]
     },
     "execution_count": 237,
     "metadata": {},
     "output_type": "execute_result"
    }
   ],
   "source": [
    "X_train = train_sc_df.dropna().drop('price', axis=1)\n",
    "y_train = train_sc_df.dropna()[['price']]\n",
    "\n",
    "X_test = test_sc_df.dropna().drop('price', axis=1)\n",
    "y_test = test_sc_df.dropna()[['price']]\n",
    "\n",
    "X_train.head()"
   ]
  },
  {
   "cell_type": "code",
   "execution_count": 238,
   "metadata": {
    "ExecuteTime": {
     "end_time": "2021-04-27T00:51:57.372779Z",
     "start_time": "2021-04-27T00:51:57.354145Z"
    }
   },
   "outputs": [
    {
     "name": "stdout",
     "output_type": "stream",
     "text": [
      "<class 'pandas.core.frame.DataFrame'>\n",
      "<class 'numpy.ndarray'>\n",
      "(4103, 10)\n",
      "(4103, 1)\n"
     ]
    }
   ],
   "source": [
    "print(type(X_train))\n",
    "X_train = X_train.values\n",
    "print(type(X_train))\n",
    "X_test= X_test.values\n",
    "y_train = y_train.values\n",
    "y_test = y_test.values\n",
    " \n",
    "\n",
    "print(X_train.shape)\n",
    "print(y_train.shape)"
   ]
  },
  {
   "cell_type": "code",
   "execution_count": 239,
   "metadata": {
    "ExecuteTime": {
     "end_time": "2021-04-27T00:51:58.853464Z",
     "start_time": "2021-04-27T00:51:58.844465Z"
    }
   },
   "outputs": [
    {
     "name": "stdout",
     "output_type": "stream",
     "text": [
      "최종 DATA\n",
      "(4103, 10, 1)\n",
      "[[[0.29711228]\n",
      "  [0.26680544]\n",
      "  [0.18072627]\n",
      "  ...\n",
      "  [0.207839  ]\n",
      "  [0.19455232]\n",
      "  [0.23296663]]\n",
      "\n",
      " [[0.22197305]\n",
      "  [0.29711228]\n",
      "  [0.26680544]\n",
      "  ...\n",
      "  [0.16494116]\n",
      "  [0.207839  ]\n",
      "  [0.19455232]]\n",
      "\n",
      " [[0.20550146]\n",
      "  [0.22197305]\n",
      "  [0.29711228]\n",
      "  ...\n",
      "  [0.20218937]\n",
      "  [0.16494116]\n",
      "  [0.207839  ]]\n",
      "\n",
      " ...\n",
      "\n",
      " [[0.27860118]\n",
      "  [0.20242534]\n",
      "  [0.19573067]\n",
      "  ...\n",
      "  [0.50893606]\n",
      "  [0.55147075]\n",
      "  [0.53143424]]\n",
      "\n",
      " [[0.33272552]\n",
      "  [0.27860118]\n",
      "  [0.20242534]\n",
      "  ...\n",
      "  [0.41077997]\n",
      "  [0.50893606]\n",
      "  [0.55147075]]\n",
      "\n",
      " [[0.24511939]\n",
      "  [0.33272552]\n",
      "  [0.27860118]\n",
      "  ...\n",
      "  [0.3972351 ]\n",
      "  [0.41077997]\n",
      "  [0.50893606]]]\n",
      "[[0.22197305]\n",
      " [0.20550146]\n",
      " [0.20550146]\n",
      " ...\n",
      " [0.33272552]\n",
      " [0.24511939]\n",
      " [0.15288033]]\n"
     ]
    }
   ],
   "source": [
    "X_train_t = X_train.reshape(X_train.shape[0], 10, 1)\n",
    "X_test_t = X_test.reshape(X_test.shape[0], 10, 1)\n",
    "\n",
    "print(\"최종 DATA\")\n",
    "print(X_train_t.shape)\n",
    "print(X_train_t)\n",
    "print(y_train)"
   ]
  },
  {
   "cell_type": "code",
   "execution_count": 240,
   "metadata": {
    "ExecuteTime": {
     "end_time": "2021-04-27T00:52:00.540734Z",
     "start_time": "2021-04-27T00:52:00.252275Z"
    }
   },
   "outputs": [
    {
     "name": "stdout",
     "output_type": "stream",
     "text": [
      "Model: \"sequential\"\n",
      "_________________________________________________________________\n",
      "Layer (type)                 Output Shape              Param #   \n",
      "=================================================================\n",
      "lstm (LSTM)                  (None, 20)                1760      \n",
      "_________________________________________________________________\n",
      "dense (Dense)                (None, 1)                 21        \n",
      "=================================================================\n",
      "Total params: 1,781\n",
      "Trainable params: 1,781\n",
      "Non-trainable params: 0\n",
      "_________________________________________________________________\n"
     ]
    }
   ],
   "source": [
    "from keras.layers import LSTM \n",
    "from keras.models import Sequential \n",
    "from keras.layers import Dense \n",
    "import keras.backend as K \n",
    "from keras.callbacks import EarlyStopping\n",
    "\n",
    "K.clear_session()\n",
    "    \n",
    "model = Sequential() # Sequeatial Model \n",
    "model.add(LSTM(20, input_shape=(10, 1))) # (timestep, feature) \n",
    "model.add(Dense(1)) # output = 1 \n",
    "model.compile(loss='mean_squared_error', optimizer='adam') \n",
    "model.summary()"
   ]
  },
  {
   "cell_type": "code",
   "execution_count": 241,
   "metadata": {
    "ExecuteTime": {
     "end_time": "2021-04-27T00:52:09.679401Z",
     "start_time": "2021-04-27T00:52:02.628894Z"
    }
   },
   "outputs": [
    {
     "name": "stdout",
     "output_type": "stream",
     "text": [
      "Epoch 1/100\n",
      "137/137 [==============================] - 2s 3ms/step - loss: 0.0317\n",
      "Epoch 2/100\n",
      "137/137 [==============================] - 0s 3ms/step - loss: 0.0105\n",
      "Epoch 3/100\n",
      "137/137 [==============================] - 0s 3ms/step - loss: 0.0088\n",
      "Epoch 4/100\n",
      "137/137 [==============================] - 0s 3ms/step - loss: 0.0071\n",
      "Epoch 5/100\n",
      "137/137 [==============================] - 0s 3ms/step - loss: 0.0066\n",
      "Epoch 6/100\n",
      "137/137 [==============================] - 0s 3ms/step - loss: 0.0061\n",
      "Epoch 7/100\n",
      "137/137 [==============================] - 0s 3ms/step - loss: 0.0059\n",
      "Epoch 8/100\n",
      "137/137 [==============================] - 0s 3ms/step - loss: 0.0059\n",
      "Epoch 9/100\n",
      "137/137 [==============================] - 0s 3ms/step - loss: 0.0059\n",
      "Epoch 10/100\n",
      "137/137 [==============================] - 0s 3ms/step - loss: 0.0053\n",
      "Epoch 11/100\n",
      "137/137 [==============================] - 0s 3ms/step - loss: 0.0051\n",
      "Epoch 12/100\n",
      "137/137 [==============================] - 0s 3ms/step - loss: 0.0054\n",
      "Epoch 00012: early stopping\n"
     ]
    },
    {
     "data": {
      "text/plain": [
       "<tensorflow.python.keras.callbacks.History at 0x200230bee20>"
      ]
     },
     "execution_count": 241,
     "metadata": {},
     "output_type": "execute_result"
    }
   ],
   "source": [
    "early_stop = EarlyStopping(monitor='loss', patience=1, verbose=1)\n",
    "\n",
    "model.fit(X_train_t, y_train, epochs=100,\n",
    "          batch_size=30, verbose=1, callbacks=[early_stop])"
   ]
  },
  {
   "cell_type": "code",
   "execution_count": 242,
   "metadata": {
    "ExecuteTime": {
     "end_time": "2021-04-27T00:52:11.319440Z",
     "start_time": "2021-04-27T00:52:10.614542Z"
    }
   },
   "outputs": [
    {
     "data": {
      "text/plain": [
       "Text(0.5, 1.0, 'Prices vs Predicted price Index: $Y_i$ vs $\\\\hat{Y}_i$')"
      ]
     },
     "execution_count": 242,
     "metadata": {},
     "output_type": "execute_result"
    },
    {
     "data": {
      "image/png": "[encoded data removed]",
      "text/plain": [
       "<Figure size 432x288 with 1 Axes>"
      ]
     },
     "metadata": {
      "needs_background": "light"
     },
     "output_type": "display_data"
    }
   ],
   "source": [
    "%matplotlib inline\n",
    "import matplotlib.pyplot as plt\n",
    "\n",
    "\n",
    "y_pred = model.predict(X_test_t, batch_size=32)\n",
    "plt.scatter(y_test, y_pred)\n",
    "plt.xlabel(\"Price Index: $Y_i$\")\n",
    "plt.ylabel(\"Predicted price Index: $\\hat{Y}_i$\")\n",
    "plt.title(\"Prices vs Predicted price Index: $Y_i$ vs $\\hat{Y}_i$\")"
   ]
  },
  {
   "cell_type": "code",
   "execution_count": 243,
   "metadata": {
    "ExecuteTime": {
     "end_time": "2021-04-27T00:52:12.214360Z",
     "start_time": "2021-04-27T00:52:12.198190Z"
    }
   },
   "outputs": [
    {
     "data": {
      "text/plain": [
       "1361"
      ]
     },
     "execution_count": 243,
     "metadata": {},
     "output_type": "execute_result"
    }
   ],
   "source": [
    "len(y_test)"
   ]
  },
  {
   "cell_type": "code",
   "execution_count": 244,
   "metadata": {
    "ExecuteTime": {
     "end_time": "2021-04-27T00:52:13.216604Z",
     "start_time": "2021-04-27T00:52:13.199139Z"
    }
   },
   "outputs": [
    {
     "data": {
      "text/plain": [
       "1361"
      ]
     },
     "execution_count": 244,
     "metadata": {},
     "output_type": "execute_result"
    }
   ],
   "source": [
    "len(y_pred)"
   ]
  },
  {
   "cell_type": "code",
   "execution_count": 245,
   "metadata": {
    "ExecuteTime": {
     "end_time": "2021-04-27T00:52:13.977443Z",
     "start_time": "2021-04-27T00:52:13.970172Z"
    }
   },
   "outputs": [
    {
     "data": {
      "text/plain": [
       "array([[0.18754889],\n",
       "       [0.18515695],\n",
       "       [0.12604724],\n",
       "       ...,\n",
       "       [0.42016538],\n",
       "       [0.44645297],\n",
       "       [0.52435878]])"
      ]
     },
     "execution_count": 245,
     "metadata": {},
     "output_type": "execute_result"
    }
   ],
   "source": [
    "y_test"
   ]
  },
  {
   "cell_type": "code",
   "execution_count": 246,
   "metadata": {
    "ExecuteTime": {
     "end_time": "2021-04-27T00:52:14.754349Z",
     "start_time": "2021-04-27T00:52:14.720201Z"
    },
    "scrolled": true
   },
   "outputs": [
    {
     "data": {
      "text/html": [
       "<div>\n",
       "<style scoped>\n",
       "    .dataframe tbody tr th:only-of-type {\n",
       "        vertical-align: middle;\n",
       "    }\n",
       "\n",
       "    .dataframe tbody tr th {\n",
       "        vertical-align: top;\n",
       "    }\n",
       "\n",
       "    .dataframe thead th {\n",
       "        text-align: right;\n",
       "    }\n",
       "</style>\n",
       "<table border=\"1\" class=\"dataframe\">\n",
       "  <thead>\n",
       "    <tr style=\"text-align: right;\">\n",
       "      <th></th>\n",
       "      <th>price</th>\n",
       "      <th>shift_1</th>\n",
       "      <th>shift_2</th>\n",
       "      <th>shift_3</th>\n",
       "      <th>shift_4</th>\n",
       "      <th>shift_5</th>\n",
       "      <th>shift_6</th>\n",
       "      <th>shift_7</th>\n",
       "      <th>shift_8</th>\n",
       "      <th>shift_9</th>\n",
       "      <th>shift_10</th>\n",
       "    </tr>\n",
       "  </thead>\n",
       "  <tbody>\n",
       "    <tr>\n",
       "      <th>2017-07-18</th>\n",
       "      <td>0.187549</td>\n",
       "      <td>0.146067</td>\n",
       "      <td>0.156826</td>\n",
       "      <td>0.156826</td>\n",
       "      <td>0.131792</td>\n",
       "      <td>0.172423</td>\n",
       "      <td>0.223877</td>\n",
       "      <td>0.171353</td>\n",
       "      <td>0.152218</td>\n",
       "      <td>0.123690</td>\n",
       "      <td>0.123690</td>\n",
       "    </tr>\n",
       "    <tr>\n",
       "      <th>2017-07-19</th>\n",
       "      <td>0.185157</td>\n",
       "      <td>0.187549</td>\n",
       "      <td>0.146067</td>\n",
       "      <td>0.156826</td>\n",
       "      <td>0.156826</td>\n",
       "      <td>0.131792</td>\n",
       "      <td>0.172423</td>\n",
       "      <td>0.223877</td>\n",
       "      <td>0.171353</td>\n",
       "      <td>0.152218</td>\n",
       "      <td>0.123690</td>\n",
       "    </tr>\n",
       "    <tr>\n",
       "      <th>2017-07-20</th>\n",
       "      <td>0.126047</td>\n",
       "      <td>0.185157</td>\n",
       "      <td>0.187549</td>\n",
       "      <td>0.146067</td>\n",
       "      <td>0.156826</td>\n",
       "      <td>0.156826</td>\n",
       "      <td>0.131792</td>\n",
       "      <td>0.172423</td>\n",
       "      <td>0.223877</td>\n",
       "      <td>0.171353</td>\n",
       "      <td>0.152218</td>\n",
       "    </tr>\n",
       "    <tr>\n",
       "      <th>2017-07-21</th>\n",
       "      <td>0.161867</td>\n",
       "      <td>0.126047</td>\n",
       "      <td>0.185157</td>\n",
       "      <td>0.187549</td>\n",
       "      <td>0.146067</td>\n",
       "      <td>0.156826</td>\n",
       "      <td>0.156826</td>\n",
       "      <td>0.131792</td>\n",
       "      <td>0.172423</td>\n",
       "      <td>0.223877</td>\n",
       "      <td>0.171353</td>\n",
       "    </tr>\n",
       "    <tr>\n",
       "      <th>2017-07-22</th>\n",
       "      <td>0.170105</td>\n",
       "      <td>0.161867</td>\n",
       "      <td>0.126047</td>\n",
       "      <td>0.185157</td>\n",
       "      <td>0.187549</td>\n",
       "      <td>0.146067</td>\n",
       "      <td>0.156826</td>\n",
       "      <td>0.156826</td>\n",
       "      <td>0.131792</td>\n",
       "      <td>0.172423</td>\n",
       "      <td>0.223877</td>\n",
       "    </tr>\n",
       "    <tr>\n",
       "      <th>...</th>\n",
       "      <td>...</td>\n",
       "      <td>...</td>\n",
       "      <td>...</td>\n",
       "      <td>...</td>\n",
       "      <td>...</td>\n",
       "      <td>...</td>\n",
       "      <td>...</td>\n",
       "      <td>...</td>\n",
       "      <td>...</td>\n",
       "      <td>...</td>\n",
       "      <td>...</td>\n",
       "    </tr>\n",
       "    <tr>\n",
       "      <th>2021-04-04</th>\n",
       "      <td>0.209513</td>\n",
       "      <td>0.209513</td>\n",
       "      <td>0.283410</td>\n",
       "      <td>0.365939</td>\n",
       "      <td>0.425564</td>\n",
       "      <td>0.441674</td>\n",
       "      <td>0.464617</td>\n",
       "      <td>0.401650</td>\n",
       "      <td>0.401650</td>\n",
       "      <td>0.429963</td>\n",
       "      <td>0.419664</td>\n",
       "    </tr>\n",
       "    <tr>\n",
       "      <th>2021-04-05</th>\n",
       "      <td>0.286952</td>\n",
       "      <td>0.209513</td>\n",
       "      <td>0.209513</td>\n",
       "      <td>0.283410</td>\n",
       "      <td>0.365939</td>\n",
       "      <td>0.425564</td>\n",
       "      <td>0.441674</td>\n",
       "      <td>0.464617</td>\n",
       "      <td>0.401650</td>\n",
       "      <td>0.401650</td>\n",
       "      <td>0.429963</td>\n",
       "    </tr>\n",
       "    <tr>\n",
       "      <th>2021-04-06</th>\n",
       "      <td>0.420165</td>\n",
       "      <td>0.286952</td>\n",
       "      <td>0.209513</td>\n",
       "      <td>0.209513</td>\n",
       "      <td>0.283410</td>\n",
       "      <td>0.365939</td>\n",
       "      <td>0.425564</td>\n",
       "      <td>0.441674</td>\n",
       "      <td>0.464617</td>\n",
       "      <td>0.401650</td>\n",
       "      <td>0.401650</td>\n",
       "    </tr>\n",
       "    <tr>\n",
       "      <th>2021-04-07</th>\n",
       "      <td>0.446453</td>\n",
       "      <td>0.420165</td>\n",
       "      <td>0.286952</td>\n",
       "      <td>0.209513</td>\n",
       "      <td>0.209513</td>\n",
       "      <td>0.283410</td>\n",
       "      <td>0.365939</td>\n",
       "      <td>0.425564</td>\n",
       "      <td>0.441674</td>\n",
       "      <td>0.464617</td>\n",
       "      <td>0.401650</td>\n",
       "    </tr>\n",
       "    <tr>\n",
       "      <th>2021-04-08</th>\n",
       "      <td>0.524359</td>\n",
       "      <td>0.446453</td>\n",
       "      <td>0.420165</td>\n",
       "      <td>0.286952</td>\n",
       "      <td>0.209513</td>\n",
       "      <td>0.209513</td>\n",
       "      <td>0.283410</td>\n",
       "      <td>0.365939</td>\n",
       "      <td>0.425564</td>\n",
       "      <td>0.441674</td>\n",
       "      <td>0.464617</td>\n",
       "    </tr>\n",
       "  </tbody>\n",
       "</table>\n",
       "<p>1361 rows × 11 columns</p>\n",
       "</div>"
      ],
      "text/plain": [
       "               price   shift_1   shift_2   shift_3   shift_4   shift_5  \\\n",
       "2017-07-18  0.187549  0.146067  0.156826  0.156826  0.131792  0.172423   \n",
       "2017-07-19  0.185157  0.187549  0.146067  0.156826  0.156826  0.131792   \n",
       "2017-07-20  0.126047  0.185157  0.187549  0.146067  0.156826  0.156826   \n",
       "2017-07-21  0.161867  0.126047  0.185157  0.187549  0.146067  0.156826   \n",
       "2017-07-22  0.170105  0.161867  0.126047  0.185157  0.187549  0.146067   \n",
       "...              ...       ...       ...       ...       ...       ...   \n",
       "2021-04-04  0.209513  0.209513  0.283410  0.365939  0.425564  0.441674   \n",
       "2021-04-05  0.286952  0.209513  0.209513  0.283410  0.365939  0.425564   \n",
       "2021-04-06  0.420165  0.286952  0.209513  0.209513  0.283410  0.365939   \n",
       "2021-04-07  0.446453  0.420165  0.286952  0.209513  0.209513  0.283410   \n",
       "2021-04-08  0.524359  0.446453  0.420165  0.286952  0.209513  0.209513   \n",
       "\n",
       "             shift_6   shift_7   shift_8   shift_9  shift_10  \n",
       "2017-07-18  0.223877  0.171353  0.152218  0.123690  0.123690  \n",
       "2017-07-19  0.172423  0.223877  0.171353  0.152218  0.123690  \n",
       "2017-07-20  0.131792  0.172423  0.223877  0.171353  0.152218  \n",
       "2017-07-21  0.156826  0.131792  0.172423  0.223877  0.171353  \n",
       "2017-07-22  0.156826  0.156826  0.131792  0.172423  0.223877  \n",
       "...              ...       ...       ...       ...       ...  \n",
       "2021-04-04  0.464617  0.401650  0.401650  0.429963  0.419664  \n",
       "2021-04-05  0.441674  0.464617  0.401650  0.401650  0.429963  \n",
       "2021-04-06  0.425564  0.441674  0.464617  0.401650  0.401650  \n",
       "2021-04-07  0.365939  0.425564  0.441674  0.464617  0.401650  \n",
       "2021-04-08  0.283410  0.365939  0.425564  0.441674  0.464617  \n",
       "\n",
       "[1361 rows x 11 columns]"
      ]
     },
     "execution_count": 246,
     "metadata": {},
     "output_type": "execute_result"
    }
   ],
   "source": [
    "test_sc_df.dropna()"
   ]
  },
  {
   "cell_type": "code",
   "execution_count": 247,
   "metadata": {
    "ExecuteTime": {
     "end_time": "2021-04-27T00:52:16.281227Z",
     "start_time": "2021-04-27T00:52:15.952844Z"
    }
   },
   "outputs": [
    {
     "data": {
      "text/plain": [
       "<matplotlib.legend.Legend at 0x2002182f8b0>"
      ]
     },
     "execution_count": 247,
     "metadata": {},
     "output_type": "execute_result"
    },
    {
     "data": {
      "image/png": "[encoded data removed]",
      "text/plain": [
       "<Figure size 432x288 with 1 Axes>"
      ]
     },
     "metadata": {
      "needs_background": "light"
     },
     "output_type": "display_data"
    }
   ],
   "source": [
    "t_df=test_sc_df.dropna()\n",
    "y_test_df=pd.DataFrame(y_test, columns=['price'], index=t_df.index)\n",
    "y_pred_df=pd.DataFrame(y_pred, columns=['price'], index=t_df.index)\n",
    "\n",
    "ax1=y_test_df.plot()\n",
    "y_pred_df.plot(ax=ax1)\n",
    "plt.legend(['test','pred'])"
   ]
  },
  {
   "cell_type": "code",
   "execution_count": 248,
   "metadata": {
    "ExecuteTime": {
     "end_time": "2021-04-27T00:52:17.802201Z",
     "start_time": "2021-04-27T00:52:17.200784Z"
    }
   },
   "outputs": [
    {
     "name": "stdout",
     "output_type": "stream",
     "text": [
      "46/46 [==============================] - 1s 2ms/step - loss: 0.0068\n"
     ]
    },
    {
     "data": {
      "text/plain": [
       "0.00683422340080142"
      ]
     },
     "execution_count": 248,
     "metadata": {},
     "output_type": "execute_result"
    }
   ],
   "source": [
    "score = model.evaluate(X_test_t,y_test, batch_size=30)\n",
    "score"
   ]
  },
  {
   "cell_type": "code",
   "execution_count": 249,
   "metadata": {
    "ExecuteTime": {
     "end_time": "2021-04-27T00:52:18.655762Z",
     "start_time": "2021-04-27T00:52:18.636230Z"
    }
   },
   "outputs": [
    {
     "name": "stdout",
     "output_type": "stream",
     "text": [
      "MSE : 0.007, RMSE : 0.083\n",
      "Variance Score : 0.739\n"
     ]
    }
   ],
   "source": [
    "from sklearn.metrics import mean_squared_error, r2_score\n",
    "mse = mean_squared_error(y_test,y_pred)\n",
    "rmse = np.sqrt(mse)\n",
    "\n",
    "print('MSE : {0:.3f}, RMSE : {1:.3f}'.format(mse, rmse))\n",
    "print('Variance Score : {0:.3f}'.format(r2_score(y_test,y_pred)))"
   ]
  },
  {
   "cell_type": "code",
   "execution_count": null,
   "metadata": {},
   "outputs": [],
   "source": []
  },
  {
   "cell_type": "code",
   "execution_count": null,
   "metadata": {},
   "outputs": [],
   "source": []
  }
 ],
 "metadata": {
  "kernelspec": {
   "display_name": "Python 3",
   "language": "python",
   "name": "python3"
  },
  "language_info": {
   "codemirror_mode": {
    "name": "ipython",
    "version": 3
   },
   "file_extension": ".py",
   "mimetype": "text/x-python",
   "name": "python",
   "nbconvert_exporter": "python",
   "pygments_lexer": "ipython3",
   "version": "3.8.5"
  },
  "toc": {
   "base_numbering": 1,
   "nav_menu": {},
   "number_sections": true,
   "sideBar": true,
   "skip_h1_title": false,
   "title_cell": "Table of Contents",
   "title_sidebar": "Contents",
   "toc_cell": false,
   "toc_position": {},
   "toc_section_display": true,
   "toc_window_display": false
  },
  "varInspector": {
   "cols": {
    "lenName": 16,
    "lenType": 16,
    "lenVar": 40
   },
   "kernels_config": {
    "python": {
     "delete_cmd_postfix": "",
     "delete_cmd_prefix": "del ",
     "library": "var_list.py",
     "varRefreshCmd": "print(var_dic_list())"
    },
    "r": {
     "delete_cmd_postfix": ") ",
     "delete_cmd_prefix": "rm(",
     "library": "var_list.r",
     "varRefreshCmd": "cat(var_dic_list()) "
    }
   },
   "types_to_exclude": [
    "module",
    "function",
    "builtin_function_or_method",
    "instance",
    "_Feature"
   ],
   "window_display": false
  }
 },
 "nbformat": 4,
 "nbformat_minor": 4
}
