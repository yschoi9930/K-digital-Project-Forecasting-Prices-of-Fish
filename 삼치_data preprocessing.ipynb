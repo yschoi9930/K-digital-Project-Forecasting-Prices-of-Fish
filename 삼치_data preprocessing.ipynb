{
 "cells": [
  {
   "cell_type": "code",
   "execution_count": 68,
   "metadata": {
    "ExecuteTime": {
     "end_time": "2021-04-20T06:53:31.470259Z",
     "start_time": "2021-04-20T06:53:30.929306Z"
    }
   },
   "outputs": [],
   "source": [
    "import selenium\n",
    "from selenium import webdriver\n",
    "from urllib.parse import quote\n",
    "import requests\n",
    "from bs4 import BeautifulSoup\n",
    "import pandas as pd\n",
    "import numpy as np\n",
    "import string\n",
    "import matplotlib.pyplot as plt\n",
    "%matplotlib inline\n",
    "import platform\n",
    "from scipy.stats import *\n",
    "from matplotlib import font_manager, rc\n",
    "plt.rcParams['axes.unicode_minus'] = False\n",
    "\n",
    "if platform.system() == 'Darwin':  # 맥OS \n",
    "    rc('font', family='AppleGothic')\n",
    "elif platform.system() == 'Windows': \n",
    "    # 윈도우   \n",
    "    path = \"c:/Windows/Fonts/malgun.ttf\"\n",
    "    font_name = font_manager.FontProperties(fname=path).get_name()\n",
    "    rc('font', family=font_name)\n",
    "else:\n",
    "    print('Unknown system...  sorry~~~')"
   ]
  },
  {
   "cell_type": "code",
   "execution_count": 41,
   "metadata": {
    "ExecuteTime": {
     "end_time": "2021-04-20T06:48:12.107996Z",
     "start_time": "2021-04-20T06:48:11.964975Z"
    }
   },
   "outputs": [],
   "source": [
    "data = pd.read_csv('./final/삼치_0420.csv')"
   ]
  },
  {
   "cell_type": "code",
   "execution_count": 42,
   "metadata": {
    "ExecuteTime": {
     "end_time": "2021-04-20T06:48:13.036275Z",
     "start_time": "2021-04-20T06:48:12.987685Z"
    }
   },
   "outputs": [
    {
     "name": "stdout",
     "output_type": "stream",
     "text": [
      "<class 'pandas.core.frame.DataFrame'>\n",
      "RangeIndex: 90156 entries, 0 to 90155\n",
      "Data columns (total 12 columns):\n",
      " #   Column        Non-Null Count  Dtype  \n",
      "---  ------        --------------  -----  \n",
      " 0   Unnamed: 0    90156 non-null  int64  \n",
      " 1   Unnamed: 0.1  90156 non-null  int64  \n",
      " 2   어종            90156 non-null  object \n",
      " 3   산지            90156 non-null  object \n",
      " 4   규격            90155 non-null  object \n",
      " 5   포장            90155 non-null  object \n",
      " 6   수량            90156 non-null  object \n",
      " 7   중량            90156 non-null  float64\n",
      " 8   낙찰고가          90156 non-null  object \n",
      " 9   낙찰저가          90156 non-null  object \n",
      " 10  평균가           90156 non-null  object \n",
      " 11  일시            90156 non-null  object \n",
      "dtypes: float64(1), int64(2), object(9)\n",
      "memory usage: 8.3+ MB\n"
     ]
    }
   ],
   "source": [
    "data.info()"
   ]
  },
  {
   "cell_type": "code",
   "execution_count": 43,
   "metadata": {
    "ExecuteTime": {
     "end_time": "2021-04-20T06:48:14.860376Z",
     "start_time": "2021-04-20T06:48:14.749680Z"
    }
   },
   "outputs": [],
   "source": [
    "data['수량'] = data['수량'].str.replace(',','')\n",
    "data['수량'] = data['수량'].astype({'수량':float})\n",
    "data['평균가'] = data['평균가'].str.replace(',','')\n",
    "data['평균가'] = data['평균가'].astype(float)"
   ]
  },
  {
   "cell_type": "code",
   "execution_count": 45,
   "metadata": {
    "ExecuteTime": {
     "end_time": "2021-04-20T06:48:34.217146Z",
     "start_time": "2021-04-20T06:48:34.190357Z"
    }
   },
   "outputs": [],
   "source": [
    "data['1kg price'] = (data['평균가']/data['중량']).round(2)\n",
    "data['qty'] = data['수량']*data['중량']"
   ]
  },
  {
   "cell_type": "code",
   "execution_count": 46,
   "metadata": {
    "ExecuteTime": {
     "end_time": "2021-04-20T06:48:34.934249Z",
     "start_time": "2021-04-20T06:48:34.914766Z"
    }
   },
   "outputs": [
    {
     "data": {
      "text/html": [
       "<div>\n",
       "<style scoped>\n",
       "    .dataframe tbody tr th:only-of-type {\n",
       "        vertical-align: middle;\n",
       "    }\n",
       "\n",
       "    .dataframe tbody tr th {\n",
       "        vertical-align: top;\n",
       "    }\n",
       "\n",
       "    .dataframe thead th {\n",
       "        text-align: right;\n",
       "    }\n",
       "</style>\n",
       "<table border=\"1\" class=\"dataframe\">\n",
       "  <thead>\n",
       "    <tr style=\"text-align: right;\">\n",
       "      <th></th>\n",
       "      <th>Unnamed: 0</th>\n",
       "      <th>Unnamed: 0.1</th>\n",
       "      <th>어종</th>\n",
       "      <th>산지</th>\n",
       "      <th>규격</th>\n",
       "      <th>포장</th>\n",
       "      <th>수량</th>\n",
       "      <th>중량</th>\n",
       "      <th>낙찰고가</th>\n",
       "      <th>낙찰저가</th>\n",
       "      <th>평균가</th>\n",
       "      <th>일시</th>\n",
       "      <th>qty</th>\n",
       "      <th>1kg price</th>\n",
       "    </tr>\n",
       "  </thead>\n",
       "  <tbody>\n",
       "    <tr>\n",
       "      <th>0</th>\n",
       "      <td>0</td>\n",
       "      <td>0</td>\n",
       "      <td>(선)삼치</td>\n",
       "      <td>통영</td>\n",
       "      <td>중</td>\n",
       "      <td>kg</td>\n",
       "      <td>169.5</td>\n",
       "      <td>1.0</td>\n",
       "      <td>6,000</td>\n",
       "      <td>4,000</td>\n",
       "      <td>4900.0</td>\n",
       "      <td>2006.03.21</td>\n",
       "      <td>169.5</td>\n",
       "      <td>4900.0</td>\n",
       "    </tr>\n",
       "    <tr>\n",
       "      <th>1</th>\n",
       "      <td>1</td>\n",
       "      <td>1</td>\n",
       "      <td>(선)삼치</td>\n",
       "      <td>부산(기장)</td>\n",
       "      <td>중</td>\n",
       "      <td>kg</td>\n",
       "      <td>120.1</td>\n",
       "      <td>1.0</td>\n",
       "      <td>3,000</td>\n",
       "      <td>2,800</td>\n",
       "      <td>3000.0</td>\n",
       "      <td>2006.03.21</td>\n",
       "      <td>120.1</td>\n",
       "      <td>3000.0</td>\n",
       "    </tr>\n",
       "    <tr>\n",
       "      <th>2</th>\n",
       "      <td>2</td>\n",
       "      <td>2</td>\n",
       "      <td>(선)삼치</td>\n",
       "      <td>통영</td>\n",
       "      <td>06미</td>\n",
       "      <td>S/P</td>\n",
       "      <td>1.0</td>\n",
       "      <td>8.0</td>\n",
       "      <td>6,000</td>\n",
       "      <td>6,000</td>\n",
       "      <td>6000.0</td>\n",
       "      <td>2006.03.22</td>\n",
       "      <td>8.0</td>\n",
       "      <td>750.0</td>\n",
       "    </tr>\n",
       "    <tr>\n",
       "      <th>3</th>\n",
       "      <td>3</td>\n",
       "      <td>3</td>\n",
       "      <td>(선)삼치</td>\n",
       "      <td>통영</td>\n",
       "      <td>중</td>\n",
       "      <td>kg</td>\n",
       "      <td>18.6</td>\n",
       "      <td>1.0</td>\n",
       "      <td>9,000</td>\n",
       "      <td>8,000</td>\n",
       "      <td>8500.0</td>\n",
       "      <td>2006.03.22</td>\n",
       "      <td>18.6</td>\n",
       "      <td>8500.0</td>\n",
       "    </tr>\n",
       "    <tr>\n",
       "      <th>4</th>\n",
       "      <td>4</td>\n",
       "      <td>4</td>\n",
       "      <td>(선)삼치</td>\n",
       "      <td>부산(기장)</td>\n",
       "      <td>중</td>\n",
       "      <td>kg</td>\n",
       "      <td>49.4</td>\n",
       "      <td>1.0</td>\n",
       "      <td>5,000</td>\n",
       "      <td>3,000</td>\n",
       "      <td>3900.0</td>\n",
       "      <td>2006.03.22</td>\n",
       "      <td>49.4</td>\n",
       "      <td>3900.0</td>\n",
       "    </tr>\n",
       "  </tbody>\n",
       "</table>\n",
       "</div>"
      ],
      "text/plain": [
       "   Unnamed: 0  Unnamed: 0.1     어종      산지   규격   포장     수량   중량   낙찰고가  \\\n",
       "0           0             0  (선)삼치      통영    중   kg  169.5  1.0  6,000   \n",
       "1           1             1  (선)삼치  부산(기장)    중   kg  120.1  1.0  3,000   \n",
       "2           2             2  (선)삼치      통영  06미  S/P    1.0  8.0  6,000   \n",
       "3           3             3  (선)삼치      통영    중   kg   18.6  1.0  9,000   \n",
       "4           4             4  (선)삼치  부산(기장)    중   kg   49.4  1.0  5,000   \n",
       "\n",
       "    낙찰저가     평균가          일시    qty  1kg price  \n",
       "0  4,000  4900.0  2006.03.21  169.5     4900.0  \n",
       "1  2,800  3000.0  2006.03.21  120.1     3000.0  \n",
       "2  6,000  6000.0  2006.03.22    8.0      750.0  \n",
       "3  8,000  8500.0  2006.03.22   18.6     8500.0  \n",
       "4  3,000  3900.0  2006.03.22   49.4     3900.0  "
      ]
     },
     "execution_count": 46,
     "metadata": {},
     "output_type": "execute_result"
    }
   ],
   "source": [
    "data.head()"
   ]
  },
  {
   "cell_type": "code",
   "execution_count": 47,
   "metadata": {
    "ExecuteTime": {
     "end_time": "2021-04-20T06:48:39.012016Z",
     "start_time": "2021-04-20T06:48:38.990623Z"
    }
   },
   "outputs": [],
   "source": [
    "data = data.drop(['Unnamed: 0','Unnamed: 0.1'], axis=1)"
   ]
  },
  {
   "cell_type": "code",
   "execution_count": 52,
   "metadata": {
    "ExecuteTime": {
     "end_time": "2021-04-20T06:49:18.151189Z",
     "start_time": "2021-04-20T06:49:18.129243Z"
    }
   },
   "outputs": [],
   "source": [
    "data = data.drop(['규격','포장'], axis=1)"
   ]
  },
  {
   "cell_type": "code",
   "execution_count": 54,
   "metadata": {
    "ExecuteTime": {
     "end_time": "2021-04-20T06:49:38.786357Z",
     "start_time": "2021-04-20T06:49:38.779302Z"
    }
   },
   "outputs": [],
   "source": [
    "data = data.drop(['평균가'], axis=1)"
   ]
  },
  {
   "cell_type": "code",
   "execution_count": 55,
   "metadata": {
    "ExecuteTime": {
     "end_time": "2021-04-20T06:49:45.718831Z",
     "start_time": "2021-04-20T06:49:45.702682Z"
    }
   },
   "outputs": [
    {
     "data": {
      "text/html": [
       "<div>\n",
       "<style scoped>\n",
       "    .dataframe tbody tr th:only-of-type {\n",
       "        vertical-align: middle;\n",
       "    }\n",
       "\n",
       "    .dataframe tbody tr th {\n",
       "        vertical-align: top;\n",
       "    }\n",
       "\n",
       "    .dataframe thead th {\n",
       "        text-align: right;\n",
       "    }\n",
       "</style>\n",
       "<table border=\"1\" class=\"dataframe\">\n",
       "  <thead>\n",
       "    <tr style=\"text-align: right;\">\n",
       "      <th></th>\n",
       "      <th>어종</th>\n",
       "      <th>산지</th>\n",
       "      <th>일시</th>\n",
       "      <th>qty</th>\n",
       "      <th>1kg price</th>\n",
       "    </tr>\n",
       "  </thead>\n",
       "  <tbody>\n",
       "    <tr>\n",
       "      <th>0</th>\n",
       "      <td>(선)삼치</td>\n",
       "      <td>통영</td>\n",
       "      <td>2006.03.21</td>\n",
       "      <td>169.5</td>\n",
       "      <td>4900.00</td>\n",
       "    </tr>\n",
       "    <tr>\n",
       "      <th>1</th>\n",
       "      <td>(선)삼치</td>\n",
       "      <td>부산(기장)</td>\n",
       "      <td>2006.03.21</td>\n",
       "      <td>120.1</td>\n",
       "      <td>3000.00</td>\n",
       "    </tr>\n",
       "    <tr>\n",
       "      <th>2</th>\n",
       "      <td>(선)삼치</td>\n",
       "      <td>통영</td>\n",
       "      <td>2006.03.22</td>\n",
       "      <td>8.0</td>\n",
       "      <td>750.00</td>\n",
       "    </tr>\n",
       "    <tr>\n",
       "      <th>3</th>\n",
       "      <td>(선)삼치</td>\n",
       "      <td>통영</td>\n",
       "      <td>2006.03.22</td>\n",
       "      <td>18.6</td>\n",
       "      <td>8500.00</td>\n",
       "    </tr>\n",
       "    <tr>\n",
       "      <th>4</th>\n",
       "      <td>(선)삼치</td>\n",
       "      <td>부산(기장)</td>\n",
       "      <td>2006.03.22</td>\n",
       "      <td>49.4</td>\n",
       "      <td>3900.00</td>\n",
       "    </tr>\n",
       "    <tr>\n",
       "      <th>...</th>\n",
       "      <td>...</td>\n",
       "      <td>...</td>\n",
       "      <td>...</td>\n",
       "      <td>...</td>\n",
       "      <td>...</td>\n",
       "    </tr>\n",
       "    <tr>\n",
       "      <th>90151</th>\n",
       "      <td>(선)삼치</td>\n",
       "      <td>추자도</td>\n",
       "      <td>2021.04.07</td>\n",
       "      <td>20.0</td>\n",
       "      <td>9000.00</td>\n",
       "    </tr>\n",
       "    <tr>\n",
       "      <th>90152</th>\n",
       "      <td>(선)삼치</td>\n",
       "      <td>포항</td>\n",
       "      <td>2021.04.07</td>\n",
       "      <td>320.0</td>\n",
       "      <td>9800.00</td>\n",
       "    </tr>\n",
       "    <tr>\n",
       "      <th>90153</th>\n",
       "      <td>(선)삼치</td>\n",
       "      <td>감포</td>\n",
       "      <td>2021.04.08</td>\n",
       "      <td>1232.7</td>\n",
       "      <td>8400.00</td>\n",
       "    </tr>\n",
       "    <tr>\n",
       "      <th>90154</th>\n",
       "      <td>(선)삼치</td>\n",
       "      <td>포항</td>\n",
       "      <td>2021.04.08</td>\n",
       "      <td>378.9</td>\n",
       "      <td>9800.00</td>\n",
       "    </tr>\n",
       "    <tr>\n",
       "      <th>90155</th>\n",
       "      <td>(냉)삼치</td>\n",
       "      <td>마산</td>\n",
       "      <td>2021.04.08</td>\n",
       "      <td>150.0</td>\n",
       "      <td>4566.67</td>\n",
       "    </tr>\n",
       "  </tbody>\n",
       "</table>\n",
       "<p>90156 rows × 5 columns</p>\n",
       "</div>"
      ],
      "text/plain": [
       "          어종      산지          일시     qty  1kg price\n",
       "0      (선)삼치      통영  2006.03.21   169.5    4900.00\n",
       "1      (선)삼치  부산(기장)  2006.03.21   120.1    3000.00\n",
       "2      (선)삼치      통영  2006.03.22     8.0     750.00\n",
       "3      (선)삼치      통영  2006.03.22    18.6    8500.00\n",
       "4      (선)삼치  부산(기장)  2006.03.22    49.4    3900.00\n",
       "...      ...     ...         ...     ...        ...\n",
       "90151  (선)삼치     추자도  2021.04.07    20.0    9000.00\n",
       "90152  (선)삼치      포항  2021.04.07   320.0    9800.00\n",
       "90153  (선)삼치      감포  2021.04.08  1232.7    8400.00\n",
       "90154  (선)삼치      포항  2021.04.08   378.9    9800.00\n",
       "90155  (냉)삼치      마산  2021.04.08   150.0    4566.67\n",
       "\n",
       "[90156 rows x 5 columns]"
      ]
     },
     "execution_count": 55,
     "metadata": {},
     "output_type": "execute_result"
    }
   ],
   "source": [
    "data"
   ]
  },
  {
   "cell_type": "code",
   "execution_count": 58,
   "metadata": {
    "ExecuteTime": {
     "end_time": "2021-04-20T06:50:05.683772Z",
     "start_time": "2021-04-20T06:50:05.649251Z"
    }
   },
   "outputs": [
    {
     "data": {
      "text/html": [
       "<div>\n",
       "<style scoped>\n",
       "    .dataframe tbody tr th:only-of-type {\n",
       "        vertical-align: middle;\n",
       "    }\n",
       "\n",
       "    .dataframe tbody tr th {\n",
       "        vertical-align: top;\n",
       "    }\n",
       "\n",
       "    .dataframe thead th {\n",
       "        text-align: right;\n",
       "    }\n",
       "</style>\n",
       "<table border=\"1\" class=\"dataframe\">\n",
       "  <thead>\n",
       "    <tr style=\"text-align: right;\">\n",
       "      <th></th>\n",
       "      <th>qty</th>\n",
       "      <th>1kg price</th>\n",
       "    </tr>\n",
       "    <tr>\n",
       "      <th>산지</th>\n",
       "      <th></th>\n",
       "      <th></th>\n",
       "    </tr>\n",
       "  </thead>\n",
       "  <tbody>\n",
       "    <tr>\n",
       "      <th>부산(기장)</th>\n",
       "      <td>14663742.30</td>\n",
       "      <td>30239732.52</td>\n",
       "    </tr>\n",
       "    <tr>\n",
       "      <th>여수</th>\n",
       "      <td>6376121.80</td>\n",
       "      <td>30005449.44</td>\n",
       "    </tr>\n",
       "    <tr>\n",
       "      <th>삼천포</th>\n",
       "      <td>5521639.08</td>\n",
       "      <td>30645814.62</td>\n",
       "    </tr>\n",
       "    <tr>\n",
       "      <th>통영</th>\n",
       "      <td>4327506.44</td>\n",
       "      <td>16103323.26</td>\n",
       "    </tr>\n",
       "    <tr>\n",
       "      <th>마산</th>\n",
       "      <td>2320936.00</td>\n",
       "      <td>2981256.60</td>\n",
       "    </tr>\n",
       "    <tr>\n",
       "      <th>포항</th>\n",
       "      <td>1617436.44</td>\n",
       "      <td>16539630.15</td>\n",
       "    </tr>\n",
       "    <tr>\n",
       "      <th>강구</th>\n",
       "      <td>1439799.50</td>\n",
       "      <td>12894134.66</td>\n",
       "    </tr>\n",
       "    <tr>\n",
       "      <th>남해</th>\n",
       "      <td>1185461.40</td>\n",
       "      <td>4724481.69</td>\n",
       "    </tr>\n",
       "    <tr>\n",
       "      <th>죽변</th>\n",
       "      <td>801964.04</td>\n",
       "      <td>7607168.76</td>\n",
       "    </tr>\n",
       "    <tr>\n",
       "      <th>후포</th>\n",
       "      <td>720067.50</td>\n",
       "      <td>4379265.91</td>\n",
       "    </tr>\n",
       "    <tr>\n",
       "      <th>제주도</th>\n",
       "      <td>551241.20</td>\n",
       "      <td>33260595.07</td>\n",
       "    </tr>\n",
       "    <tr>\n",
       "      <th>기타(국내)</th>\n",
       "      <td>531130.90</td>\n",
       "      <td>1436384.50</td>\n",
       "    </tr>\n",
       "    <tr>\n",
       "      <th>축산</th>\n",
       "      <td>522087.70</td>\n",
       "      <td>4458926.42</td>\n",
       "    </tr>\n",
       "    <tr>\n",
       "      <th>감포</th>\n",
       "      <td>518976.90</td>\n",
       "      <td>3125330.21</td>\n",
       "    </tr>\n",
       "    <tr>\n",
       "      <th>나로도</th>\n",
       "      <td>397124.20</td>\n",
       "      <td>4700185.89</td>\n",
       "    </tr>\n",
       "    <tr>\n",
       "      <th>태안</th>\n",
       "      <td>380429.00</td>\n",
       "      <td>6110600.92</td>\n",
       "    </tr>\n",
       "    <tr>\n",
       "      <th>방어진</th>\n",
       "      <td>281286.20</td>\n",
       "      <td>3110081.05</td>\n",
       "    </tr>\n",
       "    <tr>\n",
       "      <th>속초</th>\n",
       "      <td>249451.78</td>\n",
       "      <td>6121266.45</td>\n",
       "    </tr>\n",
       "    <tr>\n",
       "      <th>동해시</th>\n",
       "      <td>225921.00</td>\n",
       "      <td>1599847.37</td>\n",
       "    </tr>\n",
       "    <tr>\n",
       "      <th>보령</th>\n",
       "      <td>169853.00</td>\n",
       "      <td>4255945.66</td>\n",
       "    </tr>\n",
       "  </tbody>\n",
       "</table>\n",
       "</div>"
      ],
      "text/plain": [
       "                qty    1kg price\n",
       "산지                              \n",
       "부산(기장)  14663742.30  30239732.52\n",
       "여수       6376121.80  30005449.44\n",
       "삼천포      5521639.08  30645814.62\n",
       "통영       4327506.44  16103323.26\n",
       "마산       2320936.00   2981256.60\n",
       "포항       1617436.44  16539630.15\n",
       "강구       1439799.50  12894134.66\n",
       "남해       1185461.40   4724481.69\n",
       "죽변        801964.04   7607168.76\n",
       "후포        720067.50   4379265.91\n",
       "제주도       551241.20  33260595.07\n",
       "기타(국내)    531130.90   1436384.50\n",
       "축산        522087.70   4458926.42\n",
       "감포        518976.90   3125330.21\n",
       "나로도       397124.20   4700185.89\n",
       "태안        380429.00   6110600.92\n",
       "방어진       281286.20   3110081.05\n",
       "속초        249451.78   6121266.45\n",
       "동해시       225921.00   1599847.37\n",
       "보령        169853.00   4255945.66"
      ]
     },
     "execution_count": 58,
     "metadata": {},
     "output_type": "execute_result"
    }
   ],
   "source": [
    "data.groupby('산지').sum().sort_values('qty', ascending=False).head(20)"
   ]
  },
  {
   "cell_type": "code",
   "execution_count": 59,
   "metadata": {
    "ExecuteTime": {
     "end_time": "2021-04-20T06:50:09.294348Z",
     "start_time": "2021-04-20T06:50:08.465339Z"
    }
   },
   "outputs": [],
   "source": [
    "data['year'] = data['일시'].str.split('.').str.get(0)\n",
    "data['month'] = data['일시'].str.split('.').str.get(1)\n",
    "data['day'] = data['일시'].str.split('.').str.get(2)"
   ]
  },
  {
   "cell_type": "code",
   "execution_count": 60,
   "metadata": {
    "ExecuteTime": {
     "end_time": "2021-04-20T06:50:12.925489Z",
     "start_time": "2021-04-20T06:50:12.904673Z"
    }
   },
   "outputs": [
    {
     "data": {
      "text/html": [
       "<div>\n",
       "<style scoped>\n",
       "    .dataframe tbody tr th:only-of-type {\n",
       "        vertical-align: middle;\n",
       "    }\n",
       "\n",
       "    .dataframe tbody tr th {\n",
       "        vertical-align: top;\n",
       "    }\n",
       "\n",
       "    .dataframe thead th {\n",
       "        text-align: right;\n",
       "    }\n",
       "</style>\n",
       "<table border=\"1\" class=\"dataframe\">\n",
       "  <thead>\n",
       "    <tr style=\"text-align: right;\">\n",
       "      <th></th>\n",
       "      <th>어종</th>\n",
       "      <th>산지</th>\n",
       "      <th>일시</th>\n",
       "      <th>qty</th>\n",
       "      <th>1kg price</th>\n",
       "      <th>year</th>\n",
       "      <th>month</th>\n",
       "      <th>day</th>\n",
       "    </tr>\n",
       "  </thead>\n",
       "  <tbody>\n",
       "    <tr>\n",
       "      <th>0</th>\n",
       "      <td>(선)삼치</td>\n",
       "      <td>통영</td>\n",
       "      <td>2006.03.21</td>\n",
       "      <td>169.5</td>\n",
       "      <td>4900.00</td>\n",
       "      <td>2006</td>\n",
       "      <td>03</td>\n",
       "      <td>21</td>\n",
       "    </tr>\n",
       "    <tr>\n",
       "      <th>1</th>\n",
       "      <td>(선)삼치</td>\n",
       "      <td>부산(기장)</td>\n",
       "      <td>2006.03.21</td>\n",
       "      <td>120.1</td>\n",
       "      <td>3000.00</td>\n",
       "      <td>2006</td>\n",
       "      <td>03</td>\n",
       "      <td>21</td>\n",
       "    </tr>\n",
       "    <tr>\n",
       "      <th>2</th>\n",
       "      <td>(선)삼치</td>\n",
       "      <td>통영</td>\n",
       "      <td>2006.03.22</td>\n",
       "      <td>8.0</td>\n",
       "      <td>750.00</td>\n",
       "      <td>2006</td>\n",
       "      <td>03</td>\n",
       "      <td>22</td>\n",
       "    </tr>\n",
       "    <tr>\n",
       "      <th>3</th>\n",
       "      <td>(선)삼치</td>\n",
       "      <td>통영</td>\n",
       "      <td>2006.03.22</td>\n",
       "      <td>18.6</td>\n",
       "      <td>8500.00</td>\n",
       "      <td>2006</td>\n",
       "      <td>03</td>\n",
       "      <td>22</td>\n",
       "    </tr>\n",
       "    <tr>\n",
       "      <th>4</th>\n",
       "      <td>(선)삼치</td>\n",
       "      <td>부산(기장)</td>\n",
       "      <td>2006.03.22</td>\n",
       "      <td>49.4</td>\n",
       "      <td>3900.00</td>\n",
       "      <td>2006</td>\n",
       "      <td>03</td>\n",
       "      <td>22</td>\n",
       "    </tr>\n",
       "    <tr>\n",
       "      <th>...</th>\n",
       "      <td>...</td>\n",
       "      <td>...</td>\n",
       "      <td>...</td>\n",
       "      <td>...</td>\n",
       "      <td>...</td>\n",
       "      <td>...</td>\n",
       "      <td>...</td>\n",
       "      <td>...</td>\n",
       "    </tr>\n",
       "    <tr>\n",
       "      <th>90151</th>\n",
       "      <td>(선)삼치</td>\n",
       "      <td>추자도</td>\n",
       "      <td>2021.04.07</td>\n",
       "      <td>20.0</td>\n",
       "      <td>9000.00</td>\n",
       "      <td>2021</td>\n",
       "      <td>04</td>\n",
       "      <td>07</td>\n",
       "    </tr>\n",
       "    <tr>\n",
       "      <th>90152</th>\n",
       "      <td>(선)삼치</td>\n",
       "      <td>포항</td>\n",
       "      <td>2021.04.07</td>\n",
       "      <td>320.0</td>\n",
       "      <td>9800.00</td>\n",
       "      <td>2021</td>\n",
       "      <td>04</td>\n",
       "      <td>07</td>\n",
       "    </tr>\n",
       "    <tr>\n",
       "      <th>90153</th>\n",
       "      <td>(선)삼치</td>\n",
       "      <td>감포</td>\n",
       "      <td>2021.04.08</td>\n",
       "      <td>1232.7</td>\n",
       "      <td>8400.00</td>\n",
       "      <td>2021</td>\n",
       "      <td>04</td>\n",
       "      <td>08</td>\n",
       "    </tr>\n",
       "    <tr>\n",
       "      <th>90154</th>\n",
       "      <td>(선)삼치</td>\n",
       "      <td>포항</td>\n",
       "      <td>2021.04.08</td>\n",
       "      <td>378.9</td>\n",
       "      <td>9800.00</td>\n",
       "      <td>2021</td>\n",
       "      <td>04</td>\n",
       "      <td>08</td>\n",
       "    </tr>\n",
       "    <tr>\n",
       "      <th>90155</th>\n",
       "      <td>(냉)삼치</td>\n",
       "      <td>마산</td>\n",
       "      <td>2021.04.08</td>\n",
       "      <td>150.0</td>\n",
       "      <td>4566.67</td>\n",
       "      <td>2021</td>\n",
       "      <td>04</td>\n",
       "      <td>08</td>\n",
       "    </tr>\n",
       "  </tbody>\n",
       "</table>\n",
       "<p>90156 rows × 8 columns</p>\n",
       "</div>"
      ],
      "text/plain": [
       "          어종      산지          일시     qty  1kg price  year month day\n",
       "0      (선)삼치      통영  2006.03.21   169.5    4900.00  2006    03  21\n",
       "1      (선)삼치  부산(기장)  2006.03.21   120.1    3000.00  2006    03  21\n",
       "2      (선)삼치      통영  2006.03.22     8.0     750.00  2006    03  22\n",
       "3      (선)삼치      통영  2006.03.22    18.6    8500.00  2006    03  22\n",
       "4      (선)삼치  부산(기장)  2006.03.22    49.4    3900.00  2006    03  22\n",
       "...      ...     ...         ...     ...        ...   ...   ...  ..\n",
       "90151  (선)삼치     추자도  2021.04.07    20.0    9000.00  2021    04  07\n",
       "90152  (선)삼치      포항  2021.04.07   320.0    9800.00  2021    04  07\n",
       "90153  (선)삼치      감포  2021.04.08  1232.7    8400.00  2021    04  08\n",
       "90154  (선)삼치      포항  2021.04.08   378.9    9800.00  2021    04  08\n",
       "90155  (냉)삼치      마산  2021.04.08   150.0    4566.67  2021    04  08\n",
       "\n",
       "[90156 rows x 8 columns]"
      ]
     },
     "execution_count": 60,
     "metadata": {},
     "output_type": "execute_result"
    }
   ],
   "source": [
    "data"
   ]
  },
  {
   "cell_type": "code",
   "execution_count": 62,
   "metadata": {
    "ExecuteTime": {
     "end_time": "2021-04-20T06:50:56.669926Z",
     "start_time": "2021-04-20T06:50:56.665892Z"
    }
   },
   "outputs": [],
   "source": [
    "data.columns = ['species','from','date','qty','1kg price','year','month','day']"
   ]
  },
  {
   "cell_type": "code",
   "execution_count": 63,
   "metadata": {
    "ExecuteTime": {
     "end_time": "2021-04-20T06:50:59.802318Z",
     "start_time": "2021-04-20T06:50:59.765686Z"
    }
   },
   "outputs": [
    {
     "data": {
      "text/html": [
       "<div>\n",
       "<style scoped>\n",
       "    .dataframe tbody tr th:only-of-type {\n",
       "        vertical-align: middle;\n",
       "    }\n",
       "\n",
       "    .dataframe tbody tr th {\n",
       "        vertical-align: top;\n",
       "    }\n",
       "\n",
       "    .dataframe thead th {\n",
       "        text-align: right;\n",
       "    }\n",
       "</style>\n",
       "<table border=\"1\" class=\"dataframe\">\n",
       "  <thead>\n",
       "    <tr style=\"text-align: right;\">\n",
       "      <th></th>\n",
       "      <th>species</th>\n",
       "      <th>from</th>\n",
       "      <th>date</th>\n",
       "      <th>qty</th>\n",
       "      <th>1kg price</th>\n",
       "      <th>year</th>\n",
       "      <th>month</th>\n",
       "      <th>day</th>\n",
       "    </tr>\n",
       "  </thead>\n",
       "  <tbody>\n",
       "    <tr>\n",
       "      <th>0</th>\n",
       "      <td>(선)삼치</td>\n",
       "      <td>통영</td>\n",
       "      <td>2006.03.21</td>\n",
       "      <td>169.5</td>\n",
       "      <td>4900.00</td>\n",
       "      <td>2006</td>\n",
       "      <td>03</td>\n",
       "      <td>21</td>\n",
       "    </tr>\n",
       "    <tr>\n",
       "      <th>1</th>\n",
       "      <td>(선)삼치</td>\n",
       "      <td>부산(기장)</td>\n",
       "      <td>2006.03.21</td>\n",
       "      <td>120.1</td>\n",
       "      <td>3000.00</td>\n",
       "      <td>2006</td>\n",
       "      <td>03</td>\n",
       "      <td>21</td>\n",
       "    </tr>\n",
       "    <tr>\n",
       "      <th>2</th>\n",
       "      <td>(선)삼치</td>\n",
       "      <td>통영</td>\n",
       "      <td>2006.03.22</td>\n",
       "      <td>8.0</td>\n",
       "      <td>750.00</td>\n",
       "      <td>2006</td>\n",
       "      <td>03</td>\n",
       "      <td>22</td>\n",
       "    </tr>\n",
       "    <tr>\n",
       "      <th>3</th>\n",
       "      <td>(선)삼치</td>\n",
       "      <td>통영</td>\n",
       "      <td>2006.03.22</td>\n",
       "      <td>18.6</td>\n",
       "      <td>8500.00</td>\n",
       "      <td>2006</td>\n",
       "      <td>03</td>\n",
       "      <td>22</td>\n",
       "    </tr>\n",
       "    <tr>\n",
       "      <th>4</th>\n",
       "      <td>(선)삼치</td>\n",
       "      <td>부산(기장)</td>\n",
       "      <td>2006.03.22</td>\n",
       "      <td>49.4</td>\n",
       "      <td>3900.00</td>\n",
       "      <td>2006</td>\n",
       "      <td>03</td>\n",
       "      <td>22</td>\n",
       "    </tr>\n",
       "    <tr>\n",
       "      <th>...</th>\n",
       "      <td>...</td>\n",
       "      <td>...</td>\n",
       "      <td>...</td>\n",
       "      <td>...</td>\n",
       "      <td>...</td>\n",
       "      <td>...</td>\n",
       "      <td>...</td>\n",
       "      <td>...</td>\n",
       "    </tr>\n",
       "    <tr>\n",
       "      <th>90151</th>\n",
       "      <td>(선)삼치</td>\n",
       "      <td>추자도</td>\n",
       "      <td>2021.04.07</td>\n",
       "      <td>20.0</td>\n",
       "      <td>9000.00</td>\n",
       "      <td>2021</td>\n",
       "      <td>04</td>\n",
       "      <td>07</td>\n",
       "    </tr>\n",
       "    <tr>\n",
       "      <th>90152</th>\n",
       "      <td>(선)삼치</td>\n",
       "      <td>포항</td>\n",
       "      <td>2021.04.07</td>\n",
       "      <td>320.0</td>\n",
       "      <td>9800.00</td>\n",
       "      <td>2021</td>\n",
       "      <td>04</td>\n",
       "      <td>07</td>\n",
       "    </tr>\n",
       "    <tr>\n",
       "      <th>90153</th>\n",
       "      <td>(선)삼치</td>\n",
       "      <td>감포</td>\n",
       "      <td>2021.04.08</td>\n",
       "      <td>1232.7</td>\n",
       "      <td>8400.00</td>\n",
       "      <td>2021</td>\n",
       "      <td>04</td>\n",
       "      <td>08</td>\n",
       "    </tr>\n",
       "    <tr>\n",
       "      <th>90154</th>\n",
       "      <td>(선)삼치</td>\n",
       "      <td>포항</td>\n",
       "      <td>2021.04.08</td>\n",
       "      <td>378.9</td>\n",
       "      <td>9800.00</td>\n",
       "      <td>2021</td>\n",
       "      <td>04</td>\n",
       "      <td>08</td>\n",
       "    </tr>\n",
       "    <tr>\n",
       "      <th>90155</th>\n",
       "      <td>(냉)삼치</td>\n",
       "      <td>마산</td>\n",
       "      <td>2021.04.08</td>\n",
       "      <td>150.0</td>\n",
       "      <td>4566.67</td>\n",
       "      <td>2021</td>\n",
       "      <td>04</td>\n",
       "      <td>08</td>\n",
       "    </tr>\n",
       "  </tbody>\n",
       "</table>\n",
       "<p>90156 rows × 8 columns</p>\n",
       "</div>"
      ],
      "text/plain": [
       "      species    from        date     qty  1kg price  year month day\n",
       "0       (선)삼치      통영  2006.03.21   169.5    4900.00  2006    03  21\n",
       "1       (선)삼치  부산(기장)  2006.03.21   120.1    3000.00  2006    03  21\n",
       "2       (선)삼치      통영  2006.03.22     8.0     750.00  2006    03  22\n",
       "3       (선)삼치      통영  2006.03.22    18.6    8500.00  2006    03  22\n",
       "4       (선)삼치  부산(기장)  2006.03.22    49.4    3900.00  2006    03  22\n",
       "...       ...     ...         ...     ...        ...   ...   ...  ..\n",
       "90151   (선)삼치     추자도  2021.04.07    20.0    9000.00  2021    04  07\n",
       "90152   (선)삼치      포항  2021.04.07   320.0    9800.00  2021    04  07\n",
       "90153   (선)삼치      감포  2021.04.08  1232.7    8400.00  2021    04  08\n",
       "90154   (선)삼치      포항  2021.04.08   378.9    9800.00  2021    04  08\n",
       "90155   (냉)삼치      마산  2021.04.08   150.0    4566.67  2021    04  08\n",
       "\n",
       "[90156 rows x 8 columns]"
      ]
     },
     "execution_count": 63,
     "metadata": {},
     "output_type": "execute_result"
    }
   ],
   "source": [
    "data"
   ]
  },
  {
   "cell_type": "code",
   "execution_count": 64,
   "metadata": {
    "ExecuteTime": {
     "end_time": "2021-04-20T06:51:15.004984Z",
     "start_time": "2021-04-20T06:51:14.929683Z"
    }
   },
   "outputs": [
    {
     "data": {
      "text/html": [
       "<div>\n",
       "<style scoped>\n",
       "    .dataframe tbody tr th:only-of-type {\n",
       "        vertical-align: middle;\n",
       "    }\n",
       "\n",
       "    .dataframe tbody tr th {\n",
       "        vertical-align: top;\n",
       "    }\n",
       "\n",
       "    .dataframe thead th {\n",
       "        text-align: right;\n",
       "    }\n",
       "</style>\n",
       "<table border=\"1\" class=\"dataframe\">\n",
       "  <thead>\n",
       "    <tr style=\"text-align: right;\">\n",
       "      <th></th>\n",
       "      <th>qty</th>\n",
       "      <th>1kg price</th>\n",
       "    </tr>\n",
       "    <tr>\n",
       "      <th>species</th>\n",
       "      <th></th>\n",
       "      <th></th>\n",
       "    </tr>\n",
       "  </thead>\n",
       "  <tbody>\n",
       "    <tr>\n",
       "      <th>(선)삼치</th>\n",
       "      <td>36944688.28</td>\n",
       "      <td>2.251146e+08</td>\n",
       "    </tr>\n",
       "    <tr>\n",
       "      <th>(냉)삼치</th>\n",
       "      <td>6923590.00</td>\n",
       "      <td>1.429320e+07</td>\n",
       "    </tr>\n",
       "    <tr>\n",
       "      <th>(선)줄삼치</th>\n",
       "      <td>310460.90</td>\n",
       "      <td>3.391693e+06</td>\n",
       "    </tr>\n",
       "    <tr>\n",
       "      <th>(선)꼬치삼치</th>\n",
       "      <td>5099.30</td>\n",
       "      <td>2.127277e+04</td>\n",
       "    </tr>\n",
       "    <tr>\n",
       "      <th>(활)꼬치삼치</th>\n",
       "      <td>370.10</td>\n",
       "      <td>5.800000e+03</td>\n",
       "    </tr>\n",
       "    <tr>\n",
       "      <th>(냉)줄삼치</th>\n",
       "      <td>245.00</td>\n",
       "      <td>3.476470e+03</td>\n",
       "    </tr>\n",
       "    <tr>\n",
       "      <th>(선)홍삼치</th>\n",
       "      <td>166.00</td>\n",
       "      <td>1.625000e+03</td>\n",
       "    </tr>\n",
       "    <tr>\n",
       "      <th>(선)동갈삼치</th>\n",
       "      <td>20.00</td>\n",
       "      <td>7.000000e+02</td>\n",
       "    </tr>\n",
       "    <tr>\n",
       "      <th>(활)홍삼치</th>\n",
       "      <td>20.00</td>\n",
       "      <td>2.600000e+04</td>\n",
       "    </tr>\n",
       "  </tbody>\n",
       "</table>\n",
       "</div>"
      ],
      "text/plain": [
       "                 qty     1kg price\n",
       "species                           \n",
       "(선)삼치    36944688.28  2.251146e+08\n",
       "(냉)삼치     6923590.00  1.429320e+07\n",
       "(선)줄삼치     310460.90  3.391693e+06\n",
       "(선)꼬치삼치      5099.30  2.127277e+04\n",
       "(활)꼬치삼치       370.10  5.800000e+03\n",
       "(냉)줄삼치        245.00  3.476470e+03\n",
       "(선)홍삼치        166.00  1.625000e+03\n",
       "(선)동갈삼치        20.00  7.000000e+02\n",
       "(활)홍삼치         20.00  2.600000e+04"
      ]
     },
     "execution_count": 64,
     "metadata": {},
     "output_type": "execute_result"
    }
   ],
   "source": [
    "data.groupby('species').sum().sort_values('qty', ascending=False).head(20)"
   ]
  },
  {
   "cell_type": "code",
   "execution_count": 66,
   "metadata": {
    "ExecuteTime": {
     "end_time": "2021-04-20T06:51:57.468947Z",
     "start_time": "2021-04-20T06:51:57.441355Z"
    }
   },
   "outputs": [
    {
     "data": {
      "text/html": [
       "<div>\n",
       "<style scoped>\n",
       "    .dataframe tbody tr th:only-of-type {\n",
       "        vertical-align: middle;\n",
       "    }\n",
       "\n",
       "    .dataframe tbody tr th {\n",
       "        vertical-align: top;\n",
       "    }\n",
       "\n",
       "    .dataframe thead th {\n",
       "        text-align: right;\n",
       "    }\n",
       "</style>\n",
       "<table border=\"1\" class=\"dataframe\">\n",
       "  <thead>\n",
       "    <tr style=\"text-align: right;\">\n",
       "      <th></th>\n",
       "      <th>qty</th>\n",
       "      <th>1kg price</th>\n",
       "    </tr>\n",
       "    <tr>\n",
       "      <th>species</th>\n",
       "      <th></th>\n",
       "      <th></th>\n",
       "    </tr>\n",
       "  </thead>\n",
       "  <tbody>\n",
       "    <tr>\n",
       "      <th>(선)삼치</th>\n",
       "      <td>36944688.28</td>\n",
       "      <td>2732.80</td>\n",
       "    </tr>\n",
       "    <tr>\n",
       "      <th>(냉)삼치</th>\n",
       "      <td>6923590.00</td>\n",
       "      <td>2551.45</td>\n",
       "    </tr>\n",
       "    <tr>\n",
       "      <th>(선)줄삼치</th>\n",
       "      <td>310460.90</td>\n",
       "      <td>1585.64</td>\n",
       "    </tr>\n",
       "    <tr>\n",
       "      <th>(선)꼬치삼치</th>\n",
       "      <td>5099.30</td>\n",
       "      <td>709.09</td>\n",
       "    </tr>\n",
       "    <tr>\n",
       "      <th>(활)꼬치삼치</th>\n",
       "      <td>370.10</td>\n",
       "      <td>5800.00</td>\n",
       "    </tr>\n",
       "    <tr>\n",
       "      <th>(냉)줄삼치</th>\n",
       "      <td>245.00</td>\n",
       "      <td>1158.82</td>\n",
       "    </tr>\n",
       "    <tr>\n",
       "      <th>(선)홍삼치</th>\n",
       "      <td>166.00</td>\n",
       "      <td>541.67</td>\n",
       "    </tr>\n",
       "    <tr>\n",
       "      <th>(선)동갈삼치</th>\n",
       "      <td>20.00</td>\n",
       "      <td>700.00</td>\n",
       "    </tr>\n",
       "    <tr>\n",
       "      <th>(활)홍삼치</th>\n",
       "      <td>20.00</td>\n",
       "      <td>13000.00</td>\n",
       "    </tr>\n",
       "  </tbody>\n",
       "</table>\n",
       "</div>"
      ],
      "text/plain": [
       "                 qty  1kg price\n",
       "species                        \n",
       "(선)삼치    36944688.28    2732.80\n",
       "(냉)삼치     6923590.00    2551.45\n",
       "(선)줄삼치     310460.90    1585.64\n",
       "(선)꼬치삼치      5099.30     709.09\n",
       "(활)꼬치삼치       370.10    5800.00\n",
       "(냉)줄삼치        245.00    1158.82\n",
       "(선)홍삼치        166.00     541.67\n",
       "(선)동갈삼치        20.00     700.00\n",
       "(활)홍삼치         20.00   13000.00"
      ]
     },
     "execution_count": 66,
     "metadata": {},
     "output_type": "execute_result"
    }
   ],
   "source": [
    "grouped = data.groupby('species')\n",
    "species = grouped.agg({'qty': 'sum', '1kg price' : 'mean'}).round(2)\n",
    "species.sort_values('qty',ascending=False)"
   ]
  },
  {
   "cell_type": "code",
   "execution_count": 69,
   "metadata": {
    "ExecuteTime": {
     "end_time": "2021-04-20T06:53:36.891726Z",
     "start_time": "2021-04-20T06:53:36.692976Z"
    }
   },
   "outputs": [
    {
     "data": {
      "text/plain": [
       "<BarContainer object of 9 artists>"
      ]
     },
     "execution_count": 69,
     "metadata": {},
     "output_type": "execute_result"
    },
    {
     "data": {
      "image/png": "[encoded data removed]",
      "text/plain": [
       "<Figure size 432x288 with 1 Axes>"
      ]
     },
     "metadata": {
      "needs_background": "light"
     },
     "output_type": "display_data"
    }
   ],
   "source": [
    "plt.bar(species.index,species['qty'])"
   ]
  },
  {
   "cell_type": "code",
   "execution_count": 75,
   "metadata": {
    "ExecuteTime": {
     "end_time": "2021-04-20T06:56:18.306768Z",
     "start_time": "2021-04-20T06:56:18.295641Z"
    }
   },
   "outputs": [],
   "source": [
    "a = species.sort_values('qty',ascending=False).tail(6).index"
   ]
  },
  {
   "cell_type": "code",
   "execution_count": 79,
   "metadata": {
    "ExecuteTime": {
     "end_time": "2021-04-20T06:56:50.443472Z",
     "start_time": "2021-04-20T06:56:50.428569Z"
    }
   },
   "outputs": [
    {
     "data": {
      "text/plain": [
       "array(['(선)삼치', '(냉)삼치', '(선)꼬치삼치', '(선)줄삼치', '(활)홍삼치', '(선)홍삼치',\n",
       "       '(선)동갈삼치', '(활)꼬치삼치', '(냉)줄삼치'], dtype=object)"
      ]
     },
     "execution_count": 79,
     "metadata": {},
     "output_type": "execute_result"
    }
   ],
   "source": [
    "data['species'].unique()"
   ]
  },
  {
   "cell_type": "code",
   "execution_count": 96,
   "metadata": {
    "ExecuteTime": {
     "end_time": "2021-04-20T07:03:54.511306Z",
     "start_time": "2021-04-20T07:03:54.462215Z"
    }
   },
   "outputs": [],
   "source": [
    "a = data[(data['species']=='(냉)줄삼치')|(data['species']=='(선)동갈삼치')|(data['species']=='(선)홍참치')|(data['species']=='(냉)줄삼치')|(data['species']=='(활)홍삼치')|(data['species']=='(선)홍삼치')|(data['species']=='(활)꼬치삼치')|(data['species']=='(선)꼬치삼치')].index"
   ]
  },
  {
   "cell_type": "code",
   "execution_count": 97,
   "metadata": {
    "ExecuteTime": {
     "end_time": "2021-04-20T07:03:57.620713Z",
     "start_time": "2021-04-20T07:03:57.613600Z"
    }
   },
   "outputs": [
    {
     "data": {
      "text/plain": [
       "array([  332,  1705,  8983,  9040,  9874,  9903, 10118, 13893, 14424,\n",
       "       14425, 14871, 23769, 37024, 38774, 39431, 40378, 40485, 41739,\n",
       "       53256, 58998, 59065, 59085, 59101, 59107, 59284, 59419, 59666,\n",
       "       59706, 59727, 59930, 59931, 59946, 60463, 60596, 60870, 61267,\n",
       "       61847, 61880, 61881, 63083], dtype=int64)"
      ]
     },
     "execution_count": 97,
     "metadata": {},
     "output_type": "execute_result"
    }
   ],
   "source": [
    "a.values"
   ]
  },
  {
   "cell_type": "code",
   "execution_count": 98,
   "metadata": {
    "ExecuteTime": {
     "end_time": "2021-04-20T07:03:59.801958Z",
     "start_time": "2021-04-20T07:03:59.762718Z"
    }
   },
   "outputs": [
    {
     "data": {
      "text/plain": [
       "(90116, 8)"
      ]
     },
     "execution_count": 98,
     "metadata": {},
     "output_type": "execute_result"
    }
   ],
   "source": [
    "data_f = data.drop(a,axis=0)\n",
    "data_f.shape"
   ]
  },
  {
   "cell_type": "code",
   "execution_count": 99,
   "metadata": {
    "ExecuteTime": {
     "end_time": "2021-04-20T07:04:01.067639Z",
     "start_time": "2021-04-20T07:04:01.025479Z"
    }
   },
   "outputs": [
    {
     "data": {
      "text/html": [
       "<div>\n",
       "<style scoped>\n",
       "    .dataframe tbody tr th:only-of-type {\n",
       "        vertical-align: middle;\n",
       "    }\n",
       "\n",
       "    .dataframe tbody tr th {\n",
       "        vertical-align: top;\n",
       "    }\n",
       "\n",
       "    .dataframe thead th {\n",
       "        text-align: right;\n",
       "    }\n",
       "</style>\n",
       "<table border=\"1\" class=\"dataframe\">\n",
       "  <thead>\n",
       "    <tr style=\"text-align: right;\">\n",
       "      <th></th>\n",
       "      <th>qty</th>\n",
       "      <th>1kg price</th>\n",
       "    </tr>\n",
       "    <tr>\n",
       "      <th>species</th>\n",
       "      <th></th>\n",
       "      <th></th>\n",
       "    </tr>\n",
       "  </thead>\n",
       "  <tbody>\n",
       "    <tr>\n",
       "      <th>(선)삼치</th>\n",
       "      <td>36944688.28</td>\n",
       "      <td>2732.80</td>\n",
       "    </tr>\n",
       "    <tr>\n",
       "      <th>(냉)삼치</th>\n",
       "      <td>6923590.00</td>\n",
       "      <td>2551.45</td>\n",
       "    </tr>\n",
       "    <tr>\n",
       "      <th>(선)줄삼치</th>\n",
       "      <td>310460.90</td>\n",
       "      <td>1585.64</td>\n",
       "    </tr>\n",
       "  </tbody>\n",
       "</table>\n",
       "</div>"
      ],
      "text/plain": [
       "                 qty  1kg price\n",
       "species                        \n",
       "(선)삼치    36944688.28    2732.80\n",
       "(냉)삼치     6923590.00    2551.45\n",
       "(선)줄삼치     310460.90    1585.64"
      ]
     },
     "execution_count": 99,
     "metadata": {},
     "output_type": "execute_result"
    }
   ],
   "source": [
    "grouped1 = data_f.groupby('species')\n",
    "species1 = grouped1.agg({'qty': 'sum', '1kg price' : 'mean'}).round(2)\n",
    "species1.sort_values('qty',ascending=False)"
   ]
  },
  {
   "cell_type": "code",
   "execution_count": 100,
   "metadata": {
    "ExecuteTime": {
     "end_time": "2021-04-20T07:04:14.472581Z",
     "start_time": "2021-04-20T07:04:14.338614Z"
    },
    "scrolled": true
   },
   "outputs": [
    {
     "data": {
      "text/plain": [
       "<BarContainer object of 3 artists>"
      ]
     },
     "execution_count": 100,
     "metadata": {},
     "output_type": "execute_result"
    },
    {
     "data": {
      "image/png": "[encoded data removed]",
      "text/plain": [
       "<Figure size 432x288 with 1 Axes>"
      ]
     },
     "metadata": {
      "needs_background": "light"
     },
     "output_type": "display_data"
    }
   ],
   "source": [
    "plt.bar(species1.index,species1['qty'])"
   ]
  },
  {
   "cell_type": "code",
   "execution_count": 102,
   "metadata": {
    "ExecuteTime": {
     "end_time": "2021-04-20T07:05:24.613369Z",
     "start_time": "2021-04-20T07:05:24.565448Z"
    }
   },
   "outputs": [],
   "source": [
    "data_f = data_f.drop(data_f[data_f['species']=='(선)줄삼치'].index,axis=0)"
   ]
  },
  {
   "cell_type": "code",
   "execution_count": 103,
   "metadata": {
    "ExecuteTime": {
     "end_time": "2021-04-20T07:05:33.309922Z",
     "start_time": "2021-04-20T07:05:33.274847Z"
    }
   },
   "outputs": [
    {
     "data": {
      "text/html": [
       "<div>\n",
       "<style scoped>\n",
       "    .dataframe tbody tr th:only-of-type {\n",
       "        vertical-align: middle;\n",
       "    }\n",
       "\n",
       "    .dataframe tbody tr th {\n",
       "        vertical-align: top;\n",
       "    }\n",
       "\n",
       "    .dataframe thead th {\n",
       "        text-align: right;\n",
       "    }\n",
       "</style>\n",
       "<table border=\"1\" class=\"dataframe\">\n",
       "  <thead>\n",
       "    <tr style=\"text-align: right;\">\n",
       "      <th></th>\n",
       "      <th>qty</th>\n",
       "      <th>1kg price</th>\n",
       "    </tr>\n",
       "    <tr>\n",
       "      <th>species</th>\n",
       "      <th></th>\n",
       "      <th></th>\n",
       "    </tr>\n",
       "  </thead>\n",
       "  <tbody>\n",
       "    <tr>\n",
       "      <th>(선)삼치</th>\n",
       "      <td>36944688.28</td>\n",
       "      <td>2732.80</td>\n",
       "    </tr>\n",
       "    <tr>\n",
       "      <th>(냉)삼치</th>\n",
       "      <td>6923590.00</td>\n",
       "      <td>2551.45</td>\n",
       "    </tr>\n",
       "  </tbody>\n",
       "</table>\n",
       "</div>"
      ],
      "text/plain": [
       "                 qty  1kg price\n",
       "species                        \n",
       "(선)삼치    36944688.28    2732.80\n",
       "(냉)삼치     6923590.00    2551.45"
      ]
     },
     "execution_count": 103,
     "metadata": {},
     "output_type": "execute_result"
    }
   ],
   "source": [
    "grouped1 = data_f.groupby('species')\n",
    "species1 = grouped1.agg({'qty': 'sum', '1kg price' : 'mean'}).round(2)\n",
    "species1.sort_values('qty',ascending=False)"
   ]
  },
  {
   "cell_type": "code",
   "execution_count": null,
   "metadata": {},
   "outputs": [],
   "source": [
    "# 지역 이상치 삭제"
   ]
  },
  {
   "cell_type": "code",
   "execution_count": 124,
   "metadata": {
    "ExecuteTime": {
     "end_time": "2021-04-20T07:11:01.645123Z",
     "start_time": "2021-04-20T07:11:01.618023Z"
    }
   },
   "outputs": [
    {
     "data": {
      "text/html": [
       "<div>\n",
       "<style scoped>\n",
       "    .dataframe tbody tr th:only-of-type {\n",
       "        vertical-align: middle;\n",
       "    }\n",
       "\n",
       "    .dataframe tbody tr th {\n",
       "        vertical-align: top;\n",
       "    }\n",
       "\n",
       "    .dataframe thead th {\n",
       "        text-align: right;\n",
       "    }\n",
       "</style>\n",
       "<table border=\"1\" class=\"dataframe\">\n",
       "  <thead>\n",
       "    <tr style=\"text-align: right;\">\n",
       "      <th></th>\n",
       "      <th>qty</th>\n",
       "      <th>1kg price</th>\n",
       "    </tr>\n",
       "    <tr>\n",
       "      <th>from</th>\n",
       "      <th></th>\n",
       "      <th></th>\n",
       "    </tr>\n",
       "  </thead>\n",
       "  <tbody>\n",
       "    <tr>\n",
       "      <th>부산(기장)</th>\n",
       "      <td>14462378.20</td>\n",
       "      <td>2434.99</td>\n",
       "    </tr>\n",
       "    <tr>\n",
       "      <th>여수</th>\n",
       "      <td>6353602.10</td>\n",
       "      <td>2240.28</td>\n",
       "    </tr>\n",
       "    <tr>\n",
       "      <th>삼천포</th>\n",
       "      <td>5503433.48</td>\n",
       "      <td>2661.87</td>\n",
       "    </tr>\n",
       "    <tr>\n",
       "      <th>통영</th>\n",
       "      <td>4317641.44</td>\n",
       "      <td>2160.61</td>\n",
       "    </tr>\n",
       "    <tr>\n",
       "      <th>마산</th>\n",
       "      <td>2320936.00</td>\n",
       "      <td>2596.91</td>\n",
       "    </tr>\n",
       "    <tr>\n",
       "      <th>포항</th>\n",
       "      <td>1616179.74</td>\n",
       "      <td>3147.55</td>\n",
       "    </tr>\n",
       "    <tr>\n",
       "      <th>강구</th>\n",
       "      <td>1438411.40</td>\n",
       "      <td>2971.37</td>\n",
       "    </tr>\n",
       "    <tr>\n",
       "      <th>남해</th>\n",
       "      <td>1178789.40</td>\n",
       "      <td>1241.71</td>\n",
       "    </tr>\n",
       "    <tr>\n",
       "      <th>죽변</th>\n",
       "      <td>799840.44</td>\n",
       "      <td>2700.13</td>\n",
       "    </tr>\n",
       "    <tr>\n",
       "      <th>후포</th>\n",
       "      <td>718613.00</td>\n",
       "      <td>2475.59</td>\n",
       "    </tr>\n",
       "    <tr>\n",
       "      <th>기타(국내)</th>\n",
       "      <td>531130.90</td>\n",
       "      <td>3235.10</td>\n",
       "    </tr>\n",
       "    <tr>\n",
       "      <th>축산</th>\n",
       "      <td>521447.10</td>\n",
       "      <td>2500.78</td>\n",
       "    </tr>\n",
       "    <tr>\n",
       "      <th>감포</th>\n",
       "      <td>518894.90</td>\n",
       "      <td>2929.35</td>\n",
       "    </tr>\n",
       "    <tr>\n",
       "      <th>제주도</th>\n",
       "      <td>510374.70</td>\n",
       "      <td>4335.15</td>\n",
       "    </tr>\n",
       "    <tr>\n",
       "      <th>나로도</th>\n",
       "      <td>396929.20</td>\n",
       "      <td>2947.55</td>\n",
       "    </tr>\n",
       "    <tr>\n",
       "      <th>태안</th>\n",
       "      <td>380360.00</td>\n",
       "      <td>2772.60</td>\n",
       "    </tr>\n",
       "    <tr>\n",
       "      <th>방어진</th>\n",
       "      <td>281246.20</td>\n",
       "      <td>3150.54</td>\n",
       "    </tr>\n",
       "    <tr>\n",
       "      <th>속초</th>\n",
       "      <td>248636.68</td>\n",
       "      <td>3757.96</td>\n",
       "    </tr>\n",
       "    <tr>\n",
       "      <th>동해시</th>\n",
       "      <td>225858.50</td>\n",
       "      <td>2374.39</td>\n",
       "    </tr>\n",
       "    <tr>\n",
       "      <th>보령</th>\n",
       "      <td>169708.00</td>\n",
       "      <td>3336.69</td>\n",
       "    </tr>\n",
       "  </tbody>\n",
       "</table>\n",
       "</div>"
      ],
      "text/plain": [
       "                qty  1kg price\n",
       "from                          \n",
       "부산(기장)  14462378.20    2434.99\n",
       "여수       6353602.10    2240.28\n",
       "삼천포      5503433.48    2661.87\n",
       "통영       4317641.44    2160.61\n",
       "마산       2320936.00    2596.91\n",
       "포항       1616179.74    3147.55\n",
       "강구       1438411.40    2971.37\n",
       "남해       1178789.40    1241.71\n",
       "죽변        799840.44    2700.13\n",
       "후포        718613.00    2475.59\n",
       "기타(국내)    531130.90    3235.10\n",
       "축산        521447.10    2500.78\n",
       "감포        518894.90    2929.35\n",
       "제주도       510374.70    4335.15\n",
       "나로도       396929.20    2947.55\n",
       "태안        380360.00    2772.60\n",
       "방어진       281246.20    3150.54\n",
       "속초        248636.68    3757.96\n",
       "동해시       225858.50    2374.39\n",
       "보령        169708.00    3336.69"
      ]
     },
     "execution_count": 124,
     "metadata": {},
     "output_type": "execute_result"
    }
   ],
   "source": [
    "grouped_from = data_f.groupby('from')\n",
    "species_from = grouped_from.agg({'qty': 'sum', '1kg price' : 'mean'}).round(2)\n",
    "species_from.sort_values('qty',ascending=False).head(20)"
   ]
  },
  {
   "cell_type": "code",
   "execution_count": null,
   "metadata": {},
   "outputs": [],
   "source": [
    "a = species_from[species_from['qty']<1000000].index\n",
    "test1 = pd.DataFrame()\n",
    "for i in a.values :\n",
    "    test = data_f[data_f['from'] == i]\n",
    "    test1 = test1.append(test)\n",
    "test_f = data_f.drop(test1.index, axis=0)"
   ]
  },
  {
   "cell_type": "code",
   "execution_count": 129,
   "metadata": {
    "ExecuteTime": {
     "end_time": "2021-04-20T07:12:42.269138Z",
     "start_time": "2021-04-20T07:12:41.493847Z"
    }
   },
   "outputs": [],
   "source": [
    "a = species_from[species_from['qty']<1000000].index\n",
    "test1 = pd.DataFrame()\n",
    "for i in a.values :\n",
    "    test = data_f[data_f['from'] == i]\n",
    "    test1 = test1.append(test)\n",
    "data_ff = data_f.drop(test1.index, axis=0)"
   ]
  },
  {
   "cell_type": "code",
   "execution_count": 130,
   "metadata": {
    "ExecuteTime": {
     "end_time": "2021-04-20T07:12:42.911054Z",
     "start_time": "2021-04-20T07:12:42.896840Z"
    }
   },
   "outputs": [
    {
     "data": {
      "text/plain": [
       "((87977, 8), (58601, 8))"
      ]
     },
     "execution_count": 130,
     "metadata": {},
     "output_type": "execute_result"
    }
   ],
   "source": [
    "data_f.shape,data_ff.shape"
   ]
  },
  {
   "cell_type": "code",
   "execution_count": 135,
   "metadata": {
    "ExecuteTime": {
     "end_time": "2021-04-20T07:13:44.152977Z",
     "start_time": "2021-04-20T07:13:44.123628Z"
    },
    "scrolled": true
   },
   "outputs": [
    {
     "data": {
      "text/html": [
       "<div>\n",
       "<style scoped>\n",
       "    .dataframe tbody tr th:only-of-type {\n",
       "        vertical-align: middle;\n",
       "    }\n",
       "\n",
       "    .dataframe tbody tr th {\n",
       "        vertical-align: top;\n",
       "    }\n",
       "\n",
       "    .dataframe thead th {\n",
       "        text-align: right;\n",
       "    }\n",
       "</style>\n",
       "<table border=\"1\" class=\"dataframe\">\n",
       "  <thead>\n",
       "    <tr style=\"text-align: right;\">\n",
       "      <th></th>\n",
       "      <th>qty</th>\n",
       "      <th>1kg price</th>\n",
       "    </tr>\n",
       "    <tr>\n",
       "      <th>from</th>\n",
       "      <th></th>\n",
       "      <th></th>\n",
       "    </tr>\n",
       "  </thead>\n",
       "  <tbody>\n",
       "    <tr>\n",
       "      <th>부산(기장)</th>\n",
       "      <td>14462378.20</td>\n",
       "      <td>2434.99</td>\n",
       "    </tr>\n",
       "    <tr>\n",
       "      <th>여수</th>\n",
       "      <td>6353602.10</td>\n",
       "      <td>2240.28</td>\n",
       "    </tr>\n",
       "    <tr>\n",
       "      <th>삼천포</th>\n",
       "      <td>5503433.48</td>\n",
       "      <td>2661.87</td>\n",
       "    </tr>\n",
       "    <tr>\n",
       "      <th>통영</th>\n",
       "      <td>4317641.44</td>\n",
       "      <td>2160.61</td>\n",
       "    </tr>\n",
       "    <tr>\n",
       "      <th>마산</th>\n",
       "      <td>2320936.00</td>\n",
       "      <td>2596.91</td>\n",
       "    </tr>\n",
       "    <tr>\n",
       "      <th>포항</th>\n",
       "      <td>1616179.74</td>\n",
       "      <td>3147.55</td>\n",
       "    </tr>\n",
       "    <tr>\n",
       "      <th>강구</th>\n",
       "      <td>1438411.40</td>\n",
       "      <td>2971.37</td>\n",
       "    </tr>\n",
       "    <tr>\n",
       "      <th>남해</th>\n",
       "      <td>1178789.40</td>\n",
       "      <td>1241.71</td>\n",
       "    </tr>\n",
       "  </tbody>\n",
       "</table>\n",
       "</div>"
      ],
      "text/plain": [
       "                qty  1kg price\n",
       "from                          \n",
       "부산(기장)  14462378.20    2434.99\n",
       "여수       6353602.10    2240.28\n",
       "삼천포      5503433.48    2661.87\n",
       "통영       4317641.44    2160.61\n",
       "마산       2320936.00    2596.91\n",
       "포항       1616179.74    3147.55\n",
       "강구       1438411.40    2971.37\n",
       "남해       1178789.40    1241.71"
      ]
     },
     "execution_count": 135,
     "metadata": {},
     "output_type": "execute_result"
    }
   ],
   "source": [
    "grouped_from1 = data_ff.groupby('from')\n",
    "species_from1 = grouped_from1.agg({'qty': 'sum', '1kg price' : 'mean'}).round(2)\n",
    "species_from1.sort_values('qty',ascending=False).head(20)"
   ]
  },
  {
   "cell_type": "code",
   "execution_count": 157,
   "metadata": {
    "ExecuteTime": {
     "end_time": "2021-04-20T09:39:35.374779Z",
     "start_time": "2021-04-20T09:39:35.356111Z"
    }
   },
   "outputs": [],
   "source": [
    "test_month = data_ff.copy()"
   ]
  },
  {
   "cell_type": "code",
   "execution_count": 158,
   "metadata": {
    "ExecuteTime": {
     "end_time": "2021-04-20T09:39:40.299529Z",
     "start_time": "2021-04-20T09:39:40.244541Z"
    }
   },
   "outputs": [],
   "source": [
    "test_month['date2'] = test_month['year'].str.cat(test_month['month'],sep='.')"
   ]
  },
  {
   "cell_type": "code",
   "execution_count": 163,
   "metadata": {
    "ExecuteTime": {
     "end_time": "2021-04-20T09:41:29.850971Z",
     "start_time": "2021-04-20T09:41:29.795476Z"
    }
   },
   "outputs": [
    {
     "name": "stdout",
     "output_type": "stream",
     "text": [
      "<class 'pandas.core.frame.DataFrame'>\n",
      "Int64Index: 55250 entries, 0 to 90155\n",
      "Data columns (total 9 columns):\n",
      " #   Column     Non-Null Count  Dtype  \n",
      "---  ------     --------------  -----  \n",
      " 0   species    55250 non-null  object \n",
      " 1   from       55250 non-null  object \n",
      " 2   date       55250 non-null  object \n",
      " 3   qty        55250 non-null  float64\n",
      " 4   1kg price  55250 non-null  float64\n",
      " 5   year       55250 non-null  object \n",
      " 6   month      55250 non-null  object \n",
      " 7   day        55250 non-null  object \n",
      " 8   date2      55250 non-null  object \n",
      "dtypes: float64(2), object(7)\n",
      "memory usage: 6.7+ MB\n"
     ]
    }
   ],
   "source": [
    "test_month.info()"
   ]
  },
  {
   "cell_type": "code",
   "execution_count": 167,
   "metadata": {
    "ExecuteTime": {
     "end_time": "2021-04-20T09:42:09.914023Z",
     "start_time": "2021-04-20T09:42:09.871152Z"
    }
   },
   "outputs": [
    {
     "data": {
      "text/html": [
       "<div>\n",
       "<style scoped>\n",
       "    .dataframe tbody tr th:only-of-type {\n",
       "        vertical-align: middle;\n",
       "    }\n",
       "\n",
       "    .dataframe tbody tr th {\n",
       "        vertical-align: top;\n",
       "    }\n",
       "\n",
       "    .dataframe thead th {\n",
       "        text-align: right;\n",
       "    }\n",
       "</style>\n",
       "<table border=\"1\" class=\"dataframe\">\n",
       "  <thead>\n",
       "    <tr style=\"text-align: right;\">\n",
       "      <th></th>\n",
       "      <th></th>\n",
       "      <th>qty</th>\n",
       "      <th>1kg price</th>\n",
       "    </tr>\n",
       "    <tr>\n",
       "      <th>date2</th>\n",
       "      <th>from</th>\n",
       "      <th></th>\n",
       "      <th></th>\n",
       "    </tr>\n",
       "  </thead>\n",
       "  <tbody>\n",
       "    <tr>\n",
       "      <th rowspan=\"4\" valign=\"top\">2006.03</th>\n",
       "      <th>마산</th>\n",
       "      <td>660.0</td>\n",
       "      <td>1833.33</td>\n",
       "    </tr>\n",
       "    <tr>\n",
       "      <th>부산(기장)</th>\n",
       "      <td>83610.7</td>\n",
       "      <td>1780.43</td>\n",
       "    </tr>\n",
       "    <tr>\n",
       "      <th>삼천포</th>\n",
       "      <td>10.0</td>\n",
       "      <td>2400.00</td>\n",
       "    </tr>\n",
       "    <tr>\n",
       "      <th>통영</th>\n",
       "      <td>2157.0</td>\n",
       "      <td>3117.86</td>\n",
       "    </tr>\n",
       "    <tr>\n",
       "      <th>2006.04</th>\n",
       "      <th>마산</th>\n",
       "      <td>13010.0</td>\n",
       "      <td>1812.67</td>\n",
       "    </tr>\n",
       "    <tr>\n",
       "      <th>...</th>\n",
       "      <th>...</th>\n",
       "      <td>...</td>\n",
       "      <td>...</td>\n",
       "    </tr>\n",
       "    <tr>\n",
       "      <th>2021.03</th>\n",
       "      <th>포항</th>\n",
       "      <td>430.0</td>\n",
       "      <td>3766.88</td>\n",
       "    </tr>\n",
       "    <tr>\n",
       "      <th rowspan=\"4\" valign=\"top\">2021.04</th>\n",
       "      <th>마산</th>\n",
       "      <td>150.0</td>\n",
       "      <td>4566.67</td>\n",
       "    </tr>\n",
       "    <tr>\n",
       "      <th>부산(기장)</th>\n",
       "      <td>1650.0</td>\n",
       "      <td>3740.00</td>\n",
       "    </tr>\n",
       "    <tr>\n",
       "      <th>여수</th>\n",
       "      <td>1085.0</td>\n",
       "      <td>2958.00</td>\n",
       "    </tr>\n",
       "    <tr>\n",
       "      <th>포항</th>\n",
       "      <td>52.0</td>\n",
       "      <td>5166.66</td>\n",
       "    </tr>\n",
       "  </tbody>\n",
       "</table>\n",
       "<p>1245 rows × 2 columns</p>\n",
       "</div>"
      ],
      "text/plain": [
       "                    qty  1kg price\n",
       "date2   from                      \n",
       "2006.03 마산        660.0    1833.33\n",
       "        부산(기장)  83610.7    1780.43\n",
       "        삼천포        10.0    2400.00\n",
       "        통영       2157.0    3117.86\n",
       "2006.04 마산      13010.0    1812.67\n",
       "...                 ...        ...\n",
       "2021.03 포항        430.0    3766.88\n",
       "2021.04 마산        150.0    4566.67\n",
       "        부산(기장)   1650.0    3740.00\n",
       "        여수       1085.0    2958.00\n",
       "        포항         52.0    5166.66\n",
       "\n",
       "[1245 rows x 2 columns]"
      ]
     },
     "execution_count": 167,
     "metadata": {},
     "output_type": "execute_result"
    }
   ],
   "source": [
    "gr = test_month.groupby(['date2','from'])\n",
    "test_graph = gr.agg({'qty': 'sum', '1kg price' : 'mean'}).round(2)\n",
    "test_graph"
   ]
  },
  {
   "cell_type": "code",
   "execution_count": 183,
   "metadata": {
    "ExecuteTime": {
     "end_time": "2021-04-20T09:52:42.872480Z",
     "start_time": "2021-04-20T09:52:42.853607Z"
    }
   },
   "outputs": [],
   "source": [
    "test_graph = test_graph.reset_index()"
   ]
  },
  {
   "cell_type": "code",
   "execution_count": 172,
   "metadata": {
    "ExecuteTime": {
     "end_time": "2021-04-20T09:49:23.713140Z",
     "start_time": "2021-04-20T09:49:23.518069Z"
    }
   },
   "outputs": [],
   "source": [
    "import seaborn as sns"
   ]
  },
  {
   "cell_type": "code",
   "execution_count": 184,
   "metadata": {
    "ExecuteTime": {
     "end_time": "2021-04-20T09:52:45.738875Z",
     "start_time": "2021-04-20T09:52:45.721496Z"
    }
   },
   "outputs": [
    {
     "data": {
      "text/plain": [
       "0       2006.03\n",
       "1       2006.03\n",
       "2       2006.03\n",
       "3       2006.03\n",
       "4       2006.04\n",
       "         ...   \n",
       "1240    2021.03\n",
       "1241    2021.04\n",
       "1242    2021.04\n",
       "1243    2021.04\n",
       "1244    2021.04\n",
       "Name: date2, Length: 1245, dtype: object"
      ]
     },
     "execution_count": 184,
     "metadata": {},
     "output_type": "execute_result"
    }
   ],
   "source": [
    "test_graph['date2'].unique()"
   ]
  },
  {
   "cell_type": "code",
   "execution_count": 203,
   "metadata": {
    "ExecuteTime": {
     "end_time": "2021-04-21T04:22:10.957801Z",
     "start_time": "2021-04-21T04:22:10.930151Z"
    }
   },
   "outputs": [
    {
     "data": {
      "text/html": [
       "<div>\n",
       "<style scoped>\n",
       "    .dataframe tbody tr th:only-of-type {\n",
       "        vertical-align: middle;\n",
       "    }\n",
       "\n",
       "    .dataframe tbody tr th {\n",
       "        vertical-align: top;\n",
       "    }\n",
       "\n",
       "    .dataframe thead th {\n",
       "        text-align: right;\n",
       "    }\n",
       "</style>\n",
       "<table border=\"1\" class=\"dataframe\">\n",
       "  <thead>\n",
       "    <tr style=\"text-align: right;\">\n",
       "      <th></th>\n",
       "      <th>date2</th>\n",
       "      <th>from</th>\n",
       "      <th>qty</th>\n",
       "      <th>1kg price</th>\n",
       "    </tr>\n",
       "  </thead>\n",
       "  <tbody>\n",
       "    <tr>\n",
       "      <th>0</th>\n",
       "      <td>2006.03</td>\n",
       "      <td>마산</td>\n",
       "      <td>660.0</td>\n",
       "      <td>1833.33</td>\n",
       "    </tr>\n",
       "    <tr>\n",
       "      <th>1</th>\n",
       "      <td>2006.03</td>\n",
       "      <td>부산(기장)</td>\n",
       "      <td>83610.7</td>\n",
       "      <td>1780.43</td>\n",
       "    </tr>\n",
       "    <tr>\n",
       "      <th>2</th>\n",
       "      <td>2006.03</td>\n",
       "      <td>삼천포</td>\n",
       "      <td>10.0</td>\n",
       "      <td>2400.00</td>\n",
       "    </tr>\n",
       "    <tr>\n",
       "      <th>3</th>\n",
       "      <td>2006.03</td>\n",
       "      <td>통영</td>\n",
       "      <td>2157.0</td>\n",
       "      <td>3117.86</td>\n",
       "    </tr>\n",
       "    <tr>\n",
       "      <th>4</th>\n",
       "      <td>2006.04</td>\n",
       "      <td>마산</td>\n",
       "      <td>13010.0</td>\n",
       "      <td>1812.67</td>\n",
       "    </tr>\n",
       "    <tr>\n",
       "      <th>...</th>\n",
       "      <td>...</td>\n",
       "      <td>...</td>\n",
       "      <td>...</td>\n",
       "      <td>...</td>\n",
       "    </tr>\n",
       "    <tr>\n",
       "      <th>1240</th>\n",
       "      <td>2021.03</td>\n",
       "      <td>포항</td>\n",
       "      <td>430.0</td>\n",
       "      <td>3766.88</td>\n",
       "    </tr>\n",
       "    <tr>\n",
       "      <th>1241</th>\n",
       "      <td>2021.04</td>\n",
       "      <td>마산</td>\n",
       "      <td>150.0</td>\n",
       "      <td>4566.67</td>\n",
       "    </tr>\n",
       "    <tr>\n",
       "      <th>1242</th>\n",
       "      <td>2021.04</td>\n",
       "      <td>부산(기장)</td>\n",
       "      <td>1650.0</td>\n",
       "      <td>3740.00</td>\n",
       "    </tr>\n",
       "    <tr>\n",
       "      <th>1243</th>\n",
       "      <td>2021.04</td>\n",
       "      <td>여수</td>\n",
       "      <td>1085.0</td>\n",
       "      <td>2958.00</td>\n",
       "    </tr>\n",
       "    <tr>\n",
       "      <th>1244</th>\n",
       "      <td>2021.04</td>\n",
       "      <td>포항</td>\n",
       "      <td>52.0</td>\n",
       "      <td>5166.66</td>\n",
       "    </tr>\n",
       "  </tbody>\n",
       "</table>\n",
       "<p>1245 rows × 4 columns</p>\n",
       "</div>"
      ],
      "text/plain": [
       "        date2    from      qty  1kg price\n",
       "0     2006.03      마산    660.0    1833.33\n",
       "1     2006.03  부산(기장)  83610.7    1780.43\n",
       "2     2006.03     삼천포     10.0    2400.00\n",
       "3     2006.03      통영   2157.0    3117.86\n",
       "4     2006.04      마산  13010.0    1812.67\n",
       "...       ...     ...      ...        ...\n",
       "1240  2021.03      포항    430.0    3766.88\n",
       "1241  2021.04      마산    150.0    4566.67\n",
       "1242  2021.04  부산(기장)   1650.0    3740.00\n",
       "1243  2021.04      여수   1085.0    2958.00\n",
       "1244  2021.04      포항     52.0    5166.66\n",
       "\n",
       "[1245 rows x 4 columns]"
      ]
     },
     "execution_count": 203,
     "metadata": {},
     "output_type": "execute_result"
    }
   ],
   "source": [
    "test_graph"
   ]
  },
  {
   "cell_type": "code",
   "execution_count": 206,
   "metadata": {
    "ExecuteTime": {
     "end_time": "2021-04-21T04:25:13.948721Z",
     "start_time": "2021-04-21T04:25:13.934531Z"
    }
   },
   "outputs": [],
   "source": [
    "y = np.arange(2006,2022,1)\n",
    "num2 = np.arange(0,16,1)"
   ]
  },
  {
   "cell_type": "code",
   "execution_count": 207,
   "metadata": {
    "ExecuteTime": {
     "end_time": "2021-04-21T04:26:30.730655Z",
     "start_time": "2021-04-21T04:26:30.699033Z"
    }
   },
   "outputs": [
    {
     "data": {
      "text/html": [
       "<div>\n",
       "<style scoped>\n",
       "    .dataframe tbody tr th:only-of-type {\n",
       "        vertical-align: middle;\n",
       "    }\n",
       "\n",
       "    .dataframe tbody tr th {\n",
       "        vertical-align: top;\n",
       "    }\n",
       "\n",
       "    .dataframe thead th {\n",
       "        text-align: right;\n",
       "    }\n",
       "</style>\n",
       "<table border=\"1\" class=\"dataframe\">\n",
       "  <thead>\n",
       "    <tr style=\"text-align: right;\">\n",
       "      <th></th>\n",
       "      <th>species</th>\n",
       "      <th>from</th>\n",
       "      <th>date</th>\n",
       "      <th>qty</th>\n",
       "      <th>1kg price</th>\n",
       "      <th>year</th>\n",
       "      <th>month</th>\n",
       "      <th>day</th>\n",
       "      <th>date2</th>\n",
       "    </tr>\n",
       "  </thead>\n",
       "  <tbody>\n",
       "    <tr>\n",
       "      <th>0</th>\n",
       "      <td>(선)삼치</td>\n",
       "      <td>통영</td>\n",
       "      <td>2006.03.21</td>\n",
       "      <td>169.5</td>\n",
       "      <td>4900.00</td>\n",
       "      <td>2006</td>\n",
       "      <td>03</td>\n",
       "      <td>21</td>\n",
       "      <td>2006.03</td>\n",
       "    </tr>\n",
       "    <tr>\n",
       "      <th>1</th>\n",
       "      <td>(선)삼치</td>\n",
       "      <td>부산(기장)</td>\n",
       "      <td>2006.03.21</td>\n",
       "      <td>120.1</td>\n",
       "      <td>3000.00</td>\n",
       "      <td>2006</td>\n",
       "      <td>03</td>\n",
       "      <td>21</td>\n",
       "      <td>2006.03</td>\n",
       "    </tr>\n",
       "    <tr>\n",
       "      <th>2</th>\n",
       "      <td>(선)삼치</td>\n",
       "      <td>통영</td>\n",
       "      <td>2006.03.22</td>\n",
       "      <td>8.0</td>\n",
       "      <td>750.00</td>\n",
       "      <td>2006</td>\n",
       "      <td>03</td>\n",
       "      <td>22</td>\n",
       "      <td>2006.03</td>\n",
       "    </tr>\n",
       "    <tr>\n",
       "      <th>4</th>\n",
       "      <td>(선)삼치</td>\n",
       "      <td>부산(기장)</td>\n",
       "      <td>2006.03.22</td>\n",
       "      <td>49.4</td>\n",
       "      <td>3900.00</td>\n",
       "      <td>2006</td>\n",
       "      <td>03</td>\n",
       "      <td>22</td>\n",
       "      <td>2006.03</td>\n",
       "    </tr>\n",
       "    <tr>\n",
       "      <th>5</th>\n",
       "      <td>(선)삼치</td>\n",
       "      <td>부산(기장)</td>\n",
       "      <td>2006.03.22</td>\n",
       "      <td>480.0</td>\n",
       "      <td>1625.00</td>\n",
       "      <td>2006</td>\n",
       "      <td>03</td>\n",
       "      <td>22</td>\n",
       "      <td>2006.03</td>\n",
       "    </tr>\n",
       "    <tr>\n",
       "      <th>...</th>\n",
       "      <td>...</td>\n",
       "      <td>...</td>\n",
       "      <td>...</td>\n",
       "      <td>...</td>\n",
       "      <td>...</td>\n",
       "      <td>...</td>\n",
       "      <td>...</td>\n",
       "      <td>...</td>\n",
       "      <td>...</td>\n",
       "    </tr>\n",
       "    <tr>\n",
       "      <th>90138</th>\n",
       "      <td>(선)삼치</td>\n",
       "      <td>여수</td>\n",
       "      <td>2021.04.05</td>\n",
       "      <td>400.0</td>\n",
       "      <td>3690.00</td>\n",
       "      <td>2021</td>\n",
       "      <td>04</td>\n",
       "      <td>05</td>\n",
       "      <td>2021.04</td>\n",
       "    </tr>\n",
       "    <tr>\n",
       "      <th>90144</th>\n",
       "      <td>(선)삼치</td>\n",
       "      <td>여수</td>\n",
       "      <td>2021.04.07</td>\n",
       "      <td>20.0</td>\n",
       "      <td>2000.00</td>\n",
       "      <td>2021</td>\n",
       "      <td>04</td>\n",
       "      <td>07</td>\n",
       "      <td>2021.04</td>\n",
       "    </tr>\n",
       "    <tr>\n",
       "      <th>90147</th>\n",
       "      <td>(선)삼치</td>\n",
       "      <td>포항</td>\n",
       "      <td>2021.04.07</td>\n",
       "      <td>22.0</td>\n",
       "      <td>5000.00</td>\n",
       "      <td>2021</td>\n",
       "      <td>04</td>\n",
       "      <td>07</td>\n",
       "      <td>2021.04</td>\n",
       "    </tr>\n",
       "    <tr>\n",
       "      <th>90148</th>\n",
       "      <td>(선)삼치</td>\n",
       "      <td>포항</td>\n",
       "      <td>2021.04.07</td>\n",
       "      <td>30.0</td>\n",
       "      <td>5333.33</td>\n",
       "      <td>2021</td>\n",
       "      <td>04</td>\n",
       "      <td>07</td>\n",
       "      <td>2021.04</td>\n",
       "    </tr>\n",
       "    <tr>\n",
       "      <th>90155</th>\n",
       "      <td>(냉)삼치</td>\n",
       "      <td>마산</td>\n",
       "      <td>2021.04.08</td>\n",
       "      <td>150.0</td>\n",
       "      <td>4566.67</td>\n",
       "      <td>2021</td>\n",
       "      <td>04</td>\n",
       "      <td>08</td>\n",
       "      <td>2021.04</td>\n",
       "    </tr>\n",
       "  </tbody>\n",
       "</table>\n",
       "<p>55250 rows × 9 columns</p>\n",
       "</div>"
      ],
      "text/plain": [
       "      species    from        date    qty  1kg price  year month day    date2\n",
       "0       (선)삼치      통영  2006.03.21  169.5    4900.00  2006    03  21  2006.03\n",
       "1       (선)삼치  부산(기장)  2006.03.21  120.1    3000.00  2006    03  21  2006.03\n",
       "2       (선)삼치      통영  2006.03.22    8.0     750.00  2006    03  22  2006.03\n",
       "4       (선)삼치  부산(기장)  2006.03.22   49.4    3900.00  2006    03  22  2006.03\n",
       "5       (선)삼치  부산(기장)  2006.03.22  480.0    1625.00  2006    03  22  2006.03\n",
       "...       ...     ...         ...    ...        ...   ...   ...  ..      ...\n",
       "90138   (선)삼치      여수  2021.04.05  400.0    3690.00  2021    04  05  2021.04\n",
       "90144   (선)삼치      여수  2021.04.07   20.0    2000.00  2021    04  07  2021.04\n",
       "90147   (선)삼치      포항  2021.04.07   22.0    5000.00  2021    04  07  2021.04\n",
       "90148   (선)삼치      포항  2021.04.07   30.0    5333.33  2021    04  07  2021.04\n",
       "90155   (냉)삼치      마산  2021.04.08  150.0    4566.67  2021    04  08  2021.04\n",
       "\n",
       "[55250 rows x 9 columns]"
      ]
     },
     "execution_count": 207,
     "metadata": {},
     "output_type": "execute_result"
    }
   ],
   "source": [
    "test_month"
   ]
  },
  {
   "cell_type": "code",
   "execution_count": 220,
   "metadata": {
    "ExecuteTime": {
     "end_time": "2021-04-21T04:33:24.081194Z",
     "start_time": "2021-04-21T04:33:24.047191Z"
    }
   },
   "outputs": [
    {
     "data": {
      "text/html": [
       "<div>\n",
       "<style scoped>\n",
       "    .dataframe tbody tr th:only-of-type {\n",
       "        vertical-align: middle;\n",
       "    }\n",
       "\n",
       "    .dataframe tbody tr th {\n",
       "        vertical-align: top;\n",
       "    }\n",
       "\n",
       "    .dataframe thead th {\n",
       "        text-align: right;\n",
       "    }\n",
       "</style>\n",
       "<table border=\"1\" class=\"dataframe\">\n",
       "  <thead>\n",
       "    <tr style=\"text-align: right;\">\n",
       "      <th></th>\n",
       "      <th>qty</th>\n",
       "      <th>1kg price</th>\n",
       "    </tr>\n",
       "    <tr>\n",
       "      <th>date2</th>\n",
       "      <th></th>\n",
       "      <th></th>\n",
       "    </tr>\n",
       "  </thead>\n",
       "  <tbody>\n",
       "    <tr>\n",
       "      <th>2006.03</th>\n",
       "      <td>86437.70</td>\n",
       "      <td>107958.33</td>\n",
       "    </tr>\n",
       "    <tr>\n",
       "      <th>2006.04</th>\n",
       "      <td>299136.30</td>\n",
       "      <td>532656.52</td>\n",
       "    </tr>\n",
       "    <tr>\n",
       "      <th>2006.05</th>\n",
       "      <td>243597.60</td>\n",
       "      <td>714672.79</td>\n",
       "    </tr>\n",
       "    <tr>\n",
       "      <th>2006.06</th>\n",
       "      <td>211275.90</td>\n",
       "      <td>581871.81</td>\n",
       "    </tr>\n",
       "    <tr>\n",
       "      <th>2006.07</th>\n",
       "      <td>180009.90</td>\n",
       "      <td>998217.15</td>\n",
       "    </tr>\n",
       "    <tr>\n",
       "      <th>2006.08</th>\n",
       "      <td>195840.10</td>\n",
       "      <td>905222.42</td>\n",
       "    </tr>\n",
       "    <tr>\n",
       "      <th>2006.09</th>\n",
       "      <td>292735.93</td>\n",
       "      <td>772618.32</td>\n",
       "    </tr>\n",
       "    <tr>\n",
       "      <th>2006.10</th>\n",
       "      <td>324658.10</td>\n",
       "      <td>699646.97</td>\n",
       "    </tr>\n",
       "    <tr>\n",
       "      <th>2006.11</th>\n",
       "      <td>428423.90</td>\n",
       "      <td>676719.01</td>\n",
       "    </tr>\n",
       "    <tr>\n",
       "      <th>2006.12</th>\n",
       "      <td>424160.40</td>\n",
       "      <td>462977.55</td>\n",
       "    </tr>\n",
       "  </tbody>\n",
       "</table>\n",
       "</div>"
      ],
      "text/plain": [
       "               qty  1kg price\n",
       "date2                        \n",
       "2006.03   86437.70  107958.33\n",
       "2006.04  299136.30  532656.52\n",
       "2006.05  243597.60  714672.79\n",
       "2006.06  211275.90  581871.81\n",
       "2006.07  180009.90  998217.15\n",
       "2006.08  195840.10  905222.42\n",
       "2006.09  292735.93  772618.32\n",
       "2006.10  324658.10  699646.97\n",
       "2006.11  428423.90  676719.01\n",
       "2006.12  424160.40  462977.55"
      ]
     },
     "execution_count": 220,
     "metadata": {},
     "output_type": "execute_result"
    }
   ],
   "source": [
    "test_month[test_month['year']== '2006'].groupby('date2').sum()"
   ]
  },
  {
   "cell_type": "code",
   "execution_count": 222,
   "metadata": {
    "ExecuteTime": {
     "end_time": "2021-04-21T04:34:13.717055Z",
     "start_time": "2021-04-21T04:34:13.669326Z"
    }
   },
   "outputs": [
    {
     "data": {
      "text/html": [
       "<div>\n",
       "<style scoped>\n",
       "    .dataframe tbody tr th:only-of-type {\n",
       "        vertical-align: middle;\n",
       "    }\n",
       "\n",
       "    .dataframe tbody tr th {\n",
       "        vertical-align: top;\n",
       "    }\n",
       "\n",
       "    .dataframe thead th {\n",
       "        text-align: right;\n",
       "    }\n",
       "</style>\n",
       "<table border=\"1\" class=\"dataframe\">\n",
       "  <thead>\n",
       "    <tr style=\"text-align: right;\">\n",
       "      <th></th>\n",
       "      <th></th>\n",
       "      <th>qty</th>\n",
       "      <th>1kg price</th>\n",
       "    </tr>\n",
       "    <tr>\n",
       "      <th>date2</th>\n",
       "      <th>from</th>\n",
       "      <th></th>\n",
       "      <th></th>\n",
       "    </tr>\n",
       "  </thead>\n",
       "  <tbody>\n",
       "    <tr>\n",
       "      <th rowspan=\"4\" valign=\"top\">2006.03</th>\n",
       "      <th>마산</th>\n",
       "      <td>660.0</td>\n",
       "      <td>1833.330000</td>\n",
       "    </tr>\n",
       "    <tr>\n",
       "      <th>부산(기장)</th>\n",
       "      <td>83610.7</td>\n",
       "      <td>1780.434783</td>\n",
       "    </tr>\n",
       "    <tr>\n",
       "      <th>삼천포</th>\n",
       "      <td>10.0</td>\n",
       "      <td>2400.000000</td>\n",
       "    </tr>\n",
       "    <tr>\n",
       "      <th>통영</th>\n",
       "      <td>2157.0</td>\n",
       "      <td>3117.857143</td>\n",
       "    </tr>\n",
       "    <tr>\n",
       "      <th>2006.04</th>\n",
       "      <th>마산</th>\n",
       "      <td>13010.0</td>\n",
       "      <td>1812.665600</td>\n",
       "    </tr>\n",
       "    <tr>\n",
       "      <th>...</th>\n",
       "      <th>...</th>\n",
       "      <td>...</td>\n",
       "      <td>...</td>\n",
       "    </tr>\n",
       "    <tr>\n",
       "      <th rowspan=\"5\" valign=\"top\">2006.12</th>\n",
       "      <th>마산</th>\n",
       "      <td>14010.0</td>\n",
       "      <td>1021.428571</td>\n",
       "    </tr>\n",
       "    <tr>\n",
       "      <th>부산(기장)</th>\n",
       "      <td>148136.6</td>\n",
       "      <td>1652.558140</td>\n",
       "    </tr>\n",
       "    <tr>\n",
       "      <th>삼천포</th>\n",
       "      <td>129311.5</td>\n",
       "      <td>1192.190571</td>\n",
       "    </tr>\n",
       "    <tr>\n",
       "      <th>여수</th>\n",
       "      <td>34219.8</td>\n",
       "      <td>992.982059</td>\n",
       "    </tr>\n",
       "    <tr>\n",
       "      <th>통영</th>\n",
       "      <td>97824.5</td>\n",
       "      <td>1528.395556</td>\n",
       "    </tr>\n",
       "  </tbody>\n",
       "</table>\n",
       "<p>70 rows × 2 columns</p>\n",
       "</div>"
      ],
      "text/plain": [
       "                     qty    1kg price\n",
       "date2   from                         \n",
       "2006.03 마산         660.0  1833.330000\n",
       "        부산(기장)   83610.7  1780.434783\n",
       "        삼천포         10.0  2400.000000\n",
       "        통영        2157.0  3117.857143\n",
       "2006.04 마산       13010.0  1812.665600\n",
       "...                  ...          ...\n",
       "2006.12 마산       14010.0  1021.428571\n",
       "        부산(기장)  148136.6  1652.558140\n",
       "        삼천포     129311.5  1192.190571\n",
       "        여수       34219.8   992.982059\n",
       "        통영       97824.5  1528.395556\n",
       "\n",
       "[70 rows x 2 columns]"
      ]
     },
     "execution_count": 222,
     "metadata": {},
     "output_type": "execute_result"
    }
   ],
   "source": [
    "fil = test_month[test_month['year']== '2006']\n",
    "grouped = fil.groupby(['date2','from'])\n",
    "date = grouped.agg({'qty': 'sum', '1kg price' : 'mean'})\n",
    "date"
   ]
  },
  {
   "cell_type": "code",
   "execution_count": 223,
   "metadata": {
    "ExecuteTime": {
     "end_time": "2021-04-21T04:34:56.920545Z",
     "start_time": "2021-04-21T04:34:56.724494Z"
    }
   },
   "outputs": [],
   "source": [
    "where =[]\n",
    "for i in y :\n",
    "    i = str(i)\n",
    "    fil = test_month[test_month['year']== i]\n",
    "    grouped = fil.groupby(['from','date2'])\n",
    "    date = grouped.agg({'qty': 'sum', '1kg price' : 'mean'})\n",
    "    date = date.reset_index()\n",
    "    where.append(date)"
   ]
  },
  {
   "cell_type": "code",
   "execution_count": 234,
   "metadata": {
    "ExecuteTime": {
     "end_time": "2021-04-21T04:43:15.441269Z",
     "start_time": "2021-04-21T04:43:15.422766Z"
    }
   },
   "outputs": [
    {
     "data": {
      "text/plain": [
       "array(['2007.04', '2007.05', '2007.06', '2007.07', '2007.08', '2007.09',\n",
       "       '2007.10', '2007.11', '2007.12', '2007.03', '2007.05', '2007.06',\n",
       "       '2007.07', '2007.08', '2007.09', '2007.10', '2007.11', '2007.12',\n",
       "       '2007.01', '2007.02', '2007.03', '2007.04', '2007.05', '2007.06',\n",
       "       '2007.07', '2007.08', '2007.09', '2007.12', '2007.01', '2007.02',\n",
       "       '2007.03', '2007.04', '2007.05', '2007.06', '2007.07', '2007.08',\n",
       "       '2007.09', '2007.10', '2007.11', '2007.12', '2007.01', '2007.02',\n",
       "       '2007.03', '2007.04', '2007.05', '2007.06', '2007.07', '2007.08',\n",
       "       '2007.09', '2007.10', '2007.11', '2007.12', '2007.01', '2007.02',\n",
       "       '2007.03', '2007.04', '2007.05', '2007.06', '2007.07', '2007.08',\n",
       "       '2007.09', '2007.10', '2007.11', '2007.12', '2007.01', '2007.02',\n",
       "       '2007.03', '2007.04', '2007.05', '2007.06', '2007.07', '2007.08',\n",
       "       '2007.09', '2007.10', '2007.11', '2007.12', '2007.01', '2007.04',\n",
       "       '2007.05', '2007.06', '2007.07', '2007.08', '2007.09', '2007.10',\n",
       "       '2007.11', '2007.12'], dtype=object)"
      ]
     },
     "execution_count": 234,
     "metadata": {},
     "output_type": "execute_result"
    }
   ],
   "source": [
    "where[1]['date2'].values"
   ]
  },
  {
   "cell_type": "code",
   "execution_count": 265,
   "metadata": {
    "ExecuteTime": {
     "end_time": "2021-04-21T05:01:13.481275Z",
     "start_time": "2021-04-21T05:01:13.472034Z"
    }
   },
   "outputs": [
    {
     "data": {
      "text/plain": [
       "array(['2007.04', '2007.05', '2007.06', '2007.07', '2007.08', '2007.09',\n",
       "       '2007.10', '2007.11', '2007.12', '2007.03', '2007.01', '2007.02'],\n",
       "      dtype=object)"
      ]
     },
     "execution_count": 265,
     "metadata": {},
     "output_type": "execute_result"
    }
   ],
   "source": [
    "where[1]['date2'].unique()"
   ]
  },
  {
   "cell_type": "code",
   "execution_count": 267,
   "metadata": {
    "ExecuteTime": {
     "end_time": "2021-04-21T05:06:01.241768Z",
     "start_time": "2021-04-21T05:06:00.106176Z"
    }
   },
   "outputs": [
    {
     "ename": "AttributeError",
     "evalue": "'numpy.ndarray' object has no attribute 'lineplot'",
     "output_type": "error",
     "traceback": [
      "\u001b[1;31m---------------------------------------------------------------------------\u001b[0m",
      "\u001b[1;31mAttributeError\u001b[0m                            Traceback (most recent call last)",
      "\u001b[1;32m<ipython-input-267-f00fbffbd8dc>\u001b[0m in \u001b[0;36m<module>\u001b[1;34m\u001b[0m\n\u001b[0;32m      3\u001b[0m     \u001b[0mrow\u001b[0m \u001b[1;33m=\u001b[0m \u001b[0mj\u001b[0m\u001b[1;33m//\u001b[0m\u001b[1;36m4\u001b[0m\u001b[1;33m\u001b[0m\u001b[1;33m\u001b[0m\u001b[0m\n\u001b[0;32m      4\u001b[0m     \u001b[0mcol\u001b[0m \u001b[1;33m=\u001b[0m \u001b[0mj\u001b[0m\u001b[1;33m%\u001b[0m\u001b[1;36m4\u001b[0m\u001b[1;33m\u001b[0m\u001b[1;33m\u001b[0m\u001b[0m\n\u001b[1;32m----> 5\u001b[1;33m     \u001b[0msns\u001b[0m\u001b[1;33m.\u001b[0m\u001b[0mlineplot\u001b[0m\u001b[1;33m(\u001b[0m\u001b[0mx\u001b[0m\u001b[1;33m=\u001b[0m\u001b[0mwhere\u001b[0m\u001b[1;33m[\u001b[0m\u001b[0mj\u001b[0m\u001b[1;33m]\u001b[0m\u001b[1;33m[\u001b[0m\u001b[1;34m'date2'\u001b[0m\u001b[1;33m]\u001b[0m\u001b[1;33m.\u001b[0m\u001b[0munique\u001b[0m\u001b[1;33m(\u001b[0m\u001b[1;33m)\u001b[0m\u001b[1;33m,\u001b[0m\u001b[0my\u001b[0m\u001b[1;33m=\u001b[0m\u001b[0mwhere\u001b[0m\u001b[1;33m[\u001b[0m\u001b[0mj\u001b[0m\u001b[1;33m]\u001b[0m\u001b[1;33m[\u001b[0m\u001b[1;34m'1kg price'\u001b[0m\u001b[1;33m]\u001b[0m\u001b[1;33m,\u001b[0m \u001b[0mhue\u001b[0m\u001b[1;33m=\u001b[0m\u001b[0mwhere\u001b[0m\u001b[1;33m[\u001b[0m\u001b[0mj\u001b[0m\u001b[1;33m]\u001b[0m\u001b[1;33m[\u001b[0m\u001b[1;34m'from'\u001b[0m\u001b[1;33m]\u001b[0m\u001b[1;33m.\u001b[0m\u001b[0munique\u001b[0m\u001b[1;33m(\u001b[0m\u001b[1;33m)\u001b[0m\u001b[1;33m,\u001b[0m\u001b[0max\u001b[0m \u001b[1;33m=\u001b[0m \u001b[0maxes\u001b[0m\u001b[1;33m[\u001b[0m\u001b[0mrow\u001b[0m\u001b[1;33m]\u001b[0m\u001b[1;33m[\u001b[0m\u001b[0mcol\u001b[0m\u001b[1;33m]\u001b[0m\u001b[1;33m)\u001b[0m\u001b[1;33m\u001b[0m\u001b[1;33m\u001b[0m\u001b[0m\n\u001b[0m\u001b[0;32m      6\u001b[0m     \u001b[0mplt\u001b[0m\u001b[1;33m.\u001b[0m\u001b[0mtitle\u001b[0m\u001b[1;33m(\u001b[0m\u001b[0my\u001b[0m\u001b[1;33m[\u001b[0m\u001b[0mj\u001b[0m\u001b[1;33m]\u001b[0m\u001b[1;33m)\u001b[0m\u001b[1;33m\u001b[0m\u001b[1;33m\u001b[0m\u001b[0m\n\u001b[0;32m      7\u001b[0m     \u001b[0mplt\u001b[0m\u001b[1;33m.\u001b[0m\u001b[0msubplots_adjust\u001b[0m\u001b[1;33m(\u001b[0m\u001b[0mhspace\u001b[0m\u001b[1;33m=\u001b[0m\u001b[1;36m0.5\u001b[0m\u001b[1;33m,\u001b[0m\u001b[0mwspace\u001b[0m\u001b[1;33m=\u001b[0m\u001b[1;36m0.35\u001b[0m\u001b[1;33m)\u001b[0m\u001b[1;33m\u001b[0m\u001b[1;33m\u001b[0m\u001b[0m\n",
      "\u001b[1;31mAttributeError\u001b[0m: 'numpy.ndarray' object has no attribute 'lineplot'"
     ]
    },
    {
     "data": {
      "image/png": "[encoded data removed]",
      "text/plain": [
       "<Figure size 1296x648 with 16 Axes>"
      ]
     },
     "metadata": {
      "needs_background": "light"
     },
     "output_type": "display_data"
    }
   ],
   "source": [
    "fig, axes = plt.subplots(figsize=(18,9),nrows=4, ncols=4)\n",
    "for j in num2 :\n",
    "    row = j//4\n",
    "    col = j%4\n",
    "    sns.lineplot(x=where[j]['date2'].unique(),y=where[j]['1kg price'], hue=where[j]['from'].unique(),ax = axes[row][col])\n",
    "    plt.title(y[j])\n",
    "    plt.subplots_adjust(hspace=0.5,wspace=0.35)"
   ]
  },
  {
   "cell_type": "code",
   "execution_count": 272,
   "metadata": {
    "ExecuteTime": {
     "end_time": "2021-04-21T05:08:43.340026Z",
     "start_time": "2021-04-21T05:08:43.322657Z"
    }
   },
   "outputs": [
    {
     "data": {
      "text/plain": [
       "<bound method Series.unique of 0     2007.04\n",
       "1     2007.05\n",
       "2     2007.06\n",
       "3     2007.07\n",
       "4     2007.08\n",
       "       ...   \n",
       "81    2007.08\n",
       "82    2007.09\n",
       "83    2007.10\n",
       "84    2007.11\n",
       "85    2007.12\n",
       "Name: date2, Length: 86, dtype: object>"
      ]
     },
     "execution_count": 272,
     "metadata": {},
     "output_type": "execute_result"
    }
   ],
   "source": [
    "where[1]['date2'].unique"
   ]
  },
  {
   "cell_type": "code",
   "execution_count": 278,
   "metadata": {
    "ExecuteTime": {
     "end_time": "2021-04-21T05:09:26.135381Z",
     "start_time": "2021-04-21T05:09:26.111640Z"
    }
   },
   "outputs": [
    {
     "data": {
      "text/html": [
       "<div>\n",
       "<style scoped>\n",
       "    .dataframe tbody tr th:only-of-type {\n",
       "        vertical-align: middle;\n",
       "    }\n",
       "\n",
       "    .dataframe tbody tr th {\n",
       "        vertical-align: top;\n",
       "    }\n",
       "\n",
       "    .dataframe thead th {\n",
       "        text-align: right;\n",
       "    }\n",
       "</style>\n",
       "<table border=\"1\" class=\"dataframe\">\n",
       "  <thead>\n",
       "    <tr style=\"text-align: right;\">\n",
       "      <th></th>\n",
       "      <th>from</th>\n",
       "      <th>date2</th>\n",
       "      <th>qty</th>\n",
       "      <th>1kg price</th>\n",
       "    </tr>\n",
       "  </thead>\n",
       "  <tbody>\n",
       "    <tr>\n",
       "      <th>0</th>\n",
       "      <td>강구</td>\n",
       "      <td>2007.04</td>\n",
       "      <td>336.0</td>\n",
       "      <td>666.670000</td>\n",
       "    </tr>\n",
       "    <tr>\n",
       "      <th>1</th>\n",
       "      <td>강구</td>\n",
       "      <td>2007.05</td>\n",
       "      <td>60.0</td>\n",
       "      <td>3550.000000</td>\n",
       "    </tr>\n",
       "    <tr>\n",
       "      <th>2</th>\n",
       "      <td>강구</td>\n",
       "      <td>2007.06</td>\n",
       "      <td>674.0</td>\n",
       "      <td>2634.000000</td>\n",
       "    </tr>\n",
       "    <tr>\n",
       "      <th>3</th>\n",
       "      <td>강구</td>\n",
       "      <td>2007.07</td>\n",
       "      <td>983.0</td>\n",
       "      <td>1589.393636</td>\n",
       "    </tr>\n",
       "    <tr>\n",
       "      <th>4</th>\n",
       "      <td>강구</td>\n",
       "      <td>2007.08</td>\n",
       "      <td>11711.8</td>\n",
       "      <td>1684.910000</td>\n",
       "    </tr>\n",
       "    <tr>\n",
       "      <th>...</th>\n",
       "      <td>...</td>\n",
       "      <td>...</td>\n",
       "      <td>...</td>\n",
       "      <td>...</td>\n",
       "    </tr>\n",
       "    <tr>\n",
       "      <th>81</th>\n",
       "      <td>포항</td>\n",
       "      <td>2007.08</td>\n",
       "      <td>13826.0</td>\n",
       "      <td>1458.419655</td>\n",
       "    </tr>\n",
       "    <tr>\n",
       "      <th>82</th>\n",
       "      <td>포항</td>\n",
       "      <td>2007.09</td>\n",
       "      <td>20768.0</td>\n",
       "      <td>1267.987805</td>\n",
       "    </tr>\n",
       "    <tr>\n",
       "      <th>83</th>\n",
       "      <td>포항</td>\n",
       "      <td>2007.10</td>\n",
       "      <td>37974.0</td>\n",
       "      <td>1050.981129</td>\n",
       "    </tr>\n",
       "    <tr>\n",
       "      <th>84</th>\n",
       "      <td>포항</td>\n",
       "      <td>2007.11</td>\n",
       "      <td>19114.0</td>\n",
       "      <td>1385.187500</td>\n",
       "    </tr>\n",
       "    <tr>\n",
       "      <th>85</th>\n",
       "      <td>포항</td>\n",
       "      <td>2007.12</td>\n",
       "      <td>5352.0</td>\n",
       "      <td>1662.410714</td>\n",
       "    </tr>\n",
       "  </tbody>\n",
       "</table>\n",
       "<p>86 rows × 4 columns</p>\n",
       "</div>"
      ],
      "text/plain": [
       "   from    date2      qty    1kg price\n",
       "0    강구  2007.04    336.0   666.670000\n",
       "1    강구  2007.05     60.0  3550.000000\n",
       "2    강구  2007.06    674.0  2634.000000\n",
       "3    강구  2007.07    983.0  1589.393636\n",
       "4    강구  2007.08  11711.8  1684.910000\n",
       "..  ...      ...      ...          ...\n",
       "81   포항  2007.08  13826.0  1458.419655\n",
       "82   포항  2007.09  20768.0  1267.987805\n",
       "83   포항  2007.10  37974.0  1050.981129\n",
       "84   포항  2007.11  19114.0  1385.187500\n",
       "85   포항  2007.12   5352.0  1662.410714\n",
       "\n",
       "[86 rows x 4 columns]"
      ]
     },
     "execution_count": 278,
     "metadata": {},
     "output_type": "execute_result"
    }
   ],
   "source": [
    "where[1]['1kg price']"
   ]
  },
  {
   "cell_type": "code",
   "execution_count": null,
   "metadata": {},
   "outputs": [],
   "source": [
    "plt.figure(figsize=(18,6))\n",
    "sns.lineplot(x=where[1]['date2 '].unique,y=where[1]['1kg price'], hue=where[1]['from'])\n",
    "plt.show()"
   ]
  },
  {
   "cell_type": "code",
   "execution_count": 277,
   "metadata": {
    "ExecuteTime": {
     "end_time": "2021-04-21T05:09:12.608168Z",
     "start_time": "2021-04-21T05:09:12.584347Z"
    }
   },
   "outputs": [
    {
     "ename": "AttributeError",
     "evalue": "'numpy.ndarray' object has no attribute 'lineplot'",
     "output_type": "error",
     "traceback": [
      "\u001b[1;31m---------------------------------------------------------------------------\u001b[0m",
      "\u001b[1;31mAttributeError\u001b[0m                            Traceback (most recent call last)",
      "\u001b[1;32m<ipython-input-277-dc8d22bb6da8>\u001b[0m in \u001b[0;36m<module>\u001b[1;34m\u001b[0m\n\u001b[0;32m      1\u001b[0m \u001b[0mplt\u001b[0m\u001b[1;33m.\u001b[0m\u001b[0mfigure\u001b[0m\u001b[1;33m(\u001b[0m\u001b[0mfigsize\u001b[0m\u001b[1;33m=\u001b[0m\u001b[1;33m(\u001b[0m\u001b[1;36m18\u001b[0m\u001b[1;33m,\u001b[0m\u001b[1;36m6\u001b[0m\u001b[1;33m)\u001b[0m\u001b[1;33m)\u001b[0m\u001b[1;33m\u001b[0m\u001b[1;33m\u001b[0m\u001b[0m\n\u001b[1;32m----> 2\u001b[1;33m \u001b[0msns\u001b[0m\u001b[1;33m.\u001b[0m\u001b[0mlineplot\u001b[0m\u001b[1;33m(\u001b[0m\u001b[0mx\u001b[0m\u001b[1;33m=\u001b[0m\u001b[0mwhere\u001b[0m\u001b[1;33m[\u001b[0m\u001b[1;36m1\u001b[0m\u001b[1;33m]\u001b[0m\u001b[1;33m[\u001b[0m\u001b[1;34m'date2'\u001b[0m\u001b[1;33m]\u001b[0m\u001b[1;33m.\u001b[0m\u001b[0munique\u001b[0m\u001b[1;33m,\u001b[0m\u001b[0my\u001b[0m\u001b[1;33m=\u001b[0m\u001b[0mwhere\u001b[0m\u001b[1;33m[\u001b[0m\u001b[1;36m1\u001b[0m\u001b[1;33m]\u001b[0m\u001b[1;33m[\u001b[0m\u001b[1;34m'1kg price'\u001b[0m\u001b[1;33m]\u001b[0m\u001b[1;33m,\u001b[0m \u001b[0mhue\u001b[0m\u001b[1;33m=\u001b[0m\u001b[0mwhere\u001b[0m\u001b[1;33m[\u001b[0m\u001b[1;36m1\u001b[0m\u001b[1;33m]\u001b[0m\u001b[1;33m[\u001b[0m\u001b[1;34m'from'\u001b[0m\u001b[1;33m]\u001b[0m\u001b[1;33m)\u001b[0m\u001b[1;33m\u001b[0m\u001b[1;33m\u001b[0m\u001b[0m\n\u001b[0m\u001b[0;32m      3\u001b[0m \u001b[0mplt\u001b[0m\u001b[1;33m.\u001b[0m\u001b[0mshow\u001b[0m\u001b[1;33m(\u001b[0m\u001b[1;33m)\u001b[0m\u001b[1;33m\u001b[0m\u001b[1;33m\u001b[0m\u001b[0m\n",
      "\u001b[1;31mAttributeError\u001b[0m: 'numpy.ndarray' object has no attribute 'lineplot'"
     ]
    },
    {
     "data": {
      "text/plain": [
       "<Figure size 1296x432 with 0 Axes>"
      ]
     },
     "metadata": {},
     "output_type": "display_data"
    }
   ],
   "source": [
    "plt.figure(figsize=(18,6))\n",
    "sns.lineplot(x=where[1]['date2'].unique,y=where[1]['1kg price'], hue=where[1]['from'])\n",
    "plt.show()"
   ]
  },
  {
   "cell_type": "code",
   "execution_count": 136,
   "metadata": {
    "ExecuteTime": {
     "end_time": "2021-04-20T07:13:47.496147Z",
     "start_time": "2021-04-20T07:13:47.322564Z"
    }
   },
   "outputs": [
    {
     "data": {
      "text/plain": [
       "<BarContainer object of 8 artists>"
      ]
     },
     "execution_count": 136,
     "metadata": {},
     "output_type": "execute_result"
    },
    {
     "data": {
      "image/png": "[encoded data removed]",
      "text/plain": [
       "<Figure size 432x288 with 1 Axes>"
      ]
     },
     "metadata": {
      "needs_background": "light"
     },
     "output_type": "display_data"
    }
   ],
   "source": [
    "plt.bar(species_from1.index,species_from1['qty'])"
   ]
  },
  {
   "cell_type": "code",
   "execution_count": 137,
   "metadata": {
    "ExecuteTime": {
     "end_time": "2021-04-20T07:15:54.501617Z",
     "start_time": "2021-04-20T07:15:54.464915Z"
    }
   },
   "outputs": [],
   "source": [
    "t = [data_ff[data_ff['species']=='(선)삼치']['1kg price'],data_ff[data_ff['species']=='(냉)삼치']['1kg price']]"
   ]
  },
  {
   "cell_type": "code",
   "execution_count": 138,
   "metadata": {
    "ExecuteTime": {
     "end_time": "2021-04-20T07:16:06.649921Z",
     "start_time": "2021-04-20T07:16:06.512057Z"
    }
   },
   "outputs": [
    {
     "data": {
      "text/plain": [
       "{'whiskers': [<matplotlib.lines.Line2D at 0x20c06a94f70>,\n",
       "  <matplotlib.lines.Line2D at 0x20c0ea6d3d0>,\n",
       "  <matplotlib.lines.Line2D at 0x20c0ea47be0>,\n",
       "  <matplotlib.lines.Line2D at 0x20c0ea72040>],\n",
       " 'caps': [<matplotlib.lines.Line2D at 0x20c0ea7d040>,\n",
       "  <matplotlib.lines.Line2D at 0x20c0ea7dd60>,\n",
       "  <matplotlib.lines.Line2D at 0x20c0ea728e0>,\n",
       "  <matplotlib.lines.Line2D at 0x20c0ea72b50>],\n",
       " 'boxes': [<matplotlib.lines.Line2D at 0x20c0ca63190>,\n",
       "  <matplotlib.lines.Line2D at 0x20c0ea6bf40>],\n",
       " 'medians': [<matplotlib.lines.Line2D at 0x20c0ea50130>,\n",
       "  <matplotlib.lines.Line2D at 0x20c020f3bb0>],\n",
       " 'fliers': [<matplotlib.lines.Line2D at 0x20c0ea50df0>,\n",
       "  <matplotlib.lines.Line2D at 0x20c0ea5ad00>],\n",
       " 'means': []}"
      ]
     },
     "execution_count": 138,
     "metadata": {},
     "output_type": "execute_result"
    },
    {
     "data": {
      "image/png": "[encoded data removed]",
      "text/plain": [
       "<Figure size 432x288 with 1 Axes>"
      ]
     },
     "metadata": {
      "needs_background": "light"
     },
     "output_type": "display_data"
    }
   ],
   "source": [
    "plt.boxplot(t)"
   ]
  },
  {
   "cell_type": "code",
   "execution_count": 140,
   "metadata": {
    "ExecuteTime": {
     "end_time": "2021-04-20T07:18:08.502132Z",
     "start_time": "2021-04-20T07:18:08.378392Z"
    }
   },
   "outputs": [
    {
     "data": {
      "text/plain": [
       "{'whiskers': [<matplotlib.lines.Line2D at 0x20c0473f580>,\n",
       "  <matplotlib.lines.Line2D at 0x20c0210c820>],\n",
       " 'caps': [<matplotlib.lines.Line2D at 0x20c0351afa0>,\n",
       "  <matplotlib.lines.Line2D at 0x20c0351aaf0>],\n",
       " 'boxes': [<matplotlib.lines.Line2D at 0x20c0473fa30>],\n",
       " 'medians': [<matplotlib.lines.Line2D at 0x20c0e85db50>],\n",
       " 'fliers': [<matplotlib.lines.Line2D at 0x20c03869c70>],\n",
       " 'means': []}"
      ]
     },
     "execution_count": 140,
     "metadata": {},
     "output_type": "execute_result"
    },
    {
     "data": {
      "image/png": "[encoded data removed]",
      "text/plain": [
       "<Figure size 432x288 with 1 Axes>"
      ]
     },
     "metadata": {
      "needs_background": "light"
     },
     "output_type": "display_data"
    }
   ],
   "source": [
    "plt.boxplot(data_ff['1kg price'])"
   ]
  },
  {
   "cell_type": "code",
   "execution_count": 142,
   "metadata": {
    "ExecuteTime": {
     "end_time": "2021-04-20T07:19:15.361483Z",
     "start_time": "2021-04-20T07:19:15.317337Z"
    }
   },
   "outputs": [],
   "source": [
    "pd.qcut(data_ff['1kg price'], 4, ['q1','q2','q3','q4'])\n",
    "Q1 = (data_ff['1kg price']).quantile(.25)\n",
    "Q2 = (data_ff['1kg price']).quantile(.5)\n",
    "Q3 = (data_ff['1kg price']).quantile(.75)\n",
    "Q1,Q2,Q3\n",
    "IQR = Q3-Q1\n",
    "IQR\n",
    "min = Q1-1.5*IQR\n",
    "max = (Q3+1.5*IQR).round(2)\n",
    "min, max\n",
    "data_ff = data_ff[data_ff['1kg price']<=max]"
   ]
  },
  {
   "cell_type": "code",
   "execution_count": 144,
   "metadata": {
    "ExecuteTime": {
     "end_time": "2021-04-20T07:19:31.289090Z",
     "start_time": "2021-04-20T07:19:31.155699Z"
    }
   },
   "outputs": [
    {
     "data": {
      "text/plain": [
       "{'whiskers': [<matplotlib.lines.Line2D at 0x20c0b72ce20>,\n",
       "  <matplotlib.lines.Line2D at 0x20c030d1400>],\n",
       " 'caps': [<matplotlib.lines.Line2D at 0x20c0ca833a0>,\n",
       "  <matplotlib.lines.Line2D at 0x20c06383340>],\n",
       " 'boxes': [<matplotlib.lines.Line2D at 0x20c0ea72f40>],\n",
       " 'medians': [<matplotlib.lines.Line2D at 0x20c0cbe8b80>],\n",
       " 'fliers': [<matplotlib.lines.Line2D at 0x20c0eb21a90>],\n",
       " 'means': []}"
      ]
     },
     "execution_count": 144,
     "metadata": {},
     "output_type": "execute_result"
    },
    {
     "data": {
      "image/png": "[encoded data removed]",
      "text/plain": [
       "<Figure size 432x288 with 1 Axes>"
      ]
     },
     "metadata": {
      "needs_background": "light"
     },
     "output_type": "display_data"
    }
   ],
   "source": [
    "plt.boxplot(data_ff['1kg price'])"
   ]
  },
  {
   "cell_type": "code",
   "execution_count": 145,
   "metadata": {
    "ExecuteTime": {
     "end_time": "2021-04-20T07:19:47.125981Z",
     "start_time": "2021-04-20T07:19:46.965905Z"
    }
   },
   "outputs": [
    {
     "data": {
      "text/plain": [
       "{'whiskers': [<matplotlib.lines.Line2D at 0x20c067bb610>,\n",
       "  <matplotlib.lines.Line2D at 0x20c0ec825e0>,\n",
       "  <matplotlib.lines.Line2D at 0x20c0cbf6c40>,\n",
       "  <matplotlib.lines.Line2D at 0x20c0cbf6dc0>],\n",
       " 'caps': [<matplotlib.lines.Line2D at 0x20c0ed56250>,\n",
       "  <matplotlib.lines.Line2D at 0x20c0ed56dc0>,\n",
       "  <matplotlib.lines.Line2D at 0x20c0e82de80>,\n",
       "  <matplotlib.lines.Line2D at 0x20c0e82d730>],\n",
       " 'boxes': [<matplotlib.lines.Line2D at 0x20c0ea43550>,\n",
       "  <matplotlib.lines.Line2D at 0x20c0cbf6b80>],\n",
       " 'medians': [<matplotlib.lines.Line2D at 0x20c0ed56ee0>,\n",
       "  <matplotlib.lines.Line2D at 0x20c0e82d340>],\n",
       " 'fliers': [<matplotlib.lines.Line2D at 0x20c0cbf67c0>,\n",
       "  <matplotlib.lines.Line2D at 0x20c0c8bed90>],\n",
       " 'means': []}"
      ]
     },
     "execution_count": 145,
     "metadata": {},
     "output_type": "execute_result"
    },
    {
     "data": {
      "image/png": "[encoded data removed]",
      "text/plain": [
       "<Figure size 432x288 with 1 Axes>"
      ]
     },
     "metadata": {
      "needs_background": "light"
     },
     "output_type": "display_data"
    }
   ],
   "source": [
    "t = [data_ff[data_ff['species']=='(선)삼치']['1kg price'],data_ff[data_ff['species']=='(냉)삼치']['1kg price']]\n",
    "plt.boxplot(t)"
   ]
  },
  {
   "cell_type": "code",
   "execution_count": 149,
   "metadata": {
    "ExecuteTime": {
     "end_time": "2021-04-20T07:21:13.070559Z",
     "start_time": "2021-04-20T07:21:12.805790Z"
    }
   },
   "outputs": [],
   "source": [
    "data_ff.to_csv('./final/(0420)삼치_outlier_delete.csv')"
   ]
  }
 ],
 "metadata": {
  "kernelspec": {
   "display_name": "Python 3",
   "language": "python",
   "name": "python3"
  },
  "language_info": {
   "codemirror_mode": {
    "name": "ipython",
    "version": 3
   },
   "file_extension": ".py",
   "mimetype": "text/x-python",
   "name": "python",
   "nbconvert_exporter": "python",
   "pygments_lexer": "ipython3",
   "version": "3.8.5"
  },
  "toc": {
   "base_numbering": 1,
   "nav_menu": {},
   "number_sections": true,
   "sideBar": true,
   "skip_h1_title": false,
   "title_cell": "Table of Contents",
   "title_sidebar": "Contents",
   "toc_cell": false,
   "toc_position": {},
   "toc_section_display": true,
   "toc_window_display": false
  },
  "varInspector": {
   "cols": {
    "lenName": 16,
    "lenType": 16,
    "lenVar": 40
   },
   "kernels_config": {
    "python": {
     "delete_cmd_postfix": "",
     "delete_cmd_prefix": "del ",
     "library": "var_list.py",
     "varRefreshCmd": "print(var_dic_list())"
    },
    "r": {
     "delete_cmd_postfix": ") ",
     "delete_cmd_prefix": "rm(",
     "library": "var_list.r",
     "varRefreshCmd": "cat(var_dic_list()) "
    }
   },
   "types_to_exclude": [
    "module",
    "function",
    "builtin_function_or_method",
    "instance",
    "_Feature"
   ],
   "window_display": false
  }
 },
 "nbformat": 4,
 "nbformat_minor": 4
}
