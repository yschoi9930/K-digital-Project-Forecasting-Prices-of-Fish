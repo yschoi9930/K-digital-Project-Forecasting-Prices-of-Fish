{
 "cells": [
  {
   "cell_type": "code",
   "execution_count": 1,
   "metadata": {
    "ExecuteTime": {
     "end_time": "2021-04-25T12:48:22.741468Z",
     "start_time": "2021-04-25T12:48:21.128582Z"
    }
   },
   "outputs": [],
   "source": [
    "import selenium\n",
    "from selenium import webdriver\n",
    "from urllib.parse import quote\n",
    "import requests\n",
    "from bs4 import BeautifulSoup\n",
    "import pandas as pd\n",
    "import numpy as np\n",
    "import string\n",
    "import matplotlib.pyplot as plt\n",
    "%matplotlib inline\n",
    "import platform\n",
    "from scipy.stats import *\n",
    "from matplotlib import font_manager, rc\n",
    "plt.rcParams['axes.unicode_minus'] = False\n",
    "\n",
    "if platform.system() == 'Darwin':  # 맥OS \n",
    "    rc('font', family='AppleGothic')\n",
    "elif platform.system() == 'Windows': \n",
    "    # 윈도우   \n",
    "    path = \"c:/Windows/Fonts/malgun.ttf\"\n",
    "    font_name = font_manager.FontProperties(fname=path).get_name()\n",
    "    rc('font', family=font_name)\n",
    "else:\n",
    "    print('Unknown system...  sorry~~~')"
   ]
  },
  {
   "cell_type": "code",
   "execution_count": 13,
   "metadata": {
    "ExecuteTime": {
     "end_time": "2021-04-25T12:48:50.788671Z",
     "start_time": "2021-04-25T12:48:50.710433Z"
    }
   },
   "outputs": [],
   "source": [
    "data = pd.read_csv('./final/(0423)진짜 최종.csv')"
   ]
  },
  {
   "cell_type": "code",
   "execution_count": 14,
   "metadata": {
    "ExecuteTime": {
     "end_time": "2021-04-25T12:48:51.623676Z",
     "start_time": "2021-04-25T12:48:51.611930Z"
    }
   },
   "outputs": [],
   "source": [
    "data_raw= data.copy()"
   ]
  },
  {
   "cell_type": "code",
   "execution_count": 15,
   "metadata": {
    "ExecuteTime": {
     "end_time": "2021-04-25T12:48:54.249994Z",
     "start_time": "2021-04-25T12:48:54.224783Z"
    }
   },
   "outputs": [],
   "source": [
    "data = data.drop('Unnamed: 0',axis=1)"
   ]
  },
  {
   "cell_type": "code",
   "execution_count": 16,
   "metadata": {
    "ExecuteTime": {
     "end_time": "2021-04-25T12:48:55.196178Z",
     "start_time": "2021-04-25T12:48:55.168140Z"
    }
   },
   "outputs": [
    {
     "data": {
      "text/html": [
       "<div>\n",
       "<style scoped>\n",
       "    .dataframe tbody tr th:only-of-type {\n",
       "        vertical-align: middle;\n",
       "    }\n",
       "\n",
       "    .dataframe tbody tr th {\n",
       "        vertical-align: top;\n",
       "    }\n",
       "\n",
       "    .dataframe thead th {\n",
       "        text-align: right;\n",
       "    }\n",
       "</style>\n",
       "<table border=\"1\" class=\"dataframe\">\n",
       "  <thead>\n",
       "    <tr style=\"text-align: right;\">\n",
       "      <th></th>\n",
       "      <th>산지</th>\n",
       "      <th>최종수량</th>\n",
       "      <th>year</th>\n",
       "      <th>month</th>\n",
       "      <th>day</th>\n",
       "      <th>1kg price</th>\n",
       "      <th>date2</th>\n",
       "      <th>temp</th>\n",
       "    </tr>\n",
       "  </thead>\n",
       "  <tbody>\n",
       "    <tr>\n",
       "      <th>0</th>\n",
       "      <td>통영</td>\n",
       "      <td>254.0</td>\n",
       "      <td>2006</td>\n",
       "      <td>4</td>\n",
       "      <td>5</td>\n",
       "      <td>3200.00</td>\n",
       "      <td>2006.04.05</td>\n",
       "      <td>12.075</td>\n",
       "    </tr>\n",
       "    <tr>\n",
       "      <th>1</th>\n",
       "      <td>통영</td>\n",
       "      <td>535.2</td>\n",
       "      <td>2006</td>\n",
       "      <td>4</td>\n",
       "      <td>5</td>\n",
       "      <td>4000.00</td>\n",
       "      <td>2006.04.05</td>\n",
       "      <td>12.075</td>\n",
       "    </tr>\n",
       "    <tr>\n",
       "      <th>2</th>\n",
       "      <td>통영</td>\n",
       "      <td>70.0</td>\n",
       "      <td>2006</td>\n",
       "      <td>4</td>\n",
       "      <td>5</td>\n",
       "      <td>4285.71</td>\n",
       "      <td>2006.04.05</td>\n",
       "      <td>12.075</td>\n",
       "    </tr>\n",
       "    <tr>\n",
       "      <th>3</th>\n",
       "      <td>통영</td>\n",
       "      <td>194.7</td>\n",
       "      <td>2006</td>\n",
       "      <td>4</td>\n",
       "      <td>5</td>\n",
       "      <td>4454.55</td>\n",
       "      <td>2006.04.05</td>\n",
       "      <td>12.075</td>\n",
       "    </tr>\n",
       "    <tr>\n",
       "      <th>4</th>\n",
       "      <td>통영</td>\n",
       "      <td>493.0</td>\n",
       "      <td>2006</td>\n",
       "      <td>4</td>\n",
       "      <td>5</td>\n",
       "      <td>3941.18</td>\n",
       "      <td>2006.04.05</td>\n",
       "      <td>12.075</td>\n",
       "    </tr>\n",
       "    <tr>\n",
       "      <th>...</th>\n",
       "      <td>...</td>\n",
       "      <td>...</td>\n",
       "      <td>...</td>\n",
       "      <td>...</td>\n",
       "      <td>...</td>\n",
       "      <td>...</td>\n",
       "      <td>...</td>\n",
       "      <td>...</td>\n",
       "    </tr>\n",
       "    <tr>\n",
       "      <th>65512</th>\n",
       "      <td>삼천포</td>\n",
       "      <td>2.0</td>\n",
       "      <td>2021</td>\n",
       "      <td>4</td>\n",
       "      <td>2</td>\n",
       "      <td>3100.00</td>\n",
       "      <td>2021.04.02</td>\n",
       "      <td>13.150</td>\n",
       "    </tr>\n",
       "    <tr>\n",
       "      <th>65513</th>\n",
       "      <td>삼천포</td>\n",
       "      <td>3.6</td>\n",
       "      <td>2021</td>\n",
       "      <td>4</td>\n",
       "      <td>2</td>\n",
       "      <td>7833.33</td>\n",
       "      <td>2021.04.02</td>\n",
       "      <td>13.150</td>\n",
       "    </tr>\n",
       "    <tr>\n",
       "      <th>65514</th>\n",
       "      <td>삼천포</td>\n",
       "      <td>22.8</td>\n",
       "      <td>2021</td>\n",
       "      <td>4</td>\n",
       "      <td>5</td>\n",
       "      <td>6894.74</td>\n",
       "      <td>2021.04.05</td>\n",
       "      <td>13.325</td>\n",
       "    </tr>\n",
       "    <tr>\n",
       "      <th>65515</th>\n",
       "      <td>삼천포</td>\n",
       "      <td>30.0</td>\n",
       "      <td>2021</td>\n",
       "      <td>4</td>\n",
       "      <td>6</td>\n",
       "      <td>6700.00</td>\n",
       "      <td>2021.04.06</td>\n",
       "      <td>13.350</td>\n",
       "    </tr>\n",
       "    <tr>\n",
       "      <th>65516</th>\n",
       "      <td>삼천포</td>\n",
       "      <td>14.0</td>\n",
       "      <td>2021</td>\n",
       "      <td>4</td>\n",
       "      <td>7</td>\n",
       "      <td>6550.00</td>\n",
       "      <td>2021.04.07</td>\n",
       "      <td>13.425</td>\n",
       "    </tr>\n",
       "  </tbody>\n",
       "</table>\n",
       "<p>65517 rows × 8 columns</p>\n",
       "</div>"
      ],
      "text/plain": [
       "        산지   최종수량  year  month  day  1kg price       date2    temp\n",
       "0       통영  254.0  2006      4    5    3200.00  2006.04.05  12.075\n",
       "1       통영  535.2  2006      4    5    4000.00  2006.04.05  12.075\n",
       "2       통영   70.0  2006      4    5    4285.71  2006.04.05  12.075\n",
       "3       통영  194.7  2006      4    5    4454.55  2006.04.05  12.075\n",
       "4       통영  493.0  2006      4    5    3941.18  2006.04.05  12.075\n",
       "...    ...    ...   ...    ...  ...        ...         ...     ...\n",
       "65512  삼천포    2.0  2021      4    2    3100.00  2021.04.02  13.150\n",
       "65513  삼천포    3.6  2021      4    2    7833.33  2021.04.02  13.150\n",
       "65514  삼천포   22.8  2021      4    5    6894.74  2021.04.05  13.325\n",
       "65515  삼천포   30.0  2021      4    6    6700.00  2021.04.06  13.350\n",
       "65516  삼천포   14.0  2021      4    7    6550.00  2021.04.07  13.425\n",
       "\n",
       "[65517 rows x 8 columns]"
      ]
     },
     "execution_count": 16,
     "metadata": {},
     "output_type": "execute_result"
    }
   ],
   "source": [
    "data"
   ]
  },
  {
   "cell_type": "code",
   "execution_count": 22,
   "metadata": {
    "ExecuteTime": {
     "end_time": "2021-04-25T12:50:32.388865Z",
     "start_time": "2021-04-25T12:50:32.374032Z"
    }
   },
   "outputs": [],
   "source": [
    "data_lr = data[['산지','최종수량','1kg price','temp','date2']]"
   ]
  },
  {
   "cell_type": "code",
   "execution_count": 23,
   "metadata": {
    "ExecuteTime": {
     "end_time": "2021-04-25T12:50:40.598792Z",
     "start_time": "2021-04-25T12:50:40.586064Z"
    }
   },
   "outputs": [],
   "source": [
    "data_lr.columns = ['from','qty','1kg price','temp','date']"
   ]
  },
  {
   "cell_type": "code",
   "execution_count": 28,
   "metadata": {
    "ExecuteTime": {
     "end_time": "2021-04-25T12:51:42.185760Z",
     "start_time": "2021-04-25T12:51:42.148477Z"
    }
   },
   "outputs": [],
   "source": [
    "grouped=data_lr.groupby('date').agg({'qty':'sum','1kg price':'mean','temp':'mean'}).round(2)"
   ]
  },
  {
   "cell_type": "code",
   "execution_count": 100,
   "metadata": {
    "ExecuteTime": {
     "end_time": "2021-04-25T14:01:19.726035Z",
     "start_time": "2021-04-25T14:01:19.665872Z"
    }
   },
   "outputs": [],
   "source": [
    "grouped.to_csv('./final/(0425)그룹화 최종.csv')"
   ]
  },
  {
   "cell_type": "code",
   "execution_count": 101,
   "metadata": {
    "ExecuteTime": {
     "end_time": "2021-04-25T14:01:45.188183Z",
     "start_time": "2021-04-25T14:01:45.165217Z"
    }
   },
   "outputs": [
    {
     "data": {
      "text/html": [
       "<div>\n",
       "<style scoped>\n",
       "    .dataframe tbody tr th:only-of-type {\n",
       "        vertical-align: middle;\n",
       "    }\n",
       "\n",
       "    .dataframe tbody tr th {\n",
       "        vertical-align: top;\n",
       "    }\n",
       "\n",
       "    .dataframe thead th {\n",
       "        text-align: right;\n",
       "    }\n",
       "</style>\n",
       "<table border=\"1\" class=\"dataframe\">\n",
       "  <thead>\n",
       "    <tr style=\"text-align: right;\">\n",
       "      <th></th>\n",
       "      <th>qty</th>\n",
       "      <th>1kg price</th>\n",
       "      <th>temp</th>\n",
       "      <th>temp_sc</th>\n",
       "      <th>qty_sc</th>\n",
       "    </tr>\n",
       "    <tr>\n",
       "      <th>date</th>\n",
       "      <th></th>\n",
       "      <th></th>\n",
       "      <th></th>\n",
       "      <th></th>\n",
       "      <th></th>\n",
       "    </tr>\n",
       "  </thead>\n",
       "  <tbody>\n",
       "    <tr>\n",
       "      <th>2006.04.04</th>\n",
       "      <td>978.3</td>\n",
       "      <td>4948.71</td>\n",
       "      <td>12.02</td>\n",
       "      <td>-0.853048</td>\n",
       "      <td>-0.652525</td>\n",
       "    </tr>\n",
       "    <tr>\n",
       "      <th>2006.04.05</th>\n",
       "      <td>4600.7</td>\n",
       "      <td>4447.32</td>\n",
       "      <td>11.90</td>\n",
       "      <td>-0.876107</td>\n",
       "      <td>0.042461</td>\n",
       "    </tr>\n",
       "    <tr>\n",
       "      <th>2006.04.06</th>\n",
       "      <td>3842.2</td>\n",
       "      <td>4620.74</td>\n",
       "      <td>12.12</td>\n",
       "      <td>-0.833833</td>\n",
       "      <td>-0.103063</td>\n",
       "    </tr>\n",
       "    <tr>\n",
       "      <th>2006.04.07</th>\n",
       "      <td>4777.3</td>\n",
       "      <td>4060.83</td>\n",
       "      <td>12.18</td>\n",
       "      <td>-0.822304</td>\n",
       "      <td>0.076343</td>\n",
       "    </tr>\n",
       "    <tr>\n",
       "      <th>2006.04.08</th>\n",
       "      <td>4773.5</td>\n",
       "      <td>4547.00</td>\n",
       "      <td>12.17</td>\n",
       "      <td>-0.824225</td>\n",
       "      <td>0.075614</td>\n",
       "    </tr>\n",
       "    <tr>\n",
       "      <th>...</th>\n",
       "      <td>...</td>\n",
       "      <td>...</td>\n",
       "      <td>...</td>\n",
       "      <td>...</td>\n",
       "      <td>...</td>\n",
       "    </tr>\n",
       "    <tr>\n",
       "      <th>2021.04.03</th>\n",
       "      <td>561.4</td>\n",
       "      <td>4642.59</td>\n",
       "      <td>13.30</td>\n",
       "      <td>-0.607090</td>\n",
       "      <td>-0.732510</td>\n",
       "    </tr>\n",
       "    <tr>\n",
       "      <th>2021.04.05</th>\n",
       "      <td>421.1</td>\n",
       "      <td>5653.34</td>\n",
       "      <td>13.32</td>\n",
       "      <td>-0.603247</td>\n",
       "      <td>-0.759428</td>\n",
       "    </tr>\n",
       "    <tr>\n",
       "      <th>2021.04.06</th>\n",
       "      <td>290.7</td>\n",
       "      <td>7392.06</td>\n",
       "      <td>13.35</td>\n",
       "      <td>-0.597483</td>\n",
       "      <td>-0.784446</td>\n",
       "    </tr>\n",
       "    <tr>\n",
       "      <th>2021.04.07</th>\n",
       "      <td>399.9</td>\n",
       "      <td>7735.17</td>\n",
       "      <td>13.42</td>\n",
       "      <td>-0.584032</td>\n",
       "      <td>-0.763496</td>\n",
       "    </tr>\n",
       "    <tr>\n",
       "      <th>2021.04.08</th>\n",
       "      <td>418.7</td>\n",
       "      <td>8752.01</td>\n",
       "      <td>13.58</td>\n",
       "      <td>-0.553287</td>\n",
       "      <td>-0.759889</td>\n",
       "    </tr>\n",
       "  </tbody>\n",
       "</table>\n",
       "<p>4602 rows × 5 columns</p>\n",
       "</div>"
      ],
      "text/plain": [
       "               qty  1kg price   temp   temp_sc    qty_sc\n",
       "date                                                    \n",
       "2006.04.04   978.3    4948.71  12.02 -0.853048 -0.652525\n",
       "2006.04.05  4600.7    4447.32  11.90 -0.876107  0.042461\n",
       "2006.04.06  3842.2    4620.74  12.12 -0.833833 -0.103063\n",
       "2006.04.07  4777.3    4060.83  12.18 -0.822304  0.076343\n",
       "2006.04.08  4773.5    4547.00  12.17 -0.824225  0.075614\n",
       "...            ...        ...    ...       ...       ...\n",
       "2021.04.03   561.4    4642.59  13.30 -0.607090 -0.732510\n",
       "2021.04.05   421.1    5653.34  13.32 -0.603247 -0.759428\n",
       "2021.04.06   290.7    7392.06  13.35 -0.597483 -0.784446\n",
       "2021.04.07   399.9    7735.17  13.42 -0.584032 -0.763496\n",
       "2021.04.08   418.7    8752.01  13.58 -0.553287 -0.759889\n",
       "\n",
       "[4602 rows x 5 columns]"
      ]
     },
     "execution_count": 101,
     "metadata": {},
     "output_type": "execute_result"
    }
   ],
   "source": [
    "grouped"
   ]
  },
  {
   "cell_type": "code",
   "execution_count": 30,
   "metadata": {
    "ExecuteTime": {
     "end_time": "2021-04-25T12:52:43.494935Z",
     "start_time": "2021-04-25T12:52:43.175885Z"
    }
   },
   "outputs": [
    {
     "name": "stderr",
     "output_type": "stream",
     "text": [
      "C:\\Users\\choi yeseul\\anaconda3\\lib\\site-packages\\seaborn\\distributions.py:2551: FutureWarning: `distplot` is a deprecated function and will be removed in a future version. Please adapt your code to use either `displot` (a figure-level function with similar flexibility) or `histplot` (an axes-level function for histograms).\n",
      "  warnings.warn(msg, FutureWarning)\n"
     ]
    },
    {
     "data": {
      "text/plain": [
       "<AxesSubplot:xlabel='1kg price', ylabel='Density'>"
      ]
     },
     "execution_count": 30,
     "metadata": {},
     "output_type": "execute_result"
    },
    {
     "data": {
      "image/png": "[encoded data removed]",
      "text/plain": [
       "<Figure size 432x288 with 1 Axes>"
      ]
     },
     "metadata": {
      "needs_background": "light"
     },
     "output_type": "display_data"
    }
   ],
   "source": [
    "sns.distplot(grouped['1kg price'])"
   ]
  },
  {
   "cell_type": "code",
   "execution_count": 53,
   "metadata": {
    "ExecuteTime": {
     "end_time": "2021-04-25T13:47:56.901039Z",
     "start_time": "2021-04-25T13:47:56.883259Z"
    }
   },
   "outputs": [],
   "source": [
    "grouped['temp_sc'] = scale.fit_transform(grouped[['temp']])\n",
    "grouped['qty_sc'] = scale.fit_transform(grouped[['qty']])"
   ]
  },
  {
   "cell_type": "code",
   "execution_count": 54,
   "metadata": {
    "ExecuteTime": {
     "end_time": "2021-04-25T13:47:59.197210Z",
     "start_time": "2021-04-25T13:47:59.172619Z"
    }
   },
   "outputs": [
    {
     "data": {
      "text/html": [
       "<div>\n",
       "<style scoped>\n",
       "    .dataframe tbody tr th:only-of-type {\n",
       "        vertical-align: middle;\n",
       "    }\n",
       "\n",
       "    .dataframe tbody tr th {\n",
       "        vertical-align: top;\n",
       "    }\n",
       "\n",
       "    .dataframe thead th {\n",
       "        text-align: right;\n",
       "    }\n",
       "</style>\n",
       "<table border=\"1\" class=\"dataframe\">\n",
       "  <thead>\n",
       "    <tr style=\"text-align: right;\">\n",
       "      <th></th>\n",
       "      <th>qty</th>\n",
       "      <th>1kg price</th>\n",
       "      <th>temp</th>\n",
       "      <th>temp_sc</th>\n",
       "      <th>qty_sc</th>\n",
       "    </tr>\n",
       "    <tr>\n",
       "      <th>date</th>\n",
       "      <th></th>\n",
       "      <th></th>\n",
       "      <th></th>\n",
       "      <th></th>\n",
       "      <th></th>\n",
       "    </tr>\n",
       "  </thead>\n",
       "  <tbody>\n",
       "    <tr>\n",
       "      <th>2006.04.04</th>\n",
       "      <td>978.3</td>\n",
       "      <td>4948.71</td>\n",
       "      <td>12.02</td>\n",
       "      <td>-0.853048</td>\n",
       "      <td>-0.652525</td>\n",
       "    </tr>\n",
       "    <tr>\n",
       "      <th>2006.04.05</th>\n",
       "      <td>4600.7</td>\n",
       "      <td>4447.32</td>\n",
       "      <td>11.90</td>\n",
       "      <td>-0.876107</td>\n",
       "      <td>0.042461</td>\n",
       "    </tr>\n",
       "    <tr>\n",
       "      <th>2006.04.06</th>\n",
       "      <td>3842.2</td>\n",
       "      <td>4620.74</td>\n",
       "      <td>12.12</td>\n",
       "      <td>-0.833833</td>\n",
       "      <td>-0.103063</td>\n",
       "    </tr>\n",
       "    <tr>\n",
       "      <th>2006.04.07</th>\n",
       "      <td>4777.3</td>\n",
       "      <td>4060.83</td>\n",
       "      <td>12.18</td>\n",
       "      <td>-0.822304</td>\n",
       "      <td>0.076343</td>\n",
       "    </tr>\n",
       "    <tr>\n",
       "      <th>2006.04.08</th>\n",
       "      <td>4773.5</td>\n",
       "      <td>4547.00</td>\n",
       "      <td>12.17</td>\n",
       "      <td>-0.824225</td>\n",
       "      <td>0.075614</td>\n",
       "    </tr>\n",
       "    <tr>\n",
       "      <th>...</th>\n",
       "      <td>...</td>\n",
       "      <td>...</td>\n",
       "      <td>...</td>\n",
       "      <td>...</td>\n",
       "      <td>...</td>\n",
       "    </tr>\n",
       "    <tr>\n",
       "      <th>2021.04.03</th>\n",
       "      <td>561.4</td>\n",
       "      <td>4642.59</td>\n",
       "      <td>13.30</td>\n",
       "      <td>-0.607090</td>\n",
       "      <td>-0.732510</td>\n",
       "    </tr>\n",
       "    <tr>\n",
       "      <th>2021.04.05</th>\n",
       "      <td>421.1</td>\n",
       "      <td>5653.34</td>\n",
       "      <td>13.32</td>\n",
       "      <td>-0.603247</td>\n",
       "      <td>-0.759428</td>\n",
       "    </tr>\n",
       "    <tr>\n",
       "      <th>2021.04.06</th>\n",
       "      <td>290.7</td>\n",
       "      <td>7392.06</td>\n",
       "      <td>13.35</td>\n",
       "      <td>-0.597483</td>\n",
       "      <td>-0.784446</td>\n",
       "    </tr>\n",
       "    <tr>\n",
       "      <th>2021.04.07</th>\n",
       "      <td>399.9</td>\n",
       "      <td>7735.17</td>\n",
       "      <td>13.42</td>\n",
       "      <td>-0.584032</td>\n",
       "      <td>-0.763496</td>\n",
       "    </tr>\n",
       "    <tr>\n",
       "      <th>2021.04.08</th>\n",
       "      <td>418.7</td>\n",
       "      <td>8752.01</td>\n",
       "      <td>13.58</td>\n",
       "      <td>-0.553287</td>\n",
       "      <td>-0.759889</td>\n",
       "    </tr>\n",
       "  </tbody>\n",
       "</table>\n",
       "<p>4602 rows × 5 columns</p>\n",
       "</div>"
      ],
      "text/plain": [
       "               qty  1kg price   temp   temp_sc    qty_sc\n",
       "date                                                    \n",
       "2006.04.04   978.3    4948.71  12.02 -0.853048 -0.652525\n",
       "2006.04.05  4600.7    4447.32  11.90 -0.876107  0.042461\n",
       "2006.04.06  3842.2    4620.74  12.12 -0.833833 -0.103063\n",
       "2006.04.07  4777.3    4060.83  12.18 -0.822304  0.076343\n",
       "2006.04.08  4773.5    4547.00  12.17 -0.824225  0.075614\n",
       "...            ...        ...    ...       ...       ...\n",
       "2021.04.03   561.4    4642.59  13.30 -0.607090 -0.732510\n",
       "2021.04.05   421.1    5653.34  13.32 -0.603247 -0.759428\n",
       "2021.04.06   290.7    7392.06  13.35 -0.597483 -0.784446\n",
       "2021.04.07   399.9    7735.17  13.42 -0.584032 -0.763496\n",
       "2021.04.08   418.7    8752.01  13.58 -0.553287 -0.759889\n",
       "\n",
       "[4602 rows x 5 columns]"
      ]
     },
     "execution_count": 54,
     "metadata": {},
     "output_type": "execute_result"
    }
   ],
   "source": [
    "grouped"
   ]
  },
  {
   "cell_type": "code",
   "execution_count": 55,
   "metadata": {
    "ExecuteTime": {
     "end_time": "2021-04-25T13:48:34.940173Z",
     "start_time": "2021-04-25T13:48:34.905006Z"
    }
   },
   "outputs": [
    {
     "data": {
      "text/html": [
       "<div>\n",
       "<style scoped>\n",
       "    .dataframe tbody tr th:only-of-type {\n",
       "        vertical-align: middle;\n",
       "    }\n",
       "\n",
       "    .dataframe tbody tr th {\n",
       "        vertical-align: top;\n",
       "    }\n",
       "\n",
       "    .dataframe thead th {\n",
       "        text-align: right;\n",
       "    }\n",
       "</style>\n",
       "<table border=\"1\" class=\"dataframe\">\n",
       "  <thead>\n",
       "    <tr style=\"text-align: right;\">\n",
       "      <th></th>\n",
       "      <th>qty</th>\n",
       "      <th>1kg price</th>\n",
       "      <th>temp</th>\n",
       "      <th>temp_sc</th>\n",
       "      <th>qty_sc</th>\n",
       "    </tr>\n",
       "  </thead>\n",
       "  <tbody>\n",
       "    <tr>\n",
       "      <th>qty</th>\n",
       "      <td>1.000000</td>\n",
       "      <td>0.241096</td>\n",
       "      <td>-0.553020</td>\n",
       "      <td>-0.553020</td>\n",
       "      <td>1.000000</td>\n",
       "    </tr>\n",
       "    <tr>\n",
       "      <th>1kg price</th>\n",
       "      <td>0.241096</td>\n",
       "      <td>1.000000</td>\n",
       "      <td>0.048214</td>\n",
       "      <td>0.048214</td>\n",
       "      <td>0.241096</td>\n",
       "    </tr>\n",
       "    <tr>\n",
       "      <th>temp</th>\n",
       "      <td>-0.553020</td>\n",
       "      <td>0.048214</td>\n",
       "      <td>1.000000</td>\n",
       "      <td>1.000000</td>\n",
       "      <td>-0.553020</td>\n",
       "    </tr>\n",
       "    <tr>\n",
       "      <th>temp_sc</th>\n",
       "      <td>-0.553020</td>\n",
       "      <td>0.048214</td>\n",
       "      <td>1.000000</td>\n",
       "      <td>1.000000</td>\n",
       "      <td>-0.553020</td>\n",
       "    </tr>\n",
       "    <tr>\n",
       "      <th>qty_sc</th>\n",
       "      <td>1.000000</td>\n",
       "      <td>0.241096</td>\n",
       "      <td>-0.553020</td>\n",
       "      <td>-0.553020</td>\n",
       "      <td>1.000000</td>\n",
       "    </tr>\n",
       "  </tbody>\n",
       "</table>\n",
       "</div>"
      ],
      "text/plain": [
       "                qty  1kg price      temp   temp_sc    qty_sc\n",
       "qty        1.000000   0.241096 -0.553020 -0.553020  1.000000\n",
       "1kg price  0.241096   1.000000  0.048214  0.048214  0.241096\n",
       "temp      -0.553020   0.048214  1.000000  1.000000 -0.553020\n",
       "temp_sc   -0.553020   0.048214  1.000000  1.000000 -0.553020\n",
       "qty_sc     1.000000   0.241096 -0.553020 -0.553020  1.000000"
      ]
     },
     "execution_count": 55,
     "metadata": {},
     "output_type": "execute_result"
    }
   ],
   "source": [
    "corr = grouped.corr(method = 'pearson')\n",
    "corr"
   ]
  },
  {
   "cell_type": "code",
   "execution_count": 57,
   "metadata": {
    "ExecuteTime": {
     "end_time": "2021-04-25T13:50:17.606863Z",
     "start_time": "2021-04-25T13:50:17.576038Z"
    }
   },
   "outputs": [
    {
     "data": {
      "text/html": [
       "<div>\n",
       "<style scoped>\n",
       "    .dataframe tbody tr th:only-of-type {\n",
       "        vertical-align: middle;\n",
       "    }\n",
       "\n",
       "    .dataframe tbody tr th {\n",
       "        vertical-align: top;\n",
       "    }\n",
       "\n",
       "    .dataframe thead th {\n",
       "        text-align: right;\n",
       "    }\n",
       "</style>\n",
       "<table border=\"1\" class=\"dataframe\">\n",
       "  <thead>\n",
       "    <tr style=\"text-align: right;\">\n",
       "      <th></th>\n",
       "      <th>from</th>\n",
       "      <th>qty</th>\n",
       "      <th>1kg price</th>\n",
       "      <th>temp</th>\n",
       "      <th>date</th>\n",
       "    </tr>\n",
       "  </thead>\n",
       "  <tbody>\n",
       "    <tr>\n",
       "      <th>0</th>\n",
       "      <td>통영</td>\n",
       "      <td>254.0</td>\n",
       "      <td>3200.00</td>\n",
       "      <td>12.075</td>\n",
       "      <td>2006.04.05</td>\n",
       "    </tr>\n",
       "    <tr>\n",
       "      <th>1</th>\n",
       "      <td>통영</td>\n",
       "      <td>535.2</td>\n",
       "      <td>4000.00</td>\n",
       "      <td>12.075</td>\n",
       "      <td>2006.04.05</td>\n",
       "    </tr>\n",
       "    <tr>\n",
       "      <th>2</th>\n",
       "      <td>통영</td>\n",
       "      <td>70.0</td>\n",
       "      <td>4285.71</td>\n",
       "      <td>12.075</td>\n",
       "      <td>2006.04.05</td>\n",
       "    </tr>\n",
       "    <tr>\n",
       "      <th>3</th>\n",
       "      <td>통영</td>\n",
       "      <td>194.7</td>\n",
       "      <td>4454.55</td>\n",
       "      <td>12.075</td>\n",
       "      <td>2006.04.05</td>\n",
       "    </tr>\n",
       "    <tr>\n",
       "      <th>4</th>\n",
       "      <td>통영</td>\n",
       "      <td>493.0</td>\n",
       "      <td>3941.18</td>\n",
       "      <td>12.075</td>\n",
       "      <td>2006.04.05</td>\n",
       "    </tr>\n",
       "    <tr>\n",
       "      <th>...</th>\n",
       "      <td>...</td>\n",
       "      <td>...</td>\n",
       "      <td>...</td>\n",
       "      <td>...</td>\n",
       "      <td>...</td>\n",
       "    </tr>\n",
       "    <tr>\n",
       "      <th>65512</th>\n",
       "      <td>삼천포</td>\n",
       "      <td>2.0</td>\n",
       "      <td>3100.00</td>\n",
       "      <td>13.150</td>\n",
       "      <td>2021.04.02</td>\n",
       "    </tr>\n",
       "    <tr>\n",
       "      <th>65513</th>\n",
       "      <td>삼천포</td>\n",
       "      <td>3.6</td>\n",
       "      <td>7833.33</td>\n",
       "      <td>13.150</td>\n",
       "      <td>2021.04.02</td>\n",
       "    </tr>\n",
       "    <tr>\n",
       "      <th>65514</th>\n",
       "      <td>삼천포</td>\n",
       "      <td>22.8</td>\n",
       "      <td>6894.74</td>\n",
       "      <td>13.325</td>\n",
       "      <td>2021.04.05</td>\n",
       "    </tr>\n",
       "    <tr>\n",
       "      <th>65515</th>\n",
       "      <td>삼천포</td>\n",
       "      <td>30.0</td>\n",
       "      <td>6700.00</td>\n",
       "      <td>13.350</td>\n",
       "      <td>2021.04.06</td>\n",
       "    </tr>\n",
       "    <tr>\n",
       "      <th>65516</th>\n",
       "      <td>삼천포</td>\n",
       "      <td>14.0</td>\n",
       "      <td>6550.00</td>\n",
       "      <td>13.425</td>\n",
       "      <td>2021.04.07</td>\n",
       "    </tr>\n",
       "  </tbody>\n",
       "</table>\n",
       "<p>65517 rows × 5 columns</p>\n",
       "</div>"
      ],
      "text/plain": [
       "      from    qty  1kg price    temp        date\n",
       "0       통영  254.0    3200.00  12.075  2006.04.05\n",
       "1       통영  535.2    4000.00  12.075  2006.04.05\n",
       "2       통영   70.0    4285.71  12.075  2006.04.05\n",
       "3       통영  194.7    4454.55  12.075  2006.04.05\n",
       "4       통영  493.0    3941.18  12.075  2006.04.05\n",
       "...    ...    ...        ...     ...         ...\n",
       "65512  삼천포    2.0    3100.00  13.150  2021.04.02\n",
       "65513  삼천포    3.6    7833.33  13.150  2021.04.02\n",
       "65514  삼천포   22.8    6894.74  13.325  2021.04.05\n",
       "65515  삼천포   30.0    6700.00  13.350  2021.04.06\n",
       "65516  삼천포   14.0    6550.00  13.425  2021.04.07\n",
       "\n",
       "[65517 rows x 5 columns]"
      ]
     },
     "execution_count": 57,
     "metadata": {},
     "output_type": "execute_result"
    }
   ],
   "source": [
    "data_lr"
   ]
  },
  {
   "cell_type": "code",
   "execution_count": 60,
   "metadata": {
    "ExecuteTime": {
     "end_time": "2021-04-25T13:51:03.889282Z",
     "start_time": "2021-04-25T13:51:03.262516Z"
    }
   },
   "outputs": [],
   "source": [
    "data_lr['year'] = data_lr['date'].str.split('.').str.get(0)\n",
    "data_lr['month'] = data_lr['date'].str.split('.').str.get(1)\n",
    "data_lr['day'] = data_lr['date'].str.split('.').str.get(2)"
   ]
  },
  {
   "cell_type": "code",
   "execution_count": 62,
   "metadata": {
    "ExecuteTime": {
     "end_time": "2021-04-25T13:51:20.289376Z",
     "start_time": "2021-04-25T13:51:20.225497Z"
    }
   },
   "outputs": [],
   "source": [
    "data_lr['date2'] = data_lr['year'].str.cat(data_lr['month'],sep='.')"
   ]
  },
  {
   "cell_type": "code",
   "execution_count": 63,
   "metadata": {
    "ExecuteTime": {
     "end_time": "2021-04-25T13:51:24.338909Z",
     "start_time": "2021-04-25T13:51:24.300280Z"
    }
   },
   "outputs": [
    {
     "data": {
      "text/html": [
       "<div>\n",
       "<style scoped>\n",
       "    .dataframe tbody tr th:only-of-type {\n",
       "        vertical-align: middle;\n",
       "    }\n",
       "\n",
       "    .dataframe tbody tr th {\n",
       "        vertical-align: top;\n",
       "    }\n",
       "\n",
       "    .dataframe thead th {\n",
       "        text-align: right;\n",
       "    }\n",
       "</style>\n",
       "<table border=\"1\" class=\"dataframe\">\n",
       "  <thead>\n",
       "    <tr style=\"text-align: right;\">\n",
       "      <th></th>\n",
       "      <th>from</th>\n",
       "      <th>qty</th>\n",
       "      <th>1kg price</th>\n",
       "      <th>temp</th>\n",
       "      <th>date</th>\n",
       "      <th>year</th>\n",
       "      <th>month</th>\n",
       "      <th>day</th>\n",
       "      <th>date2</th>\n",
       "    </tr>\n",
       "  </thead>\n",
       "  <tbody>\n",
       "    <tr>\n",
       "      <th>0</th>\n",
       "      <td>통영</td>\n",
       "      <td>254.0</td>\n",
       "      <td>3200.00</td>\n",
       "      <td>12.075</td>\n",
       "      <td>2006.04.05</td>\n",
       "      <td>2006</td>\n",
       "      <td>04</td>\n",
       "      <td>05</td>\n",
       "      <td>2006.04</td>\n",
       "    </tr>\n",
       "    <tr>\n",
       "      <th>1</th>\n",
       "      <td>통영</td>\n",
       "      <td>535.2</td>\n",
       "      <td>4000.00</td>\n",
       "      <td>12.075</td>\n",
       "      <td>2006.04.05</td>\n",
       "      <td>2006</td>\n",
       "      <td>04</td>\n",
       "      <td>05</td>\n",
       "      <td>2006.04</td>\n",
       "    </tr>\n",
       "    <tr>\n",
       "      <th>2</th>\n",
       "      <td>통영</td>\n",
       "      <td>70.0</td>\n",
       "      <td>4285.71</td>\n",
       "      <td>12.075</td>\n",
       "      <td>2006.04.05</td>\n",
       "      <td>2006</td>\n",
       "      <td>04</td>\n",
       "      <td>05</td>\n",
       "      <td>2006.04</td>\n",
       "    </tr>\n",
       "    <tr>\n",
       "      <th>3</th>\n",
       "      <td>통영</td>\n",
       "      <td>194.7</td>\n",
       "      <td>4454.55</td>\n",
       "      <td>12.075</td>\n",
       "      <td>2006.04.05</td>\n",
       "      <td>2006</td>\n",
       "      <td>04</td>\n",
       "      <td>05</td>\n",
       "      <td>2006.04</td>\n",
       "    </tr>\n",
       "    <tr>\n",
       "      <th>4</th>\n",
       "      <td>통영</td>\n",
       "      <td>493.0</td>\n",
       "      <td>3941.18</td>\n",
       "      <td>12.075</td>\n",
       "      <td>2006.04.05</td>\n",
       "      <td>2006</td>\n",
       "      <td>04</td>\n",
       "      <td>05</td>\n",
       "      <td>2006.04</td>\n",
       "    </tr>\n",
       "    <tr>\n",
       "      <th>...</th>\n",
       "      <td>...</td>\n",
       "      <td>...</td>\n",
       "      <td>...</td>\n",
       "      <td>...</td>\n",
       "      <td>...</td>\n",
       "      <td>...</td>\n",
       "      <td>...</td>\n",
       "      <td>...</td>\n",
       "      <td>...</td>\n",
       "    </tr>\n",
       "    <tr>\n",
       "      <th>65512</th>\n",
       "      <td>삼천포</td>\n",
       "      <td>2.0</td>\n",
       "      <td>3100.00</td>\n",
       "      <td>13.150</td>\n",
       "      <td>2021.04.02</td>\n",
       "      <td>2021</td>\n",
       "      <td>04</td>\n",
       "      <td>02</td>\n",
       "      <td>2021.04</td>\n",
       "    </tr>\n",
       "    <tr>\n",
       "      <th>65513</th>\n",
       "      <td>삼천포</td>\n",
       "      <td>3.6</td>\n",
       "      <td>7833.33</td>\n",
       "      <td>13.150</td>\n",
       "      <td>2021.04.02</td>\n",
       "      <td>2021</td>\n",
       "      <td>04</td>\n",
       "      <td>02</td>\n",
       "      <td>2021.04</td>\n",
       "    </tr>\n",
       "    <tr>\n",
       "      <th>65514</th>\n",
       "      <td>삼천포</td>\n",
       "      <td>22.8</td>\n",
       "      <td>6894.74</td>\n",
       "      <td>13.325</td>\n",
       "      <td>2021.04.05</td>\n",
       "      <td>2021</td>\n",
       "      <td>04</td>\n",
       "      <td>05</td>\n",
       "      <td>2021.04</td>\n",
       "    </tr>\n",
       "    <tr>\n",
       "      <th>65515</th>\n",
       "      <td>삼천포</td>\n",
       "      <td>30.0</td>\n",
       "      <td>6700.00</td>\n",
       "      <td>13.350</td>\n",
       "      <td>2021.04.06</td>\n",
       "      <td>2021</td>\n",
       "      <td>04</td>\n",
       "      <td>06</td>\n",
       "      <td>2021.04</td>\n",
       "    </tr>\n",
       "    <tr>\n",
       "      <th>65516</th>\n",
       "      <td>삼천포</td>\n",
       "      <td>14.0</td>\n",
       "      <td>6550.00</td>\n",
       "      <td>13.425</td>\n",
       "      <td>2021.04.07</td>\n",
       "      <td>2021</td>\n",
       "      <td>04</td>\n",
       "      <td>07</td>\n",
       "      <td>2021.04</td>\n",
       "    </tr>\n",
       "  </tbody>\n",
       "</table>\n",
       "<p>65517 rows × 9 columns</p>\n",
       "</div>"
      ],
      "text/plain": [
       "      from    qty  1kg price    temp        date  year month day    date2\n",
       "0       통영  254.0    3200.00  12.075  2006.04.05  2006    04  05  2006.04\n",
       "1       통영  535.2    4000.00  12.075  2006.04.05  2006    04  05  2006.04\n",
       "2       통영   70.0    4285.71  12.075  2006.04.05  2006    04  05  2006.04\n",
       "3       통영  194.7    4454.55  12.075  2006.04.05  2006    04  05  2006.04\n",
       "4       통영  493.0    3941.18  12.075  2006.04.05  2006    04  05  2006.04\n",
       "...    ...    ...        ...     ...         ...   ...   ...  ..      ...\n",
       "65512  삼천포    2.0    3100.00  13.150  2021.04.02  2021    04  02  2021.04\n",
       "65513  삼천포    3.6    7833.33  13.150  2021.04.02  2021    04  02  2021.04\n",
       "65514  삼천포   22.8    6894.74  13.325  2021.04.05  2021    04  05  2021.04\n",
       "65515  삼천포   30.0    6700.00  13.350  2021.04.06  2021    04  06  2021.04\n",
       "65516  삼천포   14.0    6550.00  13.425  2021.04.07  2021    04  07  2021.04\n",
       "\n",
       "[65517 rows x 9 columns]"
      ]
     },
     "execution_count": 63,
     "metadata": {},
     "output_type": "execute_result"
    }
   ],
   "source": [
    "data_lr"
   ]
  },
  {
   "cell_type": "code",
   "execution_count": 65,
   "metadata": {
    "ExecuteTime": {
     "end_time": "2021-04-25T13:51:44.439834Z",
     "start_time": "2021-04-25T13:51:44.389327Z"
    }
   },
   "outputs": [],
   "source": [
    "group = data_lr.groupby(['year','month'])\n",
    "grouped2 = group.agg({'qty':'sum','1kg price':'mean'}).round(2)"
   ]
  },
  {
   "cell_type": "code",
   "execution_count": 66,
   "metadata": {
    "ExecuteTime": {
     "end_time": "2021-04-25T13:51:46.843940Z",
     "start_time": "2021-04-25T13:51:46.813178Z"
    }
   },
   "outputs": [
    {
     "data": {
      "text/html": [
       "<div>\n",
       "<style scoped>\n",
       "    .dataframe tbody tr th:only-of-type {\n",
       "        vertical-align: middle;\n",
       "    }\n",
       "\n",
       "    .dataframe tbody tr th {\n",
       "        vertical-align: top;\n",
       "    }\n",
       "\n",
       "    .dataframe thead th {\n",
       "        text-align: right;\n",
       "    }\n",
       "</style>\n",
       "<table border=\"1\" class=\"dataframe\">\n",
       "  <thead>\n",
       "    <tr style=\"text-align: right;\">\n",
       "      <th></th>\n",
       "      <th></th>\n",
       "      <th>qty</th>\n",
       "      <th>1kg price</th>\n",
       "    </tr>\n",
       "    <tr>\n",
       "      <th>year</th>\n",
       "      <th>month</th>\n",
       "      <th></th>\n",
       "      <th></th>\n",
       "    </tr>\n",
       "  </thead>\n",
       "  <tbody>\n",
       "    <tr>\n",
       "      <th rowspan=\"5\" valign=\"top\">2006</th>\n",
       "      <th>04</th>\n",
       "      <td>79398.5</td>\n",
       "      <td>4936.02</td>\n",
       "    </tr>\n",
       "    <tr>\n",
       "      <th>05</th>\n",
       "      <td>34612.7</td>\n",
       "      <td>5231.31</td>\n",
       "    </tr>\n",
       "    <tr>\n",
       "      <th>06</th>\n",
       "      <td>15556.6</td>\n",
       "      <td>5587.33</td>\n",
       "    </tr>\n",
       "    <tr>\n",
       "      <th>07</th>\n",
       "      <td>14119.5</td>\n",
       "      <td>5494.06</td>\n",
       "    </tr>\n",
       "    <tr>\n",
       "      <th>08</th>\n",
       "      <td>11779.5</td>\n",
       "      <td>5889.41</td>\n",
       "    </tr>\n",
       "    <tr>\n",
       "      <th>...</th>\n",
       "      <th>...</th>\n",
       "      <td>...</td>\n",
       "      <td>...</td>\n",
       "    </tr>\n",
       "    <tr>\n",
       "      <th>2020</th>\n",
       "      <th>12</th>\n",
       "      <td>134632.1</td>\n",
       "      <td>11078.21</td>\n",
       "    </tr>\n",
       "    <tr>\n",
       "      <th rowspan=\"4\" valign=\"top\">2021</th>\n",
       "      <th>01</th>\n",
       "      <td>121173.1</td>\n",
       "      <td>9193.63</td>\n",
       "    </tr>\n",
       "    <tr>\n",
       "      <th>02</th>\n",
       "      <td>85059.1</td>\n",
       "      <td>8785.29</td>\n",
       "    </tr>\n",
       "    <tr>\n",
       "      <th>03</th>\n",
       "      <td>33416.2</td>\n",
       "      <td>7527.60</td>\n",
       "    </tr>\n",
       "    <tr>\n",
       "      <th>04</th>\n",
       "      <td>3707.0</td>\n",
       "      <td>6674.00</td>\n",
       "    </tr>\n",
       "  </tbody>\n",
       "</table>\n",
       "<p>181 rows × 2 columns</p>\n",
       "</div>"
      ],
      "text/plain": [
       "                 qty  1kg price\n",
       "year month                     \n",
       "2006 04      79398.5    4936.02\n",
       "     05      34612.7    5231.31\n",
       "     06      15556.6    5587.33\n",
       "     07      14119.5    5494.06\n",
       "     08      11779.5    5889.41\n",
       "...              ...        ...\n",
       "2020 12     134632.1   11078.21\n",
       "2021 01     121173.1    9193.63\n",
       "     02      85059.1    8785.29\n",
       "     03      33416.2    7527.60\n",
       "     04       3707.0    6674.00\n",
       "\n",
       "[181 rows x 2 columns]"
      ]
     },
     "execution_count": 66,
     "metadata": {},
     "output_type": "execute_result"
    }
   ],
   "source": [
    "grouped2"
   ]
  },
  {
   "cell_type": "code",
   "execution_count": 67,
   "metadata": {
    "ExecuteTime": {
     "end_time": "2021-04-25T13:51:54.068906Z",
     "start_time": "2021-04-25T13:51:54.027661Z"
    }
   },
   "outputs": [
    {
     "data": {
      "text/html": [
       "<div>\n",
       "<style scoped>\n",
       "    .dataframe tbody tr th:only-of-type {\n",
       "        vertical-align: middle;\n",
       "    }\n",
       "\n",
       "    .dataframe tbody tr th {\n",
       "        vertical-align: top;\n",
       "    }\n",
       "\n",
       "    .dataframe thead th {\n",
       "        text-align: right;\n",
       "    }\n",
       "</style>\n",
       "<table border=\"1\" class=\"dataframe\">\n",
       "  <thead>\n",
       "    <tr style=\"text-align: right;\">\n",
       "      <th>year</th>\n",
       "      <th>2006</th>\n",
       "      <th>2007</th>\n",
       "      <th>2008</th>\n",
       "      <th>2009</th>\n",
       "      <th>2010</th>\n",
       "      <th>2011</th>\n",
       "      <th>2012</th>\n",
       "      <th>2013</th>\n",
       "      <th>2014</th>\n",
       "      <th>2015</th>\n",
       "      <th>2016</th>\n",
       "      <th>2017</th>\n",
       "      <th>2018</th>\n",
       "      <th>2019</th>\n",
       "      <th>2020</th>\n",
       "      <th>2021</th>\n",
       "    </tr>\n",
       "    <tr>\n",
       "      <th>month</th>\n",
       "      <th></th>\n",
       "      <th></th>\n",
       "      <th></th>\n",
       "      <th></th>\n",
       "      <th></th>\n",
       "      <th></th>\n",
       "      <th></th>\n",
       "      <th></th>\n",
       "      <th></th>\n",
       "      <th></th>\n",
       "      <th></th>\n",
       "      <th></th>\n",
       "      <th></th>\n",
       "      <th></th>\n",
       "      <th></th>\n",
       "      <th></th>\n",
       "    </tr>\n",
       "  </thead>\n",
       "  <tbody>\n",
       "    <tr>\n",
       "      <th>01</th>\n",
       "      <td>NaN</td>\n",
       "      <td>316297.8</td>\n",
       "      <td>308009.9</td>\n",
       "      <td>319591.3</td>\n",
       "      <td>288439.9</td>\n",
       "      <td>344297.5</td>\n",
       "      <td>341035.3</td>\n",
       "      <td>300715.5</td>\n",
       "      <td>319349.5</td>\n",
       "      <td>269650.5</td>\n",
       "      <td>219956.6</td>\n",
       "      <td>197778.5</td>\n",
       "      <td>196652.5</td>\n",
       "      <td>188790.9</td>\n",
       "      <td>127738.4</td>\n",
       "      <td>121173.1</td>\n",
       "    </tr>\n",
       "    <tr>\n",
       "      <th>02</th>\n",
       "      <td>NaN</td>\n",
       "      <td>266473.0</td>\n",
       "      <td>255086.1</td>\n",
       "      <td>226840.3</td>\n",
       "      <td>270642.4</td>\n",
       "      <td>197344.1</td>\n",
       "      <td>250013.4</td>\n",
       "      <td>182736.3</td>\n",
       "      <td>172980.0</td>\n",
       "      <td>213294.1</td>\n",
       "      <td>174987.0</td>\n",
       "      <td>125269.3</td>\n",
       "      <td>156748.5</td>\n",
       "      <td>96313.9</td>\n",
       "      <td>79244.6</td>\n",
       "      <td>85059.1</td>\n",
       "    </tr>\n",
       "    <tr>\n",
       "      <th>03</th>\n",
       "      <td>NaN</td>\n",
       "      <td>175121.7</td>\n",
       "      <td>173494.4</td>\n",
       "      <td>150147.8</td>\n",
       "      <td>160943.2</td>\n",
       "      <td>165951.2</td>\n",
       "      <td>218023.0</td>\n",
       "      <td>129232.9</td>\n",
       "      <td>112662.4</td>\n",
       "      <td>87414.9</td>\n",
       "      <td>83039.2</td>\n",
       "      <td>80144.2</td>\n",
       "      <td>74501.7</td>\n",
       "      <td>45764.8</td>\n",
       "      <td>40017.8</td>\n",
       "      <td>33416.2</td>\n",
       "    </tr>\n",
       "    <tr>\n",
       "      <th>04</th>\n",
       "      <td>79398.5</td>\n",
       "      <td>80941.9</td>\n",
       "      <td>73488.4</td>\n",
       "      <td>72059.4</td>\n",
       "      <td>75300.5</td>\n",
       "      <td>70253.8</td>\n",
       "      <td>82763.5</td>\n",
       "      <td>59047.7</td>\n",
       "      <td>34624.2</td>\n",
       "      <td>33202.6</td>\n",
       "      <td>24744.1</td>\n",
       "      <td>26073.8</td>\n",
       "      <td>15184.3</td>\n",
       "      <td>19522.8</td>\n",
       "      <td>15953.7</td>\n",
       "      <td>3707.0</td>\n",
       "    </tr>\n",
       "    <tr>\n",
       "      <th>05</th>\n",
       "      <td>34612.7</td>\n",
       "      <td>21050.0</td>\n",
       "      <td>31259.3</td>\n",
       "      <td>25504.4</td>\n",
       "      <td>24413.4</td>\n",
       "      <td>31366.1</td>\n",
       "      <td>20826.7</td>\n",
       "      <td>19478.5</td>\n",
       "      <td>15500.8</td>\n",
       "      <td>11032.2</td>\n",
       "      <td>9228.3</td>\n",
       "      <td>8696.5</td>\n",
       "      <td>6441.9</td>\n",
       "      <td>6317.4</td>\n",
       "      <td>6801.8</td>\n",
       "      <td>NaN</td>\n",
       "    </tr>\n",
       "    <tr>\n",
       "      <th>06</th>\n",
       "      <td>15556.6</td>\n",
       "      <td>11234.5</td>\n",
       "      <td>17125.3</td>\n",
       "      <td>11958.5</td>\n",
       "      <td>12718.1</td>\n",
       "      <td>14156.3</td>\n",
       "      <td>9904.6</td>\n",
       "      <td>9256.4</td>\n",
       "      <td>7241.2</td>\n",
       "      <td>5807.0</td>\n",
       "      <td>4386.3</td>\n",
       "      <td>5200.4</td>\n",
       "      <td>4013.7</td>\n",
       "      <td>3057.8</td>\n",
       "      <td>2637.3</td>\n",
       "      <td>NaN</td>\n",
       "    </tr>\n",
       "    <tr>\n",
       "      <th>07</th>\n",
       "      <td>14119.5</td>\n",
       "      <td>11111.1</td>\n",
       "      <td>12011.8</td>\n",
       "      <td>10557.5</td>\n",
       "      <td>10502.7</td>\n",
       "      <td>9990.7</td>\n",
       "      <td>7310.0</td>\n",
       "      <td>8369.9</td>\n",
       "      <td>6509.9</td>\n",
       "      <td>4956.2</td>\n",
       "      <td>4046.0</td>\n",
       "      <td>3805.1</td>\n",
       "      <td>2940.0</td>\n",
       "      <td>2719.5</td>\n",
       "      <td>2473.0</td>\n",
       "      <td>NaN</td>\n",
       "    </tr>\n",
       "    <tr>\n",
       "      <th>08</th>\n",
       "      <td>11779.5</td>\n",
       "      <td>11275.8</td>\n",
       "      <td>15320.7</td>\n",
       "      <td>10377.0</td>\n",
       "      <td>10929.2</td>\n",
       "      <td>10741.1</td>\n",
       "      <td>7735.7</td>\n",
       "      <td>7484.1</td>\n",
       "      <td>7771.2</td>\n",
       "      <td>4656.5</td>\n",
       "      <td>4139.5</td>\n",
       "      <td>4255.7</td>\n",
       "      <td>2821.9</td>\n",
       "      <td>2600.3</td>\n",
       "      <td>2078.8</td>\n",
       "      <td>NaN</td>\n",
       "    </tr>\n",
       "    <tr>\n",
       "      <th>09</th>\n",
       "      <td>32728.3</td>\n",
       "      <td>36674.7</td>\n",
       "      <td>35957.2</td>\n",
       "      <td>32421.0</td>\n",
       "      <td>27800.1</td>\n",
       "      <td>19051.1</td>\n",
       "      <td>27519.1</td>\n",
       "      <td>23116.2</td>\n",
       "      <td>20884.1</td>\n",
       "      <td>14450.7</td>\n",
       "      <td>11641.5</td>\n",
       "      <td>11844.0</td>\n",
       "      <td>11246.3</td>\n",
       "      <td>7707.9</td>\n",
       "      <td>6449.1</td>\n",
       "      <td>NaN</td>\n",
       "    </tr>\n",
       "    <tr>\n",
       "      <th>10</th>\n",
       "      <td>111902.4</td>\n",
       "      <td>138345.7</td>\n",
       "      <td>132806.6</td>\n",
       "      <td>108080.9</td>\n",
       "      <td>90912.9</td>\n",
       "      <td>120610.0</td>\n",
       "      <td>113164.0</td>\n",
       "      <td>89070.5</td>\n",
       "      <td>104345.0</td>\n",
       "      <td>57062.6</td>\n",
       "      <td>44367.4</td>\n",
       "      <td>57081.2</td>\n",
       "      <td>45250.7</td>\n",
       "      <td>44640.7</td>\n",
       "      <td>45352.5</td>\n",
       "      <td>NaN</td>\n",
       "    </tr>\n",
       "    <tr>\n",
       "      <th>11</th>\n",
       "      <td>413238.2</td>\n",
       "      <td>443783.8</td>\n",
       "      <td>382149.0</td>\n",
       "      <td>290904.7</td>\n",
       "      <td>407915.5</td>\n",
       "      <td>385489.6</td>\n",
       "      <td>431260.3</td>\n",
       "      <td>294795.9</td>\n",
       "      <td>321663.8</td>\n",
       "      <td>231306.0</td>\n",
       "      <td>223939.9</td>\n",
       "      <td>253901.7</td>\n",
       "      <td>219802.8</td>\n",
       "      <td>197019.8</td>\n",
       "      <td>94746.6</td>\n",
       "      <td>NaN</td>\n",
       "    </tr>\n",
       "    <tr>\n",
       "      <th>12</th>\n",
       "      <td>328458.6</td>\n",
       "      <td>354292.0</td>\n",
       "      <td>346432.3</td>\n",
       "      <td>336732.4</td>\n",
       "      <td>371607.4</td>\n",
       "      <td>363107.5</td>\n",
       "      <td>355446.7</td>\n",
       "      <td>301394.6</td>\n",
       "      <td>271570.1</td>\n",
       "      <td>213349.8</td>\n",
       "      <td>226159.5</td>\n",
       "      <td>238625.0</td>\n",
       "      <td>187917.3</td>\n",
       "      <td>168976.9</td>\n",
       "      <td>134632.1</td>\n",
       "      <td>NaN</td>\n",
       "    </tr>\n",
       "  </tbody>\n",
       "</table>\n",
       "</div>"
      ],
      "text/plain": [
       "year       2006      2007      2008      2009      2010      2011      2012  \\\n",
       "month                                                                         \n",
       "01          NaN  316297.8  308009.9  319591.3  288439.9  344297.5  341035.3   \n",
       "02          NaN  266473.0  255086.1  226840.3  270642.4  197344.1  250013.4   \n",
       "03          NaN  175121.7  173494.4  150147.8  160943.2  165951.2  218023.0   \n",
       "04      79398.5   80941.9   73488.4   72059.4   75300.5   70253.8   82763.5   \n",
       "05      34612.7   21050.0   31259.3   25504.4   24413.4   31366.1   20826.7   \n",
       "06      15556.6   11234.5   17125.3   11958.5   12718.1   14156.3    9904.6   \n",
       "07      14119.5   11111.1   12011.8   10557.5   10502.7    9990.7    7310.0   \n",
       "08      11779.5   11275.8   15320.7   10377.0   10929.2   10741.1    7735.7   \n",
       "09      32728.3   36674.7   35957.2   32421.0   27800.1   19051.1   27519.1   \n",
       "10     111902.4  138345.7  132806.6  108080.9   90912.9  120610.0  113164.0   \n",
       "11     413238.2  443783.8  382149.0  290904.7  407915.5  385489.6  431260.3   \n",
       "12     328458.6  354292.0  346432.3  336732.4  371607.4  363107.5  355446.7   \n",
       "\n",
       "year       2013      2014      2015      2016      2017      2018      2019  \\\n",
       "month                                                                         \n",
       "01     300715.5  319349.5  269650.5  219956.6  197778.5  196652.5  188790.9   \n",
       "02     182736.3  172980.0  213294.1  174987.0  125269.3  156748.5   96313.9   \n",
       "03     129232.9  112662.4   87414.9   83039.2   80144.2   74501.7   45764.8   \n",
       "04      59047.7   34624.2   33202.6   24744.1   26073.8   15184.3   19522.8   \n",
       "05      19478.5   15500.8   11032.2    9228.3    8696.5    6441.9    6317.4   \n",
       "06       9256.4    7241.2    5807.0    4386.3    5200.4    4013.7    3057.8   \n",
       "07       8369.9    6509.9    4956.2    4046.0    3805.1    2940.0    2719.5   \n",
       "08       7484.1    7771.2    4656.5    4139.5    4255.7    2821.9    2600.3   \n",
       "09      23116.2   20884.1   14450.7   11641.5   11844.0   11246.3    7707.9   \n",
       "10      89070.5  104345.0   57062.6   44367.4   57081.2   45250.7   44640.7   \n",
       "11     294795.9  321663.8  231306.0  223939.9  253901.7  219802.8  197019.8   \n",
       "12     301394.6  271570.1  213349.8  226159.5  238625.0  187917.3  168976.9   \n",
       "\n",
       "year       2020      2021  \n",
       "month                      \n",
       "01     127738.4  121173.1  \n",
       "02      79244.6   85059.1  \n",
       "03      40017.8   33416.2  \n",
       "04      15953.7    3707.0  \n",
       "05       6801.8       NaN  \n",
       "06       2637.3       NaN  \n",
       "07       2473.0       NaN  \n",
       "08       2078.8       NaN  \n",
       "09       6449.1       NaN  \n",
       "10      45352.5       NaN  \n",
       "11      94746.6       NaN  \n",
       "12     134632.1       NaN  "
      ]
     },
     "execution_count": 67,
     "metadata": {},
     "output_type": "execute_result"
    }
   ],
   "source": [
    "df = grouped2.reset_index().pivot( 'month','year', 'qty')\n",
    "df"
   ]
  },
  {
   "cell_type": "code",
   "execution_count": 68,
   "metadata": {
    "ExecuteTime": {
     "end_time": "2021-04-25T13:52:00.812946Z",
     "start_time": "2021-04-25T13:52:00.512247Z"
    }
   },
   "outputs": [
    {
     "data": {
      "image/png": "[encoded data removed]",
      "text/plain": [
       "<Figure size 576x288 with 2 Axes>"
      ]
     },
     "metadata": {
      "needs_background": "light"
     },
     "output_type": "display_data"
    }
   ],
   "source": [
    "plt.figure(figsize =(8,4))\n",
    "plt.pcolor(df)\n",
    "plt.xticks(np.arange(0.5, len(df.columns), 1), df.columns)\n",
    "plt.yticks(np.arange(0.5, len(df.index), 1), df.index)\n",
    "plt.title('Quantity of Oyster', fontsize=20)\n",
    "plt.xlabel('Year', fontsize=14)\n",
    "plt.ylabel('Month', fontsize=14)\n",
    "plt.colorbar()\n",
    "\n",
    "plt.show()\n"
   ]
  },
  {
   "cell_type": "code",
   "execution_count": 70,
   "metadata": {
    "ExecuteTime": {
     "end_time": "2021-04-25T13:52:12.768339Z",
     "start_time": "2021-04-25T13:52:12.726444Z"
    }
   },
   "outputs": [
    {
     "data": {
      "text/html": [
       "<div>\n",
       "<style scoped>\n",
       "    .dataframe tbody tr th:only-of-type {\n",
       "        vertical-align: middle;\n",
       "    }\n",
       "\n",
       "    .dataframe tbody tr th {\n",
       "        vertical-align: top;\n",
       "    }\n",
       "\n",
       "    .dataframe thead th {\n",
       "        text-align: right;\n",
       "    }\n",
       "</style>\n",
       "<table border=\"1\" class=\"dataframe\">\n",
       "  <thead>\n",
       "    <tr style=\"text-align: right;\">\n",
       "      <th>year</th>\n",
       "      <th>2006</th>\n",
       "      <th>2007</th>\n",
       "      <th>2008</th>\n",
       "      <th>2009</th>\n",
       "      <th>2010</th>\n",
       "      <th>2011</th>\n",
       "      <th>2012</th>\n",
       "      <th>2013</th>\n",
       "      <th>2014</th>\n",
       "      <th>2015</th>\n",
       "      <th>2016</th>\n",
       "      <th>2017</th>\n",
       "      <th>2018</th>\n",
       "      <th>2019</th>\n",
       "      <th>2020</th>\n",
       "      <th>2021</th>\n",
       "    </tr>\n",
       "    <tr>\n",
       "      <th>month</th>\n",
       "      <th></th>\n",
       "      <th></th>\n",
       "      <th></th>\n",
       "      <th></th>\n",
       "      <th></th>\n",
       "      <th></th>\n",
       "      <th></th>\n",
       "      <th></th>\n",
       "      <th></th>\n",
       "      <th></th>\n",
       "      <th></th>\n",
       "      <th></th>\n",
       "      <th></th>\n",
       "      <th></th>\n",
       "      <th></th>\n",
       "      <th></th>\n",
       "    </tr>\n",
       "  </thead>\n",
       "  <tbody>\n",
       "    <tr>\n",
       "      <th>01</th>\n",
       "      <td>NaN</td>\n",
       "      <td>4944.34</td>\n",
       "      <td>4761.71</td>\n",
       "      <td>7637.03</td>\n",
       "      <td>6550.00</td>\n",
       "      <td>8030.88</td>\n",
       "      <td>7590.75</td>\n",
       "      <td>6010.28</td>\n",
       "      <td>7589.58</td>\n",
       "      <td>6841.69</td>\n",
       "      <td>8843.49</td>\n",
       "      <td>8835.77</td>\n",
       "      <td>6928.24</td>\n",
       "      <td>7871.08</td>\n",
       "      <td>9092.51</td>\n",
       "      <td>9193.63</td>\n",
       "    </tr>\n",
       "    <tr>\n",
       "      <th>02</th>\n",
       "      <td>NaN</td>\n",
       "      <td>5254.82</td>\n",
       "      <td>5093.07</td>\n",
       "      <td>6407.75</td>\n",
       "      <td>7231.89</td>\n",
       "      <td>7227.96</td>\n",
       "      <td>6398.97</td>\n",
       "      <td>5004.86</td>\n",
       "      <td>6827.18</td>\n",
       "      <td>7068.74</td>\n",
       "      <td>7659.27</td>\n",
       "      <td>5890.84</td>\n",
       "      <td>7603.04</td>\n",
       "      <td>7315.19</td>\n",
       "      <td>8143.48</td>\n",
       "      <td>8785.29</td>\n",
       "    </tr>\n",
       "    <tr>\n",
       "      <th>03</th>\n",
       "      <td>NaN</td>\n",
       "      <td>4707.51</td>\n",
       "      <td>4380.56</td>\n",
       "      <td>6556.24</td>\n",
       "      <td>6209.89</td>\n",
       "      <td>6429.64</td>\n",
       "      <td>5698.77</td>\n",
       "      <td>4238.02</td>\n",
       "      <td>6518.81</td>\n",
       "      <td>6486.79</td>\n",
       "      <td>7447.35</td>\n",
       "      <td>5166.34</td>\n",
       "      <td>6264.94</td>\n",
       "      <td>7053.08</td>\n",
       "      <td>8750.54</td>\n",
       "      <td>7527.60</td>\n",
       "    </tr>\n",
       "    <tr>\n",
       "      <th>04</th>\n",
       "      <td>4936.02</td>\n",
       "      <td>4527.44</td>\n",
       "      <td>4672.05</td>\n",
       "      <td>6051.80</td>\n",
       "      <td>5776.43</td>\n",
       "      <td>6300.24</td>\n",
       "      <td>5106.26</td>\n",
       "      <td>4348.35</td>\n",
       "      <td>6689.52</td>\n",
       "      <td>6345.41</td>\n",
       "      <td>6598.09</td>\n",
       "      <td>5036.64</td>\n",
       "      <td>6219.59</td>\n",
       "      <td>6929.28</td>\n",
       "      <td>7416.12</td>\n",
       "      <td>6674.00</td>\n",
       "    </tr>\n",
       "    <tr>\n",
       "      <th>05</th>\n",
       "      <td>5231.31</td>\n",
       "      <td>4808.74</td>\n",
       "      <td>4939.38</td>\n",
       "      <td>7133.33</td>\n",
       "      <td>6192.42</td>\n",
       "      <td>7142.72</td>\n",
       "      <td>4951.00</td>\n",
       "      <td>4777.04</td>\n",
       "      <td>6955.69</td>\n",
       "      <td>7498.62</td>\n",
       "      <td>7069.62</td>\n",
       "      <td>5342.36</td>\n",
       "      <td>6541.66</td>\n",
       "      <td>7829.12</td>\n",
       "      <td>6400.26</td>\n",
       "      <td>NaN</td>\n",
       "    </tr>\n",
       "    <tr>\n",
       "      <th>06</th>\n",
       "      <td>5587.33</td>\n",
       "      <td>5716.24</td>\n",
       "      <td>5829.88</td>\n",
       "      <td>8122.14</td>\n",
       "      <td>6788.65</td>\n",
       "      <td>8324.84</td>\n",
       "      <td>6414.86</td>\n",
       "      <td>5528.58</td>\n",
       "      <td>7977.24</td>\n",
       "      <td>8889.75</td>\n",
       "      <td>7353.73</td>\n",
       "      <td>6428.37</td>\n",
       "      <td>7046.24</td>\n",
       "      <td>10102.76</td>\n",
       "      <td>8821.51</td>\n",
       "      <td>NaN</td>\n",
       "    </tr>\n",
       "    <tr>\n",
       "      <th>07</th>\n",
       "      <td>5494.06</td>\n",
       "      <td>5213.10</td>\n",
       "      <td>5303.99</td>\n",
       "      <td>6193.26</td>\n",
       "      <td>6158.18</td>\n",
       "      <td>6710.59</td>\n",
       "      <td>6377.66</td>\n",
       "      <td>4663.88</td>\n",
       "      <td>6652.19</td>\n",
       "      <td>8515.53</td>\n",
       "      <td>6424.57</td>\n",
       "      <td>4666.43</td>\n",
       "      <td>7111.59</td>\n",
       "      <td>9641.66</td>\n",
       "      <td>8764.58</td>\n",
       "      <td>NaN</td>\n",
       "    </tr>\n",
       "    <tr>\n",
       "      <th>08</th>\n",
       "      <td>5889.41</td>\n",
       "      <td>5504.72</td>\n",
       "      <td>6432.03</td>\n",
       "      <td>6575.02</td>\n",
       "      <td>6975.91</td>\n",
       "      <td>7910.20</td>\n",
       "      <td>6642.91</td>\n",
       "      <td>4972.57</td>\n",
       "      <td>8094.07</td>\n",
       "      <td>9900.73</td>\n",
       "      <td>7174.28</td>\n",
       "      <td>6884.24</td>\n",
       "      <td>7309.68</td>\n",
       "      <td>9652.92</td>\n",
       "      <td>7536.39</td>\n",
       "      <td>NaN</td>\n",
       "    </tr>\n",
       "    <tr>\n",
       "      <th>09</th>\n",
       "      <td>5988.83</td>\n",
       "      <td>5294.71</td>\n",
       "      <td>6268.87</td>\n",
       "      <td>6195.88</td>\n",
       "      <td>6844.76</td>\n",
       "      <td>8955.13</td>\n",
       "      <td>7220.43</td>\n",
       "      <td>5579.93</td>\n",
       "      <td>7501.94</td>\n",
       "      <td>9060.45</td>\n",
       "      <td>8120.85</td>\n",
       "      <td>6460.74</td>\n",
       "      <td>7435.11</td>\n",
       "      <td>8600.76</td>\n",
       "      <td>9500.60</td>\n",
       "      <td>NaN</td>\n",
       "    </tr>\n",
       "    <tr>\n",
       "      <th>10</th>\n",
       "      <td>6193.19</td>\n",
       "      <td>4952.97</td>\n",
       "      <td>6553.43</td>\n",
       "      <td>8266.41</td>\n",
       "      <td>7384.57</td>\n",
       "      <td>8179.71</td>\n",
       "      <td>7043.02</td>\n",
       "      <td>7696.24</td>\n",
       "      <td>8569.88</td>\n",
       "      <td>9102.48</td>\n",
       "      <td>8386.30</td>\n",
       "      <td>8062.15</td>\n",
       "      <td>8870.08</td>\n",
       "      <td>8513.82</td>\n",
       "      <td>11017.58</td>\n",
       "      <td>NaN</td>\n",
       "    </tr>\n",
       "    <tr>\n",
       "      <th>11</th>\n",
       "      <td>9521.17</td>\n",
       "      <td>7721.41</td>\n",
       "      <td>10624.86</td>\n",
       "      <td>11623.89</td>\n",
       "      <td>10310.11</td>\n",
       "      <td>10588.56</td>\n",
       "      <td>9825.75</td>\n",
       "      <td>10790.71</td>\n",
       "      <td>11026.08</td>\n",
       "      <td>11337.99</td>\n",
       "      <td>11412.42</td>\n",
       "      <td>10571.30</td>\n",
       "      <td>10990.63</td>\n",
       "      <td>10883.37</td>\n",
       "      <td>13048.79</td>\n",
       "      <td>NaN</td>\n",
       "    </tr>\n",
       "    <tr>\n",
       "      <th>12</th>\n",
       "      <td>7473.42</td>\n",
       "      <td>6071.24</td>\n",
       "      <td>7724.58</td>\n",
       "      <td>8555.58</td>\n",
       "      <td>9235.43</td>\n",
       "      <td>8485.39</td>\n",
       "      <td>8488.73</td>\n",
       "      <td>8204.70</td>\n",
       "      <td>10264.20</td>\n",
       "      <td>11009.63</td>\n",
       "      <td>10523.73</td>\n",
       "      <td>9688.57</td>\n",
       "      <td>11008.27</td>\n",
       "      <td>10587.64</td>\n",
       "      <td>11078.21</td>\n",
       "      <td>NaN</td>\n",
       "    </tr>\n",
       "  </tbody>\n",
       "</table>\n",
       "</div>"
      ],
      "text/plain": [
       "year      2006     2007      2008      2009      2010      2011     2012  \\\n",
       "month                                                                      \n",
       "01         NaN  4944.34   4761.71   7637.03   6550.00   8030.88  7590.75   \n",
       "02         NaN  5254.82   5093.07   6407.75   7231.89   7227.96  6398.97   \n",
       "03         NaN  4707.51   4380.56   6556.24   6209.89   6429.64  5698.77   \n",
       "04     4936.02  4527.44   4672.05   6051.80   5776.43   6300.24  5106.26   \n",
       "05     5231.31  4808.74   4939.38   7133.33   6192.42   7142.72  4951.00   \n",
       "06     5587.33  5716.24   5829.88   8122.14   6788.65   8324.84  6414.86   \n",
       "07     5494.06  5213.10   5303.99   6193.26   6158.18   6710.59  6377.66   \n",
       "08     5889.41  5504.72   6432.03   6575.02   6975.91   7910.20  6642.91   \n",
       "09     5988.83  5294.71   6268.87   6195.88   6844.76   8955.13  7220.43   \n",
       "10     6193.19  4952.97   6553.43   8266.41   7384.57   8179.71  7043.02   \n",
       "11     9521.17  7721.41  10624.86  11623.89  10310.11  10588.56  9825.75   \n",
       "12     7473.42  6071.24   7724.58   8555.58   9235.43   8485.39  8488.73   \n",
       "\n",
       "year       2013      2014      2015      2016      2017      2018      2019  \\\n",
       "month                                                                         \n",
       "01      6010.28   7589.58   6841.69   8843.49   8835.77   6928.24   7871.08   \n",
       "02      5004.86   6827.18   7068.74   7659.27   5890.84   7603.04   7315.19   \n",
       "03      4238.02   6518.81   6486.79   7447.35   5166.34   6264.94   7053.08   \n",
       "04      4348.35   6689.52   6345.41   6598.09   5036.64   6219.59   6929.28   \n",
       "05      4777.04   6955.69   7498.62   7069.62   5342.36   6541.66   7829.12   \n",
       "06      5528.58   7977.24   8889.75   7353.73   6428.37   7046.24  10102.76   \n",
       "07      4663.88   6652.19   8515.53   6424.57   4666.43   7111.59   9641.66   \n",
       "08      4972.57   8094.07   9900.73   7174.28   6884.24   7309.68   9652.92   \n",
       "09      5579.93   7501.94   9060.45   8120.85   6460.74   7435.11   8600.76   \n",
       "10      7696.24   8569.88   9102.48   8386.30   8062.15   8870.08   8513.82   \n",
       "11     10790.71  11026.08  11337.99  11412.42  10571.30  10990.63  10883.37   \n",
       "12      8204.70  10264.20  11009.63  10523.73   9688.57  11008.27  10587.64   \n",
       "\n",
       "year       2020     2021  \n",
       "month                     \n",
       "01      9092.51  9193.63  \n",
       "02      8143.48  8785.29  \n",
       "03      8750.54  7527.60  \n",
       "04      7416.12  6674.00  \n",
       "05      6400.26      NaN  \n",
       "06      8821.51      NaN  \n",
       "07      8764.58      NaN  \n",
       "08      7536.39      NaN  \n",
       "09      9500.60      NaN  \n",
       "10     11017.58      NaN  \n",
       "11     13048.79      NaN  \n",
       "12     11078.21      NaN  "
      ]
     },
     "execution_count": 70,
     "metadata": {},
     "output_type": "execute_result"
    }
   ],
   "source": [
    "df1 = grouped2.reset_index().pivot( 'month','year', '1kg price')\n",
    "df1"
   ]
  },
  {
   "cell_type": "code",
   "execution_count": 71,
   "metadata": {
    "ExecuteTime": {
     "end_time": "2021-04-25T13:52:22.941458Z",
     "start_time": "2021-04-25T13:52:22.602765Z"
    }
   },
   "outputs": [
    {
     "data": {
      "image/png": "[encoded data removed]",
      "text/plain": [
       "<Figure size 576x288 with 2 Axes>"
      ]
     },
     "metadata": {
      "needs_background": "light"
     },
     "output_type": "display_data"
    }
   ],
   "source": [
    "plt.figure(figsize =(8,4))\n",
    "plt.pcolor(df1)\n",
    "plt.xticks(np.arange(0.5, len(df1.columns), 1), df.columns)\n",
    "plt.yticks(np.arange(0.5, len(df1.index), 1), df.index)\n",
    "plt.title('Price(kg) of Oyster', fontsize=20)\n",
    "plt.xlabel('Month', fontsize=14)\n",
    "plt.ylabel('Year', fontsize=14)\n",
    "plt.colorbar()\n",
    "\n",
    "plt.show()\n"
   ]
  },
  {
   "cell_type": "code",
   "execution_count": 72,
   "metadata": {
    "ExecuteTime": {
     "end_time": "2021-04-25T13:52:41.838736Z",
     "start_time": "2021-04-25T13:52:41.801142Z"
    }
   },
   "outputs": [
    {
     "data": {
      "text/html": [
       "<div>\n",
       "<style scoped>\n",
       "    .dataframe tbody tr th:only-of-type {\n",
       "        vertical-align: middle;\n",
       "    }\n",
       "\n",
       "    .dataframe tbody tr th {\n",
       "        vertical-align: top;\n",
       "    }\n",
       "\n",
       "    .dataframe thead th {\n",
       "        text-align: right;\n",
       "    }\n",
       "</style>\n",
       "<table border=\"1\" class=\"dataframe\">\n",
       "  <thead>\n",
       "    <tr style=\"text-align: right;\">\n",
       "      <th></th>\n",
       "      <th>from</th>\n",
       "      <th>qty</th>\n",
       "      <th>1kg price</th>\n",
       "      <th>temp</th>\n",
       "      <th>date</th>\n",
       "      <th>year</th>\n",
       "      <th>month</th>\n",
       "      <th>day</th>\n",
       "      <th>date2</th>\n",
       "    </tr>\n",
       "  </thead>\n",
       "  <tbody>\n",
       "    <tr>\n",
       "      <th>0</th>\n",
       "      <td>통영</td>\n",
       "      <td>254.0</td>\n",
       "      <td>3200.00</td>\n",
       "      <td>12.075</td>\n",
       "      <td>2006.04.05</td>\n",
       "      <td>2006</td>\n",
       "      <td>04</td>\n",
       "      <td>05</td>\n",
       "      <td>2006.04</td>\n",
       "    </tr>\n",
       "    <tr>\n",
       "      <th>1</th>\n",
       "      <td>통영</td>\n",
       "      <td>535.2</td>\n",
       "      <td>4000.00</td>\n",
       "      <td>12.075</td>\n",
       "      <td>2006.04.05</td>\n",
       "      <td>2006</td>\n",
       "      <td>04</td>\n",
       "      <td>05</td>\n",
       "      <td>2006.04</td>\n",
       "    </tr>\n",
       "    <tr>\n",
       "      <th>2</th>\n",
       "      <td>통영</td>\n",
       "      <td>70.0</td>\n",
       "      <td>4285.71</td>\n",
       "      <td>12.075</td>\n",
       "      <td>2006.04.05</td>\n",
       "      <td>2006</td>\n",
       "      <td>04</td>\n",
       "      <td>05</td>\n",
       "      <td>2006.04</td>\n",
       "    </tr>\n",
       "    <tr>\n",
       "      <th>3</th>\n",
       "      <td>통영</td>\n",
       "      <td>194.7</td>\n",
       "      <td>4454.55</td>\n",
       "      <td>12.075</td>\n",
       "      <td>2006.04.05</td>\n",
       "      <td>2006</td>\n",
       "      <td>04</td>\n",
       "      <td>05</td>\n",
       "      <td>2006.04</td>\n",
       "    </tr>\n",
       "    <tr>\n",
       "      <th>4</th>\n",
       "      <td>통영</td>\n",
       "      <td>493.0</td>\n",
       "      <td>3941.18</td>\n",
       "      <td>12.075</td>\n",
       "      <td>2006.04.05</td>\n",
       "      <td>2006</td>\n",
       "      <td>04</td>\n",
       "      <td>05</td>\n",
       "      <td>2006.04</td>\n",
       "    </tr>\n",
       "    <tr>\n",
       "      <th>...</th>\n",
       "      <td>...</td>\n",
       "      <td>...</td>\n",
       "      <td>...</td>\n",
       "      <td>...</td>\n",
       "      <td>...</td>\n",
       "      <td>...</td>\n",
       "      <td>...</td>\n",
       "      <td>...</td>\n",
       "      <td>...</td>\n",
       "    </tr>\n",
       "    <tr>\n",
       "      <th>65512</th>\n",
       "      <td>삼천포</td>\n",
       "      <td>2.0</td>\n",
       "      <td>3100.00</td>\n",
       "      <td>13.150</td>\n",
       "      <td>2021.04.02</td>\n",
       "      <td>2021</td>\n",
       "      <td>04</td>\n",
       "      <td>02</td>\n",
       "      <td>2021.04</td>\n",
       "    </tr>\n",
       "    <tr>\n",
       "      <th>65513</th>\n",
       "      <td>삼천포</td>\n",
       "      <td>3.6</td>\n",
       "      <td>7833.33</td>\n",
       "      <td>13.150</td>\n",
       "      <td>2021.04.02</td>\n",
       "      <td>2021</td>\n",
       "      <td>04</td>\n",
       "      <td>02</td>\n",
       "      <td>2021.04</td>\n",
       "    </tr>\n",
       "    <tr>\n",
       "      <th>65514</th>\n",
       "      <td>삼천포</td>\n",
       "      <td>22.8</td>\n",
       "      <td>6894.74</td>\n",
       "      <td>13.325</td>\n",
       "      <td>2021.04.05</td>\n",
       "      <td>2021</td>\n",
       "      <td>04</td>\n",
       "      <td>05</td>\n",
       "      <td>2021.04</td>\n",
       "    </tr>\n",
       "    <tr>\n",
       "      <th>65515</th>\n",
       "      <td>삼천포</td>\n",
       "      <td>30.0</td>\n",
       "      <td>6700.00</td>\n",
       "      <td>13.350</td>\n",
       "      <td>2021.04.06</td>\n",
       "      <td>2021</td>\n",
       "      <td>04</td>\n",
       "      <td>06</td>\n",
       "      <td>2021.04</td>\n",
       "    </tr>\n",
       "    <tr>\n",
       "      <th>65516</th>\n",
       "      <td>삼천포</td>\n",
       "      <td>14.0</td>\n",
       "      <td>6550.00</td>\n",
       "      <td>13.425</td>\n",
       "      <td>2021.04.07</td>\n",
       "      <td>2021</td>\n",
       "      <td>04</td>\n",
       "      <td>07</td>\n",
       "      <td>2021.04</td>\n",
       "    </tr>\n",
       "  </tbody>\n",
       "</table>\n",
       "<p>65517 rows × 9 columns</p>\n",
       "</div>"
      ],
      "text/plain": [
       "      from    qty  1kg price    temp        date  year month day    date2\n",
       "0       통영  254.0    3200.00  12.075  2006.04.05  2006    04  05  2006.04\n",
       "1       통영  535.2    4000.00  12.075  2006.04.05  2006    04  05  2006.04\n",
       "2       통영   70.0    4285.71  12.075  2006.04.05  2006    04  05  2006.04\n",
       "3       통영  194.7    4454.55  12.075  2006.04.05  2006    04  05  2006.04\n",
       "4       통영  493.0    3941.18  12.075  2006.04.05  2006    04  05  2006.04\n",
       "...    ...    ...        ...     ...         ...   ...   ...  ..      ...\n",
       "65512  삼천포    2.0    3100.00  13.150  2021.04.02  2021    04  02  2021.04\n",
       "65513  삼천포    3.6    7833.33  13.150  2021.04.02  2021    04  02  2021.04\n",
       "65514  삼천포   22.8    6894.74  13.325  2021.04.05  2021    04  05  2021.04\n",
       "65515  삼천포   30.0    6700.00  13.350  2021.04.06  2021    04  06  2021.04\n",
       "65516  삼천포   14.0    6550.00  13.425  2021.04.07  2021    04  07  2021.04\n",
       "\n",
       "[65517 rows x 9 columns]"
      ]
     },
     "execution_count": 72,
     "metadata": {},
     "output_type": "execute_result"
    }
   ],
   "source": [
    "data_lr"
   ]
  },
  {
   "cell_type": "markdown",
   "metadata": {},
   "source": [
    "# 1kg price만을 이용해 시계열 데이터 처리 및 선형회귀 분석"
   ]
  },
  {
   "cell_type": "code",
   "execution_count": 102,
   "metadata": {
    "ExecuteTime": {
     "end_time": "2021-04-25T14:04:22.063804Z",
     "start_time": "2021-04-25T14:04:22.020117Z"
    }
   },
   "outputs": [
    {
     "data": {
      "text/html": [
       "<div>\n",
       "<style scoped>\n",
       "    .dataframe tbody tr th:only-of-type {\n",
       "        vertical-align: middle;\n",
       "    }\n",
       "\n",
       "    .dataframe tbody tr th {\n",
       "        vertical-align: top;\n",
       "    }\n",
       "\n",
       "    .dataframe thead th {\n",
       "        text-align: right;\n",
       "    }\n",
       "</style>\n",
       "<table border=\"1\" class=\"dataframe\">\n",
       "  <thead>\n",
       "    <tr style=\"text-align: right;\">\n",
       "      <th></th>\n",
       "      <th>from</th>\n",
       "      <th>qty</th>\n",
       "      <th>1kg price</th>\n",
       "      <th>temp</th>\n",
       "      <th>date</th>\n",
       "      <th>year</th>\n",
       "      <th>month</th>\n",
       "      <th>day</th>\n",
       "      <th>date2</th>\n",
       "    </tr>\n",
       "  </thead>\n",
       "  <tbody>\n",
       "    <tr>\n",
       "      <th>0</th>\n",
       "      <td>통영</td>\n",
       "      <td>254.0</td>\n",
       "      <td>3200.00</td>\n",
       "      <td>12.075</td>\n",
       "      <td>2006.04.05</td>\n",
       "      <td>2006</td>\n",
       "      <td>04</td>\n",
       "      <td>05</td>\n",
       "      <td>2006.04</td>\n",
       "    </tr>\n",
       "    <tr>\n",
       "      <th>1</th>\n",
       "      <td>통영</td>\n",
       "      <td>535.2</td>\n",
       "      <td>4000.00</td>\n",
       "      <td>12.075</td>\n",
       "      <td>2006.04.05</td>\n",
       "      <td>2006</td>\n",
       "      <td>04</td>\n",
       "      <td>05</td>\n",
       "      <td>2006.04</td>\n",
       "    </tr>\n",
       "    <tr>\n",
       "      <th>2</th>\n",
       "      <td>통영</td>\n",
       "      <td>70.0</td>\n",
       "      <td>4285.71</td>\n",
       "      <td>12.075</td>\n",
       "      <td>2006.04.05</td>\n",
       "      <td>2006</td>\n",
       "      <td>04</td>\n",
       "      <td>05</td>\n",
       "      <td>2006.04</td>\n",
       "    </tr>\n",
       "    <tr>\n",
       "      <th>3</th>\n",
       "      <td>통영</td>\n",
       "      <td>194.7</td>\n",
       "      <td>4454.55</td>\n",
       "      <td>12.075</td>\n",
       "      <td>2006.04.05</td>\n",
       "      <td>2006</td>\n",
       "      <td>04</td>\n",
       "      <td>05</td>\n",
       "      <td>2006.04</td>\n",
       "    </tr>\n",
       "    <tr>\n",
       "      <th>4</th>\n",
       "      <td>통영</td>\n",
       "      <td>493.0</td>\n",
       "      <td>3941.18</td>\n",
       "      <td>12.075</td>\n",
       "      <td>2006.04.05</td>\n",
       "      <td>2006</td>\n",
       "      <td>04</td>\n",
       "      <td>05</td>\n",
       "      <td>2006.04</td>\n",
       "    </tr>\n",
       "    <tr>\n",
       "      <th>...</th>\n",
       "      <td>...</td>\n",
       "      <td>...</td>\n",
       "      <td>...</td>\n",
       "      <td>...</td>\n",
       "      <td>...</td>\n",
       "      <td>...</td>\n",
       "      <td>...</td>\n",
       "      <td>...</td>\n",
       "      <td>...</td>\n",
       "    </tr>\n",
       "    <tr>\n",
       "      <th>65512</th>\n",
       "      <td>삼천포</td>\n",
       "      <td>2.0</td>\n",
       "      <td>3100.00</td>\n",
       "      <td>13.150</td>\n",
       "      <td>2021.04.02</td>\n",
       "      <td>2021</td>\n",
       "      <td>04</td>\n",
       "      <td>02</td>\n",
       "      <td>2021.04</td>\n",
       "    </tr>\n",
       "    <tr>\n",
       "      <th>65513</th>\n",
       "      <td>삼천포</td>\n",
       "      <td>3.6</td>\n",
       "      <td>7833.33</td>\n",
       "      <td>13.150</td>\n",
       "      <td>2021.04.02</td>\n",
       "      <td>2021</td>\n",
       "      <td>04</td>\n",
       "      <td>02</td>\n",
       "      <td>2021.04</td>\n",
       "    </tr>\n",
       "    <tr>\n",
       "      <th>65514</th>\n",
       "      <td>삼천포</td>\n",
       "      <td>22.8</td>\n",
       "      <td>6894.74</td>\n",
       "      <td>13.325</td>\n",
       "      <td>2021.04.05</td>\n",
       "      <td>2021</td>\n",
       "      <td>04</td>\n",
       "      <td>05</td>\n",
       "      <td>2021.04</td>\n",
       "    </tr>\n",
       "    <tr>\n",
       "      <th>65515</th>\n",
       "      <td>삼천포</td>\n",
       "      <td>30.0</td>\n",
       "      <td>6700.00</td>\n",
       "      <td>13.350</td>\n",
       "      <td>2021.04.06</td>\n",
       "      <td>2021</td>\n",
       "      <td>04</td>\n",
       "      <td>06</td>\n",
       "      <td>2021.04</td>\n",
       "    </tr>\n",
       "    <tr>\n",
       "      <th>65516</th>\n",
       "      <td>삼천포</td>\n",
       "      <td>14.0</td>\n",
       "      <td>6550.00</td>\n",
       "      <td>13.425</td>\n",
       "      <td>2021.04.07</td>\n",
       "      <td>2021</td>\n",
       "      <td>04</td>\n",
       "      <td>07</td>\n",
       "      <td>2021.04</td>\n",
       "    </tr>\n",
       "  </tbody>\n",
       "</table>\n",
       "<p>65517 rows × 9 columns</p>\n",
       "</div>"
      ],
      "text/plain": [
       "      from    qty  1kg price    temp        date  year month day    date2\n",
       "0       통영  254.0    3200.00  12.075  2006.04.05  2006    04  05  2006.04\n",
       "1       통영  535.2    4000.00  12.075  2006.04.05  2006    04  05  2006.04\n",
       "2       통영   70.0    4285.71  12.075  2006.04.05  2006    04  05  2006.04\n",
       "3       통영  194.7    4454.55  12.075  2006.04.05  2006    04  05  2006.04\n",
       "4       통영  493.0    3941.18  12.075  2006.04.05  2006    04  05  2006.04\n",
       "...    ...    ...        ...     ...         ...   ...   ...  ..      ...\n",
       "65512  삼천포    2.0    3100.00  13.150  2021.04.02  2021    04  02  2021.04\n",
       "65513  삼천포    3.6    7833.33  13.150  2021.04.02  2021    04  02  2021.04\n",
       "65514  삼천포   22.8    6894.74  13.325  2021.04.05  2021    04  05  2021.04\n",
       "65515  삼천포   30.0    6700.00  13.350  2021.04.06  2021    04  06  2021.04\n",
       "65516  삼천포   14.0    6550.00  13.425  2021.04.07  2021    04  07  2021.04\n",
       "\n",
       "[65517 rows x 9 columns]"
      ]
     },
     "execution_count": 102,
     "metadata": {},
     "output_type": "execute_result"
    }
   ],
   "source": [
    "data_lr"
   ]
  },
  {
   "cell_type": "code",
   "execution_count": 128,
   "metadata": {
    "ExecuteTime": {
     "end_time": "2021-04-25T15:11:14.412651Z",
     "start_time": "2021-04-25T15:11:14.352048Z"
    },
    "scrolled": true
   },
   "outputs": [
    {
     "data": {
      "text/html": [
       "<div>\n",
       "<style scoped>\n",
       "    .dataframe tbody tr th:only-of-type {\n",
       "        vertical-align: middle;\n",
       "    }\n",
       "\n",
       "    .dataframe tbody tr th {\n",
       "        vertical-align: top;\n",
       "    }\n",
       "\n",
       "    .dataframe thead th {\n",
       "        text-align: right;\n",
       "    }\n",
       "</style>\n",
       "<table border=\"1\" class=\"dataframe\">\n",
       "  <thead>\n",
       "    <tr style=\"text-align: right;\">\n",
       "      <th></th>\n",
       "      <th>qty</th>\n",
       "      <th>1kg price</th>\n",
       "    </tr>\n",
       "    <tr>\n",
       "      <th>date2</th>\n",
       "      <th></th>\n",
       "      <th></th>\n",
       "    </tr>\n",
       "  </thead>\n",
       "  <tbody>\n",
       "    <tr>\n",
       "      <th>2006.04</th>\n",
       "      <td>79398.5</td>\n",
       "      <td>4936.02</td>\n",
       "    </tr>\n",
       "    <tr>\n",
       "      <th>2006.05</th>\n",
       "      <td>34612.7</td>\n",
       "      <td>5231.31</td>\n",
       "    </tr>\n",
       "    <tr>\n",
       "      <th>2006.06</th>\n",
       "      <td>15556.6</td>\n",
       "      <td>5587.33</td>\n",
       "    </tr>\n",
       "    <tr>\n",
       "      <th>2006.07</th>\n",
       "      <td>14119.5</td>\n",
       "      <td>5494.06</td>\n",
       "    </tr>\n",
       "    <tr>\n",
       "      <th>2006.08</th>\n",
       "      <td>11779.5</td>\n",
       "      <td>5889.41</td>\n",
       "    </tr>\n",
       "    <tr>\n",
       "      <th>...</th>\n",
       "      <td>...</td>\n",
       "      <td>...</td>\n",
       "    </tr>\n",
       "    <tr>\n",
       "      <th>2020.12</th>\n",
       "      <td>134632.1</td>\n",
       "      <td>11078.21</td>\n",
       "    </tr>\n",
       "    <tr>\n",
       "      <th>2021.01</th>\n",
       "      <td>121173.1</td>\n",
       "      <td>9193.63</td>\n",
       "    </tr>\n",
       "    <tr>\n",
       "      <th>2021.02</th>\n",
       "      <td>85059.1</td>\n",
       "      <td>8785.29</td>\n",
       "    </tr>\n",
       "    <tr>\n",
       "      <th>2021.03</th>\n",
       "      <td>33416.2</td>\n",
       "      <td>7527.60</td>\n",
       "    </tr>\n",
       "    <tr>\n",
       "      <th>2021.04</th>\n",
       "      <td>3707.0</td>\n",
       "      <td>6674.00</td>\n",
       "    </tr>\n",
       "  </tbody>\n",
       "</table>\n",
       "<p>181 rows × 2 columns</p>\n",
       "</div>"
      ],
      "text/plain": [
       "              qty  1kg price\n",
       "date2                       \n",
       "2006.04   79398.5    4936.02\n",
       "2006.05   34612.7    5231.31\n",
       "2006.06   15556.6    5587.33\n",
       "2006.07   14119.5    5494.06\n",
       "2006.08   11779.5    5889.41\n",
       "...           ...        ...\n",
       "2020.12  134632.1   11078.21\n",
       "2021.01  121173.1    9193.63\n",
       "2021.02   85059.1    8785.29\n",
       "2021.03   33416.2    7527.60\n",
       "2021.04    3707.0    6674.00\n",
       "\n",
       "[181 rows x 2 columns]"
      ]
     },
     "execution_count": 128,
     "metadata": {},
     "output_type": "execute_result"
    }
   ],
   "source": [
    "group = data_lr.groupby(['date2'])\n",
    "grouped_lr = group.agg({'qty':'sum','1kg price':'mean'}).round(2)\n",
    "grouped_lr"
   ]
  },
  {
   "cell_type": "code",
   "execution_count": 132,
   "metadata": {
    "ExecuteTime": {
     "end_time": "2021-04-25T15:11:48.462569Z",
     "start_time": "2021-04-25T15:11:48.450845Z"
    }
   },
   "outputs": [],
   "source": [
    "y= grouped_lr['1kg price'].values"
   ]
  },
  {
   "cell_type": "code",
   "execution_count": 133,
   "metadata": {
    "ExecuteTime": {
     "end_time": "2021-04-25T15:11:49.722097Z",
     "start_time": "2021-04-25T15:11:49.712626Z"
    }
   },
   "outputs": [
    {
     "data": {
      "text/plain": [
       "135"
      ]
     },
     "execution_count": 133,
     "metadata": {},
     "output_type": "execute_result"
    }
   ],
   "source": [
    "ratio = 0.75\n",
    "cut = np.int(len(y)*ratio)\n",
    "cut"
   ]
  },
  {
   "cell_type": "code",
   "execution_count": 134,
   "metadata": {
    "ExecuteTime": {
     "end_time": "2021-04-25T15:11:54.830044Z",
     "start_time": "2021-04-25T15:11:54.812045Z"
    }
   },
   "outputs": [
    {
     "data": {
      "text/plain": [
       "(181, 135)"
      ]
     },
     "execution_count": 134,
     "metadata": {},
     "output_type": "execute_result"
    }
   ],
   "source": [
    "train = y[:cut]\n",
    "test = y[cut:]\n",
    "len(y), len(train)"
   ]
  },
  {
   "cell_type": "code",
   "execution_count": 135,
   "metadata": {
    "ExecuteTime": {
     "end_time": "2021-04-25T15:11:56.906966Z",
     "start_time": "2021-04-25T15:11:56.886909Z"
    }
   },
   "outputs": [],
   "source": [
    "def split_seq(data,n_steps) :\n",
    "    x,y = [], []\n",
    "    for i in range(len(data)) : \n",
    "        if i > len(data)-(n_steps+1) : break\n",
    "        x.append(data[i:i+n_steps])\n",
    "        y.append(data[i+n_steps])\n",
    "    return np.array(x), np.array(y)"
   ]
  },
  {
   "cell_type": "code",
   "execution_count": 136,
   "metadata": {
    "ExecuteTime": {
     "end_time": "2021-04-25T15:12:01.173733Z",
     "start_time": "2021-04-25T15:12:01.150493Z"
    }
   },
   "outputs": [],
   "source": [
    "from sklearn.linear_model import LinearRegression\n",
    "from sklearn.model_selection import train_test_split\n",
    "from sklearn.linear_model import LinearRegression\n",
    "from sklearn.metrics import mean_squared_error, r2_score\n",
    "# 모델만들기\n",
    "lr = LinearRegression()\n",
    "\n",
    "n_steps = 10\n",
    "\n",
    "# 훈련데이터\n",
    "train_x, train_y = split_seq(train,n_steps) # 사용자정의함수\n",
    "\n",
    "# 검증데이터\n",
    "test_x, test_y = split_seq(test,n_steps)"
   ]
  },
  {
   "cell_type": "code",
   "execution_count": 137,
   "metadata": {
    "ExecuteTime": {
     "end_time": "2021-04-25T15:12:02.790647Z",
     "start_time": "2021-04-25T15:12:02.775369Z"
    }
   },
   "outputs": [
    {
     "data": {
      "text/plain": [
       "125"
      ]
     },
     "execution_count": 137,
     "metadata": {},
     "output_type": "execute_result"
    }
   ],
   "source": [
    "len(train_x)"
   ]
  },
  {
   "cell_type": "code",
   "execution_count": 138,
   "metadata": {
    "ExecuteTime": {
     "end_time": "2021-04-25T15:12:08.915791Z",
     "start_time": "2021-04-25T15:12:08.886583Z"
    }
   },
   "outputs": [
    {
     "data": {
      "text/plain": [
       "LinearRegression()"
      ]
     },
     "execution_count": 138,
     "metadata": {},
     "output_type": "execute_result"
    }
   ],
   "source": [
    "lr.fit(train_x,train_y)"
   ]
  },
  {
   "cell_type": "code",
   "execution_count": 139,
   "metadata": {
    "ExecuteTime": {
     "end_time": "2021-04-25T15:12:09.833279Z",
     "start_time": "2021-04-25T15:12:09.810685Z"
    }
   },
   "outputs": [
    {
     "data": {
      "text/plain": [
       "0.2817"
      ]
     },
     "execution_count": 139,
     "metadata": {},
     "output_type": "execute_result"
    }
   ],
   "source": [
    "lr.score(test_x,test_y).round(4)"
   ]
  },
  {
   "cell_type": "code",
   "execution_count": 593,
   "metadata": {
    "ExecuteTime": {
     "end_time": "2021-04-26T12:56:31.942370Z",
     "start_time": "2021-04-26T12:56:31.905013Z"
    }
   },
   "outputs": [
    {
     "name": "stdout",
     "output_type": "stream",
     "text": [
      "MSE : 0.195, RMSE : 0.442\n",
      "Variance Score : 0.776\n"
     ]
    }
   ],
   "source": [
    "y_pred = lr.predict(test_x)\n",
    "mse = mean_squared_error(test_y,y_pred)\n",
    "rmse = np.sqrt(mse)\n",
    "\n",
    "print('MSE : {0:.3f}, RMSE : {1:.3f}'.format(mse, rmse))\n",
    "print('Variance Score : {0:.3f}'.format(r2_score(test_y,y_pred)))"
   ]
  },
  {
   "cell_type": "code",
   "execution_count": 113,
   "metadata": {
    "ExecuteTime": {
     "end_time": "2021-04-25T14:10:26.536521Z",
     "start_time": "2021-04-25T14:10:26.514443Z"
    }
   },
   "outputs": [
    {
     "data": {
      "text/plain": [
       "array([ 0.04541969,  0.03763803,  0.01923597, -0.04399854,  0.02360759,\n",
       "        0.04122829, -0.03893576, -0.07202641,  0.07381488,  0.86001737])"
      ]
     },
     "execution_count": 113,
     "metadata": {},
     "output_type": "execute_result"
    }
   ],
   "source": [
    "lr.coef_"
   ]
  },
  {
   "cell_type": "code",
   "execution_count": 141,
   "metadata": {
    "ExecuteTime": {
     "end_time": "2021-04-25T15:12:18.169377Z",
     "start_time": "2021-04-25T15:12:17.812312Z"
    }
   },
   "outputs": [
    {
     "data": {
      "image/png": "[encoded data removed]",
      "text/plain": [
       "<Figure size 1296x432 with 1 Axes>"
      ]
     },
     "metadata": {
      "needs_background": "light"
     },
     "output_type": "display_data"
    }
   ],
   "source": [
    "plt.figure(figsize=[18,6])\n",
    "plt.plot(test_y,c='r')\n",
    "plt.plot(y_pred,c='b')\n",
    "plt.show()"
   ]
  },
  {
   "cell_type": "code",
   "execution_count": 595,
   "metadata": {
    "ExecuteTime": {
     "end_time": "2021-04-26T12:57:10.853979Z",
     "start_time": "2021-04-26T12:57:10.827048Z"
    }
   },
   "outputs": [],
   "source": [
    "grouped_lr['1kg price_sc'] = scale.fit_transform(grouped_lr[['1kg price']])"
   ]
  },
  {
   "cell_type": "code",
   "execution_count": 596,
   "metadata": {
    "ExecuteTime": {
     "end_time": "2021-04-26T12:57:11.601147Z",
     "start_time": "2021-04-26T12:57:11.587554Z"
    }
   },
   "outputs": [],
   "source": [
    "grouped_lr['1kg price_log'] = np.log(grouped_lr[['1kg price']])"
   ]
  },
  {
   "cell_type": "code",
   "execution_count": 597,
   "metadata": {
    "ExecuteTime": {
     "end_time": "2021-04-26T12:57:12.499938Z",
     "start_time": "2021-04-26T12:57:12.262296Z"
    }
   },
   "outputs": [
    {
     "name": "stderr",
     "output_type": "stream",
     "text": [
      "C:\\Users\\choi yeseul\\anaconda3\\lib\\site-packages\\seaborn\\distributions.py:2551: FutureWarning: `distplot` is a deprecated function and will be removed in a future version. Please adapt your code to use either `displot` (a figure-level function with similar flexibility) or `histplot` (an axes-level function for histograms).\n",
      "  warnings.warn(msg, FutureWarning)\n"
     ]
    },
    {
     "data": {
      "text/plain": [
       "<AxesSubplot:xlabel='1kg price_log', ylabel='Density'>"
      ]
     },
     "execution_count": 597,
     "metadata": {},
     "output_type": "execute_result"
    },
    {
     "data": {
      "image/png": "[encoded data removed]",
      "text/plain": [
       "<Figure size 864x576 with 1 Axes>"
      ]
     },
     "metadata": {
      "needs_background": "light"
     },
     "output_type": "display_data"
    }
   ],
   "source": [
    "sns.distplot(grouped_lr['1kg price_log'])"
   ]
  },
  {
   "cell_type": "code",
   "execution_count": 598,
   "metadata": {
    "ExecuteTime": {
     "end_time": "2021-04-26T12:57:15.007197Z",
     "start_time": "2021-04-26T12:57:14.969948Z"
    }
   },
   "outputs": [
    {
     "data": {
      "text/html": [
       "<div>\n",
       "<style scoped>\n",
       "    .dataframe tbody tr th:only-of-type {\n",
       "        vertical-align: middle;\n",
       "    }\n",
       "\n",
       "    .dataframe tbody tr th {\n",
       "        vertical-align: top;\n",
       "    }\n",
       "\n",
       "    .dataframe thead th {\n",
       "        text-align: right;\n",
       "    }\n",
       "</style>\n",
       "<table border=\"1\" class=\"dataframe\">\n",
       "  <thead>\n",
       "    <tr style=\"text-align: right;\">\n",
       "      <th></th>\n",
       "      <th>qty</th>\n",
       "      <th>1kg price</th>\n",
       "      <th>1kg price_sc</th>\n",
       "      <th>1kg price_log</th>\n",
       "    </tr>\n",
       "    <tr>\n",
       "      <th>date2</th>\n",
       "      <th></th>\n",
       "      <th></th>\n",
       "      <th></th>\n",
       "      <th></th>\n",
       "    </tr>\n",
       "  </thead>\n",
       "  <tbody>\n",
       "    <tr>\n",
       "      <th>2006.04</th>\n",
       "      <td>79398.5</td>\n",
       "      <td>4936.02</td>\n",
       "      <td>-1.335711</td>\n",
       "      <td>8.504315</td>\n",
       "    </tr>\n",
       "    <tr>\n",
       "      <th>2006.05</th>\n",
       "      <td>34612.7</td>\n",
       "      <td>5231.31</td>\n",
       "      <td>-1.173410</td>\n",
       "      <td>8.562417</td>\n",
       "    </tr>\n",
       "    <tr>\n",
       "      <th>2006.06</th>\n",
       "      <td>15556.6</td>\n",
       "      <td>5587.33</td>\n",
       "      <td>-0.977731</td>\n",
       "      <td>8.628257</td>\n",
       "    </tr>\n",
       "    <tr>\n",
       "      <th>2006.07</th>\n",
       "      <td>14119.5</td>\n",
       "      <td>5494.06</td>\n",
       "      <td>-1.028995</td>\n",
       "      <td>8.611423</td>\n",
       "    </tr>\n",
       "    <tr>\n",
       "      <th>2006.08</th>\n",
       "      <td>11779.5</td>\n",
       "      <td>5889.41</td>\n",
       "      <td>-0.811699</td>\n",
       "      <td>8.680911</td>\n",
       "    </tr>\n",
       "    <tr>\n",
       "      <th>2006.09</th>\n",
       "      <td>32728.3</td>\n",
       "      <td>5988.83</td>\n",
       "      <td>-0.757055</td>\n",
       "      <td>8.697651</td>\n",
       "    </tr>\n",
       "    <tr>\n",
       "      <th>2006.10</th>\n",
       "      <td>111902.4</td>\n",
       "      <td>6193.19</td>\n",
       "      <td>-0.644732</td>\n",
       "      <td>8.731206</td>\n",
       "    </tr>\n",
       "    <tr>\n",
       "      <th>2006.11</th>\n",
       "      <td>413238.2</td>\n",
       "      <td>9521.17</td>\n",
       "      <td>1.184427</td>\n",
       "      <td>9.161273</td>\n",
       "    </tr>\n",
       "    <tr>\n",
       "      <th>2006.12</th>\n",
       "      <td>328458.6</td>\n",
       "      <td>7473.42</td>\n",
       "      <td>0.058921</td>\n",
       "      <td>8.919108</td>\n",
       "    </tr>\n",
       "    <tr>\n",
       "      <th>2007.01</th>\n",
       "      <td>316297.8</td>\n",
       "      <td>4944.34</td>\n",
       "      <td>-1.331138</td>\n",
       "      <td>8.505999</td>\n",
       "    </tr>\n",
       "    <tr>\n",
       "      <th>2007.02</th>\n",
       "      <td>266473.0</td>\n",
       "      <td>5254.82</td>\n",
       "      <td>-1.160489</td>\n",
       "      <td>8.566901</td>\n",
       "    </tr>\n",
       "    <tr>\n",
       "      <th>2007.03</th>\n",
       "      <td>175121.7</td>\n",
       "      <td>4707.51</td>\n",
       "      <td>-1.461307</td>\n",
       "      <td>8.456914</td>\n",
       "    </tr>\n",
       "    <tr>\n",
       "      <th>2007.04</th>\n",
       "      <td>80941.9</td>\n",
       "      <td>4527.44</td>\n",
       "      <td>-1.560279</td>\n",
       "      <td>8.417912</td>\n",
       "    </tr>\n",
       "    <tr>\n",
       "      <th>2007.05</th>\n",
       "      <td>21050.0</td>\n",
       "      <td>4808.74</td>\n",
       "      <td>-1.405668</td>\n",
       "      <td>8.478190</td>\n",
       "    </tr>\n",
       "    <tr>\n",
       "      <th>2007.06</th>\n",
       "      <td>11234.5</td>\n",
       "      <td>5716.24</td>\n",
       "      <td>-0.906878</td>\n",
       "      <td>8.651067</td>\n",
       "    </tr>\n",
       "    <tr>\n",
       "      <th>2007.07</th>\n",
       "      <td>11111.1</td>\n",
       "      <td>5213.10</td>\n",
       "      <td>-1.183419</td>\n",
       "      <td>8.558930</td>\n",
       "    </tr>\n",
       "    <tr>\n",
       "      <th>2007.08</th>\n",
       "      <td>11275.8</td>\n",
       "      <td>5504.72</td>\n",
       "      <td>-1.023136</td>\n",
       "      <td>8.613361</td>\n",
       "    </tr>\n",
       "    <tr>\n",
       "      <th>2007.09</th>\n",
       "      <td>36674.7</td>\n",
       "      <td>5294.71</td>\n",
       "      <td>-1.138564</td>\n",
       "      <td>8.574463</td>\n",
       "    </tr>\n",
       "    <tr>\n",
       "      <th>2007.10</th>\n",
       "      <td>138345.7</td>\n",
       "      <td>4952.97</td>\n",
       "      <td>-1.326395</td>\n",
       "      <td>8.507743</td>\n",
       "    </tr>\n",
       "    <tr>\n",
       "      <th>2007.11</th>\n",
       "      <td>443783.8</td>\n",
       "      <td>7721.41</td>\n",
       "      <td>0.195224</td>\n",
       "      <td>8.951752</td>\n",
       "    </tr>\n",
       "    <tr>\n",
       "      <th>2007.12</th>\n",
       "      <td>354292.0</td>\n",
       "      <td>6071.24</td>\n",
       "      <td>-0.711759</td>\n",
       "      <td>8.711318</td>\n",
       "    </tr>\n",
       "    <tr>\n",
       "      <th>2008.01</th>\n",
       "      <td>308009.9</td>\n",
       "      <td>4761.71</td>\n",
       "      <td>-1.431517</td>\n",
       "      <td>8.468362</td>\n",
       "    </tr>\n",
       "    <tr>\n",
       "      <th>2008.02</th>\n",
       "      <td>255086.1</td>\n",
       "      <td>5093.07</td>\n",
       "      <td>-1.249391</td>\n",
       "      <td>8.535636</td>\n",
       "    </tr>\n",
       "    <tr>\n",
       "      <th>2008.03</th>\n",
       "      <td>173494.4</td>\n",
       "      <td>4380.56</td>\n",
       "      <td>-1.641008</td>\n",
       "      <td>8.384932</td>\n",
       "    </tr>\n",
       "    <tr>\n",
       "      <th>2008.04</th>\n",
       "      <td>73488.4</td>\n",
       "      <td>4672.05</td>\n",
       "      <td>-1.480797</td>\n",
       "      <td>8.449353</td>\n",
       "    </tr>\n",
       "    <tr>\n",
       "      <th>2008.05</th>\n",
       "      <td>31259.3</td>\n",
       "      <td>4939.38</td>\n",
       "      <td>-1.333864</td>\n",
       "      <td>8.504995</td>\n",
       "    </tr>\n",
       "    <tr>\n",
       "      <th>2008.06</th>\n",
       "      <td>17125.3</td>\n",
       "      <td>5829.88</td>\n",
       "      <td>-0.844418</td>\n",
       "      <td>8.670752</td>\n",
       "    </tr>\n",
       "    <tr>\n",
       "      <th>2008.07</th>\n",
       "      <td>12011.8</td>\n",
       "      <td>5303.99</td>\n",
       "      <td>-1.133463</td>\n",
       "      <td>8.576215</td>\n",
       "    </tr>\n",
       "    <tr>\n",
       "      <th>2008.08</th>\n",
       "      <td>15320.7</td>\n",
       "      <td>6432.03</td>\n",
       "      <td>-0.513458</td>\n",
       "      <td>8.769045</td>\n",
       "    </tr>\n",
       "    <tr>\n",
       "      <th>2008.09</th>\n",
       "      <td>35957.2</td>\n",
       "      <td>6268.87</td>\n",
       "      <td>-0.603136</td>\n",
       "      <td>8.743351</td>\n",
       "    </tr>\n",
       "    <tr>\n",
       "      <th>2008.10</th>\n",
       "      <td>132806.6</td>\n",
       "      <td>6553.43</td>\n",
       "      <td>-0.446733</td>\n",
       "      <td>8.787744</td>\n",
       "    </tr>\n",
       "    <tr>\n",
       "      <th>2008.11</th>\n",
       "      <td>382149.0</td>\n",
       "      <td>10624.86</td>\n",
       "      <td>1.791048</td>\n",
       "      <td>9.270952</td>\n",
       "    </tr>\n",
       "    <tr>\n",
       "      <th>2008.12</th>\n",
       "      <td>346432.3</td>\n",
       "      <td>7724.58</td>\n",
       "      <td>0.196966</td>\n",
       "      <td>8.952163</td>\n",
       "    </tr>\n",
       "    <tr>\n",
       "      <th>2009.01</th>\n",
       "      <td>319591.3</td>\n",
       "      <td>7637.03</td>\n",
       "      <td>0.148846</td>\n",
       "      <td>8.940764</td>\n",
       "    </tr>\n",
       "    <tr>\n",
       "      <th>2009.02</th>\n",
       "      <td>226840.3</td>\n",
       "      <td>6407.75</td>\n",
       "      <td>-0.526803</td>\n",
       "      <td>8.765263</td>\n",
       "    </tr>\n",
       "    <tr>\n",
       "      <th>2009.03</th>\n",
       "      <td>150147.8</td>\n",
       "      <td>6556.24</td>\n",
       "      <td>-0.445189</td>\n",
       "      <td>8.788173</td>\n",
       "    </tr>\n",
       "    <tr>\n",
       "      <th>2009.04</th>\n",
       "      <td>72059.4</td>\n",
       "      <td>6051.80</td>\n",
       "      <td>-0.722444</td>\n",
       "      <td>8.708111</td>\n",
       "    </tr>\n",
       "    <tr>\n",
       "      <th>2009.05</th>\n",
       "      <td>25504.4</td>\n",
       "      <td>7133.33</td>\n",
       "      <td>-0.128003</td>\n",
       "      <td>8.872533</td>\n",
       "    </tr>\n",
       "    <tr>\n",
       "      <th>2009.06</th>\n",
       "      <td>11958.5</td>\n",
       "      <td>8122.14</td>\n",
       "      <td>0.415477</td>\n",
       "      <td>9.002349</td>\n",
       "    </tr>\n",
       "    <tr>\n",
       "      <th>2009.07</th>\n",
       "      <td>10557.5</td>\n",
       "      <td>6193.26</td>\n",
       "      <td>-0.644694</td>\n",
       "      <td>8.731217</td>\n",
       "    </tr>\n",
       "    <tr>\n",
       "      <th>2009.08</th>\n",
       "      <td>10377.0</td>\n",
       "      <td>6575.02</td>\n",
       "      <td>-0.434867</td>\n",
       "      <td>8.791033</td>\n",
       "    </tr>\n",
       "    <tr>\n",
       "      <th>2009.09</th>\n",
       "      <td>32421.0</td>\n",
       "      <td>6195.88</td>\n",
       "      <td>-0.643254</td>\n",
       "      <td>8.731640</td>\n",
       "    </tr>\n",
       "    <tr>\n",
       "      <th>2009.10</th>\n",
       "      <td>108080.9</td>\n",
       "      <td>8266.41</td>\n",
       "      <td>0.494772</td>\n",
       "      <td>9.019956</td>\n",
       "    </tr>\n",
       "    <tr>\n",
       "      <th>2009.11</th>\n",
       "      <td>290904.7</td>\n",
       "      <td>11623.89</td>\n",
       "      <td>2.340145</td>\n",
       "      <td>9.360818</td>\n",
       "    </tr>\n",
       "    <tr>\n",
       "      <th>2009.12</th>\n",
       "      <td>336732.4</td>\n",
       "      <td>8555.58</td>\n",
       "      <td>0.653709</td>\n",
       "      <td>9.054339</td>\n",
       "    </tr>\n",
       "    <tr>\n",
       "      <th>2010.01</th>\n",
       "      <td>288439.9</td>\n",
       "      <td>6550.00</td>\n",
       "      <td>-0.448618</td>\n",
       "      <td>8.787220</td>\n",
       "    </tr>\n",
       "    <tr>\n",
       "      <th>2010.02</th>\n",
       "      <td>270642.4</td>\n",
       "      <td>7231.89</td>\n",
       "      <td>-0.073831</td>\n",
       "      <td>8.886256</td>\n",
       "    </tr>\n",
       "    <tr>\n",
       "      <th>2010.03</th>\n",
       "      <td>160943.2</td>\n",
       "      <td>6209.89</td>\n",
       "      <td>-0.635553</td>\n",
       "      <td>8.733898</td>\n",
       "    </tr>\n",
       "    <tr>\n",
       "      <th>2010.04</th>\n",
       "      <td>75300.5</td>\n",
       "      <td>5776.43</td>\n",
       "      <td>-0.873796</td>\n",
       "      <td>8.661541</td>\n",
       "    </tr>\n",
       "    <tr>\n",
       "      <th>2010.05</th>\n",
       "      <td>24413.4</td>\n",
       "      <td>6192.42</td>\n",
       "      <td>-0.645155</td>\n",
       "      <td>8.731081</td>\n",
       "    </tr>\n",
       "    <tr>\n",
       "      <th>2010.06</th>\n",
       "      <td>12718.1</td>\n",
       "      <td>6788.65</td>\n",
       "      <td>-0.317449</td>\n",
       "      <td>8.823007</td>\n",
       "    </tr>\n",
       "    <tr>\n",
       "      <th>2010.07</th>\n",
       "      <td>10502.7</td>\n",
       "      <td>6158.18</td>\n",
       "      <td>-0.663975</td>\n",
       "      <td>8.725537</td>\n",
       "    </tr>\n",
       "    <tr>\n",
       "      <th>2010.08</th>\n",
       "      <td>10929.2</td>\n",
       "      <td>6975.91</td>\n",
       "      <td>-0.214525</td>\n",
       "      <td>8.850218</td>\n",
       "    </tr>\n",
       "    <tr>\n",
       "      <th>2010.09</th>\n",
       "      <td>27800.1</td>\n",
       "      <td>6844.76</td>\n",
       "      <td>-0.286609</td>\n",
       "      <td>8.831239</td>\n",
       "    </tr>\n",
       "    <tr>\n",
       "      <th>2010.10</th>\n",
       "      <td>90912.9</td>\n",
       "      <td>7384.57</td>\n",
       "      <td>0.010086</td>\n",
       "      <td>8.907148</td>\n",
       "    </tr>\n",
       "    <tr>\n",
       "      <th>2010.11</th>\n",
       "      <td>407915.5</td>\n",
       "      <td>10310.11</td>\n",
       "      <td>1.618052</td>\n",
       "      <td>9.240880</td>\n",
       "    </tr>\n",
       "    <tr>\n",
       "      <th>2010.12</th>\n",
       "      <td>371607.4</td>\n",
       "      <td>9235.43</td>\n",
       "      <td>1.027375</td>\n",
       "      <td>9.130802</td>\n",
       "    </tr>\n",
       "    <tr>\n",
       "      <th>2011.01</th>\n",
       "      <td>344297.5</td>\n",
       "      <td>8030.88</td>\n",
       "      <td>0.365318</td>\n",
       "      <td>8.991049</td>\n",
       "    </tr>\n",
       "    <tr>\n",
       "      <th>2011.02</th>\n",
       "      <td>197344.1</td>\n",
       "      <td>7227.96</td>\n",
       "      <td>-0.075991</td>\n",
       "      <td>8.885712</td>\n",
       "    </tr>\n",
       "    <tr>\n",
       "      <th>2011.03</th>\n",
       "      <td>165951.2</td>\n",
       "      <td>6429.64</td>\n",
       "      <td>-0.514772</td>\n",
       "      <td>8.768674</td>\n",
       "    </tr>\n",
       "    <tr>\n",
       "      <th>2011.04</th>\n",
       "      <td>70253.8</td>\n",
       "      <td>6300.24</td>\n",
       "      <td>-0.585894</td>\n",
       "      <td>8.748343</td>\n",
       "    </tr>\n",
       "    <tr>\n",
       "      <th>2011.05</th>\n",
       "      <td>31366.1</td>\n",
       "      <td>7142.72</td>\n",
       "      <td>-0.122842</td>\n",
       "      <td>8.873849</td>\n",
       "    </tr>\n",
       "    <tr>\n",
       "      <th>2011.06</th>\n",
       "      <td>14156.3</td>\n",
       "      <td>8324.84</td>\n",
       "      <td>0.526887</td>\n",
       "      <td>9.026999</td>\n",
       "    </tr>\n",
       "    <tr>\n",
       "      <th>2011.07</th>\n",
       "      <td>9990.7</td>\n",
       "      <td>6710.59</td>\n",
       "      <td>-0.360353</td>\n",
       "      <td>8.811442</td>\n",
       "    </tr>\n",
       "    <tr>\n",
       "      <th>2011.08</th>\n",
       "      <td>10741.1</td>\n",
       "      <td>7910.20</td>\n",
       "      <td>0.298989</td>\n",
       "      <td>8.975908</td>\n",
       "    </tr>\n",
       "    <tr>\n",
       "      <th>2011.09</th>\n",
       "      <td>19051.1</td>\n",
       "      <td>8955.13</td>\n",
       "      <td>0.873314</td>\n",
       "      <td>9.099982</td>\n",
       "    </tr>\n",
       "    <tr>\n",
       "      <th>2011.10</th>\n",
       "      <td>120610.0</td>\n",
       "      <td>8179.71</td>\n",
       "      <td>0.447120</td>\n",
       "      <td>9.009412</td>\n",
       "    </tr>\n",
       "    <tr>\n",
       "      <th>2011.11</th>\n",
       "      <td>385489.6</td>\n",
       "      <td>10588.56</td>\n",
       "      <td>1.771096</td>\n",
       "      <td>9.267529</td>\n",
       "    </tr>\n",
       "    <tr>\n",
       "      <th>2011.12</th>\n",
       "      <td>363107.5</td>\n",
       "      <td>8485.39</td>\n",
       "      <td>0.615130</td>\n",
       "      <td>9.046101</td>\n",
       "    </tr>\n",
       "    <tr>\n",
       "      <th>2012.01</th>\n",
       "      <td>341035.3</td>\n",
       "      <td>7590.75</td>\n",
       "      <td>0.123409</td>\n",
       "      <td>8.934686</td>\n",
       "    </tr>\n",
       "    <tr>\n",
       "      <th>2012.02</th>\n",
       "      <td>250013.4</td>\n",
       "      <td>6398.97</td>\n",
       "      <td>-0.531629</td>\n",
       "      <td>8.763892</td>\n",
       "    </tr>\n",
       "    <tr>\n",
       "      <th>2012.03</th>\n",
       "      <td>218023.0</td>\n",
       "      <td>5698.77</td>\n",
       "      <td>-0.916480</td>\n",
       "      <td>8.648006</td>\n",
       "    </tr>\n",
       "    <tr>\n",
       "      <th>2012.04</th>\n",
       "      <td>82763.5</td>\n",
       "      <td>5106.26</td>\n",
       "      <td>-1.242142</td>\n",
       "      <td>8.538223</td>\n",
       "    </tr>\n",
       "    <tr>\n",
       "      <th>2012.05</th>\n",
       "      <td>20826.7</td>\n",
       "      <td>4951.00</td>\n",
       "      <td>-1.327477</td>\n",
       "      <td>8.507345</td>\n",
       "    </tr>\n",
       "    <tr>\n",
       "      <th>2012.06</th>\n",
       "      <td>9904.6</td>\n",
       "      <td>6414.86</td>\n",
       "      <td>-0.522896</td>\n",
       "      <td>8.766372</td>\n",
       "    </tr>\n",
       "    <tr>\n",
       "      <th>2012.07</th>\n",
       "      <td>7310.0</td>\n",
       "      <td>6377.66</td>\n",
       "      <td>-0.543342</td>\n",
       "      <td>8.760557</td>\n",
       "    </tr>\n",
       "    <tr>\n",
       "      <th>2012.08</th>\n",
       "      <td>7735.7</td>\n",
       "      <td>6642.91</td>\n",
       "      <td>-0.397552</td>\n",
       "      <td>8.801305</td>\n",
       "    </tr>\n",
       "    <tr>\n",
       "      <th>2012.09</th>\n",
       "      <td>27519.1</td>\n",
       "      <td>7220.43</td>\n",
       "      <td>-0.080130</td>\n",
       "      <td>8.884670</td>\n",
       "    </tr>\n",
       "    <tr>\n",
       "      <th>2012.10</th>\n",
       "      <td>113164.0</td>\n",
       "      <td>7043.02</td>\n",
       "      <td>-0.177640</td>\n",
       "      <td>8.859792</td>\n",
       "    </tr>\n",
       "    <tr>\n",
       "      <th>2012.11</th>\n",
       "      <td>431260.3</td>\n",
       "      <td>9825.75</td>\n",
       "      <td>1.351833</td>\n",
       "      <td>9.192762</td>\n",
       "    </tr>\n",
       "    <tr>\n",
       "      <th>2012.12</th>\n",
       "      <td>355446.7</td>\n",
       "      <td>8488.73</td>\n",
       "      <td>0.616966</td>\n",
       "      <td>9.046495</td>\n",
       "    </tr>\n",
       "    <tr>\n",
       "      <th>2013.01</th>\n",
       "      <td>300715.5</td>\n",
       "      <td>6010.28</td>\n",
       "      <td>-0.745265</td>\n",
       "      <td>8.701227</td>\n",
       "    </tr>\n",
       "    <tr>\n",
       "      <th>2013.02</th>\n",
       "      <td>182736.3</td>\n",
       "      <td>5004.86</td>\n",
       "      <td>-1.297874</td>\n",
       "      <td>8.518165</td>\n",
       "    </tr>\n",
       "    <tr>\n",
       "      <th>2013.03</th>\n",
       "      <td>129232.9</td>\n",
       "      <td>4238.02</td>\n",
       "      <td>-1.719353</td>\n",
       "      <td>8.351851</td>\n",
       "    </tr>\n",
       "    <tr>\n",
       "      <th>2013.04</th>\n",
       "      <td>59047.7</td>\n",
       "      <td>4348.35</td>\n",
       "      <td>-1.658712</td>\n",
       "      <td>8.377552</td>\n",
       "    </tr>\n",
       "    <tr>\n",
       "      <th>2013.05</th>\n",
       "      <td>19478.5</td>\n",
       "      <td>4777.04</td>\n",
       "      <td>-1.423091</td>\n",
       "      <td>8.471576</td>\n",
       "    </tr>\n",
       "    <tr>\n",
       "      <th>2013.06</th>\n",
       "      <td>9256.4</td>\n",
       "      <td>5528.58</td>\n",
       "      <td>-1.010022</td>\n",
       "      <td>8.617686</td>\n",
       "    </tr>\n",
       "    <tr>\n",
       "      <th>2013.07</th>\n",
       "      <td>8369.9</td>\n",
       "      <td>4663.88</td>\n",
       "      <td>-1.485287</td>\n",
       "      <td>8.447603</td>\n",
       "    </tr>\n",
       "    <tr>\n",
       "      <th>2013.08</th>\n",
       "      <td>7484.1</td>\n",
       "      <td>4972.57</td>\n",
       "      <td>-1.315622</td>\n",
       "      <td>8.511692</td>\n",
       "    </tr>\n",
       "    <tr>\n",
       "      <th>2013.09</th>\n",
       "      <td>23116.2</td>\n",
       "      <td>5579.93</td>\n",
       "      <td>-0.981798</td>\n",
       "      <td>8.626932</td>\n",
       "    </tr>\n",
       "    <tr>\n",
       "      <th>2013.10</th>\n",
       "      <td>89070.5</td>\n",
       "      <td>7696.24</td>\n",
       "      <td>0.181390</td>\n",
       "      <td>8.948487</td>\n",
       "    </tr>\n",
       "    <tr>\n",
       "      <th>2013.11</th>\n",
       "      <td>294795.9</td>\n",
       "      <td>10790.71</td>\n",
       "      <td>1.882204</td>\n",
       "      <td>9.286441</td>\n",
       "    </tr>\n",
       "    <tr>\n",
       "      <th>2013.12</th>\n",
       "      <td>301394.6</td>\n",
       "      <td>8204.70</td>\n",
       "      <td>0.460855</td>\n",
       "      <td>9.012462</td>\n",
       "    </tr>\n",
       "    <tr>\n",
       "      <th>2014.01</th>\n",
       "      <td>319349.5</td>\n",
       "      <td>7589.58</td>\n",
       "      <td>0.122766</td>\n",
       "      <td>8.934532</td>\n",
       "    </tr>\n",
       "    <tr>\n",
       "      <th>2014.02</th>\n",
       "      <td>172980.0</td>\n",
       "      <td>6827.18</td>\n",
       "      <td>-0.296272</td>\n",
       "      <td>8.828667</td>\n",
       "    </tr>\n",
       "    <tr>\n",
       "      <th>2014.03</th>\n",
       "      <td>112662.4</td>\n",
       "      <td>6518.81</td>\n",
       "      <td>-0.465761</td>\n",
       "      <td>8.782447</td>\n",
       "    </tr>\n",
       "    <tr>\n",
       "      <th>2014.04</th>\n",
       "      <td>34624.2</td>\n",
       "      <td>6689.52</td>\n",
       "      <td>-0.371934</td>\n",
       "      <td>8.808297</td>\n",
       "    </tr>\n",
       "    <tr>\n",
       "      <th>2014.05</th>\n",
       "      <td>15500.8</td>\n",
       "      <td>6955.69</td>\n",
       "      <td>-0.225639</td>\n",
       "      <td>8.847315</td>\n",
       "    </tr>\n",
       "    <tr>\n",
       "      <th>2014.06</th>\n",
       "      <td>7241.2</td>\n",
       "      <td>7977.24</td>\n",
       "      <td>0.335836</td>\n",
       "      <td>8.984348</td>\n",
       "    </tr>\n",
       "    <tr>\n",
       "      <th>2014.07</th>\n",
       "      <td>6509.9</td>\n",
       "      <td>6652.19</td>\n",
       "      <td>-0.392452</td>\n",
       "      <td>8.802701</td>\n",
       "    </tr>\n",
       "    <tr>\n",
       "      <th>2014.08</th>\n",
       "      <td>7771.2</td>\n",
       "      <td>8094.07</td>\n",
       "      <td>0.400049</td>\n",
       "      <td>8.998887</td>\n",
       "    </tr>\n",
       "    <tr>\n",
       "      <th>2014.09</th>\n",
       "      <td>20884.1</td>\n",
       "      <td>7501.94</td>\n",
       "      <td>0.074597</td>\n",
       "      <td>8.922917</td>\n",
       "    </tr>\n",
       "    <tr>\n",
       "      <th>2014.10</th>\n",
       "      <td>104345.0</td>\n",
       "      <td>8569.88</td>\n",
       "      <td>0.661569</td>\n",
       "      <td>9.056009</td>\n",
       "    </tr>\n",
       "    <tr>\n",
       "      <th>2014.11</th>\n",
       "      <td>321663.8</td>\n",
       "      <td>11026.08</td>\n",
       "      <td>2.011571</td>\n",
       "      <td>9.308019</td>\n",
       "    </tr>\n",
       "    <tr>\n",
       "      <th>2014.12</th>\n",
       "      <td>271570.1</td>\n",
       "      <td>10264.20</td>\n",
       "      <td>1.592818</td>\n",
       "      <td>9.236417</td>\n",
       "    </tr>\n",
       "    <tr>\n",
       "      <th>2015.01</th>\n",
       "      <td>269650.5</td>\n",
       "      <td>6841.69</td>\n",
       "      <td>-0.288297</td>\n",
       "      <td>8.830790</td>\n",
       "    </tr>\n",
       "    <tr>\n",
       "      <th>2015.02</th>\n",
       "      <td>213294.1</td>\n",
       "      <td>7068.74</td>\n",
       "      <td>-0.163503</td>\n",
       "      <td>8.863438</td>\n",
       "    </tr>\n",
       "    <tr>\n",
       "      <th>2015.03</th>\n",
       "      <td>87414.9</td>\n",
       "      <td>6486.79</td>\n",
       "      <td>-0.483361</td>\n",
       "      <td>8.777523</td>\n",
       "    </tr>\n",
       "    <tr>\n",
       "      <th>2015.04</th>\n",
       "      <td>33202.6</td>\n",
       "      <td>6345.41</td>\n",
       "      <td>-0.561067</td>\n",
       "      <td>8.755487</td>\n",
       "    </tr>\n",
       "    <tr>\n",
       "      <th>2015.05</th>\n",
       "      <td>11032.2</td>\n",
       "      <td>7498.62</td>\n",
       "      <td>0.072772</td>\n",
       "      <td>8.922474</td>\n",
       "    </tr>\n",
       "    <tr>\n",
       "      <th>2015.06</th>\n",
       "      <td>5807.0</td>\n",
       "      <td>8889.75</td>\n",
       "      <td>0.837379</td>\n",
       "      <td>9.092654</td>\n",
       "    </tr>\n",
       "    <tr>\n",
       "      <th>2015.07</th>\n",
       "      <td>4956.2</td>\n",
       "      <td>8515.53</td>\n",
       "      <td>0.631696</td>\n",
       "      <td>9.049647</td>\n",
       "    </tr>\n",
       "    <tr>\n",
       "      <th>2015.08</th>\n",
       "      <td>4656.5</td>\n",
       "      <td>9900.73</td>\n",
       "      <td>1.393044</td>\n",
       "      <td>9.200364</td>\n",
       "    </tr>\n",
       "    <tr>\n",
       "      <th>2015.09</th>\n",
       "      <td>14450.7</td>\n",
       "      <td>9060.45</td>\n",
       "      <td>0.931201</td>\n",
       "      <td>9.111674</td>\n",
       "    </tr>\n",
       "    <tr>\n",
       "      <th>2015.10</th>\n",
       "      <td>57062.6</td>\n",
       "      <td>9102.48</td>\n",
       "      <td>0.954302</td>\n",
       "      <td>9.116302</td>\n",
       "    </tr>\n",
       "    <tr>\n",
       "      <th>2015.11</th>\n",
       "      <td>231306.0</td>\n",
       "      <td>11337.99</td>\n",
       "      <td>2.183006</td>\n",
       "      <td>9.335914</td>\n",
       "    </tr>\n",
       "    <tr>\n",
       "      <th>2015.12</th>\n",
       "      <td>213349.8</td>\n",
       "      <td>11009.63</td>\n",
       "      <td>2.002529</td>\n",
       "      <td>9.306526</td>\n",
       "    </tr>\n",
       "    <tr>\n",
       "      <th>2016.01</th>\n",
       "      <td>219956.6</td>\n",
       "      <td>8843.49</td>\n",
       "      <td>0.811953</td>\n",
       "      <td>9.087437</td>\n",
       "    </tr>\n",
       "    <tr>\n",
       "      <th>2016.02</th>\n",
       "      <td>174987.0</td>\n",
       "      <td>7659.27</td>\n",
       "      <td>0.161070</td>\n",
       "      <td>8.943672</td>\n",
       "    </tr>\n",
       "    <tr>\n",
       "      <th>2016.03</th>\n",
       "      <td>83039.2</td>\n",
       "      <td>7447.35</td>\n",
       "      <td>0.044592</td>\n",
       "      <td>8.915614</td>\n",
       "    </tr>\n",
       "    <tr>\n",
       "      <th>2016.04</th>\n",
       "      <td>24744.1</td>\n",
       "      <td>6598.09</td>\n",
       "      <td>-0.422187</td>\n",
       "      <td>8.794535</td>\n",
       "    </tr>\n",
       "    <tr>\n",
       "      <th>2016.05</th>\n",
       "      <td>9228.3</td>\n",
       "      <td>7069.62</td>\n",
       "      <td>-0.163020</td>\n",
       "      <td>8.863562</td>\n",
       "    </tr>\n",
       "    <tr>\n",
       "      <th>2016.06</th>\n",
       "      <td>4386.3</td>\n",
       "      <td>7353.73</td>\n",
       "      <td>-0.006864</td>\n",
       "      <td>8.902963</td>\n",
       "    </tr>\n",
       "    <tr>\n",
       "      <th>2016.07</th>\n",
       "      <td>4046.0</td>\n",
       "      <td>6424.57</td>\n",
       "      <td>-0.517559</td>\n",
       "      <td>8.767885</td>\n",
       "    </tr>\n",
       "    <tr>\n",
       "      <th>2016.08</th>\n",
       "      <td>4139.5</td>\n",
       "      <td>7174.28</td>\n",
       "      <td>-0.105495</td>\n",
       "      <td>8.878258</td>\n",
       "    </tr>\n",
       "    <tr>\n",
       "      <th>2016.09</th>\n",
       "      <td>11641.5</td>\n",
       "      <td>8120.85</td>\n",
       "      <td>0.414768</td>\n",
       "      <td>9.002190</td>\n",
       "    </tr>\n",
       "    <tr>\n",
       "      <th>2016.10</th>\n",
       "      <td>44367.4</td>\n",
       "      <td>8386.30</td>\n",
       "      <td>0.560668</td>\n",
       "      <td>9.034355</td>\n",
       "    </tr>\n",
       "    <tr>\n",
       "      <th>2016.11</th>\n",
       "      <td>223939.9</td>\n",
       "      <td>11412.42</td>\n",
       "      <td>2.223915</td>\n",
       "      <td>9.342458</td>\n",
       "    </tr>\n",
       "    <tr>\n",
       "      <th>2016.12</th>\n",
       "      <td>226159.5</td>\n",
       "      <td>10523.73</td>\n",
       "      <td>1.735464</td>\n",
       "      <td>9.261388</td>\n",
       "    </tr>\n",
       "    <tr>\n",
       "      <th>2017.01</th>\n",
       "      <td>197778.5</td>\n",
       "      <td>8835.77</td>\n",
       "      <td>0.807710</td>\n",
       "      <td>9.086564</td>\n",
       "    </tr>\n",
       "    <tr>\n",
       "      <th>2017.02</th>\n",
       "      <td>125269.3</td>\n",
       "      <td>5890.84</td>\n",
       "      <td>-0.810913</td>\n",
       "      <td>8.681154</td>\n",
       "    </tr>\n",
       "    <tr>\n",
       "      <th>2017.03</th>\n",
       "      <td>80144.2</td>\n",
       "      <td>5166.34</td>\n",
       "      <td>-1.209120</td>\n",
       "      <td>8.549920</td>\n",
       "    </tr>\n",
       "    <tr>\n",
       "      <th>2017.04</th>\n",
       "      <td>26073.8</td>\n",
       "      <td>5036.64</td>\n",
       "      <td>-1.280407</td>\n",
       "      <td>8.524494</td>\n",
       "    </tr>\n",
       "    <tr>\n",
       "      <th>2017.05</th>\n",
       "      <td>8696.5</td>\n",
       "      <td>5342.36</td>\n",
       "      <td>-1.112374</td>\n",
       "      <td>8.583423</td>\n",
       "    </tr>\n",
       "    <tr>\n",
       "      <th>2017.06</th>\n",
       "      <td>5200.4</td>\n",
       "      <td>6428.37</td>\n",
       "      <td>-0.515470</td>\n",
       "      <td>8.768476</td>\n",
       "    </tr>\n",
       "    <tr>\n",
       "      <th>2017.07</th>\n",
       "      <td>3805.1</td>\n",
       "      <td>4666.43</td>\n",
       "      <td>-1.483886</td>\n",
       "      <td>8.448150</td>\n",
       "    </tr>\n",
       "    <tr>\n",
       "      <th>2017.08</th>\n",
       "      <td>4255.7</td>\n",
       "      <td>6884.24</td>\n",
       "      <td>-0.264910</td>\n",
       "      <td>8.836990</td>\n",
       "    </tr>\n",
       "    <tr>\n",
       "      <th>2017.09</th>\n",
       "      <td>11844.0</td>\n",
       "      <td>6460.74</td>\n",
       "      <td>-0.497678</td>\n",
       "      <td>8.773499</td>\n",
       "    </tr>\n",
       "    <tr>\n",
       "      <th>2017.10</th>\n",
       "      <td>57081.2</td>\n",
       "      <td>8062.15</td>\n",
       "      <td>0.382505</td>\n",
       "      <td>8.994936</td>\n",
       "    </tr>\n",
       "    <tr>\n",
       "      <th>2017.11</th>\n",
       "      <td>253901.7</td>\n",
       "      <td>10571.30</td>\n",
       "      <td>1.761610</td>\n",
       "      <td>9.265898</td>\n",
       "    </tr>\n",
       "    <tr>\n",
       "      <th>2017.12</th>\n",
       "      <td>238625.0</td>\n",
       "      <td>9688.57</td>\n",
       "      <td>1.276435</td>\n",
       "      <td>9.178702</td>\n",
       "    </tr>\n",
       "    <tr>\n",
       "      <th>2018.01</th>\n",
       "      <td>196652.5</td>\n",
       "      <td>6928.24</td>\n",
       "      <td>-0.240726</td>\n",
       "      <td>8.843361</td>\n",
       "    </tr>\n",
       "    <tr>\n",
       "      <th>2018.02</th>\n",
       "      <td>156748.5</td>\n",
       "      <td>7603.04</td>\n",
       "      <td>0.130164</td>\n",
       "      <td>8.936303</td>\n",
       "    </tr>\n",
       "    <tr>\n",
       "      <th>2018.03</th>\n",
       "      <td>74501.7</td>\n",
       "      <td>6264.94</td>\n",
       "      <td>-0.605296</td>\n",
       "      <td>8.742724</td>\n",
       "    </tr>\n",
       "    <tr>\n",
       "      <th>2018.04</th>\n",
       "      <td>15184.3</td>\n",
       "      <td>6219.59</td>\n",
       "      <td>-0.630222</td>\n",
       "      <td>8.735459</td>\n",
       "    </tr>\n",
       "    <tr>\n",
       "      <th>2018.05</th>\n",
       "      <td>6441.9</td>\n",
       "      <td>6541.66</td>\n",
       "      <td>-0.453202</td>\n",
       "      <td>8.785946</td>\n",
       "    </tr>\n",
       "    <tr>\n",
       "      <th>2018.06</th>\n",
       "      <td>4013.7</td>\n",
       "      <td>7046.24</td>\n",
       "      <td>-0.175870</td>\n",
       "      <td>8.860249</td>\n",
       "    </tr>\n",
       "    <tr>\n",
       "      <th>2018.07</th>\n",
       "      <td>2940.0</td>\n",
       "      <td>7111.59</td>\n",
       "      <td>-0.139952</td>\n",
       "      <td>8.869481</td>\n",
       "    </tr>\n",
       "    <tr>\n",
       "      <th>2018.08</th>\n",
       "      <td>2821.9</td>\n",
       "      <td>7309.68</td>\n",
       "      <td>-0.031075</td>\n",
       "      <td>8.896955</td>\n",
       "    </tr>\n",
       "    <tr>\n",
       "      <th>2018.09</th>\n",
       "      <td>11246.3</td>\n",
       "      <td>7435.11</td>\n",
       "      <td>0.037865</td>\n",
       "      <td>8.913969</td>\n",
       "    </tr>\n",
       "    <tr>\n",
       "      <th>2018.10</th>\n",
       "      <td>45250.7</td>\n",
       "      <td>8870.08</td>\n",
       "      <td>0.826568</td>\n",
       "      <td>9.090439</td>\n",
       "    </tr>\n",
       "    <tr>\n",
       "      <th>2018.11</th>\n",
       "      <td>219802.8</td>\n",
       "      <td>10990.63</td>\n",
       "      <td>1.992086</td>\n",
       "      <td>9.304798</td>\n",
       "    </tr>\n",
       "    <tr>\n",
       "      <th>2018.12</th>\n",
       "      <td>187917.3</td>\n",
       "      <td>11008.27</td>\n",
       "      <td>2.001782</td>\n",
       "      <td>9.306402</td>\n",
       "    </tr>\n",
       "    <tr>\n",
       "      <th>2019.01</th>\n",
       "      <td>188790.9</td>\n",
       "      <td>7871.08</td>\n",
       "      <td>0.277487</td>\n",
       "      <td>8.970951</td>\n",
       "    </tr>\n",
       "    <tr>\n",
       "      <th>2019.02</th>\n",
       "      <td>96313.9</td>\n",
       "      <td>7315.19</td>\n",
       "      <td>-0.028047</td>\n",
       "      <td>8.897708</td>\n",
       "    </tr>\n",
       "    <tr>\n",
       "      <th>2019.03</th>\n",
       "      <td>45764.8</td>\n",
       "      <td>7053.08</td>\n",
       "      <td>-0.172110</td>\n",
       "      <td>8.861220</td>\n",
       "    </tr>\n",
       "    <tr>\n",
       "      <th>2019.04</th>\n",
       "      <td>19522.8</td>\n",
       "      <td>6929.28</td>\n",
       "      <td>-0.240155</td>\n",
       "      <td>8.843511</td>\n",
       "    </tr>\n",
       "    <tr>\n",
       "      <th>2019.05</th>\n",
       "      <td>6317.4</td>\n",
       "      <td>7829.12</td>\n",
       "      <td>0.254425</td>\n",
       "      <td>8.965605</td>\n",
       "    </tr>\n",
       "    <tr>\n",
       "      <th>2019.06</th>\n",
       "      <td>3057.8</td>\n",
       "      <td>10102.76</td>\n",
       "      <td>1.504086</td>\n",
       "      <td>9.220564</td>\n",
       "    </tr>\n",
       "    <tr>\n",
       "      <th>2019.07</th>\n",
       "      <td>2719.5</td>\n",
       "      <td>9641.66</td>\n",
       "      <td>1.250652</td>\n",
       "      <td>9.173849</td>\n",
       "    </tr>\n",
       "    <tr>\n",
       "      <th>2019.08</th>\n",
       "      <td>2600.3</td>\n",
       "      <td>9652.92</td>\n",
       "      <td>1.256840</td>\n",
       "      <td>9.175016</td>\n",
       "    </tr>\n",
       "    <tr>\n",
       "      <th>2019.09</th>\n",
       "      <td>7707.9</td>\n",
       "      <td>8600.76</td>\n",
       "      <td>0.678541</td>\n",
       "      <td>9.059606</td>\n",
       "    </tr>\n",
       "    <tr>\n",
       "      <th>2019.10</th>\n",
       "      <td>44640.7</td>\n",
       "      <td>8513.82</td>\n",
       "      <td>0.630756</td>\n",
       "      <td>9.049446</td>\n",
       "    </tr>\n",
       "    <tr>\n",
       "      <th>2019.11</th>\n",
       "      <td>197019.8</td>\n",
       "      <td>10883.37</td>\n",
       "      <td>1.933133</td>\n",
       "      <td>9.294991</td>\n",
       "    </tr>\n",
       "    <tr>\n",
       "      <th>2019.12</th>\n",
       "      <td>168976.9</td>\n",
       "      <td>10587.64</td>\n",
       "      <td>1.770591</td>\n",
       "      <td>9.267443</td>\n",
       "    </tr>\n",
       "    <tr>\n",
       "      <th>2020.01</th>\n",
       "      <td>127738.4</td>\n",
       "      <td>9092.51</td>\n",
       "      <td>0.948822</td>\n",
       "      <td>9.115206</td>\n",
       "    </tr>\n",
       "    <tr>\n",
       "      <th>2020.02</th>\n",
       "      <td>79244.6</td>\n",
       "      <td>8143.48</td>\n",
       "      <td>0.427206</td>\n",
       "      <td>9.004973</td>\n",
       "    </tr>\n",
       "    <tr>\n",
       "      <th>2020.03</th>\n",
       "      <td>40017.8</td>\n",
       "      <td>8750.54</td>\n",
       "      <td>0.760865</td>\n",
       "      <td>9.076871</td>\n",
       "    </tr>\n",
       "    <tr>\n",
       "      <th>2020.04</th>\n",
       "      <td>15953.7</td>\n",
       "      <td>7416.12</td>\n",
       "      <td>0.027427</td>\n",
       "      <td>8.911411</td>\n",
       "    </tr>\n",
       "    <tr>\n",
       "      <th>2020.05</th>\n",
       "      <td>6801.8</td>\n",
       "      <td>6400.26</td>\n",
       "      <td>-0.530920</td>\n",
       "      <td>8.764094</td>\n",
       "    </tr>\n",
       "    <tr>\n",
       "      <th>2020.06</th>\n",
       "      <td>2637.3</td>\n",
       "      <td>8821.51</td>\n",
       "      <td>0.799872</td>\n",
       "      <td>9.084948</td>\n",
       "    </tr>\n",
       "    <tr>\n",
       "      <th>2020.07</th>\n",
       "      <td>2473.0</td>\n",
       "      <td>8764.58</td>\n",
       "      <td>0.768582</td>\n",
       "      <td>9.078474</td>\n",
       "    </tr>\n",
       "    <tr>\n",
       "      <th>2020.08</th>\n",
       "      <td>2078.8</td>\n",
       "      <td>7536.39</td>\n",
       "      <td>0.093531</td>\n",
       "      <td>8.927499</td>\n",
       "    </tr>\n",
       "    <tr>\n",
       "      <th>2020.09</th>\n",
       "      <td>6449.1</td>\n",
       "      <td>9500.60</td>\n",
       "      <td>1.173121</td>\n",
       "      <td>9.159110</td>\n",
       "    </tr>\n",
       "    <tr>\n",
       "      <th>2020.10</th>\n",
       "      <td>45352.5</td>\n",
       "      <td>11017.58</td>\n",
       "      <td>2.006899</td>\n",
       "      <td>9.307247</td>\n",
       "    </tr>\n",
       "    <tr>\n",
       "      <th>2020.11</th>\n",
       "      <td>94746.6</td>\n",
       "      <td>13048.79</td>\n",
       "      <td>3.123313</td>\n",
       "      <td>9.476451</td>\n",
       "    </tr>\n",
       "    <tr>\n",
       "      <th>2020.12</th>\n",
       "      <td>134632.1</td>\n",
       "      <td>11078.21</td>\n",
       "      <td>2.040223</td>\n",
       "      <td>9.312735</td>\n",
       "    </tr>\n",
       "    <tr>\n",
       "      <th>2021.01</th>\n",
       "      <td>121173.1</td>\n",
       "      <td>9193.63</td>\n",
       "      <td>1.004401</td>\n",
       "      <td>9.126266</td>\n",
       "    </tr>\n",
       "    <tr>\n",
       "      <th>2021.02</th>\n",
       "      <td>85059.1</td>\n",
       "      <td>8785.29</td>\n",
       "      <td>0.779965</td>\n",
       "      <td>9.080834</td>\n",
       "    </tr>\n",
       "    <tr>\n",
       "      <th>2021.03</th>\n",
       "      <td>33416.2</td>\n",
       "      <td>7527.60</td>\n",
       "      <td>0.088700</td>\n",
       "      <td>8.926332</td>\n",
       "    </tr>\n",
       "    <tr>\n",
       "      <th>2021.04</th>\n",
       "      <td>3707.0</td>\n",
       "      <td>6674.00</td>\n",
       "      <td>-0.380464</td>\n",
       "      <td>8.805975</td>\n",
       "    </tr>\n",
       "  </tbody>\n",
       "</table>\n",
       "</div>"
      ],
      "text/plain": [
       "              qty  1kg price  1kg price_sc  1kg price_log\n",
       "date2                                                    \n",
       "2006.04   79398.5    4936.02     -1.335711       8.504315\n",
       "2006.05   34612.7    5231.31     -1.173410       8.562417\n",
       "2006.06   15556.6    5587.33     -0.977731       8.628257\n",
       "2006.07   14119.5    5494.06     -1.028995       8.611423\n",
       "2006.08   11779.5    5889.41     -0.811699       8.680911\n",
       "2006.09   32728.3    5988.83     -0.757055       8.697651\n",
       "2006.10  111902.4    6193.19     -0.644732       8.731206\n",
       "2006.11  413238.2    9521.17      1.184427       9.161273\n",
       "2006.12  328458.6    7473.42      0.058921       8.919108\n",
       "2007.01  316297.8    4944.34     -1.331138       8.505999\n",
       "2007.02  266473.0    5254.82     -1.160489       8.566901\n",
       "2007.03  175121.7    4707.51     -1.461307       8.456914\n",
       "2007.04   80941.9    4527.44     -1.560279       8.417912\n",
       "2007.05   21050.0    4808.74     -1.405668       8.478190\n",
       "2007.06   11234.5    5716.24     -0.906878       8.651067\n",
       "2007.07   11111.1    5213.10     -1.183419       8.558930\n",
       "2007.08   11275.8    5504.72     -1.023136       8.613361\n",
       "2007.09   36674.7    5294.71     -1.138564       8.574463\n",
       "2007.10  138345.7    4952.97     -1.326395       8.507743\n",
       "2007.11  443783.8    7721.41      0.195224       8.951752\n",
       "2007.12  354292.0    6071.24     -0.711759       8.711318\n",
       "2008.01  308009.9    4761.71     -1.431517       8.468362\n",
       "2008.02  255086.1    5093.07     -1.249391       8.535636\n",
       "2008.03  173494.4    4380.56     -1.641008       8.384932\n",
       "2008.04   73488.4    4672.05     -1.480797       8.449353\n",
       "2008.05   31259.3    4939.38     -1.333864       8.504995\n",
       "2008.06   17125.3    5829.88     -0.844418       8.670752\n",
       "2008.07   12011.8    5303.99     -1.133463       8.576215\n",
       "2008.08   15320.7    6432.03     -0.513458       8.769045\n",
       "2008.09   35957.2    6268.87     -0.603136       8.743351\n",
       "2008.10  132806.6    6553.43     -0.446733       8.787744\n",
       "2008.11  382149.0   10624.86      1.791048       9.270952\n",
       "2008.12  346432.3    7724.58      0.196966       8.952163\n",
       "2009.01  319591.3    7637.03      0.148846       8.940764\n",
       "2009.02  226840.3    6407.75     -0.526803       8.765263\n",
       "2009.03  150147.8    6556.24     -0.445189       8.788173\n",
       "2009.04   72059.4    6051.80     -0.722444       8.708111\n",
       "2009.05   25504.4    7133.33     -0.128003       8.872533\n",
       "2009.06   11958.5    8122.14      0.415477       9.002349\n",
       "2009.07   10557.5    6193.26     -0.644694       8.731217\n",
       "2009.08   10377.0    6575.02     -0.434867       8.791033\n",
       "2009.09   32421.0    6195.88     -0.643254       8.731640\n",
       "2009.10  108080.9    8266.41      0.494772       9.019956\n",
       "2009.11  290904.7   11623.89      2.340145       9.360818\n",
       "2009.12  336732.4    8555.58      0.653709       9.054339\n",
       "2010.01  288439.9    6550.00     -0.448618       8.787220\n",
       "2010.02  270642.4    7231.89     -0.073831       8.886256\n",
       "2010.03  160943.2    6209.89     -0.635553       8.733898\n",
       "2010.04   75300.5    5776.43     -0.873796       8.661541\n",
       "2010.05   24413.4    6192.42     -0.645155       8.731081\n",
       "2010.06   12718.1    6788.65     -0.317449       8.823007\n",
       "2010.07   10502.7    6158.18     -0.663975       8.725537\n",
       "2010.08   10929.2    6975.91     -0.214525       8.850218\n",
       "2010.09   27800.1    6844.76     -0.286609       8.831239\n",
       "2010.10   90912.9    7384.57      0.010086       8.907148\n",
       "2010.11  407915.5   10310.11      1.618052       9.240880\n",
       "2010.12  371607.4    9235.43      1.027375       9.130802\n",
       "2011.01  344297.5    8030.88      0.365318       8.991049\n",
       "2011.02  197344.1    7227.96     -0.075991       8.885712\n",
       "2011.03  165951.2    6429.64     -0.514772       8.768674\n",
       "2011.04   70253.8    6300.24     -0.585894       8.748343\n",
       "2011.05   31366.1    7142.72     -0.122842       8.873849\n",
       "2011.06   14156.3    8324.84      0.526887       9.026999\n",
       "2011.07    9990.7    6710.59     -0.360353       8.811442\n",
       "2011.08   10741.1    7910.20      0.298989       8.975908\n",
       "2011.09   19051.1    8955.13      0.873314       9.099982\n",
       "2011.10  120610.0    8179.71      0.447120       9.009412\n",
       "2011.11  385489.6   10588.56      1.771096       9.267529\n",
       "2011.12  363107.5    8485.39      0.615130       9.046101\n",
       "2012.01  341035.3    7590.75      0.123409       8.934686\n",
       "2012.02  250013.4    6398.97     -0.531629       8.763892\n",
       "2012.03  218023.0    5698.77     -0.916480       8.648006\n",
       "2012.04   82763.5    5106.26     -1.242142       8.538223\n",
       "2012.05   20826.7    4951.00     -1.327477       8.507345\n",
       "2012.06    9904.6    6414.86     -0.522896       8.766372\n",
       "2012.07    7310.0    6377.66     -0.543342       8.760557\n",
       "2012.08    7735.7    6642.91     -0.397552       8.801305\n",
       "2012.09   27519.1    7220.43     -0.080130       8.884670\n",
       "2012.10  113164.0    7043.02     -0.177640       8.859792\n",
       "2012.11  431260.3    9825.75      1.351833       9.192762\n",
       "2012.12  355446.7    8488.73      0.616966       9.046495\n",
       "2013.01  300715.5    6010.28     -0.745265       8.701227\n",
       "2013.02  182736.3    5004.86     -1.297874       8.518165\n",
       "2013.03  129232.9    4238.02     -1.719353       8.351851\n",
       "2013.04   59047.7    4348.35     -1.658712       8.377552\n",
       "2013.05   19478.5    4777.04     -1.423091       8.471576\n",
       "2013.06    9256.4    5528.58     -1.010022       8.617686\n",
       "2013.07    8369.9    4663.88     -1.485287       8.447603\n",
       "2013.08    7484.1    4972.57     -1.315622       8.511692\n",
       "2013.09   23116.2    5579.93     -0.981798       8.626932\n",
       "2013.10   89070.5    7696.24      0.181390       8.948487\n",
       "2013.11  294795.9   10790.71      1.882204       9.286441\n",
       "2013.12  301394.6    8204.70      0.460855       9.012462\n",
       "2014.01  319349.5    7589.58      0.122766       8.934532\n",
       "2014.02  172980.0    6827.18     -0.296272       8.828667\n",
       "2014.03  112662.4    6518.81     -0.465761       8.782447\n",
       "2014.04   34624.2    6689.52     -0.371934       8.808297\n",
       "2014.05   15500.8    6955.69     -0.225639       8.847315\n",
       "2014.06    7241.2    7977.24      0.335836       8.984348\n",
       "2014.07    6509.9    6652.19     -0.392452       8.802701\n",
       "2014.08    7771.2    8094.07      0.400049       8.998887\n",
       "2014.09   20884.1    7501.94      0.074597       8.922917\n",
       "2014.10  104345.0    8569.88      0.661569       9.056009\n",
       "2014.11  321663.8   11026.08      2.011571       9.308019\n",
       "2014.12  271570.1   10264.20      1.592818       9.236417\n",
       "2015.01  269650.5    6841.69     -0.288297       8.830790\n",
       "2015.02  213294.1    7068.74     -0.163503       8.863438\n",
       "2015.03   87414.9    6486.79     -0.483361       8.777523\n",
       "2015.04   33202.6    6345.41     -0.561067       8.755487\n",
       "2015.05   11032.2    7498.62      0.072772       8.922474\n",
       "2015.06    5807.0    8889.75      0.837379       9.092654\n",
       "2015.07    4956.2    8515.53      0.631696       9.049647\n",
       "2015.08    4656.5    9900.73      1.393044       9.200364\n",
       "2015.09   14450.7    9060.45      0.931201       9.111674\n",
       "2015.10   57062.6    9102.48      0.954302       9.116302\n",
       "2015.11  231306.0   11337.99      2.183006       9.335914\n",
       "2015.12  213349.8   11009.63      2.002529       9.306526\n",
       "2016.01  219956.6    8843.49      0.811953       9.087437\n",
       "2016.02  174987.0    7659.27      0.161070       8.943672\n",
       "2016.03   83039.2    7447.35      0.044592       8.915614\n",
       "2016.04   24744.1    6598.09     -0.422187       8.794535\n",
       "2016.05    9228.3    7069.62     -0.163020       8.863562\n",
       "2016.06    4386.3    7353.73     -0.006864       8.902963\n",
       "2016.07    4046.0    6424.57     -0.517559       8.767885\n",
       "2016.08    4139.5    7174.28     -0.105495       8.878258\n",
       "2016.09   11641.5    8120.85      0.414768       9.002190\n",
       "2016.10   44367.4    8386.30      0.560668       9.034355\n",
       "2016.11  223939.9   11412.42      2.223915       9.342458\n",
       "2016.12  226159.5   10523.73      1.735464       9.261388\n",
       "2017.01  197778.5    8835.77      0.807710       9.086564\n",
       "2017.02  125269.3    5890.84     -0.810913       8.681154\n",
       "2017.03   80144.2    5166.34     -1.209120       8.549920\n",
       "2017.04   26073.8    5036.64     -1.280407       8.524494\n",
       "2017.05    8696.5    5342.36     -1.112374       8.583423\n",
       "2017.06    5200.4    6428.37     -0.515470       8.768476\n",
       "2017.07    3805.1    4666.43     -1.483886       8.448150\n",
       "2017.08    4255.7    6884.24     -0.264910       8.836990\n",
       "2017.09   11844.0    6460.74     -0.497678       8.773499\n",
       "2017.10   57081.2    8062.15      0.382505       8.994936\n",
       "2017.11  253901.7   10571.30      1.761610       9.265898\n",
       "2017.12  238625.0    9688.57      1.276435       9.178702\n",
       "2018.01  196652.5    6928.24     -0.240726       8.843361\n",
       "2018.02  156748.5    7603.04      0.130164       8.936303\n",
       "2018.03   74501.7    6264.94     -0.605296       8.742724\n",
       "2018.04   15184.3    6219.59     -0.630222       8.735459\n",
       "2018.05    6441.9    6541.66     -0.453202       8.785946\n",
       "2018.06    4013.7    7046.24     -0.175870       8.860249\n",
       "2018.07    2940.0    7111.59     -0.139952       8.869481\n",
       "2018.08    2821.9    7309.68     -0.031075       8.896955\n",
       "2018.09   11246.3    7435.11      0.037865       8.913969\n",
       "2018.10   45250.7    8870.08      0.826568       9.090439\n",
       "2018.11  219802.8   10990.63      1.992086       9.304798\n",
       "2018.12  187917.3   11008.27      2.001782       9.306402\n",
       "2019.01  188790.9    7871.08      0.277487       8.970951\n",
       "2019.02   96313.9    7315.19     -0.028047       8.897708\n",
       "2019.03   45764.8    7053.08     -0.172110       8.861220\n",
       "2019.04   19522.8    6929.28     -0.240155       8.843511\n",
       "2019.05    6317.4    7829.12      0.254425       8.965605\n",
       "2019.06    3057.8   10102.76      1.504086       9.220564\n",
       "2019.07    2719.5    9641.66      1.250652       9.173849\n",
       "2019.08    2600.3    9652.92      1.256840       9.175016\n",
       "2019.09    7707.9    8600.76      0.678541       9.059606\n",
       "2019.10   44640.7    8513.82      0.630756       9.049446\n",
       "2019.11  197019.8   10883.37      1.933133       9.294991\n",
       "2019.12  168976.9   10587.64      1.770591       9.267443\n",
       "2020.01  127738.4    9092.51      0.948822       9.115206\n",
       "2020.02   79244.6    8143.48      0.427206       9.004973\n",
       "2020.03   40017.8    8750.54      0.760865       9.076871\n",
       "2020.04   15953.7    7416.12      0.027427       8.911411\n",
       "2020.05    6801.8    6400.26     -0.530920       8.764094\n",
       "2020.06    2637.3    8821.51      0.799872       9.084948\n",
       "2020.07    2473.0    8764.58      0.768582       9.078474\n",
       "2020.08    2078.8    7536.39      0.093531       8.927499\n",
       "2020.09    6449.1    9500.60      1.173121       9.159110\n",
       "2020.10   45352.5   11017.58      2.006899       9.307247\n",
       "2020.11   94746.6   13048.79      3.123313       9.476451\n",
       "2020.12  134632.1   11078.21      2.040223       9.312735\n",
       "2021.01  121173.1    9193.63      1.004401       9.126266\n",
       "2021.02   85059.1    8785.29      0.779965       9.080834\n",
       "2021.03   33416.2    7527.60      0.088700       8.926332\n",
       "2021.04    3707.0    6674.00     -0.380464       8.805975"
      ]
     },
     "execution_count": 598,
     "metadata": {},
     "output_type": "execute_result"
    }
   ],
   "source": [
    "grouped_lr"
   ]
  },
  {
   "cell_type": "markdown",
   "metadata": {},
   "source": [
    "# 표준화 스케일링 후 시계열 분석"
   ]
  },
  {
   "cell_type": "code",
   "execution_count": 147,
   "metadata": {
    "ExecuteTime": {
     "end_time": "2021-04-25T15:12:48.436393Z",
     "start_time": "2021-04-25T15:12:48.412935Z"
    }
   },
   "outputs": [
    {
     "data": {
      "text/plain": [
       "(181, 135)"
      ]
     },
     "execution_count": 147,
     "metadata": {},
     "output_type": "execute_result"
    }
   ],
   "source": [
    "y= grouped_lr['1kg price_sc'].values\n",
    "ratio = 0.75\n",
    "cut = np.int(len(y)*ratio)\n",
    "cut\n",
    "train = y[:cut]\n",
    "test = y[cut:]\n",
    "len(y), len(train)"
   ]
  },
  {
   "cell_type": "code",
   "execution_count": 599,
   "metadata": {
    "ExecuteTime": {
     "end_time": "2021-04-26T12:57:31.989029Z",
     "start_time": "2021-04-26T12:57:31.965397Z"
    }
   },
   "outputs": [
    {
     "data": {
      "text/plain": [
       "2006-04-04    4948.71\n",
       "2006-04-05    4447.32\n",
       "2006-04-06    4620.74\n",
       "2006-04-07    4060.83\n",
       "2006-04-08    4547.00\n",
       "               ...   \n",
       "2017-07-03    4550.08\n",
       "2017-07-04    5544.34\n",
       "2017-07-05    6250.78\n",
       "2017-07-06    5107.33\n",
       "2017-07-07    3903.41\n",
       "Freq: D, Name: 1kg price, Length: 4113, dtype: float64"
      ]
     },
     "execution_count": 599,
     "metadata": {},
     "output_type": "execute_result"
    }
   ],
   "source": [
    "train"
   ]
  },
  {
   "cell_type": "code",
   "execution_count": 594,
   "metadata": {
    "ExecuteTime": {
     "end_time": "2021-04-26T12:56:41.465143Z",
     "start_time": "2021-04-26T12:56:40.891448Z"
    }
   },
   "outputs": [
    {
     "ename": "KeyError",
     "evalue": "10",
     "output_type": "error",
     "traceback": [
      "\u001b[1;31m---------------------------------------------------------------------------\u001b[0m",
      "\u001b[1;31mKeyError\u001b[0m                                  Traceback (most recent call last)",
      "\u001b[1;32m~\\anaconda3\\lib\\site-packages\\pandas\\core\\indexes\\base.py\u001b[0m in \u001b[0;36mget_loc\u001b[1;34m(self, key, method, tolerance)\u001b[0m\n\u001b[0;32m   2894\u001b[0m             \u001b[1;32mtry\u001b[0m\u001b[1;33m:\u001b[0m\u001b[1;33m\u001b[0m\u001b[1;33m\u001b[0m\u001b[0m\n\u001b[1;32m-> 2895\u001b[1;33m                 \u001b[1;32mreturn\u001b[0m \u001b[0mself\u001b[0m\u001b[1;33m.\u001b[0m\u001b[0m_engine\u001b[0m\u001b[1;33m.\u001b[0m\u001b[0mget_loc\u001b[0m\u001b[1;33m(\u001b[0m\u001b[0mcasted_key\u001b[0m\u001b[1;33m)\u001b[0m\u001b[1;33m\u001b[0m\u001b[1;33m\u001b[0m\u001b[0m\n\u001b[0m\u001b[0;32m   2896\u001b[0m             \u001b[1;32mexcept\u001b[0m \u001b[0mKeyError\u001b[0m \u001b[1;32mas\u001b[0m \u001b[0merr\u001b[0m\u001b[1;33m:\u001b[0m\u001b[1;33m\u001b[0m\u001b[1;33m\u001b[0m\u001b[0m\n",
      "\u001b[1;32mpandas\\_libs\\index.pyx\u001b[0m in \u001b[0;36mpandas._libs.index.IndexEngine.get_loc\u001b[1;34m()\u001b[0m\n",
      "\u001b[1;32mpandas\\_libs\\index.pyx\u001b[0m in \u001b[0;36mpandas._libs.index.IndexEngine.get_loc\u001b[1;34m()\u001b[0m\n",
      "\u001b[1;32mpandas\\_libs\\hashtable_class_helper.pxi\u001b[0m in \u001b[0;36mpandas._libs.hashtable.PyObjectHashTable.get_item\u001b[1;34m()\u001b[0m\n",
      "\u001b[1;32mpandas\\_libs\\hashtable_class_helper.pxi\u001b[0m in \u001b[0;36mpandas._libs.hashtable.PyObjectHashTable.get_item\u001b[1;34m()\u001b[0m\n",
      "\u001b[1;31mKeyError\u001b[0m: 10",
      "\nThe above exception was the direct cause of the following exception:\n",
      "\u001b[1;31mKeyError\u001b[0m                                  Traceback (most recent call last)",
      "\u001b[1;32m<ipython-input-594-cf0637ed5138>\u001b[0m in \u001b[0;36m<module>\u001b[1;34m\u001b[0m\n\u001b[0;32m      8\u001b[0m \u001b[1;33m\u001b[0m\u001b[0m\n\u001b[0;32m      9\u001b[0m \u001b[1;31m# 검증데이터\u001b[0m\u001b[1;33m\u001b[0m\u001b[1;33m\u001b[0m\u001b[1;33m\u001b[0m\u001b[0m\n\u001b[1;32m---> 10\u001b[1;33m \u001b[0mtest_x\u001b[0m\u001b[1;33m,\u001b[0m \u001b[0mtest_y\u001b[0m \u001b[1;33m=\u001b[0m \u001b[0msplit_seq\u001b[0m\u001b[1;33m(\u001b[0m\u001b[0mtest\u001b[0m\u001b[1;33m,\u001b[0m\u001b[0mn_steps\u001b[0m\u001b[1;33m)\u001b[0m\u001b[1;33m\u001b[0m\u001b[1;33m\u001b[0m\u001b[0m\n\u001b[0m\u001b[0;32m     11\u001b[0m \u001b[1;33m\u001b[0m\u001b[0m\n\u001b[0;32m     12\u001b[0m \u001b[0mlr\u001b[0m\u001b[1;33m.\u001b[0m\u001b[0mfit\u001b[0m\u001b[1;33m(\u001b[0m\u001b[0mtrain_x\u001b[0m\u001b[1;33m,\u001b[0m\u001b[0mtrain_y\u001b[0m\u001b[1;33m)\u001b[0m\u001b[1;33m\u001b[0m\u001b[1;33m\u001b[0m\u001b[0m\n",
      "\u001b[1;32m<ipython-input-135-004161e4d4c2>\u001b[0m in \u001b[0;36msplit_seq\u001b[1;34m(data, n_steps)\u001b[0m\n\u001b[0;32m      4\u001b[0m         \u001b[1;32mif\u001b[0m \u001b[0mi\u001b[0m \u001b[1;33m>\u001b[0m \u001b[0mlen\u001b[0m\u001b[1;33m(\u001b[0m\u001b[0mdata\u001b[0m\u001b[1;33m)\u001b[0m\u001b[1;33m-\u001b[0m\u001b[1;33m(\u001b[0m\u001b[0mn_steps\u001b[0m\u001b[1;33m+\u001b[0m\u001b[1;36m1\u001b[0m\u001b[1;33m)\u001b[0m \u001b[1;33m:\u001b[0m \u001b[1;32mbreak\u001b[0m\u001b[1;33m\u001b[0m\u001b[1;33m\u001b[0m\u001b[0m\n\u001b[0;32m      5\u001b[0m         \u001b[0mx\u001b[0m\u001b[1;33m.\u001b[0m\u001b[0mappend\u001b[0m\u001b[1;33m(\u001b[0m\u001b[0mdata\u001b[0m\u001b[1;33m[\u001b[0m\u001b[0mi\u001b[0m\u001b[1;33m:\u001b[0m\u001b[0mi\u001b[0m\u001b[1;33m+\u001b[0m\u001b[0mn_steps\u001b[0m\u001b[1;33m]\u001b[0m\u001b[1;33m)\u001b[0m\u001b[1;33m\u001b[0m\u001b[1;33m\u001b[0m\u001b[0m\n\u001b[1;32m----> 6\u001b[1;33m         \u001b[0my\u001b[0m\u001b[1;33m.\u001b[0m\u001b[0mappend\u001b[0m\u001b[1;33m(\u001b[0m\u001b[0mdata\u001b[0m\u001b[1;33m[\u001b[0m\u001b[0mi\u001b[0m\u001b[1;33m+\u001b[0m\u001b[0mn_steps\u001b[0m\u001b[1;33m]\u001b[0m\u001b[1;33m)\u001b[0m\u001b[1;33m\u001b[0m\u001b[1;33m\u001b[0m\u001b[0m\n\u001b[0m\u001b[0;32m      7\u001b[0m     \u001b[1;32mreturn\u001b[0m \u001b[0mnp\u001b[0m\u001b[1;33m.\u001b[0m\u001b[0marray\u001b[0m\u001b[1;33m(\u001b[0m\u001b[0mx\u001b[0m\u001b[1;33m)\u001b[0m\u001b[1;33m,\u001b[0m \u001b[0mnp\u001b[0m\u001b[1;33m.\u001b[0m\u001b[0marray\u001b[0m\u001b[1;33m(\u001b[0m\u001b[0my\u001b[0m\u001b[1;33m)\u001b[0m\u001b[1;33m\u001b[0m\u001b[1;33m\u001b[0m\u001b[0m\n",
      "\u001b[1;32m~\\anaconda3\\lib\\site-packages\\pandas\\core\\frame.py\u001b[0m in \u001b[0;36m__getitem__\u001b[1;34m(self, key)\u001b[0m\n\u001b[0;32m   2900\u001b[0m             \u001b[1;32mif\u001b[0m \u001b[0mself\u001b[0m\u001b[1;33m.\u001b[0m\u001b[0mcolumns\u001b[0m\u001b[1;33m.\u001b[0m\u001b[0mnlevels\u001b[0m \u001b[1;33m>\u001b[0m \u001b[1;36m1\u001b[0m\u001b[1;33m:\u001b[0m\u001b[1;33m\u001b[0m\u001b[1;33m\u001b[0m\u001b[0m\n\u001b[0;32m   2901\u001b[0m                 \u001b[1;32mreturn\u001b[0m \u001b[0mself\u001b[0m\u001b[1;33m.\u001b[0m\u001b[0m_getitem_multilevel\u001b[0m\u001b[1;33m(\u001b[0m\u001b[0mkey\u001b[0m\u001b[1;33m)\u001b[0m\u001b[1;33m\u001b[0m\u001b[1;33m\u001b[0m\u001b[0m\n\u001b[1;32m-> 2902\u001b[1;33m             \u001b[0mindexer\u001b[0m \u001b[1;33m=\u001b[0m \u001b[0mself\u001b[0m\u001b[1;33m.\u001b[0m\u001b[0mcolumns\u001b[0m\u001b[1;33m.\u001b[0m\u001b[0mget_loc\u001b[0m\u001b[1;33m(\u001b[0m\u001b[0mkey\u001b[0m\u001b[1;33m)\u001b[0m\u001b[1;33m\u001b[0m\u001b[1;33m\u001b[0m\u001b[0m\n\u001b[0m\u001b[0;32m   2903\u001b[0m             \u001b[1;32mif\u001b[0m \u001b[0mis_integer\u001b[0m\u001b[1;33m(\u001b[0m\u001b[0mindexer\u001b[0m\u001b[1;33m)\u001b[0m\u001b[1;33m:\u001b[0m\u001b[1;33m\u001b[0m\u001b[1;33m\u001b[0m\u001b[0m\n\u001b[0;32m   2904\u001b[0m                 \u001b[0mindexer\u001b[0m \u001b[1;33m=\u001b[0m \u001b[1;33m[\u001b[0m\u001b[0mindexer\u001b[0m\u001b[1;33m]\u001b[0m\u001b[1;33m\u001b[0m\u001b[1;33m\u001b[0m\u001b[0m\n",
      "\u001b[1;32m~\\anaconda3\\lib\\site-packages\\pandas\\core\\indexes\\base.py\u001b[0m in \u001b[0;36mget_loc\u001b[1;34m(self, key, method, tolerance)\u001b[0m\n\u001b[0;32m   2895\u001b[0m                 \u001b[1;32mreturn\u001b[0m \u001b[0mself\u001b[0m\u001b[1;33m.\u001b[0m\u001b[0m_engine\u001b[0m\u001b[1;33m.\u001b[0m\u001b[0mget_loc\u001b[0m\u001b[1;33m(\u001b[0m\u001b[0mcasted_key\u001b[0m\u001b[1;33m)\u001b[0m\u001b[1;33m\u001b[0m\u001b[1;33m\u001b[0m\u001b[0m\n\u001b[0;32m   2896\u001b[0m             \u001b[1;32mexcept\u001b[0m \u001b[0mKeyError\u001b[0m \u001b[1;32mas\u001b[0m \u001b[0merr\u001b[0m\u001b[1;33m:\u001b[0m\u001b[1;33m\u001b[0m\u001b[1;33m\u001b[0m\u001b[0m\n\u001b[1;32m-> 2897\u001b[1;33m                 \u001b[1;32mraise\u001b[0m \u001b[0mKeyError\u001b[0m\u001b[1;33m(\u001b[0m\u001b[0mkey\u001b[0m\u001b[1;33m)\u001b[0m \u001b[1;32mfrom\u001b[0m \u001b[0merr\u001b[0m\u001b[1;33m\u001b[0m\u001b[1;33m\u001b[0m\u001b[0m\n\u001b[0m\u001b[0;32m   2898\u001b[0m \u001b[1;33m\u001b[0m\u001b[0m\n\u001b[0;32m   2899\u001b[0m         \u001b[1;32mif\u001b[0m \u001b[0mtolerance\u001b[0m \u001b[1;32mis\u001b[0m \u001b[1;32mnot\u001b[0m \u001b[1;32mNone\u001b[0m\u001b[1;33m:\u001b[0m\u001b[1;33m\u001b[0m\u001b[1;33m\u001b[0m\u001b[0m\n",
      "\u001b[1;31mKeyError\u001b[0m: 10"
     ]
    }
   ],
   "source": [
    "# 모델만들기\n",
    "lr = LinearRegression()\n",
    "\n",
    "n_steps = 10\n",
    "\n",
    "# 훈련데이터\n",
    "train_x, train_y = split_seq(train,n_steps) # 사용자정의함수\n",
    "\n",
    "# 검증데이터\n",
    "test_x, test_y = split_seq(test,n_steps)\n",
    "\n",
    "lr.fit(train_x,train_y)\n",
    "\n",
    "y_pred = lr.predict(test_x)\n",
    "mse = mean_squared_error(test_y,y_pred)\n",
    "rmse = np.sqrt(mse)\n",
    "\n",
    "print('MSE : {0:.3f}, RMSE : {1:.3f}'.format(mse, rmse))\n",
    "print('Variance Score : {0:.3f}'.format(r2_score(test_y,y_pred)))"
   ]
  },
  {
   "cell_type": "markdown",
   "metadata": {},
   "source": [
    "# 로그 변환 후 시계열 분석"
   ]
  },
  {
   "cell_type": "code",
   "execution_count": 149,
   "metadata": {
    "ExecuteTime": {
     "end_time": "2021-04-25T15:12:51.984538Z",
     "start_time": "2021-04-25T15:12:51.962488Z"
    }
   },
   "outputs": [
    {
     "data": {
      "text/plain": [
       "(181, 135)"
      ]
     },
     "execution_count": 149,
     "metadata": {},
     "output_type": "execute_result"
    }
   ],
   "source": [
    "y= grouped_lr['1kg price_log'].values\n",
    "ratio = 0.75\n",
    "cut = np.int(len(y)*ratio)\n",
    "cut\n",
    "train = y[:cut]\n",
    "test = y[cut:]\n",
    "len(y), len(train)"
   ]
  },
  {
   "cell_type": "code",
   "execution_count": 150,
   "metadata": {
    "ExecuteTime": {
     "end_time": "2021-04-25T15:12:53.079737Z",
     "start_time": "2021-04-25T15:12:53.061306Z"
    }
   },
   "outputs": [
    {
     "name": "stdout",
     "output_type": "stream",
     "text": [
      "MSE : 0.024, RMSE : 0.024\n",
      "Variance Score : 0.220\n"
     ]
    }
   ],
   "source": [
    "# 모델만들기\n",
    "lr = LinearRegression()\n",
    "\n",
    "n_steps = 10\n",
    "\n",
    "# 훈련데이터\n",
    "train_x, train_y = split_seq(train,n_steps) # 사용자정의함수\n",
    "\n",
    "# 검증데이터\n",
    "test_x, test_y = split_seq(test,n_steps)\n",
    "\n",
    "lr.fit(train_x,train_y)\n",
    "\n",
    "y_pred = lr.predict(test_x)\n",
    "mse = mean_squared_error(test_y,y_pred)\n",
    "rmse = np.sqrt(mse)\n",
    "\n",
    "print('MSE : {0:.3f}, RMSE : {0:.3f}'.format(mse, rmse))\n",
    "print('Variance Score : {0:.3f}'.format(r2_score(test_y,y_pred)))"
   ]
  },
  {
   "cell_type": "markdown",
   "metadata": {
    "ExecuteTime": {
     "end_time": "2021-04-25T14:16:56.770644Z",
     "start_time": "2021-04-25T14:16:56.762654Z"
    }
   },
   "source": [
    "# 월별 시계열 데이터를 사용하는 경우 예측율이 현저히 낮음\n",
    "# 일별 데이터를 사용하되 빈 날짜를 채워서 예측"
   ]
  },
  {
   "cell_type": "code",
   "execution_count": 151,
   "metadata": {
    "ExecuteTime": {
     "end_time": "2021-04-25T15:13:53.691226Z",
     "start_time": "2021-04-25T15:13:53.626756Z"
    }
   },
   "outputs": [
    {
     "data": {
      "text/html": [
       "<div>\n",
       "<style scoped>\n",
       "    .dataframe tbody tr th:only-of-type {\n",
       "        vertical-align: middle;\n",
       "    }\n",
       "\n",
       "    .dataframe tbody tr th {\n",
       "        vertical-align: top;\n",
       "    }\n",
       "\n",
       "    .dataframe thead th {\n",
       "        text-align: right;\n",
       "    }\n",
       "</style>\n",
       "<table border=\"1\" class=\"dataframe\">\n",
       "  <thead>\n",
       "    <tr style=\"text-align: right;\">\n",
       "      <th></th>\n",
       "      <th>qty</th>\n",
       "      <th>1kg price</th>\n",
       "    </tr>\n",
       "    <tr>\n",
       "      <th>date</th>\n",
       "      <th></th>\n",
       "      <th></th>\n",
       "    </tr>\n",
       "  </thead>\n",
       "  <tbody>\n",
       "    <tr>\n",
       "      <th>2006.04.04</th>\n",
       "      <td>978.3</td>\n",
       "      <td>4948.71</td>\n",
       "    </tr>\n",
       "    <tr>\n",
       "      <th>2006.04.05</th>\n",
       "      <td>4600.7</td>\n",
       "      <td>4447.32</td>\n",
       "    </tr>\n",
       "    <tr>\n",
       "      <th>2006.04.06</th>\n",
       "      <td>3842.2</td>\n",
       "      <td>4620.74</td>\n",
       "    </tr>\n",
       "    <tr>\n",
       "      <th>2006.04.07</th>\n",
       "      <td>4777.3</td>\n",
       "      <td>4060.83</td>\n",
       "    </tr>\n",
       "    <tr>\n",
       "      <th>2006.04.08</th>\n",
       "      <td>4773.5</td>\n",
       "      <td>4547.00</td>\n",
       "    </tr>\n",
       "    <tr>\n",
       "      <th>...</th>\n",
       "      <td>...</td>\n",
       "      <td>...</td>\n",
       "    </tr>\n",
       "    <tr>\n",
       "      <th>2021.04.03</th>\n",
       "      <td>561.4</td>\n",
       "      <td>4642.59</td>\n",
       "    </tr>\n",
       "    <tr>\n",
       "      <th>2021.04.05</th>\n",
       "      <td>421.1</td>\n",
       "      <td>5653.34</td>\n",
       "    </tr>\n",
       "    <tr>\n",
       "      <th>2021.04.06</th>\n",
       "      <td>290.7</td>\n",
       "      <td>7392.06</td>\n",
       "    </tr>\n",
       "    <tr>\n",
       "      <th>2021.04.07</th>\n",
       "      <td>399.9</td>\n",
       "      <td>7735.17</td>\n",
       "    </tr>\n",
       "    <tr>\n",
       "      <th>2021.04.08</th>\n",
       "      <td>418.7</td>\n",
       "      <td>8752.01</td>\n",
       "    </tr>\n",
       "  </tbody>\n",
       "</table>\n",
       "<p>4602 rows × 2 columns</p>\n",
       "</div>"
      ],
      "text/plain": [
       "               qty  1kg price\n",
       "date                         \n",
       "2006.04.04   978.3    4948.71\n",
       "2006.04.05  4600.7    4447.32\n",
       "2006.04.06  3842.2    4620.74\n",
       "2006.04.07  4777.3    4060.83\n",
       "2006.04.08  4773.5    4547.00\n",
       "...            ...        ...\n",
       "2021.04.03   561.4    4642.59\n",
       "2021.04.05   421.1    5653.34\n",
       "2021.04.06   290.7    7392.06\n",
       "2021.04.07   399.9    7735.17\n",
       "2021.04.08   418.7    8752.01\n",
       "\n",
       "[4602 rows x 2 columns]"
      ]
     },
     "execution_count": 151,
     "metadata": {},
     "output_type": "execute_result"
    }
   ],
   "source": [
    "group = data_lr.groupby(['date'])\n",
    "grouped_day = group.agg({'qty':'sum','1kg price':'mean'}).round(2)\n",
    "grouped_day"
   ]
  },
  {
   "cell_type": "code",
   "execution_count": 160,
   "metadata": {
    "ExecuteTime": {
     "end_time": "2021-04-25T15:18:04.836145Z",
     "start_time": "2021-04-25T15:18:04.818047Z"
    }
   },
   "outputs": [],
   "source": [
    "grouped_day=grouped_day.reset_index()"
   ]
  },
  {
   "cell_type": "code",
   "execution_count": 178,
   "metadata": {
    "ExecuteTime": {
     "end_time": "2021-04-25T15:21:07.852537Z",
     "start_time": "2021-04-25T15:21:07.830407Z"
    }
   },
   "outputs": [
    {
     "data": {
      "text/html": [
       "<div>\n",
       "<style scoped>\n",
       "    .dataframe tbody tr th:only-of-type {\n",
       "        vertical-align: middle;\n",
       "    }\n",
       "\n",
       "    .dataframe tbody tr th {\n",
       "        vertical-align: top;\n",
       "    }\n",
       "\n",
       "    .dataframe thead th {\n",
       "        text-align: right;\n",
       "    }\n",
       "</style>\n",
       "<table border=\"1\" class=\"dataframe\">\n",
       "  <thead>\n",
       "    <tr style=\"text-align: right;\">\n",
       "      <th></th>\n",
       "      <th>date</th>\n",
       "      <th>qty</th>\n",
       "      <th>1kg price</th>\n",
       "    </tr>\n",
       "  </thead>\n",
       "  <tbody>\n",
       "    <tr>\n",
       "      <th>0</th>\n",
       "      <td>2006.04.04</td>\n",
       "      <td>978.3</td>\n",
       "      <td>4948.71</td>\n",
       "    </tr>\n",
       "    <tr>\n",
       "      <th>1</th>\n",
       "      <td>2006.04.05</td>\n",
       "      <td>4600.7</td>\n",
       "      <td>4447.32</td>\n",
       "    </tr>\n",
       "    <tr>\n",
       "      <th>2</th>\n",
       "      <td>2006.04.06</td>\n",
       "      <td>3842.2</td>\n",
       "      <td>4620.74</td>\n",
       "    </tr>\n",
       "    <tr>\n",
       "      <th>3</th>\n",
       "      <td>2006.04.07</td>\n",
       "      <td>4777.3</td>\n",
       "      <td>4060.83</td>\n",
       "    </tr>\n",
       "    <tr>\n",
       "      <th>4</th>\n",
       "      <td>2006.04.08</td>\n",
       "      <td>4773.5</td>\n",
       "      <td>4547.00</td>\n",
       "    </tr>\n",
       "    <tr>\n",
       "      <th>...</th>\n",
       "      <td>...</td>\n",
       "      <td>...</td>\n",
       "      <td>...</td>\n",
       "    </tr>\n",
       "    <tr>\n",
       "      <th>4597</th>\n",
       "      <td>2021.04.03</td>\n",
       "      <td>561.4</td>\n",
       "      <td>4642.59</td>\n",
       "    </tr>\n",
       "    <tr>\n",
       "      <th>4598</th>\n",
       "      <td>2021.04.05</td>\n",
       "      <td>421.1</td>\n",
       "      <td>5653.34</td>\n",
       "    </tr>\n",
       "    <tr>\n",
       "      <th>4599</th>\n",
       "      <td>2021.04.06</td>\n",
       "      <td>290.7</td>\n",
       "      <td>7392.06</td>\n",
       "    </tr>\n",
       "    <tr>\n",
       "      <th>4600</th>\n",
       "      <td>2021.04.07</td>\n",
       "      <td>399.9</td>\n",
       "      <td>7735.17</td>\n",
       "    </tr>\n",
       "    <tr>\n",
       "      <th>4601</th>\n",
       "      <td>2021.04.08</td>\n",
       "      <td>418.7</td>\n",
       "      <td>8752.01</td>\n",
       "    </tr>\n",
       "  </tbody>\n",
       "</table>\n",
       "<p>4602 rows × 3 columns</p>\n",
       "</div>"
      ],
      "text/plain": [
       "            date     qty  1kg price\n",
       "0     2006.04.04   978.3    4948.71\n",
       "1     2006.04.05  4600.7    4447.32\n",
       "2     2006.04.06  3842.2    4620.74\n",
       "3     2006.04.07  4777.3    4060.83\n",
       "4     2006.04.08  4773.5    4547.00\n",
       "...          ...     ...        ...\n",
       "4597  2021.04.03   561.4    4642.59\n",
       "4598  2021.04.05   421.1    5653.34\n",
       "4599  2021.04.06   290.7    7392.06\n",
       "4600  2021.04.07   399.9    7735.17\n",
       "4601  2021.04.08   418.7    8752.01\n",
       "\n",
       "[4602 rows x 3 columns]"
      ]
     },
     "execution_count": 178,
     "metadata": {},
     "output_type": "execute_result"
    }
   ],
   "source": [
    "grouped_day"
   ]
  },
  {
   "cell_type": "code",
   "execution_count": 155,
   "metadata": {
    "ExecuteTime": {
     "end_time": "2021-04-25T15:15:44.412406Z",
     "start_time": "2021-04-25T15:15:44.402188Z"
    }
   },
   "outputs": [],
   "source": [
    "day_index=pd.date_range('2006.04.04', '2021.04.08', freq='D')"
   ]
  },
  {
   "cell_type": "code",
   "execution_count": 164,
   "metadata": {
    "ExecuteTime": {
     "end_time": "2021-04-25T15:18:19.105571Z",
     "start_time": "2021-04-25T15:18:19.093358Z"
    }
   },
   "outputs": [],
   "source": [
    "series = pd.DataFrame(index=day_index, columns=['qty','1kg price'])"
   ]
  },
  {
   "cell_type": "code",
   "execution_count": 167,
   "metadata": {
    "ExecuteTime": {
     "end_time": "2021-04-25T15:18:55.890793Z",
     "start_time": "2021-04-25T15:18:55.880126Z"
    }
   },
   "outputs": [],
   "source": [
    "series = series.reset_index()"
   ]
  },
  {
   "cell_type": "code",
   "execution_count": 171,
   "metadata": {
    "ExecuteTime": {
     "end_time": "2021-04-25T15:19:48.330245Z",
     "start_time": "2021-04-25T15:19:48.297097Z"
    }
   },
   "outputs": [
    {
     "name": "stdout",
     "output_type": "stream",
     "text": [
      "<class 'pandas.core.frame.DataFrame'>\n",
      "RangeIndex: 5484 entries, 0 to 5483\n",
      "Data columns (total 3 columns):\n",
      " #   Column     Non-Null Count  Dtype         \n",
      "---  ------     --------------  -----         \n",
      " 0   index      5484 non-null   datetime64[ns]\n",
      " 1   qty        0 non-null      object        \n",
      " 2   1kg price  0 non-null      object        \n",
      "dtypes: datetime64[ns](1), object(2)\n",
      "memory usage: 128.7+ KB\n"
     ]
    }
   ],
   "source": [
    "series.info()"
   ]
  },
  {
   "cell_type": "code",
   "execution_count": 173,
   "metadata": {
    "ExecuteTime": {
     "end_time": "2021-04-25T15:20:26.809872Z",
     "start_time": "2021-04-25T15:20:26.693146Z"
    }
   },
   "outputs": [],
   "source": [
    "series['index'] = series['index'].astype(str)"
   ]
  },
  {
   "cell_type": "code",
   "execution_count": 176,
   "metadata": {
    "ExecuteTime": {
     "end_time": "2021-04-25T15:20:39.960654Z",
     "start_time": "2021-04-25T15:20:39.942770Z"
    }
   },
   "outputs": [],
   "source": [
    "series['index'] = series['index'].str.replace('-','.')"
   ]
  },
  {
   "cell_type": "code",
   "execution_count": 179,
   "metadata": {
    "ExecuteTime": {
     "end_time": "2021-04-25T15:21:21.545676Z",
     "start_time": "2021-04-25T15:21:21.532157Z"
    }
   },
   "outputs": [],
   "source": [
    "series.columns = ['date','qty','1kg price']"
   ]
  },
  {
   "cell_type": "code",
   "execution_count": 184,
   "metadata": {
    "ExecuteTime": {
     "end_time": "2021-04-25T15:22:42.452804Z",
     "start_time": "2021-04-25T15:22:42.433568Z"
    }
   },
   "outputs": [],
   "source": [
    "series = series.drop(['qty','1kg price'],axis=1)"
   ]
  },
  {
   "cell_type": "code",
   "execution_count": 186,
   "metadata": {
    "ExecuteTime": {
     "end_time": "2021-04-25T15:23:00.727558Z",
     "start_time": "2021-04-25T15:23:00.708209Z"
    }
   },
   "outputs": [],
   "source": [
    "merge_day = pd.merge(series, grouped_day, how='left', on ='date' )"
   ]
  },
  {
   "cell_type": "code",
   "execution_count": 187,
   "metadata": {
    "ExecuteTime": {
     "end_time": "2021-04-25T15:23:09.882073Z",
     "start_time": "2021-04-25T15:23:09.858278Z"
    }
   },
   "outputs": [
    {
     "data": {
      "text/plain": [
       "date           0\n",
       "qty          882\n",
       "1kg price    882\n",
       "dtype: int64"
      ]
     },
     "execution_count": 187,
     "metadata": {},
     "output_type": "execute_result"
    }
   ],
   "source": [
    "merge_day.isnull().sum()"
   ]
  },
  {
   "cell_type": "code",
   "execution_count": 204,
   "metadata": {
    "ExecuteTime": {
     "end_time": "2021-04-25T15:29:19.696330Z",
     "start_time": "2021-04-25T15:29:19.676884Z"
    }
   },
   "outputs": [],
   "source": [
    "merge_day = merge_day.fillna(method='ffill')"
   ]
  },
  {
   "cell_type": "code",
   "execution_count": 205,
   "metadata": {
    "ExecuteTime": {
     "end_time": "2021-04-25T15:29:30.264418Z",
     "start_time": "2021-04-25T15:29:30.239464Z"
    }
   },
   "outputs": [
    {
     "data": {
      "text/plain": [
       "date         0\n",
       "qty          0\n",
       "1kg price    0\n",
       "dtype: int64"
      ]
     },
     "execution_count": 205,
     "metadata": {},
     "output_type": "execute_result"
    }
   ],
   "source": [
    "merge_day.isnull().sum()"
   ]
  },
  {
   "cell_type": "code",
   "execution_count": 207,
   "metadata": {
    "ExecuteTime": {
     "end_time": "2021-04-25T15:30:55.164826Z",
     "start_time": "2021-04-25T15:30:55.152604Z"
    }
   },
   "outputs": [],
   "source": [
    "## MSE를 위해 표준화 진행"
   ]
  },
  {
   "cell_type": "code",
   "execution_count": 208,
   "metadata": {
    "ExecuteTime": {
     "end_time": "2021-04-25T15:31:33.923235Z",
     "start_time": "2021-04-25T15:31:33.905900Z"
    }
   },
   "outputs": [],
   "source": [
    "merge_day['1kg price_sc'] = scale.fit_transform(merge_day[['1kg price']])"
   ]
  },
  {
   "cell_type": "code",
   "execution_count": 209,
   "metadata": {
    "ExecuteTime": {
     "end_time": "2021-04-25T15:31:34.653871Z",
     "start_time": "2021-04-25T15:31:34.628656Z"
    }
   },
   "outputs": [
    {
     "data": {
      "text/plain": [
       "(5484, 4113)"
      ]
     },
     "execution_count": 209,
     "metadata": {},
     "output_type": "execute_result"
    }
   ],
   "source": [
    "y= merge_day['1kg price_sc'].values\n",
    "ratio = 0.75\n",
    "cut = np.int(len(y)*ratio)\n",
    "cut\n",
    "train = y[:cut]\n",
    "test = y[cut:]\n",
    "len(y), len(train)"
   ]
  },
  {
   "cell_type": "code",
   "execution_count": 210,
   "metadata": {
    "ExecuteTime": {
     "end_time": "2021-04-25T15:31:50.348838Z",
     "start_time": "2021-04-25T15:31:50.305290Z"
    }
   },
   "outputs": [
    {
     "name": "stdout",
     "output_type": "stream",
     "text": [
      "MSE : 0.187, RMSE : 0.187\n",
      "Variance Score : 0.790\n"
     ]
    }
   ],
   "source": [
    "# 모델만들기\n",
    "lr = LinearRegression()\n",
    "\n",
    "n_steps = 10\n",
    "\n",
    "# 훈련데이터\n",
    "train_x, train_y = split_seq(train,n_steps) # 사용자정의함수\n",
    "\n",
    "# 검증데이터\n",
    "test_x, test_y = split_seq(test,n_steps)\n",
    "\n",
    "lr.fit(train_x,train_y)\n",
    "\n",
    "y_pred = lr.predict(test_x)\n",
    "mse = mean_squared_error(test_y,y_pred)\n",
    "rmse = np.sqrt(mse)\n",
    "\n",
    "print('MSE : {0:.3f}, RMSE : {0:.3f}'.format(mse, rmse))\n",
    "print('Variance Score : {0:.3f}'.format(r2_score(test_y,y_pred)))"
   ]
  },
  {
   "cell_type": "code",
   "execution_count": 237,
   "metadata": {
    "ExecuteTime": {
     "end_time": "2021-04-25T15:55:42.116018Z",
     "start_time": "2021-04-25T15:55:42.063198Z"
    }
   },
   "outputs": [
    {
     "name": "stdout",
     "output_type": "stream",
     "text": [
      "MSE : 0.186, RMSE : 0.186\n",
      "Variance Score : 0.791\n"
     ]
    }
   ],
   "source": [
    "# 모델만들기\n",
    "lr = LinearRegression()\n",
    "\n",
    "n_steps = 11\n",
    "\n",
    "# 훈련데이터\n",
    "train_x, train_y = split_seq(train,n_steps) # 사용자정의함수\n",
    "\n",
    "# 검증데이터\n",
    "test_x, test_y = split_seq(test,n_steps)\n",
    "\n",
    "lr.fit(train_x,train_y)\n",
    "\n",
    "y_pred = lr.predict(test_x)\n",
    "mse = mean_squared_error(test_y,y_pred)\n",
    "rmse = np.sqrt(mse)\n",
    "\n",
    "print('MSE : {0:.3f}, RMSE : {0:.3f}'.format(mse, rmse))\n",
    "print('Variance Score : {0:.3f}'.format(r2_score(test_y,y_pred)))"
   ]
  },
  {
   "cell_type": "code",
   "execution_count": 239,
   "metadata": {
    "ExecuteTime": {
     "end_time": "2021-04-25T15:57:36.698436Z",
     "start_time": "2021-04-25T15:57:36.341228Z"
    }
   },
   "outputs": [
    {
     "data": {
      "image/png": "[encoded data removed]",
      "text/plain": [
       "<Figure size 1296x432 with 1 Axes>"
      ]
     },
     "metadata": {
      "needs_background": "light"
     },
     "output_type": "display_data"
    }
   ],
   "source": [
    "plt.figure(figsize=[18,6])\n",
    "plt.plot(test_y,c='r')\n",
    "plt.plot(y_pred,c='b')\n",
    "plt.show()"
   ]
  },
  {
   "cell_type": "code",
   "execution_count": 241,
   "metadata": {
    "ExecuteTime": {
     "end_time": "2021-04-25T16:21:58.317154Z",
     "start_time": "2021-04-25T16:21:58.281686Z"
    }
   },
   "outputs": [
    {
     "data": {
      "text/html": [
       "<div>\n",
       "<style scoped>\n",
       "    .dataframe tbody tr th:only-of-type {\n",
       "        vertical-align: middle;\n",
       "    }\n",
       "\n",
       "    .dataframe tbody tr th {\n",
       "        vertical-align: top;\n",
       "    }\n",
       "\n",
       "    .dataframe thead th {\n",
       "        text-align: right;\n",
       "    }\n",
       "</style>\n",
       "<table border=\"1\" class=\"dataframe\">\n",
       "  <thead>\n",
       "    <tr style=\"text-align: right;\">\n",
       "      <th></th>\n",
       "      <th>date</th>\n",
       "      <th>qty</th>\n",
       "      <th>1kg price</th>\n",
       "      <th>1kg price_sc</th>\n",
       "    </tr>\n",
       "  </thead>\n",
       "  <tbody>\n",
       "    <tr>\n",
       "      <th>0</th>\n",
       "      <td>2006.04.04</td>\n",
       "      <td>978.3</td>\n",
       "      <td>4948.71</td>\n",
       "      <td>-1.116095</td>\n",
       "    </tr>\n",
       "    <tr>\n",
       "      <th>1</th>\n",
       "      <td>2006.04.05</td>\n",
       "      <td>4600.7</td>\n",
       "      <td>4447.32</td>\n",
       "      <td>-1.340124</td>\n",
       "    </tr>\n",
       "    <tr>\n",
       "      <th>2</th>\n",
       "      <td>2006.04.06</td>\n",
       "      <td>3842.2</td>\n",
       "      <td>4620.74</td>\n",
       "      <td>-1.262637</td>\n",
       "    </tr>\n",
       "    <tr>\n",
       "      <th>3</th>\n",
       "      <td>2006.04.07</td>\n",
       "      <td>4777.3</td>\n",
       "      <td>4060.83</td>\n",
       "      <td>-1.512814</td>\n",
       "    </tr>\n",
       "    <tr>\n",
       "      <th>4</th>\n",
       "      <td>2006.04.08</td>\n",
       "      <td>4773.5</td>\n",
       "      <td>4547.00</td>\n",
       "      <td>-1.295585</td>\n",
       "    </tr>\n",
       "    <tr>\n",
       "      <th>...</th>\n",
       "      <td>...</td>\n",
       "      <td>...</td>\n",
       "      <td>...</td>\n",
       "      <td>...</td>\n",
       "    </tr>\n",
       "    <tr>\n",
       "      <th>5479</th>\n",
       "      <td>2021.04.04</td>\n",
       "      <td>561.4</td>\n",
       "      <td>4642.59</td>\n",
       "      <td>-1.252874</td>\n",
       "    </tr>\n",
       "    <tr>\n",
       "      <th>5480</th>\n",
       "      <td>2021.04.05</td>\n",
       "      <td>421.1</td>\n",
       "      <td>5653.34</td>\n",
       "      <td>-0.801255</td>\n",
       "    </tr>\n",
       "    <tr>\n",
       "      <th>5481</th>\n",
       "      <td>2021.04.06</td>\n",
       "      <td>290.7</td>\n",
       "      <td>7392.06</td>\n",
       "      <td>-0.024367</td>\n",
       "    </tr>\n",
       "    <tr>\n",
       "      <th>5482</th>\n",
       "      <td>2021.04.07</td>\n",
       "      <td>399.9</td>\n",
       "      <td>7735.17</td>\n",
       "      <td>0.128940</td>\n",
       "    </tr>\n",
       "    <tr>\n",
       "      <th>5483</th>\n",
       "      <td>2021.04.08</td>\n",
       "      <td>418.7</td>\n",
       "      <td>8752.01</td>\n",
       "      <td>0.583280</td>\n",
       "    </tr>\n",
       "  </tbody>\n",
       "</table>\n",
       "<p>5484 rows × 4 columns</p>\n",
       "</div>"
      ],
      "text/plain": [
       "            date     qty  1kg price  1kg price_sc\n",
       "0     2006.04.04   978.3    4948.71     -1.116095\n",
       "1     2006.04.05  4600.7    4447.32     -1.340124\n",
       "2     2006.04.06  3842.2    4620.74     -1.262637\n",
       "3     2006.04.07  4777.3    4060.83     -1.512814\n",
       "4     2006.04.08  4773.5    4547.00     -1.295585\n",
       "...          ...     ...        ...           ...\n",
       "5479  2021.04.04   561.4    4642.59     -1.252874\n",
       "5480  2021.04.05   421.1    5653.34     -0.801255\n",
       "5481  2021.04.06   290.7    7392.06     -0.024367\n",
       "5482  2021.04.07   399.9    7735.17      0.128940\n",
       "5483  2021.04.08   418.7    8752.01      0.583280\n",
       "\n",
       "[5484 rows x 4 columns]"
      ]
     },
     "execution_count": 241,
     "metadata": {},
     "output_type": "execute_result"
    }
   ],
   "source": [
    "merge_day"
   ]
  },
  {
   "cell_type": "code",
   "execution_count": 245,
   "metadata": {
    "ExecuteTime": {
     "end_time": "2021-04-25T16:22:34.514426Z",
     "start_time": "2021-04-25T16:22:34.484913Z"
    }
   },
   "outputs": [
    {
     "data": {
      "text/html": [
       "<div>\n",
       "<style scoped>\n",
       "    .dataframe tbody tr th:only-of-type {\n",
       "        vertical-align: middle;\n",
       "    }\n",
       "\n",
       "    .dataframe tbody tr th {\n",
       "        vertical-align: top;\n",
       "    }\n",
       "\n",
       "    .dataframe thead th {\n",
       "        text-align: right;\n",
       "    }\n",
       "</style>\n",
       "<table border=\"1\" class=\"dataframe\">\n",
       "  <thead>\n",
       "    <tr style=\"text-align: right;\">\n",
       "      <th></th>\n",
       "      <th>1kg price</th>\n",
       "    </tr>\n",
       "  </thead>\n",
       "  <tbody>\n",
       "    <tr>\n",
       "      <th>0</th>\n",
       "      <td>4948.71</td>\n",
       "    </tr>\n",
       "    <tr>\n",
       "      <th>1</th>\n",
       "      <td>4447.32</td>\n",
       "    </tr>\n",
       "    <tr>\n",
       "      <th>2</th>\n",
       "      <td>4620.74</td>\n",
       "    </tr>\n",
       "    <tr>\n",
       "      <th>3</th>\n",
       "      <td>4060.83</td>\n",
       "    </tr>\n",
       "    <tr>\n",
       "      <th>4</th>\n",
       "      <td>4547.00</td>\n",
       "    </tr>\n",
       "    <tr>\n",
       "      <th>...</th>\n",
       "      <td>...</td>\n",
       "    </tr>\n",
       "    <tr>\n",
       "      <th>5479</th>\n",
       "      <td>4642.59</td>\n",
       "    </tr>\n",
       "    <tr>\n",
       "      <th>5480</th>\n",
       "      <td>5653.34</td>\n",
       "    </tr>\n",
       "    <tr>\n",
       "      <th>5481</th>\n",
       "      <td>7392.06</td>\n",
       "    </tr>\n",
       "    <tr>\n",
       "      <th>5482</th>\n",
       "      <td>7735.17</td>\n",
       "    </tr>\n",
       "    <tr>\n",
       "      <th>5483</th>\n",
       "      <td>8752.01</td>\n",
       "    </tr>\n",
       "  </tbody>\n",
       "</table>\n",
       "<p>5484 rows × 1 columns</p>\n",
       "</div>"
      ],
      "text/plain": [
       "      1kg price\n",
       "0       4948.71\n",
       "1       4447.32\n",
       "2       4620.74\n",
       "3       4060.83\n",
       "4       4547.00\n",
       "...         ...\n",
       "5479    4642.59\n",
       "5480    5653.34\n",
       "5481    7392.06\n",
       "5482    7735.17\n",
       "5483    8752.01\n",
       "\n",
       "[5484 rows x 1 columns]"
      ]
     },
     "execution_count": 245,
     "metadata": {},
     "output_type": "execute_result"
    }
   ],
   "source": [
    "merge_day[['1kg price']]"
   ]
  },
  {
   "cell_type": "code",
   "execution_count": 259,
   "metadata": {
    "ExecuteTime": {
     "end_time": "2021-04-25T16:48:39.411022Z",
     "start_time": "2021-04-25T16:48:39.396974Z"
    }
   },
   "outputs": [],
   "source": [
    "merge_day.index=pd.date_range('2006.04.04', '2021.04.08', freq='D')"
   ]
  },
  {
   "cell_type": "code",
   "execution_count": 260,
   "metadata": {
    "ExecuteTime": {
     "end_time": "2021-04-25T16:48:40.277712Z",
     "start_time": "2021-04-25T16:48:40.247439Z"
    }
   },
   "outputs": [
    {
     "data": {
      "text/html": [
       "<div>\n",
       "<style scoped>\n",
       "    .dataframe tbody tr th:only-of-type {\n",
       "        vertical-align: middle;\n",
       "    }\n",
       "\n",
       "    .dataframe tbody tr th {\n",
       "        vertical-align: top;\n",
       "    }\n",
       "\n",
       "    .dataframe thead th {\n",
       "        text-align: right;\n",
       "    }\n",
       "</style>\n",
       "<table border=\"1\" class=\"dataframe\">\n",
       "  <thead>\n",
       "    <tr style=\"text-align: right;\">\n",
       "      <th></th>\n",
       "      <th>date</th>\n",
       "      <th>qty</th>\n",
       "      <th>1kg price</th>\n",
       "      <th>1kg price_sc</th>\n",
       "    </tr>\n",
       "  </thead>\n",
       "  <tbody>\n",
       "    <tr>\n",
       "      <th>2006-04-04</th>\n",
       "      <td>2006.04.04</td>\n",
       "      <td>978.3</td>\n",
       "      <td>4948.71</td>\n",
       "      <td>-1.116095</td>\n",
       "    </tr>\n",
       "    <tr>\n",
       "      <th>2006-04-05</th>\n",
       "      <td>2006.04.05</td>\n",
       "      <td>4600.7</td>\n",
       "      <td>4447.32</td>\n",
       "      <td>-1.340124</td>\n",
       "    </tr>\n",
       "    <tr>\n",
       "      <th>2006-04-06</th>\n",
       "      <td>2006.04.06</td>\n",
       "      <td>3842.2</td>\n",
       "      <td>4620.74</td>\n",
       "      <td>-1.262637</td>\n",
       "    </tr>\n",
       "    <tr>\n",
       "      <th>2006-04-07</th>\n",
       "      <td>2006.04.07</td>\n",
       "      <td>4777.3</td>\n",
       "      <td>4060.83</td>\n",
       "      <td>-1.512814</td>\n",
       "    </tr>\n",
       "    <tr>\n",
       "      <th>2006-04-08</th>\n",
       "      <td>2006.04.08</td>\n",
       "      <td>4773.5</td>\n",
       "      <td>4547.00</td>\n",
       "      <td>-1.295585</td>\n",
       "    </tr>\n",
       "    <tr>\n",
       "      <th>...</th>\n",
       "      <td>...</td>\n",
       "      <td>...</td>\n",
       "      <td>...</td>\n",
       "      <td>...</td>\n",
       "    </tr>\n",
       "    <tr>\n",
       "      <th>2021-04-04</th>\n",
       "      <td>2021.04.04</td>\n",
       "      <td>561.4</td>\n",
       "      <td>4642.59</td>\n",
       "      <td>-1.252874</td>\n",
       "    </tr>\n",
       "    <tr>\n",
       "      <th>2021-04-05</th>\n",
       "      <td>2021.04.05</td>\n",
       "      <td>421.1</td>\n",
       "      <td>5653.34</td>\n",
       "      <td>-0.801255</td>\n",
       "    </tr>\n",
       "    <tr>\n",
       "      <th>2021-04-06</th>\n",
       "      <td>2021.04.06</td>\n",
       "      <td>290.7</td>\n",
       "      <td>7392.06</td>\n",
       "      <td>-0.024367</td>\n",
       "    </tr>\n",
       "    <tr>\n",
       "      <th>2021-04-07</th>\n",
       "      <td>2021.04.07</td>\n",
       "      <td>399.9</td>\n",
       "      <td>7735.17</td>\n",
       "      <td>0.128940</td>\n",
       "    </tr>\n",
       "    <tr>\n",
       "      <th>2021-04-08</th>\n",
       "      <td>2021.04.08</td>\n",
       "      <td>418.7</td>\n",
       "      <td>8752.01</td>\n",
       "      <td>0.583280</td>\n",
       "    </tr>\n",
       "  </tbody>\n",
       "</table>\n",
       "<p>5484 rows × 4 columns</p>\n",
       "</div>"
      ],
      "text/plain": [
       "                  date     qty  1kg price  1kg price_sc\n",
       "2006-04-04  2006.04.04   978.3    4948.71     -1.116095\n",
       "2006-04-05  2006.04.05  4600.7    4447.32     -1.340124\n",
       "2006-04-06  2006.04.06  3842.2    4620.74     -1.262637\n",
       "2006-04-07  2006.04.07  4777.3    4060.83     -1.512814\n",
       "2006-04-08  2006.04.08  4773.5    4547.00     -1.295585\n",
       "...                ...     ...        ...           ...\n",
       "2021-04-04  2021.04.04   561.4    4642.59     -1.252874\n",
       "2021-04-05  2021.04.05   421.1    5653.34     -0.801255\n",
       "2021-04-06  2021.04.06   290.7    7392.06     -0.024367\n",
       "2021-04-07  2021.04.07   399.9    7735.17      0.128940\n",
       "2021-04-08  2021.04.08   418.7    8752.01      0.583280\n",
       "\n",
       "[5484 rows x 4 columns]"
      ]
     },
     "execution_count": 260,
     "metadata": {},
     "output_type": "execute_result"
    }
   ],
   "source": [
    "merge_day"
   ]
  },
  {
   "cell_type": "code",
   "execution_count": 411,
   "metadata": {
    "ExecuteTime": {
     "end_time": "2021-04-26T05:47:27.130827Z",
     "start_time": "2021-04-26T05:47:26.440280Z"
    },
    "scrolled": false
   },
   "outputs": [
    {
     "data": {
      "image/png": "[encoded data removed]",
      "text/plain": [
       "<Figure size 864x576 with 4 Axes>"
      ]
     },
     "metadata": {
      "needs_background": "light"
     },
     "output_type": "display_data"
    },
    {
     "data": {
      "text/plain": [
       "<Figure size 1440x720 with 0 Axes>"
      ]
     },
     "metadata": {},
     "output_type": "display_data"
    }
   ],
   "source": [
    "from statsmodels.tsa.seasonal import seasonal_decompose\n",
    "seasonal_decompose(y, model='addictive').plot()\n",
    "plt.figure(figsize=(20,10))\n",
    "plt.show()"
   ]
  },
  {
   "cell_type": "markdown",
   "metadata": {},
   "source": [
    "# ARIMA"
   ]
  },
  {
   "cell_type": "code",
   "execution_count": 268,
   "metadata": {
    "ExecuteTime": {
     "end_time": "2021-04-25T16:55:41.069900Z",
     "start_time": "2021-04-25T16:55:41.057750Z"
    }
   },
   "outputs": [],
   "source": [
    "from statsmodels.tsa.arima_model import ARIMA\n",
    "from statsmodels.tsa.stattools import adfuller"
   ]
  },
  {
   "cell_type": "code",
   "execution_count": 587,
   "metadata": {
    "ExecuteTime": {
     "end_time": "2021-04-26T12:16:22.916616Z",
     "start_time": "2021-04-26T12:16:22.898736Z"
    }
   },
   "outputs": [
    {
     "data": {
      "text/plain": [
       "2006-04-04    4948.71\n",
       "2006-04-05    4447.32\n",
       "2006-04-06    4620.74\n",
       "2006-04-07    4060.83\n",
       "2006-04-08    4547.00\n",
       "               ...   \n",
       "2021-04-04    4642.59\n",
       "2021-04-05    5653.34\n",
       "2021-04-06    7392.06\n",
       "2021-04-07    7735.17\n",
       "2021-04-08    8752.01\n",
       "Freq: D, Name: 1kg price, Length: 5484, dtype: float64"
      ]
     },
     "execution_count": 587,
     "metadata": {},
     "output_type": "execute_result"
    }
   ],
   "source": [
    "y = merge_day['1kg price']\n",
    "y"
   ]
  },
  {
   "cell_type": "code",
   "execution_count": 274,
   "metadata": {
    "ExecuteTime": {
     "end_time": "2021-04-25T16:57:25.572874Z",
     "start_time": "2021-04-25T16:57:25.539847Z"
    }
   },
   "outputs": [
    {
     "data": {
      "text/plain": [
       "2006-04-05    -501.39\n",
       "2006-04-06     173.42\n",
       "2006-04-07    -559.91\n",
       "2006-04-08     486.17\n",
       "2006-04-09       0.00\n",
       "               ...   \n",
       "2021-04-04       0.00\n",
       "2021-04-05    1010.75\n",
       "2021-04-06    1738.72\n",
       "2021-04-07     343.11\n",
       "2021-04-08    1016.84\n",
       "Freq: D, Name: 1kg price, Length: 5483, dtype: float64"
      ]
     },
     "execution_count": 274,
     "metadata": {},
     "output_type": "execute_result"
    }
   ],
   "source": [
    "merge_day['1kg price'].diff().dropna()"
   ]
  },
  {
   "cell_type": "code",
   "execution_count": null,
   "metadata": {},
   "outputs": [],
   "source": [
    "# ADF 검정을 통해 정상성을 확인 가능"
   ]
  },
  {
   "cell_type": "code",
   "execution_count": 275,
   "metadata": {
    "ExecuteTime": {
     "end_time": "2021-04-25T16:57:31.555221Z",
     "start_time": "2021-04-25T16:57:30.908904Z"
    }
   },
   "outputs": [
    {
     "name": "stdout",
     "output_type": "stream",
     "text": [
      "원 데이터 ADF Statistic: -6.292\n",
      "원 데이터 p-value: 0.000\n",
      "1차 차분 ADF Statistic: -22.637\n",
      "1차 차분 p-value: 0.000\n"
     ]
    }
   ],
   "source": [
    "y = merge_day['1kg price']\n",
    "y_1diff = merge_day['1kg price'].diff().dropna()\n",
    "result = adfuller(y)\n",
    "print(f'원 데이터 ADF Statistic: {result[0]:.3f}')\n",
    "print(f'원 데이터 p-value: {result[1]:.3f}')\n",
    "result = adfuller(y_1diff)\n",
    "print(f'1차 차분 ADF Statistic: {result[0]:.3f}')\n",
    "print(f'1차 차분 p-value: {result[1]:.3f}')"
   ]
  },
  {
   "cell_type": "code",
   "execution_count": null,
   "metadata": {},
   "outputs": [],
   "source": [
    "# 차분하지 않아도 됨을 알게 됨 / 안정적인 시계열 데이터"
   ]
  },
  {
   "cell_type": "code",
   "execution_count": null,
   "metadata": {},
   "outputs": [],
   "source": [
    "#ARIMA의 모수는 크게 3가지가 있다. \n",
    "# AR모형의 Lag을 의미하는 p, MA모형의 Lag을 의미하는 q, 차분(Diffrence)횟수를 의미하는 d 가 그것이다. 보통은 p, d, q의 순서로 쓴다.\n",
    "# 통상적으로 p + q < 2, p * q = 0 인 값들을 많이 사용한다.\n",
    "# 여기서 p * q = 0 이라 하면, 두 값중 하나는 0이라는 이야기이다.\n",
    "# 실제로 대부분의 시계열 자료에서는 하나의 경향만을 강하게 띄기 때문에, 이렇게 사용하는것이 더 잘 맞는다고 한다.\n",
    "# 시계열 데이터가 AR의 특성을 띄는 경우, ACF는 천천히 감소하고 PACF는 처음 시차를 제외하고 급격히 감소한다.\n",
    "# 반대로, MA의 특성을 띄는 경우 ACF는 급격히 감소하고 PACF는 천천히 감소한다."
   ]
  },
  {
   "cell_type": "code",
   "execution_count": 457,
   "metadata": {
    "ExecuteTime": {
     "end_time": "2021-04-26T06:53:07.700526Z",
     "start_time": "2021-04-26T06:53:07.080094Z"
    }
   },
   "outputs": [
    {
     "data": {
      "image/png": "[encoded data removed]",
      "text/plain": [
       "<Figure size 864x576 with 1 Axes>"
      ]
     },
     "metadata": {
      "needs_background": "light"
     },
     "output_type": "display_data"
    },
    {
     "data": {
      "image/png": "[encoded data removed]",
      "text/plain": [
       "<Figure size 864x576 with 1 Axes>"
      ]
     },
     "metadata": {
      "needs_background": "light"
     },
     "output_type": "display_data"
    },
    {
     "data": {
      "image/png": "[encoded data removed]",
      "text/plain": [
       "<Figure size 864x576 with 1 Axes>"
      ]
     },
     "metadata": {
      "needs_background": "light"
     },
     "output_type": "display_data"
    }
   ],
   "source": [
    "import matplotlib.pyplot as plt\n",
    "from statsmodels.graphics.tsaplots import plot_acf, plot_pacf\n",
    "\n",
    "y.plot()\n",
    "plot_acf(y)\n",
    "plot_pacf(y)\n",
    "plt.show()"
   ]
  },
  {
   "cell_type": "code",
   "execution_count": null,
   "metadata": {},
   "outputs": [],
   "source": [
    "# PACF의 1에서 급격히 감소\n",
    "# AR의 특성을 강하게 띔을 알 수 있음 (0,0,1)"
   ]
  },
  {
   "cell_type": "code",
   "execution_count": 456,
   "metadata": {
    "ExecuteTime": {
     "end_time": "2021-04-26T06:52:58.812887Z",
     "start_time": "2021-04-26T06:52:58.244466Z"
    }
   },
   "outputs": [
    {
     "data": {
      "image/png": "[encoded data removed]",
      "text/plain": [
       "<Figure size 864x576 with 1 Axes>"
      ]
     },
     "metadata": {
      "needs_background": "light"
     },
     "output_type": "display_data"
    },
    {
     "data": {
      "image/png": "[encoded data removed]",
      "text/plain": [
       "<Figure size 864x576 with 1 Axes>"
      ]
     },
     "metadata": {
      "needs_background": "light"
     },
     "output_type": "display_data"
    },
    {
     "data": {
      "image/png": "[encoded data removed]",
      "text/plain": [
       "<Figure size 864x576 with 1 Axes>"
      ]
     },
     "metadata": {
      "needs_background": "light"
     },
     "output_type": "display_data"
    }
   ],
   "source": [
    "y_1diff.plot()\n",
    "plot_acf(y_1diff)\n",
    "plot_pacf(y_1diff)\n",
    "plt.show()"
   ]
  },
  {
   "cell_type": "code",
   "execution_count": null,
   "metadata": {},
   "outputs": [],
   "source": [
    "# train, test 구분 없이 진행"
   ]
  },
  {
   "cell_type": "code",
   "execution_count": 588,
   "metadata": {
    "ExecuteTime": {
     "end_time": "2021-04-26T12:16:37.563545Z",
     "start_time": "2021-04-26T12:16:37.438273Z"
    }
   },
   "outputs": [
    {
     "name": "stdout",
     "output_type": "stream",
     "text": [
      "                             ARIMA Model Results                              \n",
      "==============================================================================\n",
      "Dep. Variable:            D.1kg price   No. Observations:                 5483\n",
      "Model:                 ARIMA(0, 1, 1)   Log Likelihood              -44739.952\n",
      "Method:                       css-mle   S.D. of innovations            846.253\n",
      "Date:                Mon, 26 Apr 2021   AIC                          89485.904\n",
      "Time:                        21:16:37   BIC                          89505.732\n",
      "Sample:                    04-05-2006   HQIC                         89492.821\n",
      "                         - 04-08-2021                                         \n",
      "=====================================================================================\n",
      "                        coef    std err          z      P>|z|      [0.025      0.975]\n",
      "-------------------------------------------------------------------------------------\n",
      "const                 0.6937     10.593      0.065      0.948     -20.069      21.456\n",
      "ma.L1.D.1kg price    -0.0731      0.014     -5.361      0.000      -0.100      -0.046\n",
      "                                    Roots                                    \n",
      "=============================================================================\n",
      "                  Real          Imaginary           Modulus         Frequency\n",
      "-----------------------------------------------------------------------------\n",
      "MA.1           13.6814           +0.0000j           13.6814            0.0000\n",
      "-----------------------------------------------------------------------------\n"
     ]
    },
    {
     "name": "stderr",
     "output_type": "stream",
     "text": [
      "C:\\Users\\choi yeseul\\anaconda3\\lib\\site-packages\\statsmodels\\tsa\\arima_model.py:472: FutureWarning: \n",
      "statsmodels.tsa.arima_model.ARMA and statsmodels.tsa.arima_model.ARIMA have\n",
      "been deprecated in favor of statsmodels.tsa.arima.model.ARIMA (note the .\n",
      "between arima and model) and\n",
      "statsmodels.tsa.SARIMAX. These will be removed after the 0.12 release.\n",
      "\n",
      "statsmodels.tsa.arima.model.ARIMA makes use of the statespace framework and\n",
      "is both well tested and maintained.\n",
      "\n",
      "To silence this warning and continue using ARMA and ARIMA until they are\n",
      "removed, use:\n",
      "\n",
      "import warnings\n",
      "warnings.filterwarnings('ignore', 'statsmodels.tsa.arima_model.ARMA',\n",
      "                        FutureWarning)\n",
      "warnings.filterwarnings('ignore', 'statsmodels.tsa.arima_model.ARIMA',\n",
      "                        FutureWarning)\n",
      "\n",
      "  warnings.warn(ARIMA_DEPRECATION_WARN, FutureWarning)\n"
     ]
    }
   ],
   "source": [
    "from statsmodels.tsa.arima_model import ARIMA\n",
    "\n",
    "model = ARIMA(y, order=(0,1,1))\n",
    "model_fit = model.fit(trend='c',full_output=True, disp=1)\n",
    "print(model_fit.summary())"
   ]
  },
  {
   "cell_type": "code",
   "execution_count": 589,
   "metadata": {
    "ExecuteTime": {
     "end_time": "2021-04-26T12:16:43.187790Z",
     "start_time": "2021-04-26T12:16:43.101436Z"
    }
   },
   "outputs": [
    {
     "name": "stdout",
     "output_type": "stream",
     "text": [
      "                             ARIMA Model Results                              \n",
      "==============================================================================\n",
      "Dep. Variable:            D.1kg price   No. Observations:                 5479\n",
      "Model:                 ARIMA(0, 1, 1)   Log Likelihood              -44705.384\n",
      "Method:                       css-mle   S.D. of innovations            845.955\n",
      "Date:                Mon, 26 Apr 2021   AIC                          89414.768\n",
      "Time:                        21:16:43   BIC                          89427.985\n",
      "Sample:                    04-05-2006   HQIC                         89419.379\n",
      "                         - 04-04-2021                                         \n",
      "=====================================================================================\n",
      "                        coef    std err          z      P>|z|      [0.025      0.975]\n",
      "-------------------------------------------------------------------------------------\n",
      "ma.L1.D.1kg price    -0.0739      0.014     -5.418      0.000      -0.101      -0.047\n",
      "                                    Roots                                    \n",
      "=============================================================================\n",
      "                  Real          Imaginary           Modulus         Frequency\n",
      "-----------------------------------------------------------------------------\n",
      "MA.1           13.5284           +0.0000j           13.5284            0.0000\n",
      "-----------------------------------------------------------------------------\n"
     ]
    },
    {
     "name": "stderr",
     "output_type": "stream",
     "text": [
      "C:\\Users\\choi yeseul\\anaconda3\\lib\\site-packages\\statsmodels\\tsa\\arima_model.py:472: FutureWarning: \n",
      "statsmodels.tsa.arima_model.ARMA and statsmodels.tsa.arima_model.ARIMA have\n",
      "been deprecated in favor of statsmodels.tsa.arima.model.ARIMA (note the .\n",
      "between arima and model) and\n",
      "statsmodels.tsa.SARIMAX. These will be removed after the 0.12 release.\n",
      "\n",
      "statsmodels.tsa.arima.model.ARIMA makes use of the statespace framework and\n",
      "is both well tested and maintained.\n",
      "\n",
      "To silence this warning and continue using ARMA and ARIMA until they are\n",
      "removed, use:\n",
      "\n",
      "import warnings\n",
      "warnings.filterwarnings('ignore', 'statsmodels.tsa.arima_model.ARMA',\n",
      "                        FutureWarning)\n",
      "warnings.filterwarnings('ignore', 'statsmodels.tsa.arima_model.ARIMA',\n",
      "                        FutureWarning)\n",
      "\n",
      "  warnings.warn(ARIMA_DEPRECATION_WARN, FutureWarning)\n"
     ]
    }
   ],
   "source": [
    "from statsmodels.tsa.arima_model import ARIMA\n",
    "\n",
    "model = ARIMA(y[:5480], order=(0,1,1))\n",
    "model_fit = model.fit(trend='nc',full_output=True, disp=True)\n",
    "print(model_fit.summary())"
   ]
  },
  {
   "cell_type": "code",
   "execution_count": 590,
   "metadata": {
    "ExecuteTime": {
     "end_time": "2021-04-26T12:16:47.003953Z",
     "start_time": "2021-04-26T12:16:46.487700Z"
    }
   },
   "outputs": [
    {
     "data": {
      "image/png": "[encoded data removed]",
      "text/plain": [
       "<Figure size 864x576 with 1 Axes>"
      ]
     },
     "execution_count": 590,
     "metadata": {},
     "output_type": "execute_result"
    },
    {
     "data": {
      "image/png": "[encoded data removed]",
      "text/plain": [
       "<Figure size 864x576 with 1 Axes>"
      ]
     },
     "metadata": {
      "needs_background": "light"
     },
     "output_type": "display_data"
    }
   ],
   "source": [
    "model_fit.plot_predict()"
   ]
  },
  {
   "cell_type": "code",
   "execution_count": 592,
   "metadata": {
    "ExecuteTime": {
     "end_time": "2021-04-26T12:16:56.765342Z",
     "start_time": "2021-04-26T12:16:56.748201Z"
    }
   },
   "outputs": [
    {
     "data": {
      "text/plain": [
       "2006-04-05     0.000000\n",
       "2006-04-06    36.860662\n",
       "2006-04-07   -10.093981\n",
       "2006-04-08    40.641646\n",
       "2006-04-09   -32.932850\n",
       "                ...    \n",
       "2021-03-31    17.655939\n",
       "2021-04-01    16.847236\n",
       "2021-04-02    58.771767\n",
       "2021-04-03    83.968010\n",
       "2021-04-04    77.502808\n",
       "Freq: D, Length: 5479, dtype: float64"
      ]
     },
     "execution_count": 592,
     "metadata": {},
     "output_type": "execute_result"
    }
   ],
   "source": [
    "model_fit.predict()"
   ]
  },
  {
   "cell_type": "code",
   "execution_count": 520,
   "metadata": {
    "ExecuteTime": {
     "end_time": "2021-04-26T07:15:23.210062Z",
     "start_time": "2021-04-26T07:15:23.187201Z"
    }
   },
   "outputs": [],
   "source": [
    "merge_day['predict']=model_fit.predict()"
   ]
  },
  {
   "cell_type": "code",
   "execution_count": 521,
   "metadata": {
    "ExecuteTime": {
     "end_time": "2021-04-26T07:15:24.062796Z",
     "start_time": "2021-04-26T07:15:24.038416Z"
    }
   },
   "outputs": [
    {
     "data": {
      "text/html": [
       "<div>\n",
       "<style scoped>\n",
       "    .dataframe tbody tr th:only-of-type {\n",
       "        vertical-align: middle;\n",
       "    }\n",
       "\n",
       "    .dataframe tbody tr th {\n",
       "        vertical-align: top;\n",
       "    }\n",
       "\n",
       "    .dataframe thead th {\n",
       "        text-align: right;\n",
       "    }\n",
       "</style>\n",
       "<table border=\"1\" class=\"dataframe\">\n",
       "  <thead>\n",
       "    <tr style=\"text-align: right;\">\n",
       "      <th></th>\n",
       "      <th>date</th>\n",
       "      <th>qty</th>\n",
       "      <th>1kg price</th>\n",
       "      <th>1kg price_sc</th>\n",
       "      <th>predict</th>\n",
       "    </tr>\n",
       "  </thead>\n",
       "  <tbody>\n",
       "    <tr>\n",
       "      <th>2006-04-04</th>\n",
       "      <td>2006.04.04</td>\n",
       "      <td>978.3</td>\n",
       "      <td>4948.71</td>\n",
       "      <td>-1.116095</td>\n",
       "      <td>NaN</td>\n",
       "    </tr>\n",
       "    <tr>\n",
       "      <th>2006-04-05</th>\n",
       "      <td>2006.04.05</td>\n",
       "      <td>4600.7</td>\n",
       "      <td>4447.32</td>\n",
       "      <td>-1.340124</td>\n",
       "      <td>0.000000</td>\n",
       "    </tr>\n",
       "    <tr>\n",
       "      <th>2006-04-06</th>\n",
       "      <td>2006.04.06</td>\n",
       "      <td>3842.2</td>\n",
       "      <td>4620.74</td>\n",
       "      <td>-1.262637</td>\n",
       "      <td>36.860662</td>\n",
       "    </tr>\n",
       "    <tr>\n",
       "      <th>2006-04-07</th>\n",
       "      <td>2006.04.07</td>\n",
       "      <td>4777.3</td>\n",
       "      <td>4060.83</td>\n",
       "      <td>-1.512814</td>\n",
       "      <td>-10.093981</td>\n",
       "    </tr>\n",
       "    <tr>\n",
       "      <th>2006-04-08</th>\n",
       "      <td>2006.04.08</td>\n",
       "      <td>4773.5</td>\n",
       "      <td>4547.00</td>\n",
       "      <td>-1.295585</td>\n",
       "      <td>40.641646</td>\n",
       "    </tr>\n",
       "    <tr>\n",
       "      <th>...</th>\n",
       "      <td>...</td>\n",
       "      <td>...</td>\n",
       "      <td>...</td>\n",
       "      <td>...</td>\n",
       "      <td>...</td>\n",
       "    </tr>\n",
       "    <tr>\n",
       "      <th>2021-04-04</th>\n",
       "      <td>2021.04.04</td>\n",
       "      <td>561.4</td>\n",
       "      <td>4642.59</td>\n",
       "      <td>-1.252874</td>\n",
       "      <td>77.502808</td>\n",
       "    </tr>\n",
       "    <tr>\n",
       "      <th>2021-04-05</th>\n",
       "      <td>2021.04.05</td>\n",
       "      <td>421.1</td>\n",
       "      <td>5653.34</td>\n",
       "      <td>-0.801255</td>\n",
       "      <td>NaN</td>\n",
       "    </tr>\n",
       "    <tr>\n",
       "      <th>2021-04-06</th>\n",
       "      <td>2021.04.06</td>\n",
       "      <td>290.7</td>\n",
       "      <td>7392.06</td>\n",
       "      <td>-0.024367</td>\n",
       "      <td>NaN</td>\n",
       "    </tr>\n",
       "    <tr>\n",
       "      <th>2021-04-07</th>\n",
       "      <td>2021.04.07</td>\n",
       "      <td>399.9</td>\n",
       "      <td>7735.17</td>\n",
       "      <td>0.128940</td>\n",
       "      <td>NaN</td>\n",
       "    </tr>\n",
       "    <tr>\n",
       "      <th>2021-04-08</th>\n",
       "      <td>2021.04.08</td>\n",
       "      <td>418.7</td>\n",
       "      <td>8752.01</td>\n",
       "      <td>0.583280</td>\n",
       "      <td>NaN</td>\n",
       "    </tr>\n",
       "  </tbody>\n",
       "</table>\n",
       "<p>5484 rows × 5 columns</p>\n",
       "</div>"
      ],
      "text/plain": [
       "                  date     qty  1kg price  1kg price_sc    predict\n",
       "2006-04-04  2006.04.04   978.3    4948.71     -1.116095        NaN\n",
       "2006-04-05  2006.04.05  4600.7    4447.32     -1.340124   0.000000\n",
       "2006-04-06  2006.04.06  3842.2    4620.74     -1.262637  36.860662\n",
       "2006-04-07  2006.04.07  4777.3    4060.83     -1.512814 -10.093981\n",
       "2006-04-08  2006.04.08  4773.5    4547.00     -1.295585  40.641646\n",
       "...                ...     ...        ...           ...        ...\n",
       "2021-04-04  2021.04.04   561.4    4642.59     -1.252874  77.502808\n",
       "2021-04-05  2021.04.05   421.1    5653.34     -0.801255        NaN\n",
       "2021-04-06  2021.04.06   290.7    7392.06     -0.024367        NaN\n",
       "2021-04-07  2021.04.07   399.9    7735.17      0.128940        NaN\n",
       "2021-04-08  2021.04.08   418.7    8752.01      0.583280        NaN\n",
       "\n",
       "[5484 rows x 5 columns]"
      ]
     },
     "execution_count": 521,
     "metadata": {},
     "output_type": "execute_result"
    }
   ],
   "source": [
    "merge_day"
   ]
  },
  {
   "cell_type": "code",
   "execution_count": 522,
   "metadata": {
    "ExecuteTime": {
     "end_time": "2021-04-26T07:15:26.897301Z",
     "start_time": "2021-04-26T07:15:26.875044Z"
    }
   },
   "outputs": [
    {
     "data": {
      "text/plain": [
       "2006-04-05    -501.39\n",
       "2006-04-06     173.42\n",
       "2006-04-07    -559.91\n",
       "2006-04-08     486.17\n",
       "2006-04-09       0.00\n",
       "               ...   \n",
       "2021-04-01    -778.24\n",
       "2021-04-02   -1077.18\n",
       "2021-04-03    -964.52\n",
       "2021-04-04       0.00\n",
       "2021-04-05    1010.75\n",
       "Freq: D, Name: 1kg price, Length: 5480, dtype: float64"
      ]
     },
     "execution_count": 522,
     "metadata": {},
     "output_type": "execute_result"
    }
   ],
   "source": [
    "y_1diff[:5480]"
   ]
  },
  {
   "cell_type": "code",
   "execution_count": 536,
   "metadata": {
    "ExecuteTime": {
     "end_time": "2021-04-26T08:45:32.278546Z",
     "start_time": "2021-04-26T08:45:32.263307Z"
    }
   },
   "outputs": [],
   "source": [
    "y_pred=model_fit.predict()"
   ]
  },
  {
   "cell_type": "code",
   "execution_count": 572,
   "metadata": {
    "ExecuteTime": {
     "end_time": "2021-04-26T09:10:51.662757Z",
     "start_time": "2021-04-26T09:10:51.648829Z"
    }
   },
   "outputs": [
    {
     "data": {
      "text/plain": [
       "2006-04-05     0.000000\n",
       "2006-04-06    36.860662\n",
       "2006-04-07   -10.093981\n",
       "2006-04-08    40.641646\n",
       "2006-04-09   -32.932850\n",
       "                ...    \n",
       "2021-03-31    17.655939\n",
       "2021-04-01    16.847236\n",
       "2021-04-02    58.771767\n",
       "2021-04-03    83.968010\n",
       "2021-04-04    77.502808\n",
       "Freq: D, Length: 5479, dtype: float64"
      ]
     },
     "execution_count": 572,
     "metadata": {},
     "output_type": "execute_result"
    }
   ],
   "source": [
    "y_pred"
   ]
  },
  {
   "cell_type": "code",
   "execution_count": 575,
   "metadata": {
    "ExecuteTime": {
     "end_time": "2021-04-26T09:11:59.829038Z",
     "start_time": "2021-04-26T09:11:59.815382Z"
    }
   },
   "outputs": [
    {
     "name": "stdout",
     "output_type": "stream",
     "text": [
      "RMSE: 845.955607\n"
     ]
    }
   ],
   "source": [
    "RMSE  = np.sqrt(np.mean((merge_day['predict'][:5480] - y_1diff[:5480]) ** 2)) \n",
    "print('RMSE: %f' % RMSE)"
   ]
  },
  {
   "cell_type": "code",
   "execution_count": 577,
   "metadata": {
    "ExecuteTime": {
     "end_time": "2021-04-26T09:12:37.815866Z",
     "start_time": "2021-04-26T09:12:37.800435Z"
    }
   },
   "outputs": [
    {
     "data": {
      "text/plain": [
       "5653.34"
      ]
     },
     "execution_count": 577,
     "metadata": {},
     "output_type": "execute_result"
    }
   ],
   "source": [
    "merge_day['1kg price'][5480]"
   ]
  },
  {
   "cell_type": "code",
   "execution_count": 524,
   "metadata": {
    "ExecuteTime": {
     "end_time": "2021-04-26T07:15:32.632602Z",
     "start_time": "2021-04-26T07:15:32.611679Z"
    },
    "scrolled": true
   },
   "outputs": [
    {
     "name": "stdout",
     "output_type": "stream",
     "text": [
      "(array([4648.31890216]), array([845.95545944]), array([[2990.27666912, 6306.36113519]]))\n"
     ]
    }
   ],
   "source": [
    "# 예측값, stderr, upper bound, lower bound \n",
    "fore = model_fit.forecast(steps=1)\n",
    "print(fore)\n",
    "\n",
    "# 5653.34"
   ]
  },
  {
   "cell_type": "code",
   "execution_count": 582,
   "metadata": {
    "ExecuteTime": {
     "end_time": "2021-04-26T09:20:37.657700Z",
     "start_time": "2021-04-26T09:20:37.633694Z"
    }
   },
   "outputs": [
    {
     "data": {
      "text/html": [
       "<table class=\"simpletable\">\n",
       "<caption>ARIMA Model Results</caption>\n",
       "<tr>\n",
       "  <th>Dep. Variable:</th>    <td>D.1kg price</td>   <th>  No. Observations:  </th>    <td>5479</td>   \n",
       "</tr>\n",
       "<tr>\n",
       "  <th>Model:</th>          <td>ARIMA(0, 1, 1)</td>  <th>  Log Likelihood     </th> <td>-44705.384</td>\n",
       "</tr>\n",
       "<tr>\n",
       "  <th>Method:</th>             <td>css-mle</td>     <th>  S.D. of innovations</th>   <td>845.955</td> \n",
       "</tr>\n",
       "<tr>\n",
       "  <th>Date:</th>          <td>Mon, 26 Apr 2021</td> <th>  AIC                </th>  <td>89414.768</td>\n",
       "</tr>\n",
       "<tr>\n",
       "  <th>Time:</th>              <td>18:20:37</td>     <th>  BIC                </th>  <td>89427.985</td>\n",
       "</tr>\n",
       "<tr>\n",
       "  <th>Sample:</th>           <td>04-05-2006</td>    <th>  HQIC               </th>  <td>89419.379</td>\n",
       "</tr>\n",
       "<tr>\n",
       "  <th></th>                 <td>- 04-04-2021</td>   <th>                     </th>      <td> </td>    \n",
       "</tr>\n",
       "</table>\n",
       "<table class=\"simpletable\">\n",
       "<tr>\n",
       "          <td></td>             <th>coef</th>     <th>std err</th>      <th>z</th>      <th>P>|z|</th>  <th>[0.025</th>    <th>0.975]</th>  \n",
       "</tr>\n",
       "<tr>\n",
       "  <th>ma.L1.D.1kg price</th> <td>   -0.0739</td> <td>    0.014</td> <td>   -5.418</td> <td> 0.000</td> <td>   -0.101</td> <td>   -0.047</td>\n",
       "</tr>\n",
       "</table>\n",
       "<table class=\"simpletable\">\n",
       "<caption>Roots</caption>\n",
       "<tr>\n",
       "    <td></td>   <th>            Real</th>  <th>         Imaginary</th> <th>         Modulus</th>  <th>        Frequency</th>\n",
       "</tr>\n",
       "<tr>\n",
       "  <th>MA.1</th> <td>          13.5284</td> <td>          +0.0000j</td> <td>          13.5284</td> <td>           0.0000</td>\n",
       "</tr>\n",
       "</table>"
      ],
      "text/plain": [
       "<class 'statsmodels.iolib.summary.Summary'>\n",
       "\"\"\"\n",
       "                             ARIMA Model Results                              \n",
       "==============================================================================\n",
       "Dep. Variable:            D.1kg price   No. Observations:                 5479\n",
       "Model:                 ARIMA(0, 1, 1)   Log Likelihood              -44705.384\n",
       "Method:                       css-mle   S.D. of innovations            845.955\n",
       "Date:                Mon, 26 Apr 2021   AIC                          89414.768\n",
       "Time:                        18:20:37   BIC                          89427.985\n",
       "Sample:                    04-05-2006   HQIC                         89419.379\n",
       "                         - 04-04-2021                                         \n",
       "=====================================================================================\n",
       "                        coef    std err          z      P>|z|      [0.025      0.975]\n",
       "-------------------------------------------------------------------------------------\n",
       "ma.L1.D.1kg price    -0.0739      0.014     -5.418      0.000      -0.101      -0.047\n",
       "                                    Roots                                    \n",
       "=============================================================================\n",
       "                  Real          Imaginary           Modulus         Frequency\n",
       "-----------------------------------------------------------------------------\n",
       "MA.1           13.5284           +0.0000j           13.5284            0.0000\n",
       "-----------------------------------------------------------------------------\n",
       "\"\"\""
      ]
     },
     "execution_count": 582,
     "metadata": {},
     "output_type": "execute_result"
    }
   ],
   "source": [
    "model_fit.summary()"
   ]
  },
  {
   "cell_type": "code",
   "execution_count": null,
   "metadata": {},
   "outputs": [],
   "source": [
    "# c=0이고  d=0 이면, 장기 예측값이 0에 가까워질 것입니다.\n",
    "# c=0이고  d=1 이면, 장기 예측값이 0이 아닌 상수에 가까워질 것입니다.\n",
    "# c=0 이고  d=2 이면, 장기 예측값이 직선 형태로 나타나게 될 것입니다."
   ]
  },
  {
   "cell_type": "markdown",
   "metadata": {},
   "source": [
    "# AutoArima로 구해서 진행"
   ]
  },
  {
   "cell_type": "code",
   "execution_count": 318,
   "metadata": {
    "ExecuteTime": {
     "end_time": "2021-04-25T17:59:55.476166Z",
     "start_time": "2021-04-25T17:59:55.446972Z"
    }
   },
   "outputs": [
    {
     "data": {
      "text/plain": [
       "(5484, 4113)"
      ]
     },
     "execution_count": 318,
     "metadata": {},
     "output_type": "execute_result"
    }
   ],
   "source": [
    "ratio = 0.75\n",
    "cut = np.int(len(y)*ratio)\n",
    "cut\n",
    "train = y[:cut]\n",
    "test = y[cut:]\n",
    "len(y), len(train)"
   ]
  },
  {
   "cell_type": "code",
   "execution_count": 364,
   "metadata": {
    "ExecuteTime": {
     "end_time": "2021-04-26T04:59:14.409198Z",
     "start_time": "2021-04-26T04:59:14.395404Z"
    }
   },
   "outputs": [],
   "source": [
    "import itertools"
   ]
  },
  {
   "cell_type": "code",
   "execution_count": 393,
   "metadata": {
    "ExecuteTime": {
     "end_time": "2021-04-26T05:29:23.004000Z",
     "start_time": "2021-04-26T05:24:28.098497Z"
    }
   },
   "outputs": [
    {
     "name": "stdout",
     "output_type": "stream",
     "text": [
      "Performing stepwise search to minimize aic\n",
      " ARIMA(1,1,1)(0,1,1)[12]             : AIC=inf, Time=20.37 sec\n",
      " ARIMA(0,1,0)(0,1,0)[12]             : AIC=93248.304, Time=0.32 sec\n",
      " ARIMA(1,1,0)(1,1,0)[12]             : AIC=91465.787, Time=7.97 sec\n",
      " ARIMA(0,1,1)(0,1,1)[12]             : AIC=inf, Time=7.50 sec\n",
      " ARIMA(1,1,0)(0,1,0)[12]             : AIC=93206.809, Time=0.77 sec\n",
      " ARIMA(1,1,0)(2,1,0)[12]             : AIC=90827.118, Time=17.99 sec\n",
      " ARIMA(1,1,0)(2,1,1)[12]             : AIC=inf, Time=35.32 sec\n",
      " ARIMA(1,1,0)(1,1,1)[12]             : AIC=inf, Time=13.05 sec\n",
      " ARIMA(0,1,0)(2,1,0)[12]             : AIC=90853.124, Time=4.23 sec\n",
      " ARIMA(2,1,0)(2,1,0)[12]             : AIC=90829.117, Time=25.99 sec\n",
      " ARIMA(1,1,1)(2,1,0)[12]             : AIC=inf, Time=38.61 sec\n",
      " ARIMA(0,1,1)(2,1,0)[12]             : AIC=90827.027, Time=16.02 sec\n",
      " ARIMA(0,1,1)(1,1,0)[12]             : AIC=91465.272, Time=7.56 sec\n",
      " ARIMA(0,1,1)(2,1,1)[12]             : AIC=inf, Time=35.72 sec\n",
      " ARIMA(0,1,1)(1,1,1)[12]             : AIC=inf, Time=17.12 sec\n",
      " ARIMA(0,1,2)(2,1,0)[12]             : AIC=90828.956, Time=12.11 sec\n",
      " ARIMA(1,1,2)(2,1,0)[12]             : AIC=inf, Time=20.29 sec\n",
      " ARIMA(0,1,1)(2,1,0)[12] intercept   : AIC=90829.027, Time=13.09 sec\n",
      "\n",
      "Best model:  ARIMA(0,1,1)(2,1,0)[12]          \n",
      "Total fit time: 294.089 seconds\n"
     ]
    }
   ],
   "source": [
    "from pmdarima import auto_arima\n",
    "stepwise_model = auto_arima(y, start_p=1, start_q=1,\n",
    "                           max_p=2, max_q=2, m=12,\n",
    "                           start_P=0,\n",
    "                           d=1, D=1, trace=True,\n",
    "                           error_action='ignore',  \n",
    "                           suppress_warnings=True, \n",
    "                           stepwise=True)"
   ]
  },
  {
   "cell_type": "code",
   "execution_count": null,
   "metadata": {},
   "outputs": [],
   "source": []
  },
  {
   "cell_type": "code",
   "execution_count": null,
   "metadata": {},
   "outputs": [],
   "source": []
  },
  {
   "cell_type": "code",
   "execution_count": null,
   "metadata": {},
   "outputs": [],
   "source": []
  }
 ],
 "metadata": {
  "kernelspec": {
   "display_name": "Python 3",
   "language": "python",
   "name": "python3"
  },
  "language_info": {
   "codemirror_mode": {
    "name": "ipython",
    "version": 3
   },
   "file_extension": ".py",
   "mimetype": "text/x-python",
   "name": "python",
   "nbconvert_exporter": "python",
   "pygments_lexer": "ipython3",
   "version": "3.8.5"
  },
  "toc": {
   "base_numbering": 1,
   "nav_menu": {},
   "number_sections": true,
   "sideBar": true,
   "skip_h1_title": false,
   "title_cell": "Table of Contents",
   "title_sidebar": "Contents",
   "toc_cell": false,
   "toc_position": {},
   "toc_section_display": true,
   "toc_window_display": false
  },
  "varInspector": {
   "cols": {
    "lenName": 16,
    "lenType": 16,
    "lenVar": 40
   },
   "kernels_config": {
    "python": {
     "delete_cmd_postfix": "",
     "delete_cmd_prefix": "del ",
     "library": "var_list.py",
     "varRefreshCmd": "print(var_dic_list())"
    },
    "r": {
     "delete_cmd_postfix": ") ",
     "delete_cmd_prefix": "rm(",
     "library": "var_list.r",
     "varRefreshCmd": "cat(var_dic_list()) "
    }
   },
   "types_to_exclude": [
    "module",
    "function",
    "builtin_function_or_method",
    "instance",
    "_Feature"
   ],
   "window_display": false
  }
 },
 "nbformat": 4,
 "nbformat_minor": 4
}
