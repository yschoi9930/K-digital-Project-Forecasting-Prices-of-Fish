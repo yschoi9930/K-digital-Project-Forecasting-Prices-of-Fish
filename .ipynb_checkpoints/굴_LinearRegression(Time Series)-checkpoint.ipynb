{
 "cells": [
  {
   "cell_type": "code",
   "execution_count": 1,
   "metadata": {
    "ExecuteTime": {
     "end_time": "2021-04-25T12:48:22.741468Z",
     "start_time": "2021-04-25T12:48:21.128582Z"
    }
   },
   "outputs": [],
   "source": [
    "import selenium\n",
    "from selenium import webdriver\n",
    "from urllib.parse import quote\n",
    "import requests\n",
    "from bs4 import BeautifulSoup\n",
    "import pandas as pd\n",
    "import numpy as np\n",
    "import string\n",
    "import matplotlib.pyplot as plt\n",
    "%matplotlib inline\n",
    "import platform\n",
    "from scipy.stats import *\n",
    "from matplotlib import font_manager, rc\n",
    "plt.rcParams['axes.unicode_minus'] = False\n",
    "\n",
    "if platform.system() == 'Darwin':  # 맥OS \n",
    "    rc('font', family='AppleGothic')\n",
    "elif platform.system() == 'Windows': \n",
    "    # 윈도우   \n",
    "    path = \"c:/Windows/Fonts/malgun.ttf\"\n",
    "    font_name = font_manager.FontProperties(fname=path).get_name()\n",
    "    rc('font', family=font_name)\n",
    "else:\n",
    "    print('Unknown system...  sorry~~~')"
   ]
  },
  {
   "cell_type": "code",
   "execution_count": 13,
   "metadata": {
    "ExecuteTime": {
     "end_time": "2021-04-25T12:48:50.788671Z",
     "start_time": "2021-04-25T12:48:50.710433Z"
    }
   },
   "outputs": [],
   "source": [
    "data = pd.read_csv('./final/(0423)진짜 최종.csv')"
   ]
  },
  {
   "cell_type": "code",
   "execution_count": 14,
   "metadata": {
    "ExecuteTime": {
     "end_time": "2021-04-25T12:48:51.623676Z",
     "start_time": "2021-04-25T12:48:51.611930Z"
    }
   },
   "outputs": [],
   "source": [
    "data_raw= data.copy()"
   ]
  },
  {
   "cell_type": "code",
   "execution_count": 15,
   "metadata": {
    "ExecuteTime": {
     "end_time": "2021-04-25T12:48:54.249994Z",
     "start_time": "2021-04-25T12:48:54.224783Z"
    }
   },
   "outputs": [],
   "source": [
    "data = data.drop('Unnamed: 0',axis=1)"
   ]
  },
  {
   "cell_type": "code",
   "execution_count": 16,
   "metadata": {
    "ExecuteTime": {
     "end_time": "2021-04-25T12:48:55.196178Z",
     "start_time": "2021-04-25T12:48:55.168140Z"
    }
   },
   "outputs": [
    {
     "data": {
      "text/html": [
       "<div>\n",
       "<style scoped>\n",
       "    .dataframe tbody tr th:only-of-type {\n",
       "        vertical-align: middle;\n",
       "    }\n",
       "\n",
       "    .dataframe tbody tr th {\n",
       "        vertical-align: top;\n",
       "    }\n",
       "\n",
       "    .dataframe thead th {\n",
       "        text-align: right;\n",
       "    }\n",
       "</style>\n",
       "<table border=\"1\" class=\"dataframe\">\n",
       "  <thead>\n",
       "    <tr style=\"text-align: right;\">\n",
       "      <th></th>\n",
       "      <th>산지</th>\n",
       "      <th>최종수량</th>\n",
       "      <th>year</th>\n",
       "      <th>month</th>\n",
       "      <th>day</th>\n",
       "      <th>1kg price</th>\n",
       "      <th>date2</th>\n",
       "      <th>temp</th>\n",
       "    </tr>\n",
       "  </thead>\n",
       "  <tbody>\n",
       "    <tr>\n",
       "      <th>0</th>\n",
       "      <td>통영</td>\n",
       "      <td>254.0</td>\n",
       "      <td>2006</td>\n",
       "      <td>4</td>\n",
       "      <td>5</td>\n",
       "      <td>3200.00</td>\n",
       "      <td>2006.04.05</td>\n",
       "      <td>12.075</td>\n",
       "    </tr>\n",
       "    <tr>\n",
       "      <th>1</th>\n",
       "      <td>통영</td>\n",
       "      <td>535.2</td>\n",
       "      <td>2006</td>\n",
       "      <td>4</td>\n",
       "      <td>5</td>\n",
       "      <td>4000.00</td>\n",
       "      <td>2006.04.05</td>\n",
       "      <td>12.075</td>\n",
       "    </tr>\n",
       "    <tr>\n",
       "      <th>2</th>\n",
       "      <td>통영</td>\n",
       "      <td>70.0</td>\n",
       "      <td>2006</td>\n",
       "      <td>4</td>\n",
       "      <td>5</td>\n",
       "      <td>4285.71</td>\n",
       "      <td>2006.04.05</td>\n",
       "      <td>12.075</td>\n",
       "    </tr>\n",
       "    <tr>\n",
       "      <th>3</th>\n",
       "      <td>통영</td>\n",
       "      <td>194.7</td>\n",
       "      <td>2006</td>\n",
       "      <td>4</td>\n",
       "      <td>5</td>\n",
       "      <td>4454.55</td>\n",
       "      <td>2006.04.05</td>\n",
       "      <td>12.075</td>\n",
       "    </tr>\n",
       "    <tr>\n",
       "      <th>4</th>\n",
       "      <td>통영</td>\n",
       "      <td>493.0</td>\n",
       "      <td>2006</td>\n",
       "      <td>4</td>\n",
       "      <td>5</td>\n",
       "      <td>3941.18</td>\n",
       "      <td>2006.04.05</td>\n",
       "      <td>12.075</td>\n",
       "    </tr>\n",
       "    <tr>\n",
       "      <th>...</th>\n",
       "      <td>...</td>\n",
       "      <td>...</td>\n",
       "      <td>...</td>\n",
       "      <td>...</td>\n",
       "      <td>...</td>\n",
       "      <td>...</td>\n",
       "      <td>...</td>\n",
       "      <td>...</td>\n",
       "    </tr>\n",
       "    <tr>\n",
       "      <th>65512</th>\n",
       "      <td>삼천포</td>\n",
       "      <td>2.0</td>\n",
       "      <td>2021</td>\n",
       "      <td>4</td>\n",
       "      <td>2</td>\n",
       "      <td>3100.00</td>\n",
       "      <td>2021.04.02</td>\n",
       "      <td>13.150</td>\n",
       "    </tr>\n",
       "    <tr>\n",
       "      <th>65513</th>\n",
       "      <td>삼천포</td>\n",
       "      <td>3.6</td>\n",
       "      <td>2021</td>\n",
       "      <td>4</td>\n",
       "      <td>2</td>\n",
       "      <td>7833.33</td>\n",
       "      <td>2021.04.02</td>\n",
       "      <td>13.150</td>\n",
       "    </tr>\n",
       "    <tr>\n",
       "      <th>65514</th>\n",
       "      <td>삼천포</td>\n",
       "      <td>22.8</td>\n",
       "      <td>2021</td>\n",
       "      <td>4</td>\n",
       "      <td>5</td>\n",
       "      <td>6894.74</td>\n",
       "      <td>2021.04.05</td>\n",
       "      <td>13.325</td>\n",
       "    </tr>\n",
       "    <tr>\n",
       "      <th>65515</th>\n",
       "      <td>삼천포</td>\n",
       "      <td>30.0</td>\n",
       "      <td>2021</td>\n",
       "      <td>4</td>\n",
       "      <td>6</td>\n",
       "      <td>6700.00</td>\n",
       "      <td>2021.04.06</td>\n",
       "      <td>13.350</td>\n",
       "    </tr>\n",
       "    <tr>\n",
       "      <th>65516</th>\n",
       "      <td>삼천포</td>\n",
       "      <td>14.0</td>\n",
       "      <td>2021</td>\n",
       "      <td>4</td>\n",
       "      <td>7</td>\n",
       "      <td>6550.00</td>\n",
       "      <td>2021.04.07</td>\n",
       "      <td>13.425</td>\n",
       "    </tr>\n",
       "  </tbody>\n",
       "</table>\n",
       "<p>65517 rows × 8 columns</p>\n",
       "</div>"
      ],
      "text/plain": [
       "        산지   최종수량  year  month  day  1kg price       date2    temp\n",
       "0       통영  254.0  2006      4    5    3200.00  2006.04.05  12.075\n",
       "1       통영  535.2  2006      4    5    4000.00  2006.04.05  12.075\n",
       "2       통영   70.0  2006      4    5    4285.71  2006.04.05  12.075\n",
       "3       통영  194.7  2006      4    5    4454.55  2006.04.05  12.075\n",
       "4       통영  493.0  2006      4    5    3941.18  2006.04.05  12.075\n",
       "...    ...    ...   ...    ...  ...        ...         ...     ...\n",
       "65512  삼천포    2.0  2021      4    2    3100.00  2021.04.02  13.150\n",
       "65513  삼천포    3.6  2021      4    2    7833.33  2021.04.02  13.150\n",
       "65514  삼천포   22.8  2021      4    5    6894.74  2021.04.05  13.325\n",
       "65515  삼천포   30.0  2021      4    6    6700.00  2021.04.06  13.350\n",
       "65516  삼천포   14.0  2021      4    7    6550.00  2021.04.07  13.425\n",
       "\n",
       "[65517 rows x 8 columns]"
      ]
     },
     "execution_count": 16,
     "metadata": {},
     "output_type": "execute_result"
    }
   ],
   "source": [
    "data"
   ]
  },
  {
   "cell_type": "code",
   "execution_count": 22,
   "metadata": {
    "ExecuteTime": {
     "end_time": "2021-04-25T12:50:32.388865Z",
     "start_time": "2021-04-25T12:50:32.374032Z"
    }
   },
   "outputs": [],
   "source": [
    "data_lr = data[['산지','최종수량','1kg price','temp','date2']]"
   ]
  },
  {
   "cell_type": "code",
   "execution_count": 23,
   "metadata": {
    "ExecuteTime": {
     "end_time": "2021-04-25T12:50:40.598792Z",
     "start_time": "2021-04-25T12:50:40.586064Z"
    }
   },
   "outputs": [],
   "source": [
    "data_lr.columns = ['from','qty','1kg price','temp','date']"
   ]
  },
  {
   "cell_type": "code",
   "execution_count": 28,
   "metadata": {
    "ExecuteTime": {
     "end_time": "2021-04-25T12:51:42.185760Z",
     "start_time": "2021-04-25T12:51:42.148477Z"
    }
   },
   "outputs": [],
   "source": [
    "grouped=data_lr.groupby('date').agg({'qty':'sum','1kg price':'mean','temp':'mean'}).round(2)"
   ]
  },
  {
   "cell_type": "code",
   "execution_count": 100,
   "metadata": {
    "ExecuteTime": {
     "end_time": "2021-04-25T14:01:19.726035Z",
     "start_time": "2021-04-25T14:01:19.665872Z"
    }
   },
   "outputs": [],
   "source": [
    "grouped.to_csv('./final/(0425)그룹화 최종.csv')"
   ]
  },
  {
   "cell_type": "code",
   "execution_count": 101,
   "metadata": {
    "ExecuteTime": {
     "end_time": "2021-04-25T14:01:45.188183Z",
     "start_time": "2021-04-25T14:01:45.165217Z"
    }
   },
   "outputs": [
    {
     "data": {
      "text/html": [
       "<div>\n",
       "<style scoped>\n",
       "    .dataframe tbody tr th:only-of-type {\n",
       "        vertical-align: middle;\n",
       "    }\n",
       "\n",
       "    .dataframe tbody tr th {\n",
       "        vertical-align: top;\n",
       "    }\n",
       "\n",
       "    .dataframe thead th {\n",
       "        text-align: right;\n",
       "    }\n",
       "</style>\n",
       "<table border=\"1\" class=\"dataframe\">\n",
       "  <thead>\n",
       "    <tr style=\"text-align: right;\">\n",
       "      <th></th>\n",
       "      <th>qty</th>\n",
       "      <th>1kg price</th>\n",
       "      <th>temp</th>\n",
       "      <th>temp_sc</th>\n",
       "      <th>qty_sc</th>\n",
       "    </tr>\n",
       "    <tr>\n",
       "      <th>date</th>\n",
       "      <th></th>\n",
       "      <th></th>\n",
       "      <th></th>\n",
       "      <th></th>\n",
       "      <th></th>\n",
       "    </tr>\n",
       "  </thead>\n",
       "  <tbody>\n",
       "    <tr>\n",
       "      <th>2006.04.04</th>\n",
       "      <td>978.3</td>\n",
       "      <td>4948.71</td>\n",
       "      <td>12.02</td>\n",
       "      <td>-0.853048</td>\n",
       "      <td>-0.652525</td>\n",
       "    </tr>\n",
       "    <tr>\n",
       "      <th>2006.04.05</th>\n",
       "      <td>4600.7</td>\n",
       "      <td>4447.32</td>\n",
       "      <td>11.90</td>\n",
       "      <td>-0.876107</td>\n",
       "      <td>0.042461</td>\n",
       "    </tr>\n",
       "    <tr>\n",
       "      <th>2006.04.06</th>\n",
       "      <td>3842.2</td>\n",
       "      <td>4620.74</td>\n",
       "      <td>12.12</td>\n",
       "      <td>-0.833833</td>\n",
       "      <td>-0.103063</td>\n",
       "    </tr>\n",
       "    <tr>\n",
       "      <th>2006.04.07</th>\n",
       "      <td>4777.3</td>\n",
       "      <td>4060.83</td>\n",
       "      <td>12.18</td>\n",
       "      <td>-0.822304</td>\n",
       "      <td>0.076343</td>\n",
       "    </tr>\n",
       "    <tr>\n",
       "      <th>2006.04.08</th>\n",
       "      <td>4773.5</td>\n",
       "      <td>4547.00</td>\n",
       "      <td>12.17</td>\n",
       "      <td>-0.824225</td>\n",
       "      <td>0.075614</td>\n",
       "    </tr>\n",
       "    <tr>\n",
       "      <th>...</th>\n",
       "      <td>...</td>\n",
       "      <td>...</td>\n",
       "      <td>...</td>\n",
       "      <td>...</td>\n",
       "      <td>...</td>\n",
       "    </tr>\n",
       "    <tr>\n",
       "      <th>2021.04.03</th>\n",
       "      <td>561.4</td>\n",
       "      <td>4642.59</td>\n",
       "      <td>13.30</td>\n",
       "      <td>-0.607090</td>\n",
       "      <td>-0.732510</td>\n",
       "    </tr>\n",
       "    <tr>\n",
       "      <th>2021.04.05</th>\n",
       "      <td>421.1</td>\n",
       "      <td>5653.34</td>\n",
       "      <td>13.32</td>\n",
       "      <td>-0.603247</td>\n",
       "      <td>-0.759428</td>\n",
       "    </tr>\n",
       "    <tr>\n",
       "      <th>2021.04.06</th>\n",
       "      <td>290.7</td>\n",
       "      <td>7392.06</td>\n",
       "      <td>13.35</td>\n",
       "      <td>-0.597483</td>\n",
       "      <td>-0.784446</td>\n",
       "    </tr>\n",
       "    <tr>\n",
       "      <th>2021.04.07</th>\n",
       "      <td>399.9</td>\n",
       "      <td>7735.17</td>\n",
       "      <td>13.42</td>\n",
       "      <td>-0.584032</td>\n",
       "      <td>-0.763496</td>\n",
       "    </tr>\n",
       "    <tr>\n",
       "      <th>2021.04.08</th>\n",
       "      <td>418.7</td>\n",
       "      <td>8752.01</td>\n",
       "      <td>13.58</td>\n",
       "      <td>-0.553287</td>\n",
       "      <td>-0.759889</td>\n",
       "    </tr>\n",
       "  </tbody>\n",
       "</table>\n",
       "<p>4602 rows × 5 columns</p>\n",
       "</div>"
      ],
      "text/plain": [
       "               qty  1kg price   temp   temp_sc    qty_sc\n",
       "date                                                    \n",
       "2006.04.04   978.3    4948.71  12.02 -0.853048 -0.652525\n",
       "2006.04.05  4600.7    4447.32  11.90 -0.876107  0.042461\n",
       "2006.04.06  3842.2    4620.74  12.12 -0.833833 -0.103063\n",
       "2006.04.07  4777.3    4060.83  12.18 -0.822304  0.076343\n",
       "2006.04.08  4773.5    4547.00  12.17 -0.824225  0.075614\n",
       "...            ...        ...    ...       ...       ...\n",
       "2021.04.03   561.4    4642.59  13.30 -0.607090 -0.732510\n",
       "2021.04.05   421.1    5653.34  13.32 -0.603247 -0.759428\n",
       "2021.04.06   290.7    7392.06  13.35 -0.597483 -0.784446\n",
       "2021.04.07   399.9    7735.17  13.42 -0.584032 -0.763496\n",
       "2021.04.08   418.7    8752.01  13.58 -0.553287 -0.759889\n",
       "\n",
       "[4602 rows x 5 columns]"
      ]
     },
     "execution_count": 101,
     "metadata": {},
     "output_type": "execute_result"
    }
   ],
   "source": [
    "grouped"
   ]
  },
  {
   "cell_type": "code",
   "execution_count": 30,
   "metadata": {
    "ExecuteTime": {
     "end_time": "2021-04-25T12:52:43.494935Z",
     "start_time": "2021-04-25T12:52:43.175885Z"
    }
   },
   "outputs": [
    {
     "name": "stderr",
     "output_type": "stream",
     "text": [
      "C:\\Users\\choi yeseul\\anaconda3\\lib\\site-packages\\seaborn\\distributions.py:2551: FutureWarning: `distplot` is a deprecated function and will be removed in a future version. Please adapt your code to use either `displot` (a figure-level function with similar flexibility) or `histplot` (an axes-level function for histograms).\n",
      "  warnings.warn(msg, FutureWarning)\n"
     ]
    },
    {
     "data": {
      "text/plain": [
       "<AxesSubplot:xlabel='1kg price', ylabel='Density'>"
      ]
     },
     "execution_count": 30,
     "metadata": {},
     "output_type": "execute_result"
    },
    {
     "data": {
      "image/png": "[encoded data removed]",
      "text/plain": [
       "<Figure size 432x288 with 1 Axes>"
      ]
     },
     "metadata": {
      "needs_background": "light"
     },
     "output_type": "display_data"
    }
   ],
   "source": [
    "sns.distplot(grouped['1kg price'])"
   ]
  },
  {
   "cell_type": "code",
   "execution_count": 53,
   "metadata": {
    "ExecuteTime": {
     "end_time": "2021-04-25T13:47:56.901039Z",
     "start_time": "2021-04-25T13:47:56.883259Z"
    }
   },
   "outputs": [],
   "source": [
    "grouped['temp_sc'] = scale.fit_transform(grouped[['temp']])\n",
    "grouped['qty_sc'] = scale.fit_transform(grouped[['qty']])"
   ]
  },
  {
   "cell_type": "code",
   "execution_count": 54,
   "metadata": {
    "ExecuteTime": {
     "end_time": "2021-04-25T13:47:59.197210Z",
     "start_time": "2021-04-25T13:47:59.172619Z"
    }
   },
   "outputs": [
    {
     "data": {
      "text/html": [
       "<div>\n",
       "<style scoped>\n",
       "    .dataframe tbody tr th:only-of-type {\n",
       "        vertical-align: middle;\n",
       "    }\n",
       "\n",
       "    .dataframe tbody tr th {\n",
       "        vertical-align: top;\n",
       "    }\n",
       "\n",
       "    .dataframe thead th {\n",
       "        text-align: right;\n",
       "    }\n",
       "</style>\n",
       "<table border=\"1\" class=\"dataframe\">\n",
       "  <thead>\n",
       "    <tr style=\"text-align: right;\">\n",
       "      <th></th>\n",
       "      <th>qty</th>\n",
       "      <th>1kg price</th>\n",
       "      <th>temp</th>\n",
       "      <th>temp_sc</th>\n",
       "      <th>qty_sc</th>\n",
       "    </tr>\n",
       "    <tr>\n",
       "      <th>date</th>\n",
       "      <th></th>\n",
       "      <th></th>\n",
       "      <th></th>\n",
       "      <th></th>\n",
       "      <th></th>\n",
       "    </tr>\n",
       "  </thead>\n",
       "  <tbody>\n",
       "    <tr>\n",
       "      <th>2006.04.04</th>\n",
       "      <td>978.3</td>\n",
       "      <td>4948.71</td>\n",
       "      <td>12.02</td>\n",
       "      <td>-0.853048</td>\n",
       "      <td>-0.652525</td>\n",
       "    </tr>\n",
       "    <tr>\n",
       "      <th>2006.04.05</th>\n",
       "      <td>4600.7</td>\n",
       "      <td>4447.32</td>\n",
       "      <td>11.90</td>\n",
       "      <td>-0.876107</td>\n",
       "      <td>0.042461</td>\n",
       "    </tr>\n",
       "    <tr>\n",
       "      <th>2006.04.06</th>\n",
       "      <td>3842.2</td>\n",
       "      <td>4620.74</td>\n",
       "      <td>12.12</td>\n",
       "      <td>-0.833833</td>\n",
       "      <td>-0.103063</td>\n",
       "    </tr>\n",
       "    <tr>\n",
       "      <th>2006.04.07</th>\n",
       "      <td>4777.3</td>\n",
       "      <td>4060.83</td>\n",
       "      <td>12.18</td>\n",
       "      <td>-0.822304</td>\n",
       "      <td>0.076343</td>\n",
       "    </tr>\n",
       "    <tr>\n",
       "      <th>2006.04.08</th>\n",
       "      <td>4773.5</td>\n",
       "      <td>4547.00</td>\n",
       "      <td>12.17</td>\n",
       "      <td>-0.824225</td>\n",
       "      <td>0.075614</td>\n",
       "    </tr>\n",
       "    <tr>\n",
       "      <th>...</th>\n",
       "      <td>...</td>\n",
       "      <td>...</td>\n",
       "      <td>...</td>\n",
       "      <td>...</td>\n",
       "      <td>...</td>\n",
       "    </tr>\n",
       "    <tr>\n",
       "      <th>2021.04.03</th>\n",
       "      <td>561.4</td>\n",
       "      <td>4642.59</td>\n",
       "      <td>13.30</td>\n",
       "      <td>-0.607090</td>\n",
       "      <td>-0.732510</td>\n",
       "    </tr>\n",
       "    <tr>\n",
       "      <th>2021.04.05</th>\n",
       "      <td>421.1</td>\n",
       "      <td>5653.34</td>\n",
       "      <td>13.32</td>\n",
       "      <td>-0.603247</td>\n",
       "      <td>-0.759428</td>\n",
       "    </tr>\n",
       "    <tr>\n",
       "      <th>2021.04.06</th>\n",
       "      <td>290.7</td>\n",
       "      <td>7392.06</td>\n",
       "      <td>13.35</td>\n",
       "      <td>-0.597483</td>\n",
       "      <td>-0.784446</td>\n",
       "    </tr>\n",
       "    <tr>\n",
       "      <th>2021.04.07</th>\n",
       "      <td>399.9</td>\n",
       "      <td>7735.17</td>\n",
       "      <td>13.42</td>\n",
       "      <td>-0.584032</td>\n",
       "      <td>-0.763496</td>\n",
       "    </tr>\n",
       "    <tr>\n",
       "      <th>2021.04.08</th>\n",
       "      <td>418.7</td>\n",
       "      <td>8752.01</td>\n",
       "      <td>13.58</td>\n",
       "      <td>-0.553287</td>\n",
       "      <td>-0.759889</td>\n",
       "    </tr>\n",
       "  </tbody>\n",
       "</table>\n",
       "<p>4602 rows × 5 columns</p>\n",
       "</div>"
      ],
      "text/plain": [
       "               qty  1kg price   temp   temp_sc    qty_sc\n",
       "date                                                    \n",
       "2006.04.04   978.3    4948.71  12.02 -0.853048 -0.652525\n",
       "2006.04.05  4600.7    4447.32  11.90 -0.876107  0.042461\n",
       "2006.04.06  3842.2    4620.74  12.12 -0.833833 -0.103063\n",
       "2006.04.07  4777.3    4060.83  12.18 -0.822304  0.076343\n",
       "2006.04.08  4773.5    4547.00  12.17 -0.824225  0.075614\n",
       "...            ...        ...    ...       ...       ...\n",
       "2021.04.03   561.4    4642.59  13.30 -0.607090 -0.732510\n",
       "2021.04.05   421.1    5653.34  13.32 -0.603247 -0.759428\n",
       "2021.04.06   290.7    7392.06  13.35 -0.597483 -0.784446\n",
       "2021.04.07   399.9    7735.17  13.42 -0.584032 -0.763496\n",
       "2021.04.08   418.7    8752.01  13.58 -0.553287 -0.759889\n",
       "\n",
       "[4602 rows x 5 columns]"
      ]
     },
     "execution_count": 54,
     "metadata": {},
     "output_type": "execute_result"
    }
   ],
   "source": [
    "grouped"
   ]
  },
  {
   "cell_type": "code",
   "execution_count": 55,
   "metadata": {
    "ExecuteTime": {
     "end_time": "2021-04-25T13:48:34.940173Z",
     "start_time": "2021-04-25T13:48:34.905006Z"
    }
   },
   "outputs": [
    {
     "data": {
      "text/html": [
       "<div>\n",
       "<style scoped>\n",
       "    .dataframe tbody tr th:only-of-type {\n",
       "        vertical-align: middle;\n",
       "    }\n",
       "\n",
       "    .dataframe tbody tr th {\n",
       "        vertical-align: top;\n",
       "    }\n",
       "\n",
       "    .dataframe thead th {\n",
       "        text-align: right;\n",
       "    }\n",
       "</style>\n",
       "<table border=\"1\" class=\"dataframe\">\n",
       "  <thead>\n",
       "    <tr style=\"text-align: right;\">\n",
       "      <th></th>\n",
       "      <th>qty</th>\n",
       "      <th>1kg price</th>\n",
       "      <th>temp</th>\n",
       "      <th>temp_sc</th>\n",
       "      <th>qty_sc</th>\n",
       "    </tr>\n",
       "  </thead>\n",
       "  <tbody>\n",
       "    <tr>\n",
       "      <th>qty</th>\n",
       "      <td>1.000000</td>\n",
       "      <td>0.241096</td>\n",
       "      <td>-0.553020</td>\n",
       "      <td>-0.553020</td>\n",
       "      <td>1.000000</td>\n",
       "    </tr>\n",
       "    <tr>\n",
       "      <th>1kg price</th>\n",
       "      <td>0.241096</td>\n",
       "      <td>1.000000</td>\n",
       "      <td>0.048214</td>\n",
       "      <td>0.048214</td>\n",
       "      <td>0.241096</td>\n",
       "    </tr>\n",
       "    <tr>\n",
       "      <th>temp</th>\n",
       "      <td>-0.553020</td>\n",
       "      <td>0.048214</td>\n",
       "      <td>1.000000</td>\n",
       "      <td>1.000000</td>\n",
       "      <td>-0.553020</td>\n",
       "    </tr>\n",
       "    <tr>\n",
       "      <th>temp_sc</th>\n",
       "      <td>-0.553020</td>\n",
       "      <td>0.048214</td>\n",
       "      <td>1.000000</td>\n",
       "      <td>1.000000</td>\n",
       "      <td>-0.553020</td>\n",
       "    </tr>\n",
       "    <tr>\n",
       "      <th>qty_sc</th>\n",
       "      <td>1.000000</td>\n",
       "      <td>0.241096</td>\n",
       "      <td>-0.553020</td>\n",
       "      <td>-0.553020</td>\n",
       "      <td>1.000000</td>\n",
       "    </tr>\n",
       "  </tbody>\n",
       "</table>\n",
       "</div>"
      ],
      "text/plain": [
       "                qty  1kg price      temp   temp_sc    qty_sc\n",
       "qty        1.000000   0.241096 -0.553020 -0.553020  1.000000\n",
       "1kg price  0.241096   1.000000  0.048214  0.048214  0.241096\n",
       "temp      -0.553020   0.048214  1.000000  1.000000 -0.553020\n",
       "temp_sc   -0.553020   0.048214  1.000000  1.000000 -0.553020\n",
       "qty_sc     1.000000   0.241096 -0.553020 -0.553020  1.000000"
      ]
     },
     "execution_count": 55,
     "metadata": {},
     "output_type": "execute_result"
    }
   ],
   "source": [
    "corr = grouped.corr(method = 'pearson')\n",
    "corr"
   ]
  },
  {
   "cell_type": "code",
   "execution_count": 57,
   "metadata": {
    "ExecuteTime": {
     "end_time": "2021-04-25T13:50:17.606863Z",
     "start_time": "2021-04-25T13:50:17.576038Z"
    }
   },
   "outputs": [
    {
     "data": {
      "text/html": [
       "<div>\n",
       "<style scoped>\n",
       "    .dataframe tbody tr th:only-of-type {\n",
       "        vertical-align: middle;\n",
       "    }\n",
       "\n",
       "    .dataframe tbody tr th {\n",
       "        vertical-align: top;\n",
       "    }\n",
       "\n",
       "    .dataframe thead th {\n",
       "        text-align: right;\n",
       "    }\n",
       "</style>\n",
       "<table border=\"1\" class=\"dataframe\">\n",
       "  <thead>\n",
       "    <tr style=\"text-align: right;\">\n",
       "      <th></th>\n",
       "      <th>from</th>\n",
       "      <th>qty</th>\n",
       "      <th>1kg price</th>\n",
       "      <th>temp</th>\n",
       "      <th>date</th>\n",
       "    </tr>\n",
       "  </thead>\n",
       "  <tbody>\n",
       "    <tr>\n",
       "      <th>0</th>\n",
       "      <td>통영</td>\n",
       "      <td>254.0</td>\n",
       "      <td>3200.00</td>\n",
       "      <td>12.075</td>\n",
       "      <td>2006.04.05</td>\n",
       "    </tr>\n",
       "    <tr>\n",
       "      <th>1</th>\n",
       "      <td>통영</td>\n",
       "      <td>535.2</td>\n",
       "      <td>4000.00</td>\n",
       "      <td>12.075</td>\n",
       "      <td>2006.04.05</td>\n",
       "    </tr>\n",
       "    <tr>\n",
       "      <th>2</th>\n",
       "      <td>통영</td>\n",
       "      <td>70.0</td>\n",
       "      <td>4285.71</td>\n",
       "      <td>12.075</td>\n",
       "      <td>2006.04.05</td>\n",
       "    </tr>\n",
       "    <tr>\n",
       "      <th>3</th>\n",
       "      <td>통영</td>\n",
       "      <td>194.7</td>\n",
       "      <td>4454.55</td>\n",
       "      <td>12.075</td>\n",
       "      <td>2006.04.05</td>\n",
       "    </tr>\n",
       "    <tr>\n",
       "      <th>4</th>\n",
       "      <td>통영</td>\n",
       "      <td>493.0</td>\n",
       "      <td>3941.18</td>\n",
       "      <td>12.075</td>\n",
       "      <td>2006.04.05</td>\n",
       "    </tr>\n",
       "    <tr>\n",
       "      <th>...</th>\n",
       "      <td>...</td>\n",
       "      <td>...</td>\n",
       "      <td>...</td>\n",
       "      <td>...</td>\n",
       "      <td>...</td>\n",
       "    </tr>\n",
       "    <tr>\n",
       "      <th>65512</th>\n",
       "      <td>삼천포</td>\n",
       "      <td>2.0</td>\n",
       "      <td>3100.00</td>\n",
       "      <td>13.150</td>\n",
       "      <td>2021.04.02</td>\n",
       "    </tr>\n",
       "    <tr>\n",
       "      <th>65513</th>\n",
       "      <td>삼천포</td>\n",
       "      <td>3.6</td>\n",
       "      <td>7833.33</td>\n",
       "      <td>13.150</td>\n",
       "      <td>2021.04.02</td>\n",
       "    </tr>\n",
       "    <tr>\n",
       "      <th>65514</th>\n",
       "      <td>삼천포</td>\n",
       "      <td>22.8</td>\n",
       "      <td>6894.74</td>\n",
       "      <td>13.325</td>\n",
       "      <td>2021.04.05</td>\n",
       "    </tr>\n",
       "    <tr>\n",
       "      <th>65515</th>\n",
       "      <td>삼천포</td>\n",
       "      <td>30.0</td>\n",
       "      <td>6700.00</td>\n",
       "      <td>13.350</td>\n",
       "      <td>2021.04.06</td>\n",
       "    </tr>\n",
       "    <tr>\n",
       "      <th>65516</th>\n",
       "      <td>삼천포</td>\n",
       "      <td>14.0</td>\n",
       "      <td>6550.00</td>\n",
       "      <td>13.425</td>\n",
       "      <td>2021.04.07</td>\n",
       "    </tr>\n",
       "  </tbody>\n",
       "</table>\n",
       "<p>65517 rows × 5 columns</p>\n",
       "</div>"
      ],
      "text/plain": [
       "      from    qty  1kg price    temp        date\n",
       "0       통영  254.0    3200.00  12.075  2006.04.05\n",
       "1       통영  535.2    4000.00  12.075  2006.04.05\n",
       "2       통영   70.0    4285.71  12.075  2006.04.05\n",
       "3       통영  194.7    4454.55  12.075  2006.04.05\n",
       "4       통영  493.0    3941.18  12.075  2006.04.05\n",
       "...    ...    ...        ...     ...         ...\n",
       "65512  삼천포    2.0    3100.00  13.150  2021.04.02\n",
       "65513  삼천포    3.6    7833.33  13.150  2021.04.02\n",
       "65514  삼천포   22.8    6894.74  13.325  2021.04.05\n",
       "65515  삼천포   30.0    6700.00  13.350  2021.04.06\n",
       "65516  삼천포   14.0    6550.00  13.425  2021.04.07\n",
       "\n",
       "[65517 rows x 5 columns]"
      ]
     },
     "execution_count": 57,
     "metadata": {},
     "output_type": "execute_result"
    }
   ],
   "source": [
    "data_lr"
   ]
  },
  {
   "cell_type": "code",
   "execution_count": 60,
   "metadata": {
    "ExecuteTime": {
     "end_time": "2021-04-25T13:51:03.889282Z",
     "start_time": "2021-04-25T13:51:03.262516Z"
    }
   },
   "outputs": [],
   "source": [
    "data_lr['year'] = data_lr['date'].str.split('.').str.get(0)\n",
    "data_lr['month'] = data_lr['date'].str.split('.').str.get(1)\n",
    "data_lr['day'] = data_lr['date'].str.split('.').str.get(2)"
   ]
  },
  {
   "cell_type": "code",
   "execution_count": 62,
   "metadata": {
    "ExecuteTime": {
     "end_time": "2021-04-25T13:51:20.289376Z",
     "start_time": "2021-04-25T13:51:20.225497Z"
    }
   },
   "outputs": [],
   "source": [
    "data_lr['date2'] = data_lr['year'].str.cat(data_lr['month'],sep='.')"
   ]
  },
  {
   "cell_type": "code",
   "execution_count": 63,
   "metadata": {
    "ExecuteTime": {
     "end_time": "2021-04-25T13:51:24.338909Z",
     "start_time": "2021-04-25T13:51:24.300280Z"
    }
   },
   "outputs": [
    {
     "data": {
      "text/html": [
       "<div>\n",
       "<style scoped>\n",
       "    .dataframe tbody tr th:only-of-type {\n",
       "        vertical-align: middle;\n",
       "    }\n",
       "\n",
       "    .dataframe tbody tr th {\n",
       "        vertical-align: top;\n",
       "    }\n",
       "\n",
       "    .dataframe thead th {\n",
       "        text-align: right;\n",
       "    }\n",
       "</style>\n",
       "<table border=\"1\" class=\"dataframe\">\n",
       "  <thead>\n",
       "    <tr style=\"text-align: right;\">\n",
       "      <th></th>\n",
       "      <th>from</th>\n",
       "      <th>qty</th>\n",
       "      <th>1kg price</th>\n",
       "      <th>temp</th>\n",
       "      <th>date</th>\n",
       "      <th>year</th>\n",
       "      <th>month</th>\n",
       "      <th>day</th>\n",
       "      <th>date2</th>\n",
       "    </tr>\n",
       "  </thead>\n",
       "  <tbody>\n",
       "    <tr>\n",
       "      <th>0</th>\n",
       "      <td>통영</td>\n",
       "      <td>254.0</td>\n",
       "      <td>3200.00</td>\n",
       "      <td>12.075</td>\n",
       "      <td>2006.04.05</td>\n",
       "      <td>2006</td>\n",
       "      <td>04</td>\n",
       "      <td>05</td>\n",
       "      <td>2006.04</td>\n",
       "    </tr>\n",
       "    <tr>\n",
       "      <th>1</th>\n",
       "      <td>통영</td>\n",
       "      <td>535.2</td>\n",
       "      <td>4000.00</td>\n",
       "      <td>12.075</td>\n",
       "      <td>2006.04.05</td>\n",
       "      <td>2006</td>\n",
       "      <td>04</td>\n",
       "      <td>05</td>\n",
       "      <td>2006.04</td>\n",
       "    </tr>\n",
       "    <tr>\n",
       "      <th>2</th>\n",
       "      <td>통영</td>\n",
       "      <td>70.0</td>\n",
       "      <td>4285.71</td>\n",
       "      <td>12.075</td>\n",
       "      <td>2006.04.05</td>\n",
       "      <td>2006</td>\n",
       "      <td>04</td>\n",
       "      <td>05</td>\n",
       "      <td>2006.04</td>\n",
       "    </tr>\n",
       "    <tr>\n",
       "      <th>3</th>\n",
       "      <td>통영</td>\n",
       "      <td>194.7</td>\n",
       "      <td>4454.55</td>\n",
       "      <td>12.075</td>\n",
       "      <td>2006.04.05</td>\n",
       "      <td>2006</td>\n",
       "      <td>04</td>\n",
       "      <td>05</td>\n",
       "      <td>2006.04</td>\n",
       "    </tr>\n",
       "    <tr>\n",
       "      <th>4</th>\n",
       "      <td>통영</td>\n",
       "      <td>493.0</td>\n",
       "      <td>3941.18</td>\n",
       "      <td>12.075</td>\n",
       "      <td>2006.04.05</td>\n",
       "      <td>2006</td>\n",
       "      <td>04</td>\n",
       "      <td>05</td>\n",
       "      <td>2006.04</td>\n",
       "    </tr>\n",
       "    <tr>\n",
       "      <th>...</th>\n",
       "      <td>...</td>\n",
       "      <td>...</td>\n",
       "      <td>...</td>\n",
       "      <td>...</td>\n",
       "      <td>...</td>\n",
       "      <td>...</td>\n",
       "      <td>...</td>\n",
       "      <td>...</td>\n",
       "      <td>...</td>\n",
       "    </tr>\n",
       "    <tr>\n",
       "      <th>65512</th>\n",
       "      <td>삼천포</td>\n",
       "      <td>2.0</td>\n",
       "      <td>3100.00</td>\n",
       "      <td>13.150</td>\n",
       "      <td>2021.04.02</td>\n",
       "      <td>2021</td>\n",
       "      <td>04</td>\n",
       "      <td>02</td>\n",
       "      <td>2021.04</td>\n",
       "    </tr>\n",
       "    <tr>\n",
       "      <th>65513</th>\n",
       "      <td>삼천포</td>\n",
       "      <td>3.6</td>\n",
       "      <td>7833.33</td>\n",
       "      <td>13.150</td>\n",
       "      <td>2021.04.02</td>\n",
       "      <td>2021</td>\n",
       "      <td>04</td>\n",
       "      <td>02</td>\n",
       "      <td>2021.04</td>\n",
       "    </tr>\n",
       "    <tr>\n",
       "      <th>65514</th>\n",
       "      <td>삼천포</td>\n",
       "      <td>22.8</td>\n",
       "      <td>6894.74</td>\n",
       "      <td>13.325</td>\n",
       "      <td>2021.04.05</td>\n",
       "      <td>2021</td>\n",
       "      <td>04</td>\n",
       "      <td>05</td>\n",
       "      <td>2021.04</td>\n",
       "    </tr>\n",
       "    <tr>\n",
       "      <th>65515</th>\n",
       "      <td>삼천포</td>\n",
       "      <td>30.0</td>\n",
       "      <td>6700.00</td>\n",
       "      <td>13.350</td>\n",
       "      <td>2021.04.06</td>\n",
       "      <td>2021</td>\n",
       "      <td>04</td>\n",
       "      <td>06</td>\n",
       "      <td>2021.04</td>\n",
       "    </tr>\n",
       "    <tr>\n",
       "      <th>65516</th>\n",
       "      <td>삼천포</td>\n",
       "      <td>14.0</td>\n",
       "      <td>6550.00</td>\n",
       "      <td>13.425</td>\n",
       "      <td>2021.04.07</td>\n",
       "      <td>2021</td>\n",
       "      <td>04</td>\n",
       "      <td>07</td>\n",
       "      <td>2021.04</td>\n",
       "    </tr>\n",
       "  </tbody>\n",
       "</table>\n",
       "<p>65517 rows × 9 columns</p>\n",
       "</div>"
      ],
      "text/plain": [
       "      from    qty  1kg price    temp        date  year month day    date2\n",
       "0       통영  254.0    3200.00  12.075  2006.04.05  2006    04  05  2006.04\n",
       "1       통영  535.2    4000.00  12.075  2006.04.05  2006    04  05  2006.04\n",
       "2       통영   70.0    4285.71  12.075  2006.04.05  2006    04  05  2006.04\n",
       "3       통영  194.7    4454.55  12.075  2006.04.05  2006    04  05  2006.04\n",
       "4       통영  493.0    3941.18  12.075  2006.04.05  2006    04  05  2006.04\n",
       "...    ...    ...        ...     ...         ...   ...   ...  ..      ...\n",
       "65512  삼천포    2.0    3100.00  13.150  2021.04.02  2021    04  02  2021.04\n",
       "65513  삼천포    3.6    7833.33  13.150  2021.04.02  2021    04  02  2021.04\n",
       "65514  삼천포   22.8    6894.74  13.325  2021.04.05  2021    04  05  2021.04\n",
       "65515  삼천포   30.0    6700.00  13.350  2021.04.06  2021    04  06  2021.04\n",
       "65516  삼천포   14.0    6550.00  13.425  2021.04.07  2021    04  07  2021.04\n",
       "\n",
       "[65517 rows x 9 columns]"
      ]
     },
     "execution_count": 63,
     "metadata": {},
     "output_type": "execute_result"
    }
   ],
   "source": [
    "data_lr"
   ]
  },
  {
   "cell_type": "code",
   "execution_count": 65,
   "metadata": {
    "ExecuteTime": {
     "end_time": "2021-04-25T13:51:44.439834Z",
     "start_time": "2021-04-25T13:51:44.389327Z"
    }
   },
   "outputs": [],
   "source": [
    "group = data_lr.groupby(['year','month'])\n",
    "grouped2 = group.agg({'qty':'sum','1kg price':'mean'}).round(2)"
   ]
  },
  {
   "cell_type": "code",
   "execution_count": 66,
   "metadata": {
    "ExecuteTime": {
     "end_time": "2021-04-25T13:51:46.843940Z",
     "start_time": "2021-04-25T13:51:46.813178Z"
    }
   },
   "outputs": [
    {
     "data": {
      "text/html": [
       "<div>\n",
       "<style scoped>\n",
       "    .dataframe tbody tr th:only-of-type {\n",
       "        vertical-align: middle;\n",
       "    }\n",
       "\n",
       "    .dataframe tbody tr th {\n",
       "        vertical-align: top;\n",
       "    }\n",
       "\n",
       "    .dataframe thead th {\n",
       "        text-align: right;\n",
       "    }\n",
       "</style>\n",
       "<table border=\"1\" class=\"dataframe\">\n",
       "  <thead>\n",
       "    <tr style=\"text-align: right;\">\n",
       "      <th></th>\n",
       "      <th></th>\n",
       "      <th>qty</th>\n",
       "      <th>1kg price</th>\n",
       "    </tr>\n",
       "    <tr>\n",
       "      <th>year</th>\n",
       "      <th>month</th>\n",
       "      <th></th>\n",
       "      <th></th>\n",
       "    </tr>\n",
       "  </thead>\n",
       "  <tbody>\n",
       "    <tr>\n",
       "      <th rowspan=\"5\" valign=\"top\">2006</th>\n",
       "      <th>04</th>\n",
       "      <td>79398.5</td>\n",
       "      <td>4936.02</td>\n",
       "    </tr>\n",
       "    <tr>\n",
       "      <th>05</th>\n",
       "      <td>34612.7</td>\n",
       "      <td>5231.31</td>\n",
       "    </tr>\n",
       "    <tr>\n",
       "      <th>06</th>\n",
       "      <td>15556.6</td>\n",
       "      <td>5587.33</td>\n",
       "    </tr>\n",
       "    <tr>\n",
       "      <th>07</th>\n",
       "      <td>14119.5</td>\n",
       "      <td>5494.06</td>\n",
       "    </tr>\n",
       "    <tr>\n",
       "      <th>08</th>\n",
       "      <td>11779.5</td>\n",
       "      <td>5889.41</td>\n",
       "    </tr>\n",
       "    <tr>\n",
       "      <th>...</th>\n",
       "      <th>...</th>\n",
       "      <td>...</td>\n",
       "      <td>...</td>\n",
       "    </tr>\n",
       "    <tr>\n",
       "      <th>2020</th>\n",
       "      <th>12</th>\n",
       "      <td>134632.1</td>\n",
       "      <td>11078.21</td>\n",
       "    </tr>\n",
       "    <tr>\n",
       "      <th rowspan=\"4\" valign=\"top\">2021</th>\n",
       "      <th>01</th>\n",
       "      <td>121173.1</td>\n",
       "      <td>9193.63</td>\n",
       "    </tr>\n",
       "    <tr>\n",
       "      <th>02</th>\n",
       "      <td>85059.1</td>\n",
       "      <td>8785.29</td>\n",
       "    </tr>\n",
       "    <tr>\n",
       "      <th>03</th>\n",
       "      <td>33416.2</td>\n",
       "      <td>7527.60</td>\n",
       "    </tr>\n",
       "    <tr>\n",
       "      <th>04</th>\n",
       "      <td>3707.0</td>\n",
       "      <td>6674.00</td>\n",
       "    </tr>\n",
       "  </tbody>\n",
       "</table>\n",
       "<p>181 rows × 2 columns</p>\n",
       "</div>"
      ],
      "text/plain": [
       "                 qty  1kg price\n",
       "year month                     \n",
       "2006 04      79398.5    4936.02\n",
       "     05      34612.7    5231.31\n",
       "     06      15556.6    5587.33\n",
       "     07      14119.5    5494.06\n",
       "     08      11779.5    5889.41\n",
       "...              ...        ...\n",
       "2020 12     134632.1   11078.21\n",
       "2021 01     121173.1    9193.63\n",
       "     02      85059.1    8785.29\n",
       "     03      33416.2    7527.60\n",
       "     04       3707.0    6674.00\n",
       "\n",
       "[181 rows x 2 columns]"
      ]
     },
     "execution_count": 66,
     "metadata": {},
     "output_type": "execute_result"
    }
   ],
   "source": [
    "grouped2"
   ]
  },
  {
   "cell_type": "code",
   "execution_count": 67,
   "metadata": {
    "ExecuteTime": {
     "end_time": "2021-04-25T13:51:54.068906Z",
     "start_time": "2021-04-25T13:51:54.027661Z"
    }
   },
   "outputs": [
    {
     "data": {
      "text/html": [
       "<div>\n",
       "<style scoped>\n",
       "    .dataframe tbody tr th:only-of-type {\n",
       "        vertical-align: middle;\n",
       "    }\n",
       "\n",
       "    .dataframe tbody tr th {\n",
       "        vertical-align: top;\n",
       "    }\n",
       "\n",
       "    .dataframe thead th {\n",
       "        text-align: right;\n",
       "    }\n",
       "</style>\n",
       "<table border=\"1\" class=\"dataframe\">\n",
       "  <thead>\n",
       "    <tr style=\"text-align: right;\">\n",
       "      <th>year</th>\n",
       "      <th>2006</th>\n",
       "      <th>2007</th>\n",
       "      <th>2008</th>\n",
       "      <th>2009</th>\n",
       "      <th>2010</th>\n",
       "      <th>2011</th>\n",
       "      <th>2012</th>\n",
       "      <th>2013</th>\n",
       "      <th>2014</th>\n",
       "      <th>2015</th>\n",
       "      <th>2016</th>\n",
       "      <th>2017</th>\n",
       "      <th>2018</th>\n",
       "      <th>2019</th>\n",
       "      <th>2020</th>\n",
       "      <th>2021</th>\n",
       "    </tr>\n",
       "    <tr>\n",
       "      <th>month</th>\n",
       "      <th></th>\n",
       "      <th></th>\n",
       "      <th></th>\n",
       "      <th></th>\n",
       "      <th></th>\n",
       "      <th></th>\n",
       "      <th></th>\n",
       "      <th></th>\n",
       "      <th></th>\n",
       "      <th></th>\n",
       "      <th></th>\n",
       "      <th></th>\n",
       "      <th></th>\n",
       "      <th></th>\n",
       "      <th></th>\n",
       "      <th></th>\n",
       "    </tr>\n",
       "  </thead>\n",
       "  <tbody>\n",
       "    <tr>\n",
       "      <th>01</th>\n",
       "      <td>NaN</td>\n",
       "      <td>316297.8</td>\n",
       "      <td>308009.9</td>\n",
       "      <td>319591.3</td>\n",
       "      <td>288439.9</td>\n",
       "      <td>344297.5</td>\n",
       "      <td>341035.3</td>\n",
       "      <td>300715.5</td>\n",
       "      <td>319349.5</td>\n",
       "      <td>269650.5</td>\n",
       "      <td>219956.6</td>\n",
       "      <td>197778.5</td>\n",
       "      <td>196652.5</td>\n",
       "      <td>188790.9</td>\n",
       "      <td>127738.4</td>\n",
       "      <td>121173.1</td>\n",
       "    </tr>\n",
       "    <tr>\n",
       "      <th>02</th>\n",
       "      <td>NaN</td>\n",
       "      <td>266473.0</td>\n",
       "      <td>255086.1</td>\n",
       "      <td>226840.3</td>\n",
       "      <td>270642.4</td>\n",
       "      <td>197344.1</td>\n",
       "      <td>250013.4</td>\n",
       "      <td>182736.3</td>\n",
       "      <td>172980.0</td>\n",
       "      <td>213294.1</td>\n",
       "      <td>174987.0</td>\n",
       "      <td>125269.3</td>\n",
       "      <td>156748.5</td>\n",
       "      <td>96313.9</td>\n",
       "      <td>79244.6</td>\n",
       "      <td>85059.1</td>\n",
       "    </tr>\n",
       "    <tr>\n",
       "      <th>03</th>\n",
       "      <td>NaN</td>\n",
       "      <td>175121.7</td>\n",
       "      <td>173494.4</td>\n",
       "      <td>150147.8</td>\n",
       "      <td>160943.2</td>\n",
       "      <td>165951.2</td>\n",
       "      <td>218023.0</td>\n",
       "      <td>129232.9</td>\n",
       "      <td>112662.4</td>\n",
       "      <td>87414.9</td>\n",
       "      <td>83039.2</td>\n",
       "      <td>80144.2</td>\n",
       "      <td>74501.7</td>\n",
       "      <td>45764.8</td>\n",
       "      <td>40017.8</td>\n",
       "      <td>33416.2</td>\n",
       "    </tr>\n",
       "    <tr>\n",
       "      <th>04</th>\n",
       "      <td>79398.5</td>\n",
       "      <td>80941.9</td>\n",
       "      <td>73488.4</td>\n",
       "      <td>72059.4</td>\n",
       "      <td>75300.5</td>\n",
       "      <td>70253.8</td>\n",
       "      <td>82763.5</td>\n",
       "      <td>59047.7</td>\n",
       "      <td>34624.2</td>\n",
       "      <td>33202.6</td>\n",
       "      <td>24744.1</td>\n",
       "      <td>26073.8</td>\n",
       "      <td>15184.3</td>\n",
       "      <td>19522.8</td>\n",
       "      <td>15953.7</td>\n",
       "      <td>3707.0</td>\n",
       "    </tr>\n",
       "    <tr>\n",
       "      <th>05</th>\n",
       "      <td>34612.7</td>\n",
       "      <td>21050.0</td>\n",
       "      <td>31259.3</td>\n",
       "      <td>25504.4</td>\n",
       "      <td>24413.4</td>\n",
       "      <td>31366.1</td>\n",
       "      <td>20826.7</td>\n",
       "      <td>19478.5</td>\n",
       "      <td>15500.8</td>\n",
       "      <td>11032.2</td>\n",
       "      <td>9228.3</td>\n",
       "      <td>8696.5</td>\n",
       "      <td>6441.9</td>\n",
       "      <td>6317.4</td>\n",
       "      <td>6801.8</td>\n",
       "      <td>NaN</td>\n",
       "    </tr>\n",
       "    <tr>\n",
       "      <th>06</th>\n",
       "      <td>15556.6</td>\n",
       "      <td>11234.5</td>\n",
       "      <td>17125.3</td>\n",
       "      <td>11958.5</td>\n",
       "      <td>12718.1</td>\n",
       "      <td>14156.3</td>\n",
       "      <td>9904.6</td>\n",
       "      <td>9256.4</td>\n",
       "      <td>7241.2</td>\n",
       "      <td>5807.0</td>\n",
       "      <td>4386.3</td>\n",
       "      <td>5200.4</td>\n",
       "      <td>4013.7</td>\n",
       "      <td>3057.8</td>\n",
       "      <td>2637.3</td>\n",
       "      <td>NaN</td>\n",
       "    </tr>\n",
       "    <tr>\n",
       "      <th>07</th>\n",
       "      <td>14119.5</td>\n",
       "      <td>11111.1</td>\n",
       "      <td>12011.8</td>\n",
       "      <td>10557.5</td>\n",
       "      <td>10502.7</td>\n",
       "      <td>9990.7</td>\n",
       "      <td>7310.0</td>\n",
       "      <td>8369.9</td>\n",
       "      <td>6509.9</td>\n",
       "      <td>4956.2</td>\n",
       "      <td>4046.0</td>\n",
       "      <td>3805.1</td>\n",
       "      <td>2940.0</td>\n",
       "      <td>2719.5</td>\n",
       "      <td>2473.0</td>\n",
       "      <td>NaN</td>\n",
       "    </tr>\n",
       "    <tr>\n",
       "      <th>08</th>\n",
       "      <td>11779.5</td>\n",
       "      <td>11275.8</td>\n",
       "      <td>15320.7</td>\n",
       "      <td>10377.0</td>\n",
       "      <td>10929.2</td>\n",
       "      <td>10741.1</td>\n",
       "      <td>7735.7</td>\n",
       "      <td>7484.1</td>\n",
       "      <td>7771.2</td>\n",
       "      <td>4656.5</td>\n",
       "      <td>4139.5</td>\n",
       "      <td>4255.7</td>\n",
       "      <td>2821.9</td>\n",
       "      <td>2600.3</td>\n",
       "      <td>2078.8</td>\n",
       "      <td>NaN</td>\n",
       "    </tr>\n",
       "    <tr>\n",
       "      <th>09</th>\n",
       "      <td>32728.3</td>\n",
       "      <td>36674.7</td>\n",
       "      <td>35957.2</td>\n",
       "      <td>32421.0</td>\n",
       "      <td>27800.1</td>\n",
       "      <td>19051.1</td>\n",
       "      <td>27519.1</td>\n",
       "      <td>23116.2</td>\n",
       "      <td>20884.1</td>\n",
       "      <td>14450.7</td>\n",
       "      <td>11641.5</td>\n",
       "      <td>11844.0</td>\n",
       "      <td>11246.3</td>\n",
       "      <td>7707.9</td>\n",
       "      <td>6449.1</td>\n",
       "      <td>NaN</td>\n",
       "    </tr>\n",
       "    <tr>\n",
       "      <th>10</th>\n",
       "      <td>111902.4</td>\n",
       "      <td>138345.7</td>\n",
       "      <td>132806.6</td>\n",
       "      <td>108080.9</td>\n",
       "      <td>90912.9</td>\n",
       "      <td>120610.0</td>\n",
       "      <td>113164.0</td>\n",
       "      <td>89070.5</td>\n",
       "      <td>104345.0</td>\n",
       "      <td>57062.6</td>\n",
       "      <td>44367.4</td>\n",
       "      <td>57081.2</td>\n",
       "      <td>45250.7</td>\n",
       "      <td>44640.7</td>\n",
       "      <td>45352.5</td>\n",
       "      <td>NaN</td>\n",
       "    </tr>\n",
       "    <tr>\n",
       "      <th>11</th>\n",
       "      <td>413238.2</td>\n",
       "      <td>443783.8</td>\n",
       "      <td>382149.0</td>\n",
       "      <td>290904.7</td>\n",
       "      <td>407915.5</td>\n",
       "      <td>385489.6</td>\n",
       "      <td>431260.3</td>\n",
       "      <td>294795.9</td>\n",
       "      <td>321663.8</td>\n",
       "      <td>231306.0</td>\n",
       "      <td>223939.9</td>\n",
       "      <td>253901.7</td>\n",
       "      <td>219802.8</td>\n",
       "      <td>197019.8</td>\n",
       "      <td>94746.6</td>\n",
       "      <td>NaN</td>\n",
       "    </tr>\n",
       "    <tr>\n",
       "      <th>12</th>\n",
       "      <td>328458.6</td>\n",
       "      <td>354292.0</td>\n",
       "      <td>346432.3</td>\n",
       "      <td>336732.4</td>\n",
       "      <td>371607.4</td>\n",
       "      <td>363107.5</td>\n",
       "      <td>355446.7</td>\n",
       "      <td>301394.6</td>\n",
       "      <td>271570.1</td>\n",
       "      <td>213349.8</td>\n",
       "      <td>226159.5</td>\n",
       "      <td>238625.0</td>\n",
       "      <td>187917.3</td>\n",
       "      <td>168976.9</td>\n",
       "      <td>134632.1</td>\n",
       "      <td>NaN</td>\n",
       "    </tr>\n",
       "  </tbody>\n",
       "</table>\n",
       "</div>"
      ],
      "text/plain": [
       "year       2006      2007      2008      2009      2010      2011      2012  \\\n",
       "month                                                                         \n",
       "01          NaN  316297.8  308009.9  319591.3  288439.9  344297.5  341035.3   \n",
       "02          NaN  266473.0  255086.1  226840.3  270642.4  197344.1  250013.4   \n",
       "03          NaN  175121.7  173494.4  150147.8  160943.2  165951.2  218023.0   \n",
       "04      79398.5   80941.9   73488.4   72059.4   75300.5   70253.8   82763.5   \n",
       "05      34612.7   21050.0   31259.3   25504.4   24413.4   31366.1   20826.7   \n",
       "06      15556.6   11234.5   17125.3   11958.5   12718.1   14156.3    9904.6   \n",
       "07      14119.5   11111.1   12011.8   10557.5   10502.7    9990.7    7310.0   \n",
       "08      11779.5   11275.8   15320.7   10377.0   10929.2   10741.1    7735.7   \n",
       "09      32728.3   36674.7   35957.2   32421.0   27800.1   19051.1   27519.1   \n",
       "10     111902.4  138345.7  132806.6  108080.9   90912.9  120610.0  113164.0   \n",
       "11     413238.2  443783.8  382149.0  290904.7  407915.5  385489.6  431260.3   \n",
       "12     328458.6  354292.0  346432.3  336732.4  371607.4  363107.5  355446.7   \n",
       "\n",
       "year       2013      2014      2015      2016      2017      2018      2019  \\\n",
       "month                                                                         \n",
       "01     300715.5  319349.5  269650.5  219956.6  197778.5  196652.5  188790.9   \n",
       "02     182736.3  172980.0  213294.1  174987.0  125269.3  156748.5   96313.9   \n",
       "03     129232.9  112662.4   87414.9   83039.2   80144.2   74501.7   45764.8   \n",
       "04      59047.7   34624.2   33202.6   24744.1   26073.8   15184.3   19522.8   \n",
       "05      19478.5   15500.8   11032.2    9228.3    8696.5    6441.9    6317.4   \n",
       "06       9256.4    7241.2    5807.0    4386.3    5200.4    4013.7    3057.8   \n",
       "07       8369.9    6509.9    4956.2    4046.0    3805.1    2940.0    2719.5   \n",
       "08       7484.1    7771.2    4656.5    4139.5    4255.7    2821.9    2600.3   \n",
       "09      23116.2   20884.1   14450.7   11641.5   11844.0   11246.3    7707.9   \n",
       "10      89070.5  104345.0   57062.6   44367.4   57081.2   45250.7   44640.7   \n",
       "11     294795.9  321663.8  231306.0  223939.9  253901.7  219802.8  197019.8   \n",
       "12     301394.6  271570.1  213349.8  226159.5  238625.0  187917.3  168976.9   \n",
       "\n",
       "year       2020      2021  \n",
       "month                      \n",
       "01     127738.4  121173.1  \n",
       "02      79244.6   85059.1  \n",
       "03      40017.8   33416.2  \n",
       "04      15953.7    3707.0  \n",
       "05       6801.8       NaN  \n",
       "06       2637.3       NaN  \n",
       "07       2473.0       NaN  \n",
       "08       2078.8       NaN  \n",
       "09       6449.1       NaN  \n",
       "10      45352.5       NaN  \n",
       "11      94746.6       NaN  \n",
       "12     134632.1       NaN  "
      ]
     },
     "execution_count": 67,
     "metadata": {},
     "output_type": "execute_result"
    }
   ],
   "source": [
    "df = grouped2.reset_index().pivot( 'month','year', 'qty')\n",
    "df"
   ]
  },
  {
   "cell_type": "code",
   "execution_count": 68,
   "metadata": {
    "ExecuteTime": {
     "end_time": "2021-04-25T13:52:00.812946Z",
     "start_time": "2021-04-25T13:52:00.512247Z"
    }
   },
   "outputs": [
    {
     "data": {
      "image/png": "[encoded data removed]",
      "text/plain": [
       "<Figure size 576x288 with 2 Axes>"
      ]
     },
     "metadata": {
      "needs_background": "light"
     },
     "output_type": "display_data"
    }
   ],
   "source": [
    "plt.figure(figsize =(8,4))\n",
    "plt.pcolor(df)\n",
    "plt.xticks(np.arange(0.5, len(df.columns), 1), df.columns)\n",
    "plt.yticks(np.arange(0.5, len(df.index), 1), df.index)\n",
    "plt.title('Quantity of Oyster', fontsize=20)\n",
    "plt.xlabel('Year', fontsize=14)\n",
    "plt.ylabel('Month', fontsize=14)\n",
    "plt.colorbar()\n",
    "\n",
    "plt.show()\n"
   ]
  },
  {
   "cell_type": "code",
   "execution_count": 70,
   "metadata": {
    "ExecuteTime": {
     "end_time": "2021-04-25T13:52:12.768339Z",
     "start_time": "2021-04-25T13:52:12.726444Z"
    }
   },
   "outputs": [
    {
     "data": {
      "text/html": [
       "<div>\n",
       "<style scoped>\n",
       "    .dataframe tbody tr th:only-of-type {\n",
       "        vertical-align: middle;\n",
       "    }\n",
       "\n",
       "    .dataframe tbody tr th {\n",
       "        vertical-align: top;\n",
       "    }\n",
       "\n",
       "    .dataframe thead th {\n",
       "        text-align: right;\n",
       "    }\n",
       "</style>\n",
       "<table border=\"1\" class=\"dataframe\">\n",
       "  <thead>\n",
       "    <tr style=\"text-align: right;\">\n",
       "      <th>year</th>\n",
       "      <th>2006</th>\n",
       "      <th>2007</th>\n",
       "      <th>2008</th>\n",
       "      <th>2009</th>\n",
       "      <th>2010</th>\n",
       "      <th>2011</th>\n",
       "      <th>2012</th>\n",
       "      <th>2013</th>\n",
       "      <th>2014</th>\n",
       "      <th>2015</th>\n",
       "      <th>2016</th>\n",
       "      <th>2017</th>\n",
       "      <th>2018</th>\n",
       "      <th>2019</th>\n",
       "      <th>2020</th>\n",
       "      <th>2021</th>\n",
       "    </tr>\n",
       "    <tr>\n",
       "      <th>month</th>\n",
       "      <th></th>\n",
       "      <th></th>\n",
       "      <th></th>\n",
       "      <th></th>\n",
       "      <th></th>\n",
       "      <th></th>\n",
       "      <th></th>\n",
       "      <th></th>\n",
       "      <th></th>\n",
       "      <th></th>\n",
       "      <th></th>\n",
       "      <th></th>\n",
       "      <th></th>\n",
       "      <th></th>\n",
       "      <th></th>\n",
       "      <th></th>\n",
       "    </tr>\n",
       "  </thead>\n",
       "  <tbody>\n",
       "    <tr>\n",
       "      <th>01</th>\n",
       "      <td>NaN</td>\n",
       "      <td>4944.34</td>\n",
       "      <td>4761.71</td>\n",
       "      <td>7637.03</td>\n",
       "      <td>6550.00</td>\n",
       "      <td>8030.88</td>\n",
       "      <td>7590.75</td>\n",
       "      <td>6010.28</td>\n",
       "      <td>7589.58</td>\n",
       "      <td>6841.69</td>\n",
       "      <td>8843.49</td>\n",
       "      <td>8835.77</td>\n",
       "      <td>6928.24</td>\n",
       "      <td>7871.08</td>\n",
       "      <td>9092.51</td>\n",
       "      <td>9193.63</td>\n",
       "    </tr>\n",
       "    <tr>\n",
       "      <th>02</th>\n",
       "      <td>NaN</td>\n",
       "      <td>5254.82</td>\n",
       "      <td>5093.07</td>\n",
       "      <td>6407.75</td>\n",
       "      <td>7231.89</td>\n",
       "      <td>7227.96</td>\n",
       "      <td>6398.97</td>\n",
       "      <td>5004.86</td>\n",
       "      <td>6827.18</td>\n",
       "      <td>7068.74</td>\n",
       "      <td>7659.27</td>\n",
       "      <td>5890.84</td>\n",
       "      <td>7603.04</td>\n",
       "      <td>7315.19</td>\n",
       "      <td>8143.48</td>\n",
       "      <td>8785.29</td>\n",
       "    </tr>\n",
       "    <tr>\n",
       "      <th>03</th>\n",
       "      <td>NaN</td>\n",
       "      <td>4707.51</td>\n",
       "      <td>4380.56</td>\n",
       "      <td>6556.24</td>\n",
       "      <td>6209.89</td>\n",
       "      <td>6429.64</td>\n",
       "      <td>5698.77</td>\n",
       "      <td>4238.02</td>\n",
       "      <td>6518.81</td>\n",
       "      <td>6486.79</td>\n",
       "      <td>7447.35</td>\n",
       "      <td>5166.34</td>\n",
       "      <td>6264.94</td>\n",
       "      <td>7053.08</td>\n",
       "      <td>8750.54</td>\n",
       "      <td>7527.60</td>\n",
       "    </tr>\n",
       "    <tr>\n",
       "      <th>04</th>\n",
       "      <td>4936.02</td>\n",
       "      <td>4527.44</td>\n",
       "      <td>4672.05</td>\n",
       "      <td>6051.80</td>\n",
       "      <td>5776.43</td>\n",
       "      <td>6300.24</td>\n",
       "      <td>5106.26</td>\n",
       "      <td>4348.35</td>\n",
       "      <td>6689.52</td>\n",
       "      <td>6345.41</td>\n",
       "      <td>6598.09</td>\n",
       "      <td>5036.64</td>\n",
       "      <td>6219.59</td>\n",
       "      <td>6929.28</td>\n",
       "      <td>7416.12</td>\n",
       "      <td>6674.00</td>\n",
       "    </tr>\n",
       "    <tr>\n",
       "      <th>05</th>\n",
       "      <td>5231.31</td>\n",
       "      <td>4808.74</td>\n",
       "      <td>4939.38</td>\n",
       "      <td>7133.33</td>\n",
       "      <td>6192.42</td>\n",
       "      <td>7142.72</td>\n",
       "      <td>4951.00</td>\n",
       "      <td>4777.04</td>\n",
       "      <td>6955.69</td>\n",
       "      <td>7498.62</td>\n",
       "      <td>7069.62</td>\n",
       "      <td>5342.36</td>\n",
       "      <td>6541.66</td>\n",
       "      <td>7829.12</td>\n",
       "      <td>6400.26</td>\n",
       "      <td>NaN</td>\n",
       "    </tr>\n",
       "    <tr>\n",
       "      <th>06</th>\n",
       "      <td>5587.33</td>\n",
       "      <td>5716.24</td>\n",
       "      <td>5829.88</td>\n",
       "      <td>8122.14</td>\n",
       "      <td>6788.65</td>\n",
       "      <td>8324.84</td>\n",
       "      <td>6414.86</td>\n",
       "      <td>5528.58</td>\n",
       "      <td>7977.24</td>\n",
       "      <td>8889.75</td>\n",
       "      <td>7353.73</td>\n",
       "      <td>6428.37</td>\n",
       "      <td>7046.24</td>\n",
       "      <td>10102.76</td>\n",
       "      <td>8821.51</td>\n",
       "      <td>NaN</td>\n",
       "    </tr>\n",
       "    <tr>\n",
       "      <th>07</th>\n",
       "      <td>5494.06</td>\n",
       "      <td>5213.10</td>\n",
       "      <td>5303.99</td>\n",
       "      <td>6193.26</td>\n",
       "      <td>6158.18</td>\n",
       "      <td>6710.59</td>\n",
       "      <td>6377.66</td>\n",
       "      <td>4663.88</td>\n",
       "      <td>6652.19</td>\n",
       "      <td>8515.53</td>\n",
       "      <td>6424.57</td>\n",
       "      <td>4666.43</td>\n",
       "      <td>7111.59</td>\n",
       "      <td>9641.66</td>\n",
       "      <td>8764.58</td>\n",
       "      <td>NaN</td>\n",
       "    </tr>\n",
       "    <tr>\n",
       "      <th>08</th>\n",
       "      <td>5889.41</td>\n",
       "      <td>5504.72</td>\n",
       "      <td>6432.03</td>\n",
       "      <td>6575.02</td>\n",
       "      <td>6975.91</td>\n",
       "      <td>7910.20</td>\n",
       "      <td>6642.91</td>\n",
       "      <td>4972.57</td>\n",
       "      <td>8094.07</td>\n",
       "      <td>9900.73</td>\n",
       "      <td>7174.28</td>\n",
       "      <td>6884.24</td>\n",
       "      <td>7309.68</td>\n",
       "      <td>9652.92</td>\n",
       "      <td>7536.39</td>\n",
       "      <td>NaN</td>\n",
       "    </tr>\n",
       "    <tr>\n",
       "      <th>09</th>\n",
       "      <td>5988.83</td>\n",
       "      <td>5294.71</td>\n",
       "      <td>6268.87</td>\n",
       "      <td>6195.88</td>\n",
       "      <td>6844.76</td>\n",
       "      <td>8955.13</td>\n",
       "      <td>7220.43</td>\n",
       "      <td>5579.93</td>\n",
       "      <td>7501.94</td>\n",
       "      <td>9060.45</td>\n",
       "      <td>8120.85</td>\n",
       "      <td>6460.74</td>\n",
       "      <td>7435.11</td>\n",
       "      <td>8600.76</td>\n",
       "      <td>9500.60</td>\n",
       "      <td>NaN</td>\n",
       "    </tr>\n",
       "    <tr>\n",
       "      <th>10</th>\n",
       "      <td>6193.19</td>\n",
       "      <td>4952.97</td>\n",
       "      <td>6553.43</td>\n",
       "      <td>8266.41</td>\n",
       "      <td>7384.57</td>\n",
       "      <td>8179.71</td>\n",
       "      <td>7043.02</td>\n",
       "      <td>7696.24</td>\n",
       "      <td>8569.88</td>\n",
       "      <td>9102.48</td>\n",
       "      <td>8386.30</td>\n",
       "      <td>8062.15</td>\n",
       "      <td>8870.08</td>\n",
       "      <td>8513.82</td>\n",
       "      <td>11017.58</td>\n",
       "      <td>NaN</td>\n",
       "    </tr>\n",
       "    <tr>\n",
       "      <th>11</th>\n",
       "      <td>9521.17</td>\n",
       "      <td>7721.41</td>\n",
       "      <td>10624.86</td>\n",
       "      <td>11623.89</td>\n",
       "      <td>10310.11</td>\n",
       "      <td>10588.56</td>\n",
       "      <td>9825.75</td>\n",
       "      <td>10790.71</td>\n",
       "      <td>11026.08</td>\n",
       "      <td>11337.99</td>\n",
       "      <td>11412.42</td>\n",
       "      <td>10571.30</td>\n",
       "      <td>10990.63</td>\n",
       "      <td>10883.37</td>\n",
       "      <td>13048.79</td>\n",
       "      <td>NaN</td>\n",
       "    </tr>\n",
       "    <tr>\n",
       "      <th>12</th>\n",
       "      <td>7473.42</td>\n",
       "      <td>6071.24</td>\n",
       "      <td>7724.58</td>\n",
       "      <td>8555.58</td>\n",
       "      <td>9235.43</td>\n",
       "      <td>8485.39</td>\n",
       "      <td>8488.73</td>\n",
       "      <td>8204.70</td>\n",
       "      <td>10264.20</td>\n",
       "      <td>11009.63</td>\n",
       "      <td>10523.73</td>\n",
       "      <td>9688.57</td>\n",
       "      <td>11008.27</td>\n",
       "      <td>10587.64</td>\n",
       "      <td>11078.21</td>\n",
       "      <td>NaN</td>\n",
       "    </tr>\n",
       "  </tbody>\n",
       "</table>\n",
       "</div>"
      ],
      "text/plain": [
       "year      2006     2007      2008      2009      2010      2011     2012  \\\n",
       "month                                                                      \n",
       "01         NaN  4944.34   4761.71   7637.03   6550.00   8030.88  7590.75   \n",
       "02         NaN  5254.82   5093.07   6407.75   7231.89   7227.96  6398.97   \n",
       "03         NaN  4707.51   4380.56   6556.24   6209.89   6429.64  5698.77   \n",
       "04     4936.02  4527.44   4672.05   6051.80   5776.43   6300.24  5106.26   \n",
       "05     5231.31  4808.74   4939.38   7133.33   6192.42   7142.72  4951.00   \n",
       "06     5587.33  5716.24   5829.88   8122.14   6788.65   8324.84  6414.86   \n",
       "07     5494.06  5213.10   5303.99   6193.26   6158.18   6710.59  6377.66   \n",
       "08     5889.41  5504.72   6432.03   6575.02   6975.91   7910.20  6642.91   \n",
       "09     5988.83  5294.71   6268.87   6195.88   6844.76   8955.13  7220.43   \n",
       "10     6193.19  4952.97   6553.43   8266.41   7384.57   8179.71  7043.02   \n",
       "11     9521.17  7721.41  10624.86  11623.89  10310.11  10588.56  9825.75   \n",
       "12     7473.42  6071.24   7724.58   8555.58   9235.43   8485.39  8488.73   \n",
       "\n",
       "year       2013      2014      2015      2016      2017      2018      2019  \\\n",
       "month                                                                         \n",
       "01      6010.28   7589.58   6841.69   8843.49   8835.77   6928.24   7871.08   \n",
       "02      5004.86   6827.18   7068.74   7659.27   5890.84   7603.04   7315.19   \n",
       "03      4238.02   6518.81   6486.79   7447.35   5166.34   6264.94   7053.08   \n",
       "04      4348.35   6689.52   6345.41   6598.09   5036.64   6219.59   6929.28   \n",
       "05      4777.04   6955.69   7498.62   7069.62   5342.36   6541.66   7829.12   \n",
       "06      5528.58   7977.24   8889.75   7353.73   6428.37   7046.24  10102.76   \n",
       "07      4663.88   6652.19   8515.53   6424.57   4666.43   7111.59   9641.66   \n",
       "08      4972.57   8094.07   9900.73   7174.28   6884.24   7309.68   9652.92   \n",
       "09      5579.93   7501.94   9060.45   8120.85   6460.74   7435.11   8600.76   \n",
       "10      7696.24   8569.88   9102.48   8386.30   8062.15   8870.08   8513.82   \n",
       "11     10790.71  11026.08  11337.99  11412.42  10571.30  10990.63  10883.37   \n",
       "12      8204.70  10264.20  11009.63  10523.73   9688.57  11008.27  10587.64   \n",
       "\n",
       "year       2020     2021  \n",
       "month                     \n",
       "01      9092.51  9193.63  \n",
       "02      8143.48  8785.29  \n",
       "03      8750.54  7527.60  \n",
       "04      7416.12  6674.00  \n",
       "05      6400.26      NaN  \n",
       "06      8821.51      NaN  \n",
       "07      8764.58      NaN  \n",
       "08      7536.39      NaN  \n",
       "09      9500.60      NaN  \n",
       "10     11017.58      NaN  \n",
       "11     13048.79      NaN  \n",
       "12     11078.21      NaN  "
      ]
     },
     "execution_count": 70,
     "metadata": {},
     "output_type": "execute_result"
    }
   ],
   "source": [
    "df1 = grouped2.reset_index().pivot( 'month','year', '1kg price')\n",
    "df1"
   ]
  },
  {
   "cell_type": "code",
   "execution_count": 71,
   "metadata": {
    "ExecuteTime": {
     "end_time": "2021-04-25T13:52:22.941458Z",
     "start_time": "2021-04-25T13:52:22.602765Z"
    }
   },
   "outputs": [
    {
     "data": {
      "image/png": "[encoded data removed]",
      "text/plain": [
       "<Figure size 576x288 with 2 Axes>"
      ]
     },
     "metadata": {
      "needs_background": "light"
     },
     "output_type": "display_data"
    }
   ],
   "source": [
    "plt.figure(figsize =(8,4))\n",
    "plt.pcolor(df1)\n",
    "plt.xticks(np.arange(0.5, len(df1.columns), 1), df.columns)\n",
    "plt.yticks(np.arange(0.5, len(df1.index), 1), df.index)\n",
    "plt.title('Price(kg) of Oyster', fontsize=20)\n",
    "plt.xlabel('Month', fontsize=14)\n",
    "plt.ylabel('Year', fontsize=14)\n",
    "plt.colorbar()\n",
    "\n",
    "plt.show()\n"
   ]
  },
  {
   "cell_type": "code",
   "execution_count": 72,
   "metadata": {
    "ExecuteTime": {
     "end_time": "2021-04-25T13:52:41.838736Z",
     "start_time": "2021-04-25T13:52:41.801142Z"
    }
   },
   "outputs": [
    {
     "data": {
      "text/html": [
       "<div>\n",
       "<style scoped>\n",
       "    .dataframe tbody tr th:only-of-type {\n",
       "        vertical-align: middle;\n",
       "    }\n",
       "\n",
       "    .dataframe tbody tr th {\n",
       "        vertical-align: top;\n",
       "    }\n",
       "\n",
       "    .dataframe thead th {\n",
       "        text-align: right;\n",
       "    }\n",
       "</style>\n",
       "<table border=\"1\" class=\"dataframe\">\n",
       "  <thead>\n",
       "    <tr style=\"text-align: right;\">\n",
       "      <th></th>\n",
       "      <th>from</th>\n",
       "      <th>qty</th>\n",
       "      <th>1kg price</th>\n",
       "      <th>temp</th>\n",
       "      <th>date</th>\n",
       "      <th>year</th>\n",
       "      <th>month</th>\n",
       "      <th>day</th>\n",
       "      <th>date2</th>\n",
       "    </tr>\n",
       "  </thead>\n",
       "  <tbody>\n",
       "    <tr>\n",
       "      <th>0</th>\n",
       "      <td>통영</td>\n",
       "      <td>254.0</td>\n",
       "      <td>3200.00</td>\n",
       "      <td>12.075</td>\n",
       "      <td>2006.04.05</td>\n",
       "      <td>2006</td>\n",
       "      <td>04</td>\n",
       "      <td>05</td>\n",
       "      <td>2006.04</td>\n",
       "    </tr>\n",
       "    <tr>\n",
       "      <th>1</th>\n",
       "      <td>통영</td>\n",
       "      <td>535.2</td>\n",
       "      <td>4000.00</td>\n",
       "      <td>12.075</td>\n",
       "      <td>2006.04.05</td>\n",
       "      <td>2006</td>\n",
       "      <td>04</td>\n",
       "      <td>05</td>\n",
       "      <td>2006.04</td>\n",
       "    </tr>\n",
       "    <tr>\n",
       "      <th>2</th>\n",
       "      <td>통영</td>\n",
       "      <td>70.0</td>\n",
       "      <td>4285.71</td>\n",
       "      <td>12.075</td>\n",
       "      <td>2006.04.05</td>\n",
       "      <td>2006</td>\n",
       "      <td>04</td>\n",
       "      <td>05</td>\n",
       "      <td>2006.04</td>\n",
       "    </tr>\n",
       "    <tr>\n",
       "      <th>3</th>\n",
       "      <td>통영</td>\n",
       "      <td>194.7</td>\n",
       "      <td>4454.55</td>\n",
       "      <td>12.075</td>\n",
       "      <td>2006.04.05</td>\n",
       "      <td>2006</td>\n",
       "      <td>04</td>\n",
       "      <td>05</td>\n",
       "      <td>2006.04</td>\n",
       "    </tr>\n",
       "    <tr>\n",
       "      <th>4</th>\n",
       "      <td>통영</td>\n",
       "      <td>493.0</td>\n",
       "      <td>3941.18</td>\n",
       "      <td>12.075</td>\n",
       "      <td>2006.04.05</td>\n",
       "      <td>2006</td>\n",
       "      <td>04</td>\n",
       "      <td>05</td>\n",
       "      <td>2006.04</td>\n",
       "    </tr>\n",
       "    <tr>\n",
       "      <th>...</th>\n",
       "      <td>...</td>\n",
       "      <td>...</td>\n",
       "      <td>...</td>\n",
       "      <td>...</td>\n",
       "      <td>...</td>\n",
       "      <td>...</td>\n",
       "      <td>...</td>\n",
       "      <td>...</td>\n",
       "      <td>...</td>\n",
       "    </tr>\n",
       "    <tr>\n",
       "      <th>65512</th>\n",
       "      <td>삼천포</td>\n",
       "      <td>2.0</td>\n",
       "      <td>3100.00</td>\n",
       "      <td>13.150</td>\n",
       "      <td>2021.04.02</td>\n",
       "      <td>2021</td>\n",
       "      <td>04</td>\n",
       "      <td>02</td>\n",
       "      <td>2021.04</td>\n",
       "    </tr>\n",
       "    <tr>\n",
       "      <th>65513</th>\n",
       "      <td>삼천포</td>\n",
       "      <td>3.6</td>\n",
       "      <td>7833.33</td>\n",
       "      <td>13.150</td>\n",
       "      <td>2021.04.02</td>\n",
       "      <td>2021</td>\n",
       "      <td>04</td>\n",
       "      <td>02</td>\n",
       "      <td>2021.04</td>\n",
       "    </tr>\n",
       "    <tr>\n",
       "      <th>65514</th>\n",
       "      <td>삼천포</td>\n",
       "      <td>22.8</td>\n",
       "      <td>6894.74</td>\n",
       "      <td>13.325</td>\n",
       "      <td>2021.04.05</td>\n",
       "      <td>2021</td>\n",
       "      <td>04</td>\n",
       "      <td>05</td>\n",
       "      <td>2021.04</td>\n",
       "    </tr>\n",
       "    <tr>\n",
       "      <th>65515</th>\n",
       "      <td>삼천포</td>\n",
       "      <td>30.0</td>\n",
       "      <td>6700.00</td>\n",
       "      <td>13.350</td>\n",
       "      <td>2021.04.06</td>\n",
       "      <td>2021</td>\n",
       "      <td>04</td>\n",
       "      <td>06</td>\n",
       "      <td>2021.04</td>\n",
       "    </tr>\n",
       "    <tr>\n",
       "      <th>65516</th>\n",
       "      <td>삼천포</td>\n",
       "      <td>14.0</td>\n",
       "      <td>6550.00</td>\n",
       "      <td>13.425</td>\n",
       "      <td>2021.04.07</td>\n",
       "      <td>2021</td>\n",
       "      <td>04</td>\n",
       "      <td>07</td>\n",
       "      <td>2021.04</td>\n",
       "    </tr>\n",
       "  </tbody>\n",
       "</table>\n",
       "<p>65517 rows × 9 columns</p>\n",
       "</div>"
      ],
      "text/plain": [
       "      from    qty  1kg price    temp        date  year month day    date2\n",
       "0       통영  254.0    3200.00  12.075  2006.04.05  2006    04  05  2006.04\n",
       "1       통영  535.2    4000.00  12.075  2006.04.05  2006    04  05  2006.04\n",
       "2       통영   70.0    4285.71  12.075  2006.04.05  2006    04  05  2006.04\n",
       "3       통영  194.7    4454.55  12.075  2006.04.05  2006    04  05  2006.04\n",
       "4       통영  493.0    3941.18  12.075  2006.04.05  2006    04  05  2006.04\n",
       "...    ...    ...        ...     ...         ...   ...   ...  ..      ...\n",
       "65512  삼천포    2.0    3100.00  13.150  2021.04.02  2021    04  02  2021.04\n",
       "65513  삼천포    3.6    7833.33  13.150  2021.04.02  2021    04  02  2021.04\n",
       "65514  삼천포   22.8    6894.74  13.325  2021.04.05  2021    04  05  2021.04\n",
       "65515  삼천포   30.0    6700.00  13.350  2021.04.06  2021    04  06  2021.04\n",
       "65516  삼천포   14.0    6550.00  13.425  2021.04.07  2021    04  07  2021.04\n",
       "\n",
       "[65517 rows x 9 columns]"
      ]
     },
     "execution_count": 72,
     "metadata": {},
     "output_type": "execute_result"
    }
   ],
   "source": [
    "data_lr"
   ]
  },
  {
   "cell_type": "markdown",
   "metadata": {},
   "source": [
    "# 1kg price만을 이용해 시계열 데이터 처리 및 선형회귀 분석"
   ]
  },
  {
   "cell_type": "code",
   "execution_count": 102,
   "metadata": {
    "ExecuteTime": {
     "end_time": "2021-04-25T14:04:22.063804Z",
     "start_time": "2021-04-25T14:04:22.020117Z"
    }
   },
   "outputs": [
    {
     "data": {
      "text/html": [
       "<div>\n",
       "<style scoped>\n",
       "    .dataframe tbody tr th:only-of-type {\n",
       "        vertical-align: middle;\n",
       "    }\n",
       "\n",
       "    .dataframe tbody tr th {\n",
       "        vertical-align: top;\n",
       "    }\n",
       "\n",
       "    .dataframe thead th {\n",
       "        text-align: right;\n",
       "    }\n",
       "</style>\n",
       "<table border=\"1\" class=\"dataframe\">\n",
       "  <thead>\n",
       "    <tr style=\"text-align: right;\">\n",
       "      <th></th>\n",
       "      <th>from</th>\n",
       "      <th>qty</th>\n",
       "      <th>1kg price</th>\n",
       "      <th>temp</th>\n",
       "      <th>date</th>\n",
       "      <th>year</th>\n",
       "      <th>month</th>\n",
       "      <th>day</th>\n",
       "      <th>date2</th>\n",
       "    </tr>\n",
       "  </thead>\n",
       "  <tbody>\n",
       "    <tr>\n",
       "      <th>0</th>\n",
       "      <td>통영</td>\n",
       "      <td>254.0</td>\n",
       "      <td>3200.00</td>\n",
       "      <td>12.075</td>\n",
       "      <td>2006.04.05</td>\n",
       "      <td>2006</td>\n",
       "      <td>04</td>\n",
       "      <td>05</td>\n",
       "      <td>2006.04</td>\n",
       "    </tr>\n",
       "    <tr>\n",
       "      <th>1</th>\n",
       "      <td>통영</td>\n",
       "      <td>535.2</td>\n",
       "      <td>4000.00</td>\n",
       "      <td>12.075</td>\n",
       "      <td>2006.04.05</td>\n",
       "      <td>2006</td>\n",
       "      <td>04</td>\n",
       "      <td>05</td>\n",
       "      <td>2006.04</td>\n",
       "    </tr>\n",
       "    <tr>\n",
       "      <th>2</th>\n",
       "      <td>통영</td>\n",
       "      <td>70.0</td>\n",
       "      <td>4285.71</td>\n",
       "      <td>12.075</td>\n",
       "      <td>2006.04.05</td>\n",
       "      <td>2006</td>\n",
       "      <td>04</td>\n",
       "      <td>05</td>\n",
       "      <td>2006.04</td>\n",
       "    </tr>\n",
       "    <tr>\n",
       "      <th>3</th>\n",
       "      <td>통영</td>\n",
       "      <td>194.7</td>\n",
       "      <td>4454.55</td>\n",
       "      <td>12.075</td>\n",
       "      <td>2006.04.05</td>\n",
       "      <td>2006</td>\n",
       "      <td>04</td>\n",
       "      <td>05</td>\n",
       "      <td>2006.04</td>\n",
       "    </tr>\n",
       "    <tr>\n",
       "      <th>4</th>\n",
       "      <td>통영</td>\n",
       "      <td>493.0</td>\n",
       "      <td>3941.18</td>\n",
       "      <td>12.075</td>\n",
       "      <td>2006.04.05</td>\n",
       "      <td>2006</td>\n",
       "      <td>04</td>\n",
       "      <td>05</td>\n",
       "      <td>2006.04</td>\n",
       "    </tr>\n",
       "    <tr>\n",
       "      <th>...</th>\n",
       "      <td>...</td>\n",
       "      <td>...</td>\n",
       "      <td>...</td>\n",
       "      <td>...</td>\n",
       "      <td>...</td>\n",
       "      <td>...</td>\n",
       "      <td>...</td>\n",
       "      <td>...</td>\n",
       "      <td>...</td>\n",
       "    </tr>\n",
       "    <tr>\n",
       "      <th>65512</th>\n",
       "      <td>삼천포</td>\n",
       "      <td>2.0</td>\n",
       "      <td>3100.00</td>\n",
       "      <td>13.150</td>\n",
       "      <td>2021.04.02</td>\n",
       "      <td>2021</td>\n",
       "      <td>04</td>\n",
       "      <td>02</td>\n",
       "      <td>2021.04</td>\n",
       "    </tr>\n",
       "    <tr>\n",
       "      <th>65513</th>\n",
       "      <td>삼천포</td>\n",
       "      <td>3.6</td>\n",
       "      <td>7833.33</td>\n",
       "      <td>13.150</td>\n",
       "      <td>2021.04.02</td>\n",
       "      <td>2021</td>\n",
       "      <td>04</td>\n",
       "      <td>02</td>\n",
       "      <td>2021.04</td>\n",
       "    </tr>\n",
       "    <tr>\n",
       "      <th>65514</th>\n",
       "      <td>삼천포</td>\n",
       "      <td>22.8</td>\n",
       "      <td>6894.74</td>\n",
       "      <td>13.325</td>\n",
       "      <td>2021.04.05</td>\n",
       "      <td>2021</td>\n",
       "      <td>04</td>\n",
       "      <td>05</td>\n",
       "      <td>2021.04</td>\n",
       "    </tr>\n",
       "    <tr>\n",
       "      <th>65515</th>\n",
       "      <td>삼천포</td>\n",
       "      <td>30.0</td>\n",
       "      <td>6700.00</td>\n",
       "      <td>13.350</td>\n",
       "      <td>2021.04.06</td>\n",
       "      <td>2021</td>\n",
       "      <td>04</td>\n",
       "      <td>06</td>\n",
       "      <td>2021.04</td>\n",
       "    </tr>\n",
       "    <tr>\n",
       "      <th>65516</th>\n",
       "      <td>삼천포</td>\n",
       "      <td>14.0</td>\n",
       "      <td>6550.00</td>\n",
       "      <td>13.425</td>\n",
       "      <td>2021.04.07</td>\n",
       "      <td>2021</td>\n",
       "      <td>04</td>\n",
       "      <td>07</td>\n",
       "      <td>2021.04</td>\n",
       "    </tr>\n",
       "  </tbody>\n",
       "</table>\n",
       "<p>65517 rows × 9 columns</p>\n",
       "</div>"
      ],
      "text/plain": [
       "      from    qty  1kg price    temp        date  year month day    date2\n",
       "0       통영  254.0    3200.00  12.075  2006.04.05  2006    04  05  2006.04\n",
       "1       통영  535.2    4000.00  12.075  2006.04.05  2006    04  05  2006.04\n",
       "2       통영   70.0    4285.71  12.075  2006.04.05  2006    04  05  2006.04\n",
       "3       통영  194.7    4454.55  12.075  2006.04.05  2006    04  05  2006.04\n",
       "4       통영  493.0    3941.18  12.075  2006.04.05  2006    04  05  2006.04\n",
       "...    ...    ...        ...     ...         ...   ...   ...  ..      ...\n",
       "65512  삼천포    2.0    3100.00  13.150  2021.04.02  2021    04  02  2021.04\n",
       "65513  삼천포    3.6    7833.33  13.150  2021.04.02  2021    04  02  2021.04\n",
       "65514  삼천포   22.8    6894.74  13.325  2021.04.05  2021    04  05  2021.04\n",
       "65515  삼천포   30.0    6700.00  13.350  2021.04.06  2021    04  06  2021.04\n",
       "65516  삼천포   14.0    6550.00  13.425  2021.04.07  2021    04  07  2021.04\n",
       "\n",
       "[65517 rows x 9 columns]"
      ]
     },
     "execution_count": 102,
     "metadata": {},
     "output_type": "execute_result"
    }
   ],
   "source": [
    "data_lr"
   ]
  },
  {
   "cell_type": "code",
   "execution_count": 73,
   "metadata": {
    "ExecuteTime": {
     "end_time": "2021-04-25T13:53:26.003843Z",
     "start_time": "2021-04-25T13:53:25.965884Z"
    },
    "scrolled": true
   },
   "outputs": [
    {
     "data": {
      "text/html": [
       "<div>\n",
       "<style scoped>\n",
       "    .dataframe tbody tr th:only-of-type {\n",
       "        vertical-align: middle;\n",
       "    }\n",
       "\n",
       "    .dataframe tbody tr th {\n",
       "        vertical-align: top;\n",
       "    }\n",
       "\n",
       "    .dataframe thead th {\n",
       "        text-align: right;\n",
       "    }\n",
       "</style>\n",
       "<table border=\"1\" class=\"dataframe\">\n",
       "  <thead>\n",
       "    <tr style=\"text-align: right;\">\n",
       "      <th></th>\n",
       "      <th>qty</th>\n",
       "      <th>1kg price</th>\n",
       "    </tr>\n",
       "    <tr>\n",
       "      <th>date</th>\n",
       "      <th></th>\n",
       "      <th></th>\n",
       "    </tr>\n",
       "  </thead>\n",
       "  <tbody>\n",
       "    <tr>\n",
       "      <th>2006.04.04</th>\n",
       "      <td>978.3</td>\n",
       "      <td>4948.71</td>\n",
       "    </tr>\n",
       "    <tr>\n",
       "      <th>2006.04.05</th>\n",
       "      <td>4600.7</td>\n",
       "      <td>4447.32</td>\n",
       "    </tr>\n",
       "    <tr>\n",
       "      <th>2006.04.06</th>\n",
       "      <td>3842.2</td>\n",
       "      <td>4620.74</td>\n",
       "    </tr>\n",
       "    <tr>\n",
       "      <th>2006.04.07</th>\n",
       "      <td>4777.3</td>\n",
       "      <td>4060.83</td>\n",
       "    </tr>\n",
       "    <tr>\n",
       "      <th>2006.04.08</th>\n",
       "      <td>4773.5</td>\n",
       "      <td>4547.00</td>\n",
       "    </tr>\n",
       "    <tr>\n",
       "      <th>...</th>\n",
       "      <td>...</td>\n",
       "      <td>...</td>\n",
       "    </tr>\n",
       "    <tr>\n",
       "      <th>2021.04.03</th>\n",
       "      <td>561.4</td>\n",
       "      <td>4642.59</td>\n",
       "    </tr>\n",
       "    <tr>\n",
       "      <th>2021.04.05</th>\n",
       "      <td>421.1</td>\n",
       "      <td>5653.34</td>\n",
       "    </tr>\n",
       "    <tr>\n",
       "      <th>2021.04.06</th>\n",
       "      <td>290.7</td>\n",
       "      <td>7392.06</td>\n",
       "    </tr>\n",
       "    <tr>\n",
       "      <th>2021.04.07</th>\n",
       "      <td>399.9</td>\n",
       "      <td>7735.17</td>\n",
       "    </tr>\n",
       "    <tr>\n",
       "      <th>2021.04.08</th>\n",
       "      <td>418.7</td>\n",
       "      <td>8752.01</td>\n",
       "    </tr>\n",
       "  </tbody>\n",
       "</table>\n",
       "<p>4602 rows × 2 columns</p>\n",
       "</div>"
      ],
      "text/plain": [
       "               qty  1kg price\n",
       "date                         \n",
       "2006.04.04   978.3    4948.71\n",
       "2006.04.05  4600.7    4447.32\n",
       "2006.04.06  3842.2    4620.74\n",
       "2006.04.07  4777.3    4060.83\n",
       "2006.04.08  4773.5    4547.00\n",
       "...            ...        ...\n",
       "2021.04.03   561.4    4642.59\n",
       "2021.04.05   421.1    5653.34\n",
       "2021.04.06   290.7    7392.06\n",
       "2021.04.07   399.9    7735.17\n",
       "2021.04.08   418.7    8752.01\n",
       "\n",
       "[4602 rows x 2 columns]"
      ]
     },
     "execution_count": 73,
     "metadata": {},
     "output_type": "execute_result"
    }
   ],
   "source": [
    "group = data_lr.groupby(['date'])\n",
    "grouped_lr = group.agg({'qty':'sum','1kg price':'mean'}).round(2)\n",
    "grouped_lr"
   ]
  },
  {
   "cell_type": "code",
   "execution_count": 74,
   "metadata": {
    "ExecuteTime": {
     "end_time": "2021-04-25T13:53:42.176882Z",
     "start_time": "2021-04-25T13:53:42.165804Z"
    }
   },
   "outputs": [],
   "source": [
    "y= grouped['1kg price'].values"
   ]
  },
  {
   "cell_type": "code",
   "execution_count": 75,
   "metadata": {
    "ExecuteTime": {
     "end_time": "2021-04-25T13:53:43.086500Z",
     "start_time": "2021-04-25T13:53:43.065808Z"
    }
   },
   "outputs": [
    {
     "data": {
      "text/plain": [
       "3451"
      ]
     },
     "execution_count": 75,
     "metadata": {},
     "output_type": "execute_result"
    }
   ],
   "source": [
    "ratio = 0.75\n",
    "cut = np.int(len(y)*ratio)\n",
    "cut"
   ]
  },
  {
   "cell_type": "code",
   "execution_count": 76,
   "metadata": {
    "ExecuteTime": {
     "end_time": "2021-04-25T13:53:43.968946Z",
     "start_time": "2021-04-25T13:53:43.952138Z"
    }
   },
   "outputs": [
    {
     "data": {
      "text/plain": [
       "(4602, 3451)"
      ]
     },
     "execution_count": 76,
     "metadata": {},
     "output_type": "execute_result"
    }
   ],
   "source": [
    "train = y[:cut]\n",
    "test = y[cut:]\n",
    "len(y), len(train)"
   ]
  },
  {
   "cell_type": "code",
   "execution_count": 77,
   "metadata": {
    "ExecuteTime": {
     "end_time": "2021-04-25T13:53:47.187846Z",
     "start_time": "2021-04-25T13:53:47.177559Z"
    }
   },
   "outputs": [],
   "source": [
    "def split_seq(data,n_steps) :\n",
    "    x,y = [], []\n",
    "    for i in range(len(data)) : \n",
    "        if i > len(data)-(n_steps+1) : break\n",
    "        x.append(data[i:i+n_steps])\n",
    "        y.append(data[i+n_steps])\n",
    "    return np.array(x), np.array(y)"
   ]
  },
  {
   "cell_type": "code",
   "execution_count": 86,
   "metadata": {
    "ExecuteTime": {
     "end_time": "2021-04-25T13:56:29.153682Z",
     "start_time": "2021-04-25T13:56:29.129296Z"
    }
   },
   "outputs": [],
   "source": [
    "from sklearn.linear_model import LinearRegression\n",
    "from sklearn.model_selection import train_test_split\n",
    "from sklearn.linear_model import LinearRegression\n",
    "from sklearn.metrics import mean_squared_error, r2_score\n",
    "# 모델만들기\n",
    "lr = LinearRegression()\n",
    "\n",
    "n_steps = 10\n",
    "\n",
    "# 훈련데이터\n",
    "train_x, train_y = split_seq(train,n_steps) # 사용자정의함수\n",
    "\n",
    "# 검증데이터\n",
    "test_x, test_y = split_seq(test,n_steps)"
   ]
  },
  {
   "cell_type": "code",
   "execution_count": 88,
   "metadata": {
    "ExecuteTime": {
     "end_time": "2021-04-25T13:56:36.764258Z",
     "start_time": "2021-04-25T13:56:36.758147Z"
    }
   },
   "outputs": [
    {
     "data": {
      "text/plain": [
       "3441"
      ]
     },
     "execution_count": 88,
     "metadata": {},
     "output_type": "execute_result"
    }
   ],
   "source": [
    "len(train_x)"
   ]
  },
  {
   "cell_type": "code",
   "execution_count": 89,
   "metadata": {
    "ExecuteTime": {
     "end_time": "2021-04-25T13:56:37.541305Z",
     "start_time": "2021-04-25T13:56:37.518526Z"
    }
   },
   "outputs": [
    {
     "data": {
      "text/plain": [
       "LinearRegression()"
      ]
     },
     "execution_count": 89,
     "metadata": {},
     "output_type": "execute_result"
    }
   ],
   "source": [
    "lr.fit(train_x,train_y)"
   ]
  },
  {
   "cell_type": "code",
   "execution_count": 90,
   "metadata": {
    "ExecuteTime": {
     "end_time": "2021-04-25T13:56:38.907799Z",
     "start_time": "2021-04-25T13:56:38.895779Z"
    }
   },
   "outputs": [
    {
     "data": {
      "text/plain": [
       "0.7522"
      ]
     },
     "execution_count": 90,
     "metadata": {},
     "output_type": "execute_result"
    }
   ],
   "source": [
    "lr.score(test_x,test_y).round(4)"
   ]
  },
  {
   "cell_type": "code",
   "execution_count": 91,
   "metadata": {
    "ExecuteTime": {
     "end_time": "2021-04-25T13:56:40.823513Z",
     "start_time": "2021-04-25T13:56:40.808402Z"
    }
   },
   "outputs": [
    {
     "name": "stdout",
     "output_type": "stream",
     "text": [
      "MSE : 1082479.627, RMSE : 1082479.627\n",
      "Variance Score : 0.752\n"
     ]
    }
   ],
   "source": [
    "y_pred = lr.predict(test_x)\n",
    "mse = mean_squared_error(test_y,y_pred)\n",
    "rmse = np.sqrt(mse)\n",
    "\n",
    "print('MSE : {0:.3f}, RMSE : {0:.3f}'.format(mse, rmse))\n",
    "print('Variance Score : {0:.3f}'.format(r2_score(test_y,y_pred)))"
   ]
  },
  {
   "cell_type": "code",
   "execution_count": 113,
   "metadata": {
    "ExecuteTime": {
     "end_time": "2021-04-25T14:10:26.536521Z",
     "start_time": "2021-04-25T14:10:26.514443Z"
    }
   },
   "outputs": [
    {
     "data": {
      "text/plain": [
       "array([ 0.04541969,  0.03763803,  0.01923597, -0.04399854,  0.02360759,\n",
       "        0.04122829, -0.03893576, -0.07202641,  0.07381488,  0.86001737])"
      ]
     },
     "execution_count": 113,
     "metadata": {},
     "output_type": "execute_result"
    }
   ],
   "source": [
    "lr.coef_"
   ]
  },
  {
   "cell_type": "code",
   "execution_count": 83,
   "metadata": {
    "ExecuteTime": {
     "end_time": "2021-04-25T13:53:56.584464Z",
     "start_time": "2021-04-25T13:53:56.392302Z"
    }
   },
   "outputs": [
    {
     "data": {
      "image/png": "[encoded data removed]",
      "text/plain": [
       "<Figure size 1296x432 with 1 Axes>"
      ]
     },
     "metadata": {
      "needs_background": "light"
     },
     "output_type": "display_data"
    }
   ],
   "source": [
    "plt.figure(figsize=[18,6])\n",
    "plt.plot(test_y,c='r')\n",
    "plt.plot(y_pred,c='b')\n",
    "plt.show()"
   ]
  },
  {
   "cell_type": "code",
   "execution_count": 116,
   "metadata": {
    "ExecuteTime": {
     "end_time": "2021-04-25T14:11:58.501662Z",
     "start_time": "2021-04-25T14:11:58.477714Z"
    }
   },
   "outputs": [],
   "source": [
    "grouped_lr['1kg price_sc'] = scale.fit_transform(grouped[['1kg price']])"
   ]
  },
  {
   "cell_type": "code",
   "execution_count": 118,
   "metadata": {
    "ExecuteTime": {
     "end_time": "2021-04-25T14:13:47.786449Z",
     "start_time": "2021-04-25T14:13:47.778347Z"
    }
   },
   "outputs": [],
   "source": [
    "grouped_lr['1kg price_log'] = np.log(grouped[['1kg price']])"
   ]
  },
  {
   "cell_type": "code",
   "execution_count": 119,
   "metadata": {
    "ExecuteTime": {
     "end_time": "2021-04-25T14:14:00.846849Z",
     "start_time": "2021-04-25T14:14:00.595868Z"
    }
   },
   "outputs": [
    {
     "name": "stderr",
     "output_type": "stream",
     "text": [
      "C:\\Users\\choi yeseul\\anaconda3\\lib\\site-packages\\seaborn\\distributions.py:2551: FutureWarning: `distplot` is a deprecated function and will be removed in a future version. Please adapt your code to use either `displot` (a figure-level function with similar flexibility) or `histplot` (an axes-level function for histograms).\n",
      "  warnings.warn(msg, FutureWarning)\n"
     ]
    },
    {
     "data": {
      "text/plain": [
       "<AxesSubplot:xlabel='1kg price_log', ylabel='Density'>"
      ]
     },
     "execution_count": 119,
     "metadata": {},
     "output_type": "execute_result"
    },
    {
     "data": {
      "image/png": "[encoded data removed]",
      "text/plain": [
       "<Figure size 432x288 with 1 Axes>"
      ]
     },
     "metadata": {
      "needs_background": "light"
     },
     "output_type": "display_data"
    }
   ],
   "source": [
    "sns.distplot(grouped_lr['1kg price_log'])"
   ]
  },
  {
   "cell_type": "code",
   "execution_count": 120,
   "metadata": {
    "ExecuteTime": {
     "end_time": "2021-04-25T14:14:12.666740Z",
     "start_time": "2021-04-25T14:14:12.639482Z"
    }
   },
   "outputs": [
    {
     "data": {
      "text/html": [
       "<div>\n",
       "<style scoped>\n",
       "    .dataframe tbody tr th:only-of-type {\n",
       "        vertical-align: middle;\n",
       "    }\n",
       "\n",
       "    .dataframe tbody tr th {\n",
       "        vertical-align: top;\n",
       "    }\n",
       "\n",
       "    .dataframe thead th {\n",
       "        text-align: right;\n",
       "    }\n",
       "</style>\n",
       "<table border=\"1\" class=\"dataframe\">\n",
       "  <thead>\n",
       "    <tr style=\"text-align: right;\">\n",
       "      <th></th>\n",
       "      <th>qty</th>\n",
       "      <th>1kg price</th>\n",
       "      <th>1kg price_sc</th>\n",
       "      <th>1kg price_log</th>\n",
       "    </tr>\n",
       "    <tr>\n",
       "      <th>date</th>\n",
       "      <th></th>\n",
       "      <th></th>\n",
       "      <th></th>\n",
       "      <th></th>\n",
       "    </tr>\n",
       "  </thead>\n",
       "  <tbody>\n",
       "    <tr>\n",
       "      <th>2006.04.04</th>\n",
       "      <td>978.3</td>\n",
       "      <td>4948.71</td>\n",
       "      <td>-1.123396</td>\n",
       "      <td>8.506882</td>\n",
       "    </tr>\n",
       "    <tr>\n",
       "      <th>2006.04.05</th>\n",
       "      <td>4600.7</td>\n",
       "      <td>4447.32</td>\n",
       "      <td>-1.350797</td>\n",
       "      <td>8.400057</td>\n",
       "    </tr>\n",
       "    <tr>\n",
       "      <th>2006.04.06</th>\n",
       "      <td>3842.2</td>\n",
       "      <td>4620.74</td>\n",
       "      <td>-1.272144</td>\n",
       "      <td>8.438310</td>\n",
       "    </tr>\n",
       "    <tr>\n",
       "      <th>2006.04.07</th>\n",
       "      <td>4777.3</td>\n",
       "      <td>4060.83</td>\n",
       "      <td>-1.526086</td>\n",
       "      <td>8.309143</td>\n",
       "    </tr>\n",
       "    <tr>\n",
       "      <th>2006.04.08</th>\n",
       "      <td>4773.5</td>\n",
       "      <td>4547.00</td>\n",
       "      <td>-1.305588</td>\n",
       "      <td>8.422223</td>\n",
       "    </tr>\n",
       "    <tr>\n",
       "      <th>...</th>\n",
       "      <td>...</td>\n",
       "      <td>...</td>\n",
       "      <td>...</td>\n",
       "      <td>...</td>\n",
       "    </tr>\n",
       "    <tr>\n",
       "      <th>2021.04.03</th>\n",
       "      <td>561.4</td>\n",
       "      <td>4642.59</td>\n",
       "      <td>-1.262234</td>\n",
       "      <td>8.443028</td>\n",
       "    </tr>\n",
       "    <tr>\n",
       "      <th>2021.04.05</th>\n",
       "      <td>421.1</td>\n",
       "      <td>5653.34</td>\n",
       "      <td>-0.803817</td>\n",
       "      <td>8.640002</td>\n",
       "    </tr>\n",
       "    <tr>\n",
       "      <th>2021.04.06</th>\n",
       "      <td>290.7</td>\n",
       "      <td>7392.06</td>\n",
       "      <td>-0.015236</td>\n",
       "      <td>8.908162</td>\n",
       "    </tr>\n",
       "    <tr>\n",
       "      <th>2021.04.07</th>\n",
       "      <td>399.9</td>\n",
       "      <td>7735.17</td>\n",
       "      <td>0.140379</td>\n",
       "      <td>8.953533</td>\n",
       "    </tr>\n",
       "    <tr>\n",
       "      <th>2021.04.08</th>\n",
       "      <td>418.7</td>\n",
       "      <td>8752.01</td>\n",
       "      <td>0.601558</td>\n",
       "      <td>9.077039</td>\n",
       "    </tr>\n",
       "  </tbody>\n",
       "</table>\n",
       "<p>4602 rows × 4 columns</p>\n",
       "</div>"
      ],
      "text/plain": [
       "               qty  1kg price  1kg price_sc  1kg price_log\n",
       "date                                                      \n",
       "2006.04.04   978.3    4948.71     -1.123396       8.506882\n",
       "2006.04.05  4600.7    4447.32     -1.350797       8.400057\n",
       "2006.04.06  3842.2    4620.74     -1.272144       8.438310\n",
       "2006.04.07  4777.3    4060.83     -1.526086       8.309143\n",
       "2006.04.08  4773.5    4547.00     -1.305588       8.422223\n",
       "...            ...        ...           ...            ...\n",
       "2021.04.03   561.4    4642.59     -1.262234       8.443028\n",
       "2021.04.05   421.1    5653.34     -0.803817       8.640002\n",
       "2021.04.06   290.7    7392.06     -0.015236       8.908162\n",
       "2021.04.07   399.9    7735.17      0.140379       8.953533\n",
       "2021.04.08   418.7    8752.01      0.601558       9.077039\n",
       "\n",
       "[4602 rows x 4 columns]"
      ]
     },
     "execution_count": 120,
     "metadata": {},
     "output_type": "execute_result"
    }
   ],
   "source": [
    "grouped_lr"
   ]
  },
  {
   "cell_type": "markdown",
   "metadata": {},
   "source": [
    "# 표준화 스케일링 후 시계열 분석"
   ]
  },
  {
   "cell_type": "code",
   "execution_count": 123,
   "metadata": {
    "ExecuteTime": {
     "end_time": "2021-04-25T14:15:59.664819Z",
     "start_time": "2021-04-25T14:15:59.646665Z"
    }
   },
   "outputs": [
    {
     "data": {
      "text/plain": [
       "(4602, 3451)"
      ]
     },
     "execution_count": 123,
     "metadata": {},
     "output_type": "execute_result"
    }
   ],
   "source": [
    "y= grouped_lr['1kg price_sc'].values\n",
    "ratio = 0.75\n",
    "cut = np.int(len(y)*ratio)\n",
    "cut\n",
    "train = y[:cut]\n",
    "test = y[cut:]\n",
    "len(y), len(train)"
   ]
  },
  {
   "cell_type": "code",
   "execution_count": 124,
   "metadata": {
    "ExecuteTime": {
     "end_time": "2021-04-25T14:16:06.768479Z",
     "start_time": "2021-04-25T14:16:06.747477Z"
    }
   },
   "outputs": [
    {
     "name": "stdout",
     "output_type": "stream",
     "text": [
      "MSE : 0.223, RMSE : 0.223\n",
      "Variance Score : 0.752\n"
     ]
    }
   ],
   "source": [
    "# 모델만들기\n",
    "lr = LinearRegression()\n",
    "\n",
    "n_steps = 10\n",
    "\n",
    "# 훈련데이터\n",
    "train_x, train_y = split_seq(train,n_steps) # 사용자정의함수\n",
    "\n",
    "# 검증데이터\n",
    "test_x, test_y = split_seq(test,n_steps)\n",
    "\n",
    "lr.fit(train_x,train_y)\n",
    "\n",
    "y_pred = lr.predict(test_x)\n",
    "mse = mean_squared_error(test_y,y_pred)\n",
    "rmse = np.sqrt(mse)\n",
    "\n",
    "print('MSE : {0:.3f}, RMSE : {0:.3f}'.format(mse, rmse))\n",
    "print('Variance Score : {0:.3f}'.format(r2_score(test_y,y_pred)))"
   ]
  },
  {
   "cell_type": "markdown",
   "metadata": {},
   "source": [
    "# 로그 변환 후 시계열 분석"
   ]
  },
  {
   "cell_type": "code",
   "execution_count": 125,
   "metadata": {
    "ExecuteTime": {
     "end_time": "2021-04-25T14:16:34.024028Z",
     "start_time": "2021-04-25T14:16:34.009874Z"
    }
   },
   "outputs": [
    {
     "data": {
      "text/plain": [
       "(4602, 3451)"
      ]
     },
     "execution_count": 125,
     "metadata": {},
     "output_type": "execute_result"
    }
   ],
   "source": [
    "y= grouped_lr['1kg price_log'].values\n",
    "ratio = 0.75\n",
    "cut = np.int(len(y)*ratio)\n",
    "cut\n",
    "train = y[:cut]\n",
    "test = y[cut:]\n",
    "len(y), len(train)"
   ]
  },
  {
   "cell_type": "code",
   "execution_count": 126,
   "metadata": {
    "ExecuteTime": {
     "end_time": "2021-04-25T14:16:38.680625Z",
     "start_time": "2021-04-25T14:16:38.660765Z"
    }
   },
   "outputs": [
    {
     "name": "stdout",
     "output_type": "stream",
     "text": [
      "MSE : 0.018, RMSE : 0.018\n",
      "Variance Score : 0.710\n"
     ]
    }
   ],
   "source": [
    "# 모델만들기\n",
    "lr = LinearRegression()\n",
    "\n",
    "n_steps = 10\n",
    "\n",
    "# 훈련데이터\n",
    "train_x, train_y = split_seq(train,n_steps) # 사용자정의함수\n",
    "\n",
    "# 검증데이터\n",
    "test_x, test_y = split_seq(test,n_steps)\n",
    "\n",
    "lr.fit(train_x,train_y)\n",
    "\n",
    "y_pred = lr.predict(test_x)\n",
    "mse = mean_squared_error(test_y,y_pred)\n",
    "rmse = np.sqrt(mse)\n",
    "\n",
    "print('MSE : {0:.3f}, RMSE : {0:.3f}'.format(mse, rmse))\n",
    "print('Variance Score : {0:.3f}'.format(r2_score(test_y,y_pred)))"
   ]
  },
  {
   "cell_type": "markdown",
   "metadata": {
    "ExecuteTime": {
     "end_time": "2021-04-25T14:16:56.770644Z",
     "start_time": "2021-04-25T14:16:56.762654Z"
    }
   },
   "source": [
    "# 시계열 데이터 회귀분석의 경우 표준화 스케일링 후 결과값이 가장 좋다고 볼 수 있다"
   ]
  }
 ],
 "metadata": {
  "kernelspec": {
   "display_name": "Python 3",
   "language": "python",
   "name": "python3"
  },
  "language_info": {
   "codemirror_mode": {
    "name": "ipython",
    "version": 3
   },
   "file_extension": ".py",
   "mimetype": "text/x-python",
   "name": "python",
   "nbconvert_exporter": "python",
   "pygments_lexer": "ipython3",
   "version": "3.8.5"
  },
  "toc": {
   "base_numbering": 1,
   "nav_menu": {},
   "number_sections": true,
   "sideBar": true,
   "skip_h1_title": false,
   "title_cell": "Table of Contents",
   "title_sidebar": "Contents",
   "toc_cell": false,
   "toc_position": {},
   "toc_section_display": true,
   "toc_window_display": false
  },
  "varInspector": {
   "cols": {
    "lenName": 16,
    "lenType": 16,
    "lenVar": 40
   },
   "kernels_config": {
    "python": {
     "delete_cmd_postfix": "",
     "delete_cmd_prefix": "del ",
     "library": "var_list.py",
     "varRefreshCmd": "print(var_dic_list())"
    },
    "r": {
     "delete_cmd_postfix": ") ",
     "delete_cmd_prefix": "rm(",
     "library": "var_list.r",
     "varRefreshCmd": "cat(var_dic_list()) "
    }
   },
   "types_to_exclude": [
    "module",
    "function",
    "builtin_function_or_method",
    "instance",
    "_Feature"
   ],
   "window_display": false
  }
 },
 "nbformat": 4,
 "nbformat_minor": 4
}
