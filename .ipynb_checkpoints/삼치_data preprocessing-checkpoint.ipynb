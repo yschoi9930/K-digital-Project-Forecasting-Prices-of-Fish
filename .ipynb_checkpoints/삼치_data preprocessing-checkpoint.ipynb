{
 "cells": [
  {
   "cell_type": "code",
   "execution_count": 68,
   "metadata": {
    "ExecuteTime": {
     "end_time": "2021-04-20T06:53:31.470259Z",
     "start_time": "2021-04-20T06:53:30.929306Z"
    }
   },
   "outputs": [],
   "source": [
    "import selenium\n",
    "from selenium import webdriver\n",
    "from urllib.parse import quote\n",
    "import requests\n",
    "from bs4 import BeautifulSoup\n",
    "import pandas as pd\n",
    "import numpy as np\n",
    "import string\n",
    "import matplotlib.pyplot as plt\n",
    "%matplotlib inline\n",
    "import platform\n",
    "from scipy.stats import *\n",
    "from matplotlib import font_manager, rc\n",
    "plt.rcParams['axes.unicode_minus'] = False\n",
    "\n",
    "if platform.system() == 'Darwin':  # 맥OS \n",
    "    rc('font', family='AppleGothic')\n",
    "elif platform.system() == 'Windows': \n",
    "    # 윈도우   \n",
    "    path = \"c:/Windows/Fonts/malgun.ttf\"\n",
    "    font_name = font_manager.FontProperties(fname=path).get_name()\n",
    "    rc('font', family=font_name)\n",
    "else:\n",
    "    print('Unknown system...  sorry~~~')"
   ]
  },
  {
   "cell_type": "code",
   "execution_count": 41,
   "metadata": {
    "ExecuteTime": {
     "end_time": "2021-04-20T06:48:12.107996Z",
     "start_time": "2021-04-20T06:48:11.964975Z"
    }
   },
   "outputs": [],
   "source": [
    "data = pd.read_csv('./final/삼치_0420.csv')"
   ]
  },
  {
   "cell_type": "code",
   "execution_count": 42,
   "metadata": {
    "ExecuteTime": {
     "end_time": "2021-04-20T06:48:13.036275Z",
     "start_time": "2021-04-20T06:48:12.987685Z"
    }
   },
   "outputs": [
    {
     "name": "stdout",
     "output_type": "stream",
     "text": [
      "<class 'pandas.core.frame.DataFrame'>\n",
      "RangeIndex: 90156 entries, 0 to 90155\n",
      "Data columns (total 12 columns):\n",
      " #   Column        Non-Null Count  Dtype  \n",
      "---  ------        --------------  -----  \n",
      " 0   Unnamed: 0    90156 non-null  int64  \n",
      " 1   Unnamed: 0.1  90156 non-null  int64  \n",
      " 2   어종            90156 non-null  object \n",
      " 3   산지            90156 non-null  object \n",
      " 4   규격            90155 non-null  object \n",
      " 5   포장            90155 non-null  object \n",
      " 6   수량            90156 non-null  object \n",
      " 7   중량            90156 non-null  float64\n",
      " 8   낙찰고가          90156 non-null  object \n",
      " 9   낙찰저가          90156 non-null  object \n",
      " 10  평균가           90156 non-null  object \n",
      " 11  일시            90156 non-null  object \n",
      "dtypes: float64(1), int64(2), object(9)\n",
      "memory usage: 8.3+ MB\n"
     ]
    }
   ],
   "source": [
    "data.info()"
   ]
  },
  {
   "cell_type": "code",
   "execution_count": 43,
   "metadata": {
    "ExecuteTime": {
     "end_time": "2021-04-20T06:48:14.860376Z",
     "start_time": "2021-04-20T06:48:14.749680Z"
    }
   },
   "outputs": [],
   "source": [
    "data['수량'] = data['수량'].str.replace(',','')\n",
    "data['수량'] = data['수량'].astype({'수량':float})\n",
    "data['평균가'] = data['평균가'].str.replace(',','')\n",
    "data['평균가'] = data['평균가'].astype(float)"
   ]
  },
  {
   "cell_type": "code",
   "execution_count": 45,
   "metadata": {
    "ExecuteTime": {
     "end_time": "2021-04-20T06:48:34.217146Z",
     "start_time": "2021-04-20T06:48:34.190357Z"
    }
   },
   "outputs": [],
   "source": [
    "data['1kg price'] = (data['평균가']/data['중량']).round(2)\n",
    "data['qty'] = data['수량']*data['중량']"
   ]
  },
  {
   "cell_type": "code",
   "execution_count": 46,
   "metadata": {
    "ExecuteTime": {
     "end_time": "2021-04-20T06:48:34.934249Z",
     "start_time": "2021-04-20T06:48:34.914766Z"
    }
   },
   "outputs": [
    {
     "data": {
      "text/html": [
       "<div>\n",
       "<style scoped>\n",
       "    .dataframe tbody tr th:only-of-type {\n",
       "        vertical-align: middle;\n",
       "    }\n",
       "\n",
       "    .dataframe tbody tr th {\n",
       "        vertical-align: top;\n",
       "    }\n",
       "\n",
       "    .dataframe thead th {\n",
       "        text-align: right;\n",
       "    }\n",
       "</style>\n",
       "<table border=\"1\" class=\"dataframe\">\n",
       "  <thead>\n",
       "    <tr style=\"text-align: right;\">\n",
       "      <th></th>\n",
       "      <th>Unnamed: 0</th>\n",
       "      <th>Unnamed: 0.1</th>\n",
       "      <th>어종</th>\n",
       "      <th>산지</th>\n",
       "      <th>규격</th>\n",
       "      <th>포장</th>\n",
       "      <th>수량</th>\n",
       "      <th>중량</th>\n",
       "      <th>낙찰고가</th>\n",
       "      <th>낙찰저가</th>\n",
       "      <th>평균가</th>\n",
       "      <th>일시</th>\n",
       "      <th>qty</th>\n",
       "      <th>1kg price</th>\n",
       "    </tr>\n",
       "  </thead>\n",
       "  <tbody>\n",
       "    <tr>\n",
       "      <th>0</th>\n",
       "      <td>0</td>\n",
       "      <td>0</td>\n",
       "      <td>(선)삼치</td>\n",
       "      <td>통영</td>\n",
       "      <td>중</td>\n",
       "      <td>kg</td>\n",
       "      <td>169.5</td>\n",
       "      <td>1.0</td>\n",
       "      <td>6,000</td>\n",
       "      <td>4,000</td>\n",
       "      <td>4900.0</td>\n",
       "      <td>2006.03.21</td>\n",
       "      <td>169.5</td>\n",
       "      <td>4900.0</td>\n",
       "    </tr>\n",
       "    <tr>\n",
       "      <th>1</th>\n",
       "      <td>1</td>\n",
       "      <td>1</td>\n",
       "      <td>(선)삼치</td>\n",
       "      <td>부산(기장)</td>\n",
       "      <td>중</td>\n",
       "      <td>kg</td>\n",
       "      <td>120.1</td>\n",
       "      <td>1.0</td>\n",
       "      <td>3,000</td>\n",
       "      <td>2,800</td>\n",
       "      <td>3000.0</td>\n",
       "      <td>2006.03.21</td>\n",
       "      <td>120.1</td>\n",
       "      <td>3000.0</td>\n",
       "    </tr>\n",
       "    <tr>\n",
       "      <th>2</th>\n",
       "      <td>2</td>\n",
       "      <td>2</td>\n",
       "      <td>(선)삼치</td>\n",
       "      <td>통영</td>\n",
       "      <td>06미</td>\n",
       "      <td>S/P</td>\n",
       "      <td>1.0</td>\n",
       "      <td>8.0</td>\n",
       "      <td>6,000</td>\n",
       "      <td>6,000</td>\n",
       "      <td>6000.0</td>\n",
       "      <td>2006.03.22</td>\n",
       "      <td>8.0</td>\n",
       "      <td>750.0</td>\n",
       "    </tr>\n",
       "    <tr>\n",
       "      <th>3</th>\n",
       "      <td>3</td>\n",
       "      <td>3</td>\n",
       "      <td>(선)삼치</td>\n",
       "      <td>통영</td>\n",
       "      <td>중</td>\n",
       "      <td>kg</td>\n",
       "      <td>18.6</td>\n",
       "      <td>1.0</td>\n",
       "      <td>9,000</td>\n",
       "      <td>8,000</td>\n",
       "      <td>8500.0</td>\n",
       "      <td>2006.03.22</td>\n",
       "      <td>18.6</td>\n",
       "      <td>8500.0</td>\n",
       "    </tr>\n",
       "    <tr>\n",
       "      <th>4</th>\n",
       "      <td>4</td>\n",
       "      <td>4</td>\n",
       "      <td>(선)삼치</td>\n",
       "      <td>부산(기장)</td>\n",
       "      <td>중</td>\n",
       "      <td>kg</td>\n",
       "      <td>49.4</td>\n",
       "      <td>1.0</td>\n",
       "      <td>5,000</td>\n",
       "      <td>3,000</td>\n",
       "      <td>3900.0</td>\n",
       "      <td>2006.03.22</td>\n",
       "      <td>49.4</td>\n",
       "      <td>3900.0</td>\n",
       "    </tr>\n",
       "  </tbody>\n",
       "</table>\n",
       "</div>"
      ],
      "text/plain": [
       "   Unnamed: 0  Unnamed: 0.1     어종      산지   규격   포장     수량   중량   낙찰고가  \\\n",
       "0           0             0  (선)삼치      통영    중   kg  169.5  1.0  6,000   \n",
       "1           1             1  (선)삼치  부산(기장)    중   kg  120.1  1.0  3,000   \n",
       "2           2             2  (선)삼치      통영  06미  S/P    1.0  8.0  6,000   \n",
       "3           3             3  (선)삼치      통영    중   kg   18.6  1.0  9,000   \n",
       "4           4             4  (선)삼치  부산(기장)    중   kg   49.4  1.0  5,000   \n",
       "\n",
       "    낙찰저가     평균가          일시    qty  1kg price  \n",
       "0  4,000  4900.0  2006.03.21  169.5     4900.0  \n",
       "1  2,800  3000.0  2006.03.21  120.1     3000.0  \n",
       "2  6,000  6000.0  2006.03.22    8.0      750.0  \n",
       "3  8,000  8500.0  2006.03.22   18.6     8500.0  \n",
       "4  3,000  3900.0  2006.03.22   49.4     3900.0  "
      ]
     },
     "execution_count": 46,
     "metadata": {},
     "output_type": "execute_result"
    }
   ],
   "source": [
    "data.head()"
   ]
  },
  {
   "cell_type": "code",
   "execution_count": 47,
   "metadata": {
    "ExecuteTime": {
     "end_time": "2021-04-20T06:48:39.012016Z",
     "start_time": "2021-04-20T06:48:38.990623Z"
    }
   },
   "outputs": [],
   "source": [
    "data = data.drop(['Unnamed: 0','Unnamed: 0.1'], axis=1)"
   ]
  },
  {
   "cell_type": "code",
   "execution_count": 52,
   "metadata": {
    "ExecuteTime": {
     "end_time": "2021-04-20T06:49:18.151189Z",
     "start_time": "2021-04-20T06:49:18.129243Z"
    }
   },
   "outputs": [],
   "source": [
    "data = data.drop(['규격','포장'], axis=1)"
   ]
  },
  {
   "cell_type": "code",
   "execution_count": 54,
   "metadata": {
    "ExecuteTime": {
     "end_time": "2021-04-20T06:49:38.786357Z",
     "start_time": "2021-04-20T06:49:38.779302Z"
    }
   },
   "outputs": [],
   "source": [
    "data = data.drop(['평균가'], axis=1)"
   ]
  },
  {
   "cell_type": "code",
   "execution_count": 55,
   "metadata": {
    "ExecuteTime": {
     "end_time": "2021-04-20T06:49:45.718831Z",
     "start_time": "2021-04-20T06:49:45.702682Z"
    }
   },
   "outputs": [
    {
     "data": {
      "text/html": [
       "<div>\n",
       "<style scoped>\n",
       "    .dataframe tbody tr th:only-of-type {\n",
       "        vertical-align: middle;\n",
       "    }\n",
       "\n",
       "    .dataframe tbody tr th {\n",
       "        vertical-align: top;\n",
       "    }\n",
       "\n",
       "    .dataframe thead th {\n",
       "        text-align: right;\n",
       "    }\n",
       "</style>\n",
       "<table border=\"1\" class=\"dataframe\">\n",
       "  <thead>\n",
       "    <tr style=\"text-align: right;\">\n",
       "      <th></th>\n",
       "      <th>어종</th>\n",
       "      <th>산지</th>\n",
       "      <th>일시</th>\n",
       "      <th>qty</th>\n",
       "      <th>1kg price</th>\n",
       "    </tr>\n",
       "  </thead>\n",
       "  <tbody>\n",
       "    <tr>\n",
       "      <th>0</th>\n",
       "      <td>(선)삼치</td>\n",
       "      <td>통영</td>\n",
       "      <td>2006.03.21</td>\n",
       "      <td>169.5</td>\n",
       "      <td>4900.00</td>\n",
       "    </tr>\n",
       "    <tr>\n",
       "      <th>1</th>\n",
       "      <td>(선)삼치</td>\n",
       "      <td>부산(기장)</td>\n",
       "      <td>2006.03.21</td>\n",
       "      <td>120.1</td>\n",
       "      <td>3000.00</td>\n",
       "    </tr>\n",
       "    <tr>\n",
       "      <th>2</th>\n",
       "      <td>(선)삼치</td>\n",
       "      <td>통영</td>\n",
       "      <td>2006.03.22</td>\n",
       "      <td>8.0</td>\n",
       "      <td>750.00</td>\n",
       "    </tr>\n",
       "    <tr>\n",
       "      <th>3</th>\n",
       "      <td>(선)삼치</td>\n",
       "      <td>통영</td>\n",
       "      <td>2006.03.22</td>\n",
       "      <td>18.6</td>\n",
       "      <td>8500.00</td>\n",
       "    </tr>\n",
       "    <tr>\n",
       "      <th>4</th>\n",
       "      <td>(선)삼치</td>\n",
       "      <td>부산(기장)</td>\n",
       "      <td>2006.03.22</td>\n",
       "      <td>49.4</td>\n",
       "      <td>3900.00</td>\n",
       "    </tr>\n",
       "    <tr>\n",
       "      <th>...</th>\n",
       "      <td>...</td>\n",
       "      <td>...</td>\n",
       "      <td>...</td>\n",
       "      <td>...</td>\n",
       "      <td>...</td>\n",
       "    </tr>\n",
       "    <tr>\n",
       "      <th>90151</th>\n",
       "      <td>(선)삼치</td>\n",
       "      <td>추자도</td>\n",
       "      <td>2021.04.07</td>\n",
       "      <td>20.0</td>\n",
       "      <td>9000.00</td>\n",
       "    </tr>\n",
       "    <tr>\n",
       "      <th>90152</th>\n",
       "      <td>(선)삼치</td>\n",
       "      <td>포항</td>\n",
       "      <td>2021.04.07</td>\n",
       "      <td>320.0</td>\n",
       "      <td>9800.00</td>\n",
       "    </tr>\n",
       "    <tr>\n",
       "      <th>90153</th>\n",
       "      <td>(선)삼치</td>\n",
       "      <td>감포</td>\n",
       "      <td>2021.04.08</td>\n",
       "      <td>1232.7</td>\n",
       "      <td>8400.00</td>\n",
       "    </tr>\n",
       "    <tr>\n",
       "      <th>90154</th>\n",
       "      <td>(선)삼치</td>\n",
       "      <td>포항</td>\n",
       "      <td>2021.04.08</td>\n",
       "      <td>378.9</td>\n",
       "      <td>9800.00</td>\n",
       "    </tr>\n",
       "    <tr>\n",
       "      <th>90155</th>\n",
       "      <td>(냉)삼치</td>\n",
       "      <td>마산</td>\n",
       "      <td>2021.04.08</td>\n",
       "      <td>150.0</td>\n",
       "      <td>4566.67</td>\n",
       "    </tr>\n",
       "  </tbody>\n",
       "</table>\n",
       "<p>90156 rows × 5 columns</p>\n",
       "</div>"
      ],
      "text/plain": [
       "          어종      산지          일시     qty  1kg price\n",
       "0      (선)삼치      통영  2006.03.21   169.5    4900.00\n",
       "1      (선)삼치  부산(기장)  2006.03.21   120.1    3000.00\n",
       "2      (선)삼치      통영  2006.03.22     8.0     750.00\n",
       "3      (선)삼치      통영  2006.03.22    18.6    8500.00\n",
       "4      (선)삼치  부산(기장)  2006.03.22    49.4    3900.00\n",
       "...      ...     ...         ...     ...        ...\n",
       "90151  (선)삼치     추자도  2021.04.07    20.0    9000.00\n",
       "90152  (선)삼치      포항  2021.04.07   320.0    9800.00\n",
       "90153  (선)삼치      감포  2021.04.08  1232.7    8400.00\n",
       "90154  (선)삼치      포항  2021.04.08   378.9    9800.00\n",
       "90155  (냉)삼치      마산  2021.04.08   150.0    4566.67\n",
       "\n",
       "[90156 rows x 5 columns]"
      ]
     },
     "execution_count": 55,
     "metadata": {},
     "output_type": "execute_result"
    }
   ],
   "source": [
    "data"
   ]
  },
  {
   "cell_type": "code",
   "execution_count": 58,
   "metadata": {
    "ExecuteTime": {
     "end_time": "2021-04-20T06:50:05.683772Z",
     "start_time": "2021-04-20T06:50:05.649251Z"
    }
   },
   "outputs": [
    {
     "data": {
      "text/html": [
       "<div>\n",
       "<style scoped>\n",
       "    .dataframe tbody tr th:only-of-type {\n",
       "        vertical-align: middle;\n",
       "    }\n",
       "\n",
       "    .dataframe tbody tr th {\n",
       "        vertical-align: top;\n",
       "    }\n",
       "\n",
       "    .dataframe thead th {\n",
       "        text-align: right;\n",
       "    }\n",
       "</style>\n",
       "<table border=\"1\" class=\"dataframe\">\n",
       "  <thead>\n",
       "    <tr style=\"text-align: right;\">\n",
       "      <th></th>\n",
       "      <th>qty</th>\n",
       "      <th>1kg price</th>\n",
       "    </tr>\n",
       "    <tr>\n",
       "      <th>산지</th>\n",
       "      <th></th>\n",
       "      <th></th>\n",
       "    </tr>\n",
       "  </thead>\n",
       "  <tbody>\n",
       "    <tr>\n",
       "      <th>부산(기장)</th>\n",
       "      <td>14663742.30</td>\n",
       "      <td>30239732.52</td>\n",
       "    </tr>\n",
       "    <tr>\n",
       "      <th>여수</th>\n",
       "      <td>6376121.80</td>\n",
       "      <td>30005449.44</td>\n",
       "    </tr>\n",
       "    <tr>\n",
       "      <th>삼천포</th>\n",
       "      <td>5521639.08</td>\n",
       "      <td>30645814.62</td>\n",
       "    </tr>\n",
       "    <tr>\n",
       "      <th>통영</th>\n",
       "      <td>4327506.44</td>\n",
       "      <td>16103323.26</td>\n",
       "    </tr>\n",
       "    <tr>\n",
       "      <th>마산</th>\n",
       "      <td>2320936.00</td>\n",
       "      <td>2981256.60</td>\n",
       "    </tr>\n",
       "    <tr>\n",
       "      <th>포항</th>\n",
       "      <td>1617436.44</td>\n",
       "      <td>16539630.15</td>\n",
       "    </tr>\n",
       "    <tr>\n",
       "      <th>강구</th>\n",
       "      <td>1439799.50</td>\n",
       "      <td>12894134.66</td>\n",
       "    </tr>\n",
       "    <tr>\n",
       "      <th>남해</th>\n",
       "      <td>1185461.40</td>\n",
       "      <td>4724481.69</td>\n",
       "    </tr>\n",
       "    <tr>\n",
       "      <th>죽변</th>\n",
       "      <td>801964.04</td>\n",
       "      <td>7607168.76</td>\n",
       "    </tr>\n",
       "    <tr>\n",
       "      <th>후포</th>\n",
       "      <td>720067.50</td>\n",
       "      <td>4379265.91</td>\n",
       "    </tr>\n",
       "    <tr>\n",
       "      <th>제주도</th>\n",
       "      <td>551241.20</td>\n",
       "      <td>33260595.07</td>\n",
       "    </tr>\n",
       "    <tr>\n",
       "      <th>기타(국내)</th>\n",
       "      <td>531130.90</td>\n",
       "      <td>1436384.50</td>\n",
       "    </tr>\n",
       "    <tr>\n",
       "      <th>축산</th>\n",
       "      <td>522087.70</td>\n",
       "      <td>4458926.42</td>\n",
       "    </tr>\n",
       "    <tr>\n",
       "      <th>감포</th>\n",
       "      <td>518976.90</td>\n",
       "      <td>3125330.21</td>\n",
       "    </tr>\n",
       "    <tr>\n",
       "      <th>나로도</th>\n",
       "      <td>397124.20</td>\n",
       "      <td>4700185.89</td>\n",
       "    </tr>\n",
       "    <tr>\n",
       "      <th>태안</th>\n",
       "      <td>380429.00</td>\n",
       "      <td>6110600.92</td>\n",
       "    </tr>\n",
       "    <tr>\n",
       "      <th>방어진</th>\n",
       "      <td>281286.20</td>\n",
       "      <td>3110081.05</td>\n",
       "    </tr>\n",
       "    <tr>\n",
       "      <th>속초</th>\n",
       "      <td>249451.78</td>\n",
       "      <td>6121266.45</td>\n",
       "    </tr>\n",
       "    <tr>\n",
       "      <th>동해시</th>\n",
       "      <td>225921.00</td>\n",
       "      <td>1599847.37</td>\n",
       "    </tr>\n",
       "    <tr>\n",
       "      <th>보령</th>\n",
       "      <td>169853.00</td>\n",
       "      <td>4255945.66</td>\n",
       "    </tr>\n",
       "  </tbody>\n",
       "</table>\n",
       "</div>"
      ],
      "text/plain": [
       "                qty    1kg price\n",
       "산지                              \n",
       "부산(기장)  14663742.30  30239732.52\n",
       "여수       6376121.80  30005449.44\n",
       "삼천포      5521639.08  30645814.62\n",
       "통영       4327506.44  16103323.26\n",
       "마산       2320936.00   2981256.60\n",
       "포항       1617436.44  16539630.15\n",
       "강구       1439799.50  12894134.66\n",
       "남해       1185461.40   4724481.69\n",
       "죽변        801964.04   7607168.76\n",
       "후포        720067.50   4379265.91\n",
       "제주도       551241.20  33260595.07\n",
       "기타(국내)    531130.90   1436384.50\n",
       "축산        522087.70   4458926.42\n",
       "감포        518976.90   3125330.21\n",
       "나로도       397124.20   4700185.89\n",
       "태안        380429.00   6110600.92\n",
       "방어진       281286.20   3110081.05\n",
       "속초        249451.78   6121266.45\n",
       "동해시       225921.00   1599847.37\n",
       "보령        169853.00   4255945.66"
      ]
     },
     "execution_count": 58,
     "metadata": {},
     "output_type": "execute_result"
    }
   ],
   "source": [
    "data.groupby('산지').sum().sort_values('qty', ascending=False).head(20)"
   ]
  },
  {
   "cell_type": "code",
   "execution_count": 59,
   "metadata": {
    "ExecuteTime": {
     "end_time": "2021-04-20T06:50:09.294348Z",
     "start_time": "2021-04-20T06:50:08.465339Z"
    }
   },
   "outputs": [],
   "source": [
    "data['year'] = data['일시'].str.split('.').str.get(0)\n",
    "data['month'] = data['일시'].str.split('.').str.get(1)\n",
    "data['day'] = data['일시'].str.split('.').str.get(2)"
   ]
  },
  {
   "cell_type": "code",
   "execution_count": 60,
   "metadata": {
    "ExecuteTime": {
     "end_time": "2021-04-20T06:50:12.925489Z",
     "start_time": "2021-04-20T06:50:12.904673Z"
    }
   },
   "outputs": [
    {
     "data": {
      "text/html": [
       "<div>\n",
       "<style scoped>\n",
       "    .dataframe tbody tr th:only-of-type {\n",
       "        vertical-align: middle;\n",
       "    }\n",
       "\n",
       "    .dataframe tbody tr th {\n",
       "        vertical-align: top;\n",
       "    }\n",
       "\n",
       "    .dataframe thead th {\n",
       "        text-align: right;\n",
       "    }\n",
       "</style>\n",
       "<table border=\"1\" class=\"dataframe\">\n",
       "  <thead>\n",
       "    <tr style=\"text-align: right;\">\n",
       "      <th></th>\n",
       "      <th>어종</th>\n",
       "      <th>산지</th>\n",
       "      <th>일시</th>\n",
       "      <th>qty</th>\n",
       "      <th>1kg price</th>\n",
       "      <th>year</th>\n",
       "      <th>month</th>\n",
       "      <th>day</th>\n",
       "    </tr>\n",
       "  </thead>\n",
       "  <tbody>\n",
       "    <tr>\n",
       "      <th>0</th>\n",
       "      <td>(선)삼치</td>\n",
       "      <td>통영</td>\n",
       "      <td>2006.03.21</td>\n",
       "      <td>169.5</td>\n",
       "      <td>4900.00</td>\n",
       "      <td>2006</td>\n",
       "      <td>03</td>\n",
       "      <td>21</td>\n",
       "    </tr>\n",
       "    <tr>\n",
       "      <th>1</th>\n",
       "      <td>(선)삼치</td>\n",
       "      <td>부산(기장)</td>\n",
       "      <td>2006.03.21</td>\n",
       "      <td>120.1</td>\n",
       "      <td>3000.00</td>\n",
       "      <td>2006</td>\n",
       "      <td>03</td>\n",
       "      <td>21</td>\n",
       "    </tr>\n",
       "    <tr>\n",
       "      <th>2</th>\n",
       "      <td>(선)삼치</td>\n",
       "      <td>통영</td>\n",
       "      <td>2006.03.22</td>\n",
       "      <td>8.0</td>\n",
       "      <td>750.00</td>\n",
       "      <td>2006</td>\n",
       "      <td>03</td>\n",
       "      <td>22</td>\n",
       "    </tr>\n",
       "    <tr>\n",
       "      <th>3</th>\n",
       "      <td>(선)삼치</td>\n",
       "      <td>통영</td>\n",
       "      <td>2006.03.22</td>\n",
       "      <td>18.6</td>\n",
       "      <td>8500.00</td>\n",
       "      <td>2006</td>\n",
       "      <td>03</td>\n",
       "      <td>22</td>\n",
       "    </tr>\n",
       "    <tr>\n",
       "      <th>4</th>\n",
       "      <td>(선)삼치</td>\n",
       "      <td>부산(기장)</td>\n",
       "      <td>2006.03.22</td>\n",
       "      <td>49.4</td>\n",
       "      <td>3900.00</td>\n",
       "      <td>2006</td>\n",
       "      <td>03</td>\n",
       "      <td>22</td>\n",
       "    </tr>\n",
       "    <tr>\n",
       "      <th>...</th>\n",
       "      <td>...</td>\n",
       "      <td>...</td>\n",
       "      <td>...</td>\n",
       "      <td>...</td>\n",
       "      <td>...</td>\n",
       "      <td>...</td>\n",
       "      <td>...</td>\n",
       "      <td>...</td>\n",
       "    </tr>\n",
       "    <tr>\n",
       "      <th>90151</th>\n",
       "      <td>(선)삼치</td>\n",
       "      <td>추자도</td>\n",
       "      <td>2021.04.07</td>\n",
       "      <td>20.0</td>\n",
       "      <td>9000.00</td>\n",
       "      <td>2021</td>\n",
       "      <td>04</td>\n",
       "      <td>07</td>\n",
       "    </tr>\n",
       "    <tr>\n",
       "      <th>90152</th>\n",
       "      <td>(선)삼치</td>\n",
       "      <td>포항</td>\n",
       "      <td>2021.04.07</td>\n",
       "      <td>320.0</td>\n",
       "      <td>9800.00</td>\n",
       "      <td>2021</td>\n",
       "      <td>04</td>\n",
       "      <td>07</td>\n",
       "    </tr>\n",
       "    <tr>\n",
       "      <th>90153</th>\n",
       "      <td>(선)삼치</td>\n",
       "      <td>감포</td>\n",
       "      <td>2021.04.08</td>\n",
       "      <td>1232.7</td>\n",
       "      <td>8400.00</td>\n",
       "      <td>2021</td>\n",
       "      <td>04</td>\n",
       "      <td>08</td>\n",
       "    </tr>\n",
       "    <tr>\n",
       "      <th>90154</th>\n",
       "      <td>(선)삼치</td>\n",
       "      <td>포항</td>\n",
       "      <td>2021.04.08</td>\n",
       "      <td>378.9</td>\n",
       "      <td>9800.00</td>\n",
       "      <td>2021</td>\n",
       "      <td>04</td>\n",
       "      <td>08</td>\n",
       "    </tr>\n",
       "    <tr>\n",
       "      <th>90155</th>\n",
       "      <td>(냉)삼치</td>\n",
       "      <td>마산</td>\n",
       "      <td>2021.04.08</td>\n",
       "      <td>150.0</td>\n",
       "      <td>4566.67</td>\n",
       "      <td>2021</td>\n",
       "      <td>04</td>\n",
       "      <td>08</td>\n",
       "    </tr>\n",
       "  </tbody>\n",
       "</table>\n",
       "<p>90156 rows × 8 columns</p>\n",
       "</div>"
      ],
      "text/plain": [
       "          어종      산지          일시     qty  1kg price  year month day\n",
       "0      (선)삼치      통영  2006.03.21   169.5    4900.00  2006    03  21\n",
       "1      (선)삼치  부산(기장)  2006.03.21   120.1    3000.00  2006    03  21\n",
       "2      (선)삼치      통영  2006.03.22     8.0     750.00  2006    03  22\n",
       "3      (선)삼치      통영  2006.03.22    18.6    8500.00  2006    03  22\n",
       "4      (선)삼치  부산(기장)  2006.03.22    49.4    3900.00  2006    03  22\n",
       "...      ...     ...         ...     ...        ...   ...   ...  ..\n",
       "90151  (선)삼치     추자도  2021.04.07    20.0    9000.00  2021    04  07\n",
       "90152  (선)삼치      포항  2021.04.07   320.0    9800.00  2021    04  07\n",
       "90153  (선)삼치      감포  2021.04.08  1232.7    8400.00  2021    04  08\n",
       "90154  (선)삼치      포항  2021.04.08   378.9    9800.00  2021    04  08\n",
       "90155  (냉)삼치      마산  2021.04.08   150.0    4566.67  2021    04  08\n",
       "\n",
       "[90156 rows x 8 columns]"
      ]
     },
     "execution_count": 60,
     "metadata": {},
     "output_type": "execute_result"
    }
   ],
   "source": [
    "data"
   ]
  },
  {
   "cell_type": "code",
   "execution_count": 62,
   "metadata": {
    "ExecuteTime": {
     "end_time": "2021-04-20T06:50:56.669926Z",
     "start_time": "2021-04-20T06:50:56.665892Z"
    }
   },
   "outputs": [],
   "source": [
    "data.columns = ['species','from','date','qty','1kg price','year','month','day']"
   ]
  },
  {
   "cell_type": "code",
   "execution_count": 63,
   "metadata": {
    "ExecuteTime": {
     "end_time": "2021-04-20T06:50:59.802318Z",
     "start_time": "2021-04-20T06:50:59.765686Z"
    }
   },
   "outputs": [
    {
     "data": {
      "text/html": [
       "<div>\n",
       "<style scoped>\n",
       "    .dataframe tbody tr th:only-of-type {\n",
       "        vertical-align: middle;\n",
       "    }\n",
       "\n",
       "    .dataframe tbody tr th {\n",
       "        vertical-align: top;\n",
       "    }\n",
       "\n",
       "    .dataframe thead th {\n",
       "        text-align: right;\n",
       "    }\n",
       "</style>\n",
       "<table border=\"1\" class=\"dataframe\">\n",
       "  <thead>\n",
       "    <tr style=\"text-align: right;\">\n",
       "      <th></th>\n",
       "      <th>species</th>\n",
       "      <th>from</th>\n",
       "      <th>date</th>\n",
       "      <th>qty</th>\n",
       "      <th>1kg price</th>\n",
       "      <th>year</th>\n",
       "      <th>month</th>\n",
       "      <th>day</th>\n",
       "    </tr>\n",
       "  </thead>\n",
       "  <tbody>\n",
       "    <tr>\n",
       "      <th>0</th>\n",
       "      <td>(선)삼치</td>\n",
       "      <td>통영</td>\n",
       "      <td>2006.03.21</td>\n",
       "      <td>169.5</td>\n",
       "      <td>4900.00</td>\n",
       "      <td>2006</td>\n",
       "      <td>03</td>\n",
       "      <td>21</td>\n",
       "    </tr>\n",
       "    <tr>\n",
       "      <th>1</th>\n",
       "      <td>(선)삼치</td>\n",
       "      <td>부산(기장)</td>\n",
       "      <td>2006.03.21</td>\n",
       "      <td>120.1</td>\n",
       "      <td>3000.00</td>\n",
       "      <td>2006</td>\n",
       "      <td>03</td>\n",
       "      <td>21</td>\n",
       "    </tr>\n",
       "    <tr>\n",
       "      <th>2</th>\n",
       "      <td>(선)삼치</td>\n",
       "      <td>통영</td>\n",
       "      <td>2006.03.22</td>\n",
       "      <td>8.0</td>\n",
       "      <td>750.00</td>\n",
       "      <td>2006</td>\n",
       "      <td>03</td>\n",
       "      <td>22</td>\n",
       "    </tr>\n",
       "    <tr>\n",
       "      <th>3</th>\n",
       "      <td>(선)삼치</td>\n",
       "      <td>통영</td>\n",
       "      <td>2006.03.22</td>\n",
       "      <td>18.6</td>\n",
       "      <td>8500.00</td>\n",
       "      <td>2006</td>\n",
       "      <td>03</td>\n",
       "      <td>22</td>\n",
       "    </tr>\n",
       "    <tr>\n",
       "      <th>4</th>\n",
       "      <td>(선)삼치</td>\n",
       "      <td>부산(기장)</td>\n",
       "      <td>2006.03.22</td>\n",
       "      <td>49.4</td>\n",
       "      <td>3900.00</td>\n",
       "      <td>2006</td>\n",
       "      <td>03</td>\n",
       "      <td>22</td>\n",
       "    </tr>\n",
       "    <tr>\n",
       "      <th>...</th>\n",
       "      <td>...</td>\n",
       "      <td>...</td>\n",
       "      <td>...</td>\n",
       "      <td>...</td>\n",
       "      <td>...</td>\n",
       "      <td>...</td>\n",
       "      <td>...</td>\n",
       "      <td>...</td>\n",
       "    </tr>\n",
       "    <tr>\n",
       "      <th>90151</th>\n",
       "      <td>(선)삼치</td>\n",
       "      <td>추자도</td>\n",
       "      <td>2021.04.07</td>\n",
       "      <td>20.0</td>\n",
       "      <td>9000.00</td>\n",
       "      <td>2021</td>\n",
       "      <td>04</td>\n",
       "      <td>07</td>\n",
       "    </tr>\n",
       "    <tr>\n",
       "      <th>90152</th>\n",
       "      <td>(선)삼치</td>\n",
       "      <td>포항</td>\n",
       "      <td>2021.04.07</td>\n",
       "      <td>320.0</td>\n",
       "      <td>9800.00</td>\n",
       "      <td>2021</td>\n",
       "      <td>04</td>\n",
       "      <td>07</td>\n",
       "    </tr>\n",
       "    <tr>\n",
       "      <th>90153</th>\n",
       "      <td>(선)삼치</td>\n",
       "      <td>감포</td>\n",
       "      <td>2021.04.08</td>\n",
       "      <td>1232.7</td>\n",
       "      <td>8400.00</td>\n",
       "      <td>2021</td>\n",
       "      <td>04</td>\n",
       "      <td>08</td>\n",
       "    </tr>\n",
       "    <tr>\n",
       "      <th>90154</th>\n",
       "      <td>(선)삼치</td>\n",
       "      <td>포항</td>\n",
       "      <td>2021.04.08</td>\n",
       "      <td>378.9</td>\n",
       "      <td>9800.00</td>\n",
       "      <td>2021</td>\n",
       "      <td>04</td>\n",
       "      <td>08</td>\n",
       "    </tr>\n",
       "    <tr>\n",
       "      <th>90155</th>\n",
       "      <td>(냉)삼치</td>\n",
       "      <td>마산</td>\n",
       "      <td>2021.04.08</td>\n",
       "      <td>150.0</td>\n",
       "      <td>4566.67</td>\n",
       "      <td>2021</td>\n",
       "      <td>04</td>\n",
       "      <td>08</td>\n",
       "    </tr>\n",
       "  </tbody>\n",
       "</table>\n",
       "<p>90156 rows × 8 columns</p>\n",
       "</div>"
      ],
      "text/plain": [
       "      species    from        date     qty  1kg price  year month day\n",
       "0       (선)삼치      통영  2006.03.21   169.5    4900.00  2006    03  21\n",
       "1       (선)삼치  부산(기장)  2006.03.21   120.1    3000.00  2006    03  21\n",
       "2       (선)삼치      통영  2006.03.22     8.0     750.00  2006    03  22\n",
       "3       (선)삼치      통영  2006.03.22    18.6    8500.00  2006    03  22\n",
       "4       (선)삼치  부산(기장)  2006.03.22    49.4    3900.00  2006    03  22\n",
       "...       ...     ...         ...     ...        ...   ...   ...  ..\n",
       "90151   (선)삼치     추자도  2021.04.07    20.0    9000.00  2021    04  07\n",
       "90152   (선)삼치      포항  2021.04.07   320.0    9800.00  2021    04  07\n",
       "90153   (선)삼치      감포  2021.04.08  1232.7    8400.00  2021    04  08\n",
       "90154   (선)삼치      포항  2021.04.08   378.9    9800.00  2021    04  08\n",
       "90155   (냉)삼치      마산  2021.04.08   150.0    4566.67  2021    04  08\n",
       "\n",
       "[90156 rows x 8 columns]"
      ]
     },
     "execution_count": 63,
     "metadata": {},
     "output_type": "execute_result"
    }
   ],
   "source": [
    "data"
   ]
  },
  {
   "cell_type": "code",
   "execution_count": 64,
   "metadata": {
    "ExecuteTime": {
     "end_time": "2021-04-20T06:51:15.004984Z",
     "start_time": "2021-04-20T06:51:14.929683Z"
    }
   },
   "outputs": [
    {
     "data": {
      "text/html": [
       "<div>\n",
       "<style scoped>\n",
       "    .dataframe tbody tr th:only-of-type {\n",
       "        vertical-align: middle;\n",
       "    }\n",
       "\n",
       "    .dataframe tbody tr th {\n",
       "        vertical-align: top;\n",
       "    }\n",
       "\n",
       "    .dataframe thead th {\n",
       "        text-align: right;\n",
       "    }\n",
       "</style>\n",
       "<table border=\"1\" class=\"dataframe\">\n",
       "  <thead>\n",
       "    <tr style=\"text-align: right;\">\n",
       "      <th></th>\n",
       "      <th>qty</th>\n",
       "      <th>1kg price</th>\n",
       "    </tr>\n",
       "    <tr>\n",
       "      <th>species</th>\n",
       "      <th></th>\n",
       "      <th></th>\n",
       "    </tr>\n",
       "  </thead>\n",
       "  <tbody>\n",
       "    <tr>\n",
       "      <th>(선)삼치</th>\n",
       "      <td>36944688.28</td>\n",
       "      <td>2.251146e+08</td>\n",
       "    </tr>\n",
       "    <tr>\n",
       "      <th>(냉)삼치</th>\n",
       "      <td>6923590.00</td>\n",
       "      <td>1.429320e+07</td>\n",
       "    </tr>\n",
       "    <tr>\n",
       "      <th>(선)줄삼치</th>\n",
       "      <td>310460.90</td>\n",
       "      <td>3.391693e+06</td>\n",
       "    </tr>\n",
       "    <tr>\n",
       "      <th>(선)꼬치삼치</th>\n",
       "      <td>5099.30</td>\n",
       "      <td>2.127277e+04</td>\n",
       "    </tr>\n",
       "    <tr>\n",
       "      <th>(활)꼬치삼치</th>\n",
       "      <td>370.10</td>\n",
       "      <td>5.800000e+03</td>\n",
       "    </tr>\n",
       "    <tr>\n",
       "      <th>(냉)줄삼치</th>\n",
       "      <td>245.00</td>\n",
       "      <td>3.476470e+03</td>\n",
       "    </tr>\n",
       "    <tr>\n",
       "      <th>(선)홍삼치</th>\n",
       "      <td>166.00</td>\n",
       "      <td>1.625000e+03</td>\n",
       "    </tr>\n",
       "    <tr>\n",
       "      <th>(선)동갈삼치</th>\n",
       "      <td>20.00</td>\n",
       "      <td>7.000000e+02</td>\n",
       "    </tr>\n",
       "    <tr>\n",
       "      <th>(활)홍삼치</th>\n",
       "      <td>20.00</td>\n",
       "      <td>2.600000e+04</td>\n",
       "    </tr>\n",
       "  </tbody>\n",
       "</table>\n",
       "</div>"
      ],
      "text/plain": [
       "                 qty     1kg price\n",
       "species                           \n",
       "(선)삼치    36944688.28  2.251146e+08\n",
       "(냉)삼치     6923590.00  1.429320e+07\n",
       "(선)줄삼치     310460.90  3.391693e+06\n",
       "(선)꼬치삼치      5099.30  2.127277e+04\n",
       "(활)꼬치삼치       370.10  5.800000e+03\n",
       "(냉)줄삼치        245.00  3.476470e+03\n",
       "(선)홍삼치        166.00  1.625000e+03\n",
       "(선)동갈삼치        20.00  7.000000e+02\n",
       "(활)홍삼치         20.00  2.600000e+04"
      ]
     },
     "execution_count": 64,
     "metadata": {},
     "output_type": "execute_result"
    }
   ],
   "source": [
    "data.groupby('species').sum().sort_values('qty', ascending=False).head(20)"
   ]
  },
  {
   "cell_type": "code",
   "execution_count": 66,
   "metadata": {
    "ExecuteTime": {
     "end_time": "2021-04-20T06:51:57.468947Z",
     "start_time": "2021-04-20T06:51:57.441355Z"
    }
   },
   "outputs": [
    {
     "data": {
      "text/html": [
       "<div>\n",
       "<style scoped>\n",
       "    .dataframe tbody tr th:only-of-type {\n",
       "        vertical-align: middle;\n",
       "    }\n",
       "\n",
       "    .dataframe tbody tr th {\n",
       "        vertical-align: top;\n",
       "    }\n",
       "\n",
       "    .dataframe thead th {\n",
       "        text-align: right;\n",
       "    }\n",
       "</style>\n",
       "<table border=\"1\" class=\"dataframe\">\n",
       "  <thead>\n",
       "    <tr style=\"text-align: right;\">\n",
       "      <th></th>\n",
       "      <th>qty</th>\n",
       "      <th>1kg price</th>\n",
       "    </tr>\n",
       "    <tr>\n",
       "      <th>species</th>\n",
       "      <th></th>\n",
       "      <th></th>\n",
       "    </tr>\n",
       "  </thead>\n",
       "  <tbody>\n",
       "    <tr>\n",
       "      <th>(선)삼치</th>\n",
       "      <td>36944688.28</td>\n",
       "      <td>2732.80</td>\n",
       "    </tr>\n",
       "    <tr>\n",
       "      <th>(냉)삼치</th>\n",
       "      <td>6923590.00</td>\n",
       "      <td>2551.45</td>\n",
       "    </tr>\n",
       "    <tr>\n",
       "      <th>(선)줄삼치</th>\n",
       "      <td>310460.90</td>\n",
       "      <td>1585.64</td>\n",
       "    </tr>\n",
       "    <tr>\n",
       "      <th>(선)꼬치삼치</th>\n",
       "      <td>5099.30</td>\n",
       "      <td>709.09</td>\n",
       "    </tr>\n",
       "    <tr>\n",
       "      <th>(활)꼬치삼치</th>\n",
       "      <td>370.10</td>\n",
       "      <td>5800.00</td>\n",
       "    </tr>\n",
       "    <tr>\n",
       "      <th>(냉)줄삼치</th>\n",
       "      <td>245.00</td>\n",
       "      <td>1158.82</td>\n",
       "    </tr>\n",
       "    <tr>\n",
       "      <th>(선)홍삼치</th>\n",
       "      <td>166.00</td>\n",
       "      <td>541.67</td>\n",
       "    </tr>\n",
       "    <tr>\n",
       "      <th>(선)동갈삼치</th>\n",
       "      <td>20.00</td>\n",
       "      <td>700.00</td>\n",
       "    </tr>\n",
       "    <tr>\n",
       "      <th>(활)홍삼치</th>\n",
       "      <td>20.00</td>\n",
       "      <td>13000.00</td>\n",
       "    </tr>\n",
       "  </tbody>\n",
       "</table>\n",
       "</div>"
      ],
      "text/plain": [
       "                 qty  1kg price\n",
       "species                        \n",
       "(선)삼치    36944688.28    2732.80\n",
       "(냉)삼치     6923590.00    2551.45\n",
       "(선)줄삼치     310460.90    1585.64\n",
       "(선)꼬치삼치      5099.30     709.09\n",
       "(활)꼬치삼치       370.10    5800.00\n",
       "(냉)줄삼치        245.00    1158.82\n",
       "(선)홍삼치        166.00     541.67\n",
       "(선)동갈삼치        20.00     700.00\n",
       "(활)홍삼치         20.00   13000.00"
      ]
     },
     "execution_count": 66,
     "metadata": {},
     "output_type": "execute_result"
    }
   ],
   "source": [
    "grouped = data.groupby('species')\n",
    "species = grouped.agg({'qty': 'sum', '1kg price' : 'mean'}).round(2)\n",
    "species.sort_values('qty',ascending=False)"
   ]
  },
  {
   "cell_type": "code",
   "execution_count": 69,
   "metadata": {
    "ExecuteTime": {
     "end_time": "2021-04-20T06:53:36.891726Z",
     "start_time": "2021-04-20T06:53:36.692976Z"
    }
   },
   "outputs": [
    {
     "data": {
      "text/plain": [
       "<BarContainer object of 9 artists>"
      ]
     },
     "execution_count": 69,
     "metadata": {},
     "output_type": "execute_result"
    },
    {
     "data": {
      "image/png": "[encoded data removed]",
      "text/plain": [
       "<Figure size 432x288 with 1 Axes>"
      ]
     },
     "metadata": {
      "needs_background": "light"
     },
     "output_type": "display_data"
    }
   ],
   "source": [
    "plt.bar(species.index,species['qty'])"
   ]
  },
  {
   "cell_type": "code",
   "execution_count": 75,
   "metadata": {
    "ExecuteTime": {
     "end_time": "2021-04-20T06:56:18.306768Z",
     "start_time": "2021-04-20T06:56:18.295641Z"
    }
   },
   "outputs": [],
   "source": [
    "a = species.sort_values('qty',ascending=False).tail(6).index"
   ]
  },
  {
   "cell_type": "code",
   "execution_count": 79,
   "metadata": {
    "ExecuteTime": {
     "end_time": "2021-04-20T06:56:50.443472Z",
     "start_time": "2021-04-20T06:56:50.428569Z"
    }
   },
   "outputs": [
    {
     "data": {
      "text/plain": [
       "array(['(선)삼치', '(냉)삼치', '(선)꼬치삼치', '(선)줄삼치', '(활)홍삼치', '(선)홍삼치',\n",
       "       '(선)동갈삼치', '(활)꼬치삼치', '(냉)줄삼치'], dtype=object)"
      ]
     },
     "execution_count": 79,
     "metadata": {},
     "output_type": "execute_result"
    }
   ],
   "source": [
    "data['species'].unique()"
   ]
  },
  {
   "cell_type": "code",
   "execution_count": 96,
   "metadata": {
    "ExecuteTime": {
     "end_time": "2021-04-20T07:03:54.511306Z",
     "start_time": "2021-04-20T07:03:54.462215Z"
    }
   },
   "outputs": [],
   "source": [
    "a = data[(data['species']=='(냉)줄삼치')|(data['species']=='(선)동갈삼치')|(data['species']=='(선)홍참치')|(data['species']=='(냉)줄삼치')|(data['species']=='(활)홍삼치')|(data['species']=='(선)홍삼치')|(data['species']=='(활)꼬치삼치')|(data['species']=='(선)꼬치삼치')].index"
   ]
  },
  {
   "cell_type": "code",
   "execution_count": 97,
   "metadata": {
    "ExecuteTime": {
     "end_time": "2021-04-20T07:03:57.620713Z",
     "start_time": "2021-04-20T07:03:57.613600Z"
    }
   },
   "outputs": [
    {
     "data": {
      "text/plain": [
       "array([  332,  1705,  8983,  9040,  9874,  9903, 10118, 13893, 14424,\n",
       "       14425, 14871, 23769, 37024, 38774, 39431, 40378, 40485, 41739,\n",
       "       53256, 58998, 59065, 59085, 59101, 59107, 59284, 59419, 59666,\n",
       "       59706, 59727, 59930, 59931, 59946, 60463, 60596, 60870, 61267,\n",
       "       61847, 61880, 61881, 63083], dtype=int64)"
      ]
     },
     "execution_count": 97,
     "metadata": {},
     "output_type": "execute_result"
    }
   ],
   "source": [
    "a.values"
   ]
  },
  {
   "cell_type": "code",
   "execution_count": 98,
   "metadata": {
    "ExecuteTime": {
     "end_time": "2021-04-20T07:03:59.801958Z",
     "start_time": "2021-04-20T07:03:59.762718Z"
    }
   },
   "outputs": [
    {
     "data": {
      "text/plain": [
       "(90116, 8)"
      ]
     },
     "execution_count": 98,
     "metadata": {},
     "output_type": "execute_result"
    }
   ],
   "source": [
    "data_f = data.drop(a,axis=0)\n",
    "data_f.shape"
   ]
  },
  {
   "cell_type": "code",
   "execution_count": 99,
   "metadata": {
    "ExecuteTime": {
     "end_time": "2021-04-20T07:04:01.067639Z",
     "start_time": "2021-04-20T07:04:01.025479Z"
    }
   },
   "outputs": [
    {
     "data": {
      "text/html": [
       "<div>\n",
       "<style scoped>\n",
       "    .dataframe tbody tr th:only-of-type {\n",
       "        vertical-align: middle;\n",
       "    }\n",
       "\n",
       "    .dataframe tbody tr th {\n",
       "        vertical-align: top;\n",
       "    }\n",
       "\n",
       "    .dataframe thead th {\n",
       "        text-align: right;\n",
       "    }\n",
       "</style>\n",
       "<table border=\"1\" class=\"dataframe\">\n",
       "  <thead>\n",
       "    <tr style=\"text-align: right;\">\n",
       "      <th></th>\n",
       "      <th>qty</th>\n",
       "      <th>1kg price</th>\n",
       "    </tr>\n",
       "    <tr>\n",
       "      <th>species</th>\n",
       "      <th></th>\n",
       "      <th></th>\n",
       "    </tr>\n",
       "  </thead>\n",
       "  <tbody>\n",
       "    <tr>\n",
       "      <th>(선)삼치</th>\n",
       "      <td>36944688.28</td>\n",
       "      <td>2732.80</td>\n",
       "    </tr>\n",
       "    <tr>\n",
       "      <th>(냉)삼치</th>\n",
       "      <td>6923590.00</td>\n",
       "      <td>2551.45</td>\n",
       "    </tr>\n",
       "    <tr>\n",
       "      <th>(선)줄삼치</th>\n",
       "      <td>310460.90</td>\n",
       "      <td>1585.64</td>\n",
       "    </tr>\n",
       "  </tbody>\n",
       "</table>\n",
       "</div>"
      ],
      "text/plain": [
       "                 qty  1kg price\n",
       "species                        \n",
       "(선)삼치    36944688.28    2732.80\n",
       "(냉)삼치     6923590.00    2551.45\n",
       "(선)줄삼치     310460.90    1585.64"
      ]
     },
     "execution_count": 99,
     "metadata": {},
     "output_type": "execute_result"
    }
   ],
   "source": [
    "grouped1 = data_f.groupby('species')\n",
    "species1 = grouped1.agg({'qty': 'sum', '1kg price' : 'mean'}).round(2)\n",
    "species1.sort_values('qty',ascending=False)"
   ]
  },
  {
   "cell_type": "code",
   "execution_count": 100,
   "metadata": {
    "ExecuteTime": {
     "end_time": "2021-04-20T07:04:14.472581Z",
     "start_time": "2021-04-20T07:04:14.338614Z"
    },
    "scrolled": true
   },
   "outputs": [
    {
     "data": {
      "text/plain": [
       "<BarContainer object of 3 artists>"
      ]
     },
     "execution_count": 100,
     "metadata": {},
     "output_type": "execute_result"
    },
    {
     "data": {
      "image/png": "[encoded data removed]",
      "text/plain": [
       "<Figure size 432x288 with 1 Axes>"
      ]
     },
     "metadata": {
      "needs_background": "light"
     },
     "output_type": "display_data"
    }
   ],
   "source": [
    "plt.bar(species1.index,species1['qty'])"
   ]
  },
  {
   "cell_type": "code",
   "execution_count": 102,
   "metadata": {
    "ExecuteTime": {
     "end_time": "2021-04-20T07:05:24.613369Z",
     "start_time": "2021-04-20T07:05:24.565448Z"
    }
   },
   "outputs": [],
   "source": [
    "data_f = data_f.drop(data_f[data_f['species']=='(선)줄삼치'].index,axis=0)"
   ]
  },
  {
   "cell_type": "code",
   "execution_count": 103,
   "metadata": {
    "ExecuteTime": {
     "end_time": "2021-04-20T07:05:33.309922Z",
     "start_time": "2021-04-20T07:05:33.274847Z"
    }
   },
   "outputs": [
    {
     "data": {
      "text/html": [
       "<div>\n",
       "<style scoped>\n",
       "    .dataframe tbody tr th:only-of-type {\n",
       "        vertical-align: middle;\n",
       "    }\n",
       "\n",
       "    .dataframe tbody tr th {\n",
       "        vertical-align: top;\n",
       "    }\n",
       "\n",
       "    .dataframe thead th {\n",
       "        text-align: right;\n",
       "    }\n",
       "</style>\n",
       "<table border=\"1\" class=\"dataframe\">\n",
       "  <thead>\n",
       "    <tr style=\"text-align: right;\">\n",
       "      <th></th>\n",
       "      <th>qty</th>\n",
       "      <th>1kg price</th>\n",
       "    </tr>\n",
       "    <tr>\n",
       "      <th>species</th>\n",
       "      <th></th>\n",
       "      <th></th>\n",
       "    </tr>\n",
       "  </thead>\n",
       "  <tbody>\n",
       "    <tr>\n",
       "      <th>(선)삼치</th>\n",
       "      <td>36944688.28</td>\n",
       "      <td>2732.80</td>\n",
       "    </tr>\n",
       "    <tr>\n",
       "      <th>(냉)삼치</th>\n",
       "      <td>6923590.00</td>\n",
       "      <td>2551.45</td>\n",
       "    </tr>\n",
       "  </tbody>\n",
       "</table>\n",
       "</div>"
      ],
      "text/plain": [
       "                 qty  1kg price\n",
       "species                        \n",
       "(선)삼치    36944688.28    2732.80\n",
       "(냉)삼치     6923590.00    2551.45"
      ]
     },
     "execution_count": 103,
     "metadata": {},
     "output_type": "execute_result"
    }
   ],
   "source": [
    "grouped1 = data_f.groupby('species')\n",
    "species1 = grouped1.agg({'qty': 'sum', '1kg price' : 'mean'}).round(2)\n",
    "species1.sort_values('qty',ascending=False)"
   ]
  },
  {
   "cell_type": "code",
   "execution_count": null,
   "metadata": {},
   "outputs": [],
   "source": [
    "# 지역 이상치 삭제"
   ]
  },
  {
   "cell_type": "code",
   "execution_count": 124,
   "metadata": {
    "ExecuteTime": {
     "end_time": "2021-04-20T07:11:01.645123Z",
     "start_time": "2021-04-20T07:11:01.618023Z"
    }
   },
   "outputs": [
    {
     "data": {
      "text/html": [
       "<div>\n",
       "<style scoped>\n",
       "    .dataframe tbody tr th:only-of-type {\n",
       "        vertical-align: middle;\n",
       "    }\n",
       "\n",
       "    .dataframe tbody tr th {\n",
       "        vertical-align: top;\n",
       "    }\n",
       "\n",
       "    .dataframe thead th {\n",
       "        text-align: right;\n",
       "    }\n",
       "</style>\n",
       "<table border=\"1\" class=\"dataframe\">\n",
       "  <thead>\n",
       "    <tr style=\"text-align: right;\">\n",
       "      <th></th>\n",
       "      <th>qty</th>\n",
       "      <th>1kg price</th>\n",
       "    </tr>\n",
       "    <tr>\n",
       "      <th>from</th>\n",
       "      <th></th>\n",
       "      <th></th>\n",
       "    </tr>\n",
       "  </thead>\n",
       "  <tbody>\n",
       "    <tr>\n",
       "      <th>부산(기장)</th>\n",
       "      <td>14462378.20</td>\n",
       "      <td>2434.99</td>\n",
       "    </tr>\n",
       "    <tr>\n",
       "      <th>여수</th>\n",
       "      <td>6353602.10</td>\n",
       "      <td>2240.28</td>\n",
       "    </tr>\n",
       "    <tr>\n",
       "      <th>삼천포</th>\n",
       "      <td>5503433.48</td>\n",
       "      <td>2661.87</td>\n",
       "    </tr>\n",
       "    <tr>\n",
       "      <th>통영</th>\n",
       "      <td>4317641.44</td>\n",
       "      <td>2160.61</td>\n",
       "    </tr>\n",
       "    <tr>\n",
       "      <th>마산</th>\n",
       "      <td>2320936.00</td>\n",
       "      <td>2596.91</td>\n",
       "    </tr>\n",
       "    <tr>\n",
       "      <th>포항</th>\n",
       "      <td>1616179.74</td>\n",
       "      <td>3147.55</td>\n",
       "    </tr>\n",
       "    <tr>\n",
       "      <th>강구</th>\n",
       "      <td>1438411.40</td>\n",
       "      <td>2971.37</td>\n",
       "    </tr>\n",
       "    <tr>\n",
       "      <th>남해</th>\n",
       "      <td>1178789.40</td>\n",
       "      <td>1241.71</td>\n",
       "    </tr>\n",
       "    <tr>\n",
       "      <th>죽변</th>\n",
       "      <td>799840.44</td>\n",
       "      <td>2700.13</td>\n",
       "    </tr>\n",
       "    <tr>\n",
       "      <th>후포</th>\n",
       "      <td>718613.00</td>\n",
       "      <td>2475.59</td>\n",
       "    </tr>\n",
       "    <tr>\n",
       "      <th>기타(국내)</th>\n",
       "      <td>531130.90</td>\n",
       "      <td>3235.10</td>\n",
       "    </tr>\n",
       "    <tr>\n",
       "      <th>축산</th>\n",
       "      <td>521447.10</td>\n",
       "      <td>2500.78</td>\n",
       "    </tr>\n",
       "    <tr>\n",
       "      <th>감포</th>\n",
       "      <td>518894.90</td>\n",
       "      <td>2929.35</td>\n",
       "    </tr>\n",
       "    <tr>\n",
       "      <th>제주도</th>\n",
       "      <td>510374.70</td>\n",
       "      <td>4335.15</td>\n",
       "    </tr>\n",
       "    <tr>\n",
       "      <th>나로도</th>\n",
       "      <td>396929.20</td>\n",
       "      <td>2947.55</td>\n",
       "    </tr>\n",
       "    <tr>\n",
       "      <th>태안</th>\n",
       "      <td>380360.00</td>\n",
       "      <td>2772.60</td>\n",
       "    </tr>\n",
       "    <tr>\n",
       "      <th>방어진</th>\n",
       "      <td>281246.20</td>\n",
       "      <td>3150.54</td>\n",
       "    </tr>\n",
       "    <tr>\n",
       "      <th>속초</th>\n",
       "      <td>248636.68</td>\n",
       "      <td>3757.96</td>\n",
       "    </tr>\n",
       "    <tr>\n",
       "      <th>동해시</th>\n",
       "      <td>225858.50</td>\n",
       "      <td>2374.39</td>\n",
       "    </tr>\n",
       "    <tr>\n",
       "      <th>보령</th>\n",
       "      <td>169708.00</td>\n",
       "      <td>3336.69</td>\n",
       "    </tr>\n",
       "  </tbody>\n",
       "</table>\n",
       "</div>"
      ],
      "text/plain": [
       "                qty  1kg price\n",
       "from                          \n",
       "부산(기장)  14462378.20    2434.99\n",
       "여수       6353602.10    2240.28\n",
       "삼천포      5503433.48    2661.87\n",
       "통영       4317641.44    2160.61\n",
       "마산       2320936.00    2596.91\n",
       "포항       1616179.74    3147.55\n",
       "강구       1438411.40    2971.37\n",
       "남해       1178789.40    1241.71\n",
       "죽변        799840.44    2700.13\n",
       "후포        718613.00    2475.59\n",
       "기타(국내)    531130.90    3235.10\n",
       "축산        521447.10    2500.78\n",
       "감포        518894.90    2929.35\n",
       "제주도       510374.70    4335.15\n",
       "나로도       396929.20    2947.55\n",
       "태안        380360.00    2772.60\n",
       "방어진       281246.20    3150.54\n",
       "속초        248636.68    3757.96\n",
       "동해시       225858.50    2374.39\n",
       "보령        169708.00    3336.69"
      ]
     },
     "execution_count": 124,
     "metadata": {},
     "output_type": "execute_result"
    }
   ],
   "source": [
    "grouped_from = data_f.groupby('from')\n",
    "species_from = grouped_from.agg({'qty': 'sum', '1kg price' : 'mean'}).round(2)\n",
    "species_from.sort_values('qty',ascending=False).head(20)"
   ]
  },
  {
   "cell_type": "code",
   "execution_count": 129,
   "metadata": {
    "ExecuteTime": {
     "end_time": "2021-04-20T07:12:42.269138Z",
     "start_time": "2021-04-20T07:12:41.493847Z"
    }
   },
   "outputs": [],
   "source": [
    "a = species_from[species_from['qty']<1000000].index\n",
    "test1 = pd.DataFrame()\n",
    "for i in a.values :\n",
    "    test = data_f[data_f['from'] == i]\n",
    "    test1 = test1.append(test)\n",
    "data_ff = data_f.drop(test1.index, axis=0)"
   ]
  },
  {
   "cell_type": "code",
   "execution_count": 130,
   "metadata": {
    "ExecuteTime": {
     "end_time": "2021-04-20T07:12:42.911054Z",
     "start_time": "2021-04-20T07:12:42.896840Z"
    }
   },
   "outputs": [
    {
     "data": {
      "text/plain": [
       "((87977, 8), (58601, 8))"
      ]
     },
     "execution_count": 130,
     "metadata": {},
     "output_type": "execute_result"
    }
   ],
   "source": [
    "data_f.shape,data_ff.shape"
   ]
  },
  {
   "cell_type": "code",
   "execution_count": 135,
   "metadata": {
    "ExecuteTime": {
     "end_time": "2021-04-20T07:13:44.152977Z",
     "start_time": "2021-04-20T07:13:44.123628Z"
    },
    "scrolled": true
   },
   "outputs": [
    {
     "data": {
      "text/html": [
       "<div>\n",
       "<style scoped>\n",
       "    .dataframe tbody tr th:only-of-type {\n",
       "        vertical-align: middle;\n",
       "    }\n",
       "\n",
       "    .dataframe tbody tr th {\n",
       "        vertical-align: top;\n",
       "    }\n",
       "\n",
       "    .dataframe thead th {\n",
       "        text-align: right;\n",
       "    }\n",
       "</style>\n",
       "<table border=\"1\" class=\"dataframe\">\n",
       "  <thead>\n",
       "    <tr style=\"text-align: right;\">\n",
       "      <th></th>\n",
       "      <th>qty</th>\n",
       "      <th>1kg price</th>\n",
       "    </tr>\n",
       "    <tr>\n",
       "      <th>from</th>\n",
       "      <th></th>\n",
       "      <th></th>\n",
       "    </tr>\n",
       "  </thead>\n",
       "  <tbody>\n",
       "    <tr>\n",
       "      <th>부산(기장)</th>\n",
       "      <td>14462378.20</td>\n",
       "      <td>2434.99</td>\n",
       "    </tr>\n",
       "    <tr>\n",
       "      <th>여수</th>\n",
       "      <td>6353602.10</td>\n",
       "      <td>2240.28</td>\n",
       "    </tr>\n",
       "    <tr>\n",
       "      <th>삼천포</th>\n",
       "      <td>5503433.48</td>\n",
       "      <td>2661.87</td>\n",
       "    </tr>\n",
       "    <tr>\n",
       "      <th>통영</th>\n",
       "      <td>4317641.44</td>\n",
       "      <td>2160.61</td>\n",
       "    </tr>\n",
       "    <tr>\n",
       "      <th>마산</th>\n",
       "      <td>2320936.00</td>\n",
       "      <td>2596.91</td>\n",
       "    </tr>\n",
       "    <tr>\n",
       "      <th>포항</th>\n",
       "      <td>1616179.74</td>\n",
       "      <td>3147.55</td>\n",
       "    </tr>\n",
       "    <tr>\n",
       "      <th>강구</th>\n",
       "      <td>1438411.40</td>\n",
       "      <td>2971.37</td>\n",
       "    </tr>\n",
       "    <tr>\n",
       "      <th>남해</th>\n",
       "      <td>1178789.40</td>\n",
       "      <td>1241.71</td>\n",
       "    </tr>\n",
       "  </tbody>\n",
       "</table>\n",
       "</div>"
      ],
      "text/plain": [
       "                qty  1kg price\n",
       "from                          \n",
       "부산(기장)  14462378.20    2434.99\n",
       "여수       6353602.10    2240.28\n",
       "삼천포      5503433.48    2661.87\n",
       "통영       4317641.44    2160.61\n",
       "마산       2320936.00    2596.91\n",
       "포항       1616179.74    3147.55\n",
       "강구       1438411.40    2971.37\n",
       "남해       1178789.40    1241.71"
      ]
     },
     "execution_count": 135,
     "metadata": {},
     "output_type": "execute_result"
    }
   ],
   "source": [
    "grouped_from1 = data_ff.groupby('from')\n",
    "species_from1 = grouped_from1.agg({'qty': 'sum', '1kg price' : 'mean'}).round(2)\n",
    "species_from1.sort_values('qty',ascending=False).head(20)"
   ]
  },
  {
   "cell_type": "code",
   "execution_count": 136,
   "metadata": {
    "ExecuteTime": {
     "end_time": "2021-04-20T07:13:47.496147Z",
     "start_time": "2021-04-20T07:13:47.322564Z"
    }
   },
   "outputs": [
    {
     "data": {
      "text/plain": [
       "<BarContainer object of 8 artists>"
      ]
     },
     "execution_count": 136,
     "metadata": {},
     "output_type": "execute_result"
    },
    {
     "data": {
      "image/png": "[encoded data removed]",
      "text/plain": [
       "<Figure size 432x288 with 1 Axes>"
      ]
     },
     "metadata": {
      "needs_background": "light"
     },
     "output_type": "display_data"
    }
   ],
   "source": [
    "plt.bar(species_from1.index,species_from1['qty'])"
   ]
  },
  {
   "cell_type": "code",
   "execution_count": 137,
   "metadata": {
    "ExecuteTime": {
     "end_time": "2021-04-20T07:15:54.501617Z",
     "start_time": "2021-04-20T07:15:54.464915Z"
    }
   },
   "outputs": [],
   "source": [
    "t = [data_ff[data_ff['species']=='(선)삼치']['1kg price'],data_ff[data_ff['species']=='(냉)삼치']['1kg price']]"
   ]
  },
  {
   "cell_type": "code",
   "execution_count": 138,
   "metadata": {
    "ExecuteTime": {
     "end_time": "2021-04-20T07:16:06.649921Z",
     "start_time": "2021-04-20T07:16:06.512057Z"
    }
   },
   "outputs": [
    {
     "data": {
      "text/plain": [
       "{'whiskers': [<matplotlib.lines.Line2D at 0x20c06a94f70>,\n",
       "  <matplotlib.lines.Line2D at 0x20c0ea6d3d0>,\n",
       "  <matplotlib.lines.Line2D at 0x20c0ea47be0>,\n",
       "  <matplotlib.lines.Line2D at 0x20c0ea72040>],\n",
       " 'caps': [<matplotlib.lines.Line2D at 0x20c0ea7d040>,\n",
       "  <matplotlib.lines.Line2D at 0x20c0ea7dd60>,\n",
       "  <matplotlib.lines.Line2D at 0x20c0ea728e0>,\n",
       "  <matplotlib.lines.Line2D at 0x20c0ea72b50>],\n",
       " 'boxes': [<matplotlib.lines.Line2D at 0x20c0ca63190>,\n",
       "  <matplotlib.lines.Line2D at 0x20c0ea6bf40>],\n",
       " 'medians': [<matplotlib.lines.Line2D at 0x20c0ea50130>,\n",
       "  <matplotlib.lines.Line2D at 0x20c020f3bb0>],\n",
       " 'fliers': [<matplotlib.lines.Line2D at 0x20c0ea50df0>,\n",
       "  <matplotlib.lines.Line2D at 0x20c0ea5ad00>],\n",
       " 'means': []}"
      ]
     },
     "execution_count": 138,
     "metadata": {},
     "output_type": "execute_result"
    },
    {
     "data": {
      "image/png": "[encoded data removed]",
      "text/plain": [
       "<Figure size 432x288 with 1 Axes>"
      ]
     },
     "metadata": {
      "needs_background": "light"
     },
     "output_type": "display_data"
    }
   ],
   "source": [
    "plt.boxplot(t)"
   ]
  },
  {
   "cell_type": "code",
   "execution_count": 140,
   "metadata": {
    "ExecuteTime": {
     "end_time": "2021-04-20T07:18:08.502132Z",
     "start_time": "2021-04-20T07:18:08.378392Z"
    }
   },
   "outputs": [
    {
     "data": {
      "text/plain": [
       "{'whiskers': [<matplotlib.lines.Line2D at 0x20c0473f580>,\n",
       "  <matplotlib.lines.Line2D at 0x20c0210c820>],\n",
       " 'caps': [<matplotlib.lines.Line2D at 0x20c0351afa0>,\n",
       "  <matplotlib.lines.Line2D at 0x20c0351aaf0>],\n",
       " 'boxes': [<matplotlib.lines.Line2D at 0x20c0473fa30>],\n",
       " 'medians': [<matplotlib.lines.Line2D at 0x20c0e85db50>],\n",
       " 'fliers': [<matplotlib.lines.Line2D at 0x20c03869c70>],\n",
       " 'means': []}"
      ]
     },
     "execution_count": 140,
     "metadata": {},
     "output_type": "execute_result"
    },
    {
     "data": {
      "image/png": "[encoded data removed]",
      "text/plain": [
       "<Figure size 432x288 with 1 Axes>"
      ]
     },
     "metadata": {
      "needs_background": "light"
     },
     "output_type": "display_data"
    }
   ],
   "source": [
    "plt.boxplot(data_ff['1kg price'])"
   ]
  },
  {
   "cell_type": "code",
   "execution_count": 142,
   "metadata": {
    "ExecuteTime": {
     "end_time": "2021-04-20T07:19:15.361483Z",
     "start_time": "2021-04-20T07:19:15.317337Z"
    }
   },
   "outputs": [],
   "source": [
    "pd.qcut(data_ff['1kg price'], 4, ['q1','q2','q3','q4'])\n",
    "Q1 = (data_ff['1kg price']).quantile(.25)\n",
    "Q2 = (data_ff['1kg price']).quantile(.5)\n",
    "Q3 = (data_ff['1kg price']).quantile(.75)\n",
    "Q1,Q2,Q3\n",
    "IQR = Q3-Q1\n",
    "IQR\n",
    "min = Q1-1.5*IQR\n",
    "max = (Q3+1.5*IQR).round(2)\n",
    "min, max\n",
    "data_ff = data_ff[data_ff['1kg price']<=max]"
   ]
  },
  {
   "cell_type": "code",
   "execution_count": 144,
   "metadata": {
    "ExecuteTime": {
     "end_time": "2021-04-20T07:19:31.289090Z",
     "start_time": "2021-04-20T07:19:31.155699Z"
    }
   },
   "outputs": [
    {
     "data": {
      "text/plain": [
       "{'whiskers': [<matplotlib.lines.Line2D at 0x20c0b72ce20>,\n",
       "  <matplotlib.lines.Line2D at 0x20c030d1400>],\n",
       " 'caps': [<matplotlib.lines.Line2D at 0x20c0ca833a0>,\n",
       "  <matplotlib.lines.Line2D at 0x20c06383340>],\n",
       " 'boxes': [<matplotlib.lines.Line2D at 0x20c0ea72f40>],\n",
       " 'medians': [<matplotlib.lines.Line2D at 0x20c0cbe8b80>],\n",
       " 'fliers': [<matplotlib.lines.Line2D at 0x20c0eb21a90>],\n",
       " 'means': []}"
      ]
     },
     "execution_count": 144,
     "metadata": {},
     "output_type": "execute_result"
    },
    {
     "data": {
      "image/png": "[encoded data removed]",
      "text/plain": [
       "<Figure size 432x288 with 1 Axes>"
      ]
     },
     "metadata": {
      "needs_background": "light"
     },
     "output_type": "display_data"
    }
   ],
   "source": [
    "plt.boxplot(data_ff['1kg price'])"
   ]
  },
  {
   "cell_type": "code",
   "execution_count": 145,
   "metadata": {
    "ExecuteTime": {
     "end_time": "2021-04-20T07:19:47.125981Z",
     "start_time": "2021-04-20T07:19:46.965905Z"
    }
   },
   "outputs": [
    {
     "data": {
      "text/plain": [
       "{'whiskers': [<matplotlib.lines.Line2D at 0x20c067bb610>,\n",
       "  <matplotlib.lines.Line2D at 0x20c0ec825e0>,\n",
       "  <matplotlib.lines.Line2D at 0x20c0cbf6c40>,\n",
       "  <matplotlib.lines.Line2D at 0x20c0cbf6dc0>],\n",
       " 'caps': [<matplotlib.lines.Line2D at 0x20c0ed56250>,\n",
       "  <matplotlib.lines.Line2D at 0x20c0ed56dc0>,\n",
       "  <matplotlib.lines.Line2D at 0x20c0e82de80>,\n",
       "  <matplotlib.lines.Line2D at 0x20c0e82d730>],\n",
       " 'boxes': [<matplotlib.lines.Line2D at 0x20c0ea43550>,\n",
       "  <matplotlib.lines.Line2D at 0x20c0cbf6b80>],\n",
       " 'medians': [<matplotlib.lines.Line2D at 0x20c0ed56ee0>,\n",
       "  <matplotlib.lines.Line2D at 0x20c0e82d340>],\n",
       " 'fliers': [<matplotlib.lines.Line2D at 0x20c0cbf67c0>,\n",
       "  <matplotlib.lines.Line2D at 0x20c0c8bed90>],\n",
       " 'means': []}"
      ]
     },
     "execution_count": 145,
     "metadata": {},
     "output_type": "execute_result"
    },
    {
     "data": {
      "image/png": "[encoded data removed]",
      "text/plain": [
       "<Figure size 432x288 with 1 Axes>"
      ]
     },
     "metadata": {
      "needs_background": "light"
     },
     "output_type": "display_data"
    }
   ],
   "source": [
    "t = [data_ff[data_ff['species']=='(선)삼치']['1kg price'],data_ff[data_ff['species']=='(냉)삼치']['1kg price']]\n",
    "plt.boxplot(t)"
   ]
  },
  {
   "cell_type": "code",
   "execution_count": 149,
   "metadata": {
    "ExecuteTime": {
     "end_time": "2021-04-20T07:21:13.070559Z",
     "start_time": "2021-04-20T07:21:12.805790Z"
    }
   },
   "outputs": [],
   "source": [
    "data_ff.to_csv('./final/(0420)삼치_outlier_delete.csv')"
   ]
  }
 ],
 "metadata": {
  "kernelspec": {
   "display_name": "Python 3",
   "language": "python",
   "name": "python3"
  },
  "language_info": {
   "codemirror_mode": {
    "name": "ipython",
    "version": 3
   },
   "file_extension": ".py",
   "mimetype": "text/x-python",
   "name": "python",
   "nbconvert_exporter": "python",
   "pygments_lexer": "ipython3",
   "version": "3.8.5"
  },
  "toc": {
   "base_numbering": 1,
   "nav_menu": {},
   "number_sections": true,
   "sideBar": true,
   "skip_h1_title": false,
   "title_cell": "Table of Contents",
   "title_sidebar": "Contents",
   "toc_cell": false,
   "toc_position": {},
   "toc_section_display": true,
   "toc_window_display": false
  },
  "varInspector": {
   "cols": {
    "lenName": 16,
    "lenType": 16,
    "lenVar": 40
   },
   "kernels_config": {
    "python": {
     "delete_cmd_postfix": "",
     "delete_cmd_prefix": "del ",
     "library": "var_list.py",
     "varRefreshCmd": "print(var_dic_list())"
    },
    "r": {
     "delete_cmd_postfix": ") ",
     "delete_cmd_prefix": "rm(",
     "library": "var_list.r",
     "varRefreshCmd": "cat(var_dic_list()) "
    }
   },
   "types_to_exclude": [
    "module",
    "function",
    "builtin_function_or_method",
    "instance",
    "_Feature"
   ],
   "window_display": false
  }
 },
 "nbformat": 4,
 "nbformat_minor": 4
}
