{
 "cells": [
  {
   "cell_type": "code",
   "execution_count": 1,
   "metadata": {
    "ExecuteTime": {
     "end_time": "2021-04-15T05:29:08.371226Z",
     "start_time": "2021-04-15T05:29:07.404850Z"
    }
   },
   "outputs": [],
   "source": [
    "import pandas as pd\n",
    "import numpy as np\n",
    "import string\n",
    "import matplotlib.pyplot as plt\n",
    "%matplotlib inline"
   ]
  },
  {
   "cell_type": "code",
   "execution_count": 3,
   "metadata": {
    "ExecuteTime": {
     "end_time": "2021-04-15T05:29:13.264476Z",
     "start_time": "2021-04-15T05:29:13.153642Z"
    }
   },
   "outputs": [],
   "source": [
    "data = pd.read_csv('./final/깐굴_outlier_delete.csv', index_col=0)"
   ]
  },
  {
   "cell_type": "code",
   "execution_count": 4,
   "metadata": {
    "ExecuteTime": {
     "end_time": "2021-04-15T05:29:14.745439Z",
     "start_time": "2021-04-15T05:29:14.706054Z"
    }
   },
   "outputs": [
    {
     "data": {
      "text/html": [
       "<div>\n",
       "<style scoped>\n",
       "    .dataframe tbody tr th:only-of-type {\n",
       "        vertical-align: middle;\n",
       "    }\n",
       "\n",
       "    .dataframe tbody tr th {\n",
       "        vertical-align: top;\n",
       "    }\n",
       "\n",
       "    .dataframe thead th {\n",
       "        text-align: right;\n",
       "    }\n",
       "</style>\n",
       "<table border=\"1\" class=\"dataframe\">\n",
       "  <thead>\n",
       "    <tr style=\"text-align: right;\">\n",
       "      <th></th>\n",
       "      <th>어종</th>\n",
       "      <th>산지</th>\n",
       "      <th>평균가</th>\n",
       "      <th>최종수량</th>\n",
       "      <th>year</th>\n",
       "      <th>month</th>\n",
       "      <th>day</th>\n",
       "      <th>date</th>\n",
       "      <th>1kg price</th>\n",
       "    </tr>\n",
       "  </thead>\n",
       "  <tbody>\n",
       "    <tr>\n",
       "      <th>0</th>\n",
       "      <td>(선)깐굴</td>\n",
       "      <td>삼천포</td>\n",
       "      <td>11000</td>\n",
       "      <td>7.4</td>\n",
       "      <td>2006</td>\n",
       "      <td>4</td>\n",
       "      <td>4</td>\n",
       "      <td>2006.04</td>\n",
       "      <td>2972.97</td>\n",
       "    </tr>\n",
       "    <tr>\n",
       "      <th>1</th>\n",
       "      <td>(선)깐굴</td>\n",
       "      <td>고흥</td>\n",
       "      <td>17000</td>\n",
       "      <td>120.0</td>\n",
       "      <td>2006</td>\n",
       "      <td>4</td>\n",
       "      <td>4</td>\n",
       "      <td>2006.04</td>\n",
       "      <td>4250.00</td>\n",
       "    </tr>\n",
       "    <tr>\n",
       "      <th>2</th>\n",
       "      <td>(선)깐굴</td>\n",
       "      <td>삼천포</td>\n",
       "      <td>17000</td>\n",
       "      <td>87.0</td>\n",
       "      <td>2006</td>\n",
       "      <td>4</td>\n",
       "      <td>4</td>\n",
       "      <td>2006.04</td>\n",
       "      <td>5862.07</td>\n",
       "    </tr>\n",
       "    <tr>\n",
       "      <th>3</th>\n",
       "      <td>(선)깐굴</td>\n",
       "      <td>북한</td>\n",
       "      <td>9000</td>\n",
       "      <td>60.0</td>\n",
       "      <td>2006</td>\n",
       "      <td>4</td>\n",
       "      <td>4</td>\n",
       "      <td>2006.04</td>\n",
       "      <td>4500.00</td>\n",
       "    </tr>\n",
       "    <tr>\n",
       "      <th>4</th>\n",
       "      <td>(선)깐굴</td>\n",
       "      <td>삼천포</td>\n",
       "      <td>10000</td>\n",
       "      <td>256.0</td>\n",
       "      <td>2006</td>\n",
       "      <td>4</td>\n",
       "      <td>4</td>\n",
       "      <td>2006.04</td>\n",
       "      <td>5000.00</td>\n",
       "    </tr>\n",
       "    <tr>\n",
       "      <th>...</th>\n",
       "      <td>...</td>\n",
       "      <td>...</td>\n",
       "      <td>...</td>\n",
       "      <td>...</td>\n",
       "      <td>...</td>\n",
       "      <td>...</td>\n",
       "      <td>...</td>\n",
       "      <td>...</td>\n",
       "      <td>...</td>\n",
       "    </tr>\n",
       "    <tr>\n",
       "      <th>78004</th>\n",
       "      <td>(선)깐굴</td>\n",
       "      <td>여수</td>\n",
       "      <td>8900</td>\n",
       "      <td>39.9</td>\n",
       "      <td>2021</td>\n",
       "      <td>4</td>\n",
       "      <td>8</td>\n",
       "      <td>2021.04</td>\n",
       "      <td>4684.21</td>\n",
       "    </tr>\n",
       "    <tr>\n",
       "      <th>78005</th>\n",
       "      <td>(선)깐굴</td>\n",
       "      <td>통영</td>\n",
       "      <td>16100</td>\n",
       "      <td>85.5</td>\n",
       "      <td>2021</td>\n",
       "      <td>4</td>\n",
       "      <td>8</td>\n",
       "      <td>2021.04</td>\n",
       "      <td>8473.68</td>\n",
       "    </tr>\n",
       "    <tr>\n",
       "      <th>78006</th>\n",
       "      <td>(선)깐굴</td>\n",
       "      <td>통영</td>\n",
       "      <td>16400</td>\n",
       "      <td>17.0</td>\n",
       "      <td>2021</td>\n",
       "      <td>4</td>\n",
       "      <td>8</td>\n",
       "      <td>2021.04</td>\n",
       "      <td>9647.06</td>\n",
       "    </tr>\n",
       "    <tr>\n",
       "      <th>78007</th>\n",
       "      <td>(선)깐굴</td>\n",
       "      <td>통영</td>\n",
       "      <td>11000</td>\n",
       "      <td>7.8</td>\n",
       "      <td>2021</td>\n",
       "      <td>4</td>\n",
       "      <td>8</td>\n",
       "      <td>2021.04</td>\n",
       "      <td>8461.54</td>\n",
       "    </tr>\n",
       "    <tr>\n",
       "      <th>78008</th>\n",
       "      <td>(선)깐굴</td>\n",
       "      <td>통영</td>\n",
       "      <td>15800</td>\n",
       "      <td>60.0</td>\n",
       "      <td>2021</td>\n",
       "      <td>4</td>\n",
       "      <td>8</td>\n",
       "      <td>2021.04</td>\n",
       "      <td>7900.00</td>\n",
       "    </tr>\n",
       "  </tbody>\n",
       "</table>\n",
       "<p>75596 rows × 9 columns</p>\n",
       "</div>"
      ],
      "text/plain": [
       "          어종   산지    평균가   최종수량  year  month  day     date  1kg price\n",
       "0      (선)깐굴  삼천포  11000    7.4  2006      4    4  2006.04    2972.97\n",
       "1      (선)깐굴   고흥  17000  120.0  2006      4    4  2006.04    4250.00\n",
       "2      (선)깐굴  삼천포  17000   87.0  2006      4    4  2006.04    5862.07\n",
       "3      (선)깐굴   북한   9000   60.0  2006      4    4  2006.04    4500.00\n",
       "4      (선)깐굴  삼천포  10000  256.0  2006      4    4  2006.04    5000.00\n",
       "...      ...  ...    ...    ...   ...    ...  ...      ...        ...\n",
       "78004  (선)깐굴   여수   8900   39.9  2021      4    8  2021.04    4684.21\n",
       "78005  (선)깐굴   통영  16100   85.5  2021      4    8  2021.04    8473.68\n",
       "78006  (선)깐굴   통영  16400   17.0  2021      4    8  2021.04    9647.06\n",
       "78007  (선)깐굴   통영  11000    7.8  2021      4    8  2021.04    8461.54\n",
       "78008  (선)깐굴   통영  15800   60.0  2021      4    8  2021.04    7900.00\n",
       "\n",
       "[75596 rows x 9 columns]"
      ]
     },
     "execution_count": 4,
     "metadata": {},
     "output_type": "execute_result"
    }
   ],
   "source": [
    "data"
   ]
  },
  {
   "cell_type": "code",
   "execution_count": 8,
   "metadata": {
    "ExecuteTime": {
     "end_time": "2021-04-13T06:30:32.740744Z",
     "start_time": "2021-04-13T06:30:32.562596Z"
    }
   },
   "outputs": [
    {
     "data": {
      "text/plain": [
       "<AxesSubplot:>"
      ]
     },
     "execution_count": 8,
     "metadata": {},
     "output_type": "execute_result"
    },
    {
     "data": {
      "image/png": "[encoded data removed]",
      "text/plain": [
       "<Figure size 432x288 with 1 Axes>"
      ]
     },
     "metadata": {
      "needs_background": "light"
     },
     "output_type": "display_data"
    }
   ],
   "source": [
    "data[['1kg price']].boxplot()"
   ]
  },
  {
   "cell_type": "code",
   "execution_count": 5,
   "metadata": {
    "ExecuteTime": {
     "end_time": "2021-04-15T05:30:45.784981Z",
     "start_time": "2021-04-15T05:30:45.718720Z"
    }
   },
   "outputs": [
    {
     "data": {
      "text/html": [
       "<div>\n",
       "<style scoped>\n",
       "    .dataframe tbody tr th:only-of-type {\n",
       "        vertical-align: middle;\n",
       "    }\n",
       "\n",
       "    .dataframe tbody tr th {\n",
       "        vertical-align: top;\n",
       "    }\n",
       "\n",
       "    .dataframe thead th {\n",
       "        text-align: right;\n",
       "    }\n",
       "</style>\n",
       "<table border=\"1\" class=\"dataframe\">\n",
       "  <thead>\n",
       "    <tr style=\"text-align: right;\">\n",
       "      <th></th>\n",
       "      <th>평균가</th>\n",
       "      <th>최종수량</th>\n",
       "      <th>year</th>\n",
       "      <th>month</th>\n",
       "      <th>day</th>\n",
       "      <th>date</th>\n",
       "      <th>1kg price</th>\n",
       "    </tr>\n",
       "    <tr>\n",
       "      <th>산지</th>\n",
       "      <th></th>\n",
       "      <th></th>\n",
       "      <th></th>\n",
       "      <th></th>\n",
       "      <th></th>\n",
       "      <th></th>\n",
       "      <th></th>\n",
       "    </tr>\n",
       "  </thead>\n",
       "  <tbody>\n",
       "    <tr>\n",
       "      <th>통영</th>\n",
       "      <td>454223900</td>\n",
       "      <td>10140453.1</td>\n",
       "      <td>66511201</td>\n",
       "      <td>223033</td>\n",
       "      <td>521507</td>\n",
       "      <td>6.651343e+07</td>\n",
       "      <td>2.419209e+08</td>\n",
       "    </tr>\n",
       "    <tr>\n",
       "      <th>남해</th>\n",
       "      <td>238540000</td>\n",
       "      <td>4196124.8</td>\n",
       "      <td>22277888</td>\n",
       "      <td>74179</td>\n",
       "      <td>174632</td>\n",
       "      <td>2.227863e+07</td>\n",
       "      <td>8.385402e+07</td>\n",
       "    </tr>\n",
       "    <tr>\n",
       "      <th>사천</th>\n",
       "      <td>231314100</td>\n",
       "      <td>3606932.8</td>\n",
       "      <td>22041560</td>\n",
       "      <td>61537</td>\n",
       "      <td>172764</td>\n",
       "      <td>2.204218e+07</td>\n",
       "      <td>8.835549e+07</td>\n",
       "    </tr>\n",
       "    <tr>\n",
       "      <th>삼천포</th>\n",
       "      <td>192133200</td>\n",
       "      <td>2210418.3</td>\n",
       "      <td>20997588</td>\n",
       "      <td>67778</td>\n",
       "      <td>165726</td>\n",
       "      <td>2.099827e+07</td>\n",
       "      <td>8.269556e+07</td>\n",
       "    </tr>\n",
       "    <tr>\n",
       "      <th>고흥</th>\n",
       "      <td>122540000</td>\n",
       "      <td>1052770.1</td>\n",
       "      <td>8407960</td>\n",
       "      <td>29637</td>\n",
       "      <td>65217</td>\n",
       "      <td>8.408256e+06</td>\n",
       "      <td>3.157726e+07</td>\n",
       "    </tr>\n",
       "    <tr>\n",
       "      <th>마산</th>\n",
       "      <td>74146200</td>\n",
       "      <td>185336.6</td>\n",
       "      <td>8931599</td>\n",
       "      <td>34178</td>\n",
       "      <td>72042</td>\n",
       "      <td>8.931941e+06</td>\n",
       "      <td>3.217272e+07</td>\n",
       "    </tr>\n",
       "    <tr>\n",
       "      <th>고성</th>\n",
       "      <td>3548400</td>\n",
       "      <td>18342.9</td>\n",
       "      <td>717783</td>\n",
       "      <td>2321</td>\n",
       "      <td>5457</td>\n",
       "      <td>7.178062e+05</td>\n",
       "      <td>2.500118e+06</td>\n",
       "    </tr>\n",
       "    <tr>\n",
       "      <th>여수</th>\n",
       "      <td>8588100</td>\n",
       "      <td>17612.2</td>\n",
       "      <td>969440</td>\n",
       "      <td>4503</td>\n",
       "      <td>8175</td>\n",
       "      <td>9.694850e+05</td>\n",
       "      <td>3.962445e+06</td>\n",
       "    </tr>\n",
       "    <tr>\n",
       "      <th>순천</th>\n",
       "      <td>3382100</td>\n",
       "      <td>10019.9</td>\n",
       "      <td>323728</td>\n",
       "      <td>1576</td>\n",
       "      <td>2470</td>\n",
       "      <td>3.237438e+05</td>\n",
       "      <td>1.235217e+06</td>\n",
       "    </tr>\n",
       "    <tr>\n",
       "      <th>벌교</th>\n",
       "      <td>2216800</td>\n",
       "      <td>9844.3</td>\n",
       "      <td>118595</td>\n",
       "      <td>580</td>\n",
       "      <td>878</td>\n",
       "      <td>1.186008e+05</td>\n",
       "      <td>5.938576e+05</td>\n",
       "    </tr>\n",
       "    <tr>\n",
       "      <th>태안</th>\n",
       "      <td>4223300</td>\n",
       "      <td>9683.7</td>\n",
       "      <td>480585</td>\n",
       "      <td>2418</td>\n",
       "      <td>3730</td>\n",
       "      <td>4.806092e+05</td>\n",
       "      <td>2.146790e+06</td>\n",
       "    </tr>\n",
       "    <tr>\n",
       "      <th>북한</th>\n",
       "      <td>886000</td>\n",
       "      <td>4527.4</td>\n",
       "      <td>62255</td>\n",
       "      <td>335</td>\n",
       "      <td>530</td>\n",
       "      <td>6.225835e+04</td>\n",
       "      <td>1.249060e+05</td>\n",
       "    </tr>\n",
       "    <tr>\n",
       "      <th>당진</th>\n",
       "      <td>856200</td>\n",
       "      <td>2689.3</td>\n",
       "      <td>126508</td>\n",
       "      <td>475</td>\n",
       "      <td>1027</td>\n",
       "      <td>1.265127e+05</td>\n",
       "      <td>4.003040e+05</td>\n",
       "    </tr>\n",
       "    <tr>\n",
       "      <th>중국</th>\n",
       "      <td>70000</td>\n",
       "      <td>2500.0</td>\n",
       "      <td>4012</td>\n",
       "      <td>22</td>\n",
       "      <td>39</td>\n",
       "      <td>4.012220e+03</td>\n",
       "      <td>7.000000e+03</td>\n",
       "    </tr>\n",
       "    <tr>\n",
       "      <th>기타(국내)</th>\n",
       "      <td>589000</td>\n",
       "      <td>1270.5</td>\n",
       "      <td>26135</td>\n",
       "      <td>80</td>\n",
       "      <td>232</td>\n",
       "      <td>2.613580e+04</td>\n",
       "      <td>1.018631e+05</td>\n",
       "    </tr>\n",
       "    <tr>\n",
       "      <th>서산</th>\n",
       "      <td>258400</td>\n",
       "      <td>847.9</td>\n",
       "      <td>38240</td>\n",
       "      <td>168</td>\n",
       "      <td>211</td>\n",
       "      <td>3.824168e+04</td>\n",
       "      <td>1.071683e+05</td>\n",
       "    </tr>\n",
       "    <tr>\n",
       "      <th>완도</th>\n",
       "      <td>757000</td>\n",
       "      <td>717.8</td>\n",
       "      <td>18142</td>\n",
       "      <td>98</td>\n",
       "      <td>183</td>\n",
       "      <td>1.814298e+04</td>\n",
       "      <td>8.726041e+04</td>\n",
       "    </tr>\n",
       "    <tr>\n",
       "      <th>인천</th>\n",
       "      <td>90500</td>\n",
       "      <td>468.6</td>\n",
       "      <td>8051</td>\n",
       "      <td>36</td>\n",
       "      <td>73</td>\n",
       "      <td>8.051360e+03</td>\n",
       "      <td>1.958103e+04</td>\n",
       "    </tr>\n",
       "    <tr>\n",
       "      <th>영광</th>\n",
       "      <td>57000</td>\n",
       "      <td>75.1</td>\n",
       "      <td>14049</td>\n",
       "      <td>70</td>\n",
       "      <td>162</td>\n",
       "      <td>1.404970e+04</td>\n",
       "      <td>3.050419e+04</td>\n",
       "    </tr>\n",
       "    <tr>\n",
       "      <th>화성</th>\n",
       "      <td>21600</td>\n",
       "      <td>64.0</td>\n",
       "      <td>4036</td>\n",
       "      <td>11</td>\n",
       "      <td>44</td>\n",
       "      <td>4.036110e+03</td>\n",
       "      <td>1.222876e+04</td>\n",
       "    </tr>\n",
       "    <tr>\n",
       "      <th>목포</th>\n",
       "      <td>25000</td>\n",
       "      <td>63.0</td>\n",
       "      <td>2017</td>\n",
       "      <td>12</td>\n",
       "      <td>23</td>\n",
       "      <td>2.017120e+03</td>\n",
       "      <td>8.333330e+03</td>\n",
       "    </tr>\n",
       "    <tr>\n",
       "      <th>대부도</th>\n",
       "      <td>472000</td>\n",
       "      <td>55.0</td>\n",
       "      <td>4020</td>\n",
       "      <td>24</td>\n",
       "      <td>18</td>\n",
       "      <td>4.020240e+03</td>\n",
       "      <td>2.696667e+04</td>\n",
       "    </tr>\n",
       "    <tr>\n",
       "      <th>안면도</th>\n",
       "      <td>13600</td>\n",
       "      <td>50.4</td>\n",
       "      <td>2019</td>\n",
       "      <td>12</td>\n",
       "      <td>10</td>\n",
       "      <td>2.019120e+03</td>\n",
       "      <td>7.555560e+03</td>\n",
       "    </tr>\n",
       "    <tr>\n",
       "      <th>군산</th>\n",
       "      <td>28000</td>\n",
       "      <td>36.6</td>\n",
       "      <td>6031</td>\n",
       "      <td>34</td>\n",
       "      <td>26</td>\n",
       "      <td>6.031340e+03</td>\n",
       "      <td>1.804482e+04</td>\n",
       "    </tr>\n",
       "    <tr>\n",
       "      <th>장흥</th>\n",
       "      <td>18000</td>\n",
       "      <td>29.7</td>\n",
       "      <td>2018</td>\n",
       "      <td>1</td>\n",
       "      <td>5</td>\n",
       "      <td>2.018010e+03</td>\n",
       "      <td>5.454550e+03</td>\n",
       "    </tr>\n",
       "    <tr>\n",
       "      <th>대천</th>\n",
       "      <td>35000</td>\n",
       "      <td>25.8</td>\n",
       "      <td>4013</td>\n",
       "      <td>23</td>\n",
       "      <td>23</td>\n",
       "      <td>4.013230e+03</td>\n",
       "      <td>2.046154e+04</td>\n",
       "    </tr>\n",
       "    <tr>\n",
       "      <th>장항</th>\n",
       "      <td>12000</td>\n",
       "      <td>19.6</td>\n",
       "      <td>2011</td>\n",
       "      <td>11</td>\n",
       "      <td>7</td>\n",
       "      <td>2.011110e+03</td>\n",
       "      <td>4.285710e+03</td>\n",
       "    </tr>\n",
       "    <tr>\n",
       "      <th>속초</th>\n",
       "      <td>20000</td>\n",
       "      <td>18.0</td>\n",
       "      <td>2013</td>\n",
       "      <td>11</td>\n",
       "      <td>14</td>\n",
       "      <td>2.013110e+03</td>\n",
       "      <td>3.333330e+03</td>\n",
       "    </tr>\n",
       "    <tr>\n",
       "      <th>진도</th>\n",
       "      <td>26100</td>\n",
       "      <td>13.3</td>\n",
       "      <td>2020</td>\n",
       "      <td>11</td>\n",
       "      <td>30</td>\n",
       "      <td>2.020110e+03</td>\n",
       "      <td>1.373684e+04</td>\n",
       "    </tr>\n",
       "  </tbody>\n",
       "</table>\n",
       "</div>"
      ],
      "text/plain": [
       "              평균가        최종수량      year   month     day          date  \\\n",
       "산지                                                                      \n",
       "통영      454223900  10140453.1  66511201  223033  521507  6.651343e+07   \n",
       "남해      238540000   4196124.8  22277888   74179  174632  2.227863e+07   \n",
       "사천      231314100   3606932.8  22041560   61537  172764  2.204218e+07   \n",
       "삼천포     192133200   2210418.3  20997588   67778  165726  2.099827e+07   \n",
       "고흥      122540000   1052770.1   8407960   29637   65217  8.408256e+06   \n",
       "마산       74146200    185336.6   8931599   34178   72042  8.931941e+06   \n",
       "고성        3548400     18342.9    717783    2321    5457  7.178062e+05   \n",
       "여수        8588100     17612.2    969440    4503    8175  9.694850e+05   \n",
       "순천        3382100     10019.9    323728    1576    2470  3.237438e+05   \n",
       "벌교        2216800      9844.3    118595     580     878  1.186008e+05   \n",
       "태안        4223300      9683.7    480585    2418    3730  4.806092e+05   \n",
       "북한         886000      4527.4     62255     335     530  6.225835e+04   \n",
       "당진         856200      2689.3    126508     475    1027  1.265127e+05   \n",
       "중국          70000      2500.0      4012      22      39  4.012220e+03   \n",
       "기타(국내)     589000      1270.5     26135      80     232  2.613580e+04   \n",
       "서산         258400       847.9     38240     168     211  3.824168e+04   \n",
       "완도         757000       717.8     18142      98     183  1.814298e+04   \n",
       "인천          90500       468.6      8051      36      73  8.051360e+03   \n",
       "영광          57000        75.1     14049      70     162  1.404970e+04   \n",
       "화성          21600        64.0      4036      11      44  4.036110e+03   \n",
       "목포          25000        63.0      2017      12      23  2.017120e+03   \n",
       "대부도        472000        55.0      4020      24      18  4.020240e+03   \n",
       "안면도         13600        50.4      2019      12      10  2.019120e+03   \n",
       "군산          28000        36.6      6031      34      26  6.031340e+03   \n",
       "장흥          18000        29.7      2018       1       5  2.018010e+03   \n",
       "대천          35000        25.8      4013      23      23  4.013230e+03   \n",
       "장항          12000        19.6      2011      11       7  2.011110e+03   \n",
       "속초          20000        18.0      2013      11      14  2.013110e+03   \n",
       "진도          26100        13.3      2020      11      30  2.020110e+03   \n",
       "\n",
       "           1kg price  \n",
       "산지                    \n",
       "통영      2.419209e+08  \n",
       "남해      8.385402e+07  \n",
       "사천      8.835549e+07  \n",
       "삼천포     8.269556e+07  \n",
       "고흥      3.157726e+07  \n",
       "마산      3.217272e+07  \n",
       "고성      2.500118e+06  \n",
       "여수      3.962445e+06  \n",
       "순천      1.235217e+06  \n",
       "벌교      5.938576e+05  \n",
       "태안      2.146790e+06  \n",
       "북한      1.249060e+05  \n",
       "당진      4.003040e+05  \n",
       "중국      7.000000e+03  \n",
       "기타(국내)  1.018631e+05  \n",
       "서산      1.071683e+05  \n",
       "완도      8.726041e+04  \n",
       "인천      1.958103e+04  \n",
       "영광      3.050419e+04  \n",
       "화성      1.222876e+04  \n",
       "목포      8.333330e+03  \n",
       "대부도     2.696667e+04  \n",
       "안면도     7.555560e+03  \n",
       "군산      1.804482e+04  \n",
       "장흥      5.454550e+03  \n",
       "대천      2.046154e+04  \n",
       "장항      4.285710e+03  \n",
       "속초      3.333330e+03  \n",
       "진도      1.373684e+04  "
      ]
     },
     "execution_count": 5,
     "metadata": {},
     "output_type": "execute_result"
    }
   ],
   "source": [
    "data.groupby('산지').sum().sort_values('최종수량',ascending=False)"
   ]
  },
  {
   "cell_type": "code",
   "execution_count": 6,
   "metadata": {
    "ExecuteTime": {
     "end_time": "2021-04-15T05:30:53.407972Z",
     "start_time": "2021-04-15T05:30:53.394778Z"
    }
   },
   "outputs": [
    {
     "data": {
      "text/plain": [
       "(75596, 9)"
      ]
     },
     "execution_count": 6,
     "metadata": {},
     "output_type": "execute_result"
    }
   ],
   "source": [
    "data.shape"
   ]
  },
  {
   "cell_type": "code",
   "execution_count": 7,
   "metadata": {
    "ExecuteTime": {
     "end_time": "2021-04-15T05:30:57.540019Z",
     "start_time": "2021-04-15T05:30:57.482668Z"
    }
   },
   "outputs": [],
   "source": [
    "data = data[(data['산지']=='통영')|(data['산지']=='남해')|(data['산지']=='사천')|(data['산지']=='삼천포')\n",
    "            |(data['산지']=='고흥')|(data['산지']=='마산')]"
   ]
  },
  {
   "cell_type": "code",
   "execution_count": 8,
   "metadata": {
    "ExecuteTime": {
     "end_time": "2021-04-15T05:31:00.558886Z",
     "start_time": "2021-04-15T05:31:00.532918Z"
    }
   },
   "outputs": [
    {
     "data": {
      "text/html": [
       "<div>\n",
       "<style scoped>\n",
       "    .dataframe tbody tr th:only-of-type {\n",
       "        vertical-align: middle;\n",
       "    }\n",
       "\n",
       "    .dataframe tbody tr th {\n",
       "        vertical-align: top;\n",
       "    }\n",
       "\n",
       "    .dataframe thead th {\n",
       "        text-align: right;\n",
       "    }\n",
       "</style>\n",
       "<table border=\"1\" class=\"dataframe\">\n",
       "  <thead>\n",
       "    <tr style=\"text-align: right;\">\n",
       "      <th></th>\n",
       "      <th>어종</th>\n",
       "      <th>산지</th>\n",
       "      <th>평균가</th>\n",
       "      <th>최종수량</th>\n",
       "      <th>year</th>\n",
       "      <th>month</th>\n",
       "      <th>day</th>\n",
       "      <th>date</th>\n",
       "      <th>1kg price</th>\n",
       "    </tr>\n",
       "  </thead>\n",
       "  <tbody>\n",
       "    <tr>\n",
       "      <th>0</th>\n",
       "      <td>(선)깐굴</td>\n",
       "      <td>삼천포</td>\n",
       "      <td>11000</td>\n",
       "      <td>7.4</td>\n",
       "      <td>2006</td>\n",
       "      <td>4</td>\n",
       "      <td>4</td>\n",
       "      <td>2006.04</td>\n",
       "      <td>2972.97</td>\n",
       "    </tr>\n",
       "    <tr>\n",
       "      <th>1</th>\n",
       "      <td>(선)깐굴</td>\n",
       "      <td>고흥</td>\n",
       "      <td>17000</td>\n",
       "      <td>120.0</td>\n",
       "      <td>2006</td>\n",
       "      <td>4</td>\n",
       "      <td>4</td>\n",
       "      <td>2006.04</td>\n",
       "      <td>4250.00</td>\n",
       "    </tr>\n",
       "    <tr>\n",
       "      <th>2</th>\n",
       "      <td>(선)깐굴</td>\n",
       "      <td>삼천포</td>\n",
       "      <td>17000</td>\n",
       "      <td>87.0</td>\n",
       "      <td>2006</td>\n",
       "      <td>4</td>\n",
       "      <td>4</td>\n",
       "      <td>2006.04</td>\n",
       "      <td>5862.07</td>\n",
       "    </tr>\n",
       "    <tr>\n",
       "      <th>4</th>\n",
       "      <td>(선)깐굴</td>\n",
       "      <td>삼천포</td>\n",
       "      <td>10000</td>\n",
       "      <td>256.0</td>\n",
       "      <td>2006</td>\n",
       "      <td>4</td>\n",
       "      <td>4</td>\n",
       "      <td>2006.04</td>\n",
       "      <td>5000.00</td>\n",
       "    </tr>\n",
       "    <tr>\n",
       "      <th>6</th>\n",
       "      <td>(선)깐굴</td>\n",
       "      <td>삼천포</td>\n",
       "      <td>9100</td>\n",
       "      <td>341.7</td>\n",
       "      <td>2006</td>\n",
       "      <td>4</td>\n",
       "      <td>4</td>\n",
       "      <td>2006.04</td>\n",
       "      <td>5352.94</td>\n",
       "    </tr>\n",
       "    <tr>\n",
       "      <th>...</th>\n",
       "      <td>...</td>\n",
       "      <td>...</td>\n",
       "      <td>...</td>\n",
       "      <td>...</td>\n",
       "      <td>...</td>\n",
       "      <td>...</td>\n",
       "      <td>...</td>\n",
       "      <td>...</td>\n",
       "      <td>...</td>\n",
       "    </tr>\n",
       "    <tr>\n",
       "      <th>78003</th>\n",
       "      <td>(선)깐굴</td>\n",
       "      <td>통영</td>\n",
       "      <td>16700</td>\n",
       "      <td>248.4</td>\n",
       "      <td>2021</td>\n",
       "      <td>4</td>\n",
       "      <td>8</td>\n",
       "      <td>2021.04</td>\n",
       "      <td>9277.78</td>\n",
       "    </tr>\n",
       "    <tr>\n",
       "      <th>78005</th>\n",
       "      <td>(선)깐굴</td>\n",
       "      <td>통영</td>\n",
       "      <td>16100</td>\n",
       "      <td>85.5</td>\n",
       "      <td>2021</td>\n",
       "      <td>4</td>\n",
       "      <td>8</td>\n",
       "      <td>2021.04</td>\n",
       "      <td>8473.68</td>\n",
       "    </tr>\n",
       "    <tr>\n",
       "      <th>78006</th>\n",
       "      <td>(선)깐굴</td>\n",
       "      <td>통영</td>\n",
       "      <td>16400</td>\n",
       "      <td>17.0</td>\n",
       "      <td>2021</td>\n",
       "      <td>4</td>\n",
       "      <td>8</td>\n",
       "      <td>2021.04</td>\n",
       "      <td>9647.06</td>\n",
       "    </tr>\n",
       "    <tr>\n",
       "      <th>78007</th>\n",
       "      <td>(선)깐굴</td>\n",
       "      <td>통영</td>\n",
       "      <td>11000</td>\n",
       "      <td>7.8</td>\n",
       "      <td>2021</td>\n",
       "      <td>4</td>\n",
       "      <td>8</td>\n",
       "      <td>2021.04</td>\n",
       "      <td>8461.54</td>\n",
       "    </tr>\n",
       "    <tr>\n",
       "      <th>78008</th>\n",
       "      <td>(선)깐굴</td>\n",
       "      <td>통영</td>\n",
       "      <td>15800</td>\n",
       "      <td>60.0</td>\n",
       "      <td>2021</td>\n",
       "      <td>4</td>\n",
       "      <td>8</td>\n",
       "      <td>2021.04</td>\n",
       "      <td>7900.00</td>\n",
       "    </tr>\n",
       "  </tbody>\n",
       "</table>\n",
       "<p>74136 rows × 9 columns</p>\n",
       "</div>"
      ],
      "text/plain": [
       "          어종   산지    평균가   최종수량  year  month  day     date  1kg price\n",
       "0      (선)깐굴  삼천포  11000    7.4  2006      4    4  2006.04    2972.97\n",
       "1      (선)깐굴   고흥  17000  120.0  2006      4    4  2006.04    4250.00\n",
       "2      (선)깐굴  삼천포  17000   87.0  2006      4    4  2006.04    5862.07\n",
       "4      (선)깐굴  삼천포  10000  256.0  2006      4    4  2006.04    5000.00\n",
       "6      (선)깐굴  삼천포   9100  341.7  2006      4    4  2006.04    5352.94\n",
       "...      ...  ...    ...    ...   ...    ...  ...      ...        ...\n",
       "78003  (선)깐굴   통영  16700  248.4  2021      4    8  2021.04    9277.78\n",
       "78005  (선)깐굴   통영  16100   85.5  2021      4    8  2021.04    8473.68\n",
       "78006  (선)깐굴   통영  16400   17.0  2021      4    8  2021.04    9647.06\n",
       "78007  (선)깐굴   통영  11000    7.8  2021      4    8  2021.04    8461.54\n",
       "78008  (선)깐굴   통영  15800   60.0  2021      4    8  2021.04    7900.00\n",
       "\n",
       "[74136 rows x 9 columns]"
      ]
     },
     "execution_count": 8,
     "metadata": {},
     "output_type": "execute_result"
    }
   ],
   "source": [
    "data"
   ]
  },
  {
   "cell_type": "code",
   "execution_count": 9,
   "metadata": {
    "ExecuteTime": {
     "end_time": "2021-04-15T05:31:04.392223Z",
     "start_time": "2021-04-15T05:31:04.387727Z"
    }
   },
   "outputs": [],
   "source": [
    "data.reset_index(inplace=True,drop=True)"
   ]
  },
  {
   "cell_type": "code",
   "execution_count": 10,
   "metadata": {
    "ExecuteTime": {
     "end_time": "2021-04-15T05:31:05.423478Z",
     "start_time": "2021-04-15T05:31:05.391982Z"
    }
   },
   "outputs": [
    {
     "data": {
      "text/html": [
       "<div>\n",
       "<style scoped>\n",
       "    .dataframe tbody tr th:only-of-type {\n",
       "        vertical-align: middle;\n",
       "    }\n",
       "\n",
       "    .dataframe tbody tr th {\n",
       "        vertical-align: top;\n",
       "    }\n",
       "\n",
       "    .dataframe thead th {\n",
       "        text-align: right;\n",
       "    }\n",
       "</style>\n",
       "<table border=\"1\" class=\"dataframe\">\n",
       "  <thead>\n",
       "    <tr style=\"text-align: right;\">\n",
       "      <th></th>\n",
       "      <th>어종</th>\n",
       "      <th>산지</th>\n",
       "      <th>평균가</th>\n",
       "      <th>최종수량</th>\n",
       "      <th>year</th>\n",
       "      <th>month</th>\n",
       "      <th>day</th>\n",
       "      <th>date</th>\n",
       "      <th>1kg price</th>\n",
       "    </tr>\n",
       "  </thead>\n",
       "  <tbody>\n",
       "    <tr>\n",
       "      <th>0</th>\n",
       "      <td>(선)깐굴</td>\n",
       "      <td>삼천포</td>\n",
       "      <td>11000</td>\n",
       "      <td>7.4</td>\n",
       "      <td>2006</td>\n",
       "      <td>4</td>\n",
       "      <td>4</td>\n",
       "      <td>2006.04</td>\n",
       "      <td>2972.97</td>\n",
       "    </tr>\n",
       "    <tr>\n",
       "      <th>1</th>\n",
       "      <td>(선)깐굴</td>\n",
       "      <td>고흥</td>\n",
       "      <td>17000</td>\n",
       "      <td>120.0</td>\n",
       "      <td>2006</td>\n",
       "      <td>4</td>\n",
       "      <td>4</td>\n",
       "      <td>2006.04</td>\n",
       "      <td>4250.00</td>\n",
       "    </tr>\n",
       "    <tr>\n",
       "      <th>2</th>\n",
       "      <td>(선)깐굴</td>\n",
       "      <td>삼천포</td>\n",
       "      <td>17000</td>\n",
       "      <td>87.0</td>\n",
       "      <td>2006</td>\n",
       "      <td>4</td>\n",
       "      <td>4</td>\n",
       "      <td>2006.04</td>\n",
       "      <td>5862.07</td>\n",
       "    </tr>\n",
       "    <tr>\n",
       "      <th>3</th>\n",
       "      <td>(선)깐굴</td>\n",
       "      <td>삼천포</td>\n",
       "      <td>10000</td>\n",
       "      <td>256.0</td>\n",
       "      <td>2006</td>\n",
       "      <td>4</td>\n",
       "      <td>4</td>\n",
       "      <td>2006.04</td>\n",
       "      <td>5000.00</td>\n",
       "    </tr>\n",
       "    <tr>\n",
       "      <th>4</th>\n",
       "      <td>(선)깐굴</td>\n",
       "      <td>삼천포</td>\n",
       "      <td>9100</td>\n",
       "      <td>341.7</td>\n",
       "      <td>2006</td>\n",
       "      <td>4</td>\n",
       "      <td>4</td>\n",
       "      <td>2006.04</td>\n",
       "      <td>5352.94</td>\n",
       "    </tr>\n",
       "    <tr>\n",
       "      <th>...</th>\n",
       "      <td>...</td>\n",
       "      <td>...</td>\n",
       "      <td>...</td>\n",
       "      <td>...</td>\n",
       "      <td>...</td>\n",
       "      <td>...</td>\n",
       "      <td>...</td>\n",
       "      <td>...</td>\n",
       "      <td>...</td>\n",
       "    </tr>\n",
       "    <tr>\n",
       "      <th>74131</th>\n",
       "      <td>(선)깐굴</td>\n",
       "      <td>통영</td>\n",
       "      <td>16700</td>\n",
       "      <td>248.4</td>\n",
       "      <td>2021</td>\n",
       "      <td>4</td>\n",
       "      <td>8</td>\n",
       "      <td>2021.04</td>\n",
       "      <td>9277.78</td>\n",
       "    </tr>\n",
       "    <tr>\n",
       "      <th>74132</th>\n",
       "      <td>(선)깐굴</td>\n",
       "      <td>통영</td>\n",
       "      <td>16100</td>\n",
       "      <td>85.5</td>\n",
       "      <td>2021</td>\n",
       "      <td>4</td>\n",
       "      <td>8</td>\n",
       "      <td>2021.04</td>\n",
       "      <td>8473.68</td>\n",
       "    </tr>\n",
       "    <tr>\n",
       "      <th>74133</th>\n",
       "      <td>(선)깐굴</td>\n",
       "      <td>통영</td>\n",
       "      <td>16400</td>\n",
       "      <td>17.0</td>\n",
       "      <td>2021</td>\n",
       "      <td>4</td>\n",
       "      <td>8</td>\n",
       "      <td>2021.04</td>\n",
       "      <td>9647.06</td>\n",
       "    </tr>\n",
       "    <tr>\n",
       "      <th>74134</th>\n",
       "      <td>(선)깐굴</td>\n",
       "      <td>통영</td>\n",
       "      <td>11000</td>\n",
       "      <td>7.8</td>\n",
       "      <td>2021</td>\n",
       "      <td>4</td>\n",
       "      <td>8</td>\n",
       "      <td>2021.04</td>\n",
       "      <td>8461.54</td>\n",
       "    </tr>\n",
       "    <tr>\n",
       "      <th>74135</th>\n",
       "      <td>(선)깐굴</td>\n",
       "      <td>통영</td>\n",
       "      <td>15800</td>\n",
       "      <td>60.0</td>\n",
       "      <td>2021</td>\n",
       "      <td>4</td>\n",
       "      <td>8</td>\n",
       "      <td>2021.04</td>\n",
       "      <td>7900.00</td>\n",
       "    </tr>\n",
       "  </tbody>\n",
       "</table>\n",
       "<p>74136 rows × 9 columns</p>\n",
       "</div>"
      ],
      "text/plain": [
       "          어종   산지    평균가   최종수량  year  month  day     date  1kg price\n",
       "0      (선)깐굴  삼천포  11000    7.4  2006      4    4  2006.04    2972.97\n",
       "1      (선)깐굴   고흥  17000  120.0  2006      4    4  2006.04    4250.00\n",
       "2      (선)깐굴  삼천포  17000   87.0  2006      4    4  2006.04    5862.07\n",
       "3      (선)깐굴  삼천포  10000  256.0  2006      4    4  2006.04    5000.00\n",
       "4      (선)깐굴  삼천포   9100  341.7  2006      4    4  2006.04    5352.94\n",
       "...      ...  ...    ...    ...   ...    ...  ...      ...        ...\n",
       "74131  (선)깐굴   통영  16700  248.4  2021      4    8  2021.04    9277.78\n",
       "74132  (선)깐굴   통영  16100   85.5  2021      4    8  2021.04    8473.68\n",
       "74133  (선)깐굴   통영  16400   17.0  2021      4    8  2021.04    9647.06\n",
       "74134  (선)깐굴   통영  11000    7.8  2021      4    8  2021.04    8461.54\n",
       "74135  (선)깐굴   통영  15800   60.0  2021      4    8  2021.04    7900.00\n",
       "\n",
       "[74136 rows x 9 columns]"
      ]
     },
     "execution_count": 10,
     "metadata": {},
     "output_type": "execute_result"
    }
   ],
   "source": [
    "data"
   ]
  },
  {
   "cell_type": "code",
   "execution_count": 11,
   "metadata": {
    "ExecuteTime": {
     "end_time": "2021-04-15T05:31:13.576030Z",
     "start_time": "2021-04-15T05:31:13.530798Z"
    }
   },
   "outputs": [
    {
     "data": {
      "text/html": [
       "<div>\n",
       "<style scoped>\n",
       "    .dataframe tbody tr th:only-of-type {\n",
       "        vertical-align: middle;\n",
       "    }\n",
       "\n",
       "    .dataframe tbody tr th {\n",
       "        vertical-align: top;\n",
       "    }\n",
       "\n",
       "    .dataframe thead th {\n",
       "        text-align: right;\n",
       "    }\n",
       "</style>\n",
       "<table border=\"1\" class=\"dataframe\">\n",
       "  <thead>\n",
       "    <tr style=\"text-align: right;\">\n",
       "      <th></th>\n",
       "      <th>평균가</th>\n",
       "      <th>최종수량</th>\n",
       "      <th>month</th>\n",
       "      <th>day</th>\n",
       "      <th>date</th>\n",
       "      <th>1kg price</th>\n",
       "    </tr>\n",
       "    <tr>\n",
       "      <th>year</th>\n",
       "      <th></th>\n",
       "      <th></th>\n",
       "      <th></th>\n",
       "      <th></th>\n",
       "      <th></th>\n",
       "      <th></th>\n",
       "    </tr>\n",
       "  </thead>\n",
       "  <tbody>\n",
       "    <tr>\n",
       "      <th>2006</th>\n",
       "      <td>60876100</td>\n",
       "      <td>1175628.1</td>\n",
       "      <td>39416</td>\n",
       "      <td>68804</td>\n",
       "      <td>8.377450e+06</td>\n",
       "      <td>29565889.50</td>\n",
       "    </tr>\n",
       "    <tr>\n",
       "      <th>2007</th>\n",
       "      <td>77533100</td>\n",
       "      <td>2071443.4</td>\n",
       "      <td>42342</td>\n",
       "      <td>101257</td>\n",
       "      <td>1.280508e+07</td>\n",
       "      <td>35267483.51</td>\n",
       "    </tr>\n",
       "    <tr>\n",
       "      <th>2008</th>\n",
       "      <td>94422900</td>\n",
       "      <td>1867879.7</td>\n",
       "      <td>45185</td>\n",
       "      <td>105604</td>\n",
       "      <td>1.332755e+07</td>\n",
       "      <td>43004255.44</td>\n",
       "    </tr>\n",
       "    <tr>\n",
       "      <th>2009</th>\n",
       "      <td>112381300</td>\n",
       "      <td>1676585.0</td>\n",
       "      <td>42663</td>\n",
       "      <td>100380</td>\n",
       "      <td>1.280780e+07</td>\n",
       "      <td>50648788.39</td>\n",
       "    </tr>\n",
       "    <tr>\n",
       "      <th>2010</th>\n",
       "      <td>127574400</td>\n",
       "      <td>1886341.2</td>\n",
       "      <td>44565</td>\n",
       "      <td>112383</td>\n",
       "      <td>1.457094e+07</td>\n",
       "      <td>54496030.02</td>\n",
       "    </tr>\n",
       "    <tr>\n",
       "      <th>2011</th>\n",
       "      <td>107871600</td>\n",
       "      <td>1819877.9</td>\n",
       "      <td>40334</td>\n",
       "      <td>94356</td>\n",
       "      <td>1.181302e+07</td>\n",
       "      <td>47718088.67</td>\n",
       "    </tr>\n",
       "    <tr>\n",
       "      <th>2012</th>\n",
       "      <td>108948000</td>\n",
       "      <td>1952344.3</td>\n",
       "      <td>40528</td>\n",
       "      <td>100684</td>\n",
       "      <td>1.279270e+07</td>\n",
       "      <td>45220474.09</td>\n",
       "    </tr>\n",
       "    <tr>\n",
       "      <th>2013</th>\n",
       "      <td>81271400</td>\n",
       "      <td>1533746.9</td>\n",
       "      <td>31150</td>\n",
       "      <td>73963</td>\n",
       "      <td>9.481541e+06</td>\n",
       "      <td>31651652.69</td>\n",
       "    </tr>\n",
       "    <tr>\n",
       "      <th>2014</th>\n",
       "      <td>94453800</td>\n",
       "      <td>1477649.1</td>\n",
       "      <td>29305</td>\n",
       "      <td>73768</td>\n",
       "      <td>9.266707e+06</td>\n",
       "      <td>37974479.36</td>\n",
       "    </tr>\n",
       "    <tr>\n",
       "      <th>2015</th>\n",
       "      <td>86356400</td>\n",
       "      <td>1226025.0</td>\n",
       "      <td>26455</td>\n",
       "      <td>66268</td>\n",
       "      <td>8.491475e+06</td>\n",
       "      <td>35539603.44</td>\n",
       "    </tr>\n",
       "    <tr>\n",
       "      <th>2016</th>\n",
       "      <td>89830100</td>\n",
       "      <td>1080296.5</td>\n",
       "      <td>28281</td>\n",
       "      <td>69164</td>\n",
       "      <td>8.771899e+06</td>\n",
       "      <td>38265126.81</td>\n",
       "    </tr>\n",
       "    <tr>\n",
       "      <th>2017</th>\n",
       "      <td>72610700</td>\n",
       "      <td>1048182.3</td>\n",
       "      <td>24548</td>\n",
       "      <td>60002</td>\n",
       "      <td>7.824188e+06</td>\n",
       "      <td>29486433.64</td>\n",
       "    </tr>\n",
       "    <tr>\n",
       "      <th>2018</th>\n",
       "      <td>71742700</td>\n",
       "      <td>956543.3</td>\n",
       "      <td>21872</td>\n",
       "      <td>54860</td>\n",
       "      <td>7.012769e+06</td>\n",
       "      <td>28659808.21</td>\n",
       "    </tr>\n",
       "    <tr>\n",
       "      <th>2019</th>\n",
       "      <td>58599200</td>\n",
       "      <td>807114.9</td>\n",
       "      <td>18401</td>\n",
       "      <td>44119</td>\n",
       "      <td>5.600890e+06</td>\n",
       "      <td>24421671.24</td>\n",
       "    </tr>\n",
       "    <tr>\n",
       "      <th>2020</th>\n",
       "      <td>51018000</td>\n",
       "      <td>568536.9</td>\n",
       "      <td>13635</td>\n",
       "      <td>33761</td>\n",
       "      <td>4.450196e+06</td>\n",
       "      <td>21114312.41</td>\n",
       "    </tr>\n",
       "    <tr>\n",
       "      <th>2021</th>\n",
       "      <td>17407700</td>\n",
       "      <td>243841.2</td>\n",
       "      <td>1662</td>\n",
       "      <td>12515</td>\n",
       "      <td>1.778497e+06</td>\n",
       "      <td>7541830.83</td>\n",
       "    </tr>\n",
       "  </tbody>\n",
       "</table>\n",
       "</div>"
      ],
      "text/plain": [
       "            평균가       최종수량  month     day          date    1kg price\n",
       "year                                                                \n",
       "2006   60876100  1175628.1  39416   68804  8.377450e+06  29565889.50\n",
       "2007   77533100  2071443.4  42342  101257  1.280508e+07  35267483.51\n",
       "2008   94422900  1867879.7  45185  105604  1.332755e+07  43004255.44\n",
       "2009  112381300  1676585.0  42663  100380  1.280780e+07  50648788.39\n",
       "2010  127574400  1886341.2  44565  112383  1.457094e+07  54496030.02\n",
       "2011  107871600  1819877.9  40334   94356  1.181302e+07  47718088.67\n",
       "2012  108948000  1952344.3  40528  100684  1.279270e+07  45220474.09\n",
       "2013   81271400  1533746.9  31150   73963  9.481541e+06  31651652.69\n",
       "2014   94453800  1477649.1  29305   73768  9.266707e+06  37974479.36\n",
       "2015   86356400  1226025.0  26455   66268  8.491475e+06  35539603.44\n",
       "2016   89830100  1080296.5  28281   69164  8.771899e+06  38265126.81\n",
       "2017   72610700  1048182.3  24548   60002  7.824188e+06  29486433.64\n",
       "2018   71742700   956543.3  21872   54860  7.012769e+06  28659808.21\n",
       "2019   58599200   807114.9  18401   44119  5.600890e+06  24421671.24\n",
       "2020   51018000   568536.9  13635   33761  4.450196e+06  21114312.41\n",
       "2021   17407700   243841.2   1662   12515  1.778497e+06   7541830.83"
      ]
     },
     "execution_count": 11,
     "metadata": {},
     "output_type": "execute_result"
    }
   ],
   "source": [
    "data.groupby('year').sum()"
   ]
  },
  {
   "cell_type": "code",
   "execution_count": 12,
   "metadata": {
    "ExecuteTime": {
     "end_time": "2021-04-15T05:31:16.629057Z",
     "start_time": "2021-04-15T05:31:16.613985Z"
    }
   },
   "outputs": [],
   "source": [
    "grouped = data.groupby('year')"
   ]
  },
  {
   "cell_type": "code",
   "execution_count": 13,
   "metadata": {
    "ExecuteTime": {
     "end_time": "2021-04-15T05:31:18.093582Z",
     "start_time": "2021-04-15T05:31:18.063286Z"
    }
   },
   "outputs": [],
   "source": [
    "year = grouped.agg({'최종수량': 'sum', '1kg price' : 'mean'})"
   ]
  },
  {
   "cell_type": "code",
   "execution_count": 14,
   "metadata": {
    "ExecuteTime": {
     "end_time": "2021-04-15T05:31:19.127379Z",
     "start_time": "2021-04-15T05:31:19.105990Z"
    }
   },
   "outputs": [
    {
     "data": {
      "text/plain": [
       "Int64Index([2006, 2007, 2008, 2009, 2010, 2011, 2012, 2013, 2014, 2015, 2016,\n",
       "            2017, 2018, 2019, 2020, 2021],\n",
       "           dtype='int64', name='year')"
      ]
     },
     "execution_count": 14,
     "metadata": {},
     "output_type": "execute_result"
    }
   ],
   "source": [
    "year.index"
   ]
  },
  {
   "cell_type": "code",
   "execution_count": 15,
   "metadata": {
    "ExecuteTime": {
     "end_time": "2021-04-15T05:31:20.712905Z",
     "start_time": "2021-04-15T05:31:20.407577Z"
    }
   },
   "outputs": [
    {
     "data": {
      "image/png": "[encoded data removed]",
      "text/plain": [
       "<Figure size 1080x576 with 2 Axes>"
      ]
     },
     "metadata": {
      "needs_background": "light"
     },
     "output_type": "display_data"
    }
   ],
   "source": [
    "plt.rcParams['figure.figsize'] = (15, 8)\n",
    "fig, ax1 = plt.subplots()\n",
    "ax1.plot(year.index,year['1kg price'],'red')\n",
    "ax2 = ax1.twinx()\n",
    "ax2.plot(year.index,year['최종수량'])\n",
    "plt.show()"
   ]
  },
  {
   "cell_type": "code",
   "execution_count": 16,
   "metadata": {
    "ExecuteTime": {
     "end_time": "2021-04-15T05:31:23.580371Z",
     "start_time": "2021-04-15T05:31:23.545090Z"
    }
   },
   "outputs": [
    {
     "data": {
      "text/html": [
       "<div>\n",
       "<style scoped>\n",
       "    .dataframe tbody tr th:only-of-type {\n",
       "        vertical-align: middle;\n",
       "    }\n",
       "\n",
       "    .dataframe tbody tr th {\n",
       "        vertical-align: top;\n",
       "    }\n",
       "\n",
       "    .dataframe thead th {\n",
       "        text-align: right;\n",
       "    }\n",
       "</style>\n",
       "<table border=\"1\" class=\"dataframe\">\n",
       "  <thead>\n",
       "    <tr style=\"text-align: right;\">\n",
       "      <th></th>\n",
       "      <th>최종수량</th>\n",
       "      <th>1kg price</th>\n",
       "    </tr>\n",
       "  </thead>\n",
       "  <tbody>\n",
       "    <tr>\n",
       "      <th>최종수량</th>\n",
       "      <td>1.000000</td>\n",
       "      <td>-0.720243</td>\n",
       "    </tr>\n",
       "    <tr>\n",
       "      <th>1kg price</th>\n",
       "      <td>-0.720243</td>\n",
       "      <td>1.000000</td>\n",
       "    </tr>\n",
       "  </tbody>\n",
       "</table>\n",
       "</div>"
      ],
      "text/plain": [
       "               최종수량  1kg price\n",
       "최종수량       1.000000  -0.720243\n",
       "1kg price -0.720243   1.000000"
      ]
     },
     "execution_count": 16,
     "metadata": {},
     "output_type": "execute_result"
    }
   ],
   "source": [
    "year.corr(method='pearson')"
   ]
  },
  {
   "cell_type": "markdown",
   "metadata": {},
   "source": [
    "# 연 수량과 1kg price는 강한 음의 상관관계를 보임"
   ]
  },
  {
   "cell_type": "code",
   "execution_count": 17,
   "metadata": {
    "ExecuteTime": {
     "end_time": "2021-04-15T05:31:29.270180Z",
     "start_time": "2021-04-15T05:31:29.253652Z"
    }
   },
   "outputs": [],
   "source": [
    "grouped_date = data.groupby('date')\n",
    "date = grouped_date.agg({'최종수량': 'sum', '1kg price' : 'mean'})"
   ]
  },
  {
   "cell_type": "code",
   "execution_count": 18,
   "metadata": {
    "ExecuteTime": {
     "end_time": "2021-04-15T05:31:30.206545Z",
     "start_time": "2021-04-15T05:31:30.179307Z"
    }
   },
   "outputs": [
    {
     "data": {
      "text/html": [
       "<div>\n",
       "<style scoped>\n",
       "    .dataframe tbody tr th:only-of-type {\n",
       "        vertical-align: middle;\n",
       "    }\n",
       "\n",
       "    .dataframe tbody tr th {\n",
       "        vertical-align: top;\n",
       "    }\n",
       "\n",
       "    .dataframe thead th {\n",
       "        text-align: right;\n",
       "    }\n",
       "</style>\n",
       "<table border=\"1\" class=\"dataframe\">\n",
       "  <thead>\n",
       "    <tr style=\"text-align: right;\">\n",
       "      <th></th>\n",
       "      <th>최종수량</th>\n",
       "      <th>1kg price</th>\n",
       "    </tr>\n",
       "    <tr>\n",
       "      <th>date</th>\n",
       "      <th></th>\n",
       "      <th></th>\n",
       "    </tr>\n",
       "  </thead>\n",
       "  <tbody>\n",
       "    <tr>\n",
       "      <th>2006.04</th>\n",
       "      <td>80155.2</td>\n",
       "      <td>4905.536227</td>\n",
       "    </tr>\n",
       "    <tr>\n",
       "      <th>2006.05</th>\n",
       "      <td>34856.5</td>\n",
       "      <td>5186.024672</td>\n",
       "    </tr>\n",
       "    <tr>\n",
       "      <th>2006.06</th>\n",
       "      <td>15566.4</td>\n",
       "      <td>5587.950243</td>\n",
       "    </tr>\n",
       "    <tr>\n",
       "      <th>2006.07</th>\n",
       "      <td>14231.5</td>\n",
       "      <td>5490.579643</td>\n",
       "    </tr>\n",
       "    <tr>\n",
       "      <th>2006.08</th>\n",
       "      <td>11823.0</td>\n",
       "      <td>5853.192889</td>\n",
       "    </tr>\n",
       "    <tr>\n",
       "      <th>...</th>\n",
       "      <td>...</td>\n",
       "      <td>...</td>\n",
       "    </tr>\n",
       "    <tr>\n",
       "      <th>2020.12</th>\n",
       "      <td>135015.9</td>\n",
       "      <td>11058.419349</td>\n",
       "    </tr>\n",
       "    <tr>\n",
       "      <th>2021.01</th>\n",
       "      <td>121264.5</td>\n",
       "      <td>9214.235706</td>\n",
       "    </tr>\n",
       "    <tr>\n",
       "      <th>2021.02</th>\n",
       "      <td>85387.8</td>\n",
       "      <td>8716.395052</td>\n",
       "    </tr>\n",
       "    <tr>\n",
       "      <th>2021.03</th>\n",
       "      <td>33461.0</td>\n",
       "      <td>7515.677358</td>\n",
       "    </tr>\n",
       "    <tr>\n",
       "      <th>2021.04</th>\n",
       "      <td>3727.9</td>\n",
       "      <td>6528.430000</td>\n",
       "    </tr>\n",
       "  </tbody>\n",
       "</table>\n",
       "<p>181 rows × 2 columns</p>\n",
       "</div>"
      ],
      "text/plain": [
       "             최종수량     1kg price\n",
       "date                           \n",
       "2006.04   80155.2   4905.536227\n",
       "2006.05   34856.5   5186.024672\n",
       "2006.06   15566.4   5587.950243\n",
       "2006.07   14231.5   5490.579643\n",
       "2006.08   11823.0   5853.192889\n",
       "...           ...           ...\n",
       "2020.12  135015.9  11058.419349\n",
       "2021.01  121264.5   9214.235706\n",
       "2021.02   85387.8   8716.395052\n",
       "2021.03   33461.0   7515.677358\n",
       "2021.04    3727.9   6528.430000\n",
       "\n",
       "[181 rows x 2 columns]"
      ]
     },
     "execution_count": 18,
     "metadata": {},
     "output_type": "execute_result"
    }
   ],
   "source": [
    "date"
   ]
  },
  {
   "cell_type": "code",
   "execution_count": 57,
   "metadata": {
    "ExecuteTime": {
     "end_time": "2021-04-13T07:03:30.768982Z",
     "start_time": "2021-04-13T07:03:30.463498Z"
    }
   },
   "outputs": [
    {
     "data": {
      "image/png": "[encoded data removed]",
      "text/plain": [
       "<Figure size 1080x576 with 2 Axes>"
      ]
     },
     "metadata": {
      "needs_background": "light"
     },
     "output_type": "display_data"
    }
   ],
   "source": [
    "plt.rcParams['figure.figsize'] = (15, 8)\n",
    "fig, ax1 = plt.subplots()\n",
    "ax1.plot(date.index,date['1kg price'],'red')\n",
    "ax2 = ax1.twinx()\n",
    "ax2.plot(date.index,date['최종수량'])\n",
    "plt.show()"
   ]
  },
  {
   "cell_type": "code",
   "execution_count": 19,
   "metadata": {
    "ExecuteTime": {
     "end_time": "2021-04-15T05:31:39.624606Z",
     "start_time": "2021-04-15T05:31:39.606969Z"
    }
   },
   "outputs": [
    {
     "data": {
      "text/html": [
       "<div>\n",
       "<style scoped>\n",
       "    .dataframe tbody tr th:only-of-type {\n",
       "        vertical-align: middle;\n",
       "    }\n",
       "\n",
       "    .dataframe tbody tr th {\n",
       "        vertical-align: top;\n",
       "    }\n",
       "\n",
       "    .dataframe thead th {\n",
       "        text-align: right;\n",
       "    }\n",
       "</style>\n",
       "<table border=\"1\" class=\"dataframe\">\n",
       "  <thead>\n",
       "    <tr style=\"text-align: right;\">\n",
       "      <th></th>\n",
       "      <th>최종수량</th>\n",
       "      <th>1kg price</th>\n",
       "    </tr>\n",
       "  </thead>\n",
       "  <tbody>\n",
       "    <tr>\n",
       "      <th>최종수량</th>\n",
       "      <td>1.00000</td>\n",
       "      <td>0.32379</td>\n",
       "    </tr>\n",
       "    <tr>\n",
       "      <th>1kg price</th>\n",
       "      <td>0.32379</td>\n",
       "      <td>1.00000</td>\n",
       "    </tr>\n",
       "  </tbody>\n",
       "</table>\n",
       "</div>"
      ],
      "text/plain": [
       "              최종수량  1kg price\n",
       "최종수량       1.00000    0.32379\n",
       "1kg price  0.32379    1.00000"
      ]
     },
     "execution_count": 19,
     "metadata": {},
     "output_type": "execute_result"
    }
   ],
   "source": [
    "date.corr(method='pearson')"
   ]
  },
  {
   "cell_type": "code",
   "execution_count": 20,
   "metadata": {
    "ExecuteTime": {
     "end_time": "2021-04-15T05:31:41.803291Z",
     "start_time": "2021-04-15T05:31:41.778557Z"
    }
   },
   "outputs": [
    {
     "data": {
      "text/html": [
       "<div>\n",
       "<style scoped>\n",
       "    .dataframe tbody tr th:only-of-type {\n",
       "        vertical-align: middle;\n",
       "    }\n",
       "\n",
       "    .dataframe tbody tr th {\n",
       "        vertical-align: top;\n",
       "    }\n",
       "\n",
       "    .dataframe thead th {\n",
       "        text-align: right;\n",
       "    }\n",
       "</style>\n",
       "<table border=\"1\" class=\"dataframe\">\n",
       "  <thead>\n",
       "    <tr style=\"text-align: right;\">\n",
       "      <th></th>\n",
       "      <th>어종</th>\n",
       "      <th>산지</th>\n",
       "      <th>평균가</th>\n",
       "      <th>최종수량</th>\n",
       "      <th>year</th>\n",
       "      <th>month</th>\n",
       "      <th>day</th>\n",
       "      <th>date</th>\n",
       "      <th>1kg price</th>\n",
       "    </tr>\n",
       "  </thead>\n",
       "  <tbody>\n",
       "    <tr>\n",
       "      <th>0</th>\n",
       "      <td>(선)깐굴</td>\n",
       "      <td>삼천포</td>\n",
       "      <td>11000</td>\n",
       "      <td>7.4</td>\n",
       "      <td>2006</td>\n",
       "      <td>4</td>\n",
       "      <td>4</td>\n",
       "      <td>2006.04</td>\n",
       "      <td>2972.97</td>\n",
       "    </tr>\n",
       "    <tr>\n",
       "      <th>1</th>\n",
       "      <td>(선)깐굴</td>\n",
       "      <td>고흥</td>\n",
       "      <td>17000</td>\n",
       "      <td>120.0</td>\n",
       "      <td>2006</td>\n",
       "      <td>4</td>\n",
       "      <td>4</td>\n",
       "      <td>2006.04</td>\n",
       "      <td>4250.00</td>\n",
       "    </tr>\n",
       "    <tr>\n",
       "      <th>2</th>\n",
       "      <td>(선)깐굴</td>\n",
       "      <td>삼천포</td>\n",
       "      <td>17000</td>\n",
       "      <td>87.0</td>\n",
       "      <td>2006</td>\n",
       "      <td>4</td>\n",
       "      <td>4</td>\n",
       "      <td>2006.04</td>\n",
       "      <td>5862.07</td>\n",
       "    </tr>\n",
       "    <tr>\n",
       "      <th>3</th>\n",
       "      <td>(선)깐굴</td>\n",
       "      <td>삼천포</td>\n",
       "      <td>10000</td>\n",
       "      <td>256.0</td>\n",
       "      <td>2006</td>\n",
       "      <td>4</td>\n",
       "      <td>4</td>\n",
       "      <td>2006.04</td>\n",
       "      <td>5000.00</td>\n",
       "    </tr>\n",
       "    <tr>\n",
       "      <th>4</th>\n",
       "      <td>(선)깐굴</td>\n",
       "      <td>삼천포</td>\n",
       "      <td>9100</td>\n",
       "      <td>341.7</td>\n",
       "      <td>2006</td>\n",
       "      <td>4</td>\n",
       "      <td>4</td>\n",
       "      <td>2006.04</td>\n",
       "      <td>5352.94</td>\n",
       "    </tr>\n",
       "    <tr>\n",
       "      <th>...</th>\n",
       "      <td>...</td>\n",
       "      <td>...</td>\n",
       "      <td>...</td>\n",
       "      <td>...</td>\n",
       "      <td>...</td>\n",
       "      <td>...</td>\n",
       "      <td>...</td>\n",
       "      <td>...</td>\n",
       "      <td>...</td>\n",
       "    </tr>\n",
       "    <tr>\n",
       "      <th>74131</th>\n",
       "      <td>(선)깐굴</td>\n",
       "      <td>통영</td>\n",
       "      <td>16700</td>\n",
       "      <td>248.4</td>\n",
       "      <td>2021</td>\n",
       "      <td>4</td>\n",
       "      <td>8</td>\n",
       "      <td>2021.04</td>\n",
       "      <td>9277.78</td>\n",
       "    </tr>\n",
       "    <tr>\n",
       "      <th>74132</th>\n",
       "      <td>(선)깐굴</td>\n",
       "      <td>통영</td>\n",
       "      <td>16100</td>\n",
       "      <td>85.5</td>\n",
       "      <td>2021</td>\n",
       "      <td>4</td>\n",
       "      <td>8</td>\n",
       "      <td>2021.04</td>\n",
       "      <td>8473.68</td>\n",
       "    </tr>\n",
       "    <tr>\n",
       "      <th>74133</th>\n",
       "      <td>(선)깐굴</td>\n",
       "      <td>통영</td>\n",
       "      <td>16400</td>\n",
       "      <td>17.0</td>\n",
       "      <td>2021</td>\n",
       "      <td>4</td>\n",
       "      <td>8</td>\n",
       "      <td>2021.04</td>\n",
       "      <td>9647.06</td>\n",
       "    </tr>\n",
       "    <tr>\n",
       "      <th>74134</th>\n",
       "      <td>(선)깐굴</td>\n",
       "      <td>통영</td>\n",
       "      <td>11000</td>\n",
       "      <td>7.8</td>\n",
       "      <td>2021</td>\n",
       "      <td>4</td>\n",
       "      <td>8</td>\n",
       "      <td>2021.04</td>\n",
       "      <td>8461.54</td>\n",
       "    </tr>\n",
       "    <tr>\n",
       "      <th>74135</th>\n",
       "      <td>(선)깐굴</td>\n",
       "      <td>통영</td>\n",
       "      <td>15800</td>\n",
       "      <td>60.0</td>\n",
       "      <td>2021</td>\n",
       "      <td>4</td>\n",
       "      <td>8</td>\n",
       "      <td>2021.04</td>\n",
       "      <td>7900.00</td>\n",
       "    </tr>\n",
       "  </tbody>\n",
       "</table>\n",
       "<p>74136 rows × 9 columns</p>\n",
       "</div>"
      ],
      "text/plain": [
       "          어종   산지    평균가   최종수량  year  month  day     date  1kg price\n",
       "0      (선)깐굴  삼천포  11000    7.4  2006      4    4  2006.04    2972.97\n",
       "1      (선)깐굴   고흥  17000  120.0  2006      4    4  2006.04    4250.00\n",
       "2      (선)깐굴  삼천포  17000   87.0  2006      4    4  2006.04    5862.07\n",
       "3      (선)깐굴  삼천포  10000  256.0  2006      4    4  2006.04    5000.00\n",
       "4      (선)깐굴  삼천포   9100  341.7  2006      4    4  2006.04    5352.94\n",
       "...      ...  ...    ...    ...   ...    ...  ...      ...        ...\n",
       "74131  (선)깐굴   통영  16700  248.4  2021      4    8  2021.04    9277.78\n",
       "74132  (선)깐굴   통영  16100   85.5  2021      4    8  2021.04    8473.68\n",
       "74133  (선)깐굴   통영  16400   17.0  2021      4    8  2021.04    9647.06\n",
       "74134  (선)깐굴   통영  11000    7.8  2021      4    8  2021.04    8461.54\n",
       "74135  (선)깐굴   통영  15800   60.0  2021      4    8  2021.04    7900.00\n",
       "\n",
       "[74136 rows x 9 columns]"
      ]
     },
     "execution_count": 20,
     "metadata": {},
     "output_type": "execute_result"
    }
   ],
   "source": [
    "data"
   ]
  },
  {
   "cell_type": "code",
   "execution_count": 21,
   "metadata": {
    "ExecuteTime": {
     "end_time": "2021-04-15T05:31:47.527557Z",
     "start_time": "2021-04-15T05:31:47.497175Z"
    }
   },
   "outputs": [],
   "source": [
    "y_2020 = data[data['year']==2020]"
   ]
  },
  {
   "cell_type": "code",
   "execution_count": 22,
   "metadata": {
    "ExecuteTime": {
     "end_time": "2021-04-15T05:31:48.026930Z",
     "start_time": "2021-04-15T05:31:48.010184Z"
    }
   },
   "outputs": [],
   "source": [
    "grouped_2020 = y_2020.groupby('date')\n",
    "date = grouped_2020.agg({'최종수량': 'sum', '1kg price' : 'mean'})"
   ]
  },
  {
   "cell_type": "code",
   "execution_count": 23,
   "metadata": {
    "ExecuteTime": {
     "end_time": "2021-04-15T05:31:48.587994Z",
     "start_time": "2021-04-15T05:31:48.560745Z"
    }
   },
   "outputs": [
    {
     "data": {
      "text/html": [
       "<div>\n",
       "<style scoped>\n",
       "    .dataframe tbody tr th:only-of-type {\n",
       "        vertical-align: middle;\n",
       "    }\n",
       "\n",
       "    .dataframe tbody tr th {\n",
       "        vertical-align: top;\n",
       "    }\n",
       "\n",
       "    .dataframe thead th {\n",
       "        text-align: right;\n",
       "    }\n",
       "</style>\n",
       "<table border=\"1\" class=\"dataframe\">\n",
       "  <thead>\n",
       "    <tr style=\"text-align: right;\">\n",
       "      <th></th>\n",
       "      <th>최종수량</th>\n",
       "      <th>1kg price</th>\n",
       "    </tr>\n",
       "    <tr>\n",
       "      <th>date</th>\n",
       "      <th></th>\n",
       "      <th></th>\n",
       "    </tr>\n",
       "  </thead>\n",
       "  <tbody>\n",
       "    <tr>\n",
       "      <th>2020.01</th>\n",
       "      <td>133458.5</td>\n",
       "      <td>8996.317074</td>\n",
       "    </tr>\n",
       "    <tr>\n",
       "      <th>2020.02</th>\n",
       "      <td>81972.3</td>\n",
       "      <td>7932.073438</td>\n",
       "    </tr>\n",
       "    <tr>\n",
       "      <th>2020.03</th>\n",
       "      <td>40119.8</td>\n",
       "      <td>8729.941053</td>\n",
       "    </tr>\n",
       "    <tr>\n",
       "      <th>2020.04</th>\n",
       "      <td>16027.3</td>\n",
       "      <td>7347.767500</td>\n",
       "    </tr>\n",
       "    <tr>\n",
       "      <th>2020.05</th>\n",
       "      <td>6887.2</td>\n",
       "      <td>6153.296506</td>\n",
       "    </tr>\n",
       "    <tr>\n",
       "      <th>2020.06</th>\n",
       "      <td>2637.3</td>\n",
       "      <td>8821.508947</td>\n",
       "    </tr>\n",
       "    <tr>\n",
       "      <th>2020.07</th>\n",
       "      <td>2482.0</td>\n",
       "      <td>8707.278393</td>\n",
       "    </tr>\n",
       "    <tr>\n",
       "      <th>2020.08</th>\n",
       "      <td>2078.8</td>\n",
       "      <td>7536.389286</td>\n",
       "    </tr>\n",
       "    <tr>\n",
       "      <th>2020.09</th>\n",
       "      <td>6449.1</td>\n",
       "      <td>9500.595070</td>\n",
       "    </tr>\n",
       "    <tr>\n",
       "      <th>2020.10</th>\n",
       "      <td>45500.6</td>\n",
       "      <td>10798.152803</td>\n",
       "    </tr>\n",
       "    <tr>\n",
       "      <th>2020.11</th>\n",
       "      <td>95908.1</td>\n",
       "      <td>12821.263368</td>\n",
       "    </tr>\n",
       "    <tr>\n",
       "      <th>2020.12</th>\n",
       "      <td>135015.9</td>\n",
       "      <td>11058.419349</td>\n",
       "    </tr>\n",
       "  </tbody>\n",
       "</table>\n",
       "</div>"
      ],
      "text/plain": [
       "             최종수량     1kg price\n",
       "date                           \n",
       "2020.01  133458.5   8996.317074\n",
       "2020.02   81972.3   7932.073438\n",
       "2020.03   40119.8   8729.941053\n",
       "2020.04   16027.3   7347.767500\n",
       "2020.05    6887.2   6153.296506\n",
       "2020.06    2637.3   8821.508947\n",
       "2020.07    2482.0   8707.278393\n",
       "2020.08    2078.8   7536.389286\n",
       "2020.09    6449.1   9500.595070\n",
       "2020.10   45500.6  10798.152803\n",
       "2020.11   95908.1  12821.263368\n",
       "2020.12  135015.9  11058.419349"
      ]
     },
     "execution_count": 23,
     "metadata": {},
     "output_type": "execute_result"
    }
   ],
   "source": [
    "date"
   ]
  },
  {
   "cell_type": "code",
   "execution_count": 21,
   "metadata": {
    "ExecuteTime": {
     "end_time": "2021-04-14T05:06:22.958953Z",
     "start_time": "2021-04-14T05:06:22.668812Z"
    }
   },
   "outputs": [
    {
     "data": {
      "image/png": "[encoded data removed]",
      "text/plain": [
       "<Figure size 1080x576 with 2 Axes>"
      ]
     },
     "metadata": {
      "needs_background": "light"
     },
     "output_type": "display_data"
    }
   ],
   "source": [
    "plt.rcParams['figure.figsize'] = (15, 8)\n",
    "fig, ax1 = plt.subplots()\n",
    "ax1.plot(date.index,date['1kg price'],'red')\n",
    "ax2 = ax1.twinx()\n",
    "ax2.plot(date.index,date['최종수량'])\n",
    "plt.show()"
   ]
  },
  {
   "cell_type": "code",
   "execution_count": 24,
   "metadata": {
    "ExecuteTime": {
     "end_time": "2021-04-15T05:31:53.791666Z",
     "start_time": "2021-04-15T05:31:53.780402Z"
    }
   },
   "outputs": [],
   "source": [
    "y = [2007,2008,2009,2010,2011,2012,2013,2014,2015,2016,2017,2018,2019,2020]"
   ]
  },
  {
   "cell_type": "code",
   "execution_count": 25,
   "metadata": {
    "ExecuteTime": {
     "end_time": "2021-04-15T05:31:54.663990Z",
     "start_time": "2021-04-15T05:31:54.642337Z"
    }
   },
   "outputs": [
    {
     "data": {
      "text/html": [
       "<div>\n",
       "<style scoped>\n",
       "    .dataframe tbody tr th:only-of-type {\n",
       "        vertical-align: middle;\n",
       "    }\n",
       "\n",
       "    .dataframe tbody tr th {\n",
       "        vertical-align: top;\n",
       "    }\n",
       "\n",
       "    .dataframe thead th {\n",
       "        text-align: right;\n",
       "    }\n",
       "</style>\n",
       "<table border=\"1\" class=\"dataframe\">\n",
       "  <thead>\n",
       "    <tr style=\"text-align: right;\">\n",
       "      <th></th>\n",
       "      <th>어종</th>\n",
       "      <th>산지</th>\n",
       "      <th>평균가</th>\n",
       "      <th>최종수량</th>\n",
       "      <th>year</th>\n",
       "      <th>month</th>\n",
       "      <th>day</th>\n",
       "      <th>date</th>\n",
       "      <th>1kg price</th>\n",
       "    </tr>\n",
       "  </thead>\n",
       "  <tbody>\n",
       "    <tr>\n",
       "      <th>0</th>\n",
       "      <td>(선)깐굴</td>\n",
       "      <td>삼천포</td>\n",
       "      <td>11000</td>\n",
       "      <td>7.4</td>\n",
       "      <td>2006</td>\n",
       "      <td>4</td>\n",
       "      <td>4</td>\n",
       "      <td>2006.04</td>\n",
       "      <td>2972.97</td>\n",
       "    </tr>\n",
       "    <tr>\n",
       "      <th>1</th>\n",
       "      <td>(선)깐굴</td>\n",
       "      <td>고흥</td>\n",
       "      <td>17000</td>\n",
       "      <td>120.0</td>\n",
       "      <td>2006</td>\n",
       "      <td>4</td>\n",
       "      <td>4</td>\n",
       "      <td>2006.04</td>\n",
       "      <td>4250.00</td>\n",
       "    </tr>\n",
       "    <tr>\n",
       "      <th>2</th>\n",
       "      <td>(선)깐굴</td>\n",
       "      <td>삼천포</td>\n",
       "      <td>17000</td>\n",
       "      <td>87.0</td>\n",
       "      <td>2006</td>\n",
       "      <td>4</td>\n",
       "      <td>4</td>\n",
       "      <td>2006.04</td>\n",
       "      <td>5862.07</td>\n",
       "    </tr>\n",
       "    <tr>\n",
       "      <th>3</th>\n",
       "      <td>(선)깐굴</td>\n",
       "      <td>삼천포</td>\n",
       "      <td>10000</td>\n",
       "      <td>256.0</td>\n",
       "      <td>2006</td>\n",
       "      <td>4</td>\n",
       "      <td>4</td>\n",
       "      <td>2006.04</td>\n",
       "      <td>5000.00</td>\n",
       "    </tr>\n",
       "    <tr>\n",
       "      <th>4</th>\n",
       "      <td>(선)깐굴</td>\n",
       "      <td>삼천포</td>\n",
       "      <td>9100</td>\n",
       "      <td>341.7</td>\n",
       "      <td>2006</td>\n",
       "      <td>4</td>\n",
       "      <td>4</td>\n",
       "      <td>2006.04</td>\n",
       "      <td>5352.94</td>\n",
       "    </tr>\n",
       "    <tr>\n",
       "      <th>...</th>\n",
       "      <td>...</td>\n",
       "      <td>...</td>\n",
       "      <td>...</td>\n",
       "      <td>...</td>\n",
       "      <td>...</td>\n",
       "      <td>...</td>\n",
       "      <td>...</td>\n",
       "      <td>...</td>\n",
       "      <td>...</td>\n",
       "    </tr>\n",
       "    <tr>\n",
       "      <th>74131</th>\n",
       "      <td>(선)깐굴</td>\n",
       "      <td>통영</td>\n",
       "      <td>16700</td>\n",
       "      <td>248.4</td>\n",
       "      <td>2021</td>\n",
       "      <td>4</td>\n",
       "      <td>8</td>\n",
       "      <td>2021.04</td>\n",
       "      <td>9277.78</td>\n",
       "    </tr>\n",
       "    <tr>\n",
       "      <th>74132</th>\n",
       "      <td>(선)깐굴</td>\n",
       "      <td>통영</td>\n",
       "      <td>16100</td>\n",
       "      <td>85.5</td>\n",
       "      <td>2021</td>\n",
       "      <td>4</td>\n",
       "      <td>8</td>\n",
       "      <td>2021.04</td>\n",
       "      <td>8473.68</td>\n",
       "    </tr>\n",
       "    <tr>\n",
       "      <th>74133</th>\n",
       "      <td>(선)깐굴</td>\n",
       "      <td>통영</td>\n",
       "      <td>16400</td>\n",
       "      <td>17.0</td>\n",
       "      <td>2021</td>\n",
       "      <td>4</td>\n",
       "      <td>8</td>\n",
       "      <td>2021.04</td>\n",
       "      <td>9647.06</td>\n",
       "    </tr>\n",
       "    <tr>\n",
       "      <th>74134</th>\n",
       "      <td>(선)깐굴</td>\n",
       "      <td>통영</td>\n",
       "      <td>11000</td>\n",
       "      <td>7.8</td>\n",
       "      <td>2021</td>\n",
       "      <td>4</td>\n",
       "      <td>8</td>\n",
       "      <td>2021.04</td>\n",
       "      <td>8461.54</td>\n",
       "    </tr>\n",
       "    <tr>\n",
       "      <th>74135</th>\n",
       "      <td>(선)깐굴</td>\n",
       "      <td>통영</td>\n",
       "      <td>15800</td>\n",
       "      <td>60.0</td>\n",
       "      <td>2021</td>\n",
       "      <td>4</td>\n",
       "      <td>8</td>\n",
       "      <td>2021.04</td>\n",
       "      <td>7900.00</td>\n",
       "    </tr>\n",
       "  </tbody>\n",
       "</table>\n",
       "<p>74136 rows × 9 columns</p>\n",
       "</div>"
      ],
      "text/plain": [
       "          어종   산지    평균가   최종수량  year  month  day     date  1kg price\n",
       "0      (선)깐굴  삼천포  11000    7.4  2006      4    4  2006.04    2972.97\n",
       "1      (선)깐굴   고흥  17000  120.0  2006      4    4  2006.04    4250.00\n",
       "2      (선)깐굴  삼천포  17000   87.0  2006      4    4  2006.04    5862.07\n",
       "3      (선)깐굴  삼천포  10000  256.0  2006      4    4  2006.04    5000.00\n",
       "4      (선)깐굴  삼천포   9100  341.7  2006      4    4  2006.04    5352.94\n",
       "...      ...  ...    ...    ...   ...    ...  ...      ...        ...\n",
       "74131  (선)깐굴   통영  16700  248.4  2021      4    8  2021.04    9277.78\n",
       "74132  (선)깐굴   통영  16100   85.5  2021      4    8  2021.04    8473.68\n",
       "74133  (선)깐굴   통영  16400   17.0  2021      4    8  2021.04    9647.06\n",
       "74134  (선)깐굴   통영  11000    7.8  2021      4    8  2021.04    8461.54\n",
       "74135  (선)깐굴   통영  15800   60.0  2021      4    8  2021.04    7900.00\n",
       "\n",
       "[74136 rows x 9 columns]"
      ]
     },
     "execution_count": 25,
     "metadata": {},
     "output_type": "execute_result"
    }
   ],
   "source": [
    "data"
   ]
  },
  {
   "cell_type": "code",
   "execution_count": 26,
   "metadata": {
    "ExecuteTime": {
     "end_time": "2021-04-15T05:32:01.453954Z",
     "start_time": "2021-04-15T05:32:01.374186Z"
    },
    "code_folding": []
   },
   "outputs": [],
   "source": [
    "date1 =[]\n",
    "for i in y :\n",
    "    fil = data[data['year']== i]\n",
    "    grouped = fil.groupby('date')\n",
    "    date = grouped.agg({'최종수량': 'sum', '1kg price' : 'mean'})\n",
    "    date1.append(date)"
   ]
  },
  {
   "cell_type": "code",
   "execution_count": 27,
   "metadata": {
    "ExecuteTime": {
     "end_time": "2021-04-15T05:32:01.981979Z",
     "start_time": "2021-04-15T05:32:01.942422Z"
    }
   },
   "outputs": [
    {
     "data": {
      "text/plain": [
       "[             최종수량    1kg price\n",
       " date                          \n",
       " 2007.01  360255.2  4967.780371\n",
       " 2007.02  298404.7  5121.417343\n",
       " 2007.03  186511.2  4483.556757\n",
       " 2007.04   82321.3  4460.584116\n",
       " 2007.05   21098.1  4754.633850\n",
       " 2007.06   11242.0  5697.639452\n",
       " 2007.07   11111.1  5213.101818\n",
       " 2007.08   11686.5  5485.276000\n",
       " 2007.09   38200.1  5171.357201\n",
       " 2007.10  140621.6  4926.625676\n",
       " 2007.11  514303.5  7558.175601\n",
       " 2007.12  395688.1  5949.830674,\n",
       "              최종수량     1kg price\n",
       " date                           \n",
       " 2008.01  329404.5   4606.573466\n",
       " 2008.02  263862.9   4981.782233\n",
       " 2008.03  175000.1   4343.305738\n",
       " 2008.04   73670.4   4654.872526\n",
       " 2008.05   31304.3   4935.369359\n",
       " 2008.06   17582.7   5627.976259\n",
       " 2008.07   12840.5   4913.659708\n",
       " 2008.08   15729.0   6368.442340\n",
       " 2008.09   36223.5   6247.537782\n",
       " 2008.10  133233.3   6535.553345\n",
       " 2008.11  412038.3  10546.171459\n",
       " 2008.12  366990.2   7646.469673,\n",
       "              최종수량     1kg price\n",
       " date                           \n",
       " 2009.01  329377.5   7487.904061\n",
       " 2009.02  232692.5   6313.280754\n",
       " 2009.03  150584.3   6547.129355\n",
       " 2009.04   72390.0   6033.820577\n",
       " 2009.05   25686.3   7059.851872\n",
       " 2009.06   12222.2   8015.536069\n",
       " 2009.07   11026.8   6119.159767\n",
       " 2009.08   10531.0   6507.890392\n",
       " 2009.09   33576.9   6140.156897\n",
       " 2009.10  108281.2   8256.442908\n",
       " 2009.11  326320.9  11634.446656\n",
       " 2009.12  363895.4   8555.476244,\n",
       "              최종수량     1kg price\n",
       " date                           \n",
       " 2010.01  306335.8   6627.189086\n",
       " 2010.02  288658.0   7159.846901\n",
       " 2010.03  164966.2   6083.635820\n",
       " 2010.04   75694.0   5747.933684\n",
       " 2010.05   24441.6   6154.950679\n",
       " 2010.06   12823.3   6675.489864\n",
       " 2010.07   11010.6   5712.574213\n",
       " 2010.08   11177.5   6751.028457\n",
       " 2010.09   28445.9   6721.365633\n",
       " 2010.10   91456.5   7456.061352\n",
       " 2010.11  459687.9  10320.284279\n",
       " 2010.12  411643.9   9208.874438,\n",
       "              최종수량     1kg price\n",
       " date                           \n",
       " 2011.01  374949.3   8052.664607\n",
       " 2011.02  210648.4   7203.064195\n",
       " 2011.03  171028.2   6539.224518\n",
       " 2011.04   71640.0   6296.092407\n",
       " 2011.05   31366.1   7142.719510\n",
       " 2011.06   14195.3   8309.444610\n",
       " 2011.07   10344.9   6541.717966\n",
       " 2011.08   11173.3   7569.447086\n",
       " 2011.09   19238.8   8732.394497\n",
       " 2011.10  121000.6   8110.533117\n",
       " 2011.11  411328.3  10495.195545\n",
       " 2011.12  372964.7   8409.562325,\n",
       "              최종수량    1kg price\n",
       " date                          \n",
       " 2012.01  353134.2  7575.400516\n",
       " 2012.02  263800.0  6248.131462\n",
       " 2012.03  222041.8  5638.122015\n",
       " 2012.04   84174.5  5031.423625\n",
       " 2012.05   21430.3  4938.875592\n",
       " 2012.06   10225.1  6121.428182\n",
       " 2012.07    8602.3  5990.919947\n",
       " 2012.08    8585.7  6125.101243\n",
       " 2012.09   28145.1  7066.421762\n",
       " 2012.10  114318.6  6847.299599\n",
       " 2012.11  462455.6  9722.198975\n",
       " 2012.12  375431.1  8348.345680,\n",
       "              최종수량     1kg price\n",
       " date                           \n",
       " 2013.01  318865.8   5992.501703\n",
       " 2013.02  188919.7   4925.296243\n",
       " 2013.03  129990.6   4189.606977\n",
       " 2013.04   59278.3   4314.002317\n",
       " 2013.05   19862.2   4657.383583\n",
       " 2013.06    9292.4   5519.853737\n",
       " 2013.07    8415.1   4615.257174\n",
       " 2013.08    7522.1   4956.464125\n",
       " 2013.09   23620.7   5380.807355\n",
       " 2013.10   91355.6   7593.736964\n",
       " 2013.11  349642.2  10455.123453\n",
       " 2013.12  326982.2   8090.366338,\n",
       "              최종수량     1kg price\n",
       " date                           \n",
       " 2014.01  332331.0   7477.439010\n",
       " 2014.02  177367.6   6752.235028\n",
       " 2014.03  119791.0   6409.199509\n",
       " 2014.04   37286.3   6572.403532\n",
       " 2014.05   15544.8   6951.387669\n",
       " 2014.06    7354.2   7677.570192\n",
       " 2014.07    6509.9   6652.187975\n",
       " 2014.08    7805.8   8124.275728\n",
       " 2014.09   21129.6   7482.172500\n",
       " 2014.10  105753.7   8563.545724\n",
       " 2014.11  356949.8  10822.055425\n",
       " 2014.12  289825.4  10260.157771,\n",
       "              최종수량     1kg price\n",
       " date                           \n",
       " 2015.01  284854.5   6775.766036\n",
       " 2015.02  227430.5   6995.550713\n",
       " 2015.03   93590.2   6342.407801\n",
       " 2015.04   34919.8   6184.798225\n",
       " 2015.05   11057.1   7441.498375\n",
       " 2015.06    5807.0   8889.747614\n",
       " 2015.07    4993.7   8433.057215\n",
       " 2015.08    4670.3   9836.084762\n",
       " 2015.09   14553.8   8973.305820\n",
       " 2015.10   58097.3   8882.699151\n",
       " 2015.11  253574.7  11163.609281\n",
       " 2015.12  232476.1  10915.888870,\n",
       "              최종수량     1kg price\n",
       " date                           \n",
       " 2016.01  229036.8   8815.855108\n",
       " 2016.02  179968.5   7576.771364\n",
       " 2016.03   84330.5   7285.689840\n",
       " 2016.04   24912.6   6534.544101\n",
       " 2016.05    9326.3   6950.758013\n",
       " 2016.06    4420.5   7271.846481\n",
       " 2016.07    4059.6   6368.478315\n",
       " 2016.08    4139.5   7174.280870\n",
       " 2016.09   12043.1   7613.138427\n",
       " 2016.10   44994.8   8301.585645\n",
       " 2016.11  241911.7  11193.952164\n",
       " 2016.12  241152.6  10304.868133,\n",
       "              최종수량     1kg price\n",
       " date                           \n",
       " 2017.01  207963.1   8556.377192\n",
       " 2017.02  130180.8   5754.388126\n",
       " 2017.03   80538.7   5115.521385\n",
       " 2017.04   26186.5   5015.950166\n",
       " 2017.05    8704.5   5315.217750\n",
       " 2017.06    5200.4   6428.366613\n",
       " 2017.07    3885.1   4531.765490\n",
       " 2017.08    4255.7   6884.236353\n",
       " 2017.09   12007.0   6407.021613\n",
       " 2017.10   57630.2   8023.967683\n",
       " 2017.11  267868.9  10475.377524\n",
       " 2017.12  243761.4   9446.686880,\n",
       "              최종수량     1kg price\n",
       " date                           \n",
       " 2018.01  207309.3   6835.084477\n",
       " 2018.02  160864.2   7382.814109\n",
       " 2018.03   76216.5   6150.993990\n",
       " 2018.04   15788.2   6103.435888\n",
       " 2018.05    6723.2   6345.968846\n",
       " 2018.06    4013.7   7046.237838\n",
       " 2018.07    2940.0   7111.586575\n",
       " 2018.08    2831.5   7245.242857\n",
       " 2018.09   11297.9   7329.240000\n",
       " 2018.10   47874.5   8584.583105\n",
       " 2018.11  228687.7  10860.166250\n",
       " 2018.12  191996.6  10924.376424,\n",
       "              최종수량     1kg price\n",
       " date                           \n",
       " 2019.01  193364.7   7734.843689\n",
       " 2019.02   97459.4   7233.748541\n",
       " 2019.03   45764.8   7053.081717\n",
       " 2019.04   19522.8   6929.275152\n",
       " 2019.05    6317.4   7829.123462\n",
       " 2019.06    3057.8  10102.759464\n",
       " 2019.07    2739.3   9532.418219\n",
       " 2019.08    2600.3   9652.915000\n",
       " 2019.09    8032.1   8317.189873\n",
       " 2019.10   44766.8   8475.545294\n",
       " 2019.11  206071.7  10635.443246\n",
       " 2019.12  177417.8  10406.528031,\n",
       "              최종수량     1kg price\n",
       " date                           \n",
       " 2020.01  133458.5   8996.317074\n",
       " 2020.02   81972.3   7932.073438\n",
       " 2020.03   40119.8   8729.941053\n",
       " 2020.04   16027.3   7347.767500\n",
       " 2020.05    6887.2   6153.296506\n",
       " 2020.06    2637.3   8821.508947\n",
       " 2020.07    2482.0   8707.278393\n",
       " 2020.08    2078.8   7536.389286\n",
       " 2020.09    6449.1   9500.595070\n",
       " 2020.10   45500.6  10798.152803\n",
       " 2020.11   95908.1  12821.263368\n",
       " 2020.12  135015.9  11058.419349]"
      ]
     },
     "execution_count": 27,
     "metadata": {},
     "output_type": "execute_result"
    }
   ],
   "source": [
    "date1"
   ]
  },
  {
   "cell_type": "code",
   "execution_count": 28,
   "metadata": {
    "ExecuteTime": {
     "end_time": "2021-04-15T05:32:18.210836Z",
     "start_time": "2021-04-15T05:32:18.191919Z"
    }
   },
   "outputs": [
    {
     "data": {
      "text/plain": [
       "Float64Index([2008.01, 2008.02, 2008.03, 2008.04, 2008.05, 2008.06, 2008.07,\n",
       "              2008.08, 2008.09,  2008.1, 2008.11, 2008.12],\n",
       "             dtype='float64', name='date')"
      ]
     },
     "execution_count": 28,
     "metadata": {},
     "output_type": "execute_result"
    }
   ],
   "source": [
    "date1[1].index"
   ]
  },
  {
   "cell_type": "code",
   "execution_count": 29,
   "metadata": {
    "ExecuteTime": {
     "end_time": "2021-04-15T05:32:18.850300Z",
     "start_time": "2021-04-15T05:32:18.840528Z"
    }
   },
   "outputs": [
    {
     "data": {
      "text/plain": [
       "date\n",
       "2008.01     4606.573466\n",
       "2008.02     4981.782233\n",
       "2008.03     4343.305738\n",
       "2008.04     4654.872526\n",
       "2008.05     4935.369359\n",
       "2008.06     5627.976259\n",
       "2008.07     4913.659708\n",
       "2008.08     6368.442340\n",
       "2008.09     6247.537782\n",
       "2008.10     6535.553345\n",
       "2008.11    10546.171459\n",
       "2008.12     7646.469673\n",
       "Name: 1kg price, dtype: float64"
      ]
     },
     "execution_count": 29,
     "metadata": {},
     "output_type": "execute_result"
    }
   ],
   "source": [
    "date1[1]['1kg price']"
   ]
  },
  {
   "cell_type": "code",
   "execution_count": 30,
   "metadata": {
    "ExecuteTime": {
     "end_time": "2021-04-15T05:32:19.815438Z",
     "start_time": "2021-04-15T05:32:19.803786Z"
    },
    "scrolled": true
   },
   "outputs": [
    {
     "data": {
      "text/plain": [
       "array([0, 1, 2, 3, 4, 5, 6, 7, 8, 9])"
      ]
     },
     "execution_count": 30,
     "metadata": {},
     "output_type": "execute_result"
    }
   ],
   "source": [
    "num = np.arange(0,10)\n",
    "num"
   ]
  },
  {
   "cell_type": "code",
   "execution_count": 31,
   "metadata": {
    "ExecuteTime": {
     "end_time": "2021-04-15T05:32:21.810438Z",
     "start_time": "2021-04-15T05:32:20.975473Z"
    }
   },
   "outputs": [],
   "source": [
    "import platform\n",
    "from scipy.stats import *\n",
    "from matplotlib import font_manager, rc\n",
    "plt.rcParams['axes.unicode_minus'] = False\n",
    "\n",
    "if platform.system() == 'Darwin':  # 맥OS \n",
    "    rc('font', family='AppleGothic')\n",
    "elif platform.system() == 'Windows': \n",
    "    # 윈도우   \n",
    "    path = \"c:/Windows/Fonts/malgun.ttf\"\n",
    "    font_name = font_manager.FontProperties(fname=path).get_name()\n",
    "    rc('font', family=font_name)\n",
    "else:\n",
    "    print('Unknown system...  sorry~~~')"
   ]
  },
  {
   "cell_type": "code",
   "execution_count": 32,
   "metadata": {
    "ExecuteTime": {
     "end_time": "2021-04-15T05:32:23.009929Z",
     "start_time": "2021-04-15T05:32:23.003321Z"
    }
   },
   "outputs": [],
   "source": [
    "date_2008 = date1[1]"
   ]
  },
  {
   "cell_type": "code",
   "execution_count": 33,
   "metadata": {
    "ExecuteTime": {
     "end_time": "2021-04-15T05:32:23.462337Z",
     "start_time": "2021-04-15T05:32:23.448360Z"
    }
   },
   "outputs": [
    {
     "name": "stdout",
     "output_type": "stream",
     "text": [
      "<class 'pandas.core.frame.DataFrame'>\n",
      "Float64Index: 12 entries, 2008.01 to 2008.12\n",
      "Data columns (total 2 columns):\n",
      " #   Column     Non-Null Count  Dtype  \n",
      "---  ------     --------------  -----  \n",
      " 0   최종수량       12 non-null     float64\n",
      " 1   1kg price  12 non-null     float64\n",
      "dtypes: float64(2)\n",
      "memory usage: 288.0 bytes\n"
     ]
    }
   ],
   "source": [
    "date_2008.info()"
   ]
  },
  {
   "cell_type": "code",
   "execution_count": 37,
   "metadata": {
    "ExecuteTime": {
     "end_time": "2021-04-15T05:32:44.574145Z",
     "start_time": "2021-04-15T05:32:44.557872Z"
    }
   },
   "outputs": [
    {
     "data": {
      "text/html": [
       "<div>\n",
       "<style scoped>\n",
       "    .dataframe tbody tr th:only-of-type {\n",
       "        vertical-align: middle;\n",
       "    }\n",
       "\n",
       "    .dataframe tbody tr th {\n",
       "        vertical-align: top;\n",
       "    }\n",
       "\n",
       "    .dataframe thead th {\n",
       "        text-align: right;\n",
       "    }\n",
       "</style>\n",
       "<table border=\"1\" class=\"dataframe\">\n",
       "  <thead>\n",
       "    <tr style=\"text-align: right;\">\n",
       "      <th></th>\n",
       "      <th>최종수량</th>\n",
       "      <th>1kg price</th>\n",
       "    </tr>\n",
       "    <tr>\n",
       "      <th>date</th>\n",
       "      <th></th>\n",
       "      <th></th>\n",
       "    </tr>\n",
       "  </thead>\n",
       "  <tbody>\n",
       "    <tr>\n",
       "      <th>2008.01</th>\n",
       "      <td>329404.5</td>\n",
       "      <td>4606.573466</td>\n",
       "    </tr>\n",
       "    <tr>\n",
       "      <th>2008.02</th>\n",
       "      <td>263862.9</td>\n",
       "      <td>4981.782233</td>\n",
       "    </tr>\n",
       "    <tr>\n",
       "      <th>2008.03</th>\n",
       "      <td>175000.1</td>\n",
       "      <td>4343.305738</td>\n",
       "    </tr>\n",
       "    <tr>\n",
       "      <th>2008.04</th>\n",
       "      <td>73670.4</td>\n",
       "      <td>4654.872526</td>\n",
       "    </tr>\n",
       "    <tr>\n",
       "      <th>2008.05</th>\n",
       "      <td>31304.3</td>\n",
       "      <td>4935.369359</td>\n",
       "    </tr>\n",
       "    <tr>\n",
       "      <th>2008.06</th>\n",
       "      <td>17582.7</td>\n",
       "      <td>5627.976259</td>\n",
       "    </tr>\n",
       "    <tr>\n",
       "      <th>2008.07</th>\n",
       "      <td>12840.5</td>\n",
       "      <td>4913.659708</td>\n",
       "    </tr>\n",
       "    <tr>\n",
       "      <th>2008.08</th>\n",
       "      <td>15729.0</td>\n",
       "      <td>6368.442340</td>\n",
       "    </tr>\n",
       "    <tr>\n",
       "      <th>2008.09</th>\n",
       "      <td>36223.5</td>\n",
       "      <td>6247.537782</td>\n",
       "    </tr>\n",
       "    <tr>\n",
       "      <th>2008.10</th>\n",
       "      <td>133233.3</td>\n",
       "      <td>6535.553345</td>\n",
       "    </tr>\n",
       "    <tr>\n",
       "      <th>2008.11</th>\n",
       "      <td>412038.3</td>\n",
       "      <td>10546.171459</td>\n",
       "    </tr>\n",
       "    <tr>\n",
       "      <th>2008.12</th>\n",
       "      <td>366990.2</td>\n",
       "      <td>7646.469673</td>\n",
       "    </tr>\n",
       "  </tbody>\n",
       "</table>\n",
       "</div>"
      ],
      "text/plain": [
       "             최종수량     1kg price\n",
       "date                           \n",
       "2008.01  329404.5   4606.573466\n",
       "2008.02  263862.9   4981.782233\n",
       "2008.03  175000.1   4343.305738\n",
       "2008.04   73670.4   4654.872526\n",
       "2008.05   31304.3   4935.369359\n",
       "2008.06   17582.7   5627.976259\n",
       "2008.07   12840.5   4913.659708\n",
       "2008.08   15729.0   6368.442340\n",
       "2008.09   36223.5   6247.537782\n",
       "2008.10  133233.3   6535.553345\n",
       "2008.11  412038.3  10546.171459\n",
       "2008.12  366990.2   7646.469673"
      ]
     },
     "execution_count": 37,
     "metadata": {},
     "output_type": "execute_result"
    }
   ],
   "source": [
    "date1[1]"
   ]
  },
  {
   "cell_type": "code",
   "execution_count": 42,
   "metadata": {
    "ExecuteTime": {
     "end_time": "2021-04-15T05:33:52.960308Z",
     "start_time": "2021-04-15T05:33:52.948659Z"
    }
   },
   "outputs": [
    {
     "data": {
      "text/html": [
       "<div>\n",
       "<style scoped>\n",
       "    .dataframe tbody tr th:only-of-type {\n",
       "        vertical-align: middle;\n",
       "    }\n",
       "\n",
       "    .dataframe tbody tr th {\n",
       "        vertical-align: top;\n",
       "    }\n",
       "\n",
       "    .dataframe thead th {\n",
       "        text-align: right;\n",
       "    }\n",
       "</style>\n",
       "<table border=\"1\" class=\"dataframe\">\n",
       "  <thead>\n",
       "    <tr style=\"text-align: right;\">\n",
       "      <th></th>\n",
       "      <th>최종수량</th>\n",
       "      <th>1kg price</th>\n",
       "    </tr>\n",
       "    <tr>\n",
       "      <th>date</th>\n",
       "      <th></th>\n",
       "      <th></th>\n",
       "    </tr>\n",
       "  </thead>\n",
       "  <tbody>\n",
       "    <tr>\n",
       "      <th>2008.01</th>\n",
       "      <td>329404.5</td>\n",
       "      <td>4606.573466</td>\n",
       "    </tr>\n",
       "    <tr>\n",
       "      <th>2008.02</th>\n",
       "      <td>263862.9</td>\n",
       "      <td>4981.782233</td>\n",
       "    </tr>\n",
       "    <tr>\n",
       "      <th>2008.03</th>\n",
       "      <td>175000.1</td>\n",
       "      <td>4343.305738</td>\n",
       "    </tr>\n",
       "    <tr>\n",
       "      <th>2008.04</th>\n",
       "      <td>73670.4</td>\n",
       "      <td>4654.872526</td>\n",
       "    </tr>\n",
       "    <tr>\n",
       "      <th>2008.05</th>\n",
       "      <td>31304.3</td>\n",
       "      <td>4935.369359</td>\n",
       "    </tr>\n",
       "    <tr>\n",
       "      <th>2008.06</th>\n",
       "      <td>17582.7</td>\n",
       "      <td>5627.976259</td>\n",
       "    </tr>\n",
       "    <tr>\n",
       "      <th>2008.07</th>\n",
       "      <td>12840.5</td>\n",
       "      <td>4913.659708</td>\n",
       "    </tr>\n",
       "    <tr>\n",
       "      <th>2008.08</th>\n",
       "      <td>15729.0</td>\n",
       "      <td>6368.442340</td>\n",
       "    </tr>\n",
       "    <tr>\n",
       "      <th>2008.09</th>\n",
       "      <td>36223.5</td>\n",
       "      <td>6247.537782</td>\n",
       "    </tr>\n",
       "    <tr>\n",
       "      <th>2008.10</th>\n",
       "      <td>133233.3</td>\n",
       "      <td>6535.553345</td>\n",
       "    </tr>\n",
       "    <tr>\n",
       "      <th>2008.11</th>\n",
       "      <td>412038.3</td>\n",
       "      <td>10546.171459</td>\n",
       "    </tr>\n",
       "    <tr>\n",
       "      <th>2008.12</th>\n",
       "      <td>366990.2</td>\n",
       "      <td>7646.469673</td>\n",
       "    </tr>\n",
       "  </tbody>\n",
       "</table>\n",
       "</div>"
      ],
      "text/plain": [
       "             최종수량     1kg price\n",
       "date                           \n",
       "2008.01  329404.5   4606.573466\n",
       "2008.02  263862.9   4981.782233\n",
       "2008.03  175000.1   4343.305738\n",
       "2008.04   73670.4   4654.872526\n",
       "2008.05   31304.3   4935.369359\n",
       "2008.06   17582.7   5627.976259\n",
       "2008.07   12840.5   4913.659708\n",
       "2008.08   15729.0   6368.442340\n",
       "2008.09   36223.5   6247.537782\n",
       "2008.10  133233.3   6535.553345\n",
       "2008.11  412038.3  10546.171459\n",
       "2008.12  366990.2   7646.469673"
      ]
     },
     "execution_count": 42,
     "metadata": {},
     "output_type": "execute_result"
    }
   ],
   "source": [
    "date_2008"
   ]
  },
  {
   "cell_type": "code",
   "execution_count": 43,
   "metadata": {
    "ExecuteTime": {
     "end_time": "2021-04-15T05:33:59.712175Z",
     "start_time": "2021-04-15T05:33:59.686720Z"
    }
   },
   "outputs": [
    {
     "ename": "NameError",
     "evalue": "name 'date_2009' is not defined",
     "output_type": "error",
     "traceback": [
      "\u001b[1;31m---------------------------------------------------------------------------\u001b[0m",
      "\u001b[1;31mNameError\u001b[0m                                 Traceback (most recent call last)",
      "\u001b[1;32m<ipython-input-43-420983c33485>\u001b[0m in \u001b[0;36m<module>\u001b[1;34m\u001b[0m\n\u001b[1;32m----> 1\u001b[1;33m \u001b[0mdate_2009\u001b[0m\u001b[1;33m\u001b[0m\u001b[1;33m\u001b[0m\u001b[0m\n\u001b[0m",
      "\u001b[1;31mNameError\u001b[0m: name 'date_2009' is not defined"
     ]
    }
   ],
   "source": [
    "date_2009 = date1[2]"
   ]
  },
  {
   "cell_type": "code",
   "execution_count": 38,
   "metadata": {
    "ExecuteTime": {
     "end_time": "2021-04-15T05:33:01.155005Z",
     "start_time": "2021-04-15T05:33:01.144302Z"
    }
   },
   "outputs": [],
   "source": [
    "x = ['1','2','3','4','5','6','7','8','9','10','11','12']"
   ]
  },
  {
   "cell_type": "code",
   "execution_count": 44,
   "metadata": {
    "ExecuteTime": {
     "end_time": "2021-04-15T05:34:27.189069Z",
     "start_time": "2021-04-15T05:34:27.172562Z"
    }
   },
   "outputs": [],
   "source": [
    "date_2007 = date1[0]\n",
    "date_2008 = date1[1]\n",
    "date_2009 = date1[2]\n",
    "date_2010 = date1[3]\n",
    "date_2011 = date1[4]\n",
    "date_2012 = date1[5]\n",
    "date_2013 = date1[6]\n",
    "date_2014 = date1[7]\n",
    "date_2015 = date1[8]\n",
    "date_2016 = date1[9]\n",
    "date_2017 = date1[10]\n",
    "date_2018 = date1[11]\n",
    "date_2019 = date1[12]\n",
    "date_2020 = date1[13]"
   ]
  },
  {
   "cell_type": "code",
   "execution_count": 40,
   "metadata": {
    "ExecuteTime": {
     "end_time": "2021-04-15T05:33:03.113810Z",
     "start_time": "2021-04-15T05:33:03.102990Z"
    }
   },
   "outputs": [],
   "source": [
    "num=np.arange(2008,2020,1)"
   ]
  },
  {
   "cell_type": "code",
   "execution_count": 45,
   "metadata": {
    "ExecuteTime": {
     "end_time": "2021-04-15T05:34:32.836334Z",
     "start_time": "2021-04-15T05:34:30.774377Z"
    },
    "scrolled": true
   },
   "outputs": [
    {
     "data": {
      "image/png": "[encoded data removed]",
      "text/plain": [
       "<Figure size 1296x648 with 24 Axes>"
      ]
     },
     "metadata": {
      "needs_background": "light"
     },
     "output_type": "display_data"
    }
   ],
   "source": [
    "fig, ax1 = plt.subplots(figsize=(18,9),nrows=3, ncols=4)\n",
    "ax1[0][0].plot(x,date_2008['1kg price'],'red')\n",
    "ax2 = ax1[0][0].twinx()\n",
    "ax2.plot(x,date_2008['최종수량'])\n",
    "\n",
    "ax1[0,1].plot(x,date_2009['1kg price'],'red')\n",
    "ax2 = ax1[0][1].twinx()\n",
    "ax2.plot(x,date_2009['최종수량'])\n",
    "\n",
    "ax1[0][2].plot(x,date_2010['1kg price'],'red')\n",
    "ax2 = ax1[0][2].twinx()\n",
    "ax2.plot(x,date_2010['최종수량'])\n",
    "\n",
    "ax1[0][3].plot(x,date_2011['1kg price'],'red')\n",
    "ax2 = ax1[0][3].twinx()\n",
    "ax2.plot(x,date_2011['최종수량'])\n",
    "\n",
    "ax1[1][0].plot(x,date_2012['1kg price'],'red')\n",
    "ax2 = ax1[1][0].twinx()\n",
    "ax2.plot(x,date_2012['최종수량'])\n",
    "\n",
    "ax1[1][1].plot(x,date_2013['1kg price'],'red')\n",
    "ax2 = ax1[1][1].twinx()\n",
    "ax2.plot(x,date_2013['최종수량'])\n",
    "\n",
    "ax1[1][2].plot(x,date_2014['1kg price'],'red')\n",
    "ax2 = ax1[1][2].twinx()\n",
    "ax2.plot(x,date_2014['최종수량'])\n",
    "\n",
    "ax1[1][3].plot(x,date_2015['1kg price'],'red')\n",
    "ax2 = ax1[1][3].twinx()\n",
    "ax2.plot(x,date_2015['최종수량'])\n",
    "\n",
    "ax1[2][0].plot(x,date_2016['1kg price'],'red')\n",
    "ax2 = ax1[2][0].twinx()\n",
    "ax2.plot(x,date_2016['최종수량'])\n",
    "\n",
    "ax1[2][1].plot(x,date_2017['1kg price'],'red')\n",
    "ax2 = ax1[2][1].twinx()\n",
    "ax2.plot(x,date_2017['최종수량'])\n",
    "\n",
    "ax1[2][2].plot(x,date_2018['1kg price'],'red')\n",
    "ax2 = ax1[2][2].twinx()\n",
    "ax2.plot(x,date_2018['최종수량'])\n",
    "\n",
    "ax1[2][3].plot(x,date_2019['1kg price'],'red')\n",
    "ax2 = ax1[2][3].twinx()\n",
    "ax2.plot(x,date_2019['최종수량'])\n",
    "\n",
    "fig.subplots_adjust(wspace = 0.4)\n",
    "plt.xticks(x)\n",
    "plt.show()"
   ]
  },
  {
   "cell_type": "code",
   "execution_count": 46,
   "metadata": {
    "ExecuteTime": {
     "end_time": "2021-04-15T05:34:39.780469Z",
     "start_time": "2021-04-15T05:34:39.711724Z"
    }
   },
   "outputs": [],
   "source": [
    "where =[]\n",
    "for i in y :\n",
    "    fil = data[data['year']== i]\n",
    "    grouped = fil.groupby('산지')\n",
    "    date = grouped.agg({'최종수량': 'sum', '1kg price' : 'mean'})\n",
    "    where.append(date)"
   ]
  },
  {
   "cell_type": "code",
   "execution_count": 49,
   "metadata": {
    "ExecuteTime": {
     "end_time": "2021-04-15T05:34:44.083335Z",
     "start_time": "2021-04-15T05:34:44.076245Z"
    }
   },
   "outputs": [
    {
     "data": {
      "text/plain": [
       "14"
      ]
     },
     "execution_count": 49,
     "metadata": {},
     "output_type": "execute_result"
    }
   ],
   "source": [
    "len(where)"
   ]
  },
  {
   "cell_type": "code",
   "execution_count": 50,
   "metadata": {
    "ExecuteTime": {
     "end_time": "2021-04-15T05:34:45.075850Z",
     "start_time": "2021-04-15T05:34:45.059978Z"
    }
   },
   "outputs": [
    {
     "data": {
      "text/html": [
       "<div>\n",
       "<style scoped>\n",
       "    .dataframe tbody tr th:only-of-type {\n",
       "        vertical-align: middle;\n",
       "    }\n",
       "\n",
       "    .dataframe tbody tr th {\n",
       "        vertical-align: top;\n",
       "    }\n",
       "\n",
       "    .dataframe thead th {\n",
       "        text-align: right;\n",
       "    }\n",
       "</style>\n",
       "<table border=\"1\" class=\"dataframe\">\n",
       "  <thead>\n",
       "    <tr style=\"text-align: right;\">\n",
       "      <th></th>\n",
       "      <th>최종수량</th>\n",
       "      <th>1kg price</th>\n",
       "    </tr>\n",
       "    <tr>\n",
       "      <th>산지</th>\n",
       "      <th></th>\n",
       "      <th></th>\n",
       "    </tr>\n",
       "  </thead>\n",
       "  <tbody>\n",
       "    <tr>\n",
       "      <th>고흥</th>\n",
       "      <td>7700.6</td>\n",
       "      <td>8045.239333</td>\n",
       "    </tr>\n",
       "    <tr>\n",
       "      <th>남해</th>\n",
       "      <td>87980.4</td>\n",
       "      <td>10090.787436</td>\n",
       "    </tr>\n",
       "    <tr>\n",
       "      <th>마산</th>\n",
       "      <td>2710.6</td>\n",
       "      <td>8460.170000</td>\n",
       "    </tr>\n",
       "    <tr>\n",
       "      <th>사천</th>\n",
       "      <td>59742.9</td>\n",
       "      <td>10317.677128</td>\n",
       "    </tr>\n",
       "    <tr>\n",
       "      <th>삼천포</th>\n",
       "      <td>83081.4</td>\n",
       "      <td>9906.195310</td>\n",
       "    </tr>\n",
       "    <tr>\n",
       "      <th>통영</th>\n",
       "      <td>327321.0</td>\n",
       "      <td>9300.641322</td>\n",
       "    </tr>\n",
       "  </tbody>\n",
       "</table>\n",
       "</div>"
      ],
      "text/plain": [
       "         최종수량     1kg price\n",
       "산지                         \n",
       "고흥     7700.6   8045.239333\n",
       "남해    87980.4  10090.787436\n",
       "마산     2710.6   8460.170000\n",
       "사천    59742.9  10317.677128\n",
       "삼천포   83081.4   9906.195310\n",
       "통영   327321.0   9300.641322"
      ]
     },
     "execution_count": 50,
     "metadata": {},
     "output_type": "execute_result"
    }
   ],
   "source": [
    "where[13]"
   ]
  },
  {
   "cell_type": "code",
   "execution_count": 51,
   "metadata": {
    "ExecuteTime": {
     "end_time": "2021-04-15T05:34:46.216381Z",
     "start_time": "2021-04-15T05:34:46.204227Z"
    }
   },
   "outputs": [],
   "source": [
    "where_2007 = where[0]\n",
    "where_2008 = where[1]\n",
    "where_2009 = where[2]\n",
    "where_2010 = where[3]\n",
    "where_2011 = where[4]\n",
    "where_2012 = where[5]\n",
    "where_2013 = where[6]\n",
    "where_2014 = where[7]\n",
    "where_2015 = where[8]\n",
    "where_2016 = where[9]\n",
    "where_2017 = where[10]\n",
    "where_2018 = where[11]\n",
    "where_2019 = where[12]\n",
    "where_2020 = where[13]"
   ]
  },
  {
   "cell_type": "code",
   "execution_count": 52,
   "metadata": {
    "ExecuteTime": {
     "end_time": "2021-04-15T05:34:47.246465Z",
     "start_time": "2021-04-15T05:34:47.223221Z"
    }
   },
   "outputs": [
    {
     "data": {
      "text/plain": [
       "산지\n",
       "고흥       73425.9\n",
       "남해      353441.6\n",
       "마산       11312.8\n",
       "사천      424874.1\n",
       "삼천포       2931.2\n",
       "통영     1001894.1\n",
       "Name: 최종수량, dtype: float64"
      ]
     },
     "execution_count": 52,
     "metadata": {},
     "output_type": "execute_result"
    }
   ],
   "source": [
    "where[1]['최종수량']"
   ]
  },
  {
   "cell_type": "code",
   "execution_count": 79,
   "metadata": {
    "ExecuteTime": {
     "end_time": "2021-04-15T05:43:10.075412Z",
     "start_time": "2021-04-15T05:43:10.059248Z"
    }
   },
   "outputs": [],
   "source": [
    "num = [0,0,0,0,1,1,1,1,2,2,2,2,3,3]"
   ]
  },
  {
   "cell_type": "code",
   "execution_count": 232,
   "metadata": {
    "ExecuteTime": {
     "end_time": "2021-04-14T08:28:48.959718Z",
     "start_time": "2021-04-14T08:28:48.951666Z"
    }
   },
   "outputs": [
    {
     "data": {
      "text/plain": [
       "3"
      ]
     },
     "execution_count": 232,
     "metadata": {},
     "output_type": "execute_result"
    }
   ],
   "source": [
    "(11%4)"
   ]
  },
  {
   "cell_type": "code",
   "execution_count": 55,
   "metadata": {
    "ExecuteTime": {
     "end_time": "2021-04-15T05:35:00.586296Z",
     "start_time": "2021-04-15T05:35:00.544511Z"
    }
   },
   "outputs": [],
   "source": [
    "where_2007 = where_2007.round(2).sort_values(['최종수량'], ascending=False)\n",
    "where_2008 = where_2008.round(2).sort_values(['최종수량'], ascending=False)\n",
    "where_2009 = where_2009.round(2).sort_values(['최종수량'], ascending=False)\n",
    "where_2010 = where_2010.round(2).sort_values(['최종수량'], ascending=False)\n",
    "where_2011 = where_2011.round(2).sort_values(['최종수량'], ascending=False)\n",
    "where_2012 = where_2012.round(2).sort_values(['최종수량'], ascending=False)\n",
    "where_2013 = where_2013.round(2).sort_values(['최종수량'], ascending=False)\n",
    "where_2014 = where_2014.round(2).sort_values(['최종수량'], ascending=False)\n",
    "where_2015 = where_2015.round(2).sort_values(['최종수량'], ascending=False)\n",
    "where_2016 = where_2016.round(2).sort_values(['최종수량'], ascending=False)\n",
    "where_2017 = where_2017.round(2).sort_values(['최종수량'], ascending=False)\n",
    "where_2018 = where_2018.round(2).sort_values(['최종수량'], ascending=False)\n",
    "where_2019 = where_2019.round(2).sort_values(['최종수량'], ascending=False)\n",
    "where_2020 = where_2020.round(2).sort_values(['최종수량'], ascending=False)"
   ]
  },
  {
   "cell_type": "code",
   "execution_count": 72,
   "metadata": {
    "ExecuteTime": {
     "end_time": "2021-04-15T05:41:50.006202Z",
     "start_time": "2021-04-15T05:41:49.996512Z"
    }
   },
   "outputs": [
    {
     "data": {
      "text/plain": [
       "14"
      ]
     },
     "execution_count": 72,
     "metadata": {},
     "output_type": "execute_result"
    }
   ],
   "source": [
    "len(where)"
   ]
  },
  {
   "cell_type": "code",
   "execution_count": 75,
   "metadata": {
    "ExecuteTime": {
     "end_time": "2021-04-15T05:42:11.941857Z",
     "start_time": "2021-04-15T05:42:11.932869Z"
    }
   },
   "outputs": [
    {
     "data": {
      "text/plain": [
       "array([ 0,  1,  2,  3,  4,  5,  6,  7,  8,  9, 10, 11, 12, 13, 14])"
      ]
     },
     "execution_count": 75,
     "metadata": {},
     "output_type": "execute_result"
    }
   ],
   "source": [
    "num2 = np.arange(0,15,1)\n",
    "num2"
   ]
  },
  {
   "cell_type": "code",
   "execution_count": 80,
   "metadata": {
    "ExecuteTime": {
     "end_time": "2021-04-15T05:43:14.813806Z",
     "start_time": "2021-04-15T05:43:12.233967Z"
    }
   },
   "outputs": [
    {
     "data": {
      "image/png": "[encoded data removed]",
      "text/plain": [
       "<Figure size 1296x648 with 30 Axes>"
      ]
     },
     "metadata": {
      "needs_background": "light"
     },
     "output_type": "display_data"
    }
   ],
   "source": [
    "fig, ax1 = plt.subplots(figsize=(18,9),nrows=4, ncols=4)\n",
    "for i, j in zip(num, num2) :\n",
    "    row = i\n",
    "    col = j%4\n",
    "    ax1[row,col].plot(where[j].index,where[j]['1kg price'],'red')\n",
    "    ax2 = ax1[row,col].twinx()\n",
    "    ax2.bar(where[j].index,where[j]['최종수량'], alpha=0.5)\n",
    "    plt.title"
   ]
  },
  {
   "cell_type": "code",
   "execution_count": null,
   "metadata": {},
   "outputs": [],
   "source": [
    "# 마산 제외"
   ]
  },
  {
   "cell_type": "code",
   "execution_count": null,
   "metadata": {},
   "outputs": [],
   "source": []
  },
  {
   "cell_type": "code",
   "execution_count": null,
   "metadata": {},
   "outputs": [],
   "source": []
  },
  {
   "cell_type": "code",
   "execution_count": null,
   "metadata": {},
   "outputs": [],
   "source": []
  },
  {
   "cell_type": "code",
   "execution_count": null,
   "metadata": {},
   "outputs": [],
   "source": []
  },
  {
   "cell_type": "code",
   "execution_count": null,
   "metadata": {},
   "outputs": [],
   "source": []
  },
  {
   "cell_type": "code",
   "execution_count": null,
   "metadata": {},
   "outputs": [],
   "source": []
  },
  {
   "cell_type": "code",
   "execution_count": null,
   "metadata": {},
   "outputs": [],
   "source": []
  }
 ],
 "metadata": {
  "kernelspec": {
   "display_name": "Python 3",
   "language": "python",
   "name": "python3"
  },
  "language_info": {
   "codemirror_mode": {
    "name": "ipython",
    "version": 3
   },
   "file_extension": ".py",
   "mimetype": "text/x-python",
   "name": "python",
   "nbconvert_exporter": "python",
   "pygments_lexer": "ipython3",
   "version": "3.8.5"
  },
  "toc": {
   "base_numbering": 1,
   "nav_menu": {},
   "number_sections": true,
   "sideBar": true,
   "skip_h1_title": false,
   "title_cell": "Table of Contents",
   "title_sidebar": "Contents",
   "toc_cell": false,
   "toc_position": {},
   "toc_section_display": true,
   "toc_window_display": false
  },
  "varInspector": {
   "cols": {
    "lenName": 16,
    "lenType": 16,
    "lenVar": 40
   },
   "kernels_config": {
    "python": {
     "delete_cmd_postfix": "",
     "delete_cmd_prefix": "del ",
     "library": "var_list.py",
     "varRefreshCmd": "print(var_dic_list())"
    },
    "r": {
     "delete_cmd_postfix": ") ",
     "delete_cmd_prefix": "rm(",
     "library": "var_list.r",
     "varRefreshCmd": "cat(var_dic_list()) "
    }
   },
   "types_to_exclude": [
    "module",
    "function",
    "builtin_function_or_method",
    "instance",
    "_Feature"
   ],
   "window_display": false
  }
 },
 "nbformat": 4,
 "nbformat_minor": 4
}
